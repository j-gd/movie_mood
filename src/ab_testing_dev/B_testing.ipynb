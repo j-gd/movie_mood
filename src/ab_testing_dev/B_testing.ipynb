{
 "cells": [
  {
   "cell_type": "markdown",
   "metadata": {},
   "source": [
    "# Hypothesis to test:\n",
    "### Removing objective sentences from reviews helps predict star rating from reviews"
   ]
  },
  {
   "cell_type": "code",
   "execution_count": 1,
   "metadata": {},
   "outputs": [],
   "source": [
    "import numpy as np\n",
    "import pandas as pd\n",
    "import pickle\n",
    "import gzip\n",
    "import math\n",
    "import random\n",
    "from IPython.display import Markdown, display\n",
    "from sklearn.feature_extraction.text import TfidfVectorizer\n",
    "from sklearn.model_selection import train_test_split, GridSearchCV\n",
    "from sklearn.ensemble import GradientBoostingRegressor, \\\n",
    "GradientBoostingClassifier, RandomForestClassifier\n",
    "from sklearn.linear_model import LogisticRegression\n",
    "from sklearn.pipeline import Pipeline\n",
    "from sklearn.linear_model import SGDClassifier\n",
    "from sklearn.metrics import accuracy_score, confusion_matrix, \\\n",
    "classification_report, make_scorer\n",
    "import statsmodels.api as sm"
   ]
  },
  {
   "cell_type": "code",
   "execution_count": 2,
   "metadata": {},
   "outputs": [],
   "source": [
    "import sys\n",
    "sys.path.append('..')"
   ]
  },
  {
   "cell_type": "code",
   "execution_count": 3,
   "metadata": {},
   "outputs": [],
   "source": [
    "# From this project\n",
    "from utils import rmse, rmse_train_cv, classifier_report, confusion_rmse\n",
    "from NLP import WordBag, AboutMovie\n",
    "from subjective_filter import SubjectiveFilter\n",
    "\n",
    "# Avoid restarting Kernel\n",
    "%load_ext autoreload\n",
    "%autoreload 2\n",
    "\n",
    "pd.set_option('display.max_colwidth', -1)\n",
    "\n",
    "# %autosave 50"
   ]
  },
  {
   "cell_type": "markdown",
   "metadata": {},
   "source": [
    "## Configuration"
   ]
  },
  {
   "cell_type": "code",
   "execution_count": 7,
   "metadata": {},
   "outputs": [],
   "source": [
    "# Subsampling from Amazon reviews\n",
    "NB_SAMPLES = 360000 #4000  # up to 200k, then change the input file\n",
    "SAMPLE_FRACTION = 0.1\n",
    "CASES = ['A']\n",
    "\n",
    "data_path = '../../../datasets/'\n"
   ]
  },
  {
   "cell_type": "markdown",
   "metadata": {},
   "source": [
    "## Get users' positive and negative reviews"
   ]
  },
  {
   "cell_type": "code",
   "execution_count": 5,
   "metadata": {},
   "outputs": [],
   "source": [
    "# file_name = '360000_balanced_train_test_reviews.pkl'\n",
    "file_name = '_balanced_pos_neg_train_test_reviews.pkl'"
   ]
  },
  {
   "cell_type": "code",
   "execution_count": 6,
   "metadata": {},
   "outputs": [],
   "source": [
    "pickle_in = open(data_path + str(NB_SAMPLES) + file_name,\"rb\")\n",
    "train_test_dic0 = pickle.load(pickle_in)"
   ]
  },
  {
   "cell_type": "markdown",
   "metadata": {},
   "source": [
    "## Subsample"
   ]
  },
  {
   "cell_type": "code",
   "execution_count": 8,
   "metadata": {},
   "outputs": [],
   "source": [
    "train_test_dic = {'train': {}, 'test':{}}"
   ]
  },
  {
   "cell_type": "code",
   "execution_count": 9,
   "metadata": {},
   "outputs": [],
   "source": [
    "for i in ['train','test']:\n",
    "    for j in ['positive','negative']:\n",
    "         train_test_dic[i][j] = train_test_dic0[i][j] \\\n",
    "            .iloc[:math.floor(len(train_test_dic0[i][j].index) * SAMPLE_FRACTION), :] \\\n",
    "            .drop(['reviewerName', 'helpful', 'summary', 'unixReviewTime', 'reviewTime'], axis=1)\n",
    "            "
   ]
  },
  {
   "cell_type": "markdown",
   "metadata": {},
   "source": [
    "## Create Train-CV and Test sets"
   ]
  },
  {
   "cell_type": "code",
   "execution_count": 10,
   "metadata": {},
   "outputs": [],
   "source": [
    "reviews = {}\n",
    "y = {}\n",
    "for i in ['train','test']:\n",
    "    reviews[i] = pd.concat([train_test_dic[i]['positive'],\n",
    "                     train_test_dic[i]['negative']]).reset_index(drop=True)\n",
    "#     y[i] = np.concatenate([np.ones((train_test_dic[i]['positive'].shape[0],)), \n",
    "#                           np.zeros((train_test_dic[i]['negative'].shape[0],))])"
   ]
  },
  {
   "cell_type": "code",
   "execution_count": 11,
   "metadata": {},
   "outputs": [],
   "source": [
    "def info0(dic, nb_lines=2):\n",
    "    for i in ['train','test']:\n",
    "        display(Markdown('#### {}:'.format(i)))\n",
    "        print(dic[i].shape)\n",
    "        display(dic[i].head(nb_lines))"
   ]
  },
  {
   "cell_type": "code",
   "execution_count": 12,
   "metadata": {},
   "outputs": [
    {
     "data": {
      "text/markdown": [
       "#### train:"
      ],
      "text/plain": [
       "<IPython.core.display.Markdown object>"
      ]
     },
     "metadata": {},
     "output_type": "display_data"
    },
    {
     "name": "stdout",
     "output_type": "stream",
     "text": [
      "(28800, 4)\n"
     ]
    },
    {
     "data": {
      "text/html": [
       "<div>\n",
       "<style scoped>\n",
       "    .dataframe tbody tr th:only-of-type {\n",
       "        vertical-align: middle;\n",
       "    }\n",
       "\n",
       "    .dataframe tbody tr th {\n",
       "        vertical-align: top;\n",
       "    }\n",
       "\n",
       "    .dataframe thead th {\n",
       "        text-align: right;\n",
       "    }\n",
       "</style>\n",
       "<table border=\"1\" class=\"dataframe\">\n",
       "  <thead>\n",
       "    <tr style=\"text-align: right;\">\n",
       "      <th></th>\n",
       "      <th>reviewerID</th>\n",
       "      <th>asin</th>\n",
       "      <th>reviewText</th>\n",
       "      <th>overall</th>\n",
       "    </tr>\n",
       "  </thead>\n",
       "  <tbody>\n",
       "    <tr>\n",
       "      <th>0</th>\n",
       "      <td>A32244V7CQUBD6</td>\n",
       "      <td>B00005QFEK</td>\n",
       "      <td>This video actually focuses mostly on one of the characters that Emmanuelle (Krista Allen) is trying to teach about sex &amp; love. It's still pretty entertaining but if you are mostly interested in Kirsta Allen then you should know that she's not really in much of this episode.</td>\n",
       "      <td>4.0</td>\n",
       "    </tr>\n",
       "    <tr>\n",
       "      <th>1</th>\n",
       "      <td>A32244V7CQUBD6</td>\n",
       "      <td>B00005QFEN</td>\n",
       "      <td>This episode pretty much has Hafron and Emmanuelle teleporting to different parts of the world and &amp;quot;doing it&amp;quot;. There is the continuing plot from an earlier episode of some group on Earth trying to track them down. That's the main reason for Emmanuelle and Hafron to jump to different parts of the world. Otherwise, this episode is mostly sex scenes.</td>\n",
       "      <td>4.0</td>\n",
       "    </tr>\n",
       "  </tbody>\n",
       "</table>\n",
       "</div>"
      ],
      "text/plain": [
       "       reviewerID        asin  \\\n",
       "0  A32244V7CQUBD6  B00005QFEK   \n",
       "1  A32244V7CQUBD6  B00005QFEN   \n",
       "\n",
       "                                                                                                                                                                                                                                                                                                                                                                reviewText  \\\n",
       "0  This video actually focuses mostly on one of the characters that Emmanuelle (Krista Allen) is trying to teach about sex & love. It's still pretty entertaining but if you are mostly interested in Kirsta Allen then you should know that she's not really in much of this episode.                                                                                       \n",
       "1  This episode pretty much has Hafron and Emmanuelle teleporting to different parts of the world and &quot;doing it&quot;. There is the continuing plot from an earlier episode of some group on Earth trying to track them down. That's the main reason for Emmanuelle and Hafron to jump to different parts of the world. Otherwise, this episode is mostly sex scenes.   \n",
       "\n",
       "   overall  \n",
       "0  4.0      \n",
       "1  4.0      "
      ]
     },
     "metadata": {},
     "output_type": "display_data"
    },
    {
     "data": {
      "text/markdown": [
       "#### test:"
      ],
      "text/plain": [
       "<IPython.core.display.Markdown object>"
      ]
     },
     "metadata": {},
     "output_type": "display_data"
    },
    {
     "name": "stdout",
     "output_type": "stream",
     "text": [
      "(7200, 4)\n"
     ]
    },
    {
     "data": {
      "text/html": [
       "<div>\n",
       "<style scoped>\n",
       "    .dataframe tbody tr th:only-of-type {\n",
       "        vertical-align: middle;\n",
       "    }\n",
       "\n",
       "    .dataframe tbody tr th {\n",
       "        vertical-align: top;\n",
       "    }\n",
       "\n",
       "    .dataframe thead th {\n",
       "        text-align: right;\n",
       "    }\n",
       "</style>\n",
       "<table border=\"1\" class=\"dataframe\">\n",
       "  <thead>\n",
       "    <tr style=\"text-align: right;\">\n",
       "      <th></th>\n",
       "      <th>reviewerID</th>\n",
       "      <th>asin</th>\n",
       "      <th>reviewText</th>\n",
       "      <th>overall</th>\n",
       "    </tr>\n",
       "  </thead>\n",
       "  <tbody>\n",
       "    <tr>\n",
       "      <th>0</th>\n",
       "      <td>A2D832OA6Q5ZAS</td>\n",
       "      <td>B00005QFFP</td>\n",
       "      <td>What a pleasure to see this peerless diva perform -- she is the purest example of her art that I have ever known. Like a great actress, she dissolves into her role, and yet her voice and style are easily recognizable for the effortless simplicity with which she nails every note and figure. I wish they could have taped in color in those days, and I would have liked to see her perform more examples of the coloratura repertoire and less of the popular romantic themes.  Overall, I am delighted with this video.</td>\n",
       "      <td>4.0</td>\n",
       "    </tr>\n",
       "    <tr>\n",
       "      <th>1</th>\n",
       "      <td>A1JF78EP4GPAOO</td>\n",
       "      <td>B00005QG2N</td>\n",
       "      <td>The concert is fantastic as are the videos and Cradle of Fear trailer. The rest however seems to be uninspired filler. I would have liked this better if it included the Pandaemonaeon music videos and Her Ghost in the Fog. Where was the BBC documentary?</td>\n",
       "      <td>4.0</td>\n",
       "    </tr>\n",
       "  </tbody>\n",
       "</table>\n",
       "</div>"
      ],
      "text/plain": [
       "       reviewerID        asin  \\\n",
       "0  A2D832OA6Q5ZAS  B00005QFFP   \n",
       "1  A1JF78EP4GPAOO  B00005QG2N   \n",
       "\n",
       "                                                                                                                                                                                                                                                                                                                                                                                                                                                                                                                        reviewText  \\\n",
       "0  What a pleasure to see this peerless diva perform -- she is the purest example of her art that I have ever known. Like a great actress, she dissolves into her role, and yet her voice and style are easily recognizable for the effortless simplicity with which she nails every note and figure. I wish they could have taped in color in those days, and I would have liked to see her perform more examples of the coloratura repertoire and less of the popular romantic themes.  Overall, I am delighted with this video.   \n",
       "1  The concert is fantastic as are the videos and Cradle of Fear trailer. The rest however seems to be uninspired filler. I would have liked this better if it included the Pandaemonaeon music videos and Her Ghost in the Fog. Where was the BBC documentary?                                                                                                                                                                                                                                                                      \n",
       "\n",
       "   overall  \n",
       "0  4.0      \n",
       "1  4.0      "
      ]
     },
     "metadata": {},
     "output_type": "display_data"
    }
   ],
   "source": [
    "info0(reviews)"
   ]
  },
  {
   "cell_type": "markdown",
   "metadata": {},
   "source": [
    "## Remove objective sentences for case B"
   ]
  },
  {
   "cell_type": "code",
   "execution_count": 13,
   "metadata": {},
   "outputs": [],
   "source": [
    "OBJ_THRESHOLD = 0.8"
   ]
  },
  {
   "cell_type": "code",
   "execution_count": 14,
   "metadata": {},
   "outputs": [],
   "source": [
    "%reload_ext autoreload\n",
    "obj_path = '../obj_subj_dev/'\n",
    "fit_obj_tf = obj_path + 'fit_tfidf_vectorizer_for_obj_subj_sentences_classification.pkl'\n",
    "fit_obj_model = obj_path + 'GBC_300_0.5_5_0.88cv.pkl'\n",
    "subj_filter = SubjectiveFilter(fit_obj_tf, fit_obj_model)"
   ]
  },
  {
   "cell_type": "code",
   "execution_count": 15,
   "metadata": {},
   "outputs": [
    {
     "data": {
      "text/markdown": [
       "#### => Removed 26412 (11%) objective sentences"
      ],
      "text/plain": [
       "<IPython.core.display.Markdown object>"
      ]
     },
     "metadata": {},
     "output_type": "display_data"
    },
    {
     "data": {
      "text/markdown": [
       "#### => Removed 130 (0%) reviews with no emotional content"
      ],
      "text/plain": [
       "<IPython.core.display.Markdown object>"
      ]
     },
     "metadata": {},
     "output_type": "display_data"
    },
    {
     "name": "stdout",
     "output_type": "stream",
     "text": [
      "OK! Split-merge match\n"
     ]
    },
    {
     "data": {
      "text/markdown": [
       "##### A few objective sentences removed:"
      ],
      "text/plain": [
       "<IPython.core.display.Markdown object>"
      ]
     },
     "metadata": {},
     "output_type": "display_data"
    },
    {
     "data": {
      "text/html": [
       "<div>\n",
       "<style scoped>\n",
       "    .dataframe tbody tr th:only-of-type {\n",
       "        vertical-align: middle;\n",
       "    }\n",
       "\n",
       "    .dataframe tbody tr th {\n",
       "        vertical-align: top;\n",
       "    }\n",
       "\n",
       "    .dataframe thead th {\n",
       "        text-align: right;\n",
       "    }\n",
       "</style>\n",
       "<table border=\"1\" class=\"dataframe\">\n",
       "  <thead>\n",
       "    <tr style=\"text-align: right;\">\n",
       "      <th></th>\n",
       "      <th>reviewerID</th>\n",
       "      <th>asin</th>\n",
       "      <th>overall</th>\n",
       "      <th>sentence</th>\n",
       "    </tr>\n",
       "  </thead>\n",
       "  <tbody>\n",
       "    <tr>\n",
       "      <th>3</th>\n",
       "      <td>A33P47VEH0YULL</td>\n",
       "      <td>B00005QG2N</td>\n",
       "      <td>4.0</td>\n",
       "      <td>A well put together DVD for the \"Stinkiest band\" in the world.</td>\n",
       "    </tr>\n",
       "    <tr>\n",
       "      <th>18</th>\n",
       "      <td>A20EEWWSFMZ1PN</td>\n",
       "      <td>B00005QIVV</td>\n",
       "      <td>4.0</td>\n",
       "      <td>Based on Hugh Wiley's inscrutable Oriental detective Mr. Wong, Boris Karloff is called upon by his detective friend to solve the murder of undercover detective Dan O'Grady that includes smuggling.</td>\n",
       "    </tr>\n",
       "    <tr>\n",
       "      <th>21</th>\n",
       "      <td>A3NKLBL5XYHRH1</td>\n",
       "      <td>B00005QJHJ</td>\n",
       "      <td>4.0</td>\n",
       "      <td>This concert shows Bonnie's versatility as a performer, from her brand of country-rock to blues to pure vocalist.</td>\n",
       "    </tr>\n",
       "  </tbody>\n",
       "</table>\n",
       "</div>"
      ],
      "text/plain": [
       "        reviewerID        asin  overall  \\\n",
       "3   A33P47VEH0YULL  B00005QG2N  4.0       \n",
       "18  A20EEWWSFMZ1PN  B00005QIVV  4.0       \n",
       "21  A3NKLBL5XYHRH1  B00005QJHJ  4.0       \n",
       "\n",
       "                                                                                                                                                                                                sentence  \n",
       "3   A well put together DVD for the \"Stinkiest band\" in the world.                                                                                                                                        \n",
       "18  Based on Hugh Wiley's inscrutable Oriental detective Mr. Wong, Boris Karloff is called upon by his detective friend to solve the murder of undercover detective Dan O'Grady that includes smuggling.  \n",
       "21  This concert shows Bonnie's versatility as a performer, from her brand of country-rock to blues to pure vocalist.                                                                                     "
      ]
     },
     "metadata": {},
     "output_type": "display_data"
    },
    {
     "data": {
      "text/markdown": [
       "#### => Removed 7015 (12%) objective sentences"
      ],
      "text/plain": [
       "<IPython.core.display.Markdown object>"
      ]
     },
     "metadata": {},
     "output_type": "display_data"
    },
    {
     "data": {
      "text/markdown": [
       "#### => Removed 24 (0%) reviews with no emotional content"
      ],
      "text/plain": [
       "<IPython.core.display.Markdown object>"
      ]
     },
     "metadata": {},
     "output_type": "display_data"
    },
    {
     "name": "stdout",
     "output_type": "stream",
     "text": [
      "OK! Split-merge match\n"
     ]
    },
    {
     "data": {
      "text/markdown": [
       "##### A few objective sentences removed:"
      ],
      "text/plain": [
       "<IPython.core.display.Markdown object>"
      ]
     },
     "metadata": {},
     "output_type": "display_data"
    },
    {
     "data": {
      "text/html": [
       "<div>\n",
       "<style scoped>\n",
       "    .dataframe tbody tr th:only-of-type {\n",
       "        vertical-align: middle;\n",
       "    }\n",
       "\n",
       "    .dataframe tbody tr th {\n",
       "        vertical-align: top;\n",
       "    }\n",
       "\n",
       "    .dataframe thead th {\n",
       "        text-align: right;\n",
       "    }\n",
       "</style>\n",
       "<table border=\"1\" class=\"dataframe\">\n",
       "  <thead>\n",
       "    <tr style=\"text-align: right;\">\n",
       "      <th></th>\n",
       "      <th>reviewerID</th>\n",
       "      <th>asin</th>\n",
       "      <th>overall</th>\n",
       "      <th>sentence</th>\n",
       "    </tr>\n",
       "  </thead>\n",
       "  <tbody>\n",
       "    <tr>\n",
       "      <th>0</th>\n",
       "      <td>A2D832OA6Q5ZAS</td>\n",
       "      <td>B00005QFFP</td>\n",
       "      <td>4.0</td>\n",
       "      <td>What a pleasure to see this peerless diva perform -- she is the purest example of her art that I have ever known.</td>\n",
       "    </tr>\n",
       "    <tr>\n",
       "      <th>1</th>\n",
       "      <td>A1JF78EP4GPAOO</td>\n",
       "      <td>B00005QG2N</td>\n",
       "      <td>4.0</td>\n",
       "      <td>The concert is fantastic as are the videos and Cradle of Fear trailer.</td>\n",
       "    </tr>\n",
       "    <tr>\n",
       "      <th>3</th>\n",
       "      <td>AINEXVPR5094O</td>\n",
       "      <td>B00005QIVM</td>\n",
       "      <td>4.0</td>\n",
       "      <td>storyline: eking cheng is like former gang boss that retired and is now restaurant worker or somthjing...his gf turns into a gangsta re[prsentin...so she tries to bring him back to thegangsta world...pretty ok action...</td>\n",
       "    </tr>\n",
       "  </tbody>\n",
       "</table>\n",
       "</div>"
      ],
      "text/plain": [
       "       reviewerID        asin  overall  \\\n",
       "0  A2D832OA6Q5ZAS  B00005QFFP  4.0       \n",
       "1  A1JF78EP4GPAOO  B00005QG2N  4.0       \n",
       "3  AINEXVPR5094O   B00005QIVM  4.0       \n",
       "\n",
       "                                                                                                                                                                                                                      sentence  \n",
       "0  What a pleasure to see this peerless diva perform -- she is the purest example of her art that I have ever known.                                                                                                            \n",
       "1  The concert is fantastic as are the videos and Cradle of Fear trailer.                                                                                                                                                       \n",
       "3  storyline: eking cheng is like former gang boss that retired and is now restaurant worker or somthjing...his gf turns into a gangsta re[prsentin...so she tries to bring him back to thegangsta world...pretty ok action...  "
      ]
     },
     "metadata": {},
     "output_type": "display_data"
    }
   ],
   "source": [
    "if 'A' in CASES:\n",
    "    abtest['A'] = {\n",
    "            'train': {\n",
    "                'reviews_df': reviews['train']\n",
    "            },\n",
    "            'test': {\n",
    "                'reviews_df': reviews['test']\n",
    "            }\n",
    "        }\n",
    "\n",
    "if 'B' in CASES:\n",
    "    'B': {\n",
    "        'train': {\n",
    "            'reviews_df': subj_filter.transform(reviews['train'],'reviewText', \n",
    "                                        threshold=OBJ_THRESHOLD,\n",
    "                                        debug_level=2)\n",
    "                                    .rename(columns={\"sentence\": \"reviewText\"}),\n",
    "        },\n",
    "        'test': {\n",
    "            'reviews_df': subj_filter.transform(reviews['test'],'reviewText',\n",
    "                                        threshold=OBJ_THRESHOLD,\n",
    "                                        debug_level=2)\n",
    "                                    .rename(columns={\"sentence\": \"reviewText\"}),\n",
    "        }\n",
    "    }"
   ]
  },
  {
   "cell_type": "code",
   "execution_count": 16,
   "metadata": {},
   "outputs": [],
   "source": [
    "# res = subj_filter.transform(test_reviews.iloc[:200,:],'reviewText', debug_level=10)"
   ]
  },
  {
   "cell_type": "code",
   "execution_count": 17,
   "metadata": {},
   "outputs": [
    {
     "name": "stdout",
     "output_type": "stream",
     "text": [
      "(7200, 5)\n"
     ]
    },
    {
     "data": {
      "text/html": [
       "<div>\n",
       "<style scoped>\n",
       "    .dataframe tbody tr th:only-of-type {\n",
       "        vertical-align: middle;\n",
       "    }\n",
       "\n",
       "    .dataframe tbody tr th {\n",
       "        vertical-align: top;\n",
       "    }\n",
       "\n",
       "    .dataframe thead th {\n",
       "        text-align: right;\n",
       "    }\n",
       "</style>\n",
       "<table border=\"1\" class=\"dataframe\">\n",
       "  <thead>\n",
       "    <tr style=\"text-align: right;\">\n",
       "      <th></th>\n",
       "      <th>reviewerID</th>\n",
       "      <th>asin</th>\n",
       "      <th>reviewText</th>\n",
       "      <th>overall</th>\n",
       "      <th>sentence</th>\n",
       "    </tr>\n",
       "  </thead>\n",
       "  <tbody>\n",
       "    <tr>\n",
       "      <th>0</th>\n",
       "      <td>A2D832OA6Q5ZAS</td>\n",
       "      <td>B00005QFFP</td>\n",
       "      <td>What a pleasure to see this peerless diva perform -- she is the purest example of her art that I have ever known. Like a great actress, she dissolves into her role, and yet her voice and style are easily recognizable for the effortless simplicity with which she nails every note and figure. I wish they could have taped in color in those days, and I would have liked to see her perform more examples of the coloratura repertoire and less of the popular romantic themes.  Overall, I am delighted with this video.</td>\n",
       "      <td>4.0</td>\n",
       "      <td>[What a pleasure to see this peerless diva perform -- she is the purest example of her art that I have ever known., Like a great actress, she dissolves into her role, and yet her voice and style are easily recognizable for the effortless simplicity with which she nails every note and figure., I wish they could have taped in color in those days, and I would have liked to see her perform more examples of the coloratura repertoire and less of the popular romantic themes., Overall, I am delighted with this video.]</td>\n",
       "    </tr>\n",
       "    <tr>\n",
       "      <th>1</th>\n",
       "      <td>A1JF78EP4GPAOO</td>\n",
       "      <td>B00005QG2N</td>\n",
       "      <td>The concert is fantastic as are the videos and Cradle of Fear trailer. The rest however seems to be uninspired filler. I would have liked this better if it included the Pandaemonaeon music videos and Her Ghost in the Fog. Where was the BBC documentary?</td>\n",
       "      <td>4.0</td>\n",
       "      <td>[The concert is fantastic as are the videos and Cradle of Fear trailer., The rest however seems to be uninspired filler., I would have liked this better if it included the Pandaemonaeon music videos and Her Ghost in the Fog., Where was the BBC documentary?]</td>\n",
       "    </tr>\n",
       "  </tbody>\n",
       "</table>\n",
       "</div>"
      ],
      "text/plain": [
       "       reviewerID        asin  \\\n",
       "0  A2D832OA6Q5ZAS  B00005QFFP   \n",
       "1  A1JF78EP4GPAOO  B00005QG2N   \n",
       "\n",
       "                                                                                                                                                                                                                                                                                                                                                                                                                                                                                                                        reviewText  \\\n",
       "0  What a pleasure to see this peerless diva perform -- she is the purest example of her art that I have ever known. Like a great actress, she dissolves into her role, and yet her voice and style are easily recognizable for the effortless simplicity with which she nails every note and figure. I wish they could have taped in color in those days, and I would have liked to see her perform more examples of the coloratura repertoire and less of the popular romantic themes.  Overall, I am delighted with this video.   \n",
       "1  The concert is fantastic as are the videos and Cradle of Fear trailer. The rest however seems to be uninspired filler. I would have liked this better if it included the Pandaemonaeon music videos and Her Ghost in the Fog. Where was the BBC documentary?                                                                                                                                                                                                                                                                      \n",
       "\n",
       "   overall  \\\n",
       "0  4.0       \n",
       "1  4.0       \n",
       "\n",
       "                                                                                                                                                                                                                                                                                                                                                                                                                                                                                                                              sentence  \n",
       "0  [What a pleasure to see this peerless diva perform -- she is the purest example of her art that I have ever known., Like a great actress, she dissolves into her role, and yet her voice and style are easily recognizable for the effortless simplicity with which she nails every note and figure., I wish they could have taped in color in those days, and I would have liked to see her perform more examples of the coloratura repertoire and less of the popular romantic themes., Overall, I am delighted with this video.]  \n",
       "1  [The concert is fantastic as are the videos and Cradle of Fear trailer., The rest however seems to be uninspired filler., I would have liked this better if it included the Pandaemonaeon music videos and Her Ghost in the Fog., Where was the BBC documentary?]                                                                                                                                                                                                                                                                    "
      ]
     },
     "metadata": {},
     "output_type": "display_data"
    },
    {
     "name": "stdout",
     "output_type": "stream",
     "text": [
      "(7176, 4)\n"
     ]
    },
    {
     "data": {
      "text/html": [
       "<div>\n",
       "<style scoped>\n",
       "    .dataframe tbody tr th:only-of-type {\n",
       "        vertical-align: middle;\n",
       "    }\n",
       "\n",
       "    .dataframe tbody tr th {\n",
       "        vertical-align: top;\n",
       "    }\n",
       "\n",
       "    .dataframe thead th {\n",
       "        text-align: right;\n",
       "    }\n",
       "</style>\n",
       "<table border=\"1\" class=\"dataframe\">\n",
       "  <thead>\n",
       "    <tr style=\"text-align: right;\">\n",
       "      <th></th>\n",
       "      <th>reviewerID</th>\n",
       "      <th>asin</th>\n",
       "      <th>reviewText</th>\n",
       "      <th>overall</th>\n",
       "    </tr>\n",
       "  </thead>\n",
       "  <tbody>\n",
       "    <tr>\n",
       "      <th>0</th>\n",
       "      <td>A03950922R6OEJTOJ49IY</td>\n",
       "      <td>B000063TQS</td>\n",
       "      <td>Was a great gift for my wife. Not really my show but I've watched a few and it is humorous. Was a great gift for my wife.  Not really my show but I've watched a few and it is humorous.</td>\n",
       "      <td>4.0</td>\n",
       "    </tr>\n",
       "    <tr>\n",
       "      <th>1</th>\n",
       "      <td>A08280701W5RIXUPR6BZT</td>\n",
       "      <td>6304107641</td>\n",
       "      <td>I never gotr it and Amazon still charged me for it and then declined my card and now what do i think i think this whole thing stinks and i want my money back I never gotr it and Amazon still charged me for it and then declined my card and now what do i think i think this whole thing stinks and i want my money back</td>\n",
       "      <td>1.0</td>\n",
       "    </tr>\n",
       "  </tbody>\n",
       "</table>\n",
       "</div>"
      ],
      "text/plain": [
       "              reviewerID        asin  \\\n",
       "0  A03950922R6OEJTOJ49IY  B000063TQS   \n",
       "1  A08280701W5RIXUPR6BZT  6304107641   \n",
       "\n",
       "                                                                                                                                                                                                                                                                                                                     reviewText  \\\n",
       "0   Was a great gift for my wife. Not really my show but I've watched a few and it is humorous. Was a great gift for my wife.  Not really my show but I've watched a few and it is humorous.                                                                                                                                      \n",
       "1   I never gotr it and Amazon still charged me for it and then declined my card and now what do i think i think this whole thing stinks and i want my money back I never gotr it and Amazon still charged me for it and then declined my card and now what do i think i think this whole thing stinks and i want my money back   \n",
       "\n",
       "   overall  \n",
       "0  4.0      \n",
       "1  1.0      "
      ]
     },
     "metadata": {},
     "output_type": "display_data"
    }
   ],
   "source": [
    "def info(ab, train_test, df, nb_lines=3):\n",
    "    print(abtest[ab][train_test][df].shape)\n",
    "    display(abtest[ab][train_test][df].head(nb_lines))\n",
    "info('A','test','reviews_df', 2)\n",
    "info('B','test','reviews_df', 2)"
   ]
  },
  {
   "cell_type": "markdown",
   "metadata": {},
   "source": [
    "## Create bag of words\n",
    "Remove accents  \n",
    "Tokenize  \n",
    "Lower the case  \n",
    "Apply custom stop words (keep all negations)  \n",
    "Remove all non alphabetic characters  \n",
    "Lematize  \n",
    " \n",
    "Output:  \n",
    "One list of words for each review "
   ]
  },
  {
   "cell_type": "code",
   "execution_count": 18,
   "metadata": {},
   "outputs": [],
   "source": [
    "abtest.pop('y', None)"
   ]
  },
  {
   "cell_type": "code",
   "execution_count": 19,
   "metadata": {},
   "outputs": [],
   "source": [
    "word_bag = WordBag()\n",
    "for train_test_dico in abtest.values():\n",
    "    for dico in train_test_dico.values():\n",
    "        # print(dico['reviews_df'].keys())\n",
    "        dico['reviews_df']['word_bag'] = word_bag.create_word_bag(\n",
    "            dico['reviews_df']['reviewText'], \n",
    "            remove_stop_words=True, \n",
    "            lemmatize=True)"
   ]
  },
  {
   "cell_type": "code",
   "execution_count": 20,
   "metadata": {},
   "outputs": [
    {
     "name": "stdout",
     "output_type": "stream",
     "text": [
      "(7200, 6)\n"
     ]
    },
    {
     "data": {
      "text/html": [
       "<div>\n",
       "<style scoped>\n",
       "    .dataframe tbody tr th:only-of-type {\n",
       "        vertical-align: middle;\n",
       "    }\n",
       "\n",
       "    .dataframe tbody tr th {\n",
       "        vertical-align: top;\n",
       "    }\n",
       "\n",
       "    .dataframe thead th {\n",
       "        text-align: right;\n",
       "    }\n",
       "</style>\n",
       "<table border=\"1\" class=\"dataframe\">\n",
       "  <thead>\n",
       "    <tr style=\"text-align: right;\">\n",
       "      <th></th>\n",
       "      <th>reviewerID</th>\n",
       "      <th>asin</th>\n",
       "      <th>reviewText</th>\n",
       "      <th>overall</th>\n",
       "      <th>sentence</th>\n",
       "      <th>word_bag</th>\n",
       "    </tr>\n",
       "  </thead>\n",
       "  <tbody>\n",
       "    <tr>\n",
       "      <th>0</th>\n",
       "      <td>A2D832OA6Q5ZAS</td>\n",
       "      <td>B00005QFFP</td>\n",
       "      <td>What a pleasure to see this peerless diva perform -- she is the purest example of her art that I have ever known. Like a great actress, she dissolves into her role, and yet her voice and style are easily recognizable for the effortless simplicity with which she nails every note and figure. I wish they could have taped in color in those days, and I would have liked to see her perform more examples of the coloratura repertoire and less of the popular romantic themes.  Overall, I am delighted with this video.</td>\n",
       "      <td>4.0</td>\n",
       "      <td>[What a pleasure to see this peerless diva perform -- she is the purest example of her art that I have ever known., Like a great actress, she dissolves into her role, and yet her voice and style are easily recognizable for the effortless simplicity with which she nails every note and figure., I wish they could have taped in color in those days, and I would have liked to see her perform more examples of the coloratura repertoire and less of the popular romantic themes., Overall, I am delighted with this video.]</td>\n",
       "      <td>[pleasure, see, peerless, diva, perform, purest, example, art, ever, known, like, great, actress, dissolve, role, and, yet, voice, and, style, easily, recognizable, effortless, simplicity, nail, every, note, and, figure, wish, could, taped, color, day, and, would, liked, see, perform, more, example, coloratura, repertoire, and, le, popular, romantic, theme, overall, delighted, video]</td>\n",
       "    </tr>\n",
       "  </tbody>\n",
       "</table>\n",
       "</div>"
      ],
      "text/plain": [
       "       reviewerID        asin  \\\n",
       "0  A2D832OA6Q5ZAS  B00005QFFP   \n",
       "\n",
       "                                                                                                                                                                                                                                                                                                                                                                                                                                                                                                                        reviewText  \\\n",
       "0  What a pleasure to see this peerless diva perform -- she is the purest example of her art that I have ever known. Like a great actress, she dissolves into her role, and yet her voice and style are easily recognizable for the effortless simplicity with which she nails every note and figure. I wish they could have taped in color in those days, and I would have liked to see her perform more examples of the coloratura repertoire and less of the popular romantic themes.  Overall, I am delighted with this video.   \n",
       "\n",
       "   overall  \\\n",
       "0  4.0       \n",
       "\n",
       "                                                                                                                                                                                                                                                                                                                                                                                                                                                                                                                              sentence  \\\n",
       "0  [What a pleasure to see this peerless diva perform -- she is the purest example of her art that I have ever known., Like a great actress, she dissolves into her role, and yet her voice and style are easily recognizable for the effortless simplicity with which she nails every note and figure., I wish they could have taped in color in those days, and I would have liked to see her perform more examples of the coloratura repertoire and less of the popular romantic themes., Overall, I am delighted with this video.]   \n",
       "\n",
       "                                                                                                                                                                                                                                                                                                                                                                                             word_bag  \n",
       "0  [pleasure, see, peerless, diva, perform, purest, example, art, ever, known, like, great, actress, dissolve, role, and, yet, voice, and, style, easily, recognizable, effortless, simplicity, nail, every, note, and, figure, wish, could, taped, color, day, and, would, liked, see, perform, more, example, coloratura, repertoire, and, le, popular, romantic, theme, overall, delighted, video]  "
      ]
     },
     "metadata": {},
     "output_type": "display_data"
    }
   ],
   "source": [
    "info('A','test','reviews_df', 1)\n",
    "# info('B','test','reviews_df', 2)"
   ]
  },
  {
   "cell_type": "code",
   "execution_count": 21,
   "metadata": {},
   "outputs": [],
   "source": [
    "# %reload_ext autoreload\n",
    "# word_bag = WordBag()\n",
    "\n",
    "# for i in ['train','test']:\n",
    "#     for j in ['positive','negative']:\n",
    "#         train_test_dic[i][j]['words'] = \\\n",
    "#             word_bag.create(train_test_dic[i][j]['reviewText'])"
   ]
  },
  {
   "cell_type": "markdown",
   "metadata": {},
   "source": [
    "## Remove reviews that may not be on the movie, but on Amazon/support instead\n",
    "Input: \n",
    "* word tokens \n",
    "* one line per review "
   ]
  },
  {
   "cell_type": "code",
   "execution_count": 22,
   "metadata": {},
   "outputs": [],
   "source": [
    "%reload_ext autoreload\n",
    "about_movie = AboutMovie()\n",
    "\n",
    "for train_test_dico in abtest.values():\n",
    "    for dico in train_test_dico.values():\n",
    "        dico['movie_reviews'] = dico['reviews_df'][[about_movie.check(words) \\\n",
    "                                for words in dico['reviews_df']['word_bag']]]\n",
    "        "
   ]
  },
  {
   "cell_type": "code",
   "execution_count": 23,
   "metadata": {},
   "outputs": [
    {
     "name": "stdout",
     "output_type": "stream",
     "text": [
      "(5083, 6)\n"
     ]
    },
    {
     "data": {
      "text/html": [
       "<div>\n",
       "<style scoped>\n",
       "    .dataframe tbody tr th:only-of-type {\n",
       "        vertical-align: middle;\n",
       "    }\n",
       "\n",
       "    .dataframe tbody tr th {\n",
       "        vertical-align: top;\n",
       "    }\n",
       "\n",
       "    .dataframe thead th {\n",
       "        text-align: right;\n",
       "    }\n",
       "</style>\n",
       "<table border=\"1\" class=\"dataframe\">\n",
       "  <thead>\n",
       "    <tr style=\"text-align: right;\">\n",
       "      <th></th>\n",
       "      <th>reviewerID</th>\n",
       "      <th>asin</th>\n",
       "      <th>reviewText</th>\n",
       "      <th>overall</th>\n",
       "      <th>sentence</th>\n",
       "      <th>word_bag</th>\n",
       "    </tr>\n",
       "  </thead>\n",
       "  <tbody>\n",
       "    <tr>\n",
       "      <th>0</th>\n",
       "      <td>A2D832OA6Q5ZAS</td>\n",
       "      <td>B00005QFFP</td>\n",
       "      <td>What a pleasure to see this peerless diva perform -- she is the purest example of her art that I have ever known. Like a great actress, she dissolves into her role, and yet her voice and style are easily recognizable for the effortless simplicity with which she nails every note and figure. I wish they could have taped in color in those days, and I would have liked to see her perform more examples of the coloratura repertoire and less of the popular romantic themes.  Overall, I am delighted with this video.</td>\n",
       "      <td>4.0</td>\n",
       "      <td>[What a pleasure to see this peerless diva perform -- she is the purest example of her art that I have ever known., Like a great actress, she dissolves into her role, and yet her voice and style are easily recognizable for the effortless simplicity with which she nails every note and figure., I wish they could have taped in color in those days, and I would have liked to see her perform more examples of the coloratura repertoire and less of the popular romantic themes., Overall, I am delighted with this video.]</td>\n",
       "      <td>[pleasure, see, peerless, diva, perform, purest, example, art, ever, known, like, great, actress, dissolve, role, and, yet, voice, and, style, easily, recognizable, effortless, simplicity, nail, every, note, and, figure, wish, could, taped, color, day, and, would, liked, see, perform, more, example, coloratura, repertoire, and, le, popular, romantic, theme, overall, delighted, video]</td>\n",
       "    </tr>\n",
       "  </tbody>\n",
       "</table>\n",
       "</div>"
      ],
      "text/plain": [
       "       reviewerID        asin  \\\n",
       "0  A2D832OA6Q5ZAS  B00005QFFP   \n",
       "\n",
       "                                                                                                                                                                                                                                                                                                                                                                                                                                                                                                                        reviewText  \\\n",
       "0  What a pleasure to see this peerless diva perform -- she is the purest example of her art that I have ever known. Like a great actress, she dissolves into her role, and yet her voice and style are easily recognizable for the effortless simplicity with which she nails every note and figure. I wish they could have taped in color in those days, and I would have liked to see her perform more examples of the coloratura repertoire and less of the popular romantic themes.  Overall, I am delighted with this video.   \n",
       "\n",
       "   overall  \\\n",
       "0  4.0       \n",
       "\n",
       "                                                                                                                                                                                                                                                                                                                                                                                                                                                                                                                              sentence  \\\n",
       "0  [What a pleasure to see this peerless diva perform -- she is the purest example of her art that I have ever known., Like a great actress, she dissolves into her role, and yet her voice and style are easily recognizable for the effortless simplicity with which she nails every note and figure., I wish they could have taped in color in those days, and I would have liked to see her perform more examples of the coloratura repertoire and less of the popular romantic themes., Overall, I am delighted with this video.]   \n",
       "\n",
       "                                                                                                                                                                                                                                                                                                                                                                                             word_bag  \n",
       "0  [pleasure, see, peerless, diva, perform, purest, example, art, ever, known, like, great, actress, dissolve, role, and, yet, voice, and, style, easily, recognizable, effortless, simplicity, nail, every, note, and, figure, wish, could, taped, color, day, and, would, liked, see, perform, more, example, coloratura, repertoire, and, le, popular, romantic, theme, overall, delighted, video]  "
      ]
     },
     "metadata": {},
     "output_type": "display_data"
    }
   ],
   "source": [
    "info('A','test','movie_reviews', 1)\n",
    "# info('B','test','reviews_df', 2)"
   ]
  },
  {
   "cell_type": "code",
   "execution_count": 24,
   "metadata": {},
   "outputs": [],
   "source": [
    "# %reload_ext autoreload\n",
    "# about_movie = AboutMovie()\n",
    "# movie_reviews = {'train':{}, 'test':{}}\n",
    "# for i in ['train','test']:\n",
    "#     for j in ['positive','negative']:\n",
    "#          movie_reviews[i][j] = train_test_dic[i][j][[about_movie.check(words) \\\n",
    "#                                                     for words in train_test_dic[i][j]['words']]]"
   ]
  },
  {
   "cell_type": "code",
   "execution_count": 25,
   "metadata": {
    "scrolled": true
   },
   "outputs": [],
   "source": [
    "# train_test_dic['test']['positive'][[not i for i in \\\n",
    "#                                     [about_movie.check(words) for words in train_test_dic[i][j]['words']]]]"
   ]
  },
  {
   "cell_type": "code",
   "execution_count": 26,
   "metadata": {},
   "outputs": [
    {
     "name": "stdout",
     "output_type": "stream",
     "text": [
      "Removed 8420 (29%) train A reviews\n",
      "Removed 2117 (29%) test A reviews\n",
      "Removed 8286 (29%) train B reviews\n",
      "Removed 2098 (29%) test B reviews\n"
     ]
    }
   ],
   "source": [
    "tot_reviews = 0\n",
    "\n",
    "for ab_name, train_test_dico in abtest.items():\n",
    "    for train_test_name, dico in train_test_dico.items():\n",
    "        removed = dico['reviews_df'].shape[0] - dico['movie_reviews'].shape[0]\n",
    "        tot_reviews += dico['reviews_df'].shape[0]\n",
    "        print('Removed {0} ({1:.0%}) {2} {3} reviews'\n",
    "              .format(removed, removed / dico['reviews_df'].shape[0],\n",
    "                      train_test_name, ab_name))\n",
    "        "
   ]
  },
  {
   "cell_type": "code",
   "execution_count": 27,
   "metadata": {},
   "outputs": [],
   "source": [
    "# tot_reviews = 0\n",
    "# for i in ['train','test']:\n",
    "#     for j in ['positive','negative']:\n",
    "#         removed = train_test_dic[i][j].shape[0] - movie_reviews[i][j].shape[0]\n",
    "#         tot_reviews += train_test_dic[i][j].shape[0]\n",
    "#         print('Removed {0} ({1:.0%}) {2} {3} reviews'.format(removed, removed / train_test_dic[i][j].shape[0],\n",
    "#                                                 i, j))"
   ]
  },
  {
   "cell_type": "code",
   "execution_count": 28,
   "metadata": {},
   "outputs": [],
   "source": [
    "# save results\n",
    "import datetime\n",
    "if False:\n",
    "    currentDT = datetime.datetime.now()\n",
    "    for i in ['train','test']:\n",
    "        for j in ['positive','negative']:\n",
    "            train_test_dic[i][j].to_hdf(data_path + currentDT.strftime(\"%Y-%m-%d-%H-%M-%S\") + '_' + \n",
    "                      str(tot_reviews) + '_cleaned_reviews_before_B_' + i + '_' + j + '.pkl'\n",
    "              , key='df', mode='w', complevel=9)"
   ]
  },
  {
   "cell_type": "markdown",
   "metadata": {},
   "source": [
    "### TF-IDF setup"
   ]
  },
  {
   "cell_type": "code",
   "execution_count": 29,
   "metadata": {},
   "outputs": [],
   "source": [
    "MAX_FEATURES = 10000"
   ]
  },
  {
   "cell_type": "code",
   "execution_count": 30,
   "metadata": {},
   "outputs": [],
   "source": [
    "def dummy_fun(doc):\n",
    "    return doc\n",
    "\n",
    "tfidf = TfidfVectorizer(\n",
    "    analyzer='word',       # Feed a list of words to TF-IDF\n",
    "    tokenizer=dummy_fun,\n",
    "    preprocessor=dummy_fun,\n",
    "    token_pattern=None,\n",
    "    lowercase=False, \n",
    "    stop_words=None, \n",
    "    max_features=MAX_FEATURES,\n",
    "    norm='l2',            # normalize each review\n",
    "    use_idf=True)        # Keep high weight for most common words"
   ]
  },
  {
   "cell_type": "code",
   "execution_count": 31,
   "metadata": {},
   "outputs": [],
   "source": [
    "SPARSE = True\n",
    "\n",
    "for ab_dico in abtest.values():\n",
    "    for dico in ab_dico.values():\n",
    "        dico['tf_transform'] = tfidf.fit_transform(dico['movie_reviews']['word_bag'])\n",
    "        if not SPARSE:\n",
    "            dico['tf_transform'] = dico['tf_transform'].todense()"
   ]
  },
  {
   "cell_type": "code",
   "execution_count": 32,
   "metadata": {},
   "outputs": [
    {
     "name": "stdout",
     "output_type": "stream",
     "text": [
      "A\n",
      "-- train\n",
      "     reviews_df\n",
      "     movie_reviews\n",
      "     tf_transform\n",
      "-- test\n",
      "     reviews_df\n",
      "     movie_reviews\n",
      "     tf_transform\n",
      "B\n",
      "-- train\n",
      "     reviews_df\n",
      "     movie_reviews\n",
      "     tf_transform\n",
      "-- test\n",
      "     reviews_df\n",
      "     movie_reviews\n",
      "     tf_transform\n"
     ]
    }
   ],
   "source": [
    "def print_ab():\n",
    "    for abname, ab_dico in abtest.items():\n",
    "        print(abname)\n",
    "        for ttname, tt in ab_dico.items():\n",
    "            print('--',ttname)\n",
    "            if type(tt) == dict:\n",
    "                for key in tt.keys():\n",
    "                    print('    ',key)\n",
    "print_ab()"
   ]
  },
  {
   "cell_type": "code",
   "execution_count": 33,
   "metadata": {},
   "outputs": [
    {
     "name": "stdout",
     "output_type": "stream",
     "text": [
      "(20380, 10000)\n",
      "(5083, 10000)\n",
      "(20384, 10000)\n",
      "(5078, 10000)\n"
     ]
    }
   ],
   "source": [
    "for ab_dico in abtest.values():\n",
    "    for tt in ['train','test']:\n",
    "        print(ab_dico[tt]['tf_transform'].shape)"
   ]
  },
  {
   "cell_type": "code",
   "execution_count": 34,
   "metadata": {},
   "outputs": [],
   "source": [
    "# SPARSE = True\n",
    "\n",
    "# if SPARSE:\n",
    "#     # Optimization: add the review length while keeping sparse matrix\n",
    "#     tf_train = tfidf.fit_transform(train_words)\n",
    "#     tf_test = tfidf.transform(test_words)\n",
    "# else:\n",
    "#     tf_train = tfidf.fit_transform(train_words).todense()\n",
    "#     tf_test = tfidf.transform(test_words).todense()"
   ]
  },
  {
   "cell_type": "code",
   "execution_count": 35,
   "metadata": {},
   "outputs": [],
   "source": [
    "# print(len(tfidf.vocabulary_))\n",
    "# tfidf.vocabulary_"
   ]
  },
  {
   "cell_type": "markdown",
   "metadata": {},
   "source": [
    "## Add review length to modeling input"
   ]
  },
  {
   "cell_type": "code",
   "execution_count": 36,
   "metadata": {},
   "outputs": [],
   "source": [
    "ADD_LENGTH = False\n",
    "\n",
    "# if ADD_LENGTH:\n",
    "#     if SPARSE:\n",
    "#         # Hack: pick an existing word to store the count\n",
    "#         len_idx = 0\n",
    "#         test_lengths = [len(words) for words in test_words]\n",
    "\n",
    "#         for idx,words in enumerate(train_words):\n",
    "#             tf_train[idx][len_idx] = len(words)\n",
    "#         for idx,words in enumerate(test_words):\n",
    "#             tf_test[idx][len_idx] = len(words)\n",
    "#         X_train = tf_train\n",
    "#         X_test = tf_test\n",
    "#     else:\n",
    "#         train_lengths = np.array([len(words) for words in train_words]).reshape(-1,1)\n",
    "#         test_lengths = np.array([len(words) for words in test_words]).reshape(-1,1)\n",
    "#         X_train = np.concatenate([tf_train, train_lengths],axis=1)\n",
    "#         X_test = np.concatenate([tf_test, test_lengths],axis=1)\n"
   ]
  },
  {
   "cell_type": "markdown",
   "metadata": {},
   "source": [
    "## Create and test y"
   ]
  },
  {
   "cell_type": "code",
   "execution_count": 37,
   "metadata": {},
   "outputs": [
    {
     "name": "stdout",
     "output_type": "stream",
     "text": [
      "\n",
      "--------\n",
      "A train 20380\n",
      "                                                                                                                                                                                                                                                                                                                                                                                                                                                                                                                                                                                                                                                                                                                                                                                                                                                                                                                                                                                                                                                                                                     reviewText  \\\n",
      "146  Keira Knightley can bring integrity to any movie, but she especially does so here in this sweet, entertaining flick. She's a shining star on the rise.I'm not usually a big fan of Disney productions but I really liked this, since it was not your typical Disney flick. It was very entertaining and lavishly filmed, set in some absolutely spectacular locations, and starred some really top-notch actors. There were funny moments, sad moments and moments of high action, all nicely interspersed. The only thing I found a tad disappointing was the big fight scene towards the end, since it was a little bit tame and slow, but I accept that because this is a family movie, they couldn't really embrace full-on violence.I was more than satisfied with the slightly non-conventional (for Disney) ending...it ended the way it should, in a somewhat non-predictable way. And I loved the prince, too...he was very charming!Even though this is a family movie, it's intelligently enough written to appeal to mature adults as well, particularly fans of medieval and adventure films.   \n",
      "147  This is a family favorite at my house. We've seen it countless times! Kiera Knightly does an impressive job (at 15, no less). It's free of excessive violence and profanity, making it great for kids! And it has a nice amount of action, making it exciting for the boys. The end has an interesting twist (no I'm not telling!) that isn't exactly expected. Nonetheless, it's a great film that I would recommend to anyone.                                                                                                                                                                                                                                                                                                                                                                                                                                                                                                                                                                                                                                                                             \n",
      "148  the end could of been better put together but over all i like it. the action was good the story line was sweet                                                                                                                                                                                                                                                                                                                                                                                                                                                                                                                                                                                                                                                                                                                                                                                                                                                                                                                                                                                               \n",
      "\n",
      "     overall  \n",
      "146  4.0      \n",
      "147  4.0      \n",
      "148  4.0      \n",
      "146    1.0\n",
      "147    1.0\n",
      "148    1.0\n",
      "Name: overall, dtype: float64\n",
      "\n",
      "--------\n",
      "A test 5083\n",
      "                                                                                                                                                                                                                                                                                                                                                                                                                                                                                                                                                                                                                                                                                                                                                                                                                                                                                      reviewText  \\\n",
      "124  He's right, no nudity, and it looks to be older(I'd say the 90's not the 80s though) The better of the two is SUpermodel Lingerie Contest. Some of the girls are quite cute, the best being a brunette that has one of the top 5 butts I have ever seen, right up there with Jessica Biel!!!! Wish they gave names! Worth what the thing is selling for used these days for sure!                                                                                                                                                                                                                                                                                                                                                                                                                                                                                                             \n",
      "126  Future CHARLIE'S ANGELS Kate Jackson and Cheryl Ladd appeared together over a decade earlier in the made-for-tv movie \"Satan's School For Girls,\" which is featured in the EVIL PLACE 4 MOVIE pack. There's lots more chillingly dark fun to be had here, so do enjoy!If purchasing movies in groups of fours is your thing, then you're sure to also likeHORROR RISES FROM THE GRAVE..The following program list provides 1 to 10 viewer poll ratings for each film, plus years of release and featured performers.(4.5) Don't Look In The Basement (\"The Forgotten\") (1973) - Bill McGhee/Jessie Lee Fulton(6.7) The House On Haunted Hill (1959) - Vincent Price/Carolyn Craig/Richard Long(4.9) Satan's School For Girls (1973) - Kate Jackson/Roy Thinnes/Jo Van Fleet/Cheryl Ladd(5.0) Silent Night, Bloody Night (1974) - Patrick O'Neal/James Patterson/John Carradine (in support)   \n",
      "127  Pretty funny movie. It was odd to see Adam West not in his Batman role.                                                                                                                                                                                                                                                                                                                                                                                                                                                                                                                                                                                                                                                                                                                                                                                                                       \n",
      "\n",
      "     overall  \n",
      "124  4.0      \n",
      "126  4.0      \n",
      "127  4.0      \n",
      "124    1.0\n",
      "126    1.0\n",
      "127    1.0\n",
      "Name: overall, dtype: float64\n",
      "\n",
      "--------\n",
      "B train 20384\n",
      "                                                                                                                                                                                                                                                                                                                                                                                                                                                                                                                                                                                                                                                                                                                                                                                                                                                                                                                                                                                                                                                                                                                                                                                                                                                                                                                                                                                                                       reviewText  \\\n",
      "143   I got to see The Smokers at the New York Independent Film Festival last year and let me tell you, that film kept me thinking for weeks afterwards. I was finally able to get a copy... since the US version was not out yet. The first time I saw it was with my boyfriend, and he just could not relate to the film (perhaps the disturbing subject matter was a little too much for him). It is truly a \"chic flick\". But I have since passed the film around to all my girlfriends and we all unianimously agree that the filmmakers are definitely making a clear statement. BOYS BEWARE!! !Definitely a Cult Classic with a message that must be seen to understand. I got to see The Smokers at the New York Independent Film Festival last year and let me tell you, that film kept me thinking for weeks afterwards.  I was finally able to get a copy... since the US version was not out yet.  The first time I saw it was with my boyfriend, and he just could not relate to the film (perhaps the disturbing subject matter was a little too much for him).  It is truly a \"chic flick\".  But I have since passed the film around to all my girlfriends and we all unianimously agree that the filmmakers are definitely making a clear statement.  BOYS BEWARE!!!Definitely a Cult Classic with a message that must be seen to understand.                                                                       \n",
      "145   Since he's become so popular as Anakin Skywalker(the future Darth Vader) in \"Star Wars Episode II: Attack of the Clones,\" and since he's making a wise move not to be type-cast in the role, Hayden Christensen gives a very believable if not touching performance with this movie. The movie is indeed very touching, and Kline and Christensen have excellent chemistry with their performances. Granted it's not a great film because of its content, but still it is very touching, and uplifting. Congradulations on your performance with this movie Hayden. I'm sure your career will take you far in years to come. Since he's become so popular as Anakin Skywalker(the future Darth Vader) in \"Star Wars Episode II: Attack of the Clones,\" and since he's making a wise move not to be type-cast in the role, Hayden Christensen gives a very believable if not touching performance with this movie. Sam(Christensen) is a troubled teen who's being forced by his dad(Kevin Kline) to help him build a house, and in the process rebuild their troubled relationship. The movie is indeed very touching, and Kline and Christensen have excellent chemistry with their performances. Granted it's not a great film because of its content, but still it is very touching, and uplifting. Congradulations on your performance with this movie Hayden. I'm sure your career will take you far in years to come.   \n",
      "146   Even if during his comments he would have said \"I just wanted to make a black and white film combing Africans and techno music, his methods are still suspicious. He could have used the same music, but would he have used the lazy susan or thrown candy at them? This film is really too easy of a target. I presented a paper on Hommage  A Noir in California recently and people laughed at it.                                                                                                                                                                                                                                                                                                                                                                                                                                                                                                                                                                                                                                                                                                                                                                                                                                                                                                                                                                                                                         \n",
      "\n",
      "     overall  \n",
      "143  4.0      \n",
      "145  4.0      \n",
      "146  1.0      \n",
      "143    1.0\n",
      "145    1.0\n",
      "146    0.0\n",
      "Name: overall, dtype: float64\n",
      "\n",
      "--------\n",
      "B test 5078\n",
      "                                                                                                                                                                                                                                                                                                                                                                                                                                                                                                                                                                                                           reviewText  \\\n",
      "138   It's hard to rate this movie because it was filled with bloody deaths, but the acting and story are moving. It's hard to rate this movie because it was filled with bloody deaths, but the acting and story are moving.  Thank God my husband was never in Viet Nam.                                                                                                                                                                                                                                                                                                                                              \n",
      "140   The movie makers try to flesh out a few references in the bible witha full color dose of historical fiction. Well done, the story attemptsto bring ancient history to life. The movie makers try to flesh out a few references in the bible witha full color dose of historical fiction.  Well done, the story attemptsto bring ancient history to life.                                                                                                                                                                                                                                                          \n",
      "141   If you want to watch an old time movie with a strong plot, great acting and something to take away from it, Buy Billy Budd.A lot of you are probably to young to know this movie, but give it a try. You will be smarter if you do and learn what it take's in life to get through the pains of living. If you want to watch an old time movie with a strong plot, great acting and something to take away from it, Buy Billy Budd.A lot of you are probably to young to know this movie, but give it a try. You will be smarter if you do and learn what it take's in life to get through the pains of living.   \n",
      "\n",
      "     overall  \n",
      "138  4.0      \n",
      "140  4.0      \n",
      "141  4.0      \n",
      "138    1.0\n",
      "140    1.0\n",
      "141    1.0\n",
      "Name: overall, dtype: float64\n"
     ]
    }
   ],
   "source": [
    "# [(abtest['A']['train']['movie_reviews']['overall'] > 3) * 1.0]\n",
    "y = {'A':{},'B':{}}\n",
    "start = 100\n",
    "end = 103\n",
    "for ab, dico in abtest.items():\n",
    "    for tt in ['train','test']:\n",
    "        y[ab][tt] = (dico[tt]['movie_reviews']['overall'] > 3) * 1.0\n",
    "\n",
    "        print('\\n--------\\n{} {} {}'.format(ab, tt, len(y[ab][tt])))\n",
    "        print(dico[tt]['movie_reviews'][['reviewText','overall']]\n",
    "              .iloc[start:end,:]) #[:5])\n",
    "        print(y[ab][tt][start:end]) #[-5:])    "
   ]
  },
  {
   "cell_type": "markdown",
   "metadata": {},
   "source": [
    "### Test and save"
   ]
  },
  {
   "cell_type": "code",
   "execution_count": 38,
   "metadata": {},
   "outputs": [],
   "source": [
    "# for train_test_dico in abtest.values():\n",
    "#     for dico in train_test_dico.values():\n",
    "#         if dico['tf_transform'].shape[0] != "
   ]
  },
  {
   "cell_type": "code",
   "execution_count": 39,
   "metadata": {},
   "outputs": [],
   "source": [
    "# if abtest['B']['train'].shape[0] != y['train'].shape[0] \\\n",
    "#     or abtest['B']['test'] != y['test'].shape[0]:\n",
    "#     print('@@@ Problem! @@@')\n",
    "#     print(abtest['B']['train'].shape)\n",
    "#     print(y['train'].shape)\n",
    "#     print(abtest['B']['test'].shape)\n",
    "#     print(y['test'].shape)\n",
    "# else:\n",
    "#     print('OK!')"
   ]
  },
  {
   "cell_type": "code",
   "execution_count": 40,
   "metadata": {},
   "outputs": [],
   "source": [
    "if False:\n",
    "    pickle_out = open(data_path \n",
    "                      + 'tfidf_' \n",
    "                      + str(X_train.shape[0]) + 'Pos_Neg_Samples_'\n",
    "                      + str(X_train.shape[1]) + 'Feats.pkl'\n",
    "                      ,\"wb\")\n",
    "    pickle.dump(tfidf, pickle_out)\n",
    "    pickle_out.close()"
   ]
  },
  {
   "cell_type": "markdown",
   "metadata": {},
   "source": [
    "## Gradient Boosting Classifier"
   ]
  },
  {
   "cell_type": "code",
   "execution_count": 41,
   "metadata": {},
   "outputs": [],
   "source": [
    "# Gradient Boosting Classifier parameters\n",
    "# N_TREES = math.floor(np.sqrt(NB_SAMPLES) * 1.2)\n",
    "N_TREES = 500\n",
    "LEARN_RATE = 0.2\n",
    "MAX_DEPTH = 8\n",
    "MIN_IN_LEAF = 5 #7\n",
    "MAX_FEATURES = 'sqrt'"
   ]
  },
  {
   "cell_type": "code",
   "execution_count": 42,
   "metadata": {},
   "outputs": [],
   "source": [
    "for ab, ab_dico in abtest.items():\n",
    "    ab_dico['gbc'] = GradientBoostingClassifier(learning_rate=LEARN_RATE, \n",
    "                                n_estimators=N_TREES, \n",
    "                                min_samples_leaf=MIN_IN_LEAF,\n",
    "                                max_depth=MAX_DEPTH,\n",
    "                                max_features=MAX_FEATURES)\n",
    "\n",
    "    \n",
    "    ab_dico['gbc'].fit(ab_dico['train']['tf_transform'], y[ab]['train'])"
   ]
  },
  {
   "cell_type": "code",
   "execution_count": 43,
   "metadata": {},
   "outputs": [],
   "source": [
    "# gbc = GradientBoostingClassifier(learning_rate=LEARN_RATE, \n",
    "#                                 n_estimators=N_TREES, \n",
    "#                                 min_samples_leaf=MIN_IN_LEAF,\n",
    "#                                 max_depth=MAX_DEPTH,\n",
    "#                                 max_features=MAX_FEATURES)"
   ]
  },
  {
   "cell_type": "code",
   "execution_count": 44,
   "metadata": {},
   "outputs": [],
   "source": [
    "# gbc.fit(X_train, y_train)"
   ]
  },
  {
   "cell_type": "code",
   "execution_count": 45,
   "metadata": {},
   "outputs": [],
   "source": [
    "if False:\n",
    "    pickle.dump(gbc, open(data_path + 'GBC_'\n",
    "                       + str(NB_SAMPLES) + '_samples_'\n",
    "                       + str(N_TREES) + '_trees_' \n",
    "                       + str(LEARN_RATE) + '_lr_' \n",
    "                       + str(MAX_DEPTH) + '_maxdpth_'\n",
    "                       + str(MIN_IN_LEAF) + '_minleaf_'\n",
    "                       + str(MAX_FEATURES) + '_feats_'\n",
    "                       + '.pkl', 'wb'))"
   ]
  },
  {
   "cell_type": "code",
   "execution_count": 46,
   "metadata": {},
   "outputs": [
    {
     "data": {
      "text/markdown": [
       "### Report for Gradient Boosting Classifier on training set A:"
      ],
      "text/plain": [
       "<IPython.core.display.Markdown object>"
      ]
     },
     "metadata": {},
     "output_type": "display_data"
    },
    {
     "data": {
      "text/markdown": [
       "##### Off diagonal: 1%"
      ],
      "text/plain": [
       "<IPython.core.display.Markdown object>"
      ]
     },
     "metadata": {},
     "output_type": "display_data"
    },
    {
     "data": {
      "text/markdown": [
       "#### Confusion Matrix:"
      ],
      "text/plain": [
       "<IPython.core.display.Markdown object>"
      ]
     },
     "metadata": {},
     "output_type": "display_data"
    },
    {
     "name": "stdout",
     "output_type": "stream",
     "text": [
      "[[ 9987   175]\n",
      " [  119 10099]]\n"
     ]
    },
    {
     "data": {
      "text/markdown": [
       "#### Classification Report:"
      ],
      "text/plain": [
       "<IPython.core.display.Markdown object>"
      ]
     },
     "metadata": {},
     "output_type": "display_data"
    },
    {
     "name": "stdout",
     "output_type": "stream",
     "text": [
      "              precision    recall  f1-score   support\n",
      "\n",
      "         0.0       0.99      0.98      0.99     10162\n",
      "         1.0       0.98      0.99      0.99     10218\n",
      "\n",
      "    accuracy                           0.99     20380\n",
      "   macro avg       0.99      0.99      0.99     20380\n",
      "weighted avg       0.99      0.99      0.99     20380\n",
      "\n"
     ]
    },
    {
     "data": {
      "text/markdown": [
       "### Report for Gradient Boosting Classifier on training set B:"
      ],
      "text/plain": [
       "<IPython.core.display.Markdown object>"
      ]
     },
     "metadata": {},
     "output_type": "display_data"
    },
    {
     "data": {
      "text/markdown": [
       "##### Off diagonal: 2%"
      ],
      "text/plain": [
       "<IPython.core.display.Markdown object>"
      ]
     },
     "metadata": {},
     "output_type": "display_data"
    },
    {
     "data": {
      "text/markdown": [
       "#### Confusion Matrix:"
      ],
      "text/plain": [
       "<IPython.core.display.Markdown object>"
      ]
     },
     "metadata": {},
     "output_type": "display_data"
    },
    {
     "name": "stdout",
     "output_type": "stream",
     "text": [
      "[[ 9937   217]\n",
      " [  121 10109]]\n"
     ]
    },
    {
     "data": {
      "text/markdown": [
       "#### Classification Report:"
      ],
      "text/plain": [
       "<IPython.core.display.Markdown object>"
      ]
     },
     "metadata": {},
     "output_type": "display_data"
    },
    {
     "name": "stdout",
     "output_type": "stream",
     "text": [
      "              precision    recall  f1-score   support\n",
      "\n",
      "         0.0       0.99      0.98      0.98     10154\n",
      "         1.0       0.98      0.99      0.98     10230\n",
      "\n",
      "    accuracy                           0.98     20384\n",
      "   macro avg       0.98      0.98      0.98     20384\n",
      "weighted avg       0.98      0.98      0.98     20384\n",
      "\n"
     ]
    }
   ],
   "source": [
    "for ab, ab_dico in abtest.items():\n",
    "    classifier_report(ab_dico['gbc'], \n",
    "                      ab_dico['train']['tf_transform'], \n",
    "                      y[ab]['train'],\n",
    "                      'Gradient Boosting Classifier on training set {}'.format(ab))"
   ]
  },
  {
   "cell_type": "code",
   "execution_count": 47,
   "metadata": {},
   "outputs": [
    {
     "name": "stdout",
     "output_type": "stream",
     "text": [
      "SAMPLE_FRACTION: 0.1 ADD_LENGTH: False  SPARSE: True  MAX_FEATURES: sqrt\n",
      "sqrt  features 500 trees;  0.2 learn_rate;  8 max_dpth;  5 min_in_leaf\n"
     ]
    },
    {
     "data": {
      "text/markdown": [
       "### Report for Gradient Boosting Classifier on test set A:"
      ],
      "text/plain": [
       "<IPython.core.display.Markdown object>"
      ]
     },
     "metadata": {},
     "output_type": "display_data"
    },
    {
     "data": {
      "text/markdown": [
       "##### Off diagonal: 46%"
      ],
      "text/plain": [
       "<IPython.core.display.Markdown object>"
      ]
     },
     "metadata": {},
     "output_type": "display_data"
    },
    {
     "data": {
      "text/markdown": [
       "#### Confusion Matrix:"
      ],
      "text/plain": [
       "<IPython.core.display.Markdown object>"
      ]
     },
     "metadata": {},
     "output_type": "display_data"
    },
    {
     "name": "stdout",
     "output_type": "stream",
     "text": [
      "[[1241 1281]\n",
      " [1044 1517]]\n"
     ]
    },
    {
     "data": {
      "text/markdown": [
       "#### Classification Report:"
      ],
      "text/plain": [
       "<IPython.core.display.Markdown object>"
      ]
     },
     "metadata": {},
     "output_type": "display_data"
    },
    {
     "name": "stdout",
     "output_type": "stream",
     "text": [
      "              precision    recall  f1-score   support\n",
      "\n",
      "         0.0       0.54      0.49      0.52      2522\n",
      "         1.0       0.54      0.59      0.57      2561\n",
      "\n",
      "    accuracy                           0.54      5083\n",
      "   macro avg       0.54      0.54      0.54      5083\n",
      "weighted avg       0.54      0.54      0.54      5083\n",
      "\n"
     ]
    },
    {
     "data": {
      "text/markdown": [
       "### Report for Gradient Boosting Classifier on test set B:"
      ],
      "text/plain": [
       "<IPython.core.display.Markdown object>"
      ]
     },
     "metadata": {},
     "output_type": "display_data"
    },
    {
     "data": {
      "text/markdown": [
       "##### Off diagonal: 47%"
      ],
      "text/plain": [
       "<IPython.core.display.Markdown object>"
      ]
     },
     "metadata": {},
     "output_type": "display_data"
    },
    {
     "data": {
      "text/markdown": [
       "#### Confusion Matrix:"
      ],
      "text/plain": [
       "<IPython.core.display.Markdown object>"
      ]
     },
     "metadata": {},
     "output_type": "display_data"
    },
    {
     "name": "stdout",
     "output_type": "stream",
     "text": [
      "[[1213 1309]\n",
      " [1083 1473]]\n"
     ]
    },
    {
     "data": {
      "text/markdown": [
       "#### Classification Report:"
      ],
      "text/plain": [
       "<IPython.core.display.Markdown object>"
      ]
     },
     "metadata": {},
     "output_type": "display_data"
    },
    {
     "name": "stdout",
     "output_type": "stream",
     "text": [
      "              precision    recall  f1-score   support\n",
      "\n",
      "         0.0       0.53      0.48      0.50      2522\n",
      "         1.0       0.53      0.58      0.55      2556\n",
      "\n",
      "    accuracy                           0.53      5078\n",
      "   macro avg       0.53      0.53      0.53      5078\n",
      "weighted avg       0.53      0.53      0.53      5078\n",
      "\n"
     ]
    }
   ],
   "source": [
    "print('SAMPLE_FRACTION:', SAMPLE_FRACTION,'ADD_LENGTH:',ADD_LENGTH,' SPARSE:',SPARSE,' MAX_FEATURES:',MAX_FEATURES)\n",
    "\n",
    "print(MAX_FEATURES, ' features', N_TREES,'trees; ',\n",
    "      LEARN_RATE,'learn_rate; ', MAX_DEPTH, 'max_dpth; ',\n",
    "      MIN_IN_LEAF, 'min_in_leaf')\n",
    "\n",
    "for ab, ab_dico in abtest.items():\n",
    "    classifier_report(ab_dico['gbc'], \n",
    "                      ab_dico['test']['tf_transform'], \n",
    "                      y[ab]['test'],\n",
    "                      'Gradient Boosting Classifier on test set {}'.format(ab))\n",
    "\n"
   ]
  },
  {
   "cell_type": "code",
   "execution_count": 48,
   "metadata": {},
   "outputs": [],
   "source": [
    "# print('SAMPLE_FRACTION:', SAMPLE_FRACTION,'ADD_LENGTH:',ADD_LENGTH,' SPARSE:',SPARSE,' MAX_FEATURES:',MAX_FEATURES)\n"
   ]
  },
  {
   "cell_type": "markdown",
   "metadata": {},
   "source": [
    "## Grid search"
   ]
  },
  {
   "cell_type": "code",
   "execution_count": null,
   "metadata": {},
   "outputs": [],
   "source": [
    "if False:\n",
    "    gb_pipe = Pipeline([('vect', tfidf), ('gb', gbc)])\n",
    "    gb_pipe.fit(X_train, y_train)\n",
    "    pickle.dump(gb_pipe, open('pickles/GBCpipe_balanced_comments_'\n",
    "                           + str(N_TREES) + '_trees_' \n",
    "                           + str(LEARN_RATE) + '_lr_' \n",
    "                           + str(MAX_DEPTH) + '_maxdpth_'\n",
    "                           + str(MIN_IN_LEAF) + '_minleaf_'\n",
    "                           + str(MAX_FEATURES) + '_feats_'\n",
    "                           + '.pkl', 'wb'))\n",
    "else:\n",
    "#     pickle_in = open(\"pickles/GBC_balanced_comments_300_trees_0.1_lr_15_maxdpth_2_minleaf_20000_feats_.pkl\",\n",
    "#                      \"rb\")\n",
    "#     gb_pipe = pickle.load(pickle_in)"
   ]
  },
  {
   "cell_type": "code",
   "execution_count": null,
   "metadata": {},
   "outputs": [],
   "source": [
    "if False:\n",
    "    if True:\n",
    "        grid = {\n",
    "            'learning_rate': [.1,0.2,0.3],\n",
    "            'max_depth': [8],\n",
    "            'min_samples_leaf': [5],\n",
    "            'max_features': ['sqrt'],\n",
    "            'n_estimators': [300],\n",
    "            'random_state': [0]\n",
    "        }\n",
    "    else:  # TEST\n",
    "        grid = {\n",
    "        'learning_rate': [1],\n",
    "        'max_depth': [2], \n",
    "        'min_samples_leaf': [2],\n",
    "    #     'max_features': ['sqrt', None],\n",
    "        'n_estimators': [2],\n",
    "        'random_state': [0]\n",
    "    }\n",
    "\n",
    "    # confusion_score = make_scorer(confusion_rmse, greater_is_better=False)\n",
    "\n",
    "    gbc_grid_cv = GridSearchCV(\n",
    "        GradientBoostingClassifier(), \n",
    "        grid,\n",
    "        cv=4,  # number of folds\n",
    "        return_train_score=True,\n",
    "        verbose=1, \n",
    "        n_jobs=-1)\n",
    "    gbc_grid_cv.fit(X_train, y_train)"
   ]
  },
  {
   "cell_type": "code",
   "execution_count": null,
   "metadata": {},
   "outputs": [],
   "source": [
    "if False:\n",
    "    y_pred = gbc_grid_cv.predict(X_test)\n",
    "\n",
    "    print('SAMPLE_FRACTION:', SAMPLE_FRACTION,'ADD_LENGTH:',ADD_LENGTH,' SPARSE:',SPARSE,' MAX_FEATURES:',MAX_FEATURES)\n",
    "\n",
    "    print(gbc_grid_cv.best_params_)\n",
    "    print(gbc_grid_cv.best_score_)\n",
    "    res_df = pd.DataFrame(gbc_grid_cv.cv_results_)\n",
    "    res_df"
   ]
  }
 ],
 "metadata": {
  "kernelspec": {
   "display_name": "Python 3",
   "language": "python",
   "name": "python3"
  },
  "language_info": {
   "codemirror_mode": {
    "name": "ipython",
    "version": 3
   },
   "file_extension": ".py",
   "mimetype": "text/x-python",
   "name": "python",
   "nbconvert_exporter": "python",
   "pygments_lexer": "ipython3",
   "version": "3.7.3"
  }
 },
 "nbformat": 4,
 "nbformat_minor": 2
}
