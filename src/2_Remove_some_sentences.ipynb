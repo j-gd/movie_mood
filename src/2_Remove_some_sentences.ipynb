{
 "cells": [
  {
   "cell_type": "markdown",
   "metadata": {},
   "source": [
    "# Hypothesis to test:\n",
    "### Removing objective sentences from reviews helps predict star rating from reviews"
   ]
  },
  {
   "cell_type": "code",
   "execution_count": 1,
   "metadata": {},
   "outputs": [],
   "source": [
    "import numpy as np\n",
    "import pandas as pd\n",
    "import pickle\n",
    "import math\n",
    "from nltk.tokenize import sent_tokenize\n",
    "import datetime\n",
    "\n",
    "from IPython.display import Markdown, display"
   ]
  },
  {
   "cell_type": "code",
   "execution_count": 2,
   "metadata": {},
   "outputs": [],
   "source": [
    "import sys\n",
    "sys.path.append('..')"
   ]
  },
  {
   "cell_type": "code",
   "execution_count": 3,
   "metadata": {},
   "outputs": [],
   "source": [
    "# Avoid restarting Kernel\n",
    "%load_ext autoreload\n",
    "%autoreload 2\n",
    "\n",
    "pd.set_option('display.max_colwidth', -1)\n",
    "\n",
    "# %autosave 50"
   ]
  },
  {
   "cell_type": "code",
   "execution_count": 4,
   "metadata": {},
   "outputs": [],
   "source": [
    "# From this project\n",
    "# from utils import rmse, rmse_train_cv, classifier_report, confusion_rmse\n",
    "from NLP import WordBag, AboutMovie"
   ]
  },
  {
   "cell_type": "markdown",
   "metadata": {},
   "source": [
    "## Configuration"
   ]
  },
  {
   "cell_type": "code",
   "execution_count": 5,
   "metadata": {},
   "outputs": [],
   "source": [
    "# Subsampling from Amazon reviews\n",
    "NB_SAMPLES = 200000 #4000  # up to 200k, then change the input file\n",
    "\n",
    "data_path = '../../../datasets/'\n"
   ]
  },
  {
   "cell_type": "code",
   "execution_count": 8,
   "metadata": {},
   "outputs": [],
   "source": [
    "# file_name = '360000_balanced_train_test_reviews.pkl'\n",
    "file_name = '_balanced_pos_neg_train_test_reviews.pkl'\n",
    "\n",
    "pickle_in = open(data_path + str(NB_SAMPLES) + file_name,\"rb\")\n",
    "train_test_dic0 = pickle.load(pickle_in)"
   ]
  },
  {
   "cell_type": "code",
   "execution_count": 9,
   "metadata": {},
   "outputs": [
    {
     "data": {
      "text/plain": [
       "(80000, 10)"
      ]
     },
     "execution_count": 9,
     "metadata": {},
     "output_type": "execute_result"
    }
   ],
   "source": [
    "train_test_dic0['train']['positive'].shape"
   ]
  },
  {
   "cell_type": "code",
   "execution_count": null,
   "metadata": {},
   "outputs": [],
   "source": [
    "200 * 0.05 / 14"
   ]
  },
  {
   "cell_type": "code",
   "execution_count": 21,
   "metadata": {},
   "outputs": [],
   "source": [
    "SAMPLE_FRACTION = 1\n",
    "\n",
    "test_dic = {'train': {}, 'test':{}}\n",
    "\n",
    "for i in ['train','test']:\n",
    "    for j in ['positive','negative']:\n",
    "         \n",
    "         test_dic[i][j] = train_test_dic0[i][j][train_test_dic0[i][j]['nb_sentences'] == 5] \\\n",
    "            .reset_index() \\\n",
    "            .reset_index() \\\n",
    "            .drop(['reviewerName', 'helpful', 'asin', 'index', 'nb_sentences',\n",
    "                   'summary', 'unixReviewTime', 'reviewTime'], axis=1) \\\n",
    "            .rename(columns={'level_0': 'asin'})\n"
   ]
  },
  {
   "cell_type": "code",
   "execution_count": 22,
   "metadata": {},
   "outputs": [
    {
     "data": {
      "text/html": [
       "<div>\n",
       "<style scoped>\n",
       "    .dataframe tbody tr th:only-of-type {\n",
       "        vertical-align: middle;\n",
       "    }\n",
       "\n",
       "    .dataframe tbody tr th {\n",
       "        vertical-align: top;\n",
       "    }\n",
       "\n",
       "    .dataframe thead th {\n",
       "        text-align: right;\n",
       "    }\n",
       "</style>\n",
       "<table border=\"1\" class=\"dataframe\">\n",
       "  <thead>\n",
       "    <tr style=\"text-align: right;\">\n",
       "      <th></th>\n",
       "      <th>asin</th>\n",
       "      <th>reviewerID</th>\n",
       "      <th>reviewText</th>\n",
       "      <th>overall</th>\n",
       "    </tr>\n",
       "  </thead>\n",
       "  <tbody>\n",
       "    <tr>\n",
       "      <th>0</th>\n",
       "      <td>0</td>\n",
       "      <td>A1BKGGKR8FI97M</td>\n",
       "      <td>Demi Moore plays a naive, sheltered young woman who \"dreams\" the man she will marry will visit the small island she inhabits off the east coast.  He turns out to be a butcher from NY.  They marry quickly and problems arise as people discover that she is psychic, leading to all kinds of comical mix-ups.  Mary Steenberger is terrific as a shy church choir leader who dreams of being a blues singer.  Cute, silly, chick flick.</td>\n",
       "      <td>4.0</td>\n",
       "    </tr>\n",
       "    <tr>\n",
       "      <th>1</th>\n",
       "      <td>1</td>\n",
       "      <td>A2X7QZS1SSPQ8N</td>\n",
       "      <td>This was a cute mix of reality and fantasy, with a moral of no matter what you use to rule your life, fate has a plan for you.  Demi Moore plays Marina, a naive southern girl with a gift, who dreams her new husband (sort of) and ends up in New York married to the neighborhood Butcher (George Dzundza)!  Jeff Daniels is the non-commital psychiatrist across the street and Mary Steenbergen is a mild-mannered church chior director who wants to sing in a Lounge.  Between the four of them, they turn their lives upside-down and all around, affecting the lives of all those around them.  It's a chick flick and very good!</td>\n",
       "      <td>4.0</td>\n",
       "    </tr>\n",
       "    <tr>\n",
       "      <th>2</th>\n",
       "      <td>2</td>\n",
       "      <td>A2WDMII0ZK0O5X</td>\n",
       "      <td>Lots of Magic and chance encounters are interpreted by Demi Moore with Blond Hair (I am sure it is a wig lol). In truth, she mistakens the Butcher for being her knight in shining armor but he served her purpose in her leaving the place where she was born and raised. It's not a bad environment but I guess she got tired of the beach. lol In any case, it is a delightful movie, and it does leave you wondering whom she really ends up with, not only for her but for the other characters in the movie as well. Good entertainment.</td>\n",
       "      <td>4.0</td>\n",
       "    </tr>\n",
       "  </tbody>\n",
       "</table>\n",
       "</div>"
      ],
      "text/plain": [
       "   asin      reviewerID  \\\n",
       "0  0     A1BKGGKR8FI97M   \n",
       "1  1     A2X7QZS1SSPQ8N   \n",
       "2  2     A2WDMII0ZK0O5X   \n",
       "\n",
       "                                                                                                                                                                                                                                                                                                                                                                                                                                                                                                                                                                                                                                   reviewText  \\\n",
       "0  Demi Moore plays a naive, sheltered young woman who \"dreams\" the man she will marry will visit the small island she inhabits off the east coast.  He turns out to be a butcher from NY.  They marry quickly and problems arise as people discover that she is psychic, leading to all kinds of comical mix-ups.  Mary Steenberger is terrific as a shy church choir leader who dreams of being a blues singer.  Cute, silly, chick flick.                                                                                                                                                                                                    \n",
       "1  This was a cute mix of reality and fantasy, with a moral of no matter what you use to rule your life, fate has a plan for you.  Demi Moore plays Marina, a naive southern girl with a gift, who dreams her new husband (sort of) and ends up in New York married to the neighborhood Butcher (George Dzundza)!  Jeff Daniels is the non-commital psychiatrist across the street and Mary Steenbergen is a mild-mannered church chior director who wants to sing in a Lounge.  Between the four of them, they turn their lives upside-down and all around, affecting the lives of all those around them.  It's a chick flick and very good!   \n",
       "2  Lots of Magic and chance encounters are interpreted by Demi Moore with Blond Hair (I am sure it is a wig lol). In truth, she mistakens the Butcher for being her knight in shining armor but he served her purpose in her leaving the place where she was born and raised. It's not a bad environment but I guess she got tired of the beach. lol In any case, it is a delightful movie, and it does leave you wondering whom she really ends up with, not only for her but for the other characters in the movie as well. Good entertainment.                                                                                               \n",
       "\n",
       "   overall  \n",
       "0  4.0      \n",
       "1  4.0      \n",
       "2  4.0      "
      ]
     },
     "execution_count": 22,
     "metadata": {},
     "output_type": "execute_result"
    }
   ],
   "source": [
    "test_dic['train']['positive'].head(3)"
   ]
  },
  {
   "cell_type": "code",
   "execution_count": 23,
   "metadata": {},
   "outputs": [
    {
     "name": "stdout",
     "output_type": "stream",
     "text": [
      "(15175, 4)\n",
      "(13491, 4)\n",
      "(3746, 4)\n",
      "(3418, 4)\n"
     ]
    },
    {
     "data": {
      "text/plain": [
       "35830"
      ]
     },
     "execution_count": 23,
     "metadata": {},
     "output_type": "execute_result"
    }
   ],
   "source": [
    "total = 0\n",
    "for i in ['train','test']:\n",
    "    for j in ['positive','negative']:\n",
    "        print(test_dic[i][j].shape)\n",
    "        total += test_dic[i][j].shape[0]\n",
    "total"
   ]
  },
  {
   "cell_type": "markdown",
   "metadata": {},
   "source": [
    "## Remove objective sentences for case B"
   ]
  },
  {
   "cell_type": "code",
   "execution_count": 24,
   "metadata": {},
   "outputs": [],
   "source": [
    "%reload_ext autoreload\n",
    "from subjective_filter import SubjectiveFilter"
   ]
  },
  {
   "cell_type": "code",
   "execution_count": 25,
   "metadata": {},
   "outputs": [],
   "source": [
    "%reload_ext autoreload\n",
    "obj_path = '../obj_subj_dev/'\n",
    "fit_obj_tf = obj_path + 'fit_tfidf_vectorizer_for_obj_subj_sentences_classification.pkl'\n",
    "fit_obj_model = obj_path + 'GBC_300_0.5_5_0.88cv.pkl'\n",
    "subj_filter = SubjectiveFilter(fit_obj_tf, fit_obj_model)"
   ]
  },
  {
   "cell_type": "code",
   "execution_count": 26,
   "metadata": {},
   "outputs": [
    {
     "data": {
      "text/plain": [
       "(15175, 4)"
      ]
     },
     "metadata": {},
     "output_type": "display_data"
    },
    {
     "data": {
      "text/plain": [
       "(13491, 4)"
      ]
     },
     "metadata": {},
     "output_type": "display_data"
    },
    {
     "data": {
      "text/plain": [
       "(3746, 4)"
      ]
     },
     "metadata": {},
     "output_type": "display_data"
    },
    {
     "data": {
      "text/plain": [
       "(3418, 4)"
      ]
     },
     "metadata": {},
     "output_type": "display_data"
    },
    {
     "name": "stdout",
     "output_type": "stream",
     "text": [
      "35830\n"
     ]
    }
   ],
   "source": [
    "# for tt in ['train','test']:\n",
    "#     for pn in ['positive','negative']:\n",
    "#         print(tt,pn,test_dic[tt][np].shape)\n",
    "total = 0\n",
    "for tt in test_dic.values():\n",
    "    for df in tt.values():\n",
    "#         display(df.head(1))\n",
    "        total += df.shape[0]\n",
    "        display(df.shape)\n",
    "print(total)"
   ]
  },
  {
   "cell_type": "code",
   "execution_count": 27,
   "metadata": {
    "scrolled": true
   },
   "outputs": [
    {
     "name": "stdout",
     "output_type": "stream",
     "text": [
      "Starting computations for subj 0.8\n",
      "2019-07-26 18:18:27.155797\n"
     ]
    },
    {
     "ename": "KeyboardInterrupt",
     "evalue": "",
     "output_type": "error",
     "traceback": [
      "\u001b[0;31m---------------------------------------------------------------------------\u001b[0m",
      "\u001b[0;31mKeyboardInterrupt\u001b[0m                         Traceback (most recent call last)",
      "\u001b[0;32m<ipython-input-27-810db1c89cc9>\u001b[0m in \u001b[0;36m<module>\u001b[0;34m\u001b[0m\n\u001b[1;32m     15\u001b[0m                     \u001b[0mend\u001b[0m \u001b[0;34m=\u001b[0m \u001b[0mstart\u001b[0m \u001b[0;34m+\u001b[0m \u001b[0mCHUNK_SZ\u001b[0m\u001b[0;34m\u001b[0m\u001b[0;34m\u001b[0m\u001b[0m\n\u001b[1;32m     16\u001b[0m                     \u001b[0mdf1\u001b[0m \u001b[0;34m=\u001b[0m \u001b[0mdf\u001b[0m\u001b[0;34m.\u001b[0m\u001b[0miloc\u001b[0m\u001b[0;34m[\u001b[0m\u001b[0mstart\u001b[0m\u001b[0;34m:\u001b[0m\u001b[0mend\u001b[0m\u001b[0;34m,\u001b[0m\u001b[0;34m:\u001b[0m\u001b[0;34m]\u001b[0m\u001b[0;34m\u001b[0m\u001b[0;34m\u001b[0m\u001b[0m\n\u001b[0;32m---> 17\u001b[0;31m                     \u001b[0mdf2\u001b[0m \u001b[0;34m=\u001b[0m \u001b[0msubj_filter\u001b[0m\u001b[0;34m.\u001b[0m\u001b[0mto_one_sent_per_row\u001b[0m\u001b[0;34m(\u001b[0m\u001b[0mdf1\u001b[0m\u001b[0;34m)\u001b[0m\u001b[0;34m\u001b[0m\u001b[0;34m\u001b[0m\u001b[0m\n\u001b[0m\u001b[1;32m     18\u001b[0m                     df3, removed = subj_filter.transform(\n\u001b[1;32m     19\u001b[0m                             \u001b[0mdf2\u001b[0m\u001b[0;34m,\u001b[0m\u001b[0;34m\u001b[0m\u001b[0;34m\u001b[0m\u001b[0m\n",
      "\u001b[0;32m~/Documents/dev/gal_dev/capstone/movie_mood/src/subjective_filter.py\u001b[0m in \u001b[0;36mto_one_sent_per_row\u001b[0;34m(self, df)\u001b[0m\n\u001b[1;32m     19\u001b[0m     \u001b[0;32mdef\u001b[0m \u001b[0mto_one_sent_per_row\u001b[0m\u001b[0;34m(\u001b[0m\u001b[0mself\u001b[0m\u001b[0;34m,\u001b[0m \u001b[0mdf\u001b[0m\u001b[0;34m)\u001b[0m\u001b[0;34m:\u001b[0m\u001b[0;34m\u001b[0m\u001b[0;34m\u001b[0m\u001b[0m\n\u001b[1;32m     20\u001b[0m         \u001b[0mwarnings\u001b[0m\u001b[0;34m.\u001b[0m\u001b[0msimplefilter\u001b[0m\u001b[0;34m(\u001b[0m\u001b[0;34m\"ignore\"\u001b[0m\u001b[0;34m)\u001b[0m\u001b[0;34m\u001b[0m\u001b[0;34m\u001b[0m\u001b[0m\n\u001b[0;32m---> 21\u001b[0;31m         \u001b[0mdf\u001b[0m\u001b[0;34m[\u001b[0m\u001b[0;34m'sentence'\u001b[0m\u001b[0;34m]\u001b[0m \u001b[0;34m=\u001b[0m \u001b[0mdf\u001b[0m\u001b[0;34m[\u001b[0m\u001b[0;34m'reviewText'\u001b[0m\u001b[0;34m]\u001b[0m\u001b[0;34m.\u001b[0m\u001b[0mmap\u001b[0m\u001b[0;34m(\u001b[0m\u001b[0msent_tokenize\u001b[0m\u001b[0;34m)\u001b[0m\u001b[0;34m\u001b[0m\u001b[0;34m\u001b[0m\u001b[0m\n\u001b[0m\u001b[1;32m     22\u001b[0m \u001b[0;34m\u001b[0m\u001b[0m\n\u001b[1;32m     23\u001b[0m         \u001b[0;31m# Create a dataframe with one line per sentence\u001b[0m\u001b[0;34m\u001b[0m\u001b[0;34m\u001b[0m\u001b[0;34m\u001b[0m\u001b[0m\n",
      "\u001b[0;32m/anaconda3/lib/python3.7/site-packages/pandas/core/frame.py\u001b[0m in \u001b[0;36m__setitem__\u001b[0;34m(self, key, value)\u001b[0m\n\u001b[1;32m   3368\u001b[0m         \u001b[0;32melse\u001b[0m\u001b[0;34m:\u001b[0m\u001b[0;34m\u001b[0m\u001b[0;34m\u001b[0m\u001b[0m\n\u001b[1;32m   3369\u001b[0m             \u001b[0;31m# set column\u001b[0m\u001b[0;34m\u001b[0m\u001b[0;34m\u001b[0m\u001b[0;34m\u001b[0m\u001b[0m\n\u001b[0;32m-> 3370\u001b[0;31m             \u001b[0mself\u001b[0m\u001b[0;34m.\u001b[0m\u001b[0m_set_item\u001b[0m\u001b[0;34m(\u001b[0m\u001b[0mkey\u001b[0m\u001b[0;34m,\u001b[0m \u001b[0mvalue\u001b[0m\u001b[0;34m)\u001b[0m\u001b[0;34m\u001b[0m\u001b[0;34m\u001b[0m\u001b[0m\n\u001b[0m\u001b[1;32m   3371\u001b[0m \u001b[0;34m\u001b[0m\u001b[0m\n\u001b[1;32m   3372\u001b[0m     \u001b[0;32mdef\u001b[0m \u001b[0m_setitem_slice\u001b[0m\u001b[0;34m(\u001b[0m\u001b[0mself\u001b[0m\u001b[0;34m,\u001b[0m \u001b[0mkey\u001b[0m\u001b[0;34m,\u001b[0m \u001b[0mvalue\u001b[0m\u001b[0;34m)\u001b[0m\u001b[0;34m:\u001b[0m\u001b[0;34m\u001b[0m\u001b[0;34m\u001b[0m\u001b[0m\n",
      "\u001b[0;32m/anaconda3/lib/python3.7/site-packages/pandas/core/frame.py\u001b[0m in \u001b[0;36m_set_item\u001b[0;34m(self, key, value)\u001b[0m\n\u001b[1;32m   3450\u001b[0m         \u001b[0;31m# value exception to occur first\u001b[0m\u001b[0;34m\u001b[0m\u001b[0;34m\u001b[0m\u001b[0;34m\u001b[0m\u001b[0m\n\u001b[1;32m   3451\u001b[0m         \u001b[0;32mif\u001b[0m \u001b[0mlen\u001b[0m\u001b[0;34m(\u001b[0m\u001b[0mself\u001b[0m\u001b[0;34m)\u001b[0m\u001b[0;34m:\u001b[0m\u001b[0;34m\u001b[0m\u001b[0;34m\u001b[0m\u001b[0m\n\u001b[0;32m-> 3452\u001b[0;31m             \u001b[0mself\u001b[0m\u001b[0;34m.\u001b[0m\u001b[0m_check_setitem_copy\u001b[0m\u001b[0;34m(\u001b[0m\u001b[0;34m)\u001b[0m\u001b[0;34m\u001b[0m\u001b[0;34m\u001b[0m\u001b[0m\n\u001b[0m\u001b[1;32m   3453\u001b[0m \u001b[0;34m\u001b[0m\u001b[0m\n\u001b[1;32m   3454\u001b[0m     \u001b[0;32mdef\u001b[0m \u001b[0minsert\u001b[0m\u001b[0;34m(\u001b[0m\u001b[0mself\u001b[0m\u001b[0;34m,\u001b[0m \u001b[0mloc\u001b[0m\u001b[0;34m,\u001b[0m \u001b[0mcolumn\u001b[0m\u001b[0;34m,\u001b[0m \u001b[0mvalue\u001b[0m\u001b[0;34m,\u001b[0m \u001b[0mallow_duplicates\u001b[0m\u001b[0;34m=\u001b[0m\u001b[0;32mFalse\u001b[0m\u001b[0;34m)\u001b[0m\u001b[0;34m:\u001b[0m\u001b[0;34m\u001b[0m\u001b[0;34m\u001b[0m\u001b[0m\n",
      "\u001b[0;32m/anaconda3/lib/python3.7/site-packages/pandas/core/generic.py\u001b[0m in \u001b[0;36m_check_setitem_copy\u001b[0;34m(self, stacklevel, t, force)\u001b[0m\n\u001b[1;32m   3243\u001b[0m             \u001b[0;31m# the copy weakref\u001b[0m\u001b[0;34m\u001b[0m\u001b[0;34m\u001b[0m\u001b[0;34m\u001b[0m\u001b[0m\n\u001b[1;32m   3244\u001b[0m             \u001b[0;32mtry\u001b[0m\u001b[0;34m:\u001b[0m\u001b[0;34m\u001b[0m\u001b[0;34m\u001b[0m\u001b[0m\n\u001b[0;32m-> 3245\u001b[0;31m                 \u001b[0mgc\u001b[0m\u001b[0;34m.\u001b[0m\u001b[0mcollect\u001b[0m\u001b[0;34m(\u001b[0m\u001b[0;36m2\u001b[0m\u001b[0;34m)\u001b[0m\u001b[0;34m\u001b[0m\u001b[0;34m\u001b[0m\u001b[0m\n\u001b[0m\u001b[1;32m   3246\u001b[0m                 \u001b[0;32mif\u001b[0m \u001b[0;32mnot\u001b[0m \u001b[0mgc\u001b[0m\u001b[0;34m.\u001b[0m\u001b[0mget_referents\u001b[0m\u001b[0;34m(\u001b[0m\u001b[0mself\u001b[0m\u001b[0;34m.\u001b[0m\u001b[0m_is_copy\u001b[0m\u001b[0;34m(\u001b[0m\u001b[0;34m)\u001b[0m\u001b[0;34m)\u001b[0m\u001b[0;34m:\u001b[0m\u001b[0;34m\u001b[0m\u001b[0;34m\u001b[0m\u001b[0m\n\u001b[1;32m   3247\u001b[0m                     \u001b[0mself\u001b[0m\u001b[0;34m.\u001b[0m\u001b[0m_is_copy\u001b[0m \u001b[0;34m=\u001b[0m \u001b[0;32mNone\u001b[0m\u001b[0;34m\u001b[0m\u001b[0;34m\u001b[0m\u001b[0m\n",
      "\u001b[0;31mKeyboardInterrupt\u001b[0m: "
     ]
    }
   ],
   "source": [
    "CHUNK_SZ = 1\n",
    "\n",
    "for REMOVE in ['subj', 'obj']:\n",
    "    for REMOVE_FRACTION in [0.8, 0.6, 0.4, 0.2]:\n",
    "        print('Starting computations for {} {}'.format(REMOVE, REMOVE_FRACTION))\n",
    "        print (str(datetime.datetime.now()))\n",
    "        sent_dfs = {'train':{},'test':{}}\n",
    "        nb_sentences_removed = 0\n",
    "\n",
    "        for ttname, tt in test_dic.items():\n",
    "            for pn, df in tt.items():\n",
    "                df_list = []\n",
    "                start = 0\n",
    "                while start < df.shape[0]:\n",
    "                    end = start + CHUNK_SZ\n",
    "                    df1 = df.iloc[start:end,:]\n",
    "                    df2 = subj_filter.to_one_sent_per_row(df1)\n",
    "                    df3, removed = subj_filter.transform(\n",
    "                            df2,\n",
    "                            'sentence', \n",
    "                            remove_fraction = REMOVE_FRACTION,\n",
    "                            debug_level=0,\n",
    "                            remove=REMOVE)\n",
    "                    if removed == -1:\n",
    "                        start = end\n",
    "                        continue\n",
    "                    df_list.append(df3)\n",
    "                    nb_sentences_removed += removed\n",
    "                    start = end\n",
    "\n",
    "                if len(df_list) == 0:\n",
    "                    sent_dfs[ttname][pn] = None\n",
    "                    print('No reviews for {} {}'.format(ttname, pn))\n",
    "                    continue\n",
    "                sent_dfs[ttname][pn] = df_list.pop()\n",
    "                while len(df_list) > 0:\n",
    "                    sent_dfs[ttname][pn] = pd.merge(df_list.pop(), \n",
    "                                                    sent_dfs[ttname][pn], how='outer')\n",
    "        # Save B\n",
    "        print('Saving B for {} {}'.format(REMOVE, REMOVE_FRACTION))\n",
    "        print (str(datetime.datetime.now()))\n",
    "        pickle_out = open(data_path\n",
    "                            + 'reviews_wout_top_' + str(int(round(REMOVE_FRACTION * 100))) + 'pct_' + REMOVE + '_B.pkl'\n",
    "                            , \"wb\")\n",
    "        pickle.dump(sent_dfs, pickle_out)\n",
    "        pickle_out.close()\n",
    "\n",
    "        # Create A with same number of reviews\n",
    "        A_dic = {'train': {}, 'test':{}}\n",
    "\n",
    "        for tt in ['train', 'test']:\n",
    "            for pn in ['positive', 'negative']:\n",
    "                df = test_dic[tt][pn]\n",
    "                A_dic[tt][pn] = df[df['asin'].isin(sent_dfs[tt][pn]['asin'])]\n",
    "\n",
    "        # Save A\n",
    "        print('Saving A for {} {}'.format(REMOVE, REMOVE_FRACTION))\n",
    "        print (str(datetime.datetime.now()))\n",
    "        pickle_out = open(data_path\n",
    "                        + 'reviews_wout_top_' + str(int(round(REMOVE_FRACTION * 100))) + 'pct_' + REMOVE + '_A.pkl'\n",
    "                            , \"wb\")\n",
    "        pickle.dump(A_dic, pickle_out)\n",
    "        pickle_out.close()"
   ]
  },
  {
   "cell_type": "code",
   "execution_count": null,
   "metadata": {},
   "outputs": [],
   "source": []
  }
 ],
 "metadata": {
  "kernelspec": {
   "display_name": "Python 3",
   "language": "python",
   "name": "python3"
  },
  "language_info": {
   "codemirror_mode": {
    "name": "ipython",
    "version": 3
   },
   "file_extension": ".py",
   "mimetype": "text/x-python",
   "name": "python",
   "nbconvert_exporter": "python",
   "pygments_lexer": "ipython3",
   "version": "3.7.3"
  }
 },
 "nbformat": 4,
 "nbformat_minor": 2
}
