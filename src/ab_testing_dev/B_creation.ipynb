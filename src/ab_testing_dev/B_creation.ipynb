{
 "cells": [
  {
   "cell_type": "markdown",
   "metadata": {},
   "source": [
    "# Hypothesis to test:\n",
    "### Removing objective sentences from reviews helps predict star rating from reviews"
   ]
  },
  {
   "cell_type": "code",
   "execution_count": 1,
   "metadata": {},
   "outputs": [],
   "source": [
    "import numpy as np\n",
    "import pandas as pd\n",
    "import pickle\n",
    "import gzip\n",
    "import math\n",
    "import random\n",
    "from IPython.display import Markdown, display\n",
    "from sklearn.feature_extraction.text import TfidfVectorizer\n",
    "from sklearn.model_selection import train_test_split, GridSearchCV\n",
    "from sklearn.ensemble import GradientBoostingRegressor, \\\n",
    "GradientBoostingClassifier, RandomForestClassifier\n",
    "from sklearn.linear_model import LogisticRegression\n",
    "from sklearn.pipeline import Pipeline\n",
    "from sklearn.linear_model import SGDClassifier\n",
    "from sklearn.metrics import accuracy_score, confusion_matrix, \\\n",
    "classification_report, make_scorer\n",
    "import statsmodels.api as sm"
   ]
  },
  {
   "cell_type": "code",
   "execution_count": 2,
   "metadata": {},
   "outputs": [],
   "source": [
    "import sys\n",
    "sys.path.append('..')"
   ]
  },
  {
   "cell_type": "code",
   "execution_count": 3,
   "metadata": {},
   "outputs": [],
   "source": [
    "# From this project\n",
    "from utils import rmse, rmse_train_cv, classifier_report, confusion_rmse\n",
    "from NLP import WordBag, AboutMovie\n",
    "from subjective_filter import SubjectiveFilter\n",
    "\n",
    "# Avoid restarting Kernel\n",
    "%load_ext autoreload\n",
    "%autoreload 2\n",
    "\n",
    "pd.set_option('display.max_colwidth', -1)\n",
    "\n",
    "# %autosave 50"
   ]
  },
  {
   "cell_type": "markdown",
   "metadata": {},
   "source": [
    "## Configuration"
   ]
  },
  {
   "cell_type": "code",
   "execution_count": 4,
   "metadata": {},
   "outputs": [],
   "source": [
    "data_path = '../../../datasets/'\n"
   ]
  },
  {
   "cell_type": "code",
   "execution_count": 5,
   "metadata": {},
   "outputs": [],
   "source": [
    "pickle_in = open(data_path\n",
    "                + 'movie_reviews_144000Pos_Neg_Samples.pkl'\n",
    "                , \"rb\")\n",
    "test_dic = pickle.load(pickle_in)"
   ]
  },
  {
   "cell_type": "markdown",
   "metadata": {},
   "source": [
    "## Remove objective sentences for case B"
   ]
  },
  {
   "cell_type": "code",
   "execution_count": 6,
   "metadata": {},
   "outputs": [],
   "source": [
    "OBJ_THRESHOLD = 0.8"
   ]
  },
  {
   "cell_type": "code",
   "execution_count": 7,
   "metadata": {},
   "outputs": [],
   "source": [
    "%reload_ext autoreload\n",
    "obj_path = '../obj_subj_dev/'\n",
    "fit_obj_tf = obj_path + 'fit_tfidf_vectorizer_for_obj_subj_sentences_classification.pkl'\n",
    "fit_obj_model = obj_path + 'GBC_300_0.5_5_0.88cv.pkl'\n",
    "subj_filter = SubjectiveFilter(fit_obj_tf, fit_obj_model)"
   ]
  },
  {
   "cell_type": "code",
   "execution_count": 10,
   "metadata": {},
   "outputs": [
    {
     "data": {
      "text/plain": [
       "(40164, 5)"
      ]
     },
     "metadata": {},
     "output_type": "display_data"
    },
    {
     "data": {
      "text/plain": [
       "(41953, 5)"
      ]
     },
     "metadata": {},
     "output_type": "display_data"
    },
    {
     "data": {
      "text/plain": [
       "(10071, 5)"
      ]
     },
     "metadata": {},
     "output_type": "display_data"
    },
    {
     "data": {
      "text/plain": [
       "(10431, 5)"
      ]
     },
     "metadata": {},
     "output_type": "display_data"
    }
   ],
   "source": [
    "# for tt in ['train','test']:\n",
    "#     for pn in ['positive','negative']:\n",
    "#         print(tt,pn,test_dic[tt][np].shape)\n",
    "\n",
    "for tt in test_dic.values():\n",
    "    for df in tt.values():\n",
    "        display(df.shape)"
   ]
  },
  {
   "cell_type": "code",
   "execution_count": 15,
   "metadata": {},
   "outputs": [
    {
     "data": {
      "text/html": [
       "<div>\n",
       "<style scoped>\n",
       "    .dataframe tbody tr th:only-of-type {\n",
       "        vertical-align: middle;\n",
       "    }\n",
       "\n",
       "    .dataframe tbody tr th {\n",
       "        vertical-align: top;\n",
       "    }\n",
       "\n",
       "    .dataframe thead th {\n",
       "        text-align: right;\n",
       "    }\n",
       "</style>\n",
       "<table border=\"1\" class=\"dataframe\">\n",
       "  <thead>\n",
       "    <tr style=\"text-align: right;\">\n",
       "      <th></th>\n",
       "      <th>reviewerID</th>\n",
       "      <th>asin</th>\n",
       "      <th>reviewText</th>\n",
       "      <th>overall</th>\n",
       "      <th>words</th>\n",
       "    </tr>\n",
       "  </thead>\n",
       "  <tbody>\n",
       "    <tr>\n",
       "      <th>1897726</th>\n",
       "      <td>A3CVEWCVAKE93O</td>\n",
       "      <td>B00020BVYW</td>\n",
       "      <td>It was a good movie showing the harshness of Alaska, and the human spirit to keep going.  I liked it and would recommend it.</td>\n",
       "      <td>4.0</td>\n",
       "      <td>[wa, good, movie, showing, harshness, alaska, and, human, spirit, keep, going, liked, and, would, recommend]</td>\n",
       "    </tr>\n",
       "    <tr>\n",
       "      <th>1897729</th>\n",
       "      <td>A12KWSWHLN5YE1</td>\n",
       "      <td>B00020BVYW</td>\n",
       "      <td>We really enjoyed this movie..scary survival scenario under any circumstances, gripping right to the end. Just the right mix of fear and feel good for is.</td>\n",
       "      <td>4.0</td>\n",
       "      <td>[really, enjoyed, movie..scary, survival, scenario, circumstance, gripping, right, end, right, mix, fear, and, feel, good]</td>\n",
       "    </tr>\n",
       "  </tbody>\n",
       "</table>\n",
       "</div>"
      ],
      "text/plain": [
       "             reviewerID        asin  \\\n",
       "1897726  A3CVEWCVAKE93O  B00020BVYW   \n",
       "1897729  A12KWSWHLN5YE1  B00020BVYW   \n",
       "\n",
       "                                                                                                                                                         reviewText  \\\n",
       "1897726  It was a good movie showing the harshness of Alaska, and the human spirit to keep going.  I liked it and would recommend it.                                 \n",
       "1897729  We really enjoyed this movie..scary survival scenario under any circumstances, gripping right to the end. Just the right mix of fear and feel good for is.   \n",
       "\n",
       "         overall  \\\n",
       "1897726  4.0       \n",
       "1897729  4.0       \n",
       "\n",
       "                                                                                                                              words  \n",
       "1897726  [wa, good, movie, showing, harshness, alaska, and, human, spirit, keep, going, liked, and, would, recommend]                \n",
       "1897729  [really, enjoyed, movie..scary, survival, scenario, circumstance, gripping, right, end, right, mix, fear, and, feel, good]  "
      ]
     },
     "execution_count": 15,
     "metadata": {},
     "output_type": "execute_result"
    }
   ],
   "source": [
    "test_dic['train']['positive'].iloc[40162:40200,:]"
   ]
  },
  {
   "cell_type": "code",
   "execution_count": null,
   "metadata": {},
   "outputs": [],
   "source": [
    "# from IPython.display import Markdown, display\n",
    "\n",
    "# for tt in test_dic.values():\n",
    "#     for df in tt.values():\n",
    "#         display(df.head(3))"
   ]
  },
  {
   "cell_type": "code",
   "execution_count": null,
   "metadata": {},
   "outputs": [],
   "source": [
    "# type(test_dic['train']['positive']['reviewText'])"
   ]
  },
  {
   "cell_type": "code",
   "execution_count": null,
   "metadata": {},
   "outputs": [],
   "source": [
    "# test = test_dic['train']['positive'].drop(['sentence','words'],axis=1).iloc[:2,:]  # \n",
    "# test"
   ]
  },
  {
   "cell_type": "code",
   "execution_count": null,
   "metadata": {},
   "outputs": [],
   "source": [
    "# res = subj_filter.transform(\n",
    "#             test,\n",
    "#             'reviewText', \n",
    "#             threshold=OBJ_THRESHOLD,\n",
    "#             debug_level=2)"
   ]
  },
  {
   "cell_type": "code",
   "execution_count": null,
   "metadata": {},
   "outputs": [],
   "source": [
    "tp = subj_filter.transform(\n",
    "            test_dic['train']['positive'].drop(['sentence','words'],axis=1,errors='ignore'),\n",
    "            'reviewText', \n",
    "            threshold=OBJ_THRESHOLD,\n",
    "            debug_level=2)"
   ]
  },
  {
   "cell_type": "code",
   "execution_count": null,
   "metadata": {},
   "outputs": [],
   "source": [
    "pickle_out = open(data_path + 'tp_subj_movie_reviews_0.8.pkl', \"wb\")\n",
    "pickle.dump(movie_reviews, pickle_out)"
   ]
  },
  {
   "cell_type": "code",
   "execution_count": 19,
   "metadata": {},
   "outputs": [
    {
     "data": {
      "text/html": [
       "<div>\n",
       "<style scoped>\n",
       "    .dataframe tbody tr th:only-of-type {\n",
       "        vertical-align: middle;\n",
       "    }\n",
       "\n",
       "    .dataframe tbody tr th {\n",
       "        vertical-align: top;\n",
       "    }\n",
       "\n",
       "    .dataframe thead th {\n",
       "        text-align: right;\n",
       "    }\n",
       "</style>\n",
       "<table border=\"1\" class=\"dataframe\">\n",
       "  <thead>\n",
       "    <tr style=\"text-align: right;\">\n",
       "      <th></th>\n",
       "      <th>reviewerID</th>\n",
       "      <th>asin</th>\n",
       "      <th>reviewText</th>\n",
       "      <th>overall</th>\n",
       "    </tr>\n",
       "  </thead>\n",
       "  <tbody>\n",
       "    <tr>\n",
       "      <th>861912</th>\n",
       "      <td>A3KEABH9BZ1MPB</td>\n",
       "      <td>6303625800</td>\n",
       "      <td>The adults found it very boring and the children ages 8 and 10 said it was just ok</td>\n",
       "      <td>1.0</td>\n",
       "    </tr>\n",
       "    <tr>\n",
       "      <th>861931</th>\n",
       "      <td>A1EBEAG4PJOIB2</td>\n",
       "      <td>6303625800</td>\n",
       "      <td>Love this film, especially at Thanksgiving.  But as long as it's only available in the phony and insulting colorized version I won't touch it.  This is a piece of art.  Shame on those who tamper with this and other films.  It's like someone drawing a mustache on the Mona Lisa.</td>\n",
       "      <td>1.0</td>\n",
       "    </tr>\n",
       "    <tr>\n",
       "      <th>862419</th>\n",
       "      <td>A3MV1KKHX51FYT</td>\n",
       "      <td>6303626475</td>\n",
       "      <td>This is the film version of the J.B. Priestly horror novel. It was a dark and stormy night, a couple is driving on a muddy country road through the Welsh mountains. Their touring car does not have side curtains. They are lost, and pull into a house with lights. The Femm household has some strange characters. This house has its own electricity. There is conflict among the household, like when prayers are offered before a meal. Then a knock on the door brings another couple to this house; they are also lost. The guests tell about themselves. [Filming in the rain must have been a technical breakthrough that year.]When they go to fetch a lamp they hear a strange sound. Is there someone in a locked room? Does the butler have a drinking problem? Will something terrible happen? If a madman is locked up what will happen if he is released? Will the innocent survive and the guilty die?This is boring and almost unwatchable film, a waste of time. It does show the performances of some actors who became more famous years later. Some of the scenes reflect the hidden quirks of the actors.</td>\n",
       "      <td>1.0</td>\n",
       "    </tr>\n",
       "    <tr>\n",
       "      <th>862466</th>\n",
       "      <td>AM55WQ075SIK7</td>\n",
       "      <td>6303626475</td>\n",
       "      <td>the movie called The Old Dark House should be called The Old Dark Horrible Movie. Terrible!!!!! I'm sorry I listened to the other reviews. I gave it to Goodwill.</td>\n",
       "      <td>1.0</td>\n",
       "    </tr>\n",
       "    <tr>\n",
       "      <th>862856</th>\n",
       "      <td>A9XKE4OE48BNK</td>\n",
       "      <td>6303631940</td>\n",
       "      <td>This is actually neck-in-neck with Colin Baker's horrible regeneration story 'The Twin Dilemma'.  This mess isn't really  Sylvester McCoy's fault.  The script is wretched, the plot is nonsensical (even by Who standards), and the Rani actually seems to be looking at the TV audience at one point. Ugh.  It, like all of McCoy's first season, also commits the cardinal sin of being both excruciating and boring. Don't give up on McCoy though. Check out some of his stories from later in his run like Remembrance of  the Daleks and  Curse of Fenric.</td>\n",
       "      <td>1.0</td>\n",
       "    </tr>\n",
       "  </tbody>\n",
       "</table>\n",
       "</div>"
      ],
      "text/plain": [
       "            reviewerID        asin  \\\n",
       "861912  A3KEABH9BZ1MPB  6303625800   \n",
       "861931  A1EBEAG4PJOIB2  6303625800   \n",
       "862419  A3MV1KKHX51FYT  6303626475   \n",
       "862466  AM55WQ075SIK7   6303626475   \n",
       "862856  A9XKE4OE48BNK   6303631940   \n",
       "\n",
       "                                                                                                                                                                                                                                                                                                                                                                                                                                                                                                                                                                                                                                                                                                                                                                                                                                                                                                                                                                                                                                                                                                                               reviewText  \\\n",
       "861912  The adults found it very boring and the children ages 8 and 10 said it was just ok                                                                                                                                                                                                                                                                                                                                                                                                                                                                                                                                                                                                                                                                                                                                                                                                                                                                                                                                                                                                                                                  \n",
       "861931  Love this film, especially at Thanksgiving.  But as long as it's only available in the phony and insulting colorized version I won't touch it.  This is a piece of art.  Shame on those who tamper with this and other films.  It's like someone drawing a mustache on the Mona Lisa.                                                                                                                                                                                                                                                                                                                                                                                                                                                                                                                                                                                                                                                                                                                                                                                                                                               \n",
       "862419  This is the film version of the J.B. Priestly horror novel. It was a dark and stormy night, a couple is driving on a muddy country road through the Welsh mountains. Their touring car does not have side curtains. They are lost, and pull into a house with lights. The Femm household has some strange characters. This house has its own electricity. There is conflict among the household, like when prayers are offered before a meal. Then a knock on the door brings another couple to this house; they are also lost. The guests tell about themselves. [Filming in the rain must have been a technical breakthrough that year.]When they go to fetch a lamp they hear a strange sound. Is there someone in a locked room? Does the butler have a drinking problem? Will something terrible happen? If a madman is locked up what will happen if he is released? Will the innocent survive and the guilty die?This is boring and almost unwatchable film, a waste of time. It does show the performances of some actors who became more famous years later. Some of the scenes reflect the hidden quirks of the actors.   \n",
       "862466  the movie called The Old Dark House should be called The Old Dark Horrible Movie. Terrible!!!!! I'm sorry I listened to the other reviews. I gave it to Goodwill.                                                                                                                                                                                                                                                                                                                                                                                                                                                                                                                                                                                                                                                                                                                                                                                                                                                                                                                                                                   \n",
       "862856  This is actually neck-in-neck with Colin Baker's horrible regeneration story 'The Twin Dilemma'.  This mess isn't really  Sylvester McCoy's fault.  The script is wretched, the plot is nonsensical (even by Who standards), and the Rani actually seems to be looking at the TV audience at one point. Ugh.  It, like all of McCoy's first season, also commits the cardinal sin of being both excruciating and boring. Don't give up on McCoy though. Check out some of his stories from later in his run like Remembrance of  the Daleks and  Curse of Fenric.                                                                                                                                                                                                                                                                                                                                                                                                                                                                                                                                                                   \n",
       "\n",
       "        overall  \n",
       "861912  1.0      \n",
       "861931  1.0      \n",
       "862419  1.0      \n",
       "862466  1.0      \n",
       "862856  1.0      "
      ]
     },
     "execution_count": 19,
     "metadata": {},
     "output_type": "execute_result"
    }
   ],
   "source": [
    "df.iloc[:5,:]"
   ]
  },
  {
   "cell_type": "code",
   "execution_count": 24,
   "metadata": {},
   "outputs": [
    {
     "data": {
      "text/html": [
       "<div>\n",
       "<style scoped>\n",
       "    .dataframe tbody tr th:only-of-type {\n",
       "        vertical-align: middle;\n",
       "    }\n",
       "\n",
       "    .dataframe tbody tr th {\n",
       "        vertical-align: top;\n",
       "    }\n",
       "\n",
       "    .dataframe thead th {\n",
       "        text-align: right;\n",
       "    }\n",
       "</style>\n",
       "<table border=\"1\" class=\"dataframe\">\n",
       "  <thead>\n",
       "    <tr style=\"text-align: right;\">\n",
       "      <th></th>\n",
       "      <th>reviewerID</th>\n",
       "      <th>asin</th>\n",
       "      <th>reviewText</th>\n",
       "      <th>overall</th>\n",
       "    </tr>\n",
       "  </thead>\n",
       "  <tbody>\n",
       "    <tr>\n",
       "      <th>0</th>\n",
       "      <td>A1EBEAG4PJOIB2</td>\n",
       "      <td>6303625800</td>\n",
       "      <td>Love this film, especially at Thanksgiving. But as long as it's only available in the phony and insulting colorized version I won't touch it. This is a piece of art. Shame on those who tamper with this and other films. It's like someone drawing a mustache on the Mona Lisa. Love this film, especially at Thanksgiving.  But as long as it's only available in the phony and insulting colorized version I won't touch it.  This is a piece of art.  Shame on those who tamper with this and other films.  It's like someone drawing a mustache on the Mona Lisa.</td>\n",
       "      <td>1.0</td>\n",
       "    </tr>\n",
       "    <tr>\n",
       "      <th>1</th>\n",
       "      <td>A3KEABH9BZ1MPB</td>\n",
       "      <td>6303625800</td>\n",
       "      <td>The adults found it very boring and the children ages 8 and 10 said it was just ok The adults found it very boring and the children ages 8 and 10 said it was just ok</td>\n",
       "      <td>1.0</td>\n",
       "    </tr>\n",
       "    <tr>\n",
       "      <th>2</th>\n",
       "      <td>A3MV1KKHX51FYT</td>\n",
       "      <td>6303626475</td>\n",
       "      <td>This is the film version of the J.B. Priestly horror novel. The Femm household has some strange characters. This house has its own electricity. There is conflict among the household, like when prayers are offered before a meal. The guests tell about themselves. [Filming in the rain must have been a technical breakthrough that year. Is there someone in a locked room? Does the butler have a drinking problem? Will something terrible happen? If a madman is locked up what will happen if he is released? Will the innocent survive and the guilty die?This is boring and almost unwatchable film, a waste of time. It does show the performances of some actors who became more famous years later. Some of the scenes reflect the hidden quirks of the actors.</td>\n",
       "      <td>1.0</td>\n",
       "    </tr>\n",
       "    <tr>\n",
       "      <th>3</th>\n",
       "      <td>AM55WQ075SIK7</td>\n",
       "      <td>6303626475</td>\n",
       "      <td>the movie called The Old Dark House should be called The Old Dark Horrible Movie. Terrible!!!!! I'm sorry I listened to the other reviews. I gave it to Goodwill. the movie called The Old Dark House should be called The Old Dark Horrible Movie. Terrible!!!!! I'm sorry I listened to the other reviews. I gave it to Goodwill.</td>\n",
       "      <td>1.0</td>\n",
       "    </tr>\n",
       "    <tr>\n",
       "      <th>4</th>\n",
       "      <td>A9XKE4OE48BNK</td>\n",
       "      <td>6303631940</td>\n",
       "      <td>This is actually neck-in-neck with Colin Baker's horrible regeneration story 'The Twin Dilemma'. This mess isn't really  Sylvester McCoy's fault. The script is wretched, the plot is nonsensical (even by Who standards), and the Rani actually seems to be looking at the TV audience at one point. Ugh. It, like all of McCoy's first season, also commits the cardinal sin of being both excruciating and boring. Don't give up on McCoy though. Check out some of his stories from later in his run like Remembrance of  the Daleks and  Curse of Fenric. This is actually neck-in-neck with Colin Baker's horrible regeneration story 'The Twin Dilemma'.  This mess isn't really  Sylvester McCoy's fault.  The script is wretched, the plot is nonsensical (even by Who standards), and the Rani actually seems to be looking at the TV audience at one point. Ugh.  It, like all of McCoy's first season, also commits the cardinal sin of being both excruciating and boring. Don't give up on McCoy though. Check out some of his stories from later in his run like Remembrance of  the Daleks and  Curse of Fenric.</td>\n",
       "      <td>1.0</td>\n",
       "    </tr>\n",
       "  </tbody>\n",
       "</table>\n",
       "</div>"
      ],
      "text/plain": [
       "       reviewerID        asin  \\\n",
       "0  A1EBEAG4PJOIB2  6303625800   \n",
       "1  A3KEABH9BZ1MPB  6303625800   \n",
       "2  A3MV1KKHX51FYT  6303626475   \n",
       "3  AM55WQ075SIK7   6303626475   \n",
       "4  A9XKE4OE48BNK   6303631940   \n",
       "\n",
       "                                                                                                                                                                                                                                                                                                                                                                                                                                                                                                                                                                                                                                                                                                                                                                                                                                                                                                                                                                                                                                                                                                                          reviewText  \\\n",
       "0   Love this film, especially at Thanksgiving. But as long as it's only available in the phony and insulting colorized version I won't touch it. This is a piece of art. Shame on those who tamper with this and other films. It's like someone drawing a mustache on the Mona Lisa. Love this film, especially at Thanksgiving.  But as long as it's only available in the phony and insulting colorized version I won't touch it.  This is a piece of art.  Shame on those who tamper with this and other films.  It's like someone drawing a mustache on the Mona Lisa.                                                                                                                                                                                                                                                                                                                                                                                                                                                                                                                                                            \n",
       "1   The adults found it very boring and the children ages 8 and 10 said it was just ok The adults found it very boring and the children ages 8 and 10 said it was just ok                                                                                                                                                                                                                                                                                                                                                                                                                                                                                                                                                                                                                                                                                                                                                                                                                                                                                                                                                              \n",
       "2   This is the film version of the J.B. Priestly horror novel. The Femm household has some strange characters. This house has its own electricity. There is conflict among the household, like when prayers are offered before a meal. The guests tell about themselves. [Filming in the rain must have been a technical breakthrough that year. Is there someone in a locked room? Does the butler have a drinking problem? Will something terrible happen? If a madman is locked up what will happen if he is released? Will the innocent survive and the guilty die?This is boring and almost unwatchable film, a waste of time. It does show the performances of some actors who became more famous years later. Some of the scenes reflect the hidden quirks of the actors.                                                                                                                                                                                                                                                                                                                                                      \n",
       "3   the movie called The Old Dark House should be called The Old Dark Horrible Movie. Terrible!!!!! I'm sorry I listened to the other reviews. I gave it to Goodwill. the movie called The Old Dark House should be called The Old Dark Horrible Movie. Terrible!!!!! I'm sorry I listened to the other reviews. I gave it to Goodwill.                                                                                                                                                                                                                                                                                                                                                                                                                                                                                                                                                                                                                                                                                                                                                                                                \n",
       "4   This is actually neck-in-neck with Colin Baker's horrible regeneration story 'The Twin Dilemma'. This mess isn't really  Sylvester McCoy's fault. The script is wretched, the plot is nonsensical (even by Who standards), and the Rani actually seems to be looking at the TV audience at one point. Ugh. It, like all of McCoy's first season, also commits the cardinal sin of being both excruciating and boring. Don't give up on McCoy though. Check out some of his stories from later in his run like Remembrance of  the Daleks and  Curse of Fenric. This is actually neck-in-neck with Colin Baker's horrible regeneration story 'The Twin Dilemma'.  This mess isn't really  Sylvester McCoy's fault.  The script is wretched, the plot is nonsensical (even by Who standards), and the Rani actually seems to be looking at the TV audience at one point. Ugh.  It, like all of McCoy's first season, also commits the cardinal sin of being both excruciating and boring. Don't give up on McCoy though. Check out some of his stories from later in his run like Remembrance of  the Daleks and  Curse of Fenric.   \n",
       "\n",
       "   overall  \n",
       "0  1.0      \n",
       "1  1.0      \n",
       "2  1.0      \n",
       "3  1.0      \n",
       "4  1.0      "
      ]
     },
     "execution_count": 24,
     "metadata": {},
     "output_type": "execute_result"
    }
   ],
   "source": [
    "res['test']['negative']"
   ]
  },
  {
   "cell_type": "code",
   "execution_count": 25,
   "metadata": {
    "scrolled": true
   },
   "outputs": [
    {
     "name": "stderr",
     "output_type": "stream",
     "text": [
      "../subjective_filter.py:28: SettingWithCopyWarning: \n",
      "A value is trying to be set on a copy of a slice from a DataFrame.\n",
      "Try using .loc[row_indexer,col_indexer] = value instead\n",
      "\n",
      "See the caveats in the documentation: http://pandas.pydata.org/pandas-docs/stable/indexing.html#indexing-view-versus-copy\n",
      "  df['sentence'] = df['reviewText'].map(\n"
     ]
    },
    {
     "data": {
      "text/markdown": [
       "#### => Removed 5902 (15%) objective sentences"
      ],
      "text/plain": [
       "<IPython.core.display.Markdown object>"
      ]
     },
     "metadata": {},
     "output_type": "display_data"
    },
    {
     "data": {
      "text/markdown": [
       "#### => Removed 37 (1%) reviews with no emotional content"
      ],
      "text/plain": [
       "<IPython.core.display.Markdown object>"
      ]
     },
     "metadata": {},
     "output_type": "display_data"
    },
    {
     "name": "stderr",
     "output_type": "stream",
     "text": [
      "../subjective_filter.py:28: SettingWithCopyWarning: \n",
      "A value is trying to be set on a copy of a slice from a DataFrame.\n",
      "Try using .loc[row_indexer,col_indexer] = value instead\n",
      "\n",
      "See the caveats in the documentation: http://pandas.pydata.org/pandas-docs/stable/indexing.html#indexing-view-versus-copy\n",
      "  df['sentence'] = df['reviewText'].map(\n"
     ]
    },
    {
     "data": {
      "text/markdown": [
       "#### => Removed 6064 (15%) objective sentences"
      ],
      "text/plain": [
       "<IPython.core.display.Markdown object>"
      ]
     },
     "metadata": {},
     "output_type": "display_data"
    },
    {
     "data": {
      "text/markdown": [
       "#### => Removed 37 (1%) reviews with no emotional content"
      ],
      "text/plain": [
       "<IPython.core.display.Markdown object>"
      ]
     },
     "metadata": {},
     "output_type": "display_data"
    },
    {
     "name": "stderr",
     "output_type": "stream",
     "text": [
      "../subjective_filter.py:28: SettingWithCopyWarning: \n",
      "A value is trying to be set on a copy of a slice from a DataFrame.\n",
      "Try using .loc[row_indexer,col_indexer] = value instead\n",
      "\n",
      "See the caveats in the documentation: http://pandas.pydata.org/pandas-docs/stable/indexing.html#indexing-view-versus-copy\n",
      "  df['sentence'] = df['reviewText'].map(\n"
     ]
    },
    {
     "data": {
      "text/markdown": [
       "#### => Removed 5923 (16%) objective sentences"
      ],
      "text/plain": [
       "<IPython.core.display.Markdown object>"
      ]
     },
     "metadata": {},
     "output_type": "display_data"
    },
    {
     "data": {
      "text/markdown": [
       "#### => Removed 37 (1%) reviews with no emotional content"
      ],
      "text/plain": [
       "<IPython.core.display.Markdown object>"
      ]
     },
     "metadata": {},
     "output_type": "display_data"
    },
    {
     "name": "stderr",
     "output_type": "stream",
     "text": [
      "../subjective_filter.py:28: SettingWithCopyWarning: \n",
      "A value is trying to be set on a copy of a slice from a DataFrame.\n",
      "Try using .loc[row_indexer,col_indexer] = value instead\n",
      "\n",
      "See the caveats in the documentation: http://pandas.pydata.org/pandas-docs/stable/indexing.html#indexing-view-versus-copy\n",
      "  df['sentence'] = df['reviewText'].map(\n"
     ]
    },
    {
     "data": {
      "text/markdown": [
       "#### => Removed 6436 (16%) objective sentences"
      ],
      "text/plain": [
       "<IPython.core.display.Markdown object>"
      ]
     },
     "metadata": {},
     "output_type": "display_data"
    },
    {
     "data": {
      "text/markdown": [
       "#### => Removed 42 (1%) reviews with no emotional content"
      ],
      "text/plain": [
       "<IPython.core.display.Markdown object>"
      ]
     },
     "metadata": {},
     "output_type": "display_data"
    },
    {
     "name": "stderr",
     "output_type": "stream",
     "text": [
      "../subjective_filter.py:28: SettingWithCopyWarning: \n",
      "A value is trying to be set on a copy of a slice from a DataFrame.\n",
      "Try using .loc[row_indexer,col_indexer] = value instead\n",
      "\n",
      "See the caveats in the documentation: http://pandas.pydata.org/pandas-docs/stable/indexing.html#indexing-view-versus-copy\n",
      "  df['sentence'] = df['reviewText'].map(\n"
     ]
    },
    {
     "data": {
      "text/markdown": [
       "#### => Removed 6141 (16%) objective sentences"
      ],
      "text/plain": [
       "<IPython.core.display.Markdown object>"
      ]
     },
     "metadata": {},
     "output_type": "display_data"
    },
    {
     "data": {
      "text/markdown": [
       "#### => Removed 38 (1%) reviews with no emotional content"
      ],
      "text/plain": [
       "<IPython.core.display.Markdown object>"
      ]
     },
     "metadata": {},
     "output_type": "display_data"
    },
    {
     "name": "stderr",
     "output_type": "stream",
     "text": [
      "../subjective_filter.py:28: SettingWithCopyWarning: \n",
      "A value is trying to be set on a copy of a slice from a DataFrame.\n",
      "Try using .loc[row_indexer,col_indexer] = value instead\n",
      "\n",
      "See the caveats in the documentation: http://pandas.pydata.org/pandas-docs/stable/indexing.html#indexing-view-versus-copy\n",
      "  df['sentence'] = df['reviewText'].map(\n"
     ]
    },
    {
     "data": {
      "text/markdown": [
       "#### => Removed 5373 (15%) objective sentences"
      ],
      "text/plain": [
       "<IPython.core.display.Markdown object>"
      ]
     },
     "metadata": {},
     "output_type": "display_data"
    },
    {
     "data": {
      "text/markdown": [
       "#### => Removed 38 (1%) reviews with no emotional content"
      ],
      "text/plain": [
       "<IPython.core.display.Markdown object>"
      ]
     },
     "metadata": {},
     "output_type": "display_data"
    },
    {
     "name": "stderr",
     "output_type": "stream",
     "text": [
      "../subjective_filter.py:28: SettingWithCopyWarning: \n",
      "A value is trying to be set on a copy of a slice from a DataFrame.\n",
      "Try using .loc[row_indexer,col_indexer] = value instead\n",
      "\n",
      "See the caveats in the documentation: http://pandas.pydata.org/pandas-docs/stable/indexing.html#indexing-view-versus-copy\n",
      "  df['sentence'] = df['reviewText'].map(\n"
     ]
    },
    {
     "data": {
      "text/markdown": [
       "#### => Removed 5286 (15%) objective sentences"
      ],
      "text/plain": [
       "<IPython.core.display.Markdown object>"
      ]
     },
     "metadata": {},
     "output_type": "display_data"
    },
    {
     "data": {
      "text/markdown": [
       "#### => Removed 38 (1%) reviews with no emotional content"
      ],
      "text/plain": [
       "<IPython.core.display.Markdown object>"
      ]
     },
     "metadata": {},
     "output_type": "display_data"
    },
    {
     "name": "stderr",
     "output_type": "stream",
     "text": [
      "../subjective_filter.py:28: SettingWithCopyWarning: \n",
      "A value is trying to be set on a copy of a slice from a DataFrame.\n",
      "Try using .loc[row_indexer,col_indexer] = value instead\n",
      "\n",
      "See the caveats in the documentation: http://pandas.pydata.org/pandas-docs/stable/indexing.html#indexing-view-versus-copy\n",
      "  df['sentence'] = df['reviewText'].map(\n"
     ]
    },
    {
     "data": {
      "text/markdown": [
       "#### => Removed 6017 (16%) objective sentences"
      ],
      "text/plain": [
       "<IPython.core.display.Markdown object>"
      ]
     },
     "metadata": {},
     "output_type": "display_data"
    },
    {
     "data": {
      "text/markdown": [
       "#### => Removed 36 (1%) reviews with no emotional content"
      ],
      "text/plain": [
       "<IPython.core.display.Markdown object>"
      ]
     },
     "metadata": {},
     "output_type": "display_data"
    },
    {
     "name": "stderr",
     "output_type": "stream",
     "text": [
      "../subjective_filter.py:28: SettingWithCopyWarning: \n",
      "A value is trying to be set on a copy of a slice from a DataFrame.\n",
      "Try using .loc[row_indexer,col_indexer] = value instead\n",
      "\n",
      "See the caveats in the documentation: http://pandas.pydata.org/pandas-docs/stable/indexing.html#indexing-view-versus-copy\n",
      "  df['sentence'] = df['reviewText'].map(\n"
     ]
    },
    {
     "data": {
      "text/markdown": [
       "#### => Removed 72 (11%) objective sentences"
      ],
      "text/plain": [
       "<IPython.core.display.Markdown object>"
      ]
     },
     "metadata": {},
     "output_type": "display_data"
    },
    {
     "data": {
      "text/markdown": [
       "#### => Removed 2 (1%) reviews with no emotional content"
      ],
      "text/plain": [
       "<IPython.core.display.Markdown object>"
      ]
     },
     "metadata": {},
     "output_type": "display_data"
    },
    {
     "name": "stderr",
     "output_type": "stream",
     "text": [
      "../subjective_filter.py:28: SettingWithCopyWarning: \n",
      "A value is trying to be set on a copy of a slice from a DataFrame.\n",
      "Try using .loc[row_indexer,col_indexer] = value instead\n",
      "\n",
      "See the caveats in the documentation: http://pandas.pydata.org/pandas-docs/stable/indexing.html#indexing-view-versus-copy\n",
      "  df['sentence'] = df['reviewText'].map(\n"
     ]
    },
    {
     "data": {
      "text/markdown": [
       "#### => Removed 3218 (9%) objective sentences"
      ],
      "text/plain": [
       "<IPython.core.display.Markdown object>"
      ]
     },
     "metadata": {},
     "output_type": "display_data"
    },
    {
     "data": {
      "text/markdown": [
       "#### => Removed 17 (0%) reviews with no emotional content"
      ],
      "text/plain": [
       "<IPython.core.display.Markdown object>"
      ]
     },
     "metadata": {},
     "output_type": "display_data"
    },
    {
     "name": "stderr",
     "output_type": "stream",
     "text": [
      "../subjective_filter.py:28: SettingWithCopyWarning: \n",
      "A value is trying to be set on a copy of a slice from a DataFrame.\n",
      "Try using .loc[row_indexer,col_indexer] = value instead\n",
      "\n",
      "See the caveats in the documentation: http://pandas.pydata.org/pandas-docs/stable/indexing.html#indexing-view-versus-copy\n",
      "  df['sentence'] = df['reviewText'].map(\n"
     ]
    },
    {
     "data": {
      "text/markdown": [
       "#### => Removed 3119 (8%) objective sentences"
      ],
      "text/plain": [
       "<IPython.core.display.Markdown object>"
      ]
     },
     "metadata": {},
     "output_type": "display_data"
    },
    {
     "data": {
      "text/markdown": [
       "#### => Removed 14 (0%) reviews with no emotional content"
      ],
      "text/plain": [
       "<IPython.core.display.Markdown object>"
      ]
     },
     "metadata": {},
     "output_type": "display_data"
    },
    {
     "name": "stderr",
     "output_type": "stream",
     "text": [
      "../subjective_filter.py:28: SettingWithCopyWarning: \n",
      "A value is trying to be set on a copy of a slice from a DataFrame.\n",
      "Try using .loc[row_indexer,col_indexer] = value instead\n",
      "\n",
      "See the caveats in the documentation: http://pandas.pydata.org/pandas-docs/stable/indexing.html#indexing-view-versus-copy\n",
      "  df['sentence'] = df['reviewText'].map(\n"
     ]
    },
    {
     "data": {
      "text/markdown": [
       "#### => Removed 3359 (9%) objective sentences"
      ],
      "text/plain": [
       "<IPython.core.display.Markdown object>"
      ]
     },
     "metadata": {},
     "output_type": "display_data"
    },
    {
     "data": {
      "text/markdown": [
       "#### => Removed 17 (0%) reviews with no emotional content"
      ],
      "text/plain": [
       "<IPython.core.display.Markdown object>"
      ]
     },
     "metadata": {},
     "output_type": "display_data"
    },
    {
     "name": "stderr",
     "output_type": "stream",
     "text": [
      "../subjective_filter.py:28: SettingWithCopyWarning: \n",
      "A value is trying to be set on a copy of a slice from a DataFrame.\n",
      "Try using .loc[row_indexer,col_indexer] = value instead\n",
      "\n",
      "See the caveats in the documentation: http://pandas.pydata.org/pandas-docs/stable/indexing.html#indexing-view-versus-copy\n",
      "  df['sentence'] = df['reviewText'].map(\n"
     ]
    },
    {
     "data": {
      "text/markdown": [
       "#### => Removed 3725 (9%) objective sentences"
      ],
      "text/plain": [
       "<IPython.core.display.Markdown object>"
      ]
     },
     "metadata": {},
     "output_type": "display_data"
    },
    {
     "data": {
      "text/markdown": [
       "#### => Removed 13 (0%) reviews with no emotional content"
      ],
      "text/plain": [
       "<IPython.core.display.Markdown object>"
      ]
     },
     "metadata": {},
     "output_type": "display_data"
    },
    {
     "name": "stderr",
     "output_type": "stream",
     "text": [
      "../subjective_filter.py:28: SettingWithCopyWarning: \n",
      "A value is trying to be set on a copy of a slice from a DataFrame.\n",
      "Try using .loc[row_indexer,col_indexer] = value instead\n",
      "\n",
      "See the caveats in the documentation: http://pandas.pydata.org/pandas-docs/stable/indexing.html#indexing-view-versus-copy\n",
      "  df['sentence'] = df['reviewText'].map(\n"
     ]
    },
    {
     "data": {
      "text/markdown": [
       "#### => Removed 3690 (9%) objective sentences"
      ],
      "text/plain": [
       "<IPython.core.display.Markdown object>"
      ]
     },
     "metadata": {},
     "output_type": "display_data"
    },
    {
     "data": {
      "text/markdown": [
       "#### => Removed 19 (0%) reviews with no emotional content"
      ],
      "text/plain": [
       "<IPython.core.display.Markdown object>"
      ]
     },
     "metadata": {},
     "output_type": "display_data"
    },
    {
     "name": "stderr",
     "output_type": "stream",
     "text": [
      "../subjective_filter.py:28: SettingWithCopyWarning: \n",
      "A value is trying to be set on a copy of a slice from a DataFrame.\n",
      "Try using .loc[row_indexer,col_indexer] = value instead\n",
      "\n",
      "See the caveats in the documentation: http://pandas.pydata.org/pandas-docs/stable/indexing.html#indexing-view-versus-copy\n",
      "  df['sentence'] = df['reviewText'].map(\n"
     ]
    },
    {
     "data": {
      "text/markdown": [
       "#### => Removed 4048 (10%) objective sentences"
      ],
      "text/plain": [
       "<IPython.core.display.Markdown object>"
      ]
     },
     "metadata": {},
     "output_type": "display_data"
    },
    {
     "data": {
      "text/markdown": [
       "#### => Removed 9 (0%) reviews with no emotional content"
      ],
      "text/plain": [
       "<IPython.core.display.Markdown object>"
      ]
     },
     "metadata": {},
     "output_type": "display_data"
    },
    {
     "name": "stderr",
     "output_type": "stream",
     "text": [
      "../subjective_filter.py:28: SettingWithCopyWarning: \n",
      "A value is trying to be set on a copy of a slice from a DataFrame.\n",
      "Try using .loc[row_indexer,col_indexer] = value instead\n",
      "\n",
      "See the caveats in the documentation: http://pandas.pydata.org/pandas-docs/stable/indexing.html#indexing-view-versus-copy\n",
      "  df['sentence'] = df['reviewText'].map(\n"
     ]
    },
    {
     "data": {
      "text/markdown": [
       "#### => Removed 3405 (9%) objective sentences"
      ],
      "text/plain": [
       "<IPython.core.display.Markdown object>"
      ]
     },
     "metadata": {},
     "output_type": "display_data"
    },
    {
     "data": {
      "text/markdown": [
       "#### => Removed 21 (0%) reviews with no emotional content"
      ],
      "text/plain": [
       "<IPython.core.display.Markdown object>"
      ]
     },
     "metadata": {},
     "output_type": "display_data"
    },
    {
     "name": "stderr",
     "output_type": "stream",
     "text": [
      "../subjective_filter.py:28: SettingWithCopyWarning: \n",
      "A value is trying to be set on a copy of a slice from a DataFrame.\n",
      "Try using .loc[row_indexer,col_indexer] = value instead\n",
      "\n",
      "See the caveats in the documentation: http://pandas.pydata.org/pandas-docs/stable/indexing.html#indexing-view-versus-copy\n",
      "  df['sentence'] = df['reviewText'].map(\n"
     ]
    },
    {
     "data": {
      "text/markdown": [
       "#### => Removed 3721 (10%) objective sentences"
      ],
      "text/plain": [
       "<IPython.core.display.Markdown object>"
      ]
     },
     "metadata": {},
     "output_type": "display_data"
    },
    {
     "data": {
      "text/markdown": [
       "#### => Removed 21 (0%) reviews with no emotional content"
      ],
      "text/plain": [
       "<IPython.core.display.Markdown object>"
      ]
     },
     "metadata": {},
     "output_type": "display_data"
    },
    {
     "name": "stderr",
     "output_type": "stream",
     "text": [
      "../subjective_filter.py:28: SettingWithCopyWarning: \n",
      "A value is trying to be set on a copy of a slice from a DataFrame.\n",
      "Try using .loc[row_indexer,col_indexer] = value instead\n",
      "\n",
      "See the caveats in the documentation: http://pandas.pydata.org/pandas-docs/stable/indexing.html#indexing-view-versus-copy\n",
      "  df['sentence'] = df['reviewText'].map(\n"
     ]
    },
    {
     "data": {
      "text/markdown": [
       "#### => Removed 1338 (9%) objective sentences"
      ],
      "text/plain": [
       "<IPython.core.display.Markdown object>"
      ]
     },
     "metadata": {},
     "output_type": "display_data"
    },
    {
     "data": {
      "text/markdown": [
       "#### => Removed 5 (0%) reviews with no emotional content"
      ],
      "text/plain": [
       "<IPython.core.display.Markdown object>"
      ]
     },
     "metadata": {},
     "output_type": "display_data"
    },
    {
     "name": "stderr",
     "output_type": "stream",
     "text": [
      "../subjective_filter.py:28: SettingWithCopyWarning: \n",
      "A value is trying to be set on a copy of a slice from a DataFrame.\n",
      "Try using .loc[row_indexer,col_indexer] = value instead\n",
      "\n",
      "See the caveats in the documentation: http://pandas.pydata.org/pandas-docs/stable/indexing.html#indexing-view-versus-copy\n",
      "  df['sentence'] = df['reviewText'].map(\n"
     ]
    },
    {
     "data": {
      "text/markdown": [
       "#### => Removed 6199 (16%) objective sentences"
      ],
      "text/plain": [
       "<IPython.core.display.Markdown object>"
      ]
     },
     "metadata": {},
     "output_type": "display_data"
    },
    {
     "data": {
      "text/markdown": [
       "#### => Removed 34 (1%) reviews with no emotional content"
      ],
      "text/plain": [
       "<IPython.core.display.Markdown object>"
      ]
     },
     "metadata": {},
     "output_type": "display_data"
    },
    {
     "name": "stderr",
     "output_type": "stream",
     "text": [
      "../subjective_filter.py:28: SettingWithCopyWarning: \n",
      "A value is trying to be set on a copy of a slice from a DataFrame.\n",
      "Try using .loc[row_indexer,col_indexer] = value instead\n",
      "\n",
      "See the caveats in the documentation: http://pandas.pydata.org/pandas-docs/stable/indexing.html#indexing-view-versus-copy\n",
      "  df['sentence'] = df['reviewText'].map(\n"
     ]
    },
    {
     "data": {
      "text/markdown": [
       "#### => Removed 5785 (15%) objective sentences"
      ],
      "text/plain": [
       "<IPython.core.display.Markdown object>"
      ]
     },
     "metadata": {},
     "output_type": "display_data"
    },
    {
     "data": {
      "text/markdown": [
       "#### => Removed 36 (1%) reviews with no emotional content"
      ],
      "text/plain": [
       "<IPython.core.display.Markdown object>"
      ]
     },
     "metadata": {},
     "output_type": "display_data"
    },
    {
     "name": "stderr",
     "output_type": "stream",
     "text": [
      "../subjective_filter.py:28: SettingWithCopyWarning: \n",
      "A value is trying to be set on a copy of a slice from a DataFrame.\n",
      "Try using .loc[row_indexer,col_indexer] = value instead\n",
      "\n",
      "See the caveats in the documentation: http://pandas.pydata.org/pandas-docs/stable/indexing.html#indexing-view-versus-copy\n",
      "  df['sentence'] = df['reviewText'].map(\n"
     ]
    },
    {
     "data": {
      "text/markdown": [
       "#### => Removed 48 (13%) objective sentences"
      ],
      "text/plain": [
       "<IPython.core.display.Markdown object>"
      ]
     },
     "metadata": {},
     "output_type": "display_data"
    },
    {
     "data": {
      "text/markdown": [
       "#### => Removed 3 (4%) reviews with no emotional content"
      ],
      "text/plain": [
       "<IPython.core.display.Markdown object>"
      ]
     },
     "metadata": {},
     "output_type": "display_data"
    },
    {
     "name": "stderr",
     "output_type": "stream",
     "text": [
      "../subjective_filter.py:28: SettingWithCopyWarning: \n",
      "A value is trying to be set on a copy of a slice from a DataFrame.\n",
      "Try using .loc[row_indexer,col_indexer] = value instead\n",
      "\n",
      "See the caveats in the documentation: http://pandas.pydata.org/pandas-docs/stable/indexing.html#indexing-view-versus-copy\n",
      "  df['sentence'] = df['reviewText'].map(\n"
     ]
    },
    {
     "data": {
      "text/markdown": [
       "#### => Removed 3411 (9%) objective sentences"
      ],
      "text/plain": [
       "<IPython.core.display.Markdown object>"
      ]
     },
     "metadata": {},
     "output_type": "display_data"
    },
    {
     "data": {
      "text/markdown": [
       "#### => Removed 10 (0%) reviews with no emotional content"
      ],
      "text/plain": [
       "<IPython.core.display.Markdown object>"
      ]
     },
     "metadata": {},
     "output_type": "display_data"
    },
    {
     "name": "stderr",
     "output_type": "stream",
     "text": [
      "../subjective_filter.py:28: SettingWithCopyWarning: \n",
      "A value is trying to be set on a copy of a slice from a DataFrame.\n",
      "Try using .loc[row_indexer,col_indexer] = value instead\n",
      "\n",
      "See the caveats in the documentation: http://pandas.pydata.org/pandas-docs/stable/indexing.html#indexing-view-versus-copy\n",
      "  df['sentence'] = df['reviewText'].map(\n"
     ]
    },
    {
     "data": {
      "text/markdown": [
       "#### => Removed 3850 (9%) objective sentences"
      ],
      "text/plain": [
       "<IPython.core.display.Markdown object>"
      ]
     },
     "metadata": {},
     "output_type": "display_data"
    },
    {
     "data": {
      "text/markdown": [
       "#### => Removed 14 (0%) reviews with no emotional content"
      ],
      "text/plain": [
       "<IPython.core.display.Markdown object>"
      ]
     },
     "metadata": {},
     "output_type": "display_data"
    },
    {
     "name": "stderr",
     "output_type": "stream",
     "text": [
      "../subjective_filter.py:28: SettingWithCopyWarning: \n",
      "A value is trying to be set on a copy of a slice from a DataFrame.\n",
      "Try using .loc[row_indexer,col_indexer] = value instead\n",
      "\n",
      "See the caveats in the documentation: http://pandas.pydata.org/pandas-docs/stable/indexing.html#indexing-view-versus-copy\n",
      "  df['sentence'] = df['reviewText'].map(\n"
     ]
    },
    {
     "data": {
      "text/markdown": [
       "#### => Removed 280 (9%) objective sentences"
      ],
      "text/plain": [
       "<IPython.core.display.Markdown object>"
      ]
     },
     "metadata": {},
     "output_type": "display_data"
    },
    {
     "data": {
      "text/markdown": [
       "#### => Removed 3 (1%) reviews with no emotional content"
      ],
      "text/plain": [
       "<IPython.core.display.Markdown object>"
      ]
     },
     "metadata": {},
     "output_type": "display_data"
    }
   ],
   "source": [
    "CHUNK_SZ = 5000\n",
    "res = {'train':{},'test':{}}\n",
    "\n",
    "for ttname, tt in test_dic.items():\n",
    "    for pn, df in tt.items():\n",
    "        df = df.drop(['sentence','words'],axis=1,errors='ignore')\n",
    "        df_list = []\n",
    "        start = 0\n",
    "        while start < df.shape[0]:\n",
    "            end = start + CHUNK_SZ\n",
    "            df_list.append(\n",
    "                subj_filter.transform(\n",
    "                    df.iloc[start:end,:],\n",
    "                    'reviewText', \n",
    "                    threshold=OBJ_THRESHOLD,\n",
    "                    debug_level=0) \\\n",
    "                .rename(columns={\"sentence\": \"reviewText\"}))\n",
    "            start = end\n",
    "\n",
    "        res[ttname][pn] = df_list.pop()\n",
    "        while len(df_list) > 0:\n",
    "            res[ttname][pn] = pd.merge(df_list.pop(), res[ttname][pn], how='outer')\n",
    "#         res[ttname][pn] = reduce(lambda x, y: pd.merge(x, y, on = ['reviewerID','asin']), dfList)"
   ]
  },
  {
   "cell_type": "code",
   "execution_count": 35,
   "metadata": {},
   "outputs": [
    {
     "name": "stdout",
     "output_type": "stream",
     "text": [
      "\n",
      " train positive\n",
      "Dropped: 305 (0.8%)\n",
      "\n",
      " train negative\n",
      "Dropped: 136 (0.3%)\n",
      "\n",
      " test positive\n",
      "Dropped: 73 (0.7%)\n",
      "\n",
      " test negative\n",
      "Dropped: 27 (0.3%)\n",
      "\n",
      "Old total: 102619\n",
      "New total: 102078\n",
      "Removed a total of: 541\n"
     ]
    }
   ],
   "source": [
    "total = 0\n",
    "old_total = 0\n",
    "for tt in ['train', 'test']:\n",
    "    for pn in ['positive', 'negative']:\n",
    "        print('\\n {} {}'.format(tt,pn))\n",
    "        tot = test_dic[tt][pn].shape[0]\n",
    "        new = res[tt][pn].shape[0]\n",
    "        dropped = tot - new\n",
    "        print('Dropped: {0} ({1:.1%})'.format(dropped, dropped/tot))\n",
    "        total += new\n",
    "        old_total += tot\n",
    "print('\\nOld total:', old_total)\n",
    "print('New total:', total)\n",
    "print('Removed a total of:', old_total - total)"
   ]
  },
  {
   "cell_type": "code",
   "execution_count": 34,
   "metadata": {},
   "outputs": [],
   "source": [
    "pickle_out = open(data_path\n",
    "                    + 'subj_movie_reviews_0.8.pkl'\n",
    "                    , \"wb\")\n",
    "pickle.dump(res, pickle_out)\n",
    "pickle_out.close()"
   ]
  },
  {
   "cell_type": "code",
   "execution_count": null,
   "metadata": {},
   "outputs": [],
   "source": [
    "if 'A' in CASES:\n",
    "    abtest['A'] = {\n",
    "            'train': {\n",
    "                'reviews_df': reviews['train']\n",
    "            },\n",
    "            'test': {\n",
    "                'reviews_df': reviews['test']\n",
    "            }\n",
    "        }\n",
    "\n",
    "if 'B' in CASES:\n",
    "    'B': {\n",
    "        'train': {\n",
    "            'reviews_df': subj_filter.transform(reviews['train'],'reviewText', \n",
    "                                        threshold=OBJ_THRESHOLD,\n",
    "                                        debug_level=2)\n",
    "                                    .rename(columns={\"sentence\": \"reviewText\"}),\n",
    "        },\n",
    "        'test': {\n",
    "            'reviews_df': subj_filter.transform(reviews['test'],'reviewText',\n",
    "                                        threshold=OBJ_THRESHOLD,\n",
    "                                        debug_level=2)\n",
    "                                    .rename(columns={\"sentence\": \"reviewText\"}),\n",
    "        }\n",
    "    }"
   ]
  },
  {
   "cell_type": "code",
   "execution_count": null,
   "metadata": {},
   "outputs": [],
   "source": [
    "# res = subj_filter.transform(test_reviews.iloc[:200,:],'reviewText', debug_level=10)"
   ]
  },
  {
   "cell_type": "code",
   "execution_count": null,
   "metadata": {},
   "outputs": [],
   "source": [
    "def info(ab, train_test, df, nb_lines=3):\n",
    "    print(abtest[ab][train_test][df].shape)\n",
    "    display(abtest[ab][train_test][df].head(nb_lines))\n",
    "info('A','test','reviews_df', 2)\n",
    "info('B','test','reviews_df', 2)"
   ]
  },
  {
   "cell_type": "markdown",
   "metadata": {},
   "source": [
    "## Create bag of words\n",
    "Remove accents  \n",
    "Tokenize  \n",
    "Lower the case  \n",
    "Apply custom stop words (keep all negations)  \n",
    "Remove all non alphabetic characters  \n",
    "Lematize  \n",
    " \n",
    "Output:  \n",
    "One list of words for each review "
   ]
  },
  {
   "cell_type": "code",
   "execution_count": null,
   "metadata": {},
   "outputs": [],
   "source": [
    "abtest.pop('y', None)"
   ]
  },
  {
   "cell_type": "code",
   "execution_count": null,
   "metadata": {},
   "outputs": [],
   "source": [
    "word_bag = WordBag()\n",
    "for train_test_dico in abtest.values():\n",
    "    for dico in train_test_dico.values():\n",
    "        # print(dico['reviews_df'].keys())\n",
    "        dico['reviews_df']['word_bag'] = word_bag.create_word_bag(\n",
    "            dico['reviews_df']['reviewText'], \n",
    "            remove_stop_words=True, \n",
    "            lemmatize=True)"
   ]
  },
  {
   "cell_type": "code",
   "execution_count": null,
   "metadata": {},
   "outputs": [],
   "source": [
    "info('A','test','reviews_df', 1)\n",
    "# info('B','test','reviews_df', 2)"
   ]
  },
  {
   "cell_type": "code",
   "execution_count": null,
   "metadata": {},
   "outputs": [],
   "source": [
    "# %reload_ext autoreload\n",
    "# word_bag = WordBag()\n",
    "\n",
    "# for i in ['train','test']:\n",
    "#     for j in ['positive','negative']:\n",
    "#         train_test_dic[i][j]['words'] = \\\n",
    "#             word_bag.create(train_test_dic[i][j]['reviewText'])"
   ]
  },
  {
   "cell_type": "markdown",
   "metadata": {},
   "source": [
    "## Remove reviews that may not be on the movie, but on Amazon/support instead\n",
    "Input: \n",
    "* word tokens \n",
    "* one line per review "
   ]
  },
  {
   "cell_type": "code",
   "execution_count": null,
   "metadata": {},
   "outputs": [],
   "source": [
    "%reload_ext autoreload\n",
    "about_movie = AboutMovie()\n",
    "\n",
    "for train_test_dico in abtest.values():\n",
    "    for dico in train_test_dico.values():\n",
    "        dico['movie_reviews'] = dico['reviews_df'][[about_movie.check(words) \\\n",
    "                                for words in dico['reviews_df']['word_bag']]]\n",
    "        "
   ]
  },
  {
   "cell_type": "code",
   "execution_count": null,
   "metadata": {},
   "outputs": [],
   "source": [
    "info('A','test','movie_reviews', 1)\n",
    "# info('B','test','reviews_df', 2)"
   ]
  },
  {
   "cell_type": "code",
   "execution_count": null,
   "metadata": {},
   "outputs": [],
   "source": [
    "# %reload_ext autoreload\n",
    "# about_movie = AboutMovie()\n",
    "# movie_reviews = {'train':{}, 'test':{}}\n",
    "# for i in ['train','test']:\n",
    "#     for j in ['positive','negative']:\n",
    "#          movie_reviews[i][j] = train_test_dic[i][j][[about_movie.check(words) \\\n",
    "#                                                     for words in train_test_dic[i][j]['words']]]"
   ]
  },
  {
   "cell_type": "code",
   "execution_count": null,
   "metadata": {
    "scrolled": true
   },
   "outputs": [],
   "source": [
    "# train_test_dic['test']['positive'][[not i for i in \\\n",
    "#                                     [about_movie.check(words) for words in train_test_dic[i][j]['words']]]]"
   ]
  },
  {
   "cell_type": "code",
   "execution_count": null,
   "metadata": {},
   "outputs": [],
   "source": [
    "tot_reviews = 0\n",
    "\n",
    "for ab_name, train_test_dico in abtest.items():\n",
    "    for train_test_name, dico in train_test_dico.items():\n",
    "        removed = dico['reviews_df'].shape[0] - dico['movie_reviews'].shape[0]\n",
    "        tot_reviews += dico['reviews_df'].shape[0]\n",
    "        print('Removed {0} ({1:.0%}) {2} {3} reviews'\n",
    "              .format(removed, removed / dico['reviews_df'].shape[0],\n",
    "                      train_test_name, ab_name))\n",
    "        "
   ]
  },
  {
   "cell_type": "code",
   "execution_count": null,
   "metadata": {},
   "outputs": [],
   "source": [
    "# tot_reviews = 0\n",
    "# for i in ['train','test']:\n",
    "#     for j in ['positive','negative']:\n",
    "#         removed = train_test_dic[i][j].shape[0] - movie_reviews[i][j].shape[0]\n",
    "#         tot_reviews += train_test_dic[i][j].shape[0]\n",
    "#         print('Removed {0} ({1:.0%}) {2} {3} reviews'.format(removed, removed / train_test_dic[i][j].shape[0],\n",
    "#                                                 i, j))"
   ]
  },
  {
   "cell_type": "code",
   "execution_count": null,
   "metadata": {},
   "outputs": [],
   "source": [
    "# save results\n",
    "import datetime\n",
    "if False:\n",
    "    currentDT = datetime.datetime.now()\n",
    "    for i in ['train','test']:\n",
    "        for j in ['positive','negative']:\n",
    "            train_test_dic[i][j].to_hdf(data_path + currentDT.strftime(\"%Y-%m-%d-%H-%M-%S\") + '_' + \n",
    "                      str(tot_reviews) + '_cleaned_reviews_before_B_' + i + '_' + j + '.pkl'\n",
    "              , key='df', mode='w', complevel=9)"
   ]
  },
  {
   "cell_type": "markdown",
   "metadata": {},
   "source": [
    "### TF-IDF setup"
   ]
  },
  {
   "cell_type": "code",
   "execution_count": null,
   "metadata": {},
   "outputs": [],
   "source": [
    "MAX_FEATURES = 10000"
   ]
  },
  {
   "cell_type": "code",
   "execution_count": null,
   "metadata": {},
   "outputs": [],
   "source": [
    "def dummy_fun(doc):\n",
    "    return doc\n",
    "\n",
    "tfidf = TfidfVectorizer(\n",
    "    analyzer='word',       # Feed a list of words to TF-IDF\n",
    "    tokenizer=dummy_fun,\n",
    "    preprocessor=dummy_fun,\n",
    "    token_pattern=None,\n",
    "    lowercase=False, \n",
    "    stop_words=None, \n",
    "    max_features=MAX_FEATURES,\n",
    "    norm='l2',            # normalize each review\n",
    "    use_idf=True)        # Keep high weight for most common words"
   ]
  },
  {
   "cell_type": "code",
   "execution_count": null,
   "metadata": {},
   "outputs": [],
   "source": [
    "SPARSE = True\n",
    "\n",
    "for ab_dico in abtest.values():\n",
    "    for dico in ab_dico.values():\n",
    "        dico['tf_transform'] = tfidf.fit_transform(dico['movie_reviews']['word_bag'])\n",
    "        if not SPARSE:\n",
    "            dico['tf_transform'] = dico['tf_transform'].todense()"
   ]
  },
  {
   "cell_type": "code",
   "execution_count": null,
   "metadata": {},
   "outputs": [],
   "source": [
    "def print_ab():\n",
    "    for abname, ab_dico in abtest.items():\n",
    "        print(abname)\n",
    "        for ttname, tt in ab_dico.items():\n",
    "            print('--',ttname)\n",
    "            if type(tt) == dict:\n",
    "                for key in tt.keys():\n",
    "                    print('    ',key)\n",
    "print_ab()"
   ]
  },
  {
   "cell_type": "code",
   "execution_count": null,
   "metadata": {},
   "outputs": [],
   "source": [
    "for ab_dico in abtest.values():\n",
    "    for tt in ['train','test']:\n",
    "        print(ab_dico[tt]['tf_transform'].shape)"
   ]
  },
  {
   "cell_type": "code",
   "execution_count": null,
   "metadata": {},
   "outputs": [],
   "source": [
    "# SPARSE = True\n",
    "\n",
    "# if SPARSE:\n",
    "#     # Optimization: add the review length while keeping sparse matrix\n",
    "#     tf_train = tfidf.fit_transform(train_words)\n",
    "#     tf_test = tfidf.transform(test_words)\n",
    "# else:\n",
    "#     tf_train = tfidf.fit_transform(train_words).todense()\n",
    "#     tf_test = tfidf.transform(test_words).todense()"
   ]
  },
  {
   "cell_type": "code",
   "execution_count": null,
   "metadata": {},
   "outputs": [],
   "source": [
    "# print(len(tfidf.vocabulary_))\n",
    "# tfidf.vocabulary_"
   ]
  },
  {
   "cell_type": "markdown",
   "metadata": {},
   "source": [
    "## Add review length to modeling input"
   ]
  },
  {
   "cell_type": "code",
   "execution_count": null,
   "metadata": {},
   "outputs": [],
   "source": [
    "ADD_LENGTH = False\n",
    "\n",
    "# if ADD_LENGTH:\n",
    "#     if SPARSE:\n",
    "#         # Hack: pick an existing word to store the count\n",
    "#         len_idx = 0\n",
    "#         test_lengths = [len(words) for words in test_words]\n",
    "\n",
    "#         for idx,words in enumerate(train_words):\n",
    "#             tf_train[idx][len_idx] = len(words)\n",
    "#         for idx,words in enumerate(test_words):\n",
    "#             tf_test[idx][len_idx] = len(words)\n",
    "#         X_train = tf_train\n",
    "#         X_test = tf_test\n",
    "#     else:\n",
    "#         train_lengths = np.array([len(words) for words in train_words]).reshape(-1,1)\n",
    "#         test_lengths = np.array([len(words) for words in test_words]).reshape(-1,1)\n",
    "#         X_train = np.concatenate([tf_train, train_lengths],axis=1)\n",
    "#         X_test = np.concatenate([tf_test, test_lengths],axis=1)\n"
   ]
  },
  {
   "cell_type": "markdown",
   "metadata": {},
   "source": [
    "## Create and test y"
   ]
  },
  {
   "cell_type": "code",
   "execution_count": null,
   "metadata": {},
   "outputs": [],
   "source": [
    "# [(abtest['A']['train']['movie_reviews']['overall'] > 3) * 1.0]\n",
    "y = {'A':{},'B':{}}\n",
    "start = 100\n",
    "end = 103\n",
    "for ab, dico in abtest.items():\n",
    "    for tt in ['train','test']:\n",
    "        y[ab][tt] = (dico[tt]['movie_reviews']['overall'] > 3) * 1.0\n",
    "\n",
    "        print('\\n--------\\n{} {} {}'.format(ab, tt, len(y[ab][tt])))\n",
    "        print(dico[tt]['movie_reviews'][['reviewText','overall']]\n",
    "              .iloc[start:end,:]) #[:5])\n",
    "        print(y[ab][tt][start:end]) #[-5:])    "
   ]
  },
  {
   "cell_type": "markdown",
   "metadata": {},
   "source": [
    "### Test and save"
   ]
  },
  {
   "cell_type": "code",
   "execution_count": null,
   "metadata": {},
   "outputs": [],
   "source": [
    "# for train_test_dico in abtest.values():\n",
    "#     for dico in train_test_dico.values():\n",
    "#         if dico['tf_transform'].shape[0] != "
   ]
  },
  {
   "cell_type": "code",
   "execution_count": null,
   "metadata": {},
   "outputs": [],
   "source": [
    "# if abtest['B']['train'].shape[0] != y['train'].shape[0] \\\n",
    "#     or abtest['B']['test'] != y['test'].shape[0]:\n",
    "#     print('@@@ Problem! @@@')\n",
    "#     print(abtest['B']['train'].shape)\n",
    "#     print(y['train'].shape)\n",
    "#     print(abtest['B']['test'].shape)\n",
    "#     print(y['test'].shape)\n",
    "# else:\n",
    "#     print('OK!')"
   ]
  },
  {
   "cell_type": "code",
   "execution_count": null,
   "metadata": {},
   "outputs": [],
   "source": [
    "if False:\n",
    "    pickle_out = open(data_path \n",
    "                      + 'tfidf_' \n",
    "                      + str(X_train.shape[0]) + 'Pos_Neg_Samples_'\n",
    "                      + str(X_train.shape[1]) + 'Feats.pkl'\n",
    "                      ,\"wb\")\n",
    "    pickle.dump(tfidf, pickle_out)\n",
    "    pickle_out.close()"
   ]
  },
  {
   "cell_type": "markdown",
   "metadata": {},
   "source": [
    "## Gradient Boosting Classifier"
   ]
  },
  {
   "cell_type": "code",
   "execution_count": null,
   "metadata": {},
   "outputs": [],
   "source": [
    "# Gradient Boosting Classifier parameters\n",
    "# N_TREES = math.floor(np.sqrt(NB_SAMPLES) * 1.2)\n",
    "N_TREES = 500\n",
    "LEARN_RATE = 0.2\n",
    "MAX_DEPTH = 8\n",
    "MIN_IN_LEAF = 5 #7\n",
    "MAX_FEATURES = 'sqrt'"
   ]
  },
  {
   "cell_type": "code",
   "execution_count": null,
   "metadata": {},
   "outputs": [],
   "source": [
    "for ab, ab_dico in abtest.items():\n",
    "    ab_dico['gbc'] = GradientBoostingClassifier(learning_rate=LEARN_RATE, \n",
    "                                n_estimators=N_TREES, \n",
    "                                min_samples_leaf=MIN_IN_LEAF,\n",
    "                                max_depth=MAX_DEPTH,\n",
    "                                max_features=MAX_FEATURES)\n",
    "\n",
    "    \n",
    "    ab_dico['gbc'].fit(ab_dico['train']['tf_transform'], y[ab]['train'])"
   ]
  },
  {
   "cell_type": "code",
   "execution_count": null,
   "metadata": {},
   "outputs": [],
   "source": [
    "# gbc = GradientBoostingClassifier(learning_rate=LEARN_RATE, \n",
    "#                                 n_estimators=N_TREES, \n",
    "#                                 min_samples_leaf=MIN_IN_LEAF,\n",
    "#                                 max_depth=MAX_DEPTH,\n",
    "#                                 max_features=MAX_FEATURES)"
   ]
  },
  {
   "cell_type": "code",
   "execution_count": null,
   "metadata": {},
   "outputs": [],
   "source": [
    "# gbc.fit(X_train, y_train)"
   ]
  },
  {
   "cell_type": "code",
   "execution_count": null,
   "metadata": {},
   "outputs": [],
   "source": [
    "if False:\n",
    "    pickle.dump(gbc, open(data_path + 'GBC_'\n",
    "                       + str(NB_SAMPLES) + '_samples_'\n",
    "                       + str(N_TREES) + '_trees_' \n",
    "                       + str(LEARN_RATE) + '_lr_' \n",
    "                       + str(MAX_DEPTH) + '_maxdpth_'\n",
    "                       + str(MIN_IN_LEAF) + '_minleaf_'\n",
    "                       + str(MAX_FEATURES) + '_feats_'\n",
    "                       + '.pkl', 'wb'))"
   ]
  },
  {
   "cell_type": "code",
   "execution_count": null,
   "metadata": {},
   "outputs": [],
   "source": [
    "for ab, ab_dico in abtest.items():\n",
    "    classifier_report(ab_dico['gbc'], \n",
    "                      ab_dico['train']['tf_transform'], \n",
    "                      y[ab]['train'],\n",
    "                      'Gradient Boosting Classifier on training set {}'.format(ab))"
   ]
  },
  {
   "cell_type": "code",
   "execution_count": null,
   "metadata": {},
   "outputs": [],
   "source": [
    "print('SAMPLE_FRACTION:', SAMPLE_FRACTION,'ADD_LENGTH:',ADD_LENGTH,' SPARSE:',SPARSE,' MAX_FEATURES:',MAX_FEATURES)\n",
    "\n",
    "print(MAX_FEATURES, ' features', N_TREES,'trees; ',\n",
    "      LEARN_RATE,'learn_rate; ', MAX_DEPTH, 'max_dpth; ',\n",
    "      MIN_IN_LEAF, 'min_in_leaf')\n",
    "\n",
    "for ab, ab_dico in abtest.items():\n",
    "    classifier_report(ab_dico['gbc'], \n",
    "                      ab_dico['test']['tf_transform'], \n",
    "                      y[ab]['test'],\n",
    "                      'Gradient Boosting Classifier on test set {}'.format(ab))\n",
    "\n"
   ]
  },
  {
   "cell_type": "code",
   "execution_count": null,
   "metadata": {},
   "outputs": [],
   "source": [
    "# print('SAMPLE_FRACTION:', SAMPLE_FRACTION,'ADD_LENGTH:',ADD_LENGTH,' SPARSE:',SPARSE,' MAX_FEATURES:',MAX_FEATURES)\n"
   ]
  },
  {
   "cell_type": "markdown",
   "metadata": {},
   "source": [
    "## Grid search"
   ]
  },
  {
   "cell_type": "code",
   "execution_count": null,
   "metadata": {},
   "outputs": [],
   "source": [
    "if False:\n",
    "    gb_pipe = Pipeline([('vect', tfidf), ('gb', gbc)])\n",
    "    gb_pipe.fit(X_train, y_train)\n",
    "    pickle.dump(gb_pipe, open('pickles/GBCpipe_balanced_comments_'\n",
    "                           + str(N_TREES) + '_trees_' \n",
    "                           + str(LEARN_RATE) + '_lr_' \n",
    "                           + str(MAX_DEPTH) + '_maxdpth_'\n",
    "                           + str(MIN_IN_LEAF) + '_minleaf_'\n",
    "                           + str(MAX_FEATURES) + '_feats_'\n",
    "                           + '.pkl', 'wb'))\n",
    "else:\n",
    "#     pickle_in = open(\"pickles/GBC_balanced_comments_300_trees_0.1_lr_15_maxdpth_2_minleaf_20000_feats_.pkl\",\n",
    "#                      \"rb\")\n",
    "#     gb_pipe = pickle.load(pickle_in)"
   ]
  },
  {
   "cell_type": "code",
   "execution_count": null,
   "metadata": {},
   "outputs": [],
   "source": [
    "if False:\n",
    "    if True:\n",
    "        grid = {\n",
    "            'learning_rate': [.1,0.2,0.3],\n",
    "            'max_depth': [8],\n",
    "            'min_samples_leaf': [5],\n",
    "            'max_features': ['sqrt'],\n",
    "            'n_estimators': [300],\n",
    "            'random_state': [0]\n",
    "        }\n",
    "    else:  # TEST\n",
    "        grid = {\n",
    "        'learning_rate': [1],\n",
    "        'max_depth': [2], \n",
    "        'min_samples_leaf': [2],\n",
    "    #     'max_features': ['sqrt', None],\n",
    "        'n_estimators': [2],\n",
    "        'random_state': [0]\n",
    "    }\n",
    "\n",
    "    # confusion_score = make_scorer(confusion_rmse, greater_is_better=False)\n",
    "\n",
    "    gbc_grid_cv = GridSearchCV(\n",
    "        GradientBoostingClassifier(), \n",
    "        grid,\n",
    "        cv=4,  # number of folds\n",
    "        return_train_score=True,\n",
    "        verbose=1, \n",
    "        n_jobs=-1)\n",
    "    gbc_grid_cv.fit(X_train, y_train)"
   ]
  },
  {
   "cell_type": "code",
   "execution_count": null,
   "metadata": {},
   "outputs": [],
   "source": [
    "if False:\n",
    "    y_pred = gbc_grid_cv.predict(X_test)\n",
    "\n",
    "    print('SAMPLE_FRACTION:', SAMPLE_FRACTION,'ADD_LENGTH:',ADD_LENGTH,' SPARSE:',SPARSE,' MAX_FEATURES:',MAX_FEATURES)\n",
    "\n",
    "    print(gbc_grid_cv.best_params_)\n",
    "    print(gbc_grid_cv.best_score_)\n",
    "    res_df = pd.DataFrame(gbc_grid_cv.cv_results_)\n",
    "    res_df"
   ]
  }
 ],
 "metadata": {
  "kernelspec": {
   "display_name": "Python 3",
   "language": "python",
   "name": "python3"
  },
  "language_info": {
   "codemirror_mode": {
    "name": "ipython",
    "version": 3
   },
   "file_extension": ".py",
   "mimetype": "text/x-python",
   "name": "python",
   "nbconvert_exporter": "python",
   "pygments_lexer": "ipython3",
   "version": "3.7.3"
  }
 },
 "nbformat": 4,
 "nbformat_minor": 2
}
