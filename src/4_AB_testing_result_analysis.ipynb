{
 "cells": [
  {
   "cell_type": "code",
   "execution_count": 1,
   "metadata": {},
   "outputs": [],
   "source": [
    "import numpy as np\n",
    "import pandas as pd\n",
    "import matplotlib.pyplot as plt\n",
    "import seaborn as sns"
   ]
  },
  {
   "cell_type": "code",
   "execution_count": 2,
   "metadata": {},
   "outputs": [],
   "source": [
    "xl_report = 'gbc_500_trees_02_rate_8_depth_5_leaf_sqrt_10k_tfidf.xlsx'"
   ]
  },
  {
   "cell_type": "code",
   "execution_count": 3,
   "metadata": {},
   "outputs": [],
   "source": [
    "df = pd.read_excel(xl_report)"
   ]
  },
  {
   "cell_type": "code",
   "execution_count": 4,
   "metadata": {
    "scrolled": true
   },
   "outputs": [
    {
     "name": "stderr",
     "output_type": "stream",
     "text": [
      "/anaconda3/lib/python3.7/site-packages/ipykernel_launcher.py:2: SettingWithCopyWarning: \n",
      "A value is trying to be set on a copy of a slice from a DataFrame.\n",
      "Try using .loc[row_indexer,col_indexer] = value instead\n",
      "\n",
      "See the caveats in the documentation: http://pandas.pydata.org/pandas-docs/stable/indexing.html#indexing-view-versus-copy\n",
      "  \n",
      "/anaconda3/lib/python3.7/site-packages/ipykernel_launcher.py:3: SettingWithCopyWarning: \n",
      "A value is trying to be set on a copy of a slice from a DataFrame.\n",
      "Try using .loc[row_indexer,col_indexer] = value instead\n",
      "\n",
      "See the caveats in the documentation: http://pandas.pydata.org/pandas-docs/stable/indexing.html#indexing-view-versus-copy\n",
      "  This is separate from the ipykernel package so we can avoid doing imports until\n",
      "/anaconda3/lib/python3.7/site-packages/ipykernel_launcher.py:4: SettingWithCopyWarning: \n",
      "A value is trying to be set on a copy of a slice from a DataFrame.\n",
      "Try using .loc[row_indexer,col_indexer] = value instead\n",
      "\n",
      "See the caveats in the documentation: http://pandas.pydata.org/pandas-docs/stable/indexing.html#indexing-view-versus-copy\n",
      "  after removing the cwd from sys.path.\n"
     ]
    }
   ],
   "source": [
    "res = df[['case', 'remove', 'percent', 'precision', 'recall', 'accuracy']]\n",
    "res['accuracy'] = res['accuracy'] * 100\n",
    "res['precision'] = res['precision'] * 100\n",
    "res['recall'] = res['recall'] * 100"
   ]
  },
  {
   "cell_type": "code",
   "execution_count": 5,
   "metadata": {},
   "outputs": [
    {
     "data": {
      "text/html": [
       "<div>\n",
       "<style scoped>\n",
       "    .dataframe tbody tr th:only-of-type {\n",
       "        vertical-align: middle;\n",
       "    }\n",
       "\n",
       "    .dataframe tbody tr th {\n",
       "        vertical-align: top;\n",
       "    }\n",
       "\n",
       "    .dataframe thead th {\n",
       "        text-align: right;\n",
       "    }\n",
       "</style>\n",
       "<table border=\"1\" class=\"dataframe\">\n",
       "  <thead>\n",
       "    <tr style=\"text-align: right;\">\n",
       "      <th></th>\n",
       "      <th>case</th>\n",
       "      <th>remove</th>\n",
       "      <th>percent</th>\n",
       "      <th>precision</th>\n",
       "      <th>recall</th>\n",
       "      <th>accuracy</th>\n",
       "    </tr>\n",
       "  </thead>\n",
       "  <tbody>\n",
       "    <tr>\n",
       "      <th>0</th>\n",
       "      <td>B</td>\n",
       "      <td>obj</td>\n",
       "      <td>20</td>\n",
       "      <td>85.606061</td>\n",
       "      <td>89.002334</td>\n",
       "      <td>85.839300</td>\n",
       "    </tr>\n",
       "    <tr>\n",
       "      <th>1</th>\n",
       "      <td>B</td>\n",
       "      <td>obj</td>\n",
       "      <td>40</td>\n",
       "      <td>84.131403</td>\n",
       "      <td>88.156359</td>\n",
       "      <td>84.470963</td>\n",
       "    </tr>\n",
       "    <tr>\n",
       "      <th>2</th>\n",
       "      <td>B</td>\n",
       "      <td>obj</td>\n",
       "      <td>60</td>\n",
       "      <td>80.209194</td>\n",
       "      <td>85.005834</td>\n",
       "      <td>80.381862</td>\n",
       "    </tr>\n",
       "    <tr>\n",
       "      <th>3</th>\n",
       "      <td>B</td>\n",
       "      <td>obj</td>\n",
       "      <td>80</td>\n",
       "      <td>74.946695</td>\n",
       "      <td>82.030338</td>\n",
       "      <td>75.242641</td>\n",
       "    </tr>\n",
       "    <tr>\n",
       "      <th>4</th>\n",
       "      <td>B</td>\n",
       "      <td>subj</td>\n",
       "      <td>20</td>\n",
       "      <td>83.650925</td>\n",
       "      <td>88.360560</td>\n",
       "      <td>84.232299</td>\n",
       "    </tr>\n",
       "    <tr>\n",
       "      <th>5</th>\n",
       "      <td>B</td>\n",
       "      <td>subj</td>\n",
       "      <td>40</td>\n",
       "      <td>81.246583</td>\n",
       "      <td>86.697783</td>\n",
       "      <td>81.829753</td>\n",
       "    </tr>\n",
       "    <tr>\n",
       "      <th>6</th>\n",
       "      <td>B</td>\n",
       "      <td>subj</td>\n",
       "      <td>60</td>\n",
       "      <td>76.641346</td>\n",
       "      <td>82.409568</td>\n",
       "      <td>76.706444</td>\n",
       "    </tr>\n",
       "    <tr>\n",
       "      <th>7</th>\n",
       "      <td>B</td>\n",
       "      <td>subj</td>\n",
       "      <td>80</td>\n",
       "      <td>70.023059</td>\n",
       "      <td>79.725788</td>\n",
       "      <td>70.326173</td>\n",
       "    </tr>\n",
       "  </tbody>\n",
       "</table>\n",
       "</div>"
      ],
      "text/plain": [
       "  case remove  percent  precision     recall   accuracy\n",
       "0    B    obj       20  85.606061  89.002334  85.839300\n",
       "1    B    obj       40  84.131403  88.156359  84.470963\n",
       "2    B    obj       60  80.209194  85.005834  80.381862\n",
       "3    B    obj       80  74.946695  82.030338  75.242641\n",
       "4    B   subj       20  83.650925  88.360560  84.232299\n",
       "5    B   subj       40  81.246583  86.697783  81.829753\n",
       "6    B   subj       60  76.641346  82.409568  76.706444\n",
       "7    B   subj       80  70.023059  79.725788  70.326173"
      ]
     },
     "execution_count": 5,
     "metadata": {},
     "output_type": "execute_result"
    }
   ],
   "source": [
    "res"
   ]
  },
  {
   "cell_type": "code",
   "execution_count": 12,
   "metadata": {},
   "outputs": [
    {
     "data": {
      "image/png": "[encoded data removed]",
      "text/plain": [
       "<Figure size 576x288 with 1 Axes>"
      ]
     },
     "metadata": {},
     "output_type": "display_data"
    }
   ],
   "source": [
    "with plt.style.context('dark_background'):\n",
    "#     sns.set_palette(\"bright\")\n",
    "    fig, ax = plt.subplots(figsize=(8, 4))\n",
    "\n",
    "    ax = sns.barplot(ax=ax, x=\"percent\", y=\"accuracy\", hue=\"remove\", \n",
    "                     data=res, ci=None,palette=['red', 'deepskyblue'])\n",
    "#     ax.set(xlabel='% sentences removed', ylabel='Recall %')\n",
    "    ax.set_xlabel(\"% sentences removed\",fontsize=12)\n",
    "    ax.set_ylabel(\"Accuracy %\",fontsize=12)\n",
    "    ax.set_xlim([-1, 3.6])\n",
    "    ax.set_ylim([65, 88])\n",
    "    ax.get_legend().remove()\n",
    "#     legend.remove()\n",
    "\n",
    "#     ax.set_title('Impact on recall, of removing review sentences', weight='bold').set_fontsize('16')\n",
    "    # plt.legend.set_title('Removing most objective sentences')\n",
    "#     legend = plt.legend(loc='upper right')\n",
    "#     legend.set_title('Removing:')\n",
    "\n",
    "#     new_labels = ['most objective sentences', 'most subjective sentences']\n",
    "#     for t, l in zip(legend.texts, new_labels): t.set_text(l)"
   ]
  },
  {
   "cell_type": "code",
   "execution_count": null,
   "metadata": {},
   "outputs": [],
   "source": [
    "with plt.style.context('dark_background'):\n",
    "    sns.set_palette(\"bright\")\n",
    "#     sns.set_palette(sns.color_palette(\"Accent\", 10))\n",
    "\n",
    "    fig, ax = plt.subplots(figsize=(8, 4))\n",
    "\n",
    "    ax = sns.barplot(ax=ax, x=\"percent\", y=\"recall\", hue=\"remove\", data=res, ci=None)\n",
    "#     ax.set(xlabel='% sentences removed', ylabel='Recall %')\n",
    "    ax.set_xlabel(\"% sentences removed\",fontsize=12)\n",
    "    ax.set_ylabel(\"Recall %\",fontsize=12)\n",
    "    ax.set_ylim([70, 90])\n",
    "\n",
    "\n",
    "#     ax.set_title('Impact on recall, of removing review sentences', weight='bold').set_fontsize('16')\n",
    "    # plt.legend.set_title('Removing most objective sentences')\n",
    "    legend = plt.legend(loc='upper right')\n",
    "    legend.set_title('Removing:')\n",
    "\n",
    "    new_labels = ['most objective sentences', 'most subjective sentences']\n",
    "    for t, l in zip(legend.texts, new_labels): t.set_text(l)\n",
    "    "
   ]
  },
  {
   "cell_type": "code",
   "execution_count": null,
   "metadata": {},
   "outputs": [],
   "source": [
    "# with plt.style.context('dark_background'):\n",
    "\n",
    "sns.set_palette(\"bright\")\n",
    "# sns.set_palette(sns.color_palette(\"Accent\", 10))\n",
    "\n",
    "fig, ax = plt.subplots(figsize=(10, 4))\n",
    "\n",
    "ax = sns.barplot(ax=ax, x=\"percent\", y=\"precision\", hue=\"remove\", data=res, ci=None)\n",
    "ax.set(xlabel='% sentences removed', ylabel='Precision %')\n",
    "ax.set_ylim([70, 90])\n",
    "\n",
    "\n",
    "# ax.set_title('Impact on precision, of removing review sentences', weight='bold').set_fontsize('14')\n",
    "# plt.legend.set_title('Removing most objective sentences')\n",
    "legend = plt.legend(loc='upper right')\n",
    "legend.set_title('Removing:')\n",
    "new_labels = ['most objective sentences', 'most subjective sentences']\n",
    "for t, l in zip(legend.texts, new_labels): t.set_text(l)\n"
   ]
  },
  {
   "cell_type": "code",
   "execution_count": null,
   "metadata": {},
   "outputs": [],
   "source": []
  }
 ],
 "metadata": {
  "kernelspec": {
   "display_name": "Python 3",
   "language": "python",
   "name": "python3"
  },
  "language_info": {
   "codemirror_mode": {
    "name": "ipython",
    "version": 3
   },
   "file_extension": ".py",
   "mimetype": "text/x-python",
   "name": "python",
   "nbconvert_exporter": "python",
   "pygments_lexer": "ipython3",
   "version": "3.7.3"
  }
 },
 "nbformat": 4,
 "nbformat_minor": 2
}
