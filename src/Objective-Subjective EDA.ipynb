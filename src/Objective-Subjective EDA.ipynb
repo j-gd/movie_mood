{
 "cells": [
  {
   "cell_type": "code",
   "execution_count": 41,
   "metadata": {},
   "outputs": [],
   "source": [
    "import numpy as np\n",
    "import pandas as pd\n",
    "# from nltk.tokenize import word_tokenize\n",
    "from sklearn.feature_extraction.text import TfidfVectorizer"
   ]
  },
  {
   "cell_type": "code",
   "execution_count": 16,
   "metadata": {},
   "outputs": [
    {
     "name": "stdout",
     "output_type": "stream",
     "text": [
      "../../datasets/objective_subjective/quote.tok.gt9.5000\r\n"
     ]
    }
   ],
   "source": [
    "!ls {subjective_file}"
   ]
  },
  {
   "cell_type": "markdown",
   "metadata": {},
   "source": [
    "# Read the data"
   ]
  },
  {
   "cell_type": "code",
   "execution_count": 35,
   "metadata": {},
   "outputs": [
    {
     "name": "stdout",
     "output_type": "stream",
     "text": [
      "Subjective: 5000\n"
     ]
    },
    {
     "data": {
      "text/plain": [
       "'smart and alert , thirteen conversations about one thing is a small gem . \\n'"
      ]
     },
     "execution_count": 35,
     "metadata": {},
     "output_type": "execute_result"
    }
   ],
   "source": [
    "path = '../../datasets/objective_subjective/'\n",
    "subjective_file = 'quote.tok.gt9.5000'\n",
    "f = open(path + subjective_file, 'r', encoding='utf-8', errors='ignore')\n",
    "subjective_lines = []\n",
    "for line in f:\n",
    "    subjective_lines.append(line)\n",
    "f.close()\n",
    "\n",
    "print('Subjective:',len(subjective_lines))\n",
    "subjective_lines[0]"
   ]
  },
  {
   "cell_type": "code",
   "execution_count": 36,
   "metadata": {},
   "outputs": [
    {
     "name": "stdout",
     "output_type": "stream",
     "text": [
      "Objective: 5000\n"
     ]
    }
   ],
   "source": [
    "objective_file = 'plot.tok.gt9.5000'\n",
    "f = open(path + objective_file, 'r', encoding='utf-8', errors='ignore')\n",
    "objective_lines = []\n",
    "for line in f:\n",
    "    objective_lines.append(line.rstrip())\n",
    "f.close()\n",
    "\n",
    "print('Objective:',len(objective_lines))"
   ]
  },
  {
   "cell_type": "code",
   "execution_count": 37,
   "metadata": {},
   "outputs": [
    {
     "data": {
      "text/plain": [
       "'the movie begins in the past where a young boy named sam attempts to save celebi from a hunter'"
      ]
     },
     "execution_count": 37,
     "metadata": {},
     "output_type": "execute_result"
    }
   ],
   "source": [
    "objective_lines[0]"
   ]
  },
  {
   "cell_type": "markdown",
   "metadata": {},
   "source": [
    "## Create tf_idf = f(sentence,term)"
   ]
  },
  {
   "cell_type": "code",
   "execution_count": 39,
   "metadata": {},
   "outputs": [
    {
     "name": "stdout",
     "output_type": "stream",
     "text": [
      "10000\n"
     ]
    },
    {
     "data": {
      "text/plain": [
       "'the movie begins in the past where a young boy named sam attempts to save celebi from a hunter'"
      ]
     },
     "execution_count": 39,
     "metadata": {},
     "output_type": "execute_result"
    }
   ],
   "source": [
    "all_lines = objective_lines + subjective_lines\n",
    "print(len(all_lines))\n",
    "all_lines[0]"
   ]
  },
  {
   "cell_type": "code",
   "execution_count": 60,
   "metadata": {},
   "outputs": [
    {
     "name": "stdout",
     "output_type": "stream",
     "text": [
      "20893\n"
     ]
    }
   ],
   "source": [
    "tfidf = TfidfVectorizer(max_df=0.99) # at 0.99, same result as 1: \n",
    "sentence_tfidf = tfidf.fit_transform(all_lines)\n",
    "vocab = tfidf.vocabulary_\n",
    "tfidf_mat = sentence_tfidf.todense()\n",
    "print(len(vocab))"
   ]
  },
  {
   "cell_type": "code",
   "execution_count": 52,
   "metadata": {},
   "outputs": [
    {
     "data": {
      "text/plain": [
       "['93',\n",
       " '94',\n",
       " '95',\n",
       " '996',\n",
       " '_boogie',\n",
       " 'aaa',\n",
       " 'aaliyah',\n",
       " 'abandon',\n",
       " 'abandone',\n",
       " 'abandoned']"
      ]
     },
     "execution_count": 52,
     "metadata": {},
     "output_type": "execute_result"
    }
   ],
   "source": [
    "sorted(vocab)[258:268]"
   ]
  },
  {
   "cell_type": "markdown",
   "metadata": {},
   "source": [
    "### Future improvement: make the matrix more dense"
   ]
  },
  {
   "cell_type": "code",
   "execution_count": 57,
   "metadata": {},
   "outputs": [
    {
     "data": {
      "text/plain": [
       "matrix([[0., 0., 0., 0., 0., 0., 0., 0., 0., 0., 0., 0., 0., 0., 0., 0.,\n",
       "         0., 0., 0., 0., 0., 0., 0., 0., 0., 0., 0., 0., 0., 0.],\n",
       "        [0., 0., 0., 0., 0., 0., 0., 0., 0., 0., 0., 0., 0., 0., 0., 0.,\n",
       "         0., 0., 0., 0., 0., 0., 0., 0., 0., 0., 0., 0., 0., 0.]])"
      ]
     },
     "execution_count": 57,
     "metadata": {},
     "output_type": "execute_result"
    }
   ],
   "source": [
    "tfidf_mat[:2,270:300]"
   ]
  },
  {
   "cell_type": "code",
   "execution_count": null,
   "metadata": {},
   "outputs": [],
   "source": []
  }
 ],
 "metadata": {
  "kernelspec": {
   "display_name": "Python 3",
   "language": "python",
   "name": "python3"
  },
  "language_info": {
   "codemirror_mode": {
    "name": "ipython",
    "version": 3
   },
   "file_extension": ".py",
   "mimetype": "text/x-python",
   "name": "python",
   "nbconvert_exporter": "python",
   "pygments_lexer": "ipython3",
   "version": "3.7.1"
  }
 },
 "nbformat": 4,
 "nbformat_minor": 2
}
