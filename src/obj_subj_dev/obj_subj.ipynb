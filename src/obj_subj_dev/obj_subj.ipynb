{
 "cells": [
  {
   "cell_type": "code",
   "execution_count": 1,
   "metadata": {},
   "outputs": [],
   "source": [
    "import numpy as np\n",
    "import pandas as pd\n",
    "# from nltk.tokenize import word_tokenize\n",
    "from sklearn.feature_extraction.text import TfidfVectorizer\n",
    "from sklearn.model_selection import train_test_split, GridSearchCV"
   ]
  },
  {
   "cell_type": "markdown",
   "metadata": {},
   "source": [
    "# Read the data"
   ]
  },
  {
   "cell_type": "code",
   "execution_count": 2,
   "metadata": {},
   "outputs": [],
   "source": [
    "path = '../../../datasets/objective_subjective/'\n",
    "subjective_file = 'quote.tok.gt9.5000'"
   ]
  },
  {
   "cell_type": "code",
   "execution_count": 3,
   "metadata": {},
   "outputs": [
    {
     "name": "stdout",
     "output_type": "stream",
     "text": [
      "Subjective: 5000\n"
     ]
    },
    {
     "data": {
      "text/plain": [
       "'smart and alert , thirteen conversations about one thing is a small gem . \\n'"
      ]
     },
     "execution_count": 3,
     "metadata": {},
     "output_type": "execute_result"
    }
   ],
   "source": [
    "f = open(path + subjective_file, 'r', encoding='utf-8', errors='ignore')\n",
    "subjective_lines = []\n",
    "for line in f:\n",
    "    subjective_lines.append(line)\n",
    "f.close()\n",
    "\n",
    "print('Subjective:',len(subjective_lines))\n",
    "subjective_lines[0]"
   ]
  },
  {
   "cell_type": "code",
   "execution_count": 4,
   "metadata": {},
   "outputs": [
    {
     "name": "stdout",
     "output_type": "stream",
     "text": [
      "Objective: 5000\n"
     ]
    }
   ],
   "source": [
    "objective_file = 'plot.tok.gt9.5000'\n",
    "f = open(path + objective_file, 'r', encoding='utf-8', errors='ignore')\n",
    "objective_lines = []\n",
    "for line in f:\n",
    "    objective_lines.append(line.rstrip())\n",
    "f.close()\n",
    "\n",
    "print('Objective:',len(objective_lines))"
   ]
  },
  {
   "cell_type": "code",
   "execution_count": 5,
   "metadata": {},
   "outputs": [
    {
     "data": {
      "text/plain": [
       "'the movie begins in the past where a young boy named sam attempts to save celebi from a hunter'"
      ]
     },
     "execution_count": 5,
     "metadata": {},
     "output_type": "execute_result"
    }
   ],
   "source": [
    "objective_lines[0]"
   ]
  },
  {
   "cell_type": "code",
   "execution_count": 6,
   "metadata": {},
   "outputs": [
    {
     "name": "stdout",
     "output_type": "stream",
     "text": [
      "10000\n"
     ]
    },
    {
     "data": {
      "text/plain": [
       "'the movie begins in the past where a young boy named sam attempts to save celebi from a hunter'"
      ]
     },
     "execution_count": 6,
     "metadata": {},
     "output_type": "execute_result"
    }
   ],
   "source": [
    "all_lines = objective_lines + subjective_lines\n",
    "print(len(all_lines))\n",
    "all_lines[0]"
   ]
  },
  {
   "cell_type": "markdown",
   "metadata": {},
   "source": [
    "## Create tf_idf = f(sentence,term)"
   ]
  },
  {
   "cell_type": "code",
   "execution_count": 7,
   "metadata": {},
   "outputs": [
    {
     "name": "stdout",
     "output_type": "stream",
     "text": [
      "<class 'numpy.matrix'>\n",
      "20893\n"
     ]
    }
   ],
   "source": [
    "tfidf = TfidfVectorizer(max_df=0.99) # at 0.99, same result as 1: \n",
    "sentence_tfidf = tfidf.fit_transform(all_lines)\n",
    "vocab = tfidf.vocabulary_\n",
    "if False:\n",
    "    tfidf_mat = sentence_tfidf\n",
    "else:\n",
    "    tfidf_mat = sentence_tfidf.todense()\n",
    "print(type(tfidf_mat))\n",
    "print(len(vocab))"
   ]
  },
  {
   "cell_type": "code",
   "execution_count": 18,
   "metadata": {},
   "outputs": [],
   "source": [
    "pickle.dump(tfidf, open('fit_tfidf_vectorizer_for_obj_subj_sentences_classification.pkl', 'wb'))"
   ]
  },
  {
   "cell_type": "code",
   "execution_count": 8,
   "metadata": {},
   "outputs": [
    {
     "data": {
      "text/plain": [
       "['93',\n",
       " '94',\n",
       " '95',\n",
       " '996',\n",
       " '_boogie',\n",
       " 'aaa',\n",
       " 'aaliyah',\n",
       " 'abandon',\n",
       " 'abandone',\n",
       " 'abandoned']"
      ]
     },
     "execution_count": 8,
     "metadata": {},
     "output_type": "execute_result"
    }
   ],
   "source": [
    "sorted(vocab)[258:268]"
   ]
  },
  {
   "cell_type": "code",
   "execution_count": 9,
   "metadata": {},
   "outputs": [
    {
     "data": {
      "text/plain": [
       "matrix([[0., 0., 0., 0., 0., 0., 0., 0., 0., 0., 0., 0., 0., 0., 0., 0.,\n",
       "         0., 0., 0., 0., 0., 0., 0., 0., 0., 0., 0., 0., 0., 0.],\n",
       "        [0., 0., 0., 0., 0., 0., 0., 0., 0., 0., 0., 0., 0., 0., 0., 0.,\n",
       "         0., 0., 0., 0., 0., 0., 0., 0., 0., 0., 0., 0., 0., 0.]])"
      ]
     },
     "execution_count": 9,
     "metadata": {},
     "output_type": "execute_result"
    }
   ],
   "source": [
    "tfidf_mat[:2,270:300]"
   ]
  },
  {
   "cell_type": "markdown",
   "metadata": {},
   "source": [
    "## Create Train and CV sets"
   ]
  },
  {
   "cell_type": "code",
   "execution_count": 10,
   "metadata": {},
   "outputs": [
    {
     "name": "stdout",
     "output_type": "stream",
     "text": [
      "(10000,)\n"
     ]
    },
    {
     "data": {
      "text/plain": [
       "array([0, 0, 0, 0, 0, 0, 0, 0, 0, 0, 1, 1, 1, 1, 1, 1, 1, 1, 1, 1])"
      ]
     },
     "execution_count": 10,
     "metadata": {},
     "output_type": "execute_result"
    }
   ],
   "source": [
    "labels = np.concatenate((np.zeros((5000,), dtype=int), np.ones((5000,), dtype=int)))\n",
    "print(labels.shape)\n",
    "labels[4990:5010]"
   ]
  },
  {
   "cell_type": "code",
   "execution_count": 11,
   "metadata": {},
   "outputs": [],
   "source": [
    "from sklearn.model_selection import train_test_split\n",
    "\n",
    "X_train, X_cv, y_train, y_cv = train_test_split(\n",
    "    tfidf_mat, labels, test_size=0.2, random_state=0)"
   ]
  },
  {
   "cell_type": "code",
   "execution_count": 12,
   "metadata": {},
   "outputs": [
    {
     "name": "stdout",
     "output_type": "stream",
     "text": [
      "(8000, 20893) (2000, 20893) (8000,) (2000,)\n"
     ]
    }
   ],
   "source": [
    "print(X_train.shape, X_cv.shape, y_train.shape, y_cv.shape)"
   ]
  },
  {
   "cell_type": "markdown",
   "metadata": {},
   "source": [
    "## Gradient Boosting"
   ]
  },
  {
   "cell_type": "code",
   "execution_count": 13,
   "metadata": {},
   "outputs": [
    {
     "data": {
      "text/plain": [
       "300"
      ]
     },
     "execution_count": 13,
     "metadata": {},
     "output_type": "execute_result"
    }
   ],
   "source": [
    "# N_TREES = 300\n",
    "# LEARN_RATE = 0.2\n",
    "# MIN_IN_LEAF = 10\n",
    "# CV score: 0.8285\n",
    "\n",
    "# 107 trees\n",
    "# LEARN_RATE = 0.2\n",
    "# MAX_DEPTH = 8\n",
    "# MIN_IN_LEAF = 5 #7\n",
    "# MAX_FEATURES = 'sqrt'\n",
    "# CV score: 0.8415\n",
    "\n",
    "# Gradient Boosting Classifier parameters\n",
    "# N_TREES = int(round(np.sqrt(X_train.shape[0]) * 1.2))\n",
    "# CV score should be 0.8815\n",
    "N_TREES = 300\n",
    "LEARN_RATE = 0.5\n",
    "MAX_DEPTH = 16\n",
    "MIN_IN_LEAF = 5 #7\n",
    "MAX_FEATURES = 'sqrt'\n",
    "N_TREES"
   ]
  },
  {
   "cell_type": "code",
   "execution_count": 14,
   "metadata": {},
   "outputs": [
    {
     "name": "stdout",
     "output_type": "stream",
     "text": [
      "1\n",
      "[[0. 0. 0. ... 0. 0. 0.]]\n"
     ]
    }
   ],
   "source": [
    "print(y_train[0])\n",
    "print(X_train[0])\n"
   ]
  },
  {
   "cell_type": "code",
   "execution_count": 15,
   "metadata": {},
   "outputs": [
    {
     "name": "stdout",
     "output_type": "stream",
     "text": [
      "Train score: 0.96025\n",
      "CV score: 0.884\n"
     ]
    }
   ],
   "source": [
    "from sklearn.ensemble import GradientBoostingClassifier\n",
    "\n",
    "# loss: deviance: logistic log likelihood\n",
    "gbc = GradientBoostingClassifier(learning_rate=LEARN_RATE, \n",
    "                                   n_estimators=N_TREES, \n",
    "                                   min_samples_leaf=MIN_IN_LEAF,\n",
    "                                   max_features=MAX_FEATURES)\n",
    "gbc.fit(X_train, y_train)\n",
    "print('Train score:', gbc.score(X_train, y_train))\n",
    "print('CV score:', gbc.score(X_cv, y_cv))"
   ]
  },
  {
   "cell_type": "code",
   "execution_count": null,
   "metadata": {},
   "outputs": [],
   "source": [
    "if True:\n",
    "    grid = {\n",
    "        'learning_rate': [.01, .05],\n",
    "        'max_depth': [8, 16],\n",
    "        'min_samples_leaf': [5],\n",
    "        'max_features': ['sqrt'],\n",
    "        'n_estimators': [300],\n",
    "        'random_state': [0]\n",
    "    }\n",
    "else:  # TEST\n",
    "    grid = {\n",
    "    'learning_rate': [1],\n",
    "    'max_depth': [2], \n",
    "    'min_samples_leaf': [2],\n",
    "#     'max_features': ['sqrt', None],\n",
    "    'n_estimators': [2],\n",
    "    'random_state': [0]\n",
    "}\n",
    "    \n",
    "# confusion_score = make_scorer(confusion_rmse, greater_is_better=False)\n",
    "\n",
    "gbc_grid_cv = GridSearchCV(\n",
    "    GradientBoostingClassifier(), \n",
    "    grid,\n",
    "    cv=4,  # number of folds\n",
    "    return_train_score=True,\n",
    "    verbose=1, \n",
    "    n_jobs=-1)\n",
    "gbc_grid_cv.fit(X_train, y_train)"
   ]
  },
  {
   "cell_type": "code",
   "execution_count": null,
   "metadata": {},
   "outputs": [],
   "source": [
    "y_pred = gbc_grid_cv.predict(X_cv)\n",
    "\n",
    "print(gbc_grid_cv.best_params_)\n",
    "print(gbc_grid_cv.best_score_)\n",
    "res_df = pd.DataFrame(gbc_grid_cv.cv_results_)\n",
    "res_df"
   ]
  },
  {
   "cell_type": "code",
   "execution_count": 16,
   "metadata": {},
   "outputs": [],
   "source": [
    "# save the model\n",
    "import pickle\n",
    "pickle.dump(gbc, open('GBC_'+ str(N_TREES) +'_' + str(LEARN_RATE) \n",
    "                        +'_' + str(MIN_IN_LEAF) + '_20min.pkl', 'wb'))\n"
   ]
  },
  {
   "cell_type": "markdown",
   "metadata": {},
   "source": [
    "# LSTM"
   ]
  },
  {
   "cell_type": "code",
   "execution_count": 19,
   "metadata": {},
   "outputs": [
    {
     "name": "stdout",
     "output_type": "stream",
     "text": [
      "10000\n"
     ]
    },
    {
     "data": {
      "text/plain": [
       "'the movie begins in the past where a young boy named sam attempts to save celebi from a hunter'"
      ]
     },
     "execution_count": 19,
     "metadata": {},
     "output_type": "execute_result"
    }
   ],
   "source": [
    "print(len(all_lines))\n",
    "all_lines[0]"
   ]
  },
  {
   "cell_type": "markdown",
   "metadata": {},
   "source": [
    "### Find the max length of comments"
   ]
  },
  {
   "cell_type": "code",
   "execution_count": 21,
   "metadata": {},
   "outputs": [],
   "source": [
    "import sys\n",
    "sys.path.append('..')"
   ]
  },
  {
   "cell_type": "code",
   "execution_count": 22,
   "metadata": {},
   "outputs": [],
   "source": [
    "from NLP import WordBag"
   ]
  },
  {
   "cell_type": "code",
   "execution_count": null,
   "metadata": {},
   "outputs": [],
   "source": [
    "%reload_ext autoreload\n",
    "word_bag = WordBag()"
   ]
  },
  {
   "cell_type": "markdown",
   "metadata": {},
   "source": [
    "# Split input into real sentences\n",
    "Drop the idea, it's already OK the way it is!"
   ]
  },
  {
   "cell_type": "code",
   "execution_count": 30,
   "metadata": {},
   "outputs": [],
   "source": [
    "from nltk.tokenize import sent_tokenize"
   ]
  },
  {
   "cell_type": "code",
   "execution_count": 36,
   "metadata": {},
   "outputs": [
    {
     "data": {
      "text/plain": [
       "(10000,)"
      ]
     },
     "execution_count": 36,
     "metadata": {},
     "output_type": "execute_result"
    }
   ],
   "source": [
    "# sentence_lists = np.array([sent_tokenize(line) for line in all_lines])\n",
    "# sentences = sentence_lists.flatten()\n",
    "# len(sentences)\n",
    "# sentences.shape"
   ]
  },
  {
   "cell_type": "code",
   "execution_count": 40,
   "metadata": {},
   "outputs": [
    {
     "data": {
      "text/plain": [
       "['the movie begins in the past where a young boy named sam attempts to save celebi from a hunter']"
      ]
     },
     "execution_count": 40,
     "metadata": {},
     "output_type": "execute_result"
    }
   ],
   "source": [
    "# sentence_lists[0]"
   ]
  },
  {
   "cell_type": "code",
   "execution_count": 37,
   "metadata": {},
   "outputs": [
    {
     "data": {
      "text/plain": [
       "['the movie begins in the past where a young boy named sam attempts to save celebi from a hunter']"
      ]
     },
     "execution_count": 37,
     "metadata": {},
     "output_type": "execute_result"
    }
   ],
   "source": [
    "# sentences[0]"
   ]
  },
  {
   "cell_type": "markdown",
   "metadata": {},
   "source": [
    "# Finding\n",
    "Obj subj sentences not clean, include multiple sentences"
   ]
  },
  {
   "cell_type": "code",
   "execution_count": 44,
   "metadata": {},
   "outputs": [
    {
     "name": "stdout",
     "output_type": "stream",
     "text": [
      "357 boromir ( sean bean ) is dead , frodo baggins ( elijah wood ) and samwise gamgee ( sean astin ) have gone to mordor alone to destroy the one ring , merry ( dominic monaghan ) and pippin ( billy boyd ) have been captured by the uruk-hai , and aragorn ( viggo mortensen ) , legolas ( orlando bloom ) , and gimli ( john rhys-davies ) have made friends of the rohan , a race of humans that are in the path of the upcoming war , led by its aging king , th&#233 ; oden ( bernard hill ) .\n",
      "4109 based on the gruesome novella clive barker wrote especially for todd mcfarlane's disturbing action figure line , tortured souls is the story of six cenobite-like creatures : agonistes , a transformer of people into monsters who may be a creation of god ; the scyther-meister , an assassin created by agonistes to bring a corrupt empire to its knees ; lucidique , the daughter of a slain senator who is strangely falling in love with the scythe-meister ; talisac , a twisted doctor who has impregnated and attached himself to a strange machine ; venal anatomica , a hulking assassin with an inhuman bloodlust ; and mongroid , talisac's soon-to-be born child with a huge mouth in his stomach .\n"
     ]
    }
   ],
   "source": [
    "for i, text in enumerate(all_lines):\n",
    "    if len(text.split()) > 100:\n",
    "        print(i, text)"
   ]
  },
  {
   "cell_type": "code",
   "execution_count": 41,
   "metadata": {},
   "outputs": [
    {
     "name": "stdout",
     "output_type": "stream",
     "text": [
      "81 [\"with his own group , the urban cyber breakers , he has got a dream : to win the dance battle that will bring his team to the world final in new york before reaching usa and fame , he has to overcome the rival group , the ld , to deal with his mother's excessive love and to live out his passion for the beautiful samia .\"]\n",
      "169 ['the film captures intense footage of several art events as well as interviews with burning man organizers larry harvey ( also co-founder ) , crimson rose and will roger who explain how , what started in 1986 as an impromptu summer solstice celebration , put on by a few friends at a beach in san francisco , has turned into a full-blown exercise in city planning and management with a hefty price-tag .']\n",
      "243 [' \" bums in the mist \" will expose you to a world where alcohol is king and sloth is a virtue ; buddy george will discover , bums who are able to find love and professional success all while maintaining their \" mondern frontiersman \" lifestyle ; bums who\\'s natural gifts enable them to move down the ladder of success at an astronomical rate ( or whatever the opposite of astronomical is ) and who\\'s penchant for violence impact every aspect of their lives .']\n",
      "319 [\"although their friendship raises some eyebrows at first , radio's growth under the coach's guidance ultimately inspires the local townsfolk , from 1964 when he first starts helping the hanna yellow jackets football team , through a 38+ career with the school that continues today ( 2002 ) , including tenures as the head cheerleader , assistant coach and team manager .\"]\n",
      "357 ['boromir ( sean bean ) is dead , frodo baggins ( elijah wood ) and samwise gamgee ( sean astin ) have gone to mordor alone to destroy the one ring , merry ( dominic monaghan ) and pippin ( billy boyd ) have been captured by the uruk-hai , and aragorn ( viggo mortensen ) , legolas ( orlando bloom ) , and gimli ( john rhys-davies ) have made friends of the rohan , a race of humans that are in the path of the upcoming war , led by its aging king , th&#233 ; oden ( bernard hill ) .']\n",
      "503 ['chasing life ( pulsa&#231 ; &#227 ; o zero ) is an action/comedy about 25 year old lovable loser alex who , when his life hits rock bottom and decides to end it all , shares his dogs euthanasia poison just moments before a dramatic turn of events sends him hilariously and desperately seeking the antidote which he must find within 4 hours or die .']\n",
      "576 ['the search takes vir to bombay where he soon regains his memory and finds his real name to be a muslim game marksman named ali and is targed by criminal bigwigs and corrupt government officials whom he used to work for and betrayed him after hiring him to assasinate various underworld criminals and then framed him for the murder of an innocent chief minister .']\n",
      "742 [\"gino and settimo try to repay roberto's hospitality by chasing off a debt collector who wants his property , but their strong arm tactics alarm him and he realises they aren't the pr consultants they claimed to be liquor store night clerk jose ( freddie ganno ) has two dreams : winning the state lottery and winning the heart of a lovely young shoe store salesperson , diana ( christi adams ) .\"]\n",
      "905 [\"along the way she must fend off the unwelcome advances of national tv talk-show host krystal ( with a k ) , her seedy pop svengali phil spectacle , and her enigmatic live-in sidekick dromedary girl ; as well as avoiding detection by natasha , the bewildered international spy with a penchant for inner monologues , who in turn may just bring reinalda's mysterious past back to haunt her one final time .\", '.', '.']\n",
      "969 [\"'murder by numbers' is a psychological suspense-thriller that tells the story of a tenacious homicide detective , cassie mayweather ( sandra bullock ) and her new partner sam kennedy ( ben chaplin ) who become pitted against two malevolently brilliant young men ( ryan gosling and michael pitt ) in an ingenious battle of wits as they try to solve a murder case .\"]\n",
      "1104 [\"ben stiller and jack black star as tim and nick , best friends , neighbors and co-workers , whose equal footing is suddenly tripped up when one of nick's harebrained get-rich-quick schemes actually succeeds : vapoorizer , a spray that literally makes dog poop , or any other kind for that matter , evaporate into thin air -- to where exactly is anyone's guess .\"]\n",
      "1236 [' ( king plays a \" russian mob princess \" ; roden plays an evil kung fu master who is seeking the scroll ) based on the very underground comic book , an immortal tibetan monk ( chow ) finds a mentor in a young street kid ( scott ) whom he can teach to protect the ancient scroll he\\'s been guarding for the last sixty years .']\n",
      "1357 ['although she came back to the house in order to sell it , things begin to take a different direction : the house itself , the furniture and other equipment in it seem to become alive for anna , recalling images of her past , her beloved parents and her friend max , who once gave her shelter from the raging policemen when she took part as a photo journalist in a political demonstration in berlin .']\n",
      "1492 ['forty-one years after they played their first note on a motown record and three decades since they were all together , the funk brothers reunited back in detroit to play their music and tell their unforgettable story , with the help of archival footage , still photos , narration , interviews , re-creation scenes , 20 motown master tracks , and twelve new live performances of motown classics with the brothers backing up contemporary performers .']\n",
      "1505 ['a civil war veteran , turned winchester guns spokeman , the captain woodrow algren , arrives japan in the late 1870s to train the troops of the emperor meiji , as a part of break away from the long-held tradition of relying on employed samurai warriors to protect territories , as meiji&#180 ; s new army prepares to wipe out the remaining samurais .']\n",
      "1541 ['gainey ) - would unearth a seedy world of drugs and violence , ultimately revealing a motley crew from la\\'s underbelly including ex-con david lind ( dylan mcdermott ) , nightclub impresario eddie nash ( eric bogosian ) , the most unlikely of american heroes - porn legend john holmes ( val kilmer ) - holmes\\' estranged wife sharon ( lisa kudrow ) and his teenage lover dawn schiller ( kate bosworth ) . \"']\n",
      "1673 ['peter parker must now juggle three things in his life ; his new job at the local newspaper under a perpetually on-edge employer , his battle against the evil green goblin , and his fight to win the affections of beautiful classmate mary jane watson , against none other than his best friend harry osborn , son of norman osborn !']\n",
      "1935 [\"after pulling off an amazing gold bullion heist from a heavily guarded palazzo in venice , italy , charlie and his gang -- inside man steve ( norton ) , computer genius lyle ( green ) , wheelman handsome rob ( statham ) , explosives expert left-ear ( mos def ) and veteran safecracker john bridger ( sutherland ) - can't believe when one of them turns out to be a double-crosser .\"]\n",
      "2086 ['concerned that his son is going to embarrass him during his campaign to become the governor of california , brad\\'s wealthy father and his campaign manager ( underwood ) , hire two juilliard-trained actors ( diggs and anderson ) to disguise themselves as \" real life gangstaz \" , and kidnap his son , dropping him off in the \" real hood \" in compton , in an effort to scare the ghettofied attitude and behavior out of him .']\n",
      "2203 [\"in an era when the country's first line of defense , intelligence , is more important than ever , comes an explosive thriller starring al pacino and colin farrell that for the first time opens the cia's infamous closed doors and gives an insider's view into the agency : how trainees are recruited , how they are prepared for the spy game , and what they learn to survive .\"]\n",
      "2220 [\"he's not happy just to run this fratricidal con , he also wants to cash in as much as he can of one hundred kilos of crystal meth that he stole from the rojas ( and the mexicans ) , seduce the girlfriend of one of his victims , and stay ahead of a cop who was a childhood friend .\"]\n",
      "2373 ['undercover fbi agent and former marine frank castle ( jane ) is devastated when his wife and children are killed when they accidentally witness a mafia hit , and with nothing left to lose , decides to dedicate himself fully to the eradication of crime ( organized and otherwise ) from america , as an army , assassin , judge and jury all rolled up into one man ( and a whole lot of guns ) : the punisher .']\n",
      "2414 ['in the burial society , sheldon kasner , an unlikely criminal who works as a bank loan manager , infiltrates the mysterious world of the chevrah kadisha ( the jewish society that prepares bodies for burial according to ancient ritual ) in order to steal a body and fake his own death after mobsters come after him looking for two million dollars that he is accused of having stolen .']\n",
      "2485 [\"after an attempt is made on his life by unknown gunmen , whom he kills them all using martal arts skills he didn't know he had , he learns that all of his dreams of a past life are real and that for the past three years he was raised by the couple after finding him in a river , half-dead with five bullet wounds in him .\"]\n",
      "2495 ['it\\'s a sci-fi , time travel , action adventure , comedy , drama mystery all rolled into one as mark twain on the way home from one of his last speaking tours in 1906 , is jostled on a train by 2 men , one in pursuit of the other , twain picks up a newspaper that one of them drops and the headline reads \" manned mars mission .', '.', '.', '.']\n",
      "2543 ['a mythic motorcycle tale of father and son \" , this is the story of manuel galloway ( fishburne ) , also known as \" the king of cali \" , the president of a motorcycle club whose members are all african-american men , mostly white-collar workers who exchange their suits and ties at night and on weekends for leather outfits and motorcycle helmets .']\n",
      "2678 ['jack sparrow , a gentleman rogue of a pirate , teams up with the daugther of a governor to stop the evil plan of a ship of dangerous pirates , led by the evil captain blackheart , who are trying to reverse an ancient curse that leaves them stuck between life and dead , with the light of the moon revealing their skeletons , like some kind of undead monsters .']\n",
      "2769 ['whether it\\'s the fbi swooping in to rescue us in mississippi burning or a fearless teacher storming a \" ghetto \" school to prove our youth can learn as in dangerous minds , we are often offended by such cinematic myths that are more interested in appeasing white liberal sensibilities than raising complex questions about what whites must truly sacrifice if they are sincere about ending racial injustice .']\n",
      "2817 ['while accompanying an us senator on his mission in cuba , he makes a botch of so many things , that a minor blunder by the senator turns into a serious incident , which intensifies into a second cuban crisis - thanks to further entanglements by the media , police , and diplomats who represent the arch-enemies usa and cuba .']\n",
      "2937 [\"the film uses chapman's own unseen personal papers and unpublished memoirs in order to recreate his years at cambridge university , medical school , the monty python years , his struggles with alcohol , his ground-breaking stance on homosexuality , his exploits with john cleese , keith moon , harry nilsson , ringo starr , and his untimely death at age 48 , of cancer .\"]\n",
      "2993 ['when the three precogs , who only work together , floating connected in a tank of fluid , have a vision , the names of the victim and the perpetrator as well as video imagery of the crime and the exact time it will happen , are given out to the special cops who then try to prevent the crime from happening .']\n",
      "3312 ['the course of their experiences ultimately involves with sammy boi , an aggressive rapper caught in a bad contract while on of his songs is a major radio hit ; joan vicks , a devious a&#38 ; r executive for viewpointe records , randy tigge , a drug addicted , cross-dressing rock star ; and michael dileo , the chairman of viewpointe record , who some simply call satan .']\n",
      "3365 [\"a dark and quirky comedy set in an eccentric north london jewish old age home , paradise grove revolves around a dysfunctional family comprising 79-year-old izzie goldberg , determined to die with dignity , his daughter dee perry , a mixture of traditional jewish mother and child of the sixties , and her teenage son keith , who's half-black and half-jewish , and understandably undergoing an identity crisis .\"]\n",
      "3981 ['forced to move back to his old job at a pizza parlor and into a rundown tenement where a number of oddballs wander the hall including a lonely middle aged woman ( mary coleston ) who makes spam casseroles for all the bachelors , a daffy prostitute ( krystina carson ) , and a spanish don juan ( manual cabra ) who wanders the halls in his bathrobe .']\n",
      "4077 ['this \" hitchcockian \" thriller tells the story of a young new york investment banker ( hartnett ) who becomes obsessed with a woman he sees in a cafe , believing her to be his long-lost love , following her home to her apartment , where he waits for her , going so far as to put his engagement on hold .']\n",
      "4109 [\"based on the gruesome novella clive barker wrote especially for todd mcfarlane's disturbing action figure line , tortured souls is the story of six cenobite-like creatures : agonistes , a transformer of people into monsters who may be a creation of god ; the scyther-meister , an assassin created by agonistes to bring a corrupt empire to its knees ; lucidique , the daughter of a slain senator who is strangely falling in love with the scythe-meister ; talisac , a twisted doctor who has impregnated and attached himself to a strange machine ; venal anatomica , a hulking assassin with an inhuman bloodlust ; and mongroid , talisac's soon-to-be born child with a huge mouth in his stomach .\"]\n",
      "4449 [\"after a dream of a horrific car crash , kimberly helps save several people and causes another rift in death's design , but this time its different , since alex walked off the plane death's design did not only affect the survivors of flight 180 , but every single person they've come in contact with , now how will they stop it ?\"]\n",
      "4482 ['a modern romantic comedy set in halifax , mexico city , barcelona , tokyo and on the flights between , dragonwheel is the story of gloria ( krista macdonald ) , a worldly but crabby teen-boy-band manager and sherman ( graham gavine ) , a morose rural man as they escape from their lives , experience life-changing travel , and against their will , cling to one another .']\n",
      "4689 ['using previously unseen video footage , the film shows rocha all jerky and with florid rhetoric urging his cuban comrades to embrace the new political and cultural challenges of the age ; outlining his vision of a unified third world ; and expounding on the differences and peculiarities of latin americans and the means by which their revolutionary aims might be achieved .']\n",
      "4765 ['some of the featured art events include \" burial in space \" by woodpussy ( a group of musicians and pyro-technicians who blast their deceased founder into space in a rocket of their own creation ) ; \" nebulous entity \" and \" futura deluxe \" ( two large , roving installation pieces engineered using mathematics derived from fields of neural networks , ecological systems and fractals ) ; and a performance artist dea million who stages her \" wedding \" to america .']\n",
      "4956 ['kyle goes back to darkness falls to face his past , and the woman in the porceline mask ( aka the tooth fairy ) chance barron , a has-been \" cock-rock \" front-man , has wasted nearly eight years of his life working a dead-end job at softwipe incorporated , the world\\'s second largest manufacturer/distributor of double-plied toliet paper , but things change drastically for mr .', 'barron when he receives a mysterious watch which counts down the number of days he has left to live .']\n",
      "4969 ['john klein ( richard gere ) , a washington newspaper reporter leaves his job after his wife ( debra messing ) dies to investigate strange reports , including psychic visions ( \" prophecies \" ) and sightings of winged creatures ( \" mothmen \" ) , in a small west virginia town , that may be the signs of an alien invasion of earth .', '.', '.']\n",
      "4991 ['besides the fact that he is still disliked by professor snape ( alan rickman ) and hated by draco malfoy ( tom felton ) , harry gets off to a great start with his two best friends , ron weasly ( rupert grint ) and hermione granger ( emma watson ) , and famous writer gilderoy lockhart ( kenneth branagh ) has joined the hogwarts staff and is the new defense against the dark arts teacher .']\n"
     ]
    }
   ],
   "source": [
    "for i, text in enumerate(sentences):\n",
    "    if len(text[0].split()) > 60:\n",
    "        print(i, text)"
   ]
  },
  {
   "cell_type": "code",
   "execution_count": 25,
   "metadata": {},
   "outputs": [
    {
     "data": {
      "text/plain": [
       "120"
      ]
     },
     "execution_count": 25,
     "metadata": {},
     "output_type": "execute_result"
    }
   ],
   "source": [
    "max([len(text.split()) for text in all_lines])"
   ]
  },
  {
   "cell_type": "markdown",
   "metadata": {},
   "source": [
    "### Define & run LSTM"
   ]
  },
  {
   "cell_type": "code",
   "execution_count": 46,
   "metadata": {},
   "outputs": [],
   "source": [
    "WORD_WINDOW = 50\n",
    "\n",
    "import tensorflow as tf\n",
    "keras = tf.keras\n",
    "lstm = keras.Sequential()\n",
    "lstm.add(keras.layers.LSTM(32, input_shape=(WORD_WINDOW, 1), return_sequences=True))\n",
    "lstm.add(keras.layers.LSTM(32, return_sequences=False))\n",
    "lstm.add(keras.layers.Dense(1, activation='linear'))\n",
    "lstm.compile(optimizer='rmsprop',\n",
    "              loss='mse')"
   ]
  },
  {
   "cell_type": "code",
   "execution_count": null,
   "metadata": {},
   "outputs": [],
   "source": [
    "X_train, X_cv, y_train, y_cv = train_test_split(\n",
    "    all_lines, labels, test_size=0.2, random_state=0)"
   ]
  },
  {
   "cell_type": "code",
   "execution_count": null,
   "metadata": {},
   "outputs": [],
   "source": [
    "model.fit(x_train, y_train, batch_size=32, epochs=10)"
   ]
  },
  {
   "cell_type": "markdown",
   "metadata": {},
   "source": [
    "## TODO\n",
    "### Use emotions vectors as input to model\n",
    "### Use emotions to inspect input and re-label if needed\n",
    "### See if remove highest frequency words?"
   ]
  }
 ],
 "metadata": {
  "kernelspec": {
   "display_name": "Python 3",
   "language": "python",
   "name": "python3"
  },
  "language_info": {
   "codemirror_mode": {
    "name": "ipython",
    "version": 3
   },
   "file_extension": ".py",
   "mimetype": "text/x-python",
   "name": "python",
   "nbconvert_exporter": "python",
   "pygments_lexer": "ipython3",
   "version": "3.7.3"
  }
 },
 "nbformat": 4,
 "nbformat_minor": 2
}
