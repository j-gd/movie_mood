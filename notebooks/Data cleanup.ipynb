{
 "cells": [
  {
   "cell_type": "markdown",
   "metadata": {},
   "source": [
    "## Amazon movie reviews analysis\n",
    "Using spark for pre-processing"
   ]
  },
  {
   "cell_type": "code",
   "execution_count": 1,
   "metadata": {},
   "outputs": [],
   "source": [
    "import pyspark as ps    # for the pyspark suite\n",
    "spark = (ps.sql.SparkSession\n",
    "         .builder\n",
    "         .master('local[4]')\n",
    "         .appName('moviemood')\n",
    "         .getOrCreate()\n",
    "        )"
   ]
  },
  {
   "cell_type": "code",
   "execution_count": 2,
   "metadata": {},
   "outputs": [],
   "source": [
    "data_path = '../../datasets/'\n",
    "file_name = 'reviews_Movies_and_TV.json.gz'"
   ]
  },
  {
   "cell_type": "code",
   "execution_count": 3,
   "metadata": {},
   "outputs": [],
   "source": [
    "amazon_reviews_df = spark.read.json(data_path + file_name)"
   ]
  },
  {
   "cell_type": "code",
   "execution_count": 4,
   "metadata": {},
   "outputs": [
    {
     "name": "stdout",
     "output_type": "stream",
     "text": [
      "root\n",
      " |-- asin: string (nullable = true)\n",
      " |-- helpful: array (nullable = true)\n",
      " |    |-- element: long (containsNull = true)\n",
      " |-- overall: double (nullable = true)\n",
      " |-- reviewText: string (nullable = true)\n",
      " |-- reviewTime: string (nullable = true)\n",
      " |-- reviewerID: string (nullable = true)\n",
      " |-- reviewerName: string (nullable = true)\n",
      " |-- summary: string (nullable = true)\n",
      " |-- unixReviewTime: long (nullable = true)\n",
      "\n"
     ]
    }
   ],
   "source": [
    "amazon_reviews_df.printSchema()"
   ]
  },
  {
   "cell_type": "code",
   "execution_count": 5,
   "metadata": {},
   "outputs": [],
   "source": [
    "# Took 2 minutes\n",
    "amazon_reviews_df.cache()\n",
    "total_comment_count = amazon_reviews_df.count()"
   ]
  },
  {
   "cell_type": "code",
   "execution_count": 6,
   "metadata": {},
   "outputs": [
    {
     "data": {
      "text/plain": [
       "4607047"
      ]
     },
     "execution_count": 6,
     "metadata": {},
     "output_type": "execute_result"
    }
   ],
   "source": [
    "total_comment_count"
   ]
  },
  {
   "cell_type": "code",
   "execution_count": null,
   "metadata": {},
   "outputs": [],
   "source": [
    "# Interrupted after 1 hour\n",
    "# all_reviews_df = amazon_reviews_df.toPandas()"
   ]
  },
  {
   "cell_type": "code",
   "execution_count": null,
   "metadata": {},
   "outputs": [],
   "source": [
    "movie_groups = all_reviews_df.groupby('asin')\n",
    "movies_lots_comments = movie_groups.filter(lambda x: x['asin'].count() >= 10)"
   ]
  },
  {
   "cell_type": "code",
   "execution_count": null,
   "metadata": {},
   "outputs": [],
   "source": [
    "movies_lots_comments_count = len(movies_lots_comments.index)\n",
    "movies_lots_comments_count"
   ]
  },
  {
   "cell_type": "code",
   "execution_count": null,
   "metadata": {},
   "outputs": [],
   "source": [
    "movies_lots_comments.to_pickle('../../datasets/reviews_Movies_and_TV_10_reviews.pkl.gz')"
   ]
  },
  {
   "cell_type": "code",
   "execution_count": null,
   "metadata": {},
   "outputs": [],
   "source": []
  },
  {
   "cell_type": "code",
   "execution_count": null,
   "metadata": {},
   "outputs": [],
   "source": []
  },
  {
   "cell_type": "code",
   "execution_count": null,
   "metadata": {},
   "outputs": [],
   "source": []
  },
  {
   "cell_type": "code",
   "execution_count": null,
   "metadata": {},
   "outputs": [],
   "source": []
  },
  {
   "cell_type": "code",
   "execution_count": null,
   "metadata": {},
   "outputs": [],
   "source": []
  },
  {
   "cell_type": "code",
   "execution_count": null,
   "metadata": {},
   "outputs": [],
   "source": []
  },
  {
   "cell_type": "markdown",
   "metadata": {},
   "source": [
    "## Data sampling for development"
   ]
  },
  {
   "cell_type": "code",
   "execution_count": 5,
   "metadata": {},
   "outputs": [],
   "source": [
    "dev_sample_fraction = 0.001"
   ]
  },
  {
   "cell_type": "code",
   "execution_count": 6,
   "metadata": {},
   "outputs": [],
   "source": [
    "reviews_spark_df = amazon_reviews_df.sample(withReplacement=False, fraction=dev_sample_fraction)"
   ]
  },
  {
   "cell_type": "code",
   "execution_count": 7,
   "metadata": {},
   "outputs": [],
   "source": [
    "reviews_df = reviews_spark_df.toPandas()"
   ]
  },
  {
   "cell_type": "code",
   "execution_count": 8,
   "metadata": {},
   "outputs": [
    {
     "name": "stdout",
     "output_type": "stream",
     "text": [
      "<class 'pandas.core.frame.DataFrame'>\n",
      "RangeIndex: 4519 entries, 0 to 4518\n",
      "Data columns (total 9 columns):\n",
      "asin              4519 non-null object\n",
      "helpful           4519 non-null object\n",
      "overall           4519 non-null float64\n",
      "reviewText        4519 non-null object\n",
      "reviewTime        4519 non-null object\n",
      "reviewerID        4519 non-null object\n",
      "reviewerName      4502 non-null object\n",
      "summary           4519 non-null object\n",
      "unixReviewTime    4519 non-null int64\n",
      "dtypes: float64(1), int64(1), object(7)\n",
      "memory usage: 317.8+ KB\n"
     ]
    }
   ],
   "source": [
    "reviews_df.info()"
   ]
  },
  {
   "cell_type": "code",
   "execution_count": 298,
   "metadata": {},
   "outputs": [
    {
     "data": {
      "text/html": [
       "<div>\n",
       "<style scoped>\n",
       "    .dataframe tbody tr th:only-of-type {\n",
       "        vertical-align: middle;\n",
       "    }\n",
       "\n",
       "    .dataframe tbody tr th {\n",
       "        vertical-align: top;\n",
       "    }\n",
       "\n",
       "    .dataframe thead th {\n",
       "        text-align: right;\n",
       "    }\n",
       "</style>\n",
       "<table border=\"1\" class=\"dataframe\">\n",
       "  <thead>\n",
       "    <tr style=\"text-align: right;\">\n",
       "      <th></th>\n",
       "      <th>asin</th>\n",
       "      <th>helpful</th>\n",
       "      <th>overall</th>\n",
       "      <th>reviewText</th>\n",
       "      <th>reviewTime</th>\n",
       "      <th>reviewerID</th>\n",
       "      <th>reviewerName</th>\n",
       "      <th>summary</th>\n",
       "      <th>unixReviewTime</th>\n",
       "    </tr>\n",
       "  </thead>\n",
       "  <tbody>\n",
       "    <tr>\n",
       "      <th>0</th>\n",
       "      <td>0005019281</td>\n",
       "      <td>[0, 0]</td>\n",
       "      <td>4.0</td>\n",
       "      <td>Winkler does a little over-the-top in his role as the scrooge character and the production values leave somewhat more to be desired but all-in-all a nice rendition for holiday viewing.</td>\n",
       "      <td>01 6, 2014</td>\n",
       "      <td>A22GJ2SRENMZS0</td>\n",
       "      <td>F. Sisti \"ftt meditator\"</td>\n",
       "      <td>Dated TV Flic</td>\n",
       "      <td>1388966400</td>\n",
       "    </tr>\n",
       "    <tr>\n",
       "      <th>1</th>\n",
       "      <td>0005019281</td>\n",
       "      <td>[0, 0]</td>\n",
       "      <td>3.0</td>\n",
       "      <td>Nice rendition on classic movie.  Henry Winkler does a good job of playing a Scrooge type character.  Worth seeing this time of year.</td>\n",
       "      <td>12 11, 2013</td>\n",
       "      <td>A6RVT4SPVTVSF</td>\n",
       "      <td>Richard Beckler</td>\n",
       "      <td>Worth a view.</td>\n",
       "      <td>1386720000</td>\n",
       "    </tr>\n",
       "    <tr>\n",
       "      <th>2</th>\n",
       "      <td>0005119367</td>\n",
       "      <td>[0, 0]</td>\n",
       "      <td>5.0</td>\n",
       "      <td>Its so hard to find movies that the whole family can watch. This movie projects positive values with an engaging story. The acting was very believeable and top notch.</td>\n",
       "      <td>05 9, 2013</td>\n",
       "      <td>ASNYRY8236Z2V</td>\n",
       "      <td>minafox</td>\n",
       "      <td>1st Rate!</td>\n",
       "      <td>1368057600</td>\n",
       "    </tr>\n",
       "    <tr>\n",
       "      <th>3</th>\n",
       "      <td>0307514161</td>\n",
       "      <td>[4, 8]</td>\n",
       "      <td>5.0</td>\n",
       "      <td>This is probably the best of the Christmas cartoons.  It never grows old and should be a Christmas tradition for everyone.</td>\n",
       "      <td>12 14, 2007</td>\n",
       "      <td>A1EM0LBNBVUQ4U</td>\n",
       "      <td>Rocky Sullivan</td>\n",
       "      <td>A classic!</td>\n",
       "      <td>1197590400</td>\n",
       "    </tr>\n",
       "    <tr>\n",
       "      <th>4</th>\n",
       "      <td>0307514161</td>\n",
       "      <td>[0, 0]</td>\n",
       "      <td>5.0</td>\n",
       "      <td>They loved it and it helped Mom get ready for Christmas.  We watch it every year and I wanted them to have their own DVD.</td>\n",
       "      <td>12 29, 2012</td>\n",
       "      <td>A2EUFJ0KZP8GFH</td>\n",
       "      <td>sara b layton</td>\n",
       "      <td>A gift for the great grandkids</td>\n",
       "      <td>1356739200</td>\n",
       "    </tr>\n",
       "  </tbody>\n",
       "</table>\n",
       "</div>"
      ],
      "text/plain": [
       "         asin helpful  overall  \\\n",
       "0  0005019281  [0, 0]  4.0       \n",
       "1  0005019281  [0, 0]  3.0       \n",
       "2  0005119367  [0, 0]  5.0       \n",
       "3  0307514161  [4, 8]  5.0       \n",
       "4  0307514161  [0, 0]  5.0       \n",
       "\n",
       "                                                                                                                                                                                 reviewText  \\\n",
       "0  Winkler does a little over-the-top in his role as the scrooge character and the production values leave somewhat more to be desired but all-in-all a nice rendition for holiday viewing.   \n",
       "1  Nice rendition on classic movie.  Henry Winkler does a good job of playing a Scrooge type character.  Worth seeing this time of year.                                                      \n",
       "2  Its so hard to find movies that the whole family can watch. This movie projects positive values with an engaging story. The acting was very believeable and top notch.                     \n",
       "3  This is probably the best of the Christmas cartoons.  It never grows old and should be a Christmas tradition for everyone.                                                                 \n",
       "4  They loved it and it helped Mom get ready for Christmas.  We watch it every year and I wanted them to have their own DVD.                                                                  \n",
       "\n",
       "    reviewTime      reviewerID              reviewerName  \\\n",
       "0  01 6, 2014   A22GJ2SRENMZS0  F. Sisti \"ftt meditator\"   \n",
       "1  12 11, 2013  A6RVT4SPVTVSF   Richard Beckler            \n",
       "2  05 9, 2013   ASNYRY8236Z2V   minafox                    \n",
       "3  12 14, 2007  A1EM0LBNBVUQ4U  Rocky Sullivan             \n",
       "4  12 29, 2012  A2EUFJ0KZP8GFH  sara b layton              \n",
       "\n",
       "                          summary  unixReviewTime  \n",
       "0  Dated TV Flic                   1388966400      \n",
       "1  Worth a view.                   1386720000      \n",
       "2  1st Rate!                       1368057600      \n",
       "3  A classic!                      1197590400      \n",
       "4  A gift for the great grandkids  1356739200      "
      ]
     },
     "execution_count": 298,
     "metadata": {},
     "output_type": "execute_result"
    }
   ],
   "source": [
    "reviews_df.head()"
   ]
  },
  {
   "cell_type": "markdown",
   "metadata": {},
   "source": [
    "### Filter out comments that may be relative to the support (DVD, edition...)"
   ]
  },
  {
   "cell_type": "code",
   "execution_count": 299,
   "metadata": {},
   "outputs": [],
   "source": [
    "import pandas as pd\n",
    "pd.set_option('display.max_colwidth', -1)\n",
    "\n",
    "words_to_remove = ['dvd', 'vhs','edition', 'blue-ray', 'blueray', 'blu-ray', 'bluray', 'price']"
   ]
  },
  {
   "cell_type": "code",
   "execution_count": 300,
   "metadata": {},
   "outputs": [],
   "source": [
    "words_to_remove_re = '(' + '|'.join(words_to_remove) + ')'"
   ]
  },
  {
   "cell_type": "code",
   "execution_count": 301,
   "metadata": {},
   "outputs": [],
   "source": [
    "import warnings\n",
    "warnings.simplefilter('ignore')\n",
    "text_removed = reviews_df[reviews_df['reviewText'].str.contains(words_to_remove_re, case=False)]\n",
    "warnings.simplefilter('default')"
   ]
  },
  {
   "cell_type": "code",
   "execution_count": 302,
   "metadata": {},
   "outputs": [
    {
     "data": {
      "text/html": [
       "<div>\n",
       "<style scoped>\n",
       "    .dataframe tbody tr th:only-of-type {\n",
       "        vertical-align: middle;\n",
       "    }\n",
       "\n",
       "    .dataframe tbody tr th {\n",
       "        vertical-align: top;\n",
       "    }\n",
       "\n",
       "    .dataframe thead th {\n",
       "        text-align: right;\n",
       "    }\n",
       "</style>\n",
       "<table border=\"1\" class=\"dataframe\">\n",
       "  <thead>\n",
       "    <tr style=\"text-align: right;\">\n",
       "      <th></th>\n",
       "      <th>overall</th>\n",
       "      <th>unixReviewTime</th>\n",
       "    </tr>\n",
       "  </thead>\n",
       "  <tbody>\n",
       "    <tr>\n",
       "      <th>count</th>\n",
       "      <td>1105.000000</td>\n",
       "      <td>1.105000e+03</td>\n",
       "    </tr>\n",
       "    <tr>\n",
       "      <th>mean</th>\n",
       "      <td>4.199095</td>\n",
       "      <td>1.256431e+09</td>\n",
       "    </tr>\n",
       "    <tr>\n",
       "      <th>std</th>\n",
       "      <td>1.256937</td>\n",
       "      <td>1.190564e+08</td>\n",
       "    </tr>\n",
       "    <tr>\n",
       "      <th>min</th>\n",
       "      <td>1.000000</td>\n",
       "      <td>9.359712e+08</td>\n",
       "    </tr>\n",
       "    <tr>\n",
       "      <th>25%</th>\n",
       "      <td>4.000000</td>\n",
       "      <td>1.176509e+09</td>\n",
       "    </tr>\n",
       "    <tr>\n",
       "      <th>50%</th>\n",
       "      <td>5.000000</td>\n",
       "      <td>1.281312e+09</td>\n",
       "    </tr>\n",
       "    <tr>\n",
       "      <th>75%</th>\n",
       "      <td>5.000000</td>\n",
       "      <td>1.359072e+09</td>\n",
       "    </tr>\n",
       "    <tr>\n",
       "      <th>max</th>\n",
       "      <td>5.000000</td>\n",
       "      <td>1.405728e+09</td>\n",
       "    </tr>\n",
       "  </tbody>\n",
       "</table>\n",
       "</div>"
      ],
      "text/plain": [
       "           overall  unixReviewTime\n",
       "count  1105.000000  1.105000e+03  \n",
       "mean   4.199095     1.256431e+09  \n",
       "std    1.256937     1.190564e+08  \n",
       "min    1.000000     9.359712e+08  \n",
       "25%    4.000000     1.176509e+09  \n",
       "50%    5.000000     1.281312e+09  \n",
       "75%    5.000000     1.359072e+09  \n",
       "max    5.000000     1.405728e+09  "
      ]
     },
     "execution_count": 302,
     "metadata": {},
     "output_type": "execute_result"
    }
   ],
   "source": [
    "text_removed.describe()"
   ]
  },
  {
   "cell_type": "markdown",
   "metadata": {},
   "source": [
    "#### Result: fraction of content removed:"
   ]
  },
  {
   "cell_type": "code",
   "execution_count": 303,
   "metadata": {},
   "outputs": [
    {
     "data": {
      "text/plain": [
       "0.23984995160674502"
      ]
     },
     "execution_count": 303,
     "metadata": {},
     "output_type": "execute_result"
    }
   ],
   "source": [
    "len(text_removed.index) / (total_comment_count * dev_sample_fraction)"
   ]
  },
  {
   "cell_type": "markdown",
   "metadata": {},
   "source": [
    "### For next step: relevant comments = comments w/out words that may be related to the support "
   ]
  },
  {
   "cell_type": "code",
   "execution_count": 304,
   "metadata": {},
   "outputs": [],
   "source": [
    "warnings.simplefilter('ignore')\n",
    "relevant_comments = reviews_df[~reviews_df['reviewText'].str.contains(words_to_remove_re, case=False)]\n",
    "warnings.simplefilter('default')"
   ]
  },
  {
   "cell_type": "markdown",
   "metadata": {},
   "source": [
    "## Quality check on filtered data"
   ]
  },
  {
   "cell_type": "code",
   "execution_count": 305,
   "metadata": {},
   "outputs": [
    {
     "name": "stdout",
     "output_type": "stream",
     "text": [
      "<class 'pandas.core.frame.DataFrame'>\n",
      "Int64Index: 3611 entries, 0 to 4715\n",
      "Data columns (total 9 columns):\n",
      "asin              3611 non-null object\n",
      "helpful           3611 non-null object\n",
      "overall           3611 non-null float64\n",
      "reviewText        3611 non-null object\n",
      "reviewTime        3611 non-null object\n",
      "reviewerID        3611 non-null object\n",
      "reviewerName      3593 non-null object\n",
      "summary           3611 non-null object\n",
      "unixReviewTime    3611 non-null int64\n",
      "dtypes: float64(1), int64(1), object(7)\n",
      "memory usage: 282.1+ KB\n"
     ]
    }
   ],
   "source": [
    "relevant_comments.info()"
   ]
  },
  {
   "cell_type": "code",
   "execution_count": 306,
   "metadata": {},
   "outputs": [
    {
     "data": {
      "text/plain": [
       "0    Winkler does a little over-the-top in his role as the scrooge character and the production values leave somewhat more to be desired but all-in-all a nice rendition for holiday viewing.\n",
       "1    Nice rendition on classic movie.  Henry Winkler does a good job of playing a Scrooge type character.  Worth seeing this time of year.                                                   \n",
       "Name: reviewText, dtype: object"
      ]
     },
     "execution_count": 306,
     "metadata": {},
     "output_type": "execute_result"
    }
   ],
   "source": [
    "relevant_comments['reviewText'].head(2) # try head(50) or more"
   ]
  },
  {
   "cell_type": "markdown",
   "metadata": {},
   "source": [
    "#### Result: reviews look good\n",
    "Based on quick review of head(50)"
   ]
  },
  {
   "cell_type": "markdown",
   "metadata": {},
   "source": [
    "## Keyword-based sentiment analysis"
   ]
  },
  {
   "cell_type": "markdown",
   "metadata": {},
   "source": [
    "#### Dictionary of words tagged with emotions"
   ]
  },
  {
   "cell_type": "code",
   "execution_count": 365,
   "metadata": {},
   "outputs": [
    {
     "data": {
      "text/plain": [
       "['disgust', 'surprise', 'neutral', 'anger', 'sad', 'happy', 'fear']"
      ]
     },
     "execution_count": 365,
     "metadata": {},
     "output_type": "execute_result"
    }
   ],
   "source": [
    "import csv\n",
    "global emotions\n",
    "# emotions = list(emotions_keywords_df)[1:]\n",
    "# emotion_keywords_csv = 'Andbrain_DataSet.csv'\n",
    "emotion_keywords_csv = 'andbrainDataSet108.csv'\n",
    "emotions_keywords = {}\n",
    "emotions2 = []\n",
    "with open(emotion_keywords_path + emotion_keywords_csv, mode='r', errors='replace') as csvfile:\n",
    "    reader = csv.reader(csvfile, dialect='excel')\n",
    "    emotions2 = reader.__next__()  # skip headers\n",
    "#     print (emotions2)\n",
    "    for row in reader:\n",
    "#         print(row)\n",
    "        dico = {}\n",
    "        for i in range(1,8):\n",
    "            dico[emotions2[i].strip()] = float(row[i])\n",
    "        emotions_keywords[row[0].strip()] = dico\n",
    "\n",
    "global emotions\n",
    "emotions = emotions2[1:]\n",
    "emotions"
   ]
  },
  {
   "cell_type": "markdown",
   "metadata": {},
   "source": [
    "### Number of words in emotions dictionary"
   ]
  },
  {
   "cell_type": "code",
   "execution_count": 366,
   "metadata": {},
   "outputs": [
    {
     "data": {
      "text/plain": [
       "23729"
      ]
     },
     "execution_count": 366,
     "metadata": {},
     "output_type": "execute_result"
    }
   ],
   "source": [
    "key_count = 0\n",
    "for key in emotions_keywords.keys():\n",
    "    key_count += 1\n",
    "key_count"
   ]
  },
  {
   "cell_type": "code",
   "execution_count": 367,
   "metadata": {},
   "outputs": [],
   "source": [
    "rel_comments_w_sentiments = relevant_comments.reindex(columns= relevant_comments.columns.tolist() + emotions)"
   ]
  },
  {
   "cell_type": "code",
   "execution_count": 368,
   "metadata": {},
   "outputs": [
    {
     "data": {
      "text/html": [
       "<div>\n",
       "<style scoped>\n",
       "    .dataframe tbody tr th:only-of-type {\n",
       "        vertical-align: middle;\n",
       "    }\n",
       "\n",
       "    .dataframe tbody tr th {\n",
       "        vertical-align: top;\n",
       "    }\n",
       "\n",
       "    .dataframe thead th {\n",
       "        text-align: right;\n",
       "    }\n",
       "</style>\n",
       "<table border=\"1\" class=\"dataframe\">\n",
       "  <thead>\n",
       "    <tr style=\"text-align: right;\">\n",
       "      <th></th>\n",
       "      <th>asin</th>\n",
       "      <th>helpful</th>\n",
       "      <th>overall</th>\n",
       "      <th>reviewText</th>\n",
       "      <th>reviewTime</th>\n",
       "      <th>reviewerID</th>\n",
       "      <th>reviewerName</th>\n",
       "      <th>summary</th>\n",
       "      <th>unixReviewTime</th>\n",
       "      <th>disgust</th>\n",
       "      <th>surprise</th>\n",
       "      <th>neutral</th>\n",
       "      <th>anger</th>\n",
       "      <th>sad</th>\n",
       "      <th>happy</th>\n",
       "      <th>fear</th>\n",
       "    </tr>\n",
       "  </thead>\n",
       "  <tbody>\n",
       "    <tr>\n",
       "      <th>0</th>\n",
       "      <td>0005019281</td>\n",
       "      <td>[0, 0]</td>\n",
       "      <td>4.0</td>\n",
       "      <td>Winkler does a little over-the-top in his role as the scrooge character and the production values leave somewhat more to be desired but all-in-all a nice rendition for holiday viewing.</td>\n",
       "      <td>01 6, 2014</td>\n",
       "      <td>A22GJ2SRENMZS0</td>\n",
       "      <td>F. Sisti \"ftt meditator\"</td>\n",
       "      <td>Dated TV Flic</td>\n",
       "      <td>1388966400</td>\n",
       "      <td>NaN</td>\n",
       "      <td>NaN</td>\n",
       "      <td>NaN</td>\n",
       "      <td>NaN</td>\n",
       "      <td>NaN</td>\n",
       "      <td>NaN</td>\n",
       "      <td>NaN</td>\n",
       "    </tr>\n",
       "  </tbody>\n",
       "</table>\n",
       "</div>"
      ],
      "text/plain": [
       "         asin helpful  overall  \\\n",
       "0  0005019281  [0, 0]  4.0       \n",
       "\n",
       "                                                                                                                                                                                 reviewText  \\\n",
       "0  Winkler does a little over-the-top in his role as the scrooge character and the production values leave somewhat more to be desired but all-in-all a nice rendition for holiday viewing.   \n",
       "\n",
       "   reviewTime      reviewerID              reviewerName        summary  \\\n",
       "0  01 6, 2014  A22GJ2SRENMZS0  F. Sisti \"ftt meditator\"  Dated TV Flic   \n",
       "\n",
       "   unixReviewTime  disgust  surprise  neutral  anger  sad  happy  fear  \n",
       "0  1388966400     NaN      NaN       NaN      NaN    NaN  NaN    NaN    "
      ]
     },
     "execution_count": 368,
     "metadata": {},
     "output_type": "execute_result"
    }
   ],
   "source": [
    "rel_comments_w_sentiments.head(1)"
   ]
  },
  {
   "cell_type": "markdown",
   "metadata": {},
   "source": [
    "### Add emotions to comments"
   ]
  },
  {
   "cell_type": "code",
   "execution_count": 371,
   "metadata": {},
   "outputs": [],
   "source": [
    "def fill_emotions(comment):\n",
    "    comment_text = comment['reviewText']\n",
    "    comment_words = comment_text.split(' ')    \n",
    "    emotion_keywords_hits = 0\n",
    "    scores = {key: 0.0 for key in emotions}    # {'disgust': 0.0, ...}\n",
    "    \n",
    "    for word in comment_words:\n",
    "        if emotions_keywords.get(word, 0.0) != 0.0:\n",
    "            for key in scores.keys():\n",
    "                scores[key] += emotions_keywords[word][key]\n",
    "            \n",
    "    for emotion in emotions:\n",
    "        comment[emotion] = scores[emotion]\n",
    "    return comment\n",
    "\n",
    "rel_comments_w_emotions = rel_comments_w_sentiments.apply(fill_emotions, axis=1, raw=True)"
   ]
  },
  {
   "cell_type": "markdown",
   "metadata": {},
   "source": [
    "#### Test: validating fear detection"
   ]
  },
  {
   "cell_type": "code",
   "execution_count": 373,
   "metadata": {},
   "outputs": [
    {
     "data": {
      "text/plain": [
       "{'disgust': 0.0368733986813,\n",
       " 'surprise': 0.1221268629813,\n",
       " 'neutral': 0.0396885911,\n",
       " 'anger': 0.039177546181299996,\n",
       " 'sad': 0.0414886626225,\n",
       " 'happy': 0.0530163682645,\n",
       " 'fear': 0.14056700762250002,\n",
       " 'reviewText': 'This is scary movie I ending'}"
      ]
     },
     "execution_count": 373,
     "metadata": {},
     "output_type": "execute_result"
    }
   ],
   "source": [
    "test_comment = {key: float('nan') for key in emotions}\n",
    "test_comment['reviewText'] = 'This is scary movie I ending'\n",
    "fill_emotions(test_comment)"
   ]
  },
  {
   "cell_type": "code",
   "execution_count": 374,
   "metadata": {},
   "outputs": [
    {
     "name": "stdout",
     "output_type": "stream",
     "text": [
      "<class 'pandas.core.frame.DataFrame'>\n",
      "Int64Index: 3611 entries, 0 to 4715\n",
      "Data columns (total 16 columns):\n",
      "asin              3611 non-null object\n",
      "helpful           3611 non-null object\n",
      "overall           3611 non-null float64\n",
      "reviewText        3611 non-null object\n",
      "reviewTime        3611 non-null object\n",
      "reviewerID        3611 non-null object\n",
      "reviewerName      3593 non-null object\n",
      "summary           3611 non-null object\n",
      "unixReviewTime    3611 non-null int64\n",
      "disgust           3611 non-null float64\n",
      "surprise          3611 non-null float64\n",
      "neutral           3611 non-null float64\n",
      "anger             3611 non-null float64\n",
      "sad               3611 non-null float64\n",
      "happy             3611 non-null float64\n",
      "fear              3611 non-null float64\n",
      "dtypes: float64(8), int64(1), object(7)\n",
      "memory usage: 639.6+ KB\n"
     ]
    }
   ],
   "source": [
    "rel_comments_w_emotions.info()"
   ]
  },
  {
   "cell_type": "code",
   "execution_count": 375,
   "metadata": {},
   "outputs": [
    {
     "data": {
      "text/html": [
       "<div>\n",
       "<style scoped>\n",
       "    .dataframe tbody tr th:only-of-type {\n",
       "        vertical-align: middle;\n",
       "    }\n",
       "\n",
       "    .dataframe tbody tr th {\n",
       "        vertical-align: top;\n",
       "    }\n",
       "\n",
       "    .dataframe thead th {\n",
       "        text-align: right;\n",
       "    }\n",
       "</style>\n",
       "<table border=\"1\" class=\"dataframe\">\n",
       "  <thead>\n",
       "    <tr style=\"text-align: right;\">\n",
       "      <th></th>\n",
       "      <th>asin</th>\n",
       "      <th>helpful</th>\n",
       "      <th>overall</th>\n",
       "      <th>reviewText</th>\n",
       "      <th>reviewTime</th>\n",
       "      <th>reviewerID</th>\n",
       "      <th>reviewerName</th>\n",
       "      <th>summary</th>\n",
       "      <th>unixReviewTime</th>\n",
       "      <th>disgust</th>\n",
       "      <th>surprise</th>\n",
       "      <th>neutral</th>\n",
       "      <th>anger</th>\n",
       "      <th>sad</th>\n",
       "      <th>happy</th>\n",
       "      <th>fear</th>\n",
       "    </tr>\n",
       "  </thead>\n",
       "  <tbody>\n",
       "    <tr>\n",
       "      <th>0</th>\n",
       "      <td>0005019281</td>\n",
       "      <td>[0, 0]</td>\n",
       "      <td>4.0</td>\n",
       "      <td>Winkler does a little over-the-top in his role as the scrooge character and the production values leave somewhat more to be desired but all-in-all a nice rendition for holiday viewing.</td>\n",
       "      <td>01 6, 2014</td>\n",
       "      <td>A22GJ2SRENMZS0</td>\n",
       "      <td>F. Sisti \"ftt meditator\"</td>\n",
       "      <td>Dated TV Flic</td>\n",
       "      <td>1388966400</td>\n",
       "      <td>0.081278</td>\n",
       "      <td>0.161821</td>\n",
       "      <td>0.071805</td>\n",
       "      <td>0.271698</td>\n",
       "      <td>0.142592</td>\n",
       "      <td>0.345429</td>\n",
       "      <td>0.163358</td>\n",
       "    </tr>\n",
       "    <tr>\n",
       "      <th>1</th>\n",
       "      <td>0005019281</td>\n",
       "      <td>[0, 0]</td>\n",
       "      <td>3.0</td>\n",
       "      <td>Nice rendition on classic movie.  Henry Winkler does a good job of playing a Scrooge type character.  Worth seeing this time of year.</td>\n",
       "      <td>12 11, 2013</td>\n",
       "      <td>A6RVT4SPVTVSF</td>\n",
       "      <td>Richard Beckler</td>\n",
       "      <td>Worth a view.</td>\n",
       "      <td>1386720000</td>\n",
       "      <td>0.054809</td>\n",
       "      <td>0.100859</td>\n",
       "      <td>0.049988</td>\n",
       "      <td>0.083357</td>\n",
       "      <td>0.076816</td>\n",
       "      <td>0.105078</td>\n",
       "      <td>0.152375</td>\n",
       "    </tr>\n",
       "  </tbody>\n",
       "</table>\n",
       "</div>"
      ],
      "text/plain": [
       "         asin helpful  overall  \\\n",
       "0  0005019281  [0, 0]  4.0       \n",
       "1  0005019281  [0, 0]  3.0       \n",
       "\n",
       "                                                                                                                                                                                 reviewText  \\\n",
       "0  Winkler does a little over-the-top in his role as the scrooge character and the production values leave somewhat more to be desired but all-in-all a nice rendition for holiday viewing.   \n",
       "1  Nice rendition on classic movie.  Henry Winkler does a good job of playing a Scrooge type character.  Worth seeing this time of year.                                                      \n",
       "\n",
       "    reviewTime      reviewerID              reviewerName        summary  \\\n",
       "0  01 6, 2014   A22GJ2SRENMZS0  F. Sisti \"ftt meditator\"  Dated TV Flic   \n",
       "1  12 11, 2013  A6RVT4SPVTVSF   Richard Beckler           Worth a view.   \n",
       "\n",
       "   unixReviewTime   disgust  surprise   neutral     anger       sad     happy  \\\n",
       "0  1388966400      0.081278  0.161821  0.071805  0.271698  0.142592  0.345429   \n",
       "1  1386720000      0.054809  0.100859  0.049988  0.083357  0.076816  0.105078   \n",
       "\n",
       "       fear  \n",
       "0  0.163358  \n",
       "1  0.152375  "
      ]
     },
     "execution_count": 375,
     "metadata": {},
     "output_type": "execute_result"
    }
   ],
   "source": [
    "rel_comments_w_emotions.head(2)"
   ]
  },
  {
   "cell_type": "markdown",
   "metadata": {},
   "source": [
    "## Group reviews by title, remove titles with less than __ reviews"
   ]
  },
  {
   "cell_type": "markdown",
   "metadata": {},
   "source": [
    "## TODO: revisit before running"
   ]
  },
  {
   "cell_type": "code",
   "execution_count": null,
   "metadata": {},
   "outputs": [],
   "source": [
    "movie_groups = rel_comments_w_emotions.groupby('asin')\n",
    "movies_lots_comments = movie_groups.filter(lambda x: x['asin'].count() >= 3)"
   ]
  },
  {
   "cell_type": "markdown",
   "metadata": {},
   "source": [
    "#### Loss from filtering"
   ]
  },
  {
   "cell_type": "code",
   "execution_count": 395,
   "metadata": {},
   "outputs": [
    {
     "data": {
      "text/plain": [
       "0.8814732761008031"
      ]
     },
     "execution_count": 395,
     "metadata": {},
     "output_type": "execute_result"
    }
   ],
   "source": [
    "1 - movies_lots_comments.count()['asin'] / rel_comments_w_emotions.count()['asin']"
   ]
  },
  {
   "cell_type": "markdown",
   "metadata": {},
   "source": [
    "## Remove reviews with no emotions"
   ]
  },
  {
   "cell_type": "code",
   "execution_count": null,
   "metadata": {},
   "outputs": [],
   "source": [
    "movies_lots_emotions = movies_lots_comments[( \\\n",
    "                             movies_lots_comments['disgust'] + \\\n",
    "                             movies_lots_comments['surprise'] + \\\n",
    "                             movies_lots_comments['neutral'] + \\\n",
    "                             movies_lots_comments['anger'] + \\\n",
    "                             movies_lots_comments['sad'] + \\\n",
    "                             movies_lots_comments['happy'] + \\\n",
    "                             movies_lots_comments['fear']) > 0]"
   ]
  },
  {
   "cell_type": "code",
   "execution_count": null,
   "metadata": {},
   "outputs": [],
   "source": [
    "len(movies_lots_emotions.index)"
   ]
  },
  {
   "cell_type": "code",
   "execution_count": null,
   "metadata": {},
   "outputs": [],
   "source": []
  },
  {
   "cell_type": "code",
   "execution_count": null,
   "metadata": {},
   "outputs": [],
   "source": []
  },
  {
   "cell_type": "code",
   "execution_count": null,
   "metadata": {},
   "outputs": [],
   "source": []
  },
  {
   "cell_type": "code",
   "execution_count": null,
   "metadata": {},
   "outputs": [],
   "source": []
  },
  {
   "cell_type": "code",
   "execution_count": null,
   "metadata": {},
   "outputs": [],
   "source": []
  },
  {
   "cell_type": "markdown",
   "metadata": {},
   "source": [
    "## Basic emotions analysis - Not sure the correlation is correct"
   ]
  },
  {
   "cell_type": "code",
   "execution_count": 376,
   "metadata": {},
   "outputs": [],
   "source": [
    "import matplotlib.pyplot as plt\n",
    "%matplotlib inline\n",
    "plt.style.use('ggplot')"
   ]
  },
  {
   "cell_type": "code",
   "execution_count": 377,
   "metadata": {},
   "outputs": [
    {
     "data": {
      "image/png": "[encoded data removed]",
      "text/plain": [
       "<Figure size 1152x720 with 49 Axes>"
      ]
     },
     "metadata": {},
     "output_type": "display_data"
    }
   ],
   "source": [
    "pd.plotting.scatter_matrix(rel_comments_w_emotions[['disgust', 'surprise','neutral','anger','sad','happy','fear']], alpha=0.2, figsize=(16, 10))\n",
    "plt.show()"
   ]
  },
  {
   "cell_type": "markdown",
   "metadata": {},
   "source": [
    "## Sentiment coherence in comments\n",
    "### Surprising\n",
    "Happy is very correlated to all sentiments (except neutral), in particularly anger, sad and fear\n",
    "### Not surprising\n",
    "Neutral is weakly connected to other sentiments"
   ]
  },
  {
   "cell_type": "code",
   "execution_count": 378,
   "metadata": {},
   "outputs": [
    {
     "data": {
      "text/html": [
       "<div>\n",
       "<style scoped>\n",
       "    .dataframe tbody tr th:only-of-type {\n",
       "        vertical-align: middle;\n",
       "    }\n",
       "\n",
       "    .dataframe tbody tr th {\n",
       "        vertical-align: top;\n",
       "    }\n",
       "\n",
       "    .dataframe thead th {\n",
       "        text-align: right;\n",
       "    }\n",
       "</style>\n",
       "<table border=\"1\" class=\"dataframe\">\n",
       "  <thead>\n",
       "    <tr style=\"text-align: right;\">\n",
       "      <th></th>\n",
       "      <th>disgust</th>\n",
       "      <th>surprise</th>\n",
       "      <th>neutral</th>\n",
       "      <th>anger</th>\n",
       "      <th>sad</th>\n",
       "      <th>happy</th>\n",
       "      <th>fear</th>\n",
       "    </tr>\n",
       "  </thead>\n",
       "  <tbody>\n",
       "    <tr>\n",
       "      <th>disgust</th>\n",
       "      <td>1.000000</td>\n",
       "      <td>0.961566</td>\n",
       "      <td>0.965700</td>\n",
       "      <td>0.965772</td>\n",
       "      <td>0.964458</td>\n",
       "      <td>0.949543</td>\n",
       "      <td>0.965478</td>\n",
       "    </tr>\n",
       "    <tr>\n",
       "      <th>surprise</th>\n",
       "      <td>0.961566</td>\n",
       "      <td>1.000000</td>\n",
       "      <td>0.977672</td>\n",
       "      <td>0.967219</td>\n",
       "      <td>0.972703</td>\n",
       "      <td>0.968520</td>\n",
       "      <td>0.970078</td>\n",
       "    </tr>\n",
       "    <tr>\n",
       "      <th>neutral</th>\n",
       "      <td>0.965700</td>\n",
       "      <td>0.977672</td>\n",
       "      <td>1.000000</td>\n",
       "      <td>0.967201</td>\n",
       "      <td>0.967305</td>\n",
       "      <td>0.963038</td>\n",
       "      <td>0.968875</td>\n",
       "    </tr>\n",
       "    <tr>\n",
       "      <th>anger</th>\n",
       "      <td>0.965772</td>\n",
       "      <td>0.967219</td>\n",
       "      <td>0.967201</td>\n",
       "      <td>1.000000</td>\n",
       "      <td>0.970706</td>\n",
       "      <td>0.956637</td>\n",
       "      <td>0.969320</td>\n",
       "    </tr>\n",
       "    <tr>\n",
       "      <th>sad</th>\n",
       "      <td>0.964458</td>\n",
       "      <td>0.972703</td>\n",
       "      <td>0.967305</td>\n",
       "      <td>0.970706</td>\n",
       "      <td>1.000000</td>\n",
       "      <td>0.965233</td>\n",
       "      <td>0.970717</td>\n",
       "    </tr>\n",
       "    <tr>\n",
       "      <th>happy</th>\n",
       "      <td>0.949543</td>\n",
       "      <td>0.968520</td>\n",
       "      <td>0.963038</td>\n",
       "      <td>0.956637</td>\n",
       "      <td>0.965233</td>\n",
       "      <td>1.000000</td>\n",
       "      <td>0.959127</td>\n",
       "    </tr>\n",
       "    <tr>\n",
       "      <th>fear</th>\n",
       "      <td>0.965478</td>\n",
       "      <td>0.970078</td>\n",
       "      <td>0.968875</td>\n",
       "      <td>0.969320</td>\n",
       "      <td>0.970717</td>\n",
       "      <td>0.959127</td>\n",
       "      <td>1.000000</td>\n",
       "    </tr>\n",
       "  </tbody>\n",
       "</table>\n",
       "</div>"
      ],
      "text/plain": [
       "           disgust  surprise   neutral     anger       sad     happy      fear\n",
       "disgust   1.000000  0.961566  0.965700  0.965772  0.964458  0.949543  0.965478\n",
       "surprise  0.961566  1.000000  0.977672  0.967219  0.972703  0.968520  0.970078\n",
       "neutral   0.965700  0.977672  1.000000  0.967201  0.967305  0.963038  0.968875\n",
       "anger     0.965772  0.967219  0.967201  1.000000  0.970706  0.956637  0.969320\n",
       "sad       0.964458  0.972703  0.967305  0.970706  1.000000  0.965233  0.970717\n",
       "happy     0.949543  0.968520  0.963038  0.956637  0.965233  1.000000  0.959127\n",
       "fear      0.965478  0.970078  0.968875  0.969320  0.970717  0.959127  1.000000"
      ]
     },
     "execution_count": 378,
     "metadata": {},
     "output_type": "execute_result"
    }
   ],
   "source": [
    "rel_comments_w_emotions[['disgust', 'surprise','neutral','anger','sad','happy','fear']].corr()"
   ]
  },
  {
   "cell_type": "code",
   "execution_count": 326,
   "metadata": {},
   "outputs": [
    {
     "data": {
      "text/html": [
       "<div>\n",
       "<style scoped>\n",
       "    .dataframe tbody tr th:only-of-type {\n",
       "        vertical-align: middle;\n",
       "    }\n",
       "\n",
       "    .dataframe tbody tr th {\n",
       "        vertical-align: top;\n",
       "    }\n",
       "\n",
       "    .dataframe thead th {\n",
       "        text-align: right;\n",
       "    }\n",
       "</style>\n",
       "<table border=\"1\" class=\"dataframe\">\n",
       "  <thead>\n",
       "    <tr style=\"text-align: right;\">\n",
       "      <th></th>\n",
       "      <th>disgust</th>\n",
       "      <th>fear</th>\n",
       "    </tr>\n",
       "  </thead>\n",
       "  <tbody>\n",
       "    <tr>\n",
       "      <th>0</th>\n",
       "      <td>0.011589</td>\n",
       "      <td>0.0839</td>\n",
       "    </tr>\n",
       "  </tbody>\n",
       "</table>\n",
       "</div>"
      ],
      "text/plain": [
       "    disgust    fear\n",
       "0  0.011589  0.0839"
      ]
     },
     "execution_count": 326,
     "metadata": {},
     "output_type": "execute_result"
    }
   ],
   "source": [
    "rel_comments_w_emotions[['disgust','fear']].head(1)"
   ]
  },
  {
   "cell_type": "code",
   "execution_count": null,
   "metadata": {},
   "outputs": [],
   "source": []
  },
  {
   "cell_type": "code",
   "execution_count": null,
   "metadata": {},
   "outputs": [],
   "source": []
  },
  {
   "cell_type": "code",
   "execution_count": null,
   "metadata": {},
   "outputs": [],
   "source": []
  },
  {
   "cell_type": "code",
   "execution_count": null,
   "metadata": {},
   "outputs": [],
   "source": []
  },
  {
   "cell_type": "code",
   "execution_count": null,
   "metadata": {},
   "outputs": [],
   "source": []
  },
  {
   "cell_type": "code",
   "execution_count": null,
   "metadata": {},
   "outputs": [],
   "source": []
  },
  {
   "cell_type": "code",
   "execution_count": null,
   "metadata": {},
   "outputs": [],
   "source": []
  },
  {
   "cell_type": "code",
   "execution_count": null,
   "metadata": {},
   "outputs": [],
   "source": []
  },
  {
   "cell_type": "code",
   "execution_count": null,
   "metadata": {},
   "outputs": [],
   "source": []
  },
  {
   "cell_type": "code",
   "execution_count": null,
   "metadata": {},
   "outputs": [],
   "source": []
  },
  {
   "cell_type": "code",
   "execution_count": null,
   "metadata": {},
   "outputs": [],
   "source": []
  },
  {
   "cell_type": "code",
   "execution_count": null,
   "metadata": {},
   "outputs": [],
   "source": []
  },
  {
   "cell_type": "code",
   "execution_count": null,
   "metadata": {},
   "outputs": [],
   "source": []
  },
  {
   "cell_type": "markdown",
   "metadata": {},
   "source": [
    "## Isolating Comment helpfulness"
   ]
  },
  {
   "cell_type": "code",
   "execution_count": 24,
   "metadata": {},
   "outputs": [
    {
     "data": {
      "text/plain": [
       "count    91869.000000\n",
       "mean     2.638866    \n",
       "std      11.521295   \n",
       "min      0.000000    \n",
       "25%      0.000000    \n",
       "50%      0.000000    \n",
       "75%      2.000000    \n",
       "max      1031.000000 \n",
       "Name: helpful, dtype: float64"
      ]
     },
     "execution_count": 24,
     "metadata": {},
     "output_type": "execute_result"
    }
   ],
   "source": [
    "helpful = reviews_df['helpful'].map(lambda x: x[0], na_action='ignore')\n",
    "helpful.describe()"
   ]
  },
  {
   "cell_type": "code",
   "execution_count": 25,
   "metadata": {},
   "outputs": [
    {
     "data": {
      "text/plain": [
       "count    91869.000000\n",
       "mean     4.093655    \n",
       "std      14.126499   \n",
       "min      0.000000    \n",
       "25%      0.000000    \n",
       "50%      1.000000    \n",
       "75%      4.000000    \n",
       "max      1160.000000 \n",
       "Name: helpful, dtype: float64"
      ]
     },
     "execution_count": 25,
     "metadata": {},
     "output_type": "execute_result"
    }
   ],
   "source": [
    "not_helpful = reviews_df['helpful'].map(lambda x: x[1], na_action='ignore')\n",
    "not_helpful.describe()"
   ]
  },
  {
   "cell_type": "markdown",
   "metadata": {},
   "source": [
    "### Note: current filtering is probably too aggressive:'DVD' mostly used to describe the movie\n",
    "Removing DVD would remove a lot of good comments, as all of the following are appropriate:"
   ]
  },
  {
   "cell_type": "code",
   "execution_count": 26,
   "metadata": {},
   "outputs": [
    {
     "data": {
      "text/plain": [
       "11    I have watched this version of &#34;Joseph&#34; numerous times also on TV and am once again glad to add this one to my collection of Bible DVD's. It's entertainment but for me it's much than that I'm able to receive a better understanding of my Bible it's like a learning process to test me on my Bible knowledge and see how well I know the scriptures, for instance when I'm able to pick something out of the movie that may not be quite true to scripture I go check my Bible and I'm able to learn my scriptures better and my Bible. I believe by watching the DVD over and over and even having different versions you absorb more into your memory and it can be your own individual Bible study. I was really amazed and excited when I saw that you offered many of these DVD's of (The Bible Collection) which are some of my favorites. Hoping to collect them all and other versions plus other Christian DVD's to learn from them for a better understanding of God's true Word.\n",
       "13    I use the Hemispheres textbooks for teaching one on one students and I love it! This is a good text to supplement my teaching. It goes with the DVD and my students can work on it individually.                                                                                                                                                                                                                                                                                                                                                                                                                                                                                                                                                                                                                                                                                                                                                                                                       \n",
       "18    I purchased this in an effort to collect all classic Christmas movies. This is the original Frosty movie, the quality is definitely dated. This was the cheapest price I could find this movie for, so the value was good.                                                                                                                                                                                                                                                                                                                                                                                                                                                                                                                                                                                                                                                                                                                                                                             \n",
       "20    Don't be fooled, this is the original unremastered version. My daughter loves that version so it's great, but I could have bought it from Wal-Mart for half this price.                                                                                                                                                                                                                                                                                                                                                                                                                                                                                                                                                                                                                                                                                                                                                                                                                                \n",
       "24    I bought this VHS when my daughter was 4 years old.  It is one that she wanted to watch over and over again.Simple story, simply animated, yet with a touching message and cute songs.  I would find myself singing \"Me & My Doll\" while cleaning the house! Great story to demonstrate true friendship.                                                                                                                                                                                                                                                                                                                                                                                                                                                                                                                                                                                                                                                                                               \n",
       "Name: reviewText, dtype: object"
      ]
     },
     "execution_count": 26,
     "metadata": {},
     "output_type": "execute_result"
    }
   ],
   "source": [
    "import pandas as pd\n",
    "pd.set_option('display.max_colwidth', -1)\n",
    "text_removed['reviewText'].head(5)"
   ]
  },
  {
   "cell_type": "code",
   "execution_count": null,
   "metadata": {},
   "outputs": [],
   "source": []
  },
  {
   "cell_type": "code",
   "execution_count": 28,
   "metadata": {},
   "outputs": [
    {
     "name": "stderr",
     "output_type": "stream",
     "text": [
      "/anaconda3/lib/python3.7/site-packages/ipykernel_launcher.py:1: UserWarning: This pattern has match groups. To actually get the groups, use str.extract.\n",
      "  \"\"\"Entry point for launching an IPython kernel.\n"
     ]
    }
   ],
   "source": [
    "text_removed = reviews_df[(reviews_df['reviewText'].str.contains('(dvd|vhs)', case=False)) & (helpful > 1)]"
   ]
  },
  {
   "cell_type": "code",
   "execution_count": 29,
   "metadata": {},
   "outputs": [
    {
     "data": {
      "text/html": [
       "<div>\n",
       "<style scoped>\n",
       "    .dataframe tbody tr th:only-of-type {\n",
       "        vertical-align: middle;\n",
       "    }\n",
       "\n",
       "    .dataframe tbody tr th {\n",
       "        vertical-align: top;\n",
       "    }\n",
       "\n",
       "    .dataframe thead th {\n",
       "        text-align: right;\n",
       "    }\n",
       "</style>\n",
       "<table border=\"1\" class=\"dataframe\">\n",
       "  <thead>\n",
       "    <tr style=\"text-align: right;\">\n",
       "      <th></th>\n",
       "      <th>reviewText</th>\n",
       "      <th>helpful</th>\n",
       "    </tr>\n",
       "  </thead>\n",
       "  <tbody>\n",
       "    <tr>\n",
       "      <th>30</th>\n",
       "      <td>What with Meryl Streep portraying her in a movie and all, Julia's books and series are getting a monster tidal wave of fresh attention.  I wonder how many youngsters (Food Network viewers) will purchase or have purchased for them the classic \"Mastering the Art of French Cooking\" and find it completely overwhelming and not necessarily useful for everyday cooking?I had few cooking skills in the mid 1980s when this book and DVD came out, and I relied on recipes from Fannie Farmer, supermarket recipe cards, and women's magazines.  This series elevated my cooking for good.  It is French influenced, but simplified in some cases, and there are variations on most recipes which is really useful if you don't have time to run to the supermarket.  I have had many variation cookbooks and this is the best.  I have not used the dessert section too much (I prefer Pierre Franey for this--fruit salad with Grand Marnier!), but the bread, meat, and veg sections are the best.  I recommend ham steaks with peas and mashed potatoes and cornish game hen broiled w/cheese.I am so pleased this is out on DVD.  I gathered up the video tapes one-by-one on ebay and this is definitely more affordable!</td>\n",
       "      <td>[31, 34]</td>\n",
       "    </tr>\n",
       "    <tr>\n",
       "      <th>37</th>\n",
       "      <td>To start off with, I actually have an early release of the dvd, so my stars are based on that, not the cinema.I made it through about six or seven pages on reviews before I decided to write this and from what I see, three subjects usually appear as the reason for bad reviews.The first reason is it is too violent.  We all knew this, before we even went to see it.  It was all over news, media, etc.  We were warned not to take our kids, be prepared for violence, not for the weak of heart.  So, if you went expecting scenes of the beach, then that is your own fault.  I didn't watch it hoping to see a blood bath, but I knew it was coming.I am a very faithful Protestant, and I do see some Catholic overtones in the story, but that is Mel's interpretation and overall I felt it was pretty accurate.  It is interesting to me that all of these people that may or may not have a personal relationship with Jesus, seem to know that if he were here today, he would not support this film.The second reason people complain is because it doesn't tell the full story of Jesus.  It isn't supposed to.  It is the Passion of the Christ, and passion means suffering.  It isn't the story of the Christ or the Gospel of the Christ.  It is basically a Passion play put to cinema.  He isn't trying to show us the teachings of Jesus, he is showing us the suffering of Jesus.  He is showing us what He went through for us.  If you see this movie and aren't moved by the sacrifice that He made for all of us to be free, then you don't get it.  And if you don't understand and you don't get it, then that is ok, I pray someday that you will.The third thing I pick up on in these reviews is that Mel is using it just for profit.  He has made money at ever other movie he has made I am sure, and yet no one ever questions his motives then.  Yet, when he comes out with something of a religious nature when we are in a world that requires us to be politically correct, then he was just doing it for money.  He put up his own money and I personally hope he makes all the money he can off of it, not that he needs it.  So what if there is a director's cut later on?  How may different directors editions or box sets of Lord of the Rings are out there?  I get tired of having to apologize for what I believe.  If someone stands up for an important issue, whatever the hot topic of the week is, then that is their right to voice their opinion and they expect everyone to recieve it and agree.  But if I as a Christian stand up for what I believe, then I am a \"Jesus Freak\" or a \"Fanatic\".  So if you don't agree with me, that is your right, but if I don't believe what you do, then I am narrow minded??  What happened to my right to my own beliefs?While I am still on my soap box, it is amazing to me that people still think this film is anti-semitic.  If you have any knowledge of the history prior to this then you should know that Jews were a large part of this area, so who else would send Jesus to the cross?  He was Jewish, it was just the circumstances.  And if you don't know the history, then read the bible, don't blame Gibson.Back to the movie, I liked the dvd, thought it was a great movie.  I tip my hat to Mel Gibson for having the courage to put his money where his mouth is and put his beliefs to film.God Bless</td>\n",
       "      <td>[9, 12]</td>\n",
       "    </tr>\n",
       "    <tr>\n",
       "      <th>40</th>\n",
       "      <td>I have never seen a movie as intensley astounding in performance as that of \"The Passion Of The Christ\".  I am 39 years old and I cannot find the words to express to anyone the expanse, magnitude and brilliance that this movie of The Final hours of Jesus Christ has left within me other than an imprint  as deep within as the mystery of the universe itself.As a young catholic growing up, I remember seeing the movie on TV called, \"Francis of Assisi\", starring Bradford Dillman, Dolores Hart (who became an actual nun in 1971) and Stuart Whitman.  It was and is one of the greatest movies in the history of Religious Film Making with The Passion of The Christ as Number One and Francis as Number two.  No film of St. Francis or any kind then, made such an impression on me, that I actually took His name as mine for my Confirmation Name because I became so \"hypnotized\", if you will, that I became more aware that anyone can desire such holiness and attain such (Holy) Valor as Francis did, for me, when I was only 11.Buy this film!!  See \"The Passion of The Christ\" Come Alive for you as you have never seen anything like it ever before!!!So that to see for yourselves what Jesus went through in His Final Hours for our redemption and to accomplish for us something so beautiful through such anguish and pain never before witnessed, that to this day, as I hold the DVD in my hands still unwrapped since I saw it on The Big Screen, it remains in me, as if imprinted on my very soul.Maybe a person may see this film as an atheist and leave it as an atheist, but I know one thing.  They will never die as one, as it is said, likewise, that \"there are no atheists in fox holes\".Peace of \"The Christ\" be with you!RJ</td>\n",
       "      <td>[6, 8]</td>\n",
       "    </tr>\n",
       "    <tr>\n",
       "      <th>42</th>\n",
       "      <td>I frankly don't know how anybody could dislike this film.  I cannot think of many superior cinemagraphic experiences than viewing \"The Passion of the Chirst.\"  With the soldiers and the Pharisees, it is nearly unfathomable that such hate could be conjured up for one's fellow human beings but there are endless reminders around us today which document that such hate still exists.  Christ in particular remains despised in numerous hearts and locales.The artistic merits of \"The Passion...\" are weighty.  Merely hearing Aramaic and Latin for two hours straight is valuable in itself.  All of the acting is strong and this is even true of the minor roles as one's outrage at the individual soldiers is palpable.The choice for Satan was fascinating as I don't recall ever seeing a more perfectly androgynous human being captured on the big screen.  The way that Mel Gibson \"fleshed out\" Pilate was stupendous, and quite surprising.  In the context of the times, it is possible to feel sympathy for him.  The very small things are what makes the film uniquely memorable, such as the use of flashbacks, the motif of the dove, and the death scene of Judas.  I loved this movie and the DVD was worth the 20 bucks I paid.  Never in my life have I wanted more to more change an ending and never in my life have I been as powerless to do so.</td>\n",
       "      <td>[3, 6]</td>\n",
       "    </tr>\n",
       "    <tr>\n",
       "      <th>44</th>\n",
       "      <td>I've noticed that many reviewers are complaining because there are no extras on this DVD.  So what!?!  The point of this movie isn't what Mel Gibson or any of the actors think.  The point is what's happening on the screen.  If you don't get that, you don't get the message.  Why cloud the true message with a bunch of talking heads who are only going to say what's been said in countless magazine/newspaper interviews?  This is a powerful movie that needs no explanation.  It captures a part of Jesus' life that has been overly sanitized.  We (Christians) know that Jesus died for us, but how many of us have actually considered \"how\" he died for us?  Watching this movie should make a lot of people sit up and take notice.  It's not an easy movie to watch, but once again, that's the point.  You're supposed to feel uncomfortable.  You're supposed to be horrified by the brutality and callousness of what happened to the Son of God.  Mel Gibson did a magnificent job of capturing the last hours of Jesus' life.  He didn't sugarcoat anything; he didn't downplay any of the \"ugly\" aspects.  I respect him and this movie for that.  This is definitely a movie that stays with you after you watch it.  Hopefully, if you watched it in the right frame of mind, the true message should stay with you for the rest of your life.</td>\n",
       "      <td>[8, 14]</td>\n",
       "    </tr>\n",
       "  </tbody>\n",
       "</table>\n",
       "</div>"
      ],
      "text/plain": [
       "                                                                                                                                                                                                                                                                                                                                                                                                                                                                                                                                                                                                                                                                                                                                                                                                                                                                                                                                                                                                                                                                                                                                                                                                                                                                                                                                                                                                                                                                                                                                                                                                                                                                                                                                                                                                                                                                                                                                                                                                                                                                                                                                                                                                                                                                                                                                                                                                                                                                                                                                                                                                                                                                                                                                                                                                                                                                                                                                                                                                                                                                                                                                                                                                                                                                                                                                                                                                                              reviewText  \\\n",
       "30  What with Meryl Streep portraying her in a movie and all, Julia's books and series are getting a monster tidal wave of fresh attention.  I wonder how many youngsters (Food Network viewers) will purchase or have purchased for them the classic \"Mastering the Art of French Cooking\" and find it completely overwhelming and not necessarily useful for everyday cooking?I had few cooking skills in the mid 1980s when this book and DVD came out, and I relied on recipes from Fannie Farmer, supermarket recipe cards, and women's magazines.  This series elevated my cooking for good.  It is French influenced, but simplified in some cases, and there are variations on most recipes which is really useful if you don't have time to run to the supermarket.  I have had many variation cookbooks and this is the best.  I have not used the dessert section too much (I prefer Pierre Franey for this--fruit salad with Grand Marnier!), but the bread, meat, and veg sections are the best.  I recommend ham steaks with peas and mashed potatoes and cornish game hen broiled w/cheese.I am so pleased this is out on DVD.  I gathered up the video tapes one-by-one on ebay and this is definitely more affordable!                                                                                                                                                                                                                                                                                                                                                                                                                                                                                                                                                                                                                                                                                                                                                                                                                                                                                                                                                                                                                                                                                                                                                                                                                                                                                                                                                                                                                                                                                                                                                                                                                                                                                                                                                                                                                                                                                                                                                                                                                                                                                                                                                                                                    \n",
       "37  To start off with, I actually have an early release of the dvd, so my stars are based on that, not the cinema.I made it through about six or seven pages on reviews before I decided to write this and from what I see, three subjects usually appear as the reason for bad reviews.The first reason is it is too violent.  We all knew this, before we even went to see it.  It was all over news, media, etc.  We were warned not to take our kids, be prepared for violence, not for the weak of heart.  So, if you went expecting scenes of the beach, then that is your own fault.  I didn't watch it hoping to see a blood bath, but I knew it was coming.I am a very faithful Protestant, and I do see some Catholic overtones in the story, but that is Mel's interpretation and overall I felt it was pretty accurate.  It is interesting to me that all of these people that may or may not have a personal relationship with Jesus, seem to know that if he were here today, he would not support this film.The second reason people complain is because it doesn't tell the full story of Jesus.  It isn't supposed to.  It is the Passion of the Christ, and passion means suffering.  It isn't the story of the Christ or the Gospel of the Christ.  It is basically a Passion play put to cinema.  He isn't trying to show us the teachings of Jesus, he is showing us the suffering of Jesus.  He is showing us what He went through for us.  If you see this movie and aren't moved by the sacrifice that He made for all of us to be free, then you don't get it.  And if you don't understand and you don't get it, then that is ok, I pray someday that you will.The third thing I pick up on in these reviews is that Mel is using it just for profit.  He has made money at ever other movie he has made I am sure, and yet no one ever questions his motives then.  Yet, when he comes out with something of a religious nature when we are in a world that requires us to be politically correct, then he was just doing it for money.  He put up his own money and I personally hope he makes all the money he can off of it, not that he needs it.  So what if there is a director's cut later on?  How may different directors editions or box sets of Lord of the Rings are out there?  I get tired of having to apologize for what I believe.  If someone stands up for an important issue, whatever the hot topic of the week is, then that is their right to voice their opinion and they expect everyone to recieve it and agree.  But if I as a Christian stand up for what I believe, then I am a \"Jesus Freak\" or a \"Fanatic\".  So if you don't agree with me, that is your right, but if I don't believe what you do, then I am narrow minded??  What happened to my right to my own beliefs?While I am still on my soap box, it is amazing to me that people still think this film is anti-semitic.  If you have any knowledge of the history prior to this then you should know that Jews were a large part of this area, so who else would send Jesus to the cross?  He was Jewish, it was just the circumstances.  And if you don't know the history, then read the bible, don't blame Gibson.Back to the movie, I liked the dvd, thought it was a great movie.  I tip my hat to Mel Gibson for having the courage to put his money where his mouth is and put his beliefs to film.God Bless   \n",
       "40  I have never seen a movie as intensley astounding in performance as that of \"The Passion Of The Christ\".  I am 39 years old and I cannot find the words to express to anyone the expanse, magnitude and brilliance that this movie of The Final hours of Jesus Christ has left within me other than an imprint  as deep within as the mystery of the universe itself.As a young catholic growing up, I remember seeing the movie on TV called, \"Francis of Assisi\", starring Bradford Dillman, Dolores Hart (who became an actual nun in 1971) and Stuart Whitman.  It was and is one of the greatest movies in the history of Religious Film Making with The Passion of The Christ as Number One and Francis as Number two.  No film of St. Francis or any kind then, made such an impression on me, that I actually took His name as mine for my Confirmation Name because I became so \"hypnotized\", if you will, that I became more aware that anyone can desire such holiness and attain such (Holy) Valor as Francis did, for me, when I was only 11.Buy this film!!  See \"The Passion of The Christ\" Come Alive for you as you have never seen anything like it ever before!!!So that to see for yourselves what Jesus went through in His Final Hours for our redemption and to accomplish for us something so beautiful through such anguish and pain never before witnessed, that to this day, as I hold the DVD in my hands still unwrapped since I saw it on The Big Screen, it remains in me, as if imprinted on my very soul.Maybe a person may see this film as an atheist and leave it as an atheist, but I know one thing.  They will never die as one, as it is said, likewise, that \"there are no atheists in fox holes\".Peace of \"The Christ\" be with you!RJ                                                                                                                                                                                                                                                                                                                                                                                                                                                                                                                                                                                                                                                                                                                                                                                                                                                                                                                                                                                                                                                                                                                                                                                                                                                                                                                                                                                                                                                                                                                                                                                                                                                        \n",
       "42  I frankly don't know how anybody could dislike this film.  I cannot think of many superior cinemagraphic experiences than viewing \"The Passion of the Chirst.\"  With the soldiers and the Pharisees, it is nearly unfathomable that such hate could be conjured up for one's fellow human beings but there are endless reminders around us today which document that such hate still exists.  Christ in particular remains despised in numerous hearts and locales.The artistic merits of \"The Passion...\" are weighty.  Merely hearing Aramaic and Latin for two hours straight is valuable in itself.  All of the acting is strong and this is even true of the minor roles as one's outrage at the individual soldiers is palpable.The choice for Satan was fascinating as I don't recall ever seeing a more perfectly androgynous human being captured on the big screen.  The way that Mel Gibson \"fleshed out\" Pilate was stupendous, and quite surprising.  In the context of the times, it is possible to feel sympathy for him.  The very small things are what makes the film uniquely memorable, such as the use of flashbacks, the motif of the dove, and the death scene of Judas.  I loved this movie and the DVD was worth the 20 bucks I paid.  Never in my life have I wanted more to more change an ending and never in my life have I been as powerless to do so.                                                                                                                                                                                                                                                                                                                                                                                                                                                                                                                                                                                                                                                                                                                                                                                                                                                                                                                                                                                                                                                                                                                                                                                                                                                                                                                                                                                                                                                                                                                                                                                                                                                                                                                                                                                                                                                                                                                                                                                                                                                   \n",
       "44  I've noticed that many reviewers are complaining because there are no extras on this DVD.  So what!?!  The point of this movie isn't what Mel Gibson or any of the actors think.  The point is what's happening on the screen.  If you don't get that, you don't get the message.  Why cloud the true message with a bunch of talking heads who are only going to say what's been said in countless magazine/newspaper interviews?  This is a powerful movie that needs no explanation.  It captures a part of Jesus' life that has been overly sanitized.  We (Christians) know that Jesus died for us, but how many of us have actually considered \"how\" he died for us?  Watching this movie should make a lot of people sit up and take notice.  It's not an easy movie to watch, but once again, that's the point.  You're supposed to feel uncomfortable.  You're supposed to be horrified by the brutality and callousness of what happened to the Son of God.  Mel Gibson did a magnificent job of capturing the last hours of Jesus' life.  He didn't sugarcoat anything; he didn't downplay any of the \"ugly\" aspects.  I respect him and this movie for that.  This is definitely a movie that stays with you after you watch it.  Hopefully, if you watched it in the right frame of mind, the true message should stay with you for the rest of your life.                                                                                                                                                                                                                                                                                                                                                                                                                                                                                                                                                                                                                                                                                                                                                                                                                                                                                                                                                                                                                                                                                                                                                                                                                                                                                                                                                                                                                                                                                                                                                                                                                                                                                                                                                                                                                                                                                                                                                                                                                                                                \n",
       "\n",
       "     helpful  \n",
       "30  [31, 34]  \n",
       "37  [9, 12]   \n",
       "40  [6, 8]    \n",
       "42  [3, 6]    \n",
       "44  [8, 14]   "
      ]
     },
     "execution_count": 29,
     "metadata": {},
     "output_type": "execute_result"
    }
   ],
   "source": [
    "text_removed[['reviewText','helpful']].head(5)"
   ]
  },
  {
   "cell_type": "code",
   "execution_count": null,
   "metadata": {},
   "outputs": [],
   "source": []
  }
 ],
 "metadata": {
  "kernelspec": {
   "display_name": "Python 3",
   "language": "python",
   "name": "python3"
  },
  "language_info": {
   "codemirror_mode": {
    "name": "ipython",
    "version": 3
   },
   "file_extension": ".py",
   "mimetype": "text/x-python",
   "name": "python",
   "nbconvert_exporter": "python",
   "pygments_lexer": "ipython3",
   "version": "3.7.1"
  }
 },
 "nbformat": 4,
 "nbformat_minor": 2
}
