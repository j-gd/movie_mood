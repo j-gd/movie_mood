{
 "cells": [
  {
   "cell_type": "code",
   "execution_count": 1,
   "metadata": {},
   "outputs": [],
   "source": [
    "import numpy as np\n",
    "import pandas as pd\n",
    "import matplotlib.pyplot as plt\n",
    "import seaborn as sns"
   ]
  },
  {
   "cell_type": "code",
   "execution_count": 7,
   "metadata": {},
   "outputs": [],
   "source": [
    "xl_report = 'gbc_500_trees_02_rate_8_depth_5_leaf_sqrt_10k_tfidf_B.xlsx'"
   ]
  },
  {
   "cell_type": "code",
   "execution_count": 8,
   "metadata": {},
   "outputs": [],
   "source": [
    "df = pd.read_excel(xl_report)"
   ]
  },
  {
   "cell_type": "code",
   "execution_count": 10,
   "metadata": {},
   "outputs": [
    {
     "name": "stderr",
     "output_type": "stream",
     "text": [
      "/anaconda3/lib/python3.7/site-packages/ipykernel_launcher.py:2: SettingWithCopyWarning: \n",
      "A value is trying to be set on a copy of a slice from a DataFrame.\n",
      "Try using .loc[row_indexer,col_indexer] = value instead\n",
      "\n",
      "See the caveats in the documentation: http://pandas.pydata.org/pandas-docs/stable/indexing.html#indexing-view-versus-copy\n",
      "  \n",
      "/anaconda3/lib/python3.7/site-packages/ipykernel_launcher.py:3: SettingWithCopyWarning: \n",
      "A value is trying to be set on a copy of a slice from a DataFrame.\n",
      "Try using .loc[row_indexer,col_indexer] = value instead\n",
      "\n",
      "See the caveats in the documentation: http://pandas.pydata.org/pandas-docs/stable/indexing.html#indexing-view-versus-copy\n",
      "  This is separate from the ipykernel package so we can avoid doing imports until\n"
     ]
    }
   ],
   "source": [
    "res = df[['case', 'remove', 'percent', 'precision', 'recall']]\n",
    "res['precision'] = res['precision'] * 100\n",
    "res['recall'] = res['recall'] * 100"
   ]
  },
  {
   "cell_type": "code",
   "execution_count": 11,
   "metadata": {},
   "outputs": [
    {
     "data": {
      "text/html": [
       "<div>\n",
       "<style scoped>\n",
       "    .dataframe tbody tr th:only-of-type {\n",
       "        vertical-align: middle;\n",
       "    }\n",
       "\n",
       "    .dataframe tbody tr th {\n",
       "        vertical-align: top;\n",
       "    }\n",
       "\n",
       "    .dataframe thead th {\n",
       "        text-align: right;\n",
       "    }\n",
       "</style>\n",
       "<table border=\"1\" class=\"dataframe\">\n",
       "  <thead>\n",
       "    <tr style=\"text-align: right;\">\n",
       "      <th></th>\n",
       "      <th>case</th>\n",
       "      <th>remove</th>\n",
       "      <th>percent</th>\n",
       "      <th>precision</th>\n",
       "      <th>recall</th>\n",
       "    </tr>\n",
       "  </thead>\n",
       "  <tbody>\n",
       "    <tr>\n",
       "      <th>0</th>\n",
       "      <td>B</td>\n",
       "      <td>obj</td>\n",
       "      <td>20</td>\n",
       "      <td>87.732095</td>\n",
       "      <td>88.200000</td>\n",
       "    </tr>\n",
       "    <tr>\n",
       "      <th>1</th>\n",
       "      <td>B</td>\n",
       "      <td>obj</td>\n",
       "      <td>40</td>\n",
       "      <td>86.068829</td>\n",
       "      <td>86.700000</td>\n",
       "    </tr>\n",
       "    <tr>\n",
       "      <th>2</th>\n",
       "      <td>B</td>\n",
       "      <td>obj</td>\n",
       "      <td>60</td>\n",
       "      <td>83.896887</td>\n",
       "      <td>83.533333</td>\n",
       "    </tr>\n",
       "    <tr>\n",
       "      <th>3</th>\n",
       "      <td>B</td>\n",
       "      <td>obj</td>\n",
       "      <td>80</td>\n",
       "      <td>78.876556</td>\n",
       "      <td>78.166667</td>\n",
       "    </tr>\n",
       "    <tr>\n",
       "      <th>4</th>\n",
       "      <td>B</td>\n",
       "      <td>subj</td>\n",
       "      <td>20</td>\n",
       "      <td>86.344050</td>\n",
       "      <td>86.833333</td>\n",
       "    </tr>\n",
       "    <tr>\n",
       "      <th>5</th>\n",
       "      <td>B</td>\n",
       "      <td>subj</td>\n",
       "      <td>40</td>\n",
       "      <td>84.121172</td>\n",
       "      <td>84.233333</td>\n",
       "    </tr>\n",
       "    <tr>\n",
       "      <th>6</th>\n",
       "      <td>B</td>\n",
       "      <td>subj</td>\n",
       "      <td>60</td>\n",
       "      <td>79.813146</td>\n",
       "      <td>79.733333</td>\n",
       "    </tr>\n",
       "    <tr>\n",
       "      <th>7</th>\n",
       "      <td>B</td>\n",
       "      <td>subj</td>\n",
       "      <td>80</td>\n",
       "      <td>73.557047</td>\n",
       "      <td>73.066667</td>\n",
       "    </tr>\n",
       "  </tbody>\n",
       "</table>\n",
       "</div>"
      ],
      "text/plain": [
       "  case remove  percent  precision     recall\n",
       "0    B    obj       20  87.732095  88.200000\n",
       "1    B    obj       40  86.068829  86.700000\n",
       "2    B    obj       60  83.896887  83.533333\n",
       "3    B    obj       80  78.876556  78.166667\n",
       "4    B   subj       20  86.344050  86.833333\n",
       "5    B   subj       40  84.121172  84.233333\n",
       "6    B   subj       60  79.813146  79.733333\n",
       "7    B   subj       80  73.557047  73.066667"
      ]
     },
     "execution_count": 11,
     "metadata": {},
     "output_type": "execute_result"
    }
   ],
   "source": [
    "res"
   ]
  },
  {
   "cell_type": "code",
   "execution_count": 14,
   "metadata": {},
   "outputs": [
    {
     "data": {
      "image/png": "[encoded data removed]",
      "text/plain": [
       "<Figure size 576x288 with 1 Axes>"
      ]
     },
     "metadata": {},
     "output_type": "display_data"
    }
   ],
   "source": [
    "with plt.style.context('dark_background'):\n",
    "    sns.set_palette(\"bright\")\n",
    "#     sns.set_palette(sns.color_palette(\"Accent\", 10))\n",
    "\n",
    "    fig, ax = plt.subplots(figsize=(8, 4))\n",
    "\n",
    "    ax = sns.barplot(ax=ax, x=\"percent\", y=\"recall\", hue=\"remove\", data=res, ci=None)\n",
    "#     ax.set(xlabel='% sentences removed', ylabel='Recall %')\n",
    "    ax.set_xlabel(\"% sentences removed\",fontsize=12)\n",
    "    ax.set_ylabel(\"Recall %\",fontsize=12)\n",
    "    ax.set_ylim([70, 90])\n",
    "\n",
    "\n",
    "#     ax.set_title('Impact on recall, of removing review sentences', weight='bold').set_fontsize('16')\n",
    "    # plt.legend.set_title('Removing most objective sentences')\n",
    "    legend = plt.legend(loc='upper right')\n",
    "    legend.set_title('Removing:')\n",
    "\n",
    "    new_labels = ['most objective sentences', 'most subjective sentences']\n",
    "    for t, l in zip(legend.texts, new_labels): t.set_text(l)\n",
    "    "
   ]
  },
  {
   "cell_type": "code",
   "execution_count": 22,
   "metadata": {},
   "outputs": [
    {
     "data": {
      "image/png": "[encoded data removed]",
      "text/plain": [
       "<Figure size 720x288 with 1 Axes>"
      ]
     },
     "metadata": {
      "needs_background": "light"
     },
     "output_type": "display_data"
    }
   ],
   "source": [
    "# with plt.style.context('dark_background'):\n",
    "\n",
    "sns.set_palette(\"bright\")\n",
    "# sns.set_palette(sns.color_palette(\"Accent\", 10))\n",
    "\n",
    "fig, ax = plt.subplots(figsize=(10, 4))\n",
    "\n",
    "ax = sns.barplot(ax=ax, x=\"percent\", y=\"precision\", hue=\"remove\", data=res, ci=None)\n",
    "ax.set(xlabel='% sentences removed', ylabel='Precision %')\n",
    "ax.set_ylim([70, 90])\n",
    "\n",
    "\n",
    "# ax.set_title('Impact on precision, of removing review sentences', weight='bold').set_fontsize('14')\n",
    "# plt.legend.set_title('Removing most objective sentences')\n",
    "legend = plt.legend(loc='upper right')\n",
    "legend.set_title('Removing:')\n",
    "new_labels = ['most objective sentences', 'most subjective sentences']\n",
    "for t, l in zip(legend.texts, new_labels): t.set_text(l)\n"
   ]
  },
  {
   "cell_type": "code",
   "execution_count": null,
   "metadata": {},
   "outputs": [],
   "source": []
  }
 ],
 "metadata": {
  "kernelspec": {
   "display_name": "Python 3",
   "language": "python",
   "name": "python3"
  },
  "language_info": {
   "codemirror_mode": {
    "name": "ipython",
    "version": 3
   },
   "file_extension": ".py",
   "mimetype": "text/x-python",
   "name": "python",
   "nbconvert_exporter": "python",
   "pygments_lexer": "ipython3",
   "version": "3.7.3"
  }
 },
 "nbformat": 4,
 "nbformat_minor": 2
}
