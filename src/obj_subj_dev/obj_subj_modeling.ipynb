{
 "cells": [
  {
   "cell_type": "code",
   "execution_count": 1,
   "metadata": {},
   "outputs": [],
   "source": [
    "import numpy as np\n",
    "import pandas as pd\n",
    "# from nltk.tokenize import word_tokenize\n",
    "from sklearn.feature_extraction.text import TfidfVectorizer\n",
    "from sklearn.model_selection import train_test_split, GridSearchCV\n",
    "from sklearn.metrics import recall_score, make_scorer, roc_curve\n",
    "import pickle"
   ]
  },
  {
   "cell_type": "code",
   "execution_count": 2,
   "metadata": {
    "scrolled": true
   },
   "outputs": [
    {
     "name": "stdout",
     "output_type": "stream",
     "text": [
      "The autoreload extension is already loaded. To reload it, use:\n",
      "  %reload_ext autoreload\n"
     ]
    }
   ],
   "source": [
    "# Plotting\n",
    "import matplotlib.pyplot as plt\n",
    "import seaborn as sns\n",
    "from IPython.display import Markdown, display\n",
    "\n",
    "%matplotlib inline\n",
    "\n",
    "# Display full content\n",
    "# pd.set_option('display.max_colwidth', -1)\n",
    "# np.set_printoptions(threshold=sys.maxsize)\n",
    "\n",
    "# Avoid restarting Kernel\n",
    "%load_ext autoreload\n",
    "%autoreload 2\n",
    "\n",
    "import sys\n",
    "sys.path.append('..')"
   ]
  },
  {
   "cell_type": "code",
   "execution_count": 3,
   "metadata": {},
   "outputs": [],
   "source": [
    "# Project libraries\n",
    "%reload_ext autoreload\n",
    "from NLP import WordBag"
   ]
  },
  {
   "cell_type": "markdown",
   "metadata": {},
   "source": [
    "# Read objective and subjective training files"
   ]
  },
  {
   "cell_type": "code",
   "execution_count": 4,
   "metadata": {
    "scrolled": true
   },
   "outputs": [],
   "source": [
    "path = './data/'\n",
    "subjective_file = 'subj_review.txt'"
   ]
  },
  {
   "cell_type": "code",
   "execution_count": 5,
   "metadata": {
    "scrolled": true
   },
   "outputs": [
    {
     "name": "stdout",
     "output_type": "stream",
     "text": [
      "Subjective: 5060\n"
     ]
    },
    {
     "data": {
      "text/plain": [
       "'called \" an elegant documentary \" by sundance and \" eloquent and deeply moving \" by the la times , toyo miyatake : infinite shades of gray is a penetrating portrait of this photographer\\'s search for truth and beauty in a world of impermanence . \\n'"
      ]
     },
     "execution_count": 5,
     "metadata": {},
     "output_type": "execute_result"
    }
   ],
   "source": [
    "f = open(path + subjective_file, 'r', encoding='utf-8', errors='ignore')\n",
    "subjective_lines = []\n",
    "for line in f:\n",
    "    subjective_lines.append(line)\n",
    "f.close()\n",
    "\n",
    "print('Subjective:',len(subjective_lines))\n",
    "subjective_lines[0]"
   ]
  },
  {
   "cell_type": "code",
   "execution_count": 6,
   "metadata": {
    "scrolled": true
   },
   "outputs": [
    {
     "name": "stdout",
     "output_type": "stream",
     "text": [
      "Objective: 4941\n"
     ]
    }
   ],
   "source": [
    "objective_file = 'obj_plot.txt'\n",
    "f = open(path + objective_file, 'r', encoding='utf-8', errors='ignore')\n",
    "objective_lines = []\n",
    "for line in f:\n",
    "    objective_lines.append(line.rstrip())\n",
    "f.close()\n",
    "\n",
    "print('Objective:',len(objective_lines))"
   ]
  },
  {
   "cell_type": "code",
   "execution_count": 7,
   "metadata": {
    "scrolled": true
   },
   "outputs": [
    {
     "data": {
      "text/plain": [
       "'while the now 72-year-old robert evans been slowed down by a stroke , he has at least one more story to tell : his own .'"
      ]
     },
     "execution_count": 7,
     "metadata": {},
     "output_type": "execute_result"
    }
   ],
   "source": [
    "objective_lines[0]"
   ]
  },
  {
   "cell_type": "code",
   "execution_count": 8,
   "metadata": {
    "scrolled": true
   },
   "outputs": [
    {
     "name": "stdout",
     "output_type": "stream",
     "text": [
      "10001\n"
     ]
    },
    {
     "data": {
      "text/plain": [
       "['called \" an elegant documentary \" by sundance and \" eloquent and deeply moving \" by the la times , toyo miyatake : infinite shades of gray is a penetrating portrait of this photographer\\'s search for truth and beauty in a world of impermanence . \\n',\n",
       " 'their reporting becomes more compelling when they gather the courage to tell the truth about witnessing two of their peers throw a four-year-old out of a 14th story window . \\n',\n",
       " \"calvin's barbershop is filled with an eclectic and hilarious cast of characters that share their stories , jokes , trials and tribulations . \\n\",\n",
       " 'simultaneously devastating and hilarious , the film manages to capture the daily rituals and mundanities of life in such engrossing proximity that everything becomes drama . \\n',\n",
       " 'in the hilarious comedy daddy day care , two fathers ( eddie murphy , jeff garlin ) lose their jobs in product development at a large food company and are forced to take their sons out of the exclusive chapman academy and become stay-at-home fathers . \\n',\n",
       " \"'nine dead gay guys' is the outrageous but hilarious result of the ensuing caper as the lads begin the search for the elusive bed . \\n\",\n",
       " 'the film is shot in multiple formats from 35mm ( the majority ) to the newer digital format of digi-beta , with a short , eerily beautiful dream segment shot in super-8 . \\n',\n",
       " \"it won't be easy , but if he can handle bird-eating spiders and venomous snakes without getting bitten , gun-wielding agents shouldn't be too much of a problem . \\n\",\n",
       " 'disturbing for its unabashed honesty , our cast of characters both love and despise each other , their very actions acknowledging the pressures inherent in a tightly bonded peer group . \\n',\n",
       " 'loonies is a film with light-hearted and cheeky humour that , in a moving way , takes us into the pleasantly disturbed world of five somewhat romanticised psychiatric patients . \\n',\n",
       " 'if so , then this movie will touch your soul . . . \\n',\n",
       " 'but even more important than that , it is an emotional story of a character who learns to value relationships , life balance and spiritual purpose , over self-involvement and financial gain . \\n',\n",
       " 'the ensuing road trip packs even more slapstick and locker room humor into an \" already-bursting \" movie . \\n',\n",
       " 'it deals with a whole lot of fun , romance and suspense . \\n',\n",
       " \"a private eye in the mold of those great 40's movie detectives . \\n\",\n",
       " 'the sensuous-poetic film is an appeal to dream and a hommage to the great actor klaus kinski . \\n',\n",
       " 'whip smart , alluring as hell , dynamic , and sexually predatory . \\n',\n",
       " \"an un-relentless action film that will attract , through word of mouth , all those hooked on gaming on their pc's and drag them back into the cinema auditoriums . \\n\",\n",
       " 'the result is a farcical and sad truth that should make the hollywood step-upons , stolen-froms and never-beens delighted and perhaps even a little vindicated . \\n',\n",
       " 'writer/director dante tomaselli merges two disturbing storylines into this visually arresting chiller . \\n',\n",
       " 'sure to stir up some controversy , callous sentiment is a true depiction of how violence can affect ones psyche . \\n',\n",
       " 'if you have an uneasy tummy , this movie is not for you ! \\n',\n",
       " \"this very strong cultural identity , different from the us model allows blanca li to give an original point of view on today's melting pot of french urban youngsters . \\n\",\n",
       " 'this astounding documentary puts reality tv to shame and reminds us of just how unreal that prefabricated situation-based dreck really is . \\n',\n",
       " \"an entertaining and topical adventure drama which responds to our society's fascination with doomsday cults , survivalist sects and their messianic leaders . \\n\",\n",
       " \"told as if reading the pages of a diary , along with a stunning visual style , quiet illustrates that beyond the brink of madness lies one man's sanity . \\n\",\n",
       " 'in stunning color film noir , with munich germany , as the backdrop , this is the amazing story of one man and one woman against the odds . \\n',\n",
       " 'her all-star cast including nina hartley , kylie ireland , brooke hunter and more , peek at their highest performance levels . \\n',\n",
       " 'this is a delightful comedy with countless celebrity cameos by dave foley , jeff goldblum , and jack black just to name a few . \\n',\n",
       " 'the filmmakers expose this delightfully deranged cult by capturing the daily lives of its members . \\n',\n",
       " 'whether it\\'s the fbi swooping in to rescue us in mississippi burning or a fearless teacher storming a \" ghetto \" school to prove our youth can learn as in dangerous minds , we are often offended by such cinematic myths that are more interested in appeasing white liberal sensibilities than raising complex questions about what whites must truly sacrifice if they are sincere about ending racial injustice . \\n',\n",
       " 'and most of the eyewitnesses have rather too conveniently died . \\n',\n",
       " \"rton's deft re-enactments and the actors' dramatic readings of spielrein's own words tell a chilling story , bringing to light both the work of this pioneer and the dark side of psychoanalysis . \\n\",\n",
       " \"it's amazing how one small thing can set off such an interesting chain of events .\\n\",\n",
       " \"living with the fosters is a darkly funny and dangerously subtle comedy about one family's paranoid preparation for the year 2000 crisis and beyond . \\n\",\n",
       " 'rhinoceros eyes \" is a darkly humorous coming-of-age tale about chep ( michael pitt ) a reclusive young man , who gets comfort from the movies and his vivid imagination . \\n',\n",
       " \"'grasp' is a darkly humorous mystery peppered with some truly surreal visuals . \\n\",\n",
       " 'urban ground squirrels is the hilarious tale of love , friendship , and experiences set against the battlefield of a modern college campus . \\n',\n",
       " 'soon jonah embarks on an adventure that leads him into the belly of a whale , and to the heart of nineveh for a hilarious showdown . \\n',\n",
       " 'fans of waiting for guffman , american movie and rushmore have found a new favorite in this hilarious mockumentary . \\n',\n",
       " 'in a revealing and often hilarious portrait , mary dispenses homespun wisdom while divulging family secrets and rivalries . \\n',\n",
       " \"with films like 'mouna ragam' , 'alaipayuthe' and now 'kannathil muthamittal' , maniratnam yet again proves that he is at his best when tackling human emotions and relationships . \\n\",\n",
       " \"but they're also so much more , as you'll find out in deborah dickson's powerful and intimate documentary . \\n\",\n",
       " 'challenges of love , aptitude , and character are presented and won with fun and intensity while our rambunctious housemates grow emotionally , spiritually , and perhaps a bit more tipsy . \\n',\n",
       " 'a very proactive enviromental story about the power of the world , and how it must change . \\n',\n",
       " 'subconscious art : a product of artistic merit that was created without conscious artistic intentions . \\n',\n",
       " \"luckily , this wouldn't be sabina's final contribution to psychoanalysis . \\n\",\n",
       " \"it's charming and independent and everything hollywood is not . \\n\",\n",
       " \"evergon is ultimately a compelling story about the human condition , exploring a young man's search for love , steady employment and self-respect . \\n\",\n",
       " 'this compelling undercover documentary is not for the faint of heart , taking you deep into a world where very often pain and blood are the price of glory . \\n']"
      ]
     },
     "execution_count": 8,
     "metadata": {},
     "output_type": "execute_result"
    }
   ],
   "source": [
    "word_bag = WordBag()\n",
    "if False:  # CV score 0.88\n",
    "    all_lines =  [word_bag.clean_text(sentence, remove_stop_words=False,remove_accents=True)\n",
    "                  for sentence in (subjective_lines + objective_lines)]\n",
    "else:\n",
    "    all_lines =  [word_bag.remove_accents(sentence)\n",
    "              for sentence in (subjective_lines + objective_lines)]\n",
    "print(len(all_lines))\n",
    "all_lines[:50]"
   ]
  },
  {
   "cell_type": "markdown",
   "metadata": {},
   "source": [
    "## Create tf_idf = f(sentence,term)"
   ]
  },
  {
   "cell_type": "code",
   "execution_count": 9,
   "metadata": {
    "scrolled": true
   },
   "outputs": [
    {
     "name": "stdout",
     "output_type": "stream",
     "text": [
      "<class 'numpy.matrix'>\n",
      "20891\n"
     ]
    }
   ],
   "source": [
    "tfidf = TfidfVectorizer() \n",
    "sentence_tfidf = tfidf.fit_transform(all_lines)\n",
    "vocab = tfidf.vocabulary_\n",
    "if False:\n",
    "    tfidf_mat = sentence_tfidf\n",
    "else:\n",
    "    tfidf_mat = sentence_tfidf.todense()\n",
    "print(type(tfidf_mat))\n",
    "print(len(vocab))"
   ]
  },
  {
   "cell_type": "code",
   "execution_count": 10,
   "metadata": {
    "scrolled": true
   },
   "outputs": [],
   "source": [
    "if True:\n",
    "    pickle.dump(tfidf, open('fit_tfidf_vectorizer_for_obj_subj_sentences_classification.pkl', 'wb'))"
   ]
  },
  {
   "cell_type": "code",
   "execution_count": 11,
   "metadata": {
    "scrolled": true
   },
   "outputs": [],
   "source": [
    "#instead of default TFiDF, try:\n",
    "# where \n",
    "if False:\n",
    "    word_bag = WordBag()\n",
    "    def dummy_fun(doc):\n",
    "        return doc\n",
    "\n",
    "    tfidf = TfidfVectorizer(\n",
    "        analyzer='word',       # Feed a list of words to TF-IDF\n",
    "        tokenizer=word_bag.comment_to_bag_of_words,\n",
    "        preprocessor=dummy_fun,\n",
    "        token_pattern=None,\n",
    "        lowercase=False, \n",
    "        stop_words=None, \n",
    "        max_features=MAX_FEATURES,\n",
    "        norm='l2',            # normalize each review\n",
    "        use_idf=True)"
   ]
  },
  {
   "cell_type": "code",
   "execution_count": 12,
   "metadata": {
    "scrolled": true
   },
   "outputs": [
    {
     "data": {
      "text/plain": [
       "['93',\n",
       " '94',\n",
       " '95',\n",
       " '996',\n",
       " '_boogie',\n",
       " 'aaa',\n",
       " 'aaliyah',\n",
       " 'abandon',\n",
       " 'abandone',\n",
       " 'abandoned']"
      ]
     },
     "execution_count": 12,
     "metadata": {},
     "output_type": "execute_result"
    }
   ],
   "source": [
    "sorted(vocab)[258:268]"
   ]
  },
  {
   "cell_type": "code",
   "execution_count": 13,
   "metadata": {
    "scrolled": true
   },
   "outputs": [
    {
     "data": {
      "text/plain": [
       "matrix([[0.        , 0.        , 0.        , 0.        , 0.        ,\n",
       "         0.        , 0.        , 0.        , 0.        , 0.        ,\n",
       "         0.        , 0.        , 0.        , 0.        , 0.        ,\n",
       "         0.        , 0.        , 0.        , 0.        , 0.        ,\n",
       "         0.        , 0.        , 0.        , 0.        , 0.        ,\n",
       "         0.        , 0.        , 0.        , 0.        , 0.        ],\n",
       "        [0.        , 0.        , 0.        , 0.        , 0.        ,\n",
       "         0.        , 0.        , 0.        , 0.        , 0.        ,\n",
       "         0.        , 0.        , 0.        , 0.        , 0.        ,\n",
       "         0.        , 0.        , 0.        , 0.        , 0.        ,\n",
       "         0.        , 0.        , 0.        , 0.        , 0.12003052,\n",
       "         0.        , 0.        , 0.        , 0.        , 0.        ]])"
      ]
     },
     "execution_count": 13,
     "metadata": {},
     "output_type": "execute_result"
    }
   ],
   "source": [
    "tfidf_mat[:2,270:300]"
   ]
  },
  {
   "cell_type": "markdown",
   "metadata": {},
   "source": [
    "## Create Train and CV sets"
   ]
  },
  {
   "cell_type": "code",
   "execution_count": 14,
   "metadata": {
    "scrolled": true
   },
   "outputs": [
    {
     "name": "stdout",
     "output_type": "stream",
     "text": [
      "(10001,)\n"
     ]
    },
    {
     "data": {
      "text/plain": [
       "array([0, 0, 0, 0, 0, 0, 0, 0, 0, 0, 0, 0, 0, 0, 0, 0, 0, 0, 0, 0])"
      ]
     },
     "execution_count": 14,
     "metadata": {},
     "output_type": "execute_result"
    }
   ],
   "source": [
    "labels = np.concatenate((np.zeros((len(subjective_lines),), dtype=int), np.ones((len(objective_lines),), dtype=int)))\n",
    "print(labels.shape)\n",
    "labels[4990:5010]"
   ]
  },
  {
   "cell_type": "code",
   "execution_count": 15,
   "metadata": {
    "scrolled": true
   },
   "outputs": [],
   "source": [
    "from sklearn.model_selection import train_test_split\n",
    "\n",
    "X_train, X_cv, y_train, y_cv = train_test_split(\n",
    "    tfidf_mat, labels, test_size=0.2, random_state=0)"
   ]
  },
  {
   "cell_type": "code",
   "execution_count": 16,
   "metadata": {
    "scrolled": true
   },
   "outputs": [
    {
     "name": "stdout",
     "output_type": "stream",
     "text": [
      "(8000, 20891) (2001, 20891) (8000,) (2001,)\n"
     ]
    }
   ],
   "source": [
    "print(X_train.shape, X_cv.shape, y_train.shape, y_cv.shape)"
   ]
  },
  {
   "cell_type": "markdown",
   "metadata": {},
   "source": [
    "## Gradient Boosting"
   ]
  },
  {
   "cell_type": "code",
   "execution_count": 17,
   "metadata": {
    "scrolled": true
   },
   "outputs": [
    {
     "data": {
      "text/plain": [
       "300"
      ]
     },
     "execution_count": 17,
     "metadata": {},
     "output_type": "execute_result"
    }
   ],
   "source": [
    "# N_TREES = 300\n",
    "# LEARN_RATE = 0.2\n",
    "# MIN_IN_LEAF = 10\n",
    "# CV score: 0.8285\n",
    "\n",
    "# 107 trees\n",
    "# LEARN_RATE = 0.2\n",
    "# MAX_DEPTH = 8\n",
    "# MIN_IN_LEAF = 5 #7\n",
    "# MAX_FEATURES = 'sqrt'\n",
    "# CV score: 0.8415\n",
    "\n",
    "# Gradient Boosting Classifier parameters\n",
    "# N_TREES = int(round(np.sqrt(X_train.shape[0]) * 1.2))\n",
    "# CV score should be 0.8815\n",
    "N_TREES = 300\n",
    "LEARN_RATE = 0.5\n",
    "MAX_DEPTH = 16\n",
    "MIN_IN_LEAF = 5 #7\n",
    "MAX_FEATURES = 'sqrt'\n",
    "N_TREES"
   ]
  },
  {
   "cell_type": "code",
   "execution_count": 18,
   "metadata": {
    "scrolled": true
   },
   "outputs": [
    {
     "name": "stdout",
     "output_type": "stream",
     "text": [
      "0\n",
      "[[0. 0. 0. ... 0. 0. 0.]]\n"
     ]
    }
   ],
   "source": [
    "print(y_train[0])\n",
    "print(X_train[0])\n"
   ]
  },
  {
   "cell_type": "code",
   "execution_count": 19,
   "metadata": {
    "scrolled": true
   },
   "outputs": [
    {
     "name": "stdout",
     "output_type": "stream",
     "text": [
      "Train score: 0.96125\n",
      "CV score: 0.8915542228885557\n"
     ]
    }
   ],
   "source": [
    "from sklearn.ensemble import GradientBoostingClassifier\n",
    "\n",
    "# loss: deviance: logistic log likelihood\n",
    "gbc = GradientBoostingClassifier(learning_rate=LEARN_RATE, \n",
    "                                   n_estimators=N_TREES, \n",
    "                                   min_samples_leaf=MIN_IN_LEAF,\n",
    "                                   max_features=MAX_FEATURES)\n",
    "gbc.fit(X_train, y_train)\n",
    "print('Train score:', gbc.score(X_train, y_train))\n",
    "print('CV score:', gbc.score(X_cv, y_cv))"
   ]
  },
  {
   "cell_type": "code",
   "execution_count": 20,
   "metadata": {
    "scrolled": true
   },
   "outputs": [],
   "source": [
    "# save the model\n",
    "import pickle\n",
    "pickle.dump(gbc, open('GBC_'+ str(N_TREES) +'_' + str(LEARN_RATE) \n",
    "                        +'_' + str(MIN_IN_LEAF) + '_0.88cv.pkl', 'wb'))\n"
   ]
  },
  {
   "cell_type": "markdown",
   "metadata": {},
   "source": [
    "# Inspect proba"
   ]
  },
  {
   "cell_type": "code",
   "execution_count": 21,
   "metadata": {},
   "outputs": [],
   "source": [
    "label_pred = gbc.predict_proba(tfidf_mat)"
   ]
  },
  {
   "cell_type": "code",
   "execution_count": 22,
   "metadata": {},
   "outputs": [
    {
     "name": "stdout",
     "output_type": "stream",
     "text": [
      "[0.10212008 0.4388384  0.03391372 0.01147602 0.79546388 0.2059679\n",
      " 0.4995056  0.0346163  0.3126044  0.0477799 ]\n",
      "[0 0 0 0 0 0 0 0 0 0]\n"
     ]
    }
   ],
   "source": [
    "print(label_pred[:10,1])\n",
    "print(labels[:10])"
   ]
  },
  {
   "cell_type": "code",
   "execution_count": 23,
   "metadata": {},
   "outputs": [
    {
     "name": "stdout",
     "output_type": "stream",
     "text": [
      "[0.9925437  0.96968996 0.78705443 0.93438355 0.64749501 0.92533485\n",
      " 0.7191669  0.97464956 0.82065296 0.85021804]\n",
      "[1 1 1 1 1 1 1 1 1 1]\n"
     ]
    }
   ],
   "source": [
    "print(label_pred[-10:,1])\n",
    "print(labels[-10:])"
   ]
  },
  {
   "cell_type": "code",
   "execution_count": 24,
   "metadata": {
    "scrolled": true
   },
   "outputs": [
    {
     "data": {
      "text/plain": [
       "Text(0.5, 1.0, 'ROC plot')"
      ]
     },
     "execution_count": 24,
     "metadata": {},
     "output_type": "execute_result"
    },
    {
     "data": {
      "image/png": "[encoded data removed]",
      "text/plain": [
       "<Figure size 432x288 with 1 Axes>"
      ]
     },
     "metadata": {
      "needs_background": "light"
     },
     "output_type": "display_data"
    }
   ],
   "source": [
    "fpr, tpr, thresholds = roc_curve(labels, label_pred[:,1])\n",
    "plt.plot(fpr, tpr)\n",
    "plt.xlabel(\"False Positive Rate (1 - Specificity)\")\n",
    "plt.ylabel(\"True Positive Rate (Sensitivity, Recall)\")\n",
    "plt.title(\"ROC plot\")"
   ]
  },
  {
   "cell_type": "markdown",
   "metadata": {},
   "source": [
    "## False Positives at 80% confidence: predicted objective, actual subjective"
   ]
  },
  {
   "cell_type": "code",
   "execution_count": 27,
   "metadata": {},
   "outputs": [],
   "source": [
    "THRESHOLD = 0.8\n",
    "all_lines_arr = np.array(all_lines)"
   ]
  },
  {
   "cell_type": "code",
   "execution_count": 38,
   "metadata": {
    "scrolled": true
   },
   "outputs": [
    {
     "data": {
      "text/markdown": [
       "### 25 sentences falsely predicted objective with 80.0% confidence:"
      ],
      "text/plain": [
       "<IPython.core.display.Markdown object>"
      ]
     },
     "metadata": {},
     "output_type": "display_data"
    },
    {
     "name": "stdout",
     "output_type": "stream",
     "text": [
      "0 no doubt the star and everyone else involved had their hearts in the right place . where their heads were is anyone's guess . \n",
      "\n",
      "1 an average coming-of-age tale elevated by the wholesome twist of a pesky mother interfering during her son's discovery of his homosexuality . \n",
      "\n",
      "2 by the time the surprise ending is revealed , interest cannot be revived . \n",
      "\n",
      "3 once she lets her love depraved leads meet , [denis'] story becomes a hopeless , unsatisfying muddle\n",
      "\n",
      "4 for the future , one hopes mr . plympton will find room for one more member of his little band , a professional screenwriter . \n",
      "\n",
      "5 in scope , ambition and accomplishment , children of the century . . . takes kurys' career to a whole new level . \n",
      "\n",
      "6 the only camouflage carvey should now be considering is a paper bag to wear over his head when he goes out into public , to avoid being recognized as the man who bilked unsuspecting moviegoers . \n",
      "\n",
      "7 a tender and touching drama , based on the true story of a troubled african-american's quest to come to terms with his origins , reveals the yearning we all have in our hearts for acceptance within the family circle . \n",
      "\n",
      "8 the journey to the secret's eventual discovery is a separate adventure , and thrill enough . \n",
      "\n",
      "9 so we got ten little indians meets friday the 13th by way of clean and sober , filmed on the set of carpenter's the thing and loaded with actors you're most likely to find on the next inevitable incarnation of the love boat . \n",
      "\n",
      "10 welles groupie/scholar peter bogdanovich took a long time to do it , but he's finally provided his own broadside at publishing giant william randolph hearst . \n",
      "\n",
      "11 [hayek] doesn't just act frida , she inhabits her . \n",
      "\n",
      "12 pacino is the best he's been in years and keener is marvelous . \n",
      "\n",
      "13 fessenden has nurtured his metaphors at the expense of his narrative , but he does display an original talent . \n",
      "\n",
      "14 cassavetes thinks he's making dog day afternoon with a cause , but all he's done is to reduce everything he touches to a shrill , didactic cartoon . \n",
      "\n",
      "15 dong doesn't demonize the conservative christians he talks to , but he doesn't have to . . . \n",
      "\n",
      "16 often moving and explores the discomfort inherent in the contacts between the american 'hosts' and their 'guests . '\n",
      "\n",
      "17 talk to her manages to be female-centric even as it explores the lives of men . \n",
      "\n",
      "18 trademark american triteness and simplicity are tossed out the window with the intelligent french drama that deftly explores the difficult relationship between a father and son . \n",
      "\n",
      "19 about nowhere kids who appropriated turfs as they found them and become self-made celebrity athletes -- a low-down version of the american dream . \n",
      "\n",
      "20 alarms for duvall's throbbing sincerity and his elderly propensity for patting people while he talks . \n",
      "\n",
      "21 johnson has , in his first film , set himself a task he is not nearly up to . \n",
      "\n",
      "22 those 24-and-unders looking for their own caddyshack to adopt as a generational signpost may have to keep on looking . \n",
      "\n",
      "23 matches neorealism's impact by showing the humanity of a war-torn land filled with people who just want to live their lives . \n",
      "\n",
      "24 if kaufman kept cameron diaz a prisoner in a cage with her ape , in his latest , he'd have them mate . \n",
      "\n"
     ]
    }
   ],
   "source": [
    "TP = all_lines_arr[(label_pred[:,1] > THRESHOLD) & (labels == 1)]\n",
    "FP = all_lines_arr[(label_pred[:,1] > THRESHOLD) & (labels == 0)]\n",
    "TP_nb = len(TP)\n",
    "FP_nb = len(FP)\n",
    "predicted_P = FP_nb + TP_nb\n",
    "\n",
    "display(Markdown('### {} sentences falsely predicted objective with {}% confidence:'.format(FP_nb, THRESHOLD * 100)))\n",
    "for i, sent in enumerate(FP):\n",
    "    print(i, sent)"
   ]
  },
  {
   "cell_type": "markdown",
   "metadata": {},
   "source": [
    "## Some false negatives at 80% confidence: Predicted subjective, actually objective"
   ]
  },
  {
   "cell_type": "code",
   "execution_count": 42,
   "metadata": {},
   "outputs": [
    {
     "data": {
      "text/markdown": [
       "### 39 sentences falsely predicted objective with 80.0% confidence:"
      ],
      "text/plain": [
       "<IPython.core.display.Markdown object>"
      ]
     },
     "metadata": {},
     "output_type": "display_data"
    },
    {
     "name": "stdout",
     "output_type": "stream",
     "text": [
      "0 decent-but-dull dek loves shirley , so much so that he humiliates her by proposing without warning on national television .\n",
      "1 as in his previous films , this kurdish director is again focusing on the oppression of his people .\n",
      "2 this startling film provides a gritty look into american politics in the new south .\n",
      "3 the movie features veteran horror heroines leslie culton and jenny wallace , and actors john saenz and jonathan tabor .\n",
      "4 they are under the impression that models have more beauty than brains and are not capable of much more than looking good .\n",
      "5 in this cinematic concert , mesmerizing images are plucked from everyday reality , then visually altered with state-of-the-art digital techniques .\n",
      "6 set in hollywood , \" coming clean \" is a 12 character ensemble romantic comedy about an engagement party gone wrong .\n",
      "7 serious and conservative , jamie ( moore ) was as far from cool as she could possibly be , and didn't care .\n",
      "8 the fact that the filmmakers family is integral to this slice of life takes us that much closer to it all .\n",
      "9 'while you were waiting' explores the complex relationship between cigarette addiction and its effects on family members .\n",
      "10 together with john connor , it must stop the rise of the machines or all humanity will fall .\n",
      "11 it is 1492 , and spain has decreed that all jews must either convert to catholicism , go into exile or face trial and execution .\n",
      "12 is life a series of uncontrollable events that are laid out for us or is it truly what we make of it ?\n",
      "13 it never hurts to have the aid of a mind-reading squirrel - too bad adam doesn't know any !\n",
      "14 with a cast of non-actors , drawn from the very world which the film portrays , 'shooters' is not just another british genre gangster film - it's a film about real british gangsters .\n",
      "15 an observation and reflection on contemporary life in the uk from a director with unique eclectic vision , a poetical attempt at defining what it is to live in this country .\n",
      "16 have you ever met that certain someone that made your heart drop the moment you met ?\n",
      "17 black picket fence is director's sergio goes' poignant portrait of the bleak realities of life in the public housing projects of brooklyn's east new york , one of the inner city's most dangerous and violent neighborhoods .\n",
      "18 it's steps , a film that draws its inspiration from the marx brother to monty python and it was done on such a shoe-string budget , it would make a studio executive blush .\n",
      "19 is this challenge too much for even the amazing spider-man to handle ?\n",
      "20 this may be the last chance that these stories may be documented , for unlike film and television , live theatre exists only in the memories of those who were there watching , or more importantly , creating this magic .\n",
      "21 woody allen plays val waxman , a film director , who was once big in the 1970's and 1980's , but has now has been reduced to directing tv commercials .\n",
      "22 tom twyker ( director of 'run lola run' ) helms this kieslowski tale about love , retribution and redemption .\n",
      "23 this movie praise the right to be different and unique .\n",
      "24 mnemosyne bears witness to the forces of destruction as well as of creation , revealing through art , the multi-dimensionality of women .\n",
      "25 the film , staged among some of the western art tradition's greatest masterpieces , climaxes in a pageant of color , motion , and music .\n",
      "26 it is no coincidence that funding for \" anti-graffiti \" campaigns often outweighs funding for the arts .\n",
      "27 dildo diaries takes a lighthearted but 'probing' approach to exploring the development of sections of the texas penal code and its effects on the adult sex toy industry .\n",
      "28 sometimes being honest and truthful is all you need . . . sometimes .\n",
      "29 it all leads to more tragedy and the movie jumps to 12 years later .\n",
      "30 in this action comedy feature film , 'superbob' utilizes his highflying karate mastery and investigative techniques to tackle the ruthless big yard .\n",
      "31 it's been 10 years since the events of the second film .\n",
      "32 but coney island's finest its hot dog lady , rollercoaster operator , cotton candy vendor and performing freak have their own way of doing things .\n",
      "33 what if your most controversial act turned out to be the most traditional thing in the world ?\n",
      "34 at sciltre , nothing that is served up is what it seems and sometimes what you get isn't what you really want .\n",
      "35 are the experiences of the main character profound , or simply routine ?\n",
      "36 as this sacrifice draws to its close , our story begins .\n",
      "37 in \" the hill \" , director kurt burk brings us on a voyage through dreams of a lost childhood , to the emptiness of a normal , conditioned life , into a fantastic , surreal dream world that echoes of the past .\n",
      "38 shot in the spectacular sierra nevada mountains , \" the last place on earth \" is a funny , moving film about food , passion , love and a one eared dog .\n"
     ]
    }
   ],
   "source": [
    "TN = all_lines_arr[(label_pred[:,0] > THRESHOLD) & (labels == 0)]\n",
    "FN = all_lines_arr[(label_pred[:,0] > THRESHOLD) & (labels == 1)]\n",
    "TN_nb = len(TN)\n",
    "FN_nb = len(FN)\n",
    "\n",
    "display(Markdown('### {} sentences falsely predicted objective with {}% confidence:'.format(FN_nb, THRESHOLD * 100)))\n",
    "print('Several sentences are incorrectly labeled and would need to be re-classified')\n",
    "for i, sent in enumerate(FN):\n",
    "    print(i, sent)"
   ]
  },
  {
   "cell_type": "markdown",
   "metadata": {},
   "source": [
    "# Grid search"
   ]
  },
  {
   "cell_type": "code",
   "execution_count": null,
   "metadata": {
    "scrolled": true
   },
   "outputs": [],
   "source": [
    "if True:\n",
    "    grid = {\n",
    "        'learning_rate': [.01, .05],\n",
    "        'max_depth': [8, 16],\n",
    "        'min_samples_leaf': [5],\n",
    "        'max_features': ['sqrt'],\n",
    "        'n_estimators': [300],\n",
    "        'random_state': [0],\n",
    "    }\n",
    "else:  # TEST\n",
    "    grid = {\n",
    "    'learning_rate': [1],\n",
    "    'max_depth': [2], \n",
    "    'min_samples_leaf': [2],\n",
    "#     'max_features': ['sqrt', None],\n",
    "    'n_estimators': [2],\n",
    "    'random_state': [0]\n",
    "}\n",
    "    \n",
    "# confusion_score = make_scorer(confusion_rmse, greater_is_better=False)\n",
    "\n",
    "scorer = make_scorer(recall_score)\n",
    "gbc_grid_cv = GridSearchCV(\n",
    "    GradientBoostingClassifier(), \n",
    "    grid,\n",
    "    cv=4,  # number of folds\n",
    "    return_train_score=True,\n",
    "    scoring=scorer,\n",
    "    verbose=1, \n",
    "    n_jobs=-1)\n",
    "gbc_grid_cv.fit(X_train, y_train)"
   ]
  },
  {
   "cell_type": "code",
   "execution_count": null,
   "metadata": {
    "scrolled": true
   },
   "outputs": [],
   "source": [
    "y_pred = gbc_grid_cv.predict(X_cv)\n",
    "\n",
    "print(gbc_grid_cv.best_params_)\n",
    "print(gbc_grid_cv.best_score_)\n",
    "res_df = pd.DataFrame(gbc_grid_cv.cv_results_)\n",
    "print('Used recall for scoring')\n",
    "res_df"
   ]
  }
 ],
 "metadata": {
  "kernelspec": {
   "display_name": "Python 3",
   "language": "python",
   "name": "python3"
  },
  "language_info": {
   "codemirror_mode": {
    "name": "ipython",
    "version": 3
   },
   "file_extension": ".py",
   "mimetype": "text/x-python",
   "name": "python",
   "nbconvert_exporter": "python",
   "pygments_lexer": "ipython3",
   "version": "3.7.3"
  }
 },
 "nbformat": 4,
 "nbformat_minor": 2
}
