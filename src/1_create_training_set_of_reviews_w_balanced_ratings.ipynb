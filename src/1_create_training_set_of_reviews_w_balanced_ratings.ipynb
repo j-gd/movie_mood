{
 "cells": [
  {
   "cell_type": "code",
   "execution_count": 1,
   "metadata": {},
   "outputs": [],
   "source": [
    "import numpy as np\n",
    "import pandas as pd\n",
    "import pickle\n",
    "import gzip\n",
    "import math\n",
    "import random\n",
    "from sklearn.model_selection import train_test_split\n",
    "\n",
    "data_path = '../../datasets/'"
   ]
  },
  {
   "cell_type": "code",
   "execution_count": 2,
   "metadata": {},
   "outputs": [],
   "source": [
    "pickle_in = open(data_path + \"amzn_2M_skip2M.pkl\",\"rb\")\n",
    "comments_df = pickle.load(pickle_in)"
   ]
  },
  {
   "cell_type": "markdown",
   "metadata": {},
   "source": [
    "# Configuration"
   ]
  },
  {
   "cell_type": "code",
   "execution_count": 3,
   "metadata": {},
   "outputs": [],
   "source": [
    "NB_EACH_CLASS = 50000 # Number of Training + Test samples of each class\n",
    "TEST_RATIO = 0.2 # Test set\n",
    "POS_NEG = True  # Merge 1-2 stars into NEG, 4-5 stars into POS, drop 3\n",
    "MIN_NB_SENTENCES = 5"
   ]
  },
  {
   "cell_type": "markdown",
   "metadata": {},
   "source": [
    "## Check that balanced classes can be reached for the requested configuration"
   ]
  },
  {
   "cell_type": "code",
   "execution_count": 4,
   "metadata": {},
   "outputs": [],
   "source": [
    "%load_ext autoreload\n",
    "%autoreload 2"
   ]
  },
  {
   "cell_type": "code",
   "execution_count": null,
   "metadata": {},
   "outputs": [
    {
     "name": "stderr",
     "output_type": "stream",
     "text": [
      "/anaconda3/lib/python3.7/site-packages/ipykernel_launcher.py:9: SettingWithCopyWarning: \n",
      "A value is trying to be set on a copy of a slice from a DataFrame.\n",
      "Try using .loc[row_indexer,col_indexer] = value instead\n",
      "\n",
      "See the caveats in the documentation: http://pandas.pydata.org/pandas-docs/stable/indexing.html#indexing-view-versus-copy\n",
      "  if __name__ == '__main__':\n"
     ]
    }
   ],
   "source": [
    "# takes less than 15 minutes\n",
    "%reload_ext autoreload\n",
    "from utils import nb_sentences, not_about_support\n",
    "\n",
    "minimum = NB_EACH_CLASS + 10\n",
    "all = {}\n",
    "for i in range(1,6):\n",
    "    all[i] = comments_df[comments_df['overall'] == i]\n",
    "    all[i]['nb_sentences'] = nb_sentences(all[i]['reviewText'])\n",
    "    all[i] = all[i][all[i]['nb_sentences'] >= MIN_NB_SENTENCES]\n",
    "    all[i] = all[i][not_about_support(all[i]['reviewText'])]\n",
    "    \n",
    "    minimum = min(all[i].shape[0], minimum)\n",
    "if minimum < NB_EACH_CLASS:\n",
    "    print('Maximum for balanced classes is ', minimum)\n",
    "else:\n",
    "    print('No problem!')"
   ]
  },
  {
   "cell_type": "code",
   "execution_count": null,
   "metadata": {},
   "outputs": [],
   "source": [
    "from IPython.display import display\n",
    "pd.set_option('display.max_colwidth', -1)\n",
    "\n",
    "for i in range(1,6):\n",
    "    display(all[i].head(5))"
   ]
  },
  {
   "cell_type": "markdown",
   "metadata": {},
   "source": [
    "## Create train and test sets at random, from most recent reviews"
   ]
  },
  {
   "cell_type": "code",
   "execution_count": null,
   "metadata": {},
   "outputs": [],
   "source": [
    "train_test = {'train': {}, 'test':{}}\n",
    "random.seed(0) # for reproducibility\n",
    "train_idx_filter = np.ones((NB_EACH_CLASS,), dtype=bool)\n",
    "\n",
    "for i in random.sample(range(NB_EACH_CLASS), \n",
    "                                math.floor(NB_EACH_CLASS * TEST_RATIO)):\n",
    "    train_idx_filter[i] = False\n",
    "\n",
    "for i in range(1,6):\n",
    "    #                          use the most recent movies\n",
    "    train_test['train'][i] = all[i][-NB_EACH_CLASS:][train_idx_filter]\n",
    "    train_test['test'][i] = all[i][-NB_EACH_CLASS:][~train_idx_filter]\n",
    "    "
   ]
  },
  {
   "cell_type": "code",
   "execution_count": null,
   "metadata": {},
   "outputs": [],
   "source": [
    "\n",
    "if POS_NEG:\n",
    "    train_test_pos_neg = {'train':{}, 'test':{}}\n",
    "    train_test_pos_neg['train']['positive'] = pd.concat([\n",
    "        train_test['train'][4],\n",
    "        train_test['train'][5]\n",
    "    ])\n",
    "    train_test_pos_neg['train']['negative'] = pd.concat([\n",
    "        train_test['train'][1],\n",
    "        train_test['train'][2],\n",
    "    ])\n",
    "    train_test_pos_neg['test']['positive'] = pd.concat([\n",
    "        train_test['test'][4],\n",
    "        train_test['test'][5],\n",
    "    ])    \n",
    "    train_test_pos_neg['test']['negative'] = pd.concat([\n",
    "        train_test['test'][1],\n",
    "        train_test['test'][2]\n",
    "    ]) \n",
    "else:\n",
    "    train_test_merged_classes = {}\n",
    "    train_test_merged_classes['train'] = pd.concat([\n",
    "        train_test['train'][1],\n",
    "        train_test['train'][2],\n",
    "        train_test['train'][3],\n",
    "        train_test['train'][4],\n",
    "        train_test['train'][5]\n",
    "    ])\n",
    "    train_test_merged_classes['test'] = pd.concat([\n",
    "        train_test['test'][1],\n",
    "        train_test['test'][2],\n",
    "        train_test['test'][3],\n",
    "        train_test['test'][4],\n",
    "        train_test['test'][5]\n",
    "    ])"
   ]
  },
  {
   "cell_type": "markdown",
   "metadata": {},
   "source": [
    "## Result check"
   ]
  },
  {
   "cell_type": "code",
   "execution_count": null,
   "metadata": {},
   "outputs": [],
   "source": [
    "pb = False\n",
    "if POS_NEG:\n",
    "    if (train_test_pos_neg['train']['positive'].shape[0] \n",
    "                        != NB_EACH_CLASS * 2 * (1-TEST_RATIO)):\n",
    "        pb = True\n",
    "        \n",
    "else:\n",
    "    if ((train_test_merged_classes['train'].shape[0] \n",
    "        + train_test_merged_classes['test'].shape[0] == NB_EACH_CLASS * 5) & \n",
    "        (train_test_merged_classes['train'].shape[0] / (1-TEST_RATIO) == NB_EACH_CLASS * 5)):\n",
    "        pb = True\n",
    "if pb:\n",
    "    print('@@@ There was a problem during creation @@@')\n",
    "else:\n",
    "    print('No problems found')"
   ]
  },
  {
   "cell_type": "code",
   "execution_count": null,
   "metadata": {},
   "outputs": [],
   "source": [
    "import matplotlib.pyplot as plt\n",
    "%matplotlib inline\n",
    "fig, axs = plt.subplots(2,2,figsize=(12,7))\n",
    "for i, tt in enumerate(['train', 'test']):\n",
    "    for j, pn in enumerate(['positive', 'negative']):\n",
    "        axs[i][j].hist(train_test_pos_neg[tt][pn]['nb_sentences'],bins=100, range=(4,30));"
   ]
  },
  {
   "cell_type": "markdown",
   "metadata": {},
   "source": [
    "## Save the balanced training set"
   ]
  },
  {
   "cell_type": "code",
   "execution_count": null,
   "metadata": {},
   "outputs": [],
   "source": [
    "if POS_NEG:\n",
    "    samples_nb = str(NB_EACH_CLASS * 4)\n",
    "    pickle_out = open(data_path + samples_nb + \"_balanced_pos_neg_train_test_reviews.pkl\",\"wb\")\n",
    "    pickle.dump(train_test_pos_neg, pickle_out)    \n",
    "else:\n",
    "    samples_nb = str(NB_EACH_CLASS * 5)\n",
    "    pickle_out = open(data_path + samples_nb + \"_balanced_train_test_reviews.pkl\",\"wb\")\n",
    "    pickle.dump(train_test_merged_classes, pickle_out)\n",
    "\n",
    "pickle_out.close()"
   ]
  },
  {
   "cell_type": "code",
   "execution_count": null,
   "metadata": {},
   "outputs": [],
   "source": [
    "train_test_pos_neg['train']['positive'].head(2)"
   ]
  },
  {
   "cell_type": "code",
   "execution_count": null,
   "metadata": {},
   "outputs": [],
   "source": []
  }
 ],
 "metadata": {
  "kernelspec": {
   "display_name": "Python 3",
   "language": "python",
   "name": "python3"
  },
  "language_info": {
   "codemirror_mode": {
    "name": "ipython",
    "version": 3
   },
   "file_extension": ".py",
   "mimetype": "text/x-python",
   "name": "python",
   "nbconvert_exporter": "python",
   "pygments_lexer": "ipython3",
   "version": "3.7.3"
  }
 },
 "nbformat": 4,
 "nbformat_minor": 2
}
