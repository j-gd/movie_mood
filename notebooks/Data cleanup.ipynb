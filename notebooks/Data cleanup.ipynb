{
 "cells": [
  {
   "cell_type": "markdown",
   "metadata": {},
   "source": [
    "## Amazon movie reviews data cleanup\n",
    "Using spark for pre-processing"
   ]
  },
  {
   "cell_type": "code",
   "execution_count": 1,
   "metadata": {},
   "outputs": [],
   "source": [
    "import pyspark as ps    # for the pyspark suite\n",
    "spark = (ps.sql.SparkSession\n",
    "         .builder\n",
    "         .master('local[4]')\n",
    "         .appName('moviemood')\n",
    "         .getOrCreate()\n",
    "        )"
   ]
  },
  {
   "cell_type": "code",
   "execution_count": 2,
   "metadata": {},
   "outputs": [],
   "source": [
    "data_path = '../../datasets/'\n",
    "file_name = 'reviews_Movies_and_TV.json.gz'"
   ]
  },
  {
   "cell_type": "code",
   "execution_count": 3,
   "metadata": {},
   "outputs": [],
   "source": [
    "amazon_reviews_df = spark.read.json(data_path + file_name)"
   ]
  },
  {
   "cell_type": "code",
   "execution_count": 4,
   "metadata": {},
   "outputs": [
    {
     "name": "stdout",
     "output_type": "stream",
     "text": [
      "root\n",
      " |-- asin: string (nullable = true)\n",
      " |-- helpful: array (nullable = true)\n",
      " |    |-- element: long (containsNull = true)\n",
      " |-- overall: double (nullable = true)\n",
      " |-- reviewText: string (nullable = true)\n",
      " |-- reviewTime: string (nullable = true)\n",
      " |-- reviewerID: string (nullable = true)\n",
      " |-- reviewerName: string (nullable = true)\n",
      " |-- summary: string (nullable = true)\n",
      " |-- unixReviewTime: long (nullable = true)\n",
      "\n"
     ]
    }
   ],
   "source": [
    "amazon_reviews_df.cache()\n",
    "amazon_reviews_df.printSchema()"
   ]
  },
  {
   "cell_type": "code",
   "execution_count": 5,
   "metadata": {},
   "outputs": [],
   "source": [
    "total_comment_count = amazon_reviews_df.count()"
   ]
  },
  {
   "cell_type": "code",
   "execution_count": 6,
   "metadata": {},
   "outputs": [
    {
     "data": {
      "text/plain": [
       "4607047"
      ]
     },
     "execution_count": 6,
     "metadata": {},
     "output_type": "execute_result"
    }
   ],
   "source": [
    "total_comment_count"
   ]
  },
  {
   "cell_type": "markdown",
   "metadata": {},
   "source": [
    "## Data sampling for development"
   ]
  },
  {
   "cell_type": "code",
   "execution_count": 200,
   "metadata": {},
   "outputs": [],
   "source": [
    "dev_sample_fraction = 0.00001"
   ]
  },
  {
   "cell_type": "code",
   "execution_count": 201,
   "metadata": {},
   "outputs": [],
   "source": [
    "reviews_spark_df = amazon_reviews_df.sample(withReplacement=False, fraction=dev_sample_fraction)"
   ]
  },
  {
   "cell_type": "code",
   "execution_count": 202,
   "metadata": {},
   "outputs": [
    {
     "name": "stderr",
     "output_type": "stream",
     "text": [
      "/anaconda3/lib/python3.7/socket.py:660: ResourceWarning: unclosed <socket.socket fd=76, family=AddressFamily.AF_INET, type=SocketKind.SOCK_STREAM, proto=6, laddr=('127.0.0.1', 61494), raddr=('127.0.0.1', 61493)>\n",
      "  self._sock = None\n"
     ]
    }
   ],
   "source": [
    "reviews_df = reviews_spark_df.toPandas()"
   ]
  },
  {
   "cell_type": "code",
   "execution_count": 203,
   "metadata": {},
   "outputs": [
    {
     "name": "stdout",
     "output_type": "stream",
     "text": [
      "<class 'pandas.core.frame.DataFrame'>\n",
      "RangeIndex: 49 entries, 0 to 48\n",
      "Data columns (total 9 columns):\n",
      "asin              49 non-null object\n",
      "helpful           49 non-null object\n",
      "overall           49 non-null float64\n",
      "reviewText        49 non-null object\n",
      "reviewTime        49 non-null object\n",
      "reviewerID        49 non-null object\n",
      "reviewerName      48 non-null object\n",
      "summary           49 non-null object\n",
      "unixReviewTime    49 non-null int64\n",
      "dtypes: float64(1), int64(1), object(7)\n",
      "memory usage: 3.5+ KB\n"
     ]
    }
   ],
   "source": [
    "reviews_df.info()"
   ]
  },
  {
   "cell_type": "code",
   "execution_count": 204,
   "metadata": {},
   "outputs": [
    {
     "data": {
      "text/html": [
       "<div>\n",
       "<style scoped>\n",
       "    .dataframe tbody tr th:only-of-type {\n",
       "        vertical-align: middle;\n",
       "    }\n",
       "\n",
       "    .dataframe tbody tr th {\n",
       "        vertical-align: top;\n",
       "    }\n",
       "\n",
       "    .dataframe thead th {\n",
       "        text-align: right;\n",
       "    }\n",
       "</style>\n",
       "<table border=\"1\" class=\"dataframe\">\n",
       "  <thead>\n",
       "    <tr style=\"text-align: right;\">\n",
       "      <th></th>\n",
       "      <th>asin</th>\n",
       "      <th>helpful</th>\n",
       "      <th>overall</th>\n",
       "      <th>reviewText</th>\n",
       "      <th>reviewTime</th>\n",
       "      <th>reviewerID</th>\n",
       "      <th>reviewerName</th>\n",
       "      <th>summary</th>\n",
       "      <th>unixReviewTime</th>\n",
       "    </tr>\n",
       "  </thead>\n",
       "  <tbody>\n",
       "    <tr>\n",
       "      <th>0</th>\n",
       "      <td>0780628551</td>\n",
       "      <td>[0, 1]</td>\n",
       "      <td>4.0</td>\n",
       "      <td>Most viewers said this film was bad, but to me it was pretty good. I don't usually get sci-fic movies but I actually get this one. If you like horror, love, and space movies check this movie out. This movie is about a perfect  all-American couple. Spencer Armocost (Depp)has died in space, then a life  force take his body and his memory. NASA lost contact for two minutes and  in space with the another astronaut contact them back. His goal to make his  wife(Theron) pregant and he need his own kind to make a space ship from  their design.  ~~~~~I ACTUALLY GIVE IT 4.5 STARS!~~~~~</td>\n",
       "      <td>03 14, 2000</td>\n",
       "      <td>A2FDCJXVKQ39OM</td>\n",
       "      <td>Amy Liu</td>\n",
       "      <td>The best Sci-fic movie I've ever seen!</td>\n",
       "      <td>952992000</td>\n",
       "    </tr>\n",
       "    <tr>\n",
       "      <th>1</th>\n",
       "      <td>0792833171</td>\n",
       "      <td>[0, 0]</td>\n",
       "      <td>5.0</td>\n",
       "      <td>What can I say that possibly hasn't been said about this movie over the years? It is brilliant and should be required watching. The digital download was flawless and worked perfectly.</td>\n",
       "      <td>01 2, 2013</td>\n",
       "      <td>A1MCY9RWSGNNZ9</td>\n",
       "      <td>Anthony Sacco</td>\n",
       "      <td>A classic.</td>\n",
       "      <td>1357084800</td>\n",
       "    </tr>\n",
       "    <tr>\n",
       "      <th>2</th>\n",
       "      <td>1573622990</td>\n",
       "      <td>[0, 0]</td>\n",
       "      <td>5.0</td>\n",
       "      <td>this is a must, the last statement at the end, a few sentences changed, changes and reminds me of my life andall things large and small and happy and sad to be thankful for...a must see!</td>\n",
       "      <td>08 2, 2013</td>\n",
       "      <td>A1NMPROID1MEEV</td>\n",
       "      <td>Patricia A. Hayes</td>\n",
       "      <td>important love story</td>\n",
       "      <td>1375401600</td>\n",
       "    </tr>\n",
       "    <tr>\n",
       "      <th>3</th>\n",
       "      <td>6301661729</td>\n",
       "      <td>[1, 1]</td>\n",
       "      <td>5.0</td>\n",
       "      <td>Perhaps the single greatest tribute to this film is that Tim Burton paid homage to it with a remake that was good but failed to capture the impact of the original.  It is hard to identify exactly why this film seized the imagination of several generations especially since in many ways &amp;quot;Planet of the Apes&amp;quot; was a commentary on the sixties.  I saw it and learned, as I drove away from the theater, that Rev. Martin Luther King, Jr. had just been shot.  The poignant coincidence of events will never be forgotten.  This is one of the great science fiction films with a remarkable script by the dean of fantasy writers Rod Serling.  It is well acted, even behind the make-up.  It has one of Jerry Goldsmith's best and most original scores.  And it still holds up quite well, largely because it was not driven by special effects.  The new edition does not offer much beyond the widescreen version of the DVD, but the extras are terrific and make this a worthy purchase. Charlton Heston gave one of his best perfomances and will always be remembered for two scenes...when he regains his ability to speak (you know the line), and of course the end scene that still works and may well prove to be a testament to humankind in the modern age.</td>\n",
       "      <td>02 17, 2004</td>\n",
       "      <td>A2VOIE123XM7T5</td>\n",
       "      <td>G M. Stathis</td>\n",
       "      <td>This Edition Goes Ape</td>\n",
       "      <td>1076976000</td>\n",
       "    </tr>\n",
       "    <tr>\n",
       "      <th>4</th>\n",
       "      <td>6301773551</td>\n",
       "      <td>[15, 24]</td>\n",
       "      <td>1.0</td>\n",
       "      <td>I could write so much on this subject... I'll just stick with the review of this new DVD.YOU DON'T RELEASE A MOVIE IN 4:3 LETTERBOX IN THIS DAY AND AGE!  George Lucas was the one pushing for all-digital theatres and all that. And now he disrespects the work of all the people that helped him make Star Wars a success in the first place back in 1977.I bought a DVD player originally so that I would own the original Star Wars on DVD. I got an HDTV compatible widescreen TV to see it in at least standard 16x9 anamorphic resolution. (like 94 % of big movie DVD`s out there..)Now I realise.. After all those years of waiting, George Lucas is sooooo thick... He just WON'T give fans what THEY really want... All those people who made him rich.Go to hell, George Lucas. You have lost my admiration for good.</td>\n",
       "      <td>09 25, 2006</td>\n",
       "      <td>A2QGFZCM6RIX7P</td>\n",
       "      <td>Felix A. Mackay \"Felix\"</td>\n",
       "      <td>How George Lucas killed Star Wars</td>\n",
       "      <td>1159142400</td>\n",
       "    </tr>\n",
       "  </tbody>\n",
       "</table>\n",
       "</div>"
      ],
      "text/plain": [
       "         asin   helpful  overall  \\\n",
       "0  0780628551  [0, 1]    4.0       \n",
       "1  0792833171  [0, 0]    5.0       \n",
       "2  1573622990  [0, 0]    5.0       \n",
       "3  6301661729  [1, 1]    5.0       \n",
       "4  6301773551  [15, 24]  1.0       \n",
       "\n",
       "                                                                                                                                                                                                                                                                                                                                                                                                                                                                                                                                                                                                                                                                                                                                                                                                                                                                                                                                                                                                                                                                                                                                                                                                                                                                                    reviewText  \\\n",
       "0  Most viewers said this film was bad, but to me it was pretty good. I don't usually get sci-fic movies but I actually get this one. If you like horror, love, and space movies check this movie out. This movie is about a perfect  all-American couple. Spencer Armocost (Depp)has died in space, then a life  force take his body and his memory. NASA lost contact for two minutes and  in space with the another astronaut contact them back. His goal to make his  wife(Theron) pregant and he need his own kind to make a space ship from  their design.  ~~~~~I ACTUALLY GIVE IT 4.5 STARS!~~~~~                                                                                                                                                                                                                                                                                                                                                                                                                                                                                                                                                                                                                                                                                        \n",
       "1  What can I say that possibly hasn't been said about this movie over the years? It is brilliant and should be required watching. The digital download was flawless and worked perfectly.                                                                                                                                                                                                                                                                                                                                                                                                                                                                                                                                                                                                                                                                                                                                                                                                                                                                                                                                                                                                                                                                                                       \n",
       "2  this is a must, the last statement at the end, a few sentences changed, changes and reminds me of my life andall things large and small and happy and sad to be thankful for...a must see!                                                                                                                                                                                                                                                                                                                                                                                                                                                                                                                                                                                                                                                                                                                                                                                                                                                                                                                                                                                                                                                                                                    \n",
       "3  Perhaps the single greatest tribute to this film is that Tim Burton paid homage to it with a remake that was good but failed to capture the impact of the original.  It is hard to identify exactly why this film seized the imagination of several generations especially since in many ways &quot;Planet of the Apes&quot; was a commentary on the sixties.  I saw it and learned, as I drove away from the theater, that Rev. Martin Luther King, Jr. had just been shot.  The poignant coincidence of events will never be forgotten.  This is one of the great science fiction films with a remarkable script by the dean of fantasy writers Rod Serling.  It is well acted, even behind the make-up.  It has one of Jerry Goldsmith's best and most original scores.  And it still holds up quite well, largely because it was not driven by special effects.  The new edition does not offer much beyond the widescreen version of the DVD, but the extras are terrific and make this a worthy purchase. Charlton Heston gave one of his best perfomances and will always be remembered for two scenes...when he regains his ability to speak (you know the line), and of course the end scene that still works and may well prove to be a testament to humankind in the modern age.   \n",
       "4  I could write so much on this subject... I'll just stick with the review of this new DVD.YOU DON'T RELEASE A MOVIE IN 4:3 LETTERBOX IN THIS DAY AND AGE!  George Lucas was the one pushing for all-digital theatres and all that. And now he disrespects the work of all the people that helped him make Star Wars a success in the first place back in 1977.I bought a DVD player originally so that I would own the original Star Wars on DVD. I got an HDTV compatible widescreen TV to see it in at least standard 16x9 anamorphic resolution. (like 94 % of big movie DVD`s out there..)Now I realise.. After all those years of waiting, George Lucas is sooooo thick... He just WON'T give fans what THEY really want... All those people who made him rich.Go to hell, George Lucas. You have lost my admiration for good.                                                                                                                                                                                                                                                                                                                                                                                                                                                            \n",
       "\n",
       "    reviewTime      reviewerID             reviewerName  \\\n",
       "0  03 14, 2000  A2FDCJXVKQ39OM  Amy Liu                   \n",
       "1  01 2, 2013   A1MCY9RWSGNNZ9  Anthony Sacco             \n",
       "2  08 2, 2013   A1NMPROID1MEEV  Patricia A. Hayes         \n",
       "3  02 17, 2004  A2VOIE123XM7T5  G M. Stathis              \n",
       "4  09 25, 2006  A2QGFZCM6RIX7P  Felix A. Mackay \"Felix\"   \n",
       "\n",
       "                                  summary  unixReviewTime  \n",
       "0  The best Sci-fic movie I've ever seen!  952992000       \n",
       "1  A classic.                              1357084800      \n",
       "2  important love story                    1375401600      \n",
       "3  This Edition Goes Ape                   1076976000      \n",
       "4  How George Lucas killed Star Wars       1159142400      "
      ]
     },
     "execution_count": 204,
     "metadata": {},
     "output_type": "execute_result"
    }
   ],
   "source": [
    "reviews_df.head()"
   ]
  },
  {
   "cell_type": "markdown",
   "metadata": {},
   "source": [
    "### Filter out comments that may be relative to the support (DVD, edition...)"
   ]
  },
  {
   "cell_type": "code",
   "execution_count": 205,
   "metadata": {},
   "outputs": [],
   "source": [
    "import pandas as pd\n",
    "pd.set_option('display.max_colwidth', -1)\n",
    "\n",
    "words_to_remove = ['dvd', 'vhs','edition', 'blue-ray', 'blueray', 'blu-ray', 'bluray', 'price']"
   ]
  },
  {
   "cell_type": "code",
   "execution_count": 206,
   "metadata": {},
   "outputs": [],
   "source": [
    "words_to_remove_re = '(' + '|'.join(words_to_remove) + ')'"
   ]
  },
  {
   "cell_type": "code",
   "execution_count": 207,
   "metadata": {},
   "outputs": [],
   "source": [
    "import warnings\n",
    "warnings.simplefilter('ignore')\n",
    "text_removed = reviews_df[reviews_df['reviewText'].str.contains(words_to_remove_re, case=False)]\n",
    "warnings.simplefilter('default')"
   ]
  },
  {
   "cell_type": "code",
   "execution_count": 208,
   "metadata": {},
   "outputs": [
    {
     "data": {
      "text/html": [
       "<div>\n",
       "<style scoped>\n",
       "    .dataframe tbody tr th:only-of-type {\n",
       "        vertical-align: middle;\n",
       "    }\n",
       "\n",
       "    .dataframe tbody tr th {\n",
       "        vertical-align: top;\n",
       "    }\n",
       "\n",
       "    .dataframe thead th {\n",
       "        text-align: right;\n",
       "    }\n",
       "</style>\n",
       "<table border=\"1\" class=\"dataframe\">\n",
       "  <thead>\n",
       "    <tr style=\"text-align: right;\">\n",
       "      <th></th>\n",
       "      <th>overall</th>\n",
       "      <th>unixReviewTime</th>\n",
       "    </tr>\n",
       "  </thead>\n",
       "  <tbody>\n",
       "    <tr>\n",
       "      <th>count</th>\n",
       "      <td>13.000000</td>\n",
       "      <td>1.300000e+01</td>\n",
       "    </tr>\n",
       "    <tr>\n",
       "      <th>mean</th>\n",
       "      <td>3.923077</td>\n",
       "      <td>1.213674e+09</td>\n",
       "    </tr>\n",
       "    <tr>\n",
       "      <th>std</th>\n",
       "      <td>1.605280</td>\n",
       "      <td>1.006942e+08</td>\n",
       "    </tr>\n",
       "    <tr>\n",
       "      <th>min</th>\n",
       "      <td>1.000000</td>\n",
       "      <td>1.076976e+09</td>\n",
       "    </tr>\n",
       "    <tr>\n",
       "      <th>25%</th>\n",
       "      <td>3.000000</td>\n",
       "      <td>1.157933e+09</td>\n",
       "    </tr>\n",
       "    <tr>\n",
       "      <th>50%</th>\n",
       "      <td>5.000000</td>\n",
       "      <td>1.184976e+09</td>\n",
       "    </tr>\n",
       "    <tr>\n",
       "      <th>75%</th>\n",
       "      <td>5.000000</td>\n",
       "      <td>1.257811e+09</td>\n",
       "    </tr>\n",
       "    <tr>\n",
       "      <th>max</th>\n",
       "      <td>5.000000</td>\n",
       "      <td>1.388448e+09</td>\n",
       "    </tr>\n",
       "  </tbody>\n",
       "</table>\n",
       "</div>"
      ],
      "text/plain": [
       "         overall  unixReviewTime\n",
       "count  13.000000  1.300000e+01  \n",
       "mean   3.923077   1.213674e+09  \n",
       "std    1.605280   1.006942e+08  \n",
       "min    1.000000   1.076976e+09  \n",
       "25%    3.000000   1.157933e+09  \n",
       "50%    5.000000   1.184976e+09  \n",
       "75%    5.000000   1.257811e+09  \n",
       "max    5.000000   1.388448e+09  "
      ]
     },
     "execution_count": 208,
     "metadata": {},
     "output_type": "execute_result"
    }
   ],
   "source": [
    "text_removed.describe()"
   ]
  },
  {
   "cell_type": "markdown",
   "metadata": {},
   "source": [
    "#### Result: fraction of content removed:"
   ]
  },
  {
   "cell_type": "code",
   "execution_count": 209,
   "metadata": {},
   "outputs": [
    {
     "data": {
      "text/plain": [
       "0.2821764136549942"
      ]
     },
     "execution_count": 209,
     "metadata": {},
     "output_type": "execute_result"
    }
   ],
   "source": [
    "text_removed['reviewText'].count() / (total_comment_count * dev_sample_fraction)"
   ]
  },
  {
   "cell_type": "markdown",
   "metadata": {},
   "source": [
    "## Quality check on filtered data"
   ]
  },
  {
   "cell_type": "code",
   "execution_count": 210,
   "metadata": {},
   "outputs": [],
   "source": [
    "warnings.simplefilter('ignore')\n",
    "relevant_comments = reviews_df[~reviews_df['reviewText'].str.contains(words_to_remove_re, case=False)]\n",
    "warnings.simplefilter('default')"
   ]
  },
  {
   "cell_type": "code",
   "execution_count": 211,
   "metadata": {},
   "outputs": [
    {
     "name": "stdout",
     "output_type": "stream",
     "text": [
      "<class 'pandas.core.frame.DataFrame'>\n",
      "Int64Index: 36 entries, 0 to 48\n",
      "Data columns (total 9 columns):\n",
      "asin              36 non-null object\n",
      "helpful           36 non-null object\n",
      "overall           36 non-null float64\n",
      "reviewText        36 non-null object\n",
      "reviewTime        36 non-null object\n",
      "reviewerID        36 non-null object\n",
      "reviewerName      35 non-null object\n",
      "summary           36 non-null object\n",
      "unixReviewTime    36 non-null int64\n",
      "dtypes: float64(1), int64(1), object(7)\n",
      "memory usage: 2.8+ KB\n"
     ]
    }
   ],
   "source": [
    "relevant_comments.info()"
   ]
  },
  {
   "cell_type": "code",
   "execution_count": 212,
   "metadata": {},
   "outputs": [
    {
     "data": {
      "text/plain": [
       "0    Most viewers said this film was bad, but to me it was pretty good. I don't usually get sci-fic movies but I actually get this one. If you like horror, love, and space movies check this movie out. This movie is about a perfect  all-American couple. Spencer Armocost (Depp)has died in space, then a life  force take his body and his memory. NASA lost contact for two minutes and  in space with the another astronaut contact them back. His goal to make his  wife(Theron) pregant and he need his own kind to make a space ship from  their design.  ~~~~~I ACTUALLY GIVE IT 4.5 STARS!~~~~~\n",
       "1    What can I say that possibly hasn't been said about this movie over the years? It is brilliant and should be required watching. The digital download was flawless and worked perfectly.                                                                                                                                                                                                                                                                                                                                                                                                               \n",
       "Name: reviewText, dtype: object"
      ]
     },
     "execution_count": 212,
     "metadata": {},
     "output_type": "execute_result"
    }
   ],
   "source": [
    "relevant_comments['reviewText'].head(2) # try head(50) or more"
   ]
  },
  {
   "cell_type": "markdown",
   "metadata": {},
   "source": [
    "#### Result: reviews look good\n",
    "Based on quick review of head(50)"
   ]
  },
  {
   "cell_type": "markdown",
   "metadata": {},
   "source": [
    "## Keyword-based sentiment analysis"
   ]
  },
  {
   "cell_type": "code",
   "execution_count": 229,
   "metadata": {},
   "outputs": [],
   "source": [
    "emotion_keywords_path = '../../datasets/'\n",
    "emotion_keywords = 'emotions-sensor-data-set.zip'\n",
    "global emotions_keywords_df\n",
    "emotions_keywords_df = pd.read_csv(emotion_keywords_path + emotion_keywords)"
   ]
  },
  {
   "cell_type": "code",
   "execution_count": 267,
   "metadata": {},
   "outputs": [],
   "source": [
    "# emotions_keywords_df"
   ]
  },
  {
   "cell_type": "markdown",
   "metadata": {},
   "source": [
    "#### Dictionary for speed"
   ]
  },
  {
   "cell_type": "code",
   "execution_count": 272,
   "metadata": {},
   "outputs": [
    {
     "data": {
      "text/plain": [
       "['word', 'disgust', 'surprise', 'neutral', 'anger', 'sad', 'happy', 'fear']"
      ]
     },
     "execution_count": 272,
     "metadata": {},
     "output_type": "execute_result"
    }
   ],
   "source": [
    "import csv\n",
    "global emotions\n",
    "emotions = list(emotions_keywords_df)[1:]\n",
    "emotion_keywords_csv = 'Andbrain_DataSet.csv'\n",
    "\n",
    "emotions_keywords = {}\n",
    "emotions2 = []\n",
    "with open(emotion_keywords_path + emotion_keywords_csv, mode='r', errors='replace') as csvfile:\n",
    "    reader = csv.reader(csvfile, dialect='excel')\n",
    "    emotions2 = reader.__next__()  # skip headers\n",
    "#     print (emotions2)\n",
    "    for row in reader:\n",
    "#         print(row)\n",
    "        dico = {}\n",
    "        for i in range(1,8):\n",
    "            dico[emotions2[i].strip()] = float(row[i])\n",
    "        emotions_keywords[row[0].strip()] = dico\n",
    "        \n",
    "emotions2"
   ]
  },
  {
   "cell_type": "code",
   "execution_count": 274,
   "metadata": {},
   "outputs": [
    {
     "name": "stdout",
     "output_type": "stream",
     "text": [
      "<class 'pandas.core.frame.DataFrame'>\n",
      "RangeIndex: 1104 entries, 0 to 1103\n",
      "Data columns (total 8 columns):\n",
      "word        1104 non-null object\n",
      "disgust     1104 non-null float64\n",
      "surprise    1104 non-null float64\n",
      "neutral     1104 non-null float64\n",
      "anger       1104 non-null float64\n",
      "sad         1104 non-null float64\n",
      "happy       1104 non-null float64\n",
      "fear        1104 non-null float64\n",
      "dtypes: float64(7), object(1)\n",
      "memory usage: 69.1+ KB\n"
     ]
    }
   ],
   "source": [
    "emotions_keywords_df.info()"
   ]
  },
  {
   "cell_type": "code",
   "execution_count": 217,
   "metadata": {},
   "outputs": [],
   "source": [
    "global emotions\n",
    "emotions = list(emotions_keywords_df)[1:]\n",
    "rel_comments_w_sentiments = relevant_comments.reindex(columns= relevant_comments.columns.tolist() + emotions)"
   ]
  },
  {
   "cell_type": "code",
   "execution_count": 218,
   "metadata": {},
   "outputs": [
    {
     "data": {
      "text/html": [
       "<div>\n",
       "<style scoped>\n",
       "    .dataframe tbody tr th:only-of-type {\n",
       "        vertical-align: middle;\n",
       "    }\n",
       "\n",
       "    .dataframe tbody tr th {\n",
       "        vertical-align: top;\n",
       "    }\n",
       "\n",
       "    .dataframe thead th {\n",
       "        text-align: right;\n",
       "    }\n",
       "</style>\n",
       "<table border=\"1\" class=\"dataframe\">\n",
       "  <thead>\n",
       "    <tr style=\"text-align: right;\">\n",
       "      <th></th>\n",
       "      <th>asin</th>\n",
       "      <th>helpful</th>\n",
       "      <th>overall</th>\n",
       "      <th>reviewText</th>\n",
       "      <th>reviewTime</th>\n",
       "      <th>reviewerID</th>\n",
       "      <th>reviewerName</th>\n",
       "      <th>summary</th>\n",
       "      <th>unixReviewTime</th>\n",
       "      <th>disgust</th>\n",
       "      <th>surprise</th>\n",
       "      <th>neutral</th>\n",
       "      <th>anger</th>\n",
       "      <th>sad</th>\n",
       "      <th>happy</th>\n",
       "      <th>fear</th>\n",
       "    </tr>\n",
       "  </thead>\n",
       "  <tbody>\n",
       "    <tr>\n",
       "      <th>0</th>\n",
       "      <td>0780628551</td>\n",
       "      <td>[0, 1]</td>\n",
       "      <td>4.0</td>\n",
       "      <td>Most viewers said this film was bad, but to me it was pretty good. I don't usually get sci-fic movies but I actually get this one. If you like horror, love, and space movies check this movie out. This movie is about a perfect  all-American couple. Spencer Armocost (Depp)has died in space, then a life  force take his body and his memory. NASA lost contact for two minutes and  in space with the another astronaut contact them back. His goal to make his  wife(Theron) pregant and he need his own kind to make a space ship from  their design.  ~~~~~I ACTUALLY GIVE IT 4.5 STARS!~~~~~</td>\n",
       "      <td>03 14, 2000</td>\n",
       "      <td>A2FDCJXVKQ39OM</td>\n",
       "      <td>Amy Liu</td>\n",
       "      <td>The best Sci-fic movie I've ever seen!</td>\n",
       "      <td>952992000</td>\n",
       "      <td>NaN</td>\n",
       "      <td>NaN</td>\n",
       "      <td>NaN</td>\n",
       "      <td>NaN</td>\n",
       "      <td>NaN</td>\n",
       "      <td>NaN</td>\n",
       "      <td>NaN</td>\n",
       "    </tr>\n",
       "  </tbody>\n",
       "</table>\n",
       "</div>"
      ],
      "text/plain": [
       "         asin helpful  overall  \\\n",
       "0  0780628551  [0, 1]  4.0       \n",
       "\n",
       "                                                                                                                                                                                                                                                                                                                                                                                                                                                                                                                                                                                               reviewText  \\\n",
       "0  Most viewers said this film was bad, but to me it was pretty good. I don't usually get sci-fic movies but I actually get this one. If you like horror, love, and space movies check this movie out. This movie is about a perfect  all-American couple. Spencer Armocost (Depp)has died in space, then a life  force take his body and his memory. NASA lost contact for two minutes and  in space with the another astronaut contact them back. His goal to make his  wife(Theron) pregant and he need his own kind to make a space ship from  their design.  ~~~~~I ACTUALLY GIVE IT 4.5 STARS!~~~~~   \n",
       "\n",
       "    reviewTime      reviewerID reviewerName  \\\n",
       "0  03 14, 2000  A2FDCJXVKQ39OM  Amy Liu       \n",
       "\n",
       "                                  summary  unixReviewTime  disgust  surprise  \\\n",
       "0  The best Sci-fic movie I've ever seen!  952992000      NaN      NaN         \n",
       "\n",
       "   neutral  anger  sad  happy  fear  \n",
       "0 NaN      NaN    NaN  NaN    NaN    "
      ]
     },
     "execution_count": 218,
     "metadata": {},
     "output_type": "execute_result"
    }
   ],
   "source": [
    "rel_comments_w_sentiments.head(1)"
   ]
  },
  {
   "cell_type": "code",
   "execution_count": 219,
   "metadata": {},
   "outputs": [
    {
     "data": {
      "text/plain": [
       "\"Perhaps the most underappreciated film of the  80's, the Beast stands out as a solid war epic, with heart, action and beautiful imagery. Set during the Soviet Union's brutal war against Afghanistan, the Beast chronicles one tank's attempts to get back to friendly lines. The conscience of the tank crew is a young soldier played by Jason Patric.  Increasingly put off by the atrocities against civilians that his hardened tank commander (wonderfully played by a rather lean George Dzundza!) has them all commit, he is forced out of the tank and left to die in the Afghan desert.  While waiting to die, he is set upon by the rebels, who spare his life, and accept his aid in going after his comrades' tank! There was a lot to like about the Beast.  Good acting all around.  Fine attention to military detail.  Suspenseful, well-done action scenes. Haunting score by Mark Isham.  And amazing, razor-sharp cinematography by Douglas Milsome. The images of the desert are haunting and  beautifully composed.  END\""
      ]
     },
     "execution_count": 219,
     "metadata": {},
     "output_type": "execute_result"
    }
   ],
   "source": [
    "import re\n",
    "comment = rel_comments_w_sentiments['reviewText'][8]\n",
    "comment"
   ]
  },
  {
   "cell_type": "code",
   "execution_count": 220,
   "metadata": {},
   "outputs": [
    {
     "name": "stdout",
     "output_type": "stream",
     "text": [
      "{'disgust': 0.0, 'surprise': 0.0, 'neutral': 0.0, 'anger': 0.0, 'sad': 0.0, 'happy': 0.0, 'fear': 0.0}\n"
     ]
    }
   ],
   "source": [
    "# TODO: remove stomp words\n",
    "test_input = 'ability. Ability,abilities'\n",
    "scores = {key: 0.0 for key in emotions}\n",
    "print(scores)"
   ]
  },
  {
   "cell_type": "code",
   "execution_count": 275,
   "metadata": {},
   "outputs": [
    {
     "data": {
      "text/plain": [
       "['word', 'disgust', 'surprise', 'neutral', 'anger', 'sad', 'happy', 'fear']"
      ]
     },
     "execution_count": 275,
     "metadata": {},
     "output_type": "execute_result"
    }
   ],
   "source": [
    "emotions_keywords['ability']\n",
    "emotions2"
   ]
  },
  {
   "cell_type": "markdown",
   "metadata": {},
   "source": [
    "#### Add vector to a comment"
   ]
  },
  {
   "cell_type": "code",
   "execution_count": 291,
   "metadata": {},
   "outputs": [],
   "source": [
    "\n",
    "\n",
    "def fill_emotions(comment):\n",
    "    comment_text = comment['reviewText']\n",
    "    comment_words = comment_text.split(' ')    \n",
    "    emotion_keywords_hits = 0\n",
    "    scores = {key: 0.0 for key in emotions}    # {'disgust': 0.0, ...}\n",
    "    \n",
    "    for word in comment_words:\n",
    "        if emotions_keywords.get(word, 0.0) != 0.0:\n",
    "            for key in scores.keys():\n",
    "                scores[key] += emotions_keywords[word][key]\n",
    "            \n",
    "    for emotion in emotions:\n",
    "        comment[emotion] = scores[emotion]\n",
    "    return comment\n",
    "\n",
    "rel_comments_w_emotions = rel_comments_w_sentiments.apply(fill_emotions, axis=1, raw=True)"
   ]
  },
  {
   "cell_type": "code",
   "execution_count": 292,
   "metadata": {},
   "outputs": [
    {
     "data": {
      "text/plain": [
       "{'disgust': 0.0050135859999999996,\n",
       " 'surprise': 0.048190635999999995,\n",
       " 'neutral': 0.001224,\n",
       " 'anger': 0.161135579,\n",
       " 'sad': 0.014852553000000001,\n",
       " 'happy': 0.017783056,\n",
       " 'fear': 0.043023212,\n",
       " 'reviewText': 'ability able abuse aaa bbb'}"
      ]
     },
     "execution_count": 292,
     "metadata": {},
     "output_type": "execute_result"
    }
   ],
   "source": [
    "# function test - OK\n",
    "test_comment = {key: float('nan') for key in emotions}\n",
    "test_comment['reviewText'] = 'ability able abuse aaa bbb'\n",
    "fill_emotions(test_comment)"
   ]
  },
  {
   "cell_type": "code",
   "execution_count": 293,
   "metadata": {},
   "outputs": [
    {
     "data": {
      "text/html": [
       "<div>\n",
       "<style scoped>\n",
       "    .dataframe tbody tr th:only-of-type {\n",
       "        vertical-align: middle;\n",
       "    }\n",
       "\n",
       "    .dataframe tbody tr th {\n",
       "        vertical-align: top;\n",
       "    }\n",
       "\n",
       "    .dataframe thead th {\n",
       "        text-align: right;\n",
       "    }\n",
       "</style>\n",
       "<table border=\"1\" class=\"dataframe\">\n",
       "  <thead>\n",
       "    <tr style=\"text-align: right;\">\n",
       "      <th></th>\n",
       "      <th>asin</th>\n",
       "      <th>helpful</th>\n",
       "      <th>overall</th>\n",
       "      <th>reviewText</th>\n",
       "      <th>reviewTime</th>\n",
       "      <th>reviewerID</th>\n",
       "      <th>reviewerName</th>\n",
       "      <th>summary</th>\n",
       "      <th>unixReviewTime</th>\n",
       "      <th>disgust</th>\n",
       "      <th>surprise</th>\n",
       "      <th>neutral</th>\n",
       "      <th>anger</th>\n",
       "      <th>sad</th>\n",
       "      <th>happy</th>\n",
       "      <th>fear</th>\n",
       "    </tr>\n",
       "  </thead>\n",
       "  <tbody>\n",
       "    <tr>\n",
       "      <th>0</th>\n",
       "      <td>0780628551</td>\n",
       "      <td>[0, 1]</td>\n",
       "      <td>4.0</td>\n",
       "      <td>Most viewers said this film was bad, but to me it was pretty good. I don't usually get sci-fic movies but I actually get this one. If you like horror, love, and space movies check this movie out. This movie is about a perfect  all-American couple. Spencer Armocost (Depp)has died in space, then a life  force take his body and his memory. NASA lost contact for two minutes and  in space with the another astronaut contact them back. His goal to make his  wife(Theron) pregant and he need his own kind to make a space ship from  their design.  ~~~~~I ACTUALLY GIVE IT 4.5 STARS!~~~~~</td>\n",
       "      <td>03 14, 2000</td>\n",
       "      <td>A2FDCJXVKQ39OM</td>\n",
       "      <td>Amy Liu</td>\n",
       "      <td>The best Sci-fic movie I've ever seen!</td>\n",
       "      <td>952992000</td>\n",
       "      <td>0.006679</td>\n",
       "      <td>0.131175</td>\n",
       "      <td>0.002613</td>\n",
       "      <td>0.115783</td>\n",
       "      <td>0.12956</td>\n",
       "      <td>0.216092</td>\n",
       "      <td>0.265653</td>\n",
       "    </tr>\n",
       "    <tr>\n",
       "      <th>1</th>\n",
       "      <td>0792833171</td>\n",
       "      <td>[0, 0]</td>\n",
       "      <td>5.0</td>\n",
       "      <td>What can I say that possibly hasn't been said about this movie over the years? It is brilliant and should be required watching. The digital download was flawless and worked perfectly.</td>\n",
       "      <td>01 2, 2013</td>\n",
       "      <td>A1MCY9RWSGNNZ9</td>\n",
       "      <td>Anthony Sacco</td>\n",
       "      <td>A classic.</td>\n",
       "      <td>1357084800</td>\n",
       "      <td>0.000000</td>\n",
       "      <td>0.000000</td>\n",
       "      <td>0.000000</td>\n",
       "      <td>0.000000</td>\n",
       "      <td>0.00000</td>\n",
       "      <td>0.000000</td>\n",
       "      <td>0.000000</td>\n",
       "    </tr>\n",
       "  </tbody>\n",
       "</table>\n",
       "</div>"
      ],
      "text/plain": [
       "         asin helpful  overall  \\\n",
       "0  0780628551  [0, 1]  4.0       \n",
       "1  0792833171  [0, 0]  5.0       \n",
       "\n",
       "                                                                                                                                                                                                                                                                                                                                                                                                                                                                                                                                                                                               reviewText  \\\n",
       "0  Most viewers said this film was bad, but to me it was pretty good. I don't usually get sci-fic movies but I actually get this one. If you like horror, love, and space movies check this movie out. This movie is about a perfect  all-American couple. Spencer Armocost (Depp)has died in space, then a life  force take his body and his memory. NASA lost contact for two minutes and  in space with the another astronaut contact them back. His goal to make his  wife(Theron) pregant and he need his own kind to make a space ship from  their design.  ~~~~~I ACTUALLY GIVE IT 4.5 STARS!~~~~~   \n",
       "1  What can I say that possibly hasn't been said about this movie over the years? It is brilliant and should be required watching. The digital download was flawless and worked perfectly.                                                                                                                                                                                                                                                                                                                                                                                                                  \n",
       "\n",
       "    reviewTime      reviewerID   reviewerName  \\\n",
       "0  03 14, 2000  A2FDCJXVKQ39OM  Amy Liu         \n",
       "1  01 2, 2013   A1MCY9RWSGNNZ9  Anthony Sacco   \n",
       "\n",
       "                                  summary  unixReviewTime   disgust  surprise  \\\n",
       "0  The best Sci-fic movie I've ever seen!  952992000       0.006679  0.131175   \n",
       "1  A classic.                              1357084800      0.000000  0.000000   \n",
       "\n",
       "    neutral     anger      sad     happy      fear  \n",
       "0  0.002613  0.115783  0.12956  0.216092  0.265653  \n",
       "1  0.000000  0.000000  0.00000  0.000000  0.000000  "
      ]
     },
     "execution_count": 293,
     "metadata": {},
     "output_type": "execute_result"
    }
   ],
   "source": [
    "rel_comments_w_emotions.head(2)"
   ]
  },
  {
   "cell_type": "markdown",
   "metadata": {},
   "source": [
    "### Previous attempt too slow with dataframes:"
   ]
  },
  {
   "cell_type": "code",
   "execution_count": 225,
   "metadata": {},
   "outputs": [],
   "source": [
    "def fill_emotions(comment):\n",
    "\n",
    "    comment_text = comment['reviewText']    \n",
    "    emotion_keywords_hits = 0\n",
    "    scores = {key: 0.0 for key in emotions}    # {'disgust': 0.0, ...}\n",
    "    for row in emotions_keywords_df.itertuples():\n",
    "#         print(row)\n",
    "        word = row.word.strip()  # there are spaces at end\n",
    "        word_re = r'\\b' + re.escape(word) + r'\\b'\n",
    "        match = re.findall(word_re, comment_text,re.IGNORECASE)\n",
    "        count = len(match)\n",
    "        if count > 0:\n",
    "    #         print(match)\n",
    "            scores['disgust'] += row.disgust\n",
    "            scores['surprise'] += row.surprise\n",
    "            scores['neutral'] += row.neutral\n",
    "            scores['anger'] += row.anger\n",
    "            scores['sad'] += row.sad\n",
    "            scores['happy'] += row.happy\n",
    "            scores['fear'] += row.fear\n",
    "            emotion_keywords_hits += 1\n",
    "\n",
    "    result = comment.copy()\n",
    "#     for emotion in emotions:\n",
    "#         comment[emotion] = scores[emotion]\n",
    "\n",
    "    # print(rel_comments_w_sentiments.loc[8])\n",
    "    # print(scores)\n",
    "    # print(emotion_keywords_hits) \n",
    "\n",
    "rel_comments_w_emotions = rel_comments_w_sentiments.apply(fill_emotions, axis=1, raw=True)"
   ]
  },
  {
   "cell_type": "code",
   "execution_count": 222,
   "metadata": {},
   "outputs": [
    {
     "data": {
      "text/plain": [
       "0    None\n",
       "1    None\n",
       "2    None\n",
       "dtype: object"
      ]
     },
     "execution_count": 222,
     "metadata": {},
     "output_type": "execute_result"
    }
   ],
   "source": [
    "rel_comments_w_emotions.head(3)"
   ]
  },
  {
   "cell_type": "code",
   "execution_count": null,
   "metadata": {},
   "outputs": [],
   "source": []
  },
  {
   "cell_type": "code",
   "execution_count": 93,
   "metadata": {},
   "outputs": [],
   "source": [
    "from compute_emotions import *\n",
    "#computeEmotions(4)"
   ]
  },
  {
   "cell_type": "code",
   "execution_count": null,
   "metadata": {},
   "outputs": [],
   "source": []
  },
  {
   "cell_type": "code",
   "execution_count": 166,
   "metadata": {},
   "outputs": [
    {
     "name": "stdout",
     "output_type": "stream",
     "text": [
      "1\n"
     ]
    }
   ],
   "source": [
    "global g0\n",
    "g0 = 1\n",
    "def use_global(string):\n",
    "    print(g0)\n",
    "use_global('a')"
   ]
  },
  {
   "cell_type": "code",
   "execution_count": 167,
   "metadata": {},
   "outputs": [
    {
     "name": "stdout",
     "output_type": "stream",
     "text": [
      "1\n"
     ]
    }
   ],
   "source": [
    "def use_global2(string):\n",
    "    print(g0)\n",
    "use_global2('a')"
   ]
  },
  {
   "cell_type": "code",
   "execution_count": null,
   "metadata": {},
   "outputs": [],
   "source": []
  },
  {
   "cell_type": "code",
   "execution_count": null,
   "metadata": {},
   "outputs": [],
   "source": []
  },
  {
   "cell_type": "code",
   "execution_count": null,
   "metadata": {},
   "outputs": [],
   "source": []
  },
  {
   "cell_type": "markdown",
   "metadata": {},
   "source": [
    "## Isolating Comment helpfulness"
   ]
  },
  {
   "cell_type": "code",
   "execution_count": 24,
   "metadata": {},
   "outputs": [
    {
     "data": {
      "text/plain": [
       "count    91869.000000\n",
       "mean     2.638866    \n",
       "std      11.521295   \n",
       "min      0.000000    \n",
       "25%      0.000000    \n",
       "50%      0.000000    \n",
       "75%      2.000000    \n",
       "max      1031.000000 \n",
       "Name: helpful, dtype: float64"
      ]
     },
     "execution_count": 24,
     "metadata": {},
     "output_type": "execute_result"
    }
   ],
   "source": [
    "helpful = reviews_df['helpful'].map(lambda x: x[0], na_action='ignore')\n",
    "helpful.describe()"
   ]
  },
  {
   "cell_type": "code",
   "execution_count": 25,
   "metadata": {},
   "outputs": [
    {
     "data": {
      "text/plain": [
       "count    91869.000000\n",
       "mean     4.093655    \n",
       "std      14.126499   \n",
       "min      0.000000    \n",
       "25%      0.000000    \n",
       "50%      1.000000    \n",
       "75%      4.000000    \n",
       "max      1160.000000 \n",
       "Name: helpful, dtype: float64"
      ]
     },
     "execution_count": 25,
     "metadata": {},
     "output_type": "execute_result"
    }
   ],
   "source": [
    "not_helpful = reviews_df['helpful'].map(lambda x: x[1], na_action='ignore')\n",
    "not_helpful.describe()"
   ]
  },
  {
   "cell_type": "markdown",
   "metadata": {},
   "source": [
    "### Note: current filtering is probably too aggressive:'DVD' mostly used to describe the movie\n",
    "Removing DVD would remove a lot of good comments, as all of the following are appropriate:"
   ]
  },
  {
   "cell_type": "code",
   "execution_count": 26,
   "metadata": {},
   "outputs": [
    {
     "data": {
      "text/plain": [
       "11    I have watched this version of &#34;Joseph&#34; numerous times also on TV and am once again glad to add this one to my collection of Bible DVD's. It's entertainment but for me it's much than that I'm able to receive a better understanding of my Bible it's like a learning process to test me on my Bible knowledge and see how well I know the scriptures, for instance when I'm able to pick something out of the movie that may not be quite true to scripture I go check my Bible and I'm able to learn my scriptures better and my Bible. I believe by watching the DVD over and over and even having different versions you absorb more into your memory and it can be your own individual Bible study. I was really amazed and excited when I saw that you offered many of these DVD's of (The Bible Collection) which are some of my favorites. Hoping to collect them all and other versions plus other Christian DVD's to learn from them for a better understanding of God's true Word.\n",
       "13    I use the Hemispheres textbooks for teaching one on one students and I love it! This is a good text to supplement my teaching. It goes with the DVD and my students can work on it individually.                                                                                                                                                                                                                                                                                                                                                                                                                                                                                                                                                                                                                                                                                                                                                                                                       \n",
       "18    I purchased this in an effort to collect all classic Christmas movies. This is the original Frosty movie, the quality is definitely dated. This was the cheapest price I could find this movie for, so the value was good.                                                                                                                                                                                                                                                                                                                                                                                                                                                                                                                                                                                                                                                                                                                                                                             \n",
       "20    Don't be fooled, this is the original unremastered version. My daughter loves that version so it's great, but I could have bought it from Wal-Mart for half this price.                                                                                                                                                                                                                                                                                                                                                                                                                                                                                                                                                                                                                                                                                                                                                                                                                                \n",
       "24    I bought this VHS when my daughter was 4 years old.  It is one that she wanted to watch over and over again.Simple story, simply animated, yet with a touching message and cute songs.  I would find myself singing \"Me & My Doll\" while cleaning the house! Great story to demonstrate true friendship.                                                                                                                                                                                                                                                                                                                                                                                                                                                                                                                                                                                                                                                                                               \n",
       "Name: reviewText, dtype: object"
      ]
     },
     "execution_count": 26,
     "metadata": {},
     "output_type": "execute_result"
    }
   ],
   "source": [
    "import pandas as pd\n",
    "pd.set_option('display.max_colwidth', -1)\n",
    "text_removed['reviewText'].head(5)"
   ]
  },
  {
   "cell_type": "code",
   "execution_count": null,
   "metadata": {},
   "outputs": [],
   "source": []
  },
  {
   "cell_type": "code",
   "execution_count": 28,
   "metadata": {},
   "outputs": [
    {
     "name": "stderr",
     "output_type": "stream",
     "text": [
      "/anaconda3/lib/python3.7/site-packages/ipykernel_launcher.py:1: UserWarning: This pattern has match groups. To actually get the groups, use str.extract.\n",
      "  \"\"\"Entry point for launching an IPython kernel.\n"
     ]
    }
   ],
   "source": [
    "text_removed = reviews_df[(reviews_df['reviewText'].str.contains('(dvd|vhs)', case=False)) & (helpful > 1)]"
   ]
  },
  {
   "cell_type": "code",
   "execution_count": 29,
   "metadata": {},
   "outputs": [
    {
     "data": {
      "text/html": [
       "<div>\n",
       "<style scoped>\n",
       "    .dataframe tbody tr th:only-of-type {\n",
       "        vertical-align: middle;\n",
       "    }\n",
       "\n",
       "    .dataframe tbody tr th {\n",
       "        vertical-align: top;\n",
       "    }\n",
       "\n",
       "    .dataframe thead th {\n",
       "        text-align: right;\n",
       "    }\n",
       "</style>\n",
       "<table border=\"1\" class=\"dataframe\">\n",
       "  <thead>\n",
       "    <tr style=\"text-align: right;\">\n",
       "      <th></th>\n",
       "      <th>reviewText</th>\n",
       "      <th>helpful</th>\n",
       "    </tr>\n",
       "  </thead>\n",
       "  <tbody>\n",
       "    <tr>\n",
       "      <th>30</th>\n",
       "      <td>What with Meryl Streep portraying her in a movie and all, Julia's books and series are getting a monster tidal wave of fresh attention.  I wonder how many youngsters (Food Network viewers) will purchase or have purchased for them the classic \"Mastering the Art of French Cooking\" and find it completely overwhelming and not necessarily useful for everyday cooking?I had few cooking skills in the mid 1980s when this book and DVD came out, and I relied on recipes from Fannie Farmer, supermarket recipe cards, and women's magazines.  This series elevated my cooking for good.  It is French influenced, but simplified in some cases, and there are variations on most recipes which is really useful if you don't have time to run to the supermarket.  I have had many variation cookbooks and this is the best.  I have not used the dessert section too much (I prefer Pierre Franey for this--fruit salad with Grand Marnier!), but the bread, meat, and veg sections are the best.  I recommend ham steaks with peas and mashed potatoes and cornish game hen broiled w/cheese.I am so pleased this is out on DVD.  I gathered up the video tapes one-by-one on ebay and this is definitely more affordable!</td>\n",
       "      <td>[31, 34]</td>\n",
       "    </tr>\n",
       "    <tr>\n",
       "      <th>37</th>\n",
       "      <td>To start off with, I actually have an early release of the dvd, so my stars are based on that, not the cinema.I made it through about six or seven pages on reviews before I decided to write this and from what I see, three subjects usually appear as the reason for bad reviews.The first reason is it is too violent.  We all knew this, before we even went to see it.  It was all over news, media, etc.  We were warned not to take our kids, be prepared for violence, not for the weak of heart.  So, if you went expecting scenes of the beach, then that is your own fault.  I didn't watch it hoping to see a blood bath, but I knew it was coming.I am a very faithful Protestant, and I do see some Catholic overtones in the story, but that is Mel's interpretation and overall I felt it was pretty accurate.  It is interesting to me that all of these people that may or may not have a personal relationship with Jesus, seem to know that if he were here today, he would not support this film.The second reason people complain is because it doesn't tell the full story of Jesus.  It isn't supposed to.  It is the Passion of the Christ, and passion means suffering.  It isn't the story of the Christ or the Gospel of the Christ.  It is basically a Passion play put to cinema.  He isn't trying to show us the teachings of Jesus, he is showing us the suffering of Jesus.  He is showing us what He went through for us.  If you see this movie and aren't moved by the sacrifice that He made for all of us to be free, then you don't get it.  And if you don't understand and you don't get it, then that is ok, I pray someday that you will.The third thing I pick up on in these reviews is that Mel is using it just for profit.  He has made money at ever other movie he has made I am sure, and yet no one ever questions his motives then.  Yet, when he comes out with something of a religious nature when we are in a world that requires us to be politically correct, then he was just doing it for money.  He put up his own money and I personally hope he makes all the money he can off of it, not that he needs it.  So what if there is a director's cut later on?  How may different directors editions or box sets of Lord of the Rings are out there?  I get tired of having to apologize for what I believe.  If someone stands up for an important issue, whatever the hot topic of the week is, then that is their right to voice their opinion and they expect everyone to recieve it and agree.  But if I as a Christian stand up for what I believe, then I am a \"Jesus Freak\" or a \"Fanatic\".  So if you don't agree with me, that is your right, but if I don't believe what you do, then I am narrow minded??  What happened to my right to my own beliefs?While I am still on my soap box, it is amazing to me that people still think this film is anti-semitic.  If you have any knowledge of the history prior to this then you should know that Jews were a large part of this area, so who else would send Jesus to the cross?  He was Jewish, it was just the circumstances.  And if you don't know the history, then read the bible, don't blame Gibson.Back to the movie, I liked the dvd, thought it was a great movie.  I tip my hat to Mel Gibson for having the courage to put his money where his mouth is and put his beliefs to film.God Bless</td>\n",
       "      <td>[9, 12]</td>\n",
       "    </tr>\n",
       "    <tr>\n",
       "      <th>40</th>\n",
       "      <td>I have never seen a movie as intensley astounding in performance as that of \"The Passion Of The Christ\".  I am 39 years old and I cannot find the words to express to anyone the expanse, magnitude and brilliance that this movie of The Final hours of Jesus Christ has left within me other than an imprint  as deep within as the mystery of the universe itself.As a young catholic growing up, I remember seeing the movie on TV called, \"Francis of Assisi\", starring Bradford Dillman, Dolores Hart (who became an actual nun in 1971) and Stuart Whitman.  It was and is one of the greatest movies in the history of Religious Film Making with The Passion of The Christ as Number One and Francis as Number two.  No film of St. Francis or any kind then, made such an impression on me, that I actually took His name as mine for my Confirmation Name because I became so \"hypnotized\", if you will, that I became more aware that anyone can desire such holiness and attain such (Holy) Valor as Francis did, for me, when I was only 11.Buy this film!!  See \"The Passion of The Christ\" Come Alive for you as you have never seen anything like it ever before!!!So that to see for yourselves what Jesus went through in His Final Hours for our redemption and to accomplish for us something so beautiful through such anguish and pain never before witnessed, that to this day, as I hold the DVD in my hands still unwrapped since I saw it on The Big Screen, it remains in me, as if imprinted on my very soul.Maybe a person may see this film as an atheist and leave it as an atheist, but I know one thing.  They will never die as one, as it is said, likewise, that \"there are no atheists in fox holes\".Peace of \"The Christ\" be with you!RJ</td>\n",
       "      <td>[6, 8]</td>\n",
       "    </tr>\n",
       "    <tr>\n",
       "      <th>42</th>\n",
       "      <td>I frankly don't know how anybody could dislike this film.  I cannot think of many superior cinemagraphic experiences than viewing \"The Passion of the Chirst.\"  With the soldiers and the Pharisees, it is nearly unfathomable that such hate could be conjured up for one's fellow human beings but there are endless reminders around us today which document that such hate still exists.  Christ in particular remains despised in numerous hearts and locales.The artistic merits of \"The Passion...\" are weighty.  Merely hearing Aramaic and Latin for two hours straight is valuable in itself.  All of the acting is strong and this is even true of the minor roles as one's outrage at the individual soldiers is palpable.The choice for Satan was fascinating as I don't recall ever seeing a more perfectly androgynous human being captured on the big screen.  The way that Mel Gibson \"fleshed out\" Pilate was stupendous, and quite surprising.  In the context of the times, it is possible to feel sympathy for him.  The very small things are what makes the film uniquely memorable, such as the use of flashbacks, the motif of the dove, and the death scene of Judas.  I loved this movie and the DVD was worth the 20 bucks I paid.  Never in my life have I wanted more to more change an ending and never in my life have I been as powerless to do so.</td>\n",
       "      <td>[3, 6]</td>\n",
       "    </tr>\n",
       "    <tr>\n",
       "      <th>44</th>\n",
       "      <td>I've noticed that many reviewers are complaining because there are no extras on this DVD.  So what!?!  The point of this movie isn't what Mel Gibson or any of the actors think.  The point is what's happening on the screen.  If you don't get that, you don't get the message.  Why cloud the true message with a bunch of talking heads who are only going to say what's been said in countless magazine/newspaper interviews?  This is a powerful movie that needs no explanation.  It captures a part of Jesus' life that has been overly sanitized.  We (Christians) know that Jesus died for us, but how many of us have actually considered \"how\" he died for us?  Watching this movie should make a lot of people sit up and take notice.  It's not an easy movie to watch, but once again, that's the point.  You're supposed to feel uncomfortable.  You're supposed to be horrified by the brutality and callousness of what happened to the Son of God.  Mel Gibson did a magnificent job of capturing the last hours of Jesus' life.  He didn't sugarcoat anything; he didn't downplay any of the \"ugly\" aspects.  I respect him and this movie for that.  This is definitely a movie that stays with you after you watch it.  Hopefully, if you watched it in the right frame of mind, the true message should stay with you for the rest of your life.</td>\n",
       "      <td>[8, 14]</td>\n",
       "    </tr>\n",
       "  </tbody>\n",
       "</table>\n",
       "</div>"
      ],
      "text/plain": [
       "                                                                                                                                                                                                                                                                                                                                                                                                                                                                                                                                                                                                                                                                                                                                                                                                                                                                                                                                                                                                                                                                                                                                                                                                                                                                                                                                                                                                                                                                                                                                                                                                                                                                                                                                                                                                                                                                                                                                                                                                                                                                                                                                                                                                                                                                                                                                                                                                                                                                                                                                                                                                                                                                                                                                                                                                                                                                                                                                                                                                                                                                                                                                                                                                                                                                                                                                                                                                                              reviewText  \\\n",
       "30  What with Meryl Streep portraying her in a movie and all, Julia's books and series are getting a monster tidal wave of fresh attention.  I wonder how many youngsters (Food Network viewers) will purchase or have purchased for them the classic \"Mastering the Art of French Cooking\" and find it completely overwhelming and not necessarily useful for everyday cooking?I had few cooking skills in the mid 1980s when this book and DVD came out, and I relied on recipes from Fannie Farmer, supermarket recipe cards, and women's magazines.  This series elevated my cooking for good.  It is French influenced, but simplified in some cases, and there are variations on most recipes which is really useful if you don't have time to run to the supermarket.  I have had many variation cookbooks and this is the best.  I have not used the dessert section too much (I prefer Pierre Franey for this--fruit salad with Grand Marnier!), but the bread, meat, and veg sections are the best.  I recommend ham steaks with peas and mashed potatoes and cornish game hen broiled w/cheese.I am so pleased this is out on DVD.  I gathered up the video tapes one-by-one on ebay and this is definitely more affordable!                                                                                                                                                                                                                                                                                                                                                                                                                                                                                                                                                                                                                                                                                                                                                                                                                                                                                                                                                                                                                                                                                                                                                                                                                                                                                                                                                                                                                                                                                                                                                                                                                                                                                                                                                                                                                                                                                                                                                                                                                                                                                                                                                                                                    \n",
       "37  To start off with, I actually have an early release of the dvd, so my stars are based on that, not the cinema.I made it through about six or seven pages on reviews before I decided to write this and from what I see, three subjects usually appear as the reason for bad reviews.The first reason is it is too violent.  We all knew this, before we even went to see it.  It was all over news, media, etc.  We were warned not to take our kids, be prepared for violence, not for the weak of heart.  So, if you went expecting scenes of the beach, then that is your own fault.  I didn't watch it hoping to see a blood bath, but I knew it was coming.I am a very faithful Protestant, and I do see some Catholic overtones in the story, but that is Mel's interpretation and overall I felt it was pretty accurate.  It is interesting to me that all of these people that may or may not have a personal relationship with Jesus, seem to know that if he were here today, he would not support this film.The second reason people complain is because it doesn't tell the full story of Jesus.  It isn't supposed to.  It is the Passion of the Christ, and passion means suffering.  It isn't the story of the Christ or the Gospel of the Christ.  It is basically a Passion play put to cinema.  He isn't trying to show us the teachings of Jesus, he is showing us the suffering of Jesus.  He is showing us what He went through for us.  If you see this movie and aren't moved by the sacrifice that He made for all of us to be free, then you don't get it.  And if you don't understand and you don't get it, then that is ok, I pray someday that you will.The third thing I pick up on in these reviews is that Mel is using it just for profit.  He has made money at ever other movie he has made I am sure, and yet no one ever questions his motives then.  Yet, when he comes out with something of a religious nature when we are in a world that requires us to be politically correct, then he was just doing it for money.  He put up his own money and I personally hope he makes all the money he can off of it, not that he needs it.  So what if there is a director's cut later on?  How may different directors editions or box sets of Lord of the Rings are out there?  I get tired of having to apologize for what I believe.  If someone stands up for an important issue, whatever the hot topic of the week is, then that is their right to voice their opinion and they expect everyone to recieve it and agree.  But if I as a Christian stand up for what I believe, then I am a \"Jesus Freak\" or a \"Fanatic\".  So if you don't agree with me, that is your right, but if I don't believe what you do, then I am narrow minded??  What happened to my right to my own beliefs?While I am still on my soap box, it is amazing to me that people still think this film is anti-semitic.  If you have any knowledge of the history prior to this then you should know that Jews were a large part of this area, so who else would send Jesus to the cross?  He was Jewish, it was just the circumstances.  And if you don't know the history, then read the bible, don't blame Gibson.Back to the movie, I liked the dvd, thought it was a great movie.  I tip my hat to Mel Gibson for having the courage to put his money where his mouth is and put his beliefs to film.God Bless   \n",
       "40  I have never seen a movie as intensley astounding in performance as that of \"The Passion Of The Christ\".  I am 39 years old and I cannot find the words to express to anyone the expanse, magnitude and brilliance that this movie of The Final hours of Jesus Christ has left within me other than an imprint  as deep within as the mystery of the universe itself.As a young catholic growing up, I remember seeing the movie on TV called, \"Francis of Assisi\", starring Bradford Dillman, Dolores Hart (who became an actual nun in 1971) and Stuart Whitman.  It was and is one of the greatest movies in the history of Religious Film Making with The Passion of The Christ as Number One and Francis as Number two.  No film of St. Francis or any kind then, made such an impression on me, that I actually took His name as mine for my Confirmation Name because I became so \"hypnotized\", if you will, that I became more aware that anyone can desire such holiness and attain such (Holy) Valor as Francis did, for me, when I was only 11.Buy this film!!  See \"The Passion of The Christ\" Come Alive for you as you have never seen anything like it ever before!!!So that to see for yourselves what Jesus went through in His Final Hours for our redemption and to accomplish for us something so beautiful through such anguish and pain never before witnessed, that to this day, as I hold the DVD in my hands still unwrapped since I saw it on The Big Screen, it remains in me, as if imprinted on my very soul.Maybe a person may see this film as an atheist and leave it as an atheist, but I know one thing.  They will never die as one, as it is said, likewise, that \"there are no atheists in fox holes\".Peace of \"The Christ\" be with you!RJ                                                                                                                                                                                                                                                                                                                                                                                                                                                                                                                                                                                                                                                                                                                                                                                                                                                                                                                                                                                                                                                                                                                                                                                                                                                                                                                                                                                                                                                                                                                                                                                                                                                        \n",
       "42  I frankly don't know how anybody could dislike this film.  I cannot think of many superior cinemagraphic experiences than viewing \"The Passion of the Chirst.\"  With the soldiers and the Pharisees, it is nearly unfathomable that such hate could be conjured up for one's fellow human beings but there are endless reminders around us today which document that such hate still exists.  Christ in particular remains despised in numerous hearts and locales.The artistic merits of \"The Passion...\" are weighty.  Merely hearing Aramaic and Latin for two hours straight is valuable in itself.  All of the acting is strong and this is even true of the minor roles as one's outrage at the individual soldiers is palpable.The choice for Satan was fascinating as I don't recall ever seeing a more perfectly androgynous human being captured on the big screen.  The way that Mel Gibson \"fleshed out\" Pilate was stupendous, and quite surprising.  In the context of the times, it is possible to feel sympathy for him.  The very small things are what makes the film uniquely memorable, such as the use of flashbacks, the motif of the dove, and the death scene of Judas.  I loved this movie and the DVD was worth the 20 bucks I paid.  Never in my life have I wanted more to more change an ending and never in my life have I been as powerless to do so.                                                                                                                                                                                                                                                                                                                                                                                                                                                                                                                                                                                                                                                                                                                                                                                                                                                                                                                                                                                                                                                                                                                                                                                                                                                                                                                                                                                                                                                                                                                                                                                                                                                                                                                                                                                                                                                                                                                                                                                                                                                   \n",
       "44  I've noticed that many reviewers are complaining because there are no extras on this DVD.  So what!?!  The point of this movie isn't what Mel Gibson or any of the actors think.  The point is what's happening on the screen.  If you don't get that, you don't get the message.  Why cloud the true message with a bunch of talking heads who are only going to say what's been said in countless magazine/newspaper interviews?  This is a powerful movie that needs no explanation.  It captures a part of Jesus' life that has been overly sanitized.  We (Christians) know that Jesus died for us, but how many of us have actually considered \"how\" he died for us?  Watching this movie should make a lot of people sit up and take notice.  It's not an easy movie to watch, but once again, that's the point.  You're supposed to feel uncomfortable.  You're supposed to be horrified by the brutality and callousness of what happened to the Son of God.  Mel Gibson did a magnificent job of capturing the last hours of Jesus' life.  He didn't sugarcoat anything; he didn't downplay any of the \"ugly\" aspects.  I respect him and this movie for that.  This is definitely a movie that stays with you after you watch it.  Hopefully, if you watched it in the right frame of mind, the true message should stay with you for the rest of your life.                                                                                                                                                                                                                                                                                                                                                                                                                                                                                                                                                                                                                                                                                                                                                                                                                                                                                                                                                                                                                                                                                                                                                                                                                                                                                                                                                                                                                                                                                                                                                                                                                                                                                                                                                                                                                                                                                                                                                                                                                                                                \n",
       "\n",
       "     helpful  \n",
       "30  [31, 34]  \n",
       "37  [9, 12]   \n",
       "40  [6, 8]    \n",
       "42  [3, 6]    \n",
       "44  [8, 14]   "
      ]
     },
     "execution_count": 29,
     "metadata": {},
     "output_type": "execute_result"
    }
   ],
   "source": [
    "text_removed[['reviewText','helpful']].head(5)"
   ]
  },
  {
   "cell_type": "code",
   "execution_count": null,
   "metadata": {},
   "outputs": [],
   "source": []
  }
 ],
 "metadata": {
  "kernelspec": {
   "display_name": "Python 3",
   "language": "python",
   "name": "python3"
  },
  "language_info": {
   "codemirror_mode": {
    "name": "ipython",
    "version": 3
   },
   "file_extension": ".py",
   "mimetype": "text/x-python",
   "name": "python",
   "nbconvert_exporter": "python",
   "pygments_lexer": "ipython3",
   "version": "3.7.1"
  }
 },
 "nbformat": 4,
 "nbformat_minor": 2
}
