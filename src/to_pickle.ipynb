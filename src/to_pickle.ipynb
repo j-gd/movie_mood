{
 "cells": [
  {
   "cell_type": "markdown",
   "metadata": {},
   "source": [
    "# Amazon movie comments emotion analysis"
   ]
  },
  {
   "cell_type": "code",
   "execution_count": 1,
   "metadata": {},
   "outputs": [
    {
     "data": {
      "application/javascript": [
       "IPython.notebook.set_autosave_interval(50000)"
      ]
     },
     "metadata": {},
     "output_type": "display_data"
    },
    {
     "name": "stdout",
     "output_type": "stream",
     "text": [
      "Autosaving every 50 seconds\n"
     ]
    }
   ],
   "source": [
    "%autosave 50"
   ]
  },
  {
   "cell_type": "markdown",
   "metadata": {},
   "source": [
    "## Load emotion keyword matrix"
   ]
  },
  {
   "cell_type": "code",
   "execution_count": 1,
   "metadata": {},
   "outputs": [
    {
     "data": {
      "text/plain": [
       "['disgust', 'surprise', 'neutral', 'anger', 'sad', 'happy', 'fear']"
      ]
     },
     "execution_count": 1,
     "metadata": {},
     "output_type": "execute_result"
    }
   ],
   "source": [
    "import csv\n",
    "data_path = '../../datasets/'\n",
    "emotion_keywords_csv = 'andbrainDataSet108.csv'\n",
    "emotions_keywords = {}\n",
    "emotions2 = []\n",
    "with open(data_path + emotion_keywords_csv, mode='r', errors='replace') as csvfile:\n",
    "    reader = csv.reader(csvfile, dialect='excel')\n",
    "    emotions2 = reader.__next__()  # skip headers\n",
    "    for row in reader:\n",
    "        dico = {}\n",
    "        for i in range(1,8):\n",
    "            dico[emotions2[i].strip()] = float(row[i])\n",
    "        emotions_keywords[row[0].strip()] = dico\n",
    "\n",
    "emotions = emotions2[1:]  # ignore the word column\n",
    "emotions"
   ]
  },
  {
   "cell_type": "code",
   "execution_count": 2,
   "metadata": {},
   "outputs": [
    {
     "data": {
      "text/plain": [
       "23729"
      ]
     },
     "execution_count": 2,
     "metadata": {},
     "output_type": "execute_result"
    }
   ],
   "source": [
    "\n",
    "len(emotions_keywords.keys())"
   ]
  },
  {
   "cell_type": "code",
   "execution_count": 5,
   "metadata": {},
   "outputs": [],
   "source": [
    "import pickle\n",
    "with open('keywords_seven_emotions.pickle', 'wb') as handle:\n",
    "    pickle.dump(emotions_keywords, handle, protocol=pickle.HIGHEST_PROTOCOL)\n",
    "handle.close()"
   ]
  }
 ],
 "metadata": {
  "kernelspec": {
   "display_name": "Python 3",
   "language": "python",
   "name": "python3"
  },
  "language_info": {
   "codemirror_mode": {
    "name": "ipython",
    "version": 3
   },
   "file_extension": ".py",
   "mimetype": "text/x-python",
   "name": "python",
   "nbconvert_exporter": "python",
   "pygments_lexer": "ipython3",
   "version": "3.7.1"
  }
 },
 "nbformat": 4,
 "nbformat_minor": 2
}
