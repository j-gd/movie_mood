{
 "cells": [
  {
   "cell_type": "code",
   "execution_count": 1,
   "metadata": {},
   "outputs": [],
   "source": [
    "import numpy as np\n",
    "import pandas as pd\n",
    "import matplotlib.pyplot as plt\n",
    "import seaborn as sns"
   ]
  },
  {
   "cell_type": "code",
   "execution_count": 2,
   "metadata": {},
   "outputs": [],
   "source": [
    "xl_report = 'gbc_500_trees_02_rate_8_depth_5_leaf_sqrt_10k_tfidf results.xlsx'"
   ]
  },
  {
   "cell_type": "code",
   "execution_count": 3,
   "metadata": {},
   "outputs": [],
   "source": [
    "df = pd.read_excel(xl_report)"
   ]
  },
  {
   "cell_type": "code",
   "execution_count": 4,
   "metadata": {},
   "outputs": [
    {
     "data": {
      "text/plain": [
       "0   -0.011106\n",
       "1   -0.025803\n",
       "2   -0.051579\n",
       "3   -0.140816\n",
       "4   -0.013085\n",
       "5   -0.025308\n",
       "6   -0.093726\n",
       "7   -0.139597\n",
       "Name: delta precision, dtype: float64"
      ]
     },
     "execution_count": 4,
     "metadata": {},
     "output_type": "execute_result"
    }
   ],
   "source": [
    "df.head(8)['delta precision']"
   ]
  },
  {
   "cell_type": "code",
   "execution_count": 7,
   "metadata": {},
   "outputs": [
    {
     "name": "stderr",
     "output_type": "stream",
     "text": [
      "/anaconda3/lib/python3.7/site-packages/ipykernel_launcher.py:2: SettingWithCopyWarning: \n",
      "A value is trying to be set on a copy of a slice from a DataFrame.\n",
      "Try using .loc[row_indexer,col_indexer] = value instead\n",
      "\n",
      "See the caveats in the documentation: http://pandas.pydata.org/pandas-docs/stable/indexing.html#indexing-view-versus-copy\n",
      "  \n",
      "/anaconda3/lib/python3.7/site-packages/ipykernel_launcher.py:3: SettingWithCopyWarning: \n",
      "A value is trying to be set on a copy of a slice from a DataFrame.\n",
      "Try using .loc[row_indexer,col_indexer] = value instead\n",
      "\n",
      "See the caveats in the documentation: http://pandas.pydata.org/pandas-docs/stable/indexing.html#indexing-view-versus-copy\n",
      "  This is separate from the ipykernel package so we can avoid doing imports until\n"
     ]
    }
   ],
   "source": [
    "res = df[['case', 'remove', 'percent', 'precision', 'recall']]\n",
    "res['precision'] = res['precision'] * 100\n",
    "res['recall'] = res['recall'] * 100"
   ]
  },
  {
   "cell_type": "code",
   "execution_count": 8,
   "metadata": {},
   "outputs": [
    {
     "data": {
      "text/html": [
       "<div>\n",
       "<style scoped>\n",
       "    .dataframe tbody tr th:only-of-type {\n",
       "        vertical-align: middle;\n",
       "    }\n",
       "\n",
       "    .dataframe tbody tr th {\n",
       "        vertical-align: top;\n",
       "    }\n",
       "\n",
       "    .dataframe thead th {\n",
       "        text-align: right;\n",
       "    }\n",
       "</style>\n",
       "<table border=\"1\" class=\"dataframe\">\n",
       "  <thead>\n",
       "    <tr style=\"text-align: right;\">\n",
       "      <th></th>\n",
       "      <th>case</th>\n",
       "      <th>remove</th>\n",
       "      <th>percent</th>\n",
       "      <th>precision</th>\n",
       "      <th>recall</th>\n",
       "    </tr>\n",
       "  </thead>\n",
       "  <tbody>\n",
       "    <tr>\n",
       "      <th>0</th>\n",
       "      <td>A</td>\n",
       "      <td>obj</td>\n",
       "      <td>20</td>\n",
       "      <td>86.188219</td>\n",
       "      <td>88.402778</td>\n",
       "    </tr>\n",
       "    <tr>\n",
       "      <th>1</th>\n",
       "      <td>A</td>\n",
       "      <td>obj</td>\n",
       "      <td>40</td>\n",
       "      <td>85.924933</td>\n",
       "      <td>89.027778</td>\n",
       "    </tr>\n",
       "    <tr>\n",
       "      <th>2</th>\n",
       "      <td>A</td>\n",
       "      <td>obj</td>\n",
       "      <td>60</td>\n",
       "      <td>86.064982</td>\n",
       "      <td>89.288390</td>\n",
       "    </tr>\n",
       "    <tr>\n",
       "      <th>3</th>\n",
       "      <td>A</td>\n",
       "      <td>obj</td>\n",
       "      <td>80</td>\n",
       "      <td>86.688852</td>\n",
       "      <td>90.687554</td>\n",
       "    </tr>\n",
       "    <tr>\n",
       "      <th>4</th>\n",
       "      <td>A</td>\n",
       "      <td>subj</td>\n",
       "      <td>20</td>\n",
       "      <td>86.107383</td>\n",
       "      <td>89.097222</td>\n",
       "    </tr>\n",
       "    <tr>\n",
       "      <th>5</th>\n",
       "      <td>A</td>\n",
       "      <td>subj</td>\n",
       "      <td>40</td>\n",
       "      <td>86.671177</td>\n",
       "      <td>88.958333</td>\n",
       "    </tr>\n",
       "    <tr>\n",
       "      <th>6</th>\n",
       "      <td>A</td>\n",
       "      <td>subj</td>\n",
       "      <td>60</td>\n",
       "      <td>87.481698</td>\n",
       "      <td>89.513109</td>\n",
       "    </tr>\n",
       "    <tr>\n",
       "      <th>7</th>\n",
       "      <td>A</td>\n",
       "      <td>subj</td>\n",
       "      <td>80</td>\n",
       "      <td>87.126246</td>\n",
       "      <td>91.296780</td>\n",
       "    </tr>\n",
       "    <tr>\n",
       "      <th>8</th>\n",
       "      <td>B</td>\n",
       "      <td>obj</td>\n",
       "      <td>20</td>\n",
       "      <td>85.077650</td>\n",
       "      <td>87.500000</td>\n",
       "    </tr>\n",
       "    <tr>\n",
       "      <th>9</th>\n",
       "      <td>B</td>\n",
       "      <td>obj</td>\n",
       "      <td>40</td>\n",
       "      <td>83.344663</td>\n",
       "      <td>85.138889</td>\n",
       "    </tr>\n",
       "    <tr>\n",
       "      <th>10</th>\n",
       "      <td>B</td>\n",
       "      <td>obj</td>\n",
       "      <td>60</td>\n",
       "      <td>80.907096</td>\n",
       "      <td>82.846442</td>\n",
       "    </tr>\n",
       "    <tr>\n",
       "      <th>11</th>\n",
       "      <td>B</td>\n",
       "      <td>obj</td>\n",
       "      <td>80</td>\n",
       "      <td>72.607261</td>\n",
       "      <td>76.588338</td>\n",
       "    </tr>\n",
       "    <tr>\n",
       "      <th>12</th>\n",
       "      <td>B</td>\n",
       "      <td>subj</td>\n",
       "      <td>20</td>\n",
       "      <td>84.798909</td>\n",
       "      <td>86.388889</td>\n",
       "    </tr>\n",
       "    <tr>\n",
       "      <th>13</th>\n",
       "      <td>B</td>\n",
       "      <td>subj</td>\n",
       "      <td>40</td>\n",
       "      <td>84.140351</td>\n",
       "      <td>83.263889</td>\n",
       "    </tr>\n",
       "    <tr>\n",
       "      <th>14</th>\n",
       "      <td>B</td>\n",
       "      <td>subj</td>\n",
       "      <td>60</td>\n",
       "      <td>78.109091</td>\n",
       "      <td>80.449438</td>\n",
       "    </tr>\n",
       "    <tr>\n",
       "      <th>15</th>\n",
       "      <td>B</td>\n",
       "      <td>subj</td>\n",
       "      <td>80</td>\n",
       "      <td>73.166523</td>\n",
       "      <td>73.803307</td>\n",
       "    </tr>\n",
       "  </tbody>\n",
       "</table>\n",
       "</div>"
      ],
      "text/plain": [
       "   case remove  percent  precision     recall\n",
       "0     A    obj       20  86.188219  88.402778\n",
       "1     A    obj       40  85.924933  89.027778\n",
       "2     A    obj       60  86.064982  89.288390\n",
       "3     A    obj       80  86.688852  90.687554\n",
       "4     A   subj       20  86.107383  89.097222\n",
       "5     A   subj       40  86.671177  88.958333\n",
       "6     A   subj       60  87.481698  89.513109\n",
       "7     A   subj       80  87.126246  91.296780\n",
       "8     B    obj       20  85.077650  87.500000\n",
       "9     B    obj       40  83.344663  85.138889\n",
       "10    B    obj       60  80.907096  82.846442\n",
       "11    B    obj       80  72.607261  76.588338\n",
       "12    B   subj       20  84.798909  86.388889\n",
       "13    B   subj       40  84.140351  83.263889\n",
       "14    B   subj       60  78.109091  80.449438\n",
       "15    B   subj       80  73.166523  73.803307"
      ]
     },
     "execution_count": 8,
     "metadata": {},
     "output_type": "execute_result"
    }
   ],
   "source": [
    "res"
   ]
  },
  {
   "cell_type": "code",
   "execution_count": 27,
   "metadata": {},
   "outputs": [
    {
     "data": {
      "image/png": "[encoded data removed]",
      "text/plain": [
       "<Figure size 576x288 with 1 Axes>"
      ]
     },
     "metadata": {},
     "output_type": "display_data"
    }
   ],
   "source": [
    "with plt.style.context('dark_background'):\n",
    "    sns.set_palette(\"bright\")\n",
    "#     sns.set_palette(sns.color_palette(\"Accent\", 10))\n",
    "\n",
    "    fig, ax = plt.subplots(figsize=(8, 4))\n",
    "\n",
    "    ax = sns.barplot(ax=ax, x=\"percent\", y=\"recall\", hue=\"remove\", data=res, ci=None)\n",
    "#     ax.set(xlabel='% sentences removed', ylabel='Recall %')\n",
    "    ax.set_xlabel(\"% sentences removed\",fontsize=12)\n",
    "    ax.set_ylabel(\"Recall %\",fontsize=12)\n",
    "    ax.set_ylim([80, 90])\n",
    "\n",
    "\n",
    "#     ax.set_title('Impact on recall, of removing review sentences', weight='bold').set_fontsize('16')\n",
    "    # plt.legend.set_title('Removing most objective sentences')\n",
    "    legend = plt.legend(loc='upper right')\n",
    "    legend.set_title('Removing:')\n",
    "\n",
    "    new_labels = ['most objective sentences', 'most subjective sentences']\n",
    "    for t, l in zip(legend.texts, new_labels): t.set_text(l)\n",
    "    "
   ]
  },
  {
   "cell_type": "code",
   "execution_count": 33,
   "metadata": {},
   "outputs": [
    {
     "data": {
      "image/png": "[encoded data removed]",
      "text/plain": [
       "<Figure size 576x288 with 1 Axes>"
      ]
     },
     "metadata": {},
     "output_type": "display_data"
    }
   ],
   "source": [
    "with plt.style.context('dark_background'):\n",
    "\n",
    "    sns.set_palette(\"bright\")\n",
    "    # sns.set_palette(sns.color_palette(\"Accent\", 10))\n",
    "\n",
    "    fig, ax = plt.subplots(figsize=(8, 4))\n",
    "\n",
    "    ax = sns.barplot(ax=ax, x=\"percent\", y=\"precision\", hue=\"remove\", data=res, ci=None)\n",
    "    ax.set(xlabel='% sentences removed', ylabel='Precision %')\n",
    "    ax.set_ylim([79, 90])\n",
    "\n",
    "\n",
    "    # ax.set_title('Impact on precision, of removing review sentences', weight='bold').set_fontsize('14')\n",
    "    # plt.legend.set_title('Removing most objective sentences')\n",
    "    legend = plt.legend(loc='upper right')\n",
    "    legend.set_title('Removing:')\n",
    "    new_labels = ['most objective sentences', 'most subjective sentences']\n",
    "    for t, l in zip(legend.texts, new_labels): t.set_text(l)\n"
   ]
  },
  {
   "cell_type": "code",
   "execution_count": null,
   "metadata": {},
   "outputs": [],
   "source": []
  }
 ],
 "metadata": {
  "kernelspec": {
   "display_name": "Python 3",
   "language": "python",
   "name": "python3"
  },
  "language_info": {
   "codemirror_mode": {
    "name": "ipython",
    "version": 3
   },
   "file_extension": ".py",
   "mimetype": "text/x-python",
   "name": "python",
   "nbconvert_exporter": "python",
   "pygments_lexer": "ipython3",
   "version": "3.7.3"
  }
 },
 "nbformat": 4,
 "nbformat_minor": 2
}
