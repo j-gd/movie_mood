{
 "cells": [
  {
   "cell_type": "code",
   "execution_count": 5,
   "metadata": {},
   "outputs": [],
   "source": [
    "import numpy as np\n",
    "import pandas as pd\n",
    "import pickle\n",
    "import gzip\n",
    "import math\n",
    "import random\n",
    "from sklearn.model_selection import train_test_split\n",
    "\n",
    "data_path = '../../datasets/'"
   ]
  },
  {
   "cell_type": "code",
   "execution_count": 6,
   "metadata": {},
   "outputs": [],
   "source": [
    "pickle_in = open(data_path + \"amzn_2M_skip2M.pkl\",\"rb\")\n",
    "comments_df = pickle.load(pickle_in)"
   ]
  },
  {
   "cell_type": "markdown",
   "metadata": {},
   "source": [
    "# Configuration"
   ]
  },
  {
   "cell_type": "code",
   "execution_count": 31,
   "metadata": {},
   "outputs": [],
   "source": [
    "NB_EACH_CLASS = 90000 # Number of Training + Test samples of each class\n",
    "TEST_RATIO = 0.2 # Test set\n",
    "POS_NEG = True  # Merge 1-2 stars into NEG, 4-5 stars into POS, drop 3"
   ]
  },
  {
   "cell_type": "markdown",
   "metadata": {},
   "source": [
    "## Check that balanced classes can be reached for the requested configuration"
   ]
  },
  {
   "cell_type": "code",
   "execution_count": 32,
   "metadata": {},
   "outputs": [
    {
     "name": "stdout",
     "output_type": "stream",
     "text": [
      "No problem!\n"
     ]
    }
   ],
   "source": [
    "minimum = NB_EACH_CLASS + 10\n",
    "all = {}\n",
    "for i in range(1,6):\n",
    "    all[i] = comments_df[comments_df['overall'] == i]\n",
    "    minimum = min(all[i].shape[0], minimum)\n",
    "if minimum < NB_EACH_CLASS:\n",
    "    print('Maximum for balanced classes is ', minimum)\n",
    "else:\n",
    "    print('No problem!')"
   ]
  },
  {
   "cell_type": "code",
   "execution_count": 33,
   "metadata": {},
   "outputs": [
    {
     "data": {
      "text/html": [
       "<div>\n",
       "<style scoped>\n",
       "    .dataframe tbody tr th:only-of-type {\n",
       "        vertical-align: middle;\n",
       "    }\n",
       "\n",
       "    .dataframe tbody tr th {\n",
       "        vertical-align: top;\n",
       "    }\n",
       "\n",
       "    .dataframe thead th {\n",
       "        text-align: right;\n",
       "    }\n",
       "</style>\n",
       "<table border=\"1\" class=\"dataframe\">\n",
       "  <thead>\n",
       "    <tr style=\"text-align: right;\">\n",
       "      <th></th>\n",
       "      <th>reviewerID</th>\n",
       "      <th>asin</th>\n",
       "      <th>reviewerName</th>\n",
       "      <th>helpful</th>\n",
       "      <th>reviewText</th>\n",
       "      <th>overall</th>\n",
       "      <th>summary</th>\n",
       "      <th>unixReviewTime</th>\n",
       "      <th>reviewTime</th>\n",
       "    </tr>\n",
       "  </thead>\n",
       "  <tbody>\n",
       "    <tr>\n",
       "      <th>0</th>\n",
       "      <td>A3R5OBKS7OM2IR</td>\n",
       "      <td>0000143502</td>\n",
       "      <td>Rebecca L. Johnson</td>\n",
       "      <td>[0, 0]</td>\n",
       "      <td>This has some great tips as always and is help...</td>\n",
       "      <td>5.0</td>\n",
       "      <td>Alton... nough said</td>\n",
       "      <td>1358380800</td>\n",
       "      <td>01 17, 2013</td>\n",
       "    </tr>\n",
       "    <tr>\n",
       "      <th>1</th>\n",
       "      <td>A3R5OBKS7OM2IR</td>\n",
       "      <td>0000143529</td>\n",
       "      <td>Rebecca L. Johnson</td>\n",
       "      <td>[0, 0]</td>\n",
       "      <td>This is a great pastry guide.  I love how Alto...</td>\n",
       "      <td>5.0</td>\n",
       "      <td>Ah Alton...</td>\n",
       "      <td>1380672000</td>\n",
       "      <td>10 2, 2013</td>\n",
       "    </tr>\n",
       "  </tbody>\n",
       "</table>\n",
       "</div>"
      ],
      "text/plain": [
       "       reviewerID        asin        reviewerName helpful  \\\n",
       "0  A3R5OBKS7OM2IR  0000143502  Rebecca L. Johnson  [0, 0]   \n",
       "1  A3R5OBKS7OM2IR  0000143529  Rebecca L. Johnson  [0, 0]   \n",
       "\n",
       "                                          reviewText  overall  \\\n",
       "0  This has some great tips as always and is help...      5.0   \n",
       "1  This is a great pastry guide.  I love how Alto...      5.0   \n",
       "\n",
       "               summary  unixReviewTime   reviewTime  \n",
       "0  Alton... nough said      1358380800  01 17, 2013  \n",
       "1          Ah Alton...      1380672000   10 2, 2013  "
      ]
     },
     "execution_count": 33,
     "metadata": {},
     "output_type": "execute_result"
    }
   ],
   "source": [
    "comments_df.head(2)"
   ]
  },
  {
   "cell_type": "markdown",
   "metadata": {},
   "source": [
    "## Create train and test sets at random, from most recent reviews"
   ]
  },
  {
   "cell_type": "code",
   "execution_count": 34,
   "metadata": {},
   "outputs": [],
   "source": [
    "train_test = {'train': {}, 'test':{}}\n",
    "random.seed(0) # for reproducibility\n",
    "train_idx_filter = np.ones((NB_EACH_CLASS,), dtype=bool)\n",
    "\n",
    "for i in random.sample(range(NB_EACH_CLASS), \n",
    "                                math.floor(NB_EACH_CLASS * TEST_RATIO)):\n",
    "    train_idx_filter[i] = False\n",
    "\n",
    "for i in range(1,6):\n",
    "    #                          use the most recent movies\n",
    "    train_test['train'][i] = all[i][-NB_EACH_CLASS:][train_idx_filter]\n",
    "    train_test['test'][i] = all[i][-NB_EACH_CLASS:][~train_idx_filter]\n",
    "    "
   ]
  },
  {
   "cell_type": "code",
   "execution_count": 35,
   "metadata": {},
   "outputs": [],
   "source": [
    "\n",
    "if POS_NEG:\n",
    "    train_test_pos_neg = {'train':{}, 'test':{}}\n",
    "    train_test_pos_neg['train']['positive'] = pd.concat([\n",
    "        train_test['train'][4],\n",
    "        train_test['train'][5]\n",
    "    ])\n",
    "    train_test_pos_neg['train']['negative'] = pd.concat([\n",
    "        train_test['train'][1],\n",
    "        train_test['train'][2],\n",
    "    ])\n",
    "    train_test_pos_neg['test']['positive'] = pd.concat([\n",
    "        train_test['test'][4],\n",
    "        train_test['test'][5],\n",
    "    ])    \n",
    "    train_test_pos_neg['test']['negative'] = pd.concat([\n",
    "        train_test['test'][1],\n",
    "        train_test['test'][2]\n",
    "    ]) \n",
    "else:\n",
    "    train_test_merged_classes = {}\n",
    "    train_test_merged_classes['train'] = pd.concat([\n",
    "        train_test['train'][1],\n",
    "        train_test['train'][2],\n",
    "        train_test['train'][3],\n",
    "        train_test['train'][4],\n",
    "        train_test['train'][5]\n",
    "    ])\n",
    "    train_test_merged_classes['test'] = pd.concat([\n",
    "        train_test['test'][1],\n",
    "        train_test['test'][2],\n",
    "        train_test['test'][3],\n",
    "        train_test['test'][4],\n",
    "        train_test['test'][5]\n",
    "    ])"
   ]
  },
  {
   "cell_type": "markdown",
   "metadata": {},
   "source": [
    "## Result check"
   ]
  },
  {
   "cell_type": "code",
   "execution_count": 36,
   "metadata": {},
   "outputs": [
    {
     "name": "stdout",
     "output_type": "stream",
     "text": [
      "No problems found\n"
     ]
    }
   ],
   "source": [
    "pb = False\n",
    "if POS_NEG:\n",
    "    if (train_test_pos_neg['train']['positive'].shape[0] \n",
    "                        != NB_EACH_CLASS * 2 * (1-TEST_RATIO)):\n",
    "        pb = True\n",
    "        \n",
    "else:\n",
    "    if ((train_test_merged_classes['train'].shape[0] \n",
    "        + train_test_merged_classes['test'].shape[0] == NB_EACH_CLASS * 5) & \n",
    "        (train_test_merged_classes['train'].shape[0] / (1-TEST_RATIO) == NB_EACH_CLASS * 5)):\n",
    "        pb = True\n",
    "if pb:\n",
    "    print('@@@ There was a problem during creation @@@')\n",
    "else:\n",
    "    print('No problems found')"
   ]
  },
  {
   "cell_type": "markdown",
   "metadata": {},
   "source": [
    "## Save the balanced training set"
   ]
  },
  {
   "cell_type": "code",
   "execution_count": 37,
   "metadata": {},
   "outputs": [],
   "source": [
    "if POS_NEG:\n",
    "    samples_nb = str(NB_EACH_CLASS * 4)\n",
    "    pickle_out = open(data_path + samples_nb + \"_balanced_pos_neg_train_test_reviews.pkl\",\"wb\")\n",
    "    pickle.dump(train_test_pos_neg, pickle_out)    \n",
    "else:\n",
    "    samples_nb = str(NB_EACH_CLASS * 5)\n",
    "    pickle_out = open(data_path + samples_nb + \"_balanced_train_test_reviews.pkl\",\"wb\")\n",
    "    pickle.dump(train_test_merged_classes, pickle_out)\n",
    "\n",
    "pickle_out.close()"
   ]
  },
  {
   "cell_type": "code",
   "execution_count": null,
   "metadata": {},
   "outputs": [],
   "source": []
  }
 ],
 "metadata": {
  "kernelspec": {
   "display_name": "Python 3",
   "language": "python",
   "name": "python3"
  },
  "language_info": {
   "codemirror_mode": {
    "name": "ipython",
    "version": 3
   },
   "file_extension": ".py",
   "mimetype": "text/x-python",
   "name": "python",
   "nbconvert_exporter": "python",
   "pygments_lexer": "ipython3",
   "version": "3.7.1"
  }
 },
 "nbformat": 4,
 "nbformat_minor": 2
}
