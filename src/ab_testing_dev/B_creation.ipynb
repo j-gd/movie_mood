{
 "cells": [
  {
   "cell_type": "markdown",
   "metadata": {},
   "source": [
    "# Hypothesis to test:\n",
    "### Removing objective sentences from reviews helps predict star rating from reviews"
   ]
  },
  {
   "cell_type": "code",
   "execution_count": 1,
   "metadata": {},
   "outputs": [],
   "source": [
    "import numpy as np\n",
    "import pandas as pd\n",
    "import pickle\n",
    "import math\n",
    "from nltk.tokenize import sent_tokenize\n",
    "\n",
    "\n",
    "from IPython.display import Markdown, display"
   ]
  },
  {
   "cell_type": "code",
   "execution_count": 2,
   "metadata": {},
   "outputs": [],
   "source": [
    "import sys\n",
    "sys.path.append('..')"
   ]
  },
  {
   "cell_type": "code",
   "execution_count": 3,
   "metadata": {},
   "outputs": [],
   "source": [
    "# Avoid restarting Kernel\n",
    "%load_ext autoreload\n",
    "%autoreload 2\n",
    "\n",
    "pd.set_option('display.max_colwidth', -1)\n",
    "\n",
    "# %autosave 50"
   ]
  },
  {
   "cell_type": "code",
   "execution_count": 4,
   "metadata": {},
   "outputs": [],
   "source": [
    "# import gzip\n",
    "# import math\n",
    "# import random\n",
    "# from sklearn.feature_extraction.text import TfidfVectorizer\n",
    "# from sklearn.model_selection import train_test_split, GridSearchCV\n",
    "# from sklearn.ensemble import GradientBoostingRegressor, \\\n",
    "# GradientBoostingClassifier, RandomForestClassifier\n",
    "# from sklearn.linear_model import LogisticRegression\n",
    "# from sklearn.pipeline import Pipeline\n",
    "# from sklearn.linear_model import SGDClassifier\n",
    "# from sklearn.metrics import accuracy_score, confusion_matrix, \\\n",
    "# classification_report, make_scorer\n",
    "# import statsmodels.api as sm"
   ]
  },
  {
   "cell_type": "code",
   "execution_count": 5,
   "metadata": {},
   "outputs": [],
   "source": [
    "# From this project\n",
    "# from utils import rmse, rmse_train_cv, classifier_report, confusion_rmse\n",
    "from NLP import WordBag, AboutMovie"
   ]
  },
  {
   "cell_type": "code",
   "execution_count": 6,
   "metadata": {},
   "outputs": [],
   "source": [
    "%reload_ext autoreload\n",
    "from subjective_filter import SubjectiveFilter"
   ]
  },
  {
   "cell_type": "markdown",
   "metadata": {},
   "source": [
    "## Configuration"
   ]
  },
  {
   "cell_type": "code",
   "execution_count": 7,
   "metadata": {},
   "outputs": [],
   "source": [
    "# Subsampling from Amazon reviews\n",
    "NB_SAMPLES = 360000 #4000  # up to 200k, then change the input file\n",
    "\n",
    "data_path = '../../../datasets/'\n"
   ]
  },
  {
   "cell_type": "code",
   "execution_count": null,
   "metadata": {},
   "outputs": [],
   "source": [
    "# file_name = '360000_balanced_train_test_reviews.pkl'\n",
    "file_name = '_balanced_pos_neg_train_test_reviews.pkl'\n",
    "\n",
    "pickle_in = open(data_path + str(NB_SAMPLES) + file_name,\"rb\")\n",
    "train_test_dic0 = pickle.load(pickle_in)"
   ]
  },
  {
   "cell_type": "code",
   "execution_count": null,
   "metadata": {},
   "outputs": [],
   "source": [
    "SAMPLE_FRACTION = 0.4\n",
    "\n",
    "test_dic = {'train': {}, 'test':{}}\n",
    "\n",
    "for i in ['train','test']:\n",
    "    for j in ['positive','negative']:\n",
    "         test_dic[i][j] = train_test_dic0[i][j] \\\n",
    "            .iloc[:math.floor(len(train_test_dic0[i][j].index) * SAMPLE_FRACTION), :] \\\n",
    "            .drop(['reviewerName', 'helpful', 'summary', 'unixReviewTime', 'reviewTime'], axis=1)\n"
   ]
  },
  {
   "cell_type": "code",
   "execution_count": null,
   "metadata": {},
   "outputs": [],
   "source": [
    "# pickle_in = open(data_path\n",
    "#                 + 'movie_reviews_144000Pos_Neg_Samples.pkl'\n",
    "#                 , \"rb\")\n",
    "# test_dic = pickle.load(pickle_in)"
   ]
  },
  {
   "cell_type": "markdown",
   "metadata": {},
   "source": [
    "## Remove objective sentences for case B"
   ]
  },
  {
   "cell_type": "code",
   "execution_count": 12,
   "metadata": {},
   "outputs": [],
   "source": [
    "OBJ_THRESHOLD = 0.8"
   ]
  },
  {
   "cell_type": "code",
   "execution_count": 13,
   "metadata": {},
   "outputs": [],
   "source": [
    "%reload_ext autoreload\n",
    "obj_path = '../obj_subj_dev/'\n",
    "fit_obj_tf = obj_path + 'fit_tfidf_vectorizer_for_obj_subj_sentences_classification.pkl'\n",
    "fit_obj_model = obj_path + 'GBC_300_0.5_5_0.88cv.pkl'\n",
    "subj_filter = SubjectiveFilter(fit_obj_tf, fit_obj_model)"
   ]
  },
  {
   "cell_type": "code",
   "execution_count": 14,
   "metadata": {},
   "outputs": [
    {
     "ename": "NameError",
     "evalue": "name 'test_dic' is not defined",
     "output_type": "error",
     "traceback": [
      "\u001b[0;31m---------------------------------------------------------------------------\u001b[0m",
      "\u001b[0;31mNameError\u001b[0m                                 Traceback (most recent call last)",
      "\u001b[0;32m<ipython-input-14-82c306c86f5d>\u001b[0m in \u001b[0;36m<module>\u001b[0;34m\u001b[0m\n\u001b[1;32m      3\u001b[0m \u001b[0;31m#         print(tt,pn,test_dic[tt][np].shape)\u001b[0m\u001b[0;34m\u001b[0m\u001b[0;34m\u001b[0m\u001b[0;34m\u001b[0m\u001b[0m\n\u001b[1;32m      4\u001b[0m \u001b[0mtotal\u001b[0m \u001b[0;34m=\u001b[0m \u001b[0;36m0\u001b[0m\u001b[0;34m\u001b[0m\u001b[0;34m\u001b[0m\u001b[0m\n\u001b[0;32m----> 5\u001b[0;31m \u001b[0;32mfor\u001b[0m \u001b[0mtt\u001b[0m \u001b[0;32min\u001b[0m \u001b[0mtest_dic\u001b[0m\u001b[0;34m.\u001b[0m\u001b[0mvalues\u001b[0m\u001b[0;34m(\u001b[0m\u001b[0;34m)\u001b[0m\u001b[0;34m:\u001b[0m\u001b[0;34m\u001b[0m\u001b[0;34m\u001b[0m\u001b[0m\n\u001b[0m\u001b[1;32m      6\u001b[0m     \u001b[0;32mfor\u001b[0m \u001b[0mdf\u001b[0m \u001b[0;32min\u001b[0m \u001b[0mtt\u001b[0m\u001b[0;34m.\u001b[0m\u001b[0mvalues\u001b[0m\u001b[0;34m(\u001b[0m\u001b[0;34m)\u001b[0m\u001b[0;34m:\u001b[0m\u001b[0;34m\u001b[0m\u001b[0;34m\u001b[0m\u001b[0m\n\u001b[1;32m      7\u001b[0m         \u001b[0mtotal\u001b[0m \u001b[0;34m+=\u001b[0m \u001b[0mdf\u001b[0m\u001b[0;34m.\u001b[0m\u001b[0mshape\u001b[0m\u001b[0;34m[\u001b[0m\u001b[0;36m0\u001b[0m\u001b[0;34m]\u001b[0m\u001b[0;34m\u001b[0m\u001b[0;34m\u001b[0m\u001b[0m\n",
      "\u001b[0;31mNameError\u001b[0m: name 'test_dic' is not defined"
     ]
    }
   ],
   "source": [
    "# for tt in ['train','test']:\n",
    "#     for pn in ['positive','negative']:\n",
    "#         print(tt,pn,test_dic[tt][np].shape)\n",
    "total = 0\n",
    "for tt in test_dic.values():\n",
    "    for df in tt.values():\n",
    "        total += df.shape[0]\n",
    "        display(df.shape)\n",
    "print(total)"
   ]
  },
  {
   "cell_type": "code",
   "execution_count": null,
   "metadata": {},
   "outputs": [],
   "source": [
    "# test_dic['train']['positive'].iloc[40162:40200,:]"
   ]
  },
  {
   "cell_type": "code",
   "execution_count": null,
   "metadata": {},
   "outputs": [],
   "source": [
    "# from IPython.display import Markdown, display\n",
    "\n",
    "# for tt in test_dic.values():\n",
    "#     for df in tt.values():\n",
    "#         display(df.head(3))"
   ]
  },
  {
   "cell_type": "code",
   "execution_count": null,
   "metadata": {},
   "outputs": [],
   "source": [
    "# type(test_dic['train']['positive']['reviewText'])"
   ]
  },
  {
   "cell_type": "code",
   "execution_count": null,
   "metadata": {},
   "outputs": [],
   "source": [
    "# test = test_dic['train']['positive'].drop(['sentence','words'],axis=1).iloc[:2,:]  # \n",
    "# test"
   ]
  },
  {
   "cell_type": "code",
   "execution_count": null,
   "metadata": {},
   "outputs": [],
   "source": [
    "# res = subj_filter.transform(\n",
    "#             test,\n",
    "#             'reviewText', \n",
    "#             threshold=OBJ_THRESHOLD,\n",
    "#             debug_level=2)"
   ]
  },
  {
   "cell_type": "code",
   "execution_count": null,
   "metadata": {},
   "outputs": [],
   "source": [
    "# tp = subj_filter.transform(\n",
    "#             test_dic['train']['positive'].drop(['sentence','words'],axis=1,errors='ignore'),\n",
    "#             'reviewText', \n",
    "#             threshold=OBJ_THRESHOLD,\n",
    "#             debug_level=2)"
   ]
  },
  {
   "cell_type": "code",
   "execution_count": null,
   "metadata": {},
   "outputs": [],
   "source": [
    "# pickle_out = open(data_path + 'tp_subj_movie_reviews_0.8.pkl', \"wb\")\n",
    "# pickle.dump(movie_reviews, pickle_out)"
   ]
  },
  {
   "cell_type": "code",
   "execution_count": null,
   "metadata": {},
   "outputs": [],
   "source": [
    "df.iloc[:5,:]"
   ]
  },
  {
   "cell_type": "code",
   "execution_count": null,
   "metadata": {},
   "outputs": [],
   "source": [
    "res['test']['negative']"
   ]
  },
  {
   "cell_type": "code",
   "execution_count": null,
   "metadata": {
    "scrolled": true
   },
   "outputs": [],
   "source": [
    "CHUNK_SZ = 5000\n",
    "sent_dfs = {'train':{},'test':{}}\n",
    "\n",
    "for ttname, tt in test_dic.items():\n",
    "    for pn, df in tt.items():\n",
    "        df = df.drop(['sentence','words'],axis=1,errors='ignore')\n",
    "        df_list = []\n",
    "        start = 0\n",
    "        while start < df.shape[0]:\n",
    "            end = start + CHUNK_SZ\n",
    "            df_list.append(\n",
    "                subj_filter.to_one_sent_per_row(\n",
    "                    df.iloc[start:end,:]) \\\n",
    "                .rename(columns={\"sentence\": \"reviewText\"}))\n",
    "            start = end\n",
    "\n",
    "        sent_dfs[ttname][pn] = df_list.pop()\n",
    "        while len(df_list) > 0:\n",
    "            sent_dfs[ttname][pn] = pd.merge(df_list.pop(), \n",
    "                                            sent_dfs[ttname][pn], how='outer')\n",
    "#         res[ttname][pn] = reduce(lambda x, y: pd.merge(x, y, on = ['reviewerID','asin']), dfList)\n"
   ]
  },
  {
   "cell_type": "code",
   "execution_count": null,
   "metadata": {},
   "outputs": [],
   "source": [
    "df1 = sent_dfs['train']['positive']\n",
    "df1[(df1['reviewerID'] == 'A32244V7CQUBD6') & (df1['asin'] == 'B00005QFEK')]"
   ]
  },
  {
   "cell_type": "markdown",
   "metadata": {},
   "source": [
    "## Save / Load"
   ]
  },
  {
   "cell_type": "code",
   "execution_count": null,
   "metadata": {},
   "outputs": [],
   "source": [
    "pickle_out = open(data_path + 'sent_dfs_144k.pkl', \"wb\")\n",
    "pickle.dump(sent_dfs, pickle_out)"
   ]
  },
  {
   "cell_type": "code",
   "execution_count": 8,
   "metadata": {},
   "outputs": [],
   "source": [
    "pickle_in = open(data_path\n",
    "                + 'sent_dfs_144k.pkl'\n",
    "                , \"rb\")\n",
    "sent_dfs = pickle.load(pickle_in)"
   ]
  },
  {
   "cell_type": "code",
   "execution_count": 9,
   "metadata": {},
   "outputs": [
    {
     "data": {
      "text/html": [
       "<div>\n",
       "<style scoped>\n",
       "    .dataframe tbody tr th:only-of-type {\n",
       "        vertical-align: middle;\n",
       "    }\n",
       "\n",
       "    .dataframe tbody tr th {\n",
       "        vertical-align: top;\n",
       "    }\n",
       "\n",
       "    .dataframe thead th {\n",
       "        text-align: right;\n",
       "    }\n",
       "</style>\n",
       "<table border=\"1\" class=\"dataframe\">\n",
       "  <thead>\n",
       "    <tr style=\"text-align: right;\">\n",
       "      <th></th>\n",
       "      <th>reviewerID</th>\n",
       "      <th>asin</th>\n",
       "      <th>overall</th>\n",
       "      <th>reviewText</th>\n",
       "    </tr>\n",
       "  </thead>\n",
       "  <tbody>\n",
       "    <tr>\n",
       "      <th>0</th>\n",
       "      <td>A32244V7CQUBD6</td>\n",
       "      <td>B00005QFEK</td>\n",
       "      <td>4.0</td>\n",
       "      <td>This video actually focuses mostly on one of the characters that Emmanuelle (Krista Allen) is trying to teach about sex &amp; love.</td>\n",
       "    </tr>\n",
       "    <tr>\n",
       "      <th>1</th>\n",
       "      <td>A32244V7CQUBD6</td>\n",
       "      <td>B00005QFEN</td>\n",
       "      <td>4.0</td>\n",
       "      <td>This episode pretty much has Hafron and Emmanuelle teleporting to different parts of the world and &amp;quot;doing it&amp;quot;.</td>\n",
       "    </tr>\n",
       "    <tr>\n",
       "      <th>2</th>\n",
       "      <td>A33KKMGGVLZ29T</td>\n",
       "      <td>B00005QFER</td>\n",
       "      <td>4.0</td>\n",
       "      <td>This is an intimate concert of Robert Mirabal.</td>\n",
       "    </tr>\n",
       "  </tbody>\n",
       "</table>\n",
       "</div>"
      ],
      "text/plain": [
       "       reviewerID        asin  overall  \\\n",
       "0  A32244V7CQUBD6  B00005QFEK  4.0       \n",
       "1  A32244V7CQUBD6  B00005QFEN  4.0       \n",
       "2  A33KKMGGVLZ29T  B00005QFER  4.0       \n",
       "\n",
       "                                                                                                                        reviewText  \n",
       "0  This video actually focuses mostly on one of the characters that Emmanuelle (Krista Allen) is trying to teach about sex & love.  \n",
       "1  This episode pretty much has Hafron and Emmanuelle teleporting to different parts of the world and &quot;doing it&quot;.         \n",
       "2  This is an intimate concert of Robert Mirabal.                                                                                   "
      ]
     },
     "metadata": {},
     "output_type": "display_data"
    },
    {
     "data": {
      "text/html": [
       "<div>\n",
       "<style scoped>\n",
       "    .dataframe tbody tr th:only-of-type {\n",
       "        vertical-align: middle;\n",
       "    }\n",
       "\n",
       "    .dataframe tbody tr th {\n",
       "        vertical-align: top;\n",
       "    }\n",
       "\n",
       "    .dataframe thead th {\n",
       "        text-align: right;\n",
       "    }\n",
       "</style>\n",
       "<table border=\"1\" class=\"dataframe\">\n",
       "  <thead>\n",
       "    <tr style=\"text-align: right;\">\n",
       "      <th></th>\n",
       "      <th>reviewerID</th>\n",
       "      <th>asin</th>\n",
       "      <th>overall</th>\n",
       "      <th>reviewText</th>\n",
       "    </tr>\n",
       "  </thead>\n",
       "  <tbody>\n",
       "    <tr>\n",
       "      <th>0</th>\n",
       "      <td>A3CFT5LHFCB46K</td>\n",
       "      <td>630362572X</td>\n",
       "      <td>1.0</td>\n",
       "      <td>In the book The Official Godzilla Compendium, King Kong Vs Godzilla is described as \"The Jaws of the Japanese film Industry\" or \"One of the great monster battles of cinema history\".</td>\n",
       "    </tr>\n",
       "    <tr>\n",
       "      <th>1</th>\n",
       "      <td>A1O2XS7W1TUI13</td>\n",
       "      <td>630362572X</td>\n",
       "      <td>1.0</td>\n",
       "      <td>Why would someone buy this pan &amp; scan trash?</td>\n",
       "    </tr>\n",
       "    <tr>\n",
       "      <th>2</th>\n",
       "      <td>A2UMZUR8VFEOYB</td>\n",
       "      <td>6303625800</td>\n",
       "      <td>1.0</td>\n",
       "      <td>I wanted to watch with my grandson, but was so disappointed.Story line and content at times was terrible.</td>\n",
       "    </tr>\n",
       "  </tbody>\n",
       "</table>\n",
       "</div>"
      ],
      "text/plain": [
       "       reviewerID        asin  overall  \\\n",
       "0  A3CFT5LHFCB46K  630362572X  1.0       \n",
       "1  A1O2XS7W1TUI13  630362572X  1.0       \n",
       "2  A2UMZUR8VFEOYB  6303625800  1.0       \n",
       "\n",
       "                                                                                                                                                                              reviewText  \n",
       "0  In the book The Official Godzilla Compendium, King Kong Vs Godzilla is described as \"The Jaws of the Japanese film Industry\" or \"One of the great monster battles of cinema history\".  \n",
       "1  Why would someone buy this pan & scan trash?                                                                                                                                           \n",
       "2  I wanted to watch with my grandson, but was so disappointed.Story line and content at times was terrible.                                                                              "
      ]
     },
     "metadata": {},
     "output_type": "display_data"
    },
    {
     "data": {
      "text/html": [
       "<div>\n",
       "<style scoped>\n",
       "    .dataframe tbody tr th:only-of-type {\n",
       "        vertical-align: middle;\n",
       "    }\n",
       "\n",
       "    .dataframe tbody tr th {\n",
       "        vertical-align: top;\n",
       "    }\n",
       "\n",
       "    .dataframe thead th {\n",
       "        text-align: right;\n",
       "    }\n",
       "</style>\n",
       "<table border=\"1\" class=\"dataframe\">\n",
       "  <thead>\n",
       "    <tr style=\"text-align: right;\">\n",
       "      <th></th>\n",
       "      <th>reviewerID</th>\n",
       "      <th>asin</th>\n",
       "      <th>overall</th>\n",
       "      <th>reviewText</th>\n",
       "    </tr>\n",
       "  </thead>\n",
       "  <tbody>\n",
       "    <tr>\n",
       "      <th>0</th>\n",
       "      <td>A2D832OA6Q5ZAS</td>\n",
       "      <td>B00005QFFP</td>\n",
       "      <td>4.0</td>\n",
       "      <td>What a pleasure to see this peerless diva perform -- she is the purest example of her art that I have ever known.</td>\n",
       "    </tr>\n",
       "    <tr>\n",
       "      <th>1</th>\n",
       "      <td>A1JF78EP4GPAOO</td>\n",
       "      <td>B00005QG2N</td>\n",
       "      <td>4.0</td>\n",
       "      <td>The concert is fantastic as are the videos and Cradle of Fear trailer.</td>\n",
       "    </tr>\n",
       "    <tr>\n",
       "      <th>2</th>\n",
       "      <td>AQ7K219573Z8P</td>\n",
       "      <td>B00005QIVF</td>\n",
       "      <td>4.0</td>\n",
       "      <td>Lau Ching Wan gives a strong but over-the-top performance as a very rough and mean natured gangster just out of prison, who has been abandoned by his gang.</td>\n",
       "    </tr>\n",
       "  </tbody>\n",
       "</table>\n",
       "</div>"
      ],
      "text/plain": [
       "       reviewerID        asin  overall  \\\n",
       "0  A2D832OA6Q5ZAS  B00005QFFP  4.0       \n",
       "1  A1JF78EP4GPAOO  B00005QG2N  4.0       \n",
       "2  AQ7K219573Z8P   B00005QIVF  4.0       \n",
       "\n",
       "                                                                                                                                                    reviewText  \n",
       "0  What a pleasure to see this peerless diva perform -- she is the purest example of her art that I have ever known.                                            \n",
       "1  The concert is fantastic as are the videos and Cradle of Fear trailer.                                                                                       \n",
       "2  Lau Ching Wan gives a strong but over-the-top performance as a very rough and mean natured gangster just out of prison, who has been abandoned by his gang.  "
      ]
     },
     "metadata": {},
     "output_type": "display_data"
    },
    {
     "data": {
      "text/html": [
       "<div>\n",
       "<style scoped>\n",
       "    .dataframe tbody tr th:only-of-type {\n",
       "        vertical-align: middle;\n",
       "    }\n",
       "\n",
       "    .dataframe tbody tr th {\n",
       "        vertical-align: top;\n",
       "    }\n",
       "\n",
       "    .dataframe thead th {\n",
       "        text-align: right;\n",
       "    }\n",
       "</style>\n",
       "<table border=\"1\" class=\"dataframe\">\n",
       "  <thead>\n",
       "    <tr style=\"text-align: right;\">\n",
       "      <th></th>\n",
       "      <th>reviewerID</th>\n",
       "      <th>asin</th>\n",
       "      <th>overall</th>\n",
       "      <th>reviewText</th>\n",
       "    </tr>\n",
       "  </thead>\n",
       "  <tbody>\n",
       "    <tr>\n",
       "      <th>0</th>\n",
       "      <td>A175U4QHQUXC69</td>\n",
       "      <td>6303625800</td>\n",
       "      <td>1.0</td>\n",
       "      <td>The DVD would not play anything but the selection page for color or black and white version.</td>\n",
       "    </tr>\n",
       "    <tr>\n",
       "      <th>1</th>\n",
       "      <td>A46HSTZBUZ5ZH</td>\n",
       "      <td>6303625800</td>\n",
       "      <td>1.0</td>\n",
       "      <td>Being a definitive fan of Laurel and Hardy, and having a special place in my heart for \"Babes In Toyland\" (aka \"March of the Wooden Soldiers\"), I was excited to add another version to my DVD collection.Alas, the colorization from Legend Films is a big disappointment.</td>\n",
       "    </tr>\n",
       "    <tr>\n",
       "      <th>2</th>\n",
       "      <td>A3KEABH9BZ1MPB</td>\n",
       "      <td>6303625800</td>\n",
       "      <td>1.0</td>\n",
       "      <td>The adults found it very boring and the children ages 8 and 10 said it was just ok</td>\n",
       "    </tr>\n",
       "  </tbody>\n",
       "</table>\n",
       "</div>"
      ],
      "text/plain": [
       "       reviewerID        asin  overall  \\\n",
       "0  A175U4QHQUXC69  6303625800  1.0       \n",
       "1  A46HSTZBUZ5ZH   6303625800  1.0       \n",
       "2  A3KEABH9BZ1MPB  6303625800  1.0       \n",
       "\n",
       "                                                                                                                                                                                                                                                                    reviewText  \n",
       "0  The DVD would not play anything but the selection page for color or black and white version.                                                                                                                                                                                 \n",
       "1  Being a definitive fan of Laurel and Hardy, and having a special place in my heart for \"Babes In Toyland\" (aka \"March of the Wooden Soldiers\"), I was excited to add another version to my DVD collection.Alas, the colorization from Legend Films is a big disappointment.  \n",
       "2  The adults found it very boring and the children ages 8 and 10 said it was just ok                                                                                                                                                                                           "
      ]
     },
     "metadata": {},
     "output_type": "display_data"
    }
   ],
   "source": [
    "for ttname, tt in sent_dfs.items():\n",
    "    for pn, df in tt.items():\n",
    "        display(df.head(3))"
   ]
  },
  {
   "cell_type": "code",
   "execution_count": 16,
   "metadata": {},
   "outputs": [
    {
     "data": {
      "text/html": [
       "<div>\n",
       "<style scoped>\n",
       "    .dataframe tbody tr th:only-of-type {\n",
       "        vertical-align: middle;\n",
       "    }\n",
       "\n",
       "    .dataframe tbody tr th {\n",
       "        vertical-align: top;\n",
       "    }\n",
       "\n",
       "    .dataframe thead th {\n",
       "        text-align: right;\n",
       "    }\n",
       "</style>\n",
       "<table border=\"1\" class=\"dataframe\">\n",
       "  <thead>\n",
       "    <tr style=\"text-align: right;\">\n",
       "      <th></th>\n",
       "      <th>reviewerID</th>\n",
       "      <th>asin</th>\n",
       "      <th>overall</th>\n",
       "      <th>reviewText</th>\n",
       "    </tr>\n",
       "  </thead>\n",
       "  <tbody>\n",
       "    <tr>\n",
       "      <th>0</th>\n",
       "      <td>A32244V7CQUBD6</td>\n",
       "      <td>B00005QFEK</td>\n",
       "      <td>4.0</td>\n",
       "      <td>This video actually focuses mostly on one of the characters that Emmanuelle (Krista Allen) is trying to teach about sex &amp; love.</td>\n",
       "    </tr>\n",
       "    <tr>\n",
       "      <th>5001</th>\n",
       "      <td>A32244V7CQUBD6</td>\n",
       "      <td>B00005QFEK</td>\n",
       "      <td>4.0</td>\n",
       "      <td>It's still pretty entertaining but if you are mostly interested in Kirsta Allen then you should know that she's not really in much of this episode.</td>\n",
       "    </tr>\n",
       "  </tbody>\n",
       "</table>\n",
       "</div>"
      ],
      "text/plain": [
       "          reviewerID        asin  overall  \\\n",
       "0     A32244V7CQUBD6  B00005QFEK  4.0       \n",
       "5001  A32244V7CQUBD6  B00005QFEK  4.0       \n",
       "\n",
       "                                                                                                                                               reviewText  \n",
       "0     This video actually focuses mostly on one of the characters that Emmanuelle (Krista Allen) is trying to teach about sex & love.                      \n",
       "5001  It's still pretty entertaining but if you are mostly interested in Kirsta Allen then you should know that she's not really in much of this episode.  "
      ]
     },
     "execution_count": 16,
     "metadata": {},
     "output_type": "execute_result"
    }
   ],
   "source": [
    "df1 = sent_dfs['train']['positive']\n",
    "df1[(df1['reviewerID'] == 'A32244V7CQUBD6') & (df1['asin'] == 'B00005QFEK')]"
   ]
  },
  {
   "cell_type": "markdown",
   "metadata": {},
   "source": [
    "## Remove obj sentences"
   ]
  },
  {
   "cell_type": "code",
   "execution_count": null,
   "metadata": {},
   "outputs": [],
   "source": [
    "# Crashes kernel\n",
    "# DROP_RATIO = 0.15\n",
    "\n",
    "# subj_dfs = {'train':{},'test':{}}\n",
    "\n",
    "# for ttname, tt in sent_dfs.items():\n",
    "#     for pn, df in tt.items():\n",
    "#            subj_dfs[ttname][pn] = subj_filter.transform(\n",
    "#                     df,\n",
    "#                     'reviewText', \n",
    "#                     threshold = None,\n",
    "#                     debug_level=0,\n",
    "#                     switch=True,\n",
    "#                     drop_ratio=DROP_RATIO)"
   ]
  },
  {
   "cell_type": "code",
   "execution_count": 15,
   "metadata": {},
   "outputs": [
    {
     "data": {
      "text/markdown": [
       "#### => Removed 7500 (15%) objective sentences"
      ],
      "text/plain": [
       "<IPython.core.display.Markdown object>"
      ]
     },
     "metadata": {},
     "output_type": "display_data"
    },
    {
     "data": {
      "text/markdown": [
       "#### => Removed 7500 (15%) objective sentences"
      ],
      "text/plain": [
       "<IPython.core.display.Markdown object>"
      ]
     },
     "metadata": {},
     "output_type": "display_data"
    },
    {
     "data": {
      "text/markdown": [
       "#### => Removed 7500 (15%) objective sentences"
      ],
      "text/plain": [
       "<IPython.core.display.Markdown object>"
      ]
     },
     "metadata": {},
     "output_type": "display_data"
    },
    {
     "data": {
      "text/markdown": [
       "#### => Removed 7500 (15%) objective sentences"
      ],
      "text/plain": [
       "<IPython.core.display.Markdown object>"
      ]
     },
     "metadata": {},
     "output_type": "display_data"
    },
    {
     "data": {
      "text/markdown": [
       "#### => Removed 7500 (15%) objective sentences"
      ],
      "text/plain": [
       "<IPython.core.display.Markdown object>"
      ]
     },
     "metadata": {},
     "output_type": "display_data"
    },
    {
     "data": {
      "text/markdown": [
       "#### => Removed 7500 (15%) objective sentences"
      ],
      "text/plain": [
       "<IPython.core.display.Markdown object>"
      ]
     },
     "metadata": {},
     "output_type": "display_data"
    },
    {
     "data": {
      "text/markdown": [
       "#### => Removed 7500 (15%) objective sentences"
      ],
      "text/plain": [
       "<IPython.core.display.Markdown object>"
      ]
     },
     "metadata": {},
     "output_type": "display_data"
    },
    {
     "data": {
      "text/markdown": [
       "#### => Removed 7500 (15%) objective sentences"
      ],
      "text/plain": [
       "<IPython.core.display.Markdown object>"
      ]
     },
     "metadata": {},
     "output_type": "display_data"
    },
    {
     "data": {
      "text/markdown": [
       "#### => Removed 5249 (15%) objective sentences"
      ],
      "text/plain": [
       "<IPython.core.display.Markdown object>"
      ]
     },
     "metadata": {},
     "output_type": "display_data"
    },
    {
     "data": {
      "text/markdown": [
       "#### => Removed 7500 (15%) objective sentences"
      ],
      "text/plain": [
       "<IPython.core.display.Markdown object>"
      ]
     },
     "metadata": {},
     "output_type": "display_data"
    },
    {
     "data": {
      "text/markdown": [
       "#### => Removed 7500 (15%) objective sentences"
      ],
      "text/plain": [
       "<IPython.core.display.Markdown object>"
      ]
     },
     "metadata": {},
     "output_type": "display_data"
    },
    {
     "data": {
      "text/markdown": [
       "#### => Removed 7500 (15%) objective sentences"
      ],
      "text/plain": [
       "<IPython.core.display.Markdown object>"
      ]
     },
     "metadata": {},
     "output_type": "display_data"
    },
    {
     "data": {
      "text/markdown": [
       "#### => Removed 7500 (15%) objective sentences"
      ],
      "text/plain": [
       "<IPython.core.display.Markdown object>"
      ]
     },
     "metadata": {},
     "output_type": "display_data"
    },
    {
     "data": {
      "text/markdown": [
       "#### => Removed 7500 (15%) objective sentences"
      ],
      "text/plain": [
       "<IPython.core.display.Markdown object>"
      ]
     },
     "metadata": {},
     "output_type": "display_data"
    },
    {
     "data": {
      "text/markdown": [
       "#### => Removed 7500 (15%) objective sentences"
      ],
      "text/plain": [
       "<IPython.core.display.Markdown object>"
      ]
     },
     "metadata": {},
     "output_type": "display_data"
    },
    {
     "data": {
      "text/markdown": [
       "#### => Removed 7500 (15%) objective sentences"
      ],
      "text/plain": [
       "<IPython.core.display.Markdown object>"
      ]
     },
     "metadata": {},
     "output_type": "display_data"
    },
    {
     "data": {
      "text/markdown": [
       "#### => Removed 6763 (15%) objective sentences"
      ],
      "text/plain": [
       "<IPython.core.display.Markdown object>"
      ]
     },
     "metadata": {},
     "output_type": "display_data"
    },
    {
     "data": {
      "text/markdown": [
       "#### => Removed 7500 (15%) objective sentences"
      ],
      "text/plain": [
       "<IPython.core.display.Markdown object>"
      ]
     },
     "metadata": {},
     "output_type": "display_data"
    },
    {
     "data": {
      "text/markdown": [
       "#### => Removed 7500 (15%) objective sentences"
      ],
      "text/plain": [
       "<IPython.core.display.Markdown object>"
      ]
     },
     "metadata": {},
     "output_type": "display_data"
    },
    {
     "data": {
      "text/markdown": [
       "#### => Removed 1481 (15%) objective sentences"
      ],
      "text/plain": [
       "<IPython.core.display.Markdown object>"
      ]
     },
     "metadata": {},
     "output_type": "display_data"
    },
    {
     "data": {
      "text/markdown": [
       "#### => Removed 7500 (15%) objective sentences"
      ],
      "text/plain": [
       "<IPython.core.display.Markdown object>"
      ]
     },
     "metadata": {},
     "output_type": "display_data"
    },
    {
     "data": {
      "text/markdown": [
       "#### => Removed 7500 (15%) objective sentences"
      ],
      "text/plain": [
       "<IPython.core.display.Markdown object>"
      ]
     },
     "metadata": {},
     "output_type": "display_data"
    },
    {
     "data": {
      "text/markdown": [
       "#### => Removed 143 (15%) objective sentences"
      ],
      "text/plain": [
       "<IPython.core.display.Markdown object>"
      ]
     },
     "metadata": {},
     "output_type": "display_data"
    }
   ],
   "source": [
    "%reload_ext autoreload\n",
    "from subjective_filter import SubjectiveFilter\n",
    "\n",
    "DROP_RATIO = 0.15\n",
    "CHUNK_SZ = 50000\n",
    "subj_dfs = {'train':{},'test':{}}\n",
    "\n",
    "for ttname, tt in sent_dfs.items():\n",
    "    for pn, df in tt.items():\n",
    "        df_list = []\n",
    "        start = 0\n",
    "        while start < df.shape[0]:\n",
    "            end = start + CHUNK_SZ\n",
    "            df_list.append(\n",
    "                subj_filter.transform(\n",
    "                    df.iloc[start:end,:],\n",
    "                    'reviewText', \n",
    "                    threshold = None,\n",
    "                    debug_level=0,\n",
    "                    switch=True,\n",
    "                    drop_ratio=DROP_RATIO))      \n",
    "            start = end\n",
    "\n",
    "        subj_dfs[ttname][pn] = df_list.pop()\n",
    "        while len(df_list) > 0:\n",
    "            subj_dfs[ttname][pn] = pd.merge(df_list.pop(), \n",
    "                                            subj_dfs[ttname][pn], how='outer')"
   ]
  },
  {
   "cell_type": "code",
   "execution_count": 17,
   "metadata": {},
   "outputs": [
    {
     "data": {
      "text/html": [
       "<div>\n",
       "<style scoped>\n",
       "    .dataframe tbody tr th:only-of-type {\n",
       "        vertical-align: middle;\n",
       "    }\n",
       "\n",
       "    .dataframe tbody tr th {\n",
       "        vertical-align: top;\n",
       "    }\n",
       "\n",
       "    .dataframe thead th {\n",
       "        text-align: right;\n",
       "    }\n",
       "</style>\n",
       "<table border=\"1\" class=\"dataframe\">\n",
       "  <thead>\n",
       "    <tr style=\"text-align: right;\">\n",
       "      <th></th>\n",
       "      <th>reviewerID</th>\n",
       "      <th>asin</th>\n",
       "      <th>reviewText</th>\n",
       "      <th>overall</th>\n",
       "    </tr>\n",
       "  </thead>\n",
       "  <tbody>\n",
       "    <tr>\n",
       "      <th>5410</th>\n",
       "      <td>A32244V7CQUBD6</td>\n",
       "      <td>B00005QFEK</td>\n",
       "      <td>It's still pretty entertaining but if you are mostly interested in Kirsta Allen then you should know that she's not really in much of this episode. This video actually focuses mostly on one of the characters that Emmanuelle (Krista Allen) is trying to teach about sex &amp; love.</td>\n",
       "      <td>4.0</td>\n",
       "    </tr>\n",
       "  </tbody>\n",
       "</table>\n",
       "</div>"
      ],
      "text/plain": [
       "          reviewerID        asin  \\\n",
       "5410  A32244V7CQUBD6  B00005QFEK   \n",
       "\n",
       "                                                                                                                                                                                                                                                                                reviewText  \\\n",
       "5410   It's still pretty entertaining but if you are mostly interested in Kirsta Allen then you should know that she's not really in much of this episode. This video actually focuses mostly on one of the characters that Emmanuelle (Krista Allen) is trying to teach about sex & love.   \n",
       "\n",
       "      overall  \n",
       "5410  4.0      "
      ]
     },
     "execution_count": 17,
     "metadata": {},
     "output_type": "execute_result"
    }
   ],
   "source": [
    "df1 = subj_dfs['train']['positive']\n",
    "df1[(df1['reviewerID'] == 'A32244V7CQUBD6') & (df1['asin'] == 'B00005QFEK')]"
   ]
  },
  {
   "cell_type": "code",
   "execution_count": null,
   "metadata": {},
   "outputs": [],
   "source": [
    "# TEST connection\n",
    "# CHUNK_SZ = 5\n",
    "# subj_dfs = {'train':{},'test':{}}\n",
    "# df_test = pd.DataFrame({'A': [1,2,3,4,5,6], 'B':[1,2,3,4,5,6]})\n",
    "\n",
    "# df_list = []\n",
    "# start = 0\n",
    "# while start < df_test.shape[0]:\n",
    "#     end = start + CHUNK_SZ\n",
    "#     df_list.append(df_test.iloc[start:end,:])\n",
    "#     start = end\n",
    "\n",
    "# out = df_list.pop()\n",
    "# while len(df_list) > 0:\n",
    "#     out = pd.merge(df_list.pop(), out, how='outer')\n",
    "# out"
   ]
  },
  {
   "cell_type": "code",
   "execution_count": null,
   "metadata": {},
   "outputs": [],
   "source": [
    "# for ttname, tt in sent_dfs.items():\n",
    "#     for pn, df in tt.items():\n",
    "#         subj_filter.transform(\n",
    "#             df.rename(columns={\"reviewText\": \"sentence\"}),\n",
    "#             'reviewText', \n",
    "#             threshold = None,\n",
    "#             debug_level=0,\n",
    "#             switch=True,\n",
    "#             drop_ratio=0.15)\n",
    "#         .rename(columns={\"sentence\": \"reviewText\"})"
   ]
  },
  {
   "cell_type": "code",
   "execution_count": null,
   "metadata": {},
   "outputs": [],
   "source": [
    "total = 0\n",
    "old_total = 0\n",
    "for tt in ['train', 'test']:\n",
    "    for pn in ['positive', 'negative']:\n",
    "        print('\\n {} {}'.format(tt,pn))\n",
    "        tot = test_dic[tt][pn].shape[0]\n",
    "        new = subj_dfs[tt][pn].shape[0]\n",
    "        dropped = tot - new\n",
    "        print('Dropped: {0} ({1:.1%})'.format(dropped, dropped/tot))\n",
    "        total += new\n",
    "        old_total += tot\n",
    "print('\\nOld total:', old_total)\n",
    "print('New total:', total)\n",
    "print('Removed a total of:', old_total - total)"
   ]
  },
  {
   "cell_type": "code",
   "execution_count": 20,
   "metadata": {},
   "outputs": [],
   "source": [
    "pickle_out = open(data_path\n",
    "                    + 'reviews_wout_most_subj_' + str(DROP_RATIO) + '.pkl'\n",
    "                    , \"wb\")\n",
    "pickle.dump(subj_dfs, pickle_out)\n",
    "pickle_out.close()"
   ]
  },
  {
   "cell_type": "code",
   "execution_count": null,
   "metadata": {},
   "outputs": [],
   "source": []
  }
 ],
 "metadata": {
  "kernelspec": {
   "display_name": "Python 3",
   "language": "python",
   "name": "python3"
  },
  "language_info": {
   "codemirror_mode": {
    "name": "ipython",
    "version": 3
   },
   "file_extension": ".py",
   "mimetype": "text/x-python",
   "name": "python",
   "nbconvert_exporter": "python",
   "pygments_lexer": "ipython3",
   "version": "3.7.3"
  }
 },
 "nbformat": 4,
 "nbformat_minor": 2
}
