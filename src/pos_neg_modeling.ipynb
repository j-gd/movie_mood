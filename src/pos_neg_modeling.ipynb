{
 "cells": [
  {
   "cell_type": "markdown",
   "metadata": {},
   "source": [
    "# Hypothesis to test: \n",
    "### Removing objective sentences from reviews helps predict star rating from reviews"
   ]
  },
  {
   "cell_type": "code",
   "execution_count": 1,
   "metadata": {},
   "outputs": [],
   "source": [
    "import numpy as np\n",
    "import pandas as pd\n",
    "import pickle\n",
    "import gzip\n",
    "import math\n",
    "import random\n",
    "from IPython.display import Markdown, display\n",
    "from sklearn.feature_extraction.text import TfidfVectorizer\n",
    "from sklearn.model_selection import train_test_split, GridSearchCV\n",
    "from sklearn.ensemble import GradientBoostingRegressor, \\\n",
    "GradientBoostingClassifier, RandomForestClassifier\n",
    "from sklearn.linear_model import LogisticRegression\n",
    "from sklearn.pipeline import Pipeline\n",
    "from sklearn.linear_model import SGDClassifier\n",
    "from sklearn.metrics import accuracy_score, confusion_matrix, \\\n",
    "classification_report, make_scorer\n",
    "import statsmodels.api as sm\n",
    "\n",
    "# From this project\n",
    "from utils import rmse, rmse_train_cv, classifier_report, confusion_rmse\n",
    "from NLPv0 import WordBag, AboutMovie\n",
    "\n",
    "\n",
    "# Avoid restarting Kernel\n",
    "%load_ext autoreload\n",
    "%autoreload 2\n",
    "\n",
    "pd.set_option('display.max_colwidth', -1)\n",
    "\n",
    "# %autosave 50"
   ]
  },
  {
   "cell_type": "code",
   "execution_count": 2,
   "metadata": {},
   "outputs": [],
   "source": [
    "%reload_ext autoreload\n",
    "word_bag = WordBag()"
   ]
  },
  {
   "cell_type": "markdown",
   "metadata": {},
   "source": [
    "## Configuration"
   ]
  },
  {
   "cell_type": "code",
   "execution_count": 3,
   "metadata": {},
   "outputs": [],
   "source": [
    "# Subsampling from Amazon reviews\n",
    "NB_SAMPLES = 360000 #4000  # up to 200k, then change the input file\n",
    "\n",
    "data_path = '../../datasets/'"
   ]
  },
  {
   "cell_type": "code",
   "execution_count": 5,
   "metadata": {},
   "outputs": [],
   "source": [
    "# 0.4*360"
   ]
  },
  {
   "cell_type": "markdown",
   "metadata": {},
   "source": [
    "## Get users' positive and negative reviews"
   ]
  },
  {
   "cell_type": "code",
   "execution_count": null,
   "metadata": {},
   "outputs": [],
   "source": [
    "# # file_name = '360000_balanced_train_test_reviews.pkl'\n",
    "# file_name = '_balanced_pos_neg_train_test_reviews.pkl'\n",
    "\n",
    "# pickle_in = open(data_path + str(NB_SAMPLES) + file_name,\"rb\")\n",
    "# train_test_dic0 = pickle.load(pickle_in)"
   ]
  },
  {
   "cell_type": "markdown",
   "metadata": {},
   "source": [
    "## Subsample"
   ]
  },
  {
   "cell_type": "code",
   "execution_count": 30,
   "metadata": {},
   "outputs": [],
   "source": [
    "SAMPLE_FRACTION = 0.4\n",
    "\n",
    "# train_test_dic = {'train': {}, 'test':{}}\n",
    "\n",
    "# for i in ['train','test']:\n",
    "#     for j in ['positive','negative']:\n",
    "#          train_test_dic[i][j] = train_test_dic0[i][j] \\\n",
    "#             .iloc[:math.floor(len(train_test_dic0[i][j].index) * SAMPLE_FRACTION), :] \\\n",
    "#             .drop(['reviewerName', 'helpful', 'summary', 'unixReviewTime', 'reviewTime'], axis=1)"
   ]
  },
  {
   "cell_type": "code",
   "execution_count": 6,
   "metadata": {},
   "outputs": [],
   "source": []
  },
  {
   "cell_type": "code",
   "execution_count": 8,
   "metadata": {},
   "outputs": [
    {
     "data": {
      "text/html": [
       "<div>\n",
       "<style scoped>\n",
       "    .dataframe tbody tr th:only-of-type {\n",
       "        vertical-align: middle;\n",
       "    }\n",
       "\n",
       "    .dataframe tbody tr th {\n",
       "        vertical-align: top;\n",
       "    }\n",
       "\n",
       "    .dataframe thead th {\n",
       "        text-align: right;\n",
       "    }\n",
       "</style>\n",
       "<table border=\"1\" class=\"dataframe\">\n",
       "  <thead>\n",
       "    <tr style=\"text-align: right;\">\n",
       "      <th></th>\n",
       "      <th>asin</th>\n",
       "      <th>reviewerID</th>\n",
       "      <th>reviewText</th>\n",
       "      <th>overall</th>\n",
       "    </tr>\n",
       "  </thead>\n",
       "  <tbody>\n",
       "    <tr>\n",
       "      <th>0</th>\n",
       "      <td>0</td>\n",
       "      <td>A32244V7CQUBD6</td>\n",
       "      <td>This video actually focuses mostly on one of the characters that Emmanuelle (Krista Allen) is trying to teach about sex &amp; love. It's still pretty entertaining but if you are mostly interested in Kirsta Allen then you should know that she's not really in much of this episode.</td>\n",
       "      <td>4.0</td>\n",
       "    </tr>\n",
       "    <tr>\n",
       "      <th>1</th>\n",
       "      <td>1</td>\n",
       "      <td>A32244V7CQUBD6</td>\n",
       "      <td>This episode pretty much has Hafron and Emmanuelle teleporting to different parts of the world and &amp;quot;doing it&amp;quot;. There is the continuing plot from an earlier episode of some group on Earth trying to track them down. That's the main reason for Emmanuelle and Hafron to jump to different parts of the world. Otherwise, this episode is mostly sex scenes.</td>\n",
       "      <td>4.0</td>\n",
       "    </tr>\n",
       "    <tr>\n",
       "      <th>2</th>\n",
       "      <td>2</td>\n",
       "      <td>A33KKMGGVLZ29T</td>\n",
       "      <td>This is an intimate concert of Robert Mirabal.  Although I thought that it was, as I said, masterful, the sound, at times sounded a little muffled.The storytelling of the songs gave an insight of native culture and of Mirabal's own family stories and history.The Dance and Ee You Oo are my picks for the best songs, but they are all a joy to watch.  The Rare Tribal Mob and the Mirabal Singers/Dancers are great and provide a mesmerising stage performance.Very enjoyable</td>\n",
       "      <td>4.0</td>\n",
       "    </tr>\n",
       "    <tr>\n",
       "      <th>3</th>\n",
       "      <td>3</td>\n",
       "      <td>A33P47VEH0YULL</td>\n",
       "      <td>A well put together DVD for the \"Stinkiest band\" in the world.  Easy to navigate, and with some pretty interesting side notes...a great collectors item for any fan of Cradle of Filth or Swedish metal.</td>\n",
       "      <td>4.0</td>\n",
       "    </tr>\n",
       "    <tr>\n",
       "      <th>4</th>\n",
       "      <td>4</td>\n",
       "      <td>ADG33WELAQRZJ</td>\n",
       "      <td>Great show from the inventors of the extreme gothic metal genre !! 75'of pure mayhem with good visuals and a great sound, although the vocals are a little high in the mix for my taste and the guitar on the right channel is 10 times louder than the one on the left so I ended up switching it to mono to even things up. It's hard to give this more stars esp. when you've watched the PTSFirepower DVD first like I did, that one is so much better. The 5 bonus videoclips totally rule and round up the package making the purchase a worthy one.Now the mockumentary may not be suited to everyone's tastes, personally it bored me and know of a lot of people who feels it ruins the band's image. Well don't watch it then.</td>\n",
       "      <td>4.0</td>\n",
       "    </tr>\n",
       "    <tr>\n",
       "      <th>5</th>\n",
       "      <td>5</td>\n",
       "      <td>A3YXITJWFW4BW</td>\n",
       "      <td>I rented this dvd, i didnt buy it.  I also rented PanDamonAeon and Mannequin.  This dvd has excellent very long concert footage.  Its practically the same songs as on Livebait for the Dead.  And then we have the rest of the dvd.  Im sorry, i love CoF but that \"schockumentary\" thing was just sad.  I could barely stand to watch it.  It's stupid and boring, maybe if theyd shown more of the band in a more coherent manner...and it just goes on and on forever.  This is a 2 hour plus dvd adn half of it is crap.  The \"blair twit Project\" is slightly amusing, but mostly boring.  The music videos are good though.  I would still recommend buying this dvd just for the music videos and the concert footage.  PanDamonAeon gave me more joy though.</td>\n",
       "      <td>4.0</td>\n",
       "    </tr>\n",
       "    <tr>\n",
       "      <th>6</th>\n",
       "      <td>6</td>\n",
       "      <td>A214NHULS3H7OX</td>\n",
       "      <td>Excellent Sound, Excellent Picture, Tons and Tons of songs. Love the Scorched Earth Erotic video. The only reason I didn't give this 5 stars is because I don't think they let their female singer sing enough, it adds a nice goth touch. I also did not give it five stars because it would have been nice to have the \"her ghost in the fog\" video on here, and finally I thin Dani could have done better on some parts of the songs. For example: On \"her ghost in the fog\" (live version), he chooses to growl in that typical death metal voice, instead of talking in the deep gothic voice like he does on the album. By using this growly voice, I think he is cheese'n off some of the songs best parts. Anyway, these are minor gripes and this is a must have DVD, so definitely BUY IT!...</td>\n",
       "      <td>4.0</td>\n",
       "    </tr>\n",
       "    <tr>\n",
       "      <th>7</th>\n",
       "      <td>7</td>\n",
       "      <td>A2IZOU2G1QX0JD</td>\n",
       "      <td>As most of my friends hate, I'm massively into Cradle of Filth.  In the style of Napoleon Dynamite describing a Liger, I would say \"...they're pretty much my favorite band.\"  Their music is among the worst in the industry, they suck in a way few bands can meaningfully aspire to.  I've seen them live, bought pretty much every t-shirt from every album and tour, and have almost every album that they've released over the last \"decade and a bit\".  I love it, I love it all.  I recently purchased Heavy, Left-Handed, &amp; Candid.  If you don't like Cradle of Filth, then you'll most certainly hate this DVD.  It's absolutely fantastic, full of everything I was hoping for.There is a bunch of documentary type stuff, eleven live performances, a couple of music videos, and a few other \"shorts\" put together by the band.  Another one of the bonus items they threw on the disc is a short movie called \"The Blair Twit Project\".  This is basically footage of the band walking through woodland, filmed entirely using the night-vision mode on a video camera as they follow the trail of \"a pissed northern bastard.\"  Being a \"northerner\" myself, it felt very much like a standard night walking home from the pub on a Friday night being idiots.  It's funny to watch *once*.The DVD is actually really well put together and there is a ton of material included, which is a refreshing change when compared to some other music DVDs I've bought that barely even take the time to put a decent menu together.  As with their music, most people will hate this DVD.  I loved it, but then again, I'm weird.  The live performances are pretty awesome and it has solidified my decision to have to see this band again soon.  I don't know if they come to the US very often if at all, but some guy in Hot Topic assured me that he'd seen them here a few years ago.  I'll have to keep my eyes on the tour dates.  Then the hardest job will be convincing anyone to actually go with me.  My wife say's she's up for it, but I think that will have to be seen to be believed.</td>\n",
       "      <td>4.0</td>\n",
       "    </tr>\n",
       "    <tr>\n",
       "      <th>8</th>\n",
       "      <td>8</td>\n",
       "      <td>ARUHLQVP23GQ1</td>\n",
       "      <td>This category 3 classic mixes genres like only Hong Kong use to be able to do before the takeover. It over priced because of it's rarity so unless you collect rare Category 3 films you might want to get something else. As Category 3 films go this is entertaining but not as over the top as Dr. lamb, Red to Kill or the Untold Story.</td>\n",
       "      <td>4.0</td>\n",
       "    </tr>\n",
       "    <tr>\n",
       "      <th>9</th>\n",
       "      <td>9</td>\n",
       "      <td>ARYXA0US2VB5Q</td>\n",
       "      <td>I remember this when i had it on video cd,it was a 2 cd set.I got because i wanted to know more about the asian culture.The story was strange,somewhat brutal &amp; interesting.There is nudity for the guys here.I learned much from the movies.</td>\n",
       "      <td>4.0</td>\n",
       "    </tr>\n",
       "    <tr>\n",
       "      <th>10</th>\n",
       "      <td>10</td>\n",
       "      <td>APNW7X1IJLE1G</td>\n",
       "      <td>Not bad very unusal</td>\n",
       "      <td>4.0</td>\n",
       "    </tr>\n",
       "    <tr>\n",
       "      <th>11</th>\n",
       "      <td>11</td>\n",
       "      <td>A33IB1T1Z3OA1K</td>\n",
       "      <td>if you are intrigued by asian culture and history, you will find this interesting. very elaborate sets and historical perspective</td>\n",
       "      <td>4.0</td>\n",
       "    </tr>\n",
       "    <tr>\n",
       "      <th>12</th>\n",
       "      <td>12</td>\n",
       "      <td>APIW11UEPKIC2</td>\n",
       "      <td>Wow, I thought I rambled, but Lau Ching wan takes it to another level!  His character is so complex, and there's so many things that I pick up on in his performance when I rewatch this movie.  I didn't really know how to fit these thoughts into my review, so I thought I would just point it out right away.  That quote above is classic rambling from Lau Ching Wan's character.  I don't know how I didn't get annoyed of his character, but Lau Ching Wan just gives such a great performance.  I kept wanting to hear what he had to say, because the more he rambles on, the more violent he gets with his words.  Great stuff.Lau Ching Wan stars as a gangster who just got out of jail, and right away he gets into a fight.  After his brawl he decides to stay at a really cheap inn run by a poor widow played by Ruby Wong.  They slowly begin a relationship, and I found it well done and touching.  Lau Ching Wan's character is over the top with how rude he is, but he does a great job at it.  I really found myself liking his character, even though his character is supposed to be almost completely unlikeable.  One scene I liked was when Lau Ching Wan literally forces the owner of the inn and her son to go out and have a day of fun with him.  It is quite an odd scene.  So they go out for the day, and do all types of fun things.  For instance Lau Ching Wan shows them what part of a wall he painted while he was in prison. But seriously, there are a lot of good things about this movie.  There's one hilarious scene where Lau throws a big fit screaming at the inn owner that his room has been taken.  He couldn't have been a bigger baby.  She doesn't say a word, politely shows him to his room, and when the door opens, the drunken Lau Ching Wan figures out after a few seconds that he must have been in the wrong room before.  Such a great scene.  There's some more scenes like that, and that's the main reason the movie is worth watching.  Plus you have those great small touches that Johnnie To is known for.  Like when the inn owner is cleaning Lau's room, she sees a big pile of money in his drawer, and she shuts the drawer right away.  Good scene with good character development for both actors.  But then what Johnnie To does is expand on it.  About 4 days pass, and she is cleaning his room, and once again sees his drawer open, but this time that big pile of money is nothing but a few bills.  Like I said, it's just a small touch.While this movie isn't that exciting, and it's anything but original, I loved the directing job, the acting, dialogue,  the short action scenes, and I found myself laughing outloud at least a few times.  Lau Ching Wan + Johnnie To.  How can you go wrong with that?  You can't.  And you also have Lam Suet giving a great performance.  This is back when he actually got good roles.  Nowadays it seems like he just gets really small roles or cameos in Johnnie To movies.  Don't expect a great thriller or something really exciting, just an enjoyable movie.Rating- 4/5The subtitles on the Universe DVD are well written, but they go by a bit too fast most of the time.  Sound is good.  5.1 and 3.0 Cantonese and Mandarin tracks.  And the picture quality isn't exactly HD, but still very good.</td>\n",
       "      <td>4.0</td>\n",
       "    </tr>\n",
       "    <tr>\n",
       "      <th>13</th>\n",
       "      <td>13</td>\n",
       "      <td>A28FO9TRAR77PM</td>\n",
       "      <td>Killer is an okay HK film with a familiar storyline.  Jordan Chan is a well respected hitman who wants to go into legit businesses with his crooked homies.  However, he's trapped in the game and his world is starting to fall apart.  The performances are good and I really cared about the main characters.  Sexy Yoyo Mung is always a treat for my eyes and I was really surprised and thrilled to see Shaw Brothers veteran, Lo Meng as a rival mob boss.  I just wish there was a little more action.  Director Billy Chung should have asked Johnnie To for a few pointers.  With more action scenes and a better ending, this really could have been a Killer.</td>\n",
       "      <td>4.0</td>\n",
       "    </tr>\n",
       "    <tr>\n",
       "      <th>14</th>\n",
       "      <td>14</td>\n",
       "      <td>A352Q02V534GC</td>\n",
       "      <td>Loved it, terrible movie at it's core, but very appealing visually.  Shot well, funny, and slick.  As a fan of the horror genre (I'm of the Halloween and Friday the 13th generation) I'm used to seeing the girls in bikini/underwear/nothing for eyecandy.  This one finally gives the boys a turn, with the male lead jogging shirtless, bending and stretching in long camera shots, and showing off his nice assets.  The head vampire, who obviously adores him, is a hottie as well, and loves to hang out in his underwear with all his friends.  Recommended for a lonely Friday night.</td>\n",
       "      <td>4.0</td>\n",
       "    </tr>\n",
       "    <tr>\n",
       "      <th>15</th>\n",
       "      <td>15</td>\n",
       "      <td>A18TOTARHWUUR2</td>\n",
       "      <td>Don't waste any time thinking where is the horror in that flick, fellas.The story of that low, 'low' budget movie is an excuse for delivering underwear homoerotic scenes of some of the most hot young males that the director could find when it shooted the movie.So, if you like any of this like i do, apart from expend a very entertaining corny one and a half hour of your life, there's a great chance that you really enjoy it.Personally, as an horror movies fan, i think that it's time to center the erotic interest of that movies in the males, after passing more than twenty years worshiping the body of women.Apparently, there's a lot of people agreeing with me. As an example, take a look at THE COVENANT, one major studio horror flick that is nothing more that a David Decoteau movie, but with a real 'budget' attached to itAfter all, yes; the movie is cheap. But the dvd's also.If you like it, don't miss from the same director: THE BROTHERHOOD: YOUNG WARLOCKS, SPEED DEMON, LEECHES, VOODOO ACADEMY AND BEASTLY BOYZ.</td>\n",
       "      <td>4.0</td>\n",
       "    </tr>\n",
       "    <tr>\n",
       "      <th>16</th>\n",
       "      <td>16</td>\n",
       "      <td>A29R3VA96QOXEA</td>\n",
       "      <td>A very entertaining movie.  It will appeal to the girls and the gay boys out there.  The movie is very well done.  The acting and directing are good as well.  Great looking guys.</td>\n",
       "      <td>4.0</td>\n",
       "    </tr>\n",
       "    <tr>\n",
       "      <th>17</th>\n",
       "      <td>17</td>\n",
       "      <td>A1P8D7UI9OMUDR</td>\n",
       "      <td>I so enjoyed this movie. A good story, nice spooky atmosphere, great looking guys, nice spin on the vampire genre.</td>\n",
       "      <td>4.0</td>\n",
       "    </tr>\n",
       "    <tr>\n",
       "      <th>18</th>\n",
       "      <td>18</td>\n",
       "      <td>A20EEWWSFMZ1PN</td>\n",
       "      <td>Based on Hugh Wiley's inscrutable Oriental detective Mr. Wong, Boris Karloff is called upon by his detective friend to solve the murder of undercover detective Dan O'Grady that includes smuggling. James Lee Wong informs Capt. Bill Street (Grant Withers) that he can only help if it has something to do with the Orient. He is assured that it does have something to do with Chinatown in San Francisco and that is as close as you need to get to the Orient. They are both assisted by the feisty beautiful newspaper reporter Roberta 'Bobbie' Logan (Marjorie Reynolds.) So once again, Mr. Wong puts his life on the line.</td>\n",
       "      <td>4.0</td>\n",
       "    </tr>\n",
       "    <tr>\n",
       "      <th>19</th>\n",
       "      <td>19</td>\n",
       "      <td>AVAO50W0LTZLB</td>\n",
       "      <td>Good production, good concert, good song selection.  There aren't many DVDs of Bonnie, but this one is great!  It's a good purchase.</td>\n",
       "      <td>4.0</td>\n",
       "    </tr>\n",
       "    <tr>\n",
       "      <th>20</th>\n",
       "      <td>20</td>\n",
       "      <td>A2ZWOO49FH8QYR</td>\n",
       "      <td>If you are a Bonnie Raitt fan this will fill the bill.  Great guest stars and a nice variation of her songs.Sound is good, video is also good.  Wish she would do another one soon.</td>\n",
       "      <td>4.0</td>\n",
       "    </tr>\n",
       "    <tr>\n",
       "      <th>21</th>\n",
       "      <td>21</td>\n",
       "      <td>A3NKLBL5XYHRH1</td>\n",
       "      <td>This concert shows Bonnie's versatility as a performer, from her brand of country-rock to blues to pure vocalist.  Also appearing are Bruce Hornsby and Jackson Browne.</td>\n",
       "      <td>4.0</td>\n",
       "    </tr>\n",
       "    <tr>\n",
       "      <th>22</th>\n",
       "      <td>22</td>\n",
       "      <td>A3LU79BYMWZEW9</td>\n",
       "      <td>I always make a point to see Bonnie Raitt live whenever I can. I've caught her in all kinds of venues and she's never disappointed.  She's more of a solid, consistent performer than a blow-you-away performer, but that's hardly a bad thing.  She comes alive onstage and brings a warmth and joy to her performances that her best records can only hint at.  (Not that she doesn't make consistently records--she does.)This 1995 performance tape (and you have to keep in mind that it was originally VHS) captures her and her band at their best.  Yes, the sound could be better, but even in an actual performance setting, you might find yourself complaining about the acoustics a bit.  If the performance is solid, you can begin to overlook a few sound problems. So too with this DVD.Guests like Jackson Browne, Ruth Brown and Charles Brown and even some non-Brown(e)s like Kim Wilson and Bryan Adams add to the special event quality of the performance. And Bruce Hornsby adds his distinctive piano to a couple of numbers.  (\"I Can't Make You Love Me\" is particularly affecting.) But my favorite numbers are those featuring  Bonnie and her great band.  The chemistry between them is palpable.She ain't no amoeba.</td>\n",
       "      <td>4.0</td>\n",
       "    </tr>\n",
       "    <tr>\n",
       "      <th>23</th>\n",
       "      <td>23</td>\n",
       "      <td>A2379JMBG73R03</td>\n",
       "      <td>Bonnie is one of my all time favorite artists. I was blown away by the Road Tested CD a few years ago and expected a lot from the DVD. The music, the sound, the stage, the lighting, the registration, the colors are all great indeed, but the editing is all wrong and annoying. A lot of the time the music and film are out of sync, but what is worse is that more than once shots belonging to an other part of the concert are used to fill up gaps elsewhere. I cannot believe that the editor actually thinks that the viewer is stupid enough to fall for these cheap solutions. The mistakes are often so obvious! It is not enough to show, let's say, a drummer who is drumming. NO! We want to see that that drummer is actually playing that particular part of the music that is coming from our speakers at that particular moment.Still, as I said, the concert is great, and the DVD is worth 4 stars; a must have for all her fans.</td>\n",
       "      <td>4.0</td>\n",
       "    </tr>\n",
       "    <tr>\n",
       "      <th>24</th>\n",
       "      <td>24</td>\n",
       "      <td>A3ADFUS74MLPMA</td>\n",
       "      <td>This re-issue of the 1995 classic VHS concerttape/CD should have been  right up there withthe best sound quality you could possible get, but,for some reason it didn't quite rate the very best.It still is top quality entertainment and I give itfour stars ****, come on, it doesn't sound that bad.</td>\n",
       "      <td>4.0</td>\n",
       "    </tr>\n",
       "    <tr>\n",
       "      <th>25</th>\n",
       "      <td>25</td>\n",
       "      <td>A1ZC7FKS4OANAE</td>\n",
       "      <td>The sound was excellent.  The video could have been better, but it was shot before all the attention was given to high def.</td>\n",
       "      <td>4.0</td>\n",
       "    </tr>\n",
       "    <tr>\n",
       "      <th>26</th>\n",
       "      <td>26</td>\n",
       "      <td>A20KFS7XA57SXM</td>\n",
       "      <td>Let me start with a few words about Bonnie Raitt.  I first saw her at the Lenox Arts Center in MA in the early '70s, and it is one of those performances that sticks with you.  What a musical performance!  And this woman who commented on the bare-chested guys in the audience (what audacity!).  I have to be honest--haven't followed every recording of her career.  But everytime I hear her I'm floored.  Here's a woman who can belt out a ballad, play the blues, and put the most loving touch on a folk song, to bring you to tears.  Versatility is Raitt.  You want proof!?  Just see her on the Stevie Ray Vaughan tribute belting out &amp;quot;Pride and Joy.&amp;quot;  She takes a guy song and makes it into the quintessential girl's torch song!  All I can say is she made a lot of guys lonely (including me!) when she mentions a husband in the concert.  But hey, we are happy for you Bonnie.But what a minute!  The production on this video just doesn't do Bonnie justice.  I've heard much about the audio problems, and I agree.  But the video doesn't give us fans a chance!  I want something more than 5 seconds of a sustained shot on Bonnie and her guitar.  The music is there, but a bit more of Bonnie, without endless cuts to her band, would be desirable.  (A great band mind you, but nonetheless it couldn't hurt to let us see her a bit more!)I would love to see Bonnie in a proper DVD.  How about it Bonnie!  There're plenty of us out here that would love to hear from you.  You are a legend now, like BB and Buddy.  Put your music on record (in resplendent DVD)!  I'll be waiting.</td>\n",
       "      <td>4.0</td>\n",
       "    </tr>\n",
       "    <tr>\n",
       "      <th>27</th>\n",
       "      <td>27</td>\n",
       "      <td>AGFO6RNCAAT09</td>\n",
       "      <td>In intimate conversation with daughter Mary (whose husband directed), Paul McCartney discusses life after the Beatles, and how his next challenge was to form a band, pack up the family, and hit the road.  88 minute film seen on ABC-TV is satisfying for fans but footage shown could have been expanded.  We just get snippets of great songs and rare concert footage, and there isn't any interviews or commentary with the rest of the band (save for Linda's posthumous comments) especially from loyal, talented, long-suffering Denny Laine who was there from start to finish.  DVD extras include an additional 22 minute discussion between Paul and Mary, promotional videos for &amp;quot;Jet&amp;quot; and &amp;quot;Let 'Em In&amp;quot; (which were both taken from the &amp;quot;Rockshow&amp;quot; film) and the superstar jam &amp;quot;Rockestra&amp;quot;.  Just three videos?  Also included is a discography and a photo gallery, with 100 pictures.  A neat package, but they should have alloted themselves more than 88 minutes to cover a nine-year career, especially with all the great music involved.</td>\n",
       "      <td>4.0</td>\n",
       "    </tr>\n",
       "    <tr>\n",
       "      <th>28</th>\n",
       "      <td>28</td>\n",
       "      <td>A2VKJOBZEZJ2A0</td>\n",
       "      <td>The worst thing I can say about Wingspan is that the title is misleading.  I suspect McCartney and his daughter intended to make a documentary about Wings but ended up with one about Paul and Linda instead.  But that's okay, although they should have changed the name of the DVD.The best feature of Wingspan is that Paul, for once, is remarkably articulate in the interview sections.  The questions are more intimate than you might expect from his own daughter, too.  It can't have been easy for him to talk with her about such issues as the drug bust in Japan - but he does it, apparently quite honestly.  I also loved the early films and stories of the retreat in Scotland immediately before and after the Beatles broke up, and the first Wings tour.  The shots of the 1976 American tour are also terrific - if there's enough footage of those shows for a full-length DVD, everyone who sees this will want to buy it.  Just sayin', guys.  While most fans will already know some of the stories he tells, there are several here that I've never heard before, notably the origin of \"Mrs. Vanderbilt\" and the reggae bridge in \"Live and Let Die.\"  I also came away with a lot more respect for Linda after watching this, even if the fact remains that she couldn't sing.What's not so good is the discussion of the other members of Wings and the band's work as a whole - which, after all, is apparently what the show was supposed to be about in the first place.  With occasional exceptions, the talk about the songs is fairly cursory, and this is even more true when it comes to the musicians.  Denny Laine, the only constant member of Wings besides Paul and Linda (and, on two occasions, the only other member of the band) doesn't get anywhere near the screen time he warrants.  Some of the other members literally only get one mention in passing.  Then again, that is an accurate reflection of how long they were in the group!  Their best-selling album, \"Wings at the Speed of Sound,\" isn't discussed at all and only about a minute's worth of it is even used as background music.  (I can't help wondering if this is Paul and Mary's way of acknowledging that, big as it was, it's not a very good album.)  During the segment on the 1976 tour, he recites a rather obnoxious nursery rhyme he made up in response to questions about a Beatles reunion - without ever mentioning that Ringo turned up at one of the shows and he seemed quite happy about it at the time.  I'd love to know why he left that out.Overall, the good outweighs the bad.  Now, let's see about a full-length Wings concert DVD...</td>\n",
       "      <td>4.0</td>\n",
       "    </tr>\n",
       "    <tr>\n",
       "      <th>29</th>\n",
       "      <td>29</td>\n",
       "      <td>A1WLZYEOIL1HLT</td>\n",
       "      <td>For this \"rockumentary,\" Paul McCartney is interviewed by his daughter. He is very playful and relaxed, given his familiarity with the interviewer. At the beginning of the program we witness the dissolution of the Beatles and the marriage of Paul and Linda. Interestingly, none of the other Beatles were in attendance at the hastily arranged nuptials. Later, Paul wonders if he can make it as a solo artist. After releasing a couple of solo albums, he decides to form a new band. His wife Linda would be a member of the group, even though she had little musical experience. Paul admired Denny Laine's guitar playing and singing with the Moody Blues.  Denny was asked to join his new group Wings. As it turned out, Denny Laine was the ONLY member of Wings to stay with the group from start to finish, other than Linda. However, his musical contributions - what songs he wrote and sang on, or contributed a guitar solo to - are never discussed. Mr. Laine was not interviewed for this DVD, nor are any clips of old interviews with him included. Other band members are only mentioned in passing although, to be fair, most only lasted with Wings a short time.As Paul said near the end of the program, he proved that he could have major hits and successful world tours with another band after the Beatles. After Paul's infamous drug bust in Japan, he felt that it was time to give everything a rest. Thus Wings ended, not with a bang but with a whimper. Surprisingly, there is no booklet or even an insert included with the DVD. The extras include complete live performances of two songs - \"Jet\" and \"Let 'Em In\" - as well as the studio session for the instrumental \"Rockestra.\" The discography contains mistakes; when you click on the song list for \"Wings Over America\" it displays the song list for \"Wings At The Speed Of Sound.\" A little more attention to detail and interviews with other band members could easily have made this a 5 star DVD.</td>\n",
       "      <td>4.0</td>\n",
       "    </tr>\n",
       "    <tr>\n",
       "      <th>...</th>\n",
       "      <td>...</td>\n",
       "      <td>...</td>\n",
       "      <td>...</td>\n",
       "      <td>...</td>\n",
       "    </tr>\n",
       "    <tr>\n",
       "      <th>57570</th>\n",
       "      <td>57570</td>\n",
       "      <td>A13S9X0VL3VPXB</td>\n",
       "      <td>To be honest, despite the large number of titles available in the Amazon Prime library, there are very few films in this collection that appeal to me. I was pleasantly surprised to find that The Snow Walker is an emotionally charged film about a greedy, homophobic, self-absorbed daredevil pilot whose plane crashes in the Arctic. Although initially he has little respect for the native Inuit tribes who inhabit the land, he learns the skills that he needs to survive from a young Inuit woman who teaches him how to fish and hunt, how to stitch animal skins into clothing and boots, how to stay alive in a frigid and hostile environment. The photography of the vast landscape is amazingly beautiful. I was moved by the physical and emotional journey portrayed in this film.</td>\n",
       "      <td>4.0</td>\n",
       "    </tr>\n",
       "    <tr>\n",
       "      <th>57571</th>\n",
       "      <td>57571</td>\n",
       "      <td>A1MNYXV9BBL6HW</td>\n",
       "      <td>The movie clearly portrayed the dignity,  adaptability and courage of these native people. We can all learn much from others.</td>\n",
       "      <td>4.0</td>\n",
       "    </tr>\n",
       "    <tr>\n",
       "      <th>57572</th>\n",
       "      <td>57572</td>\n",
       "      <td>AEVD9NNCRF8ON</td>\n",
       "      <td>I wouldn't pay theater admission to see this move .Only because servival movies aren't mt thing . this is a good story and the movie was well made.</td>\n",
       "      <td>4.0</td>\n",
       "    </tr>\n",
       "    <tr>\n",
       "      <th>57573</th>\n",
       "      <td>57573</td>\n",
       "      <td>A3BY8JFFNB53C4</td>\n",
       "      <td>Wasn't sure if I would like it , but it was a great movie. Not a love story, but a good friendship between two people.</td>\n",
       "      <td>4.0</td>\n",
       "    </tr>\n",
       "    <tr>\n",
       "      <th>57574</th>\n",
       "      <td>57574</td>\n",
       "      <td>A197QSTDZCPA5V</td>\n",
       "      <td>I liked how the movie showed the vastness of Alaska and the reality of the frustration of being in a situation that you have no control over.  Well done.</td>\n",
       "      <td>4.0</td>\n",
       "    </tr>\n",
       "    <tr>\n",
       "      <th>57575</th>\n",
       "      <td>57575</td>\n",
       "      <td>AQXLEZMD3BZDL</td>\n",
       "      <td>I enjoyed this movie very much and I think others will as well.  Well written and good actors.  Try it, you'll be happy you did.</td>\n",
       "      <td>4.0</td>\n",
       "    </tr>\n",
       "    <tr>\n",
       "      <th>57576</th>\n",
       "      <td>57576</td>\n",
       "      <td>A2QI322A4T86RL</td>\n",
       "      <td>i really liked this movie good story line had a good ending also alaska is awsome and dangerous people are not always prepared</td>\n",
       "      <td>4.0</td>\n",
       "    </tr>\n",
       "    <tr>\n",
       "      <th>57577</th>\n",
       "      <td>57577</td>\n",
       "      <td>A2CZEAKLNA96XY</td>\n",
       "      <td>Makes you think and appreciate many things.  I would have liked a more cheery ending but this ending was probably more in tune to how life is.</td>\n",
       "      <td>4.0</td>\n",
       "    </tr>\n",
       "    <tr>\n",
       "      <th>57578</th>\n",
       "      <td>57578</td>\n",
       "      <td>AL99QI52NZLZF</td>\n",
       "      <td>This show is worth the time.  Me and my family enjoyed this movie and would recommend it to other families.</td>\n",
       "      <td>4.0</td>\n",
       "    </tr>\n",
       "    <tr>\n",
       "      <th>57579</th>\n",
       "      <td>57579</td>\n",
       "      <td>A28TEYEYWYNJMM</td>\n",
       "      <td>the scenery is breathtaking and the story flows well. Though I didn't quite understand the animosity between the owner an the one pilot.  Not an action movie and that's ok. It's a very well acted movie.</td>\n",
       "      <td>4.0</td>\n",
       "    </tr>\n",
       "    <tr>\n",
       "      <th>57580</th>\n",
       "      <td>57580</td>\n",
       "      <td>AL0YBT0CFODPO</td>\n",
       "      <td>It was interesting movie, I really enjoyed it, makes you think when you are all cozy in modern things and something goes wrong and you end up in the middle of nowhere.</td>\n",
       "      <td>4.0</td>\n",
       "    </tr>\n",
       "    <tr>\n",
       "      <th>57581</th>\n",
       "      <td>57581</td>\n",
       "      <td>A3O1GK54AG0ZTK</td>\n",
       "      <td>Really liked the movie. Keep your interest. Anyone who likes the outdoor would like this movie.  Family members who watched it liked it also.</td>\n",
       "      <td>4.0</td>\n",
       "    </tr>\n",
       "    <tr>\n",
       "      <th>57582</th>\n",
       "      <td>57582</td>\n",
       "      <td>A20TVJRWL4TCQ3</td>\n",
       "      <td>I enjoyed the movie. It was a story that actually could have happened. The young man who lived a wild life redeemed himself when he cared for a sick young woman and she saved his life, too. An unlikely pair who ended up helping one another.</td>\n",
       "      <td>4.0</td>\n",
       "    </tr>\n",
       "    <tr>\n",
       "      <th>57583</th>\n",
       "      <td>57583</td>\n",
       "      <td>A2IEAVD0CSV3V</td>\n",
       "      <td>Overall a great movie with some great scenes depicting raw nature. Acting is well done. A few scenes were a little slow but overall this was a great movie although it could have ended in a better way.</td>\n",
       "      <td>4.0</td>\n",
       "    </tr>\n",
       "    <tr>\n",
       "      <th>57584</th>\n",
       "      <td>57584</td>\n",
       "      <td>A3OTY02A4YTBJ4</td>\n",
       "      <td>I have never heard of this movie. Noticed it was on Prime and decided to watch it. It was surprisingly good. It's these small films that are the real gems. A wonderful film about nature/humans/survival/and cultural respect. If you want to watch an uplifting movie, I highly encourage this movie. The actor and actress are wonderful.</td>\n",
       "      <td>4.0</td>\n",
       "    </tr>\n",
       "    <tr>\n",
       "      <th>57585</th>\n",
       "      <td>57585</td>\n",
       "      <td>A19DRH8UV2LB6G</td>\n",
       "      <td>This is a Canadian production, which was very well done. The story was set around the two main characters, both of whom were outstanding. An interesting and uplifting story - too bad the US film industry has to rely on violence, sex and ridiculous action themes for most of our productions.</td>\n",
       "      <td>4.0</td>\n",
       "    </tr>\n",
       "    <tr>\n",
       "      <th>57586</th>\n",
       "      <td>57586</td>\n",
       "      <td>ARON43DEPHD5N</td>\n",
       "      <td>I really enjoyed this movie.  Although uncomplicated, the plot, characters and scenery were all compelling and held my interest. It would never be blockbuster, but some of the best stories never are.</td>\n",
       "      <td>4.0</td>\n",
       "    </tr>\n",
       "    <tr>\n",
       "      <th>57587</th>\n",
       "      <td>57587</td>\n",
       "      <td>A1II0SB20DZ8GB</td>\n",
       "      <td>I thoroughly enjoyed the movie.  It kept me entertained through the whole movie.  I would like to see more movies of this quality.</td>\n",
       "      <td>4.0</td>\n",
       "    </tr>\n",
       "    <tr>\n",
       "      <th>57588</th>\n",
       "      <td>57588</td>\n",
       "      <td>ATBOC1MPSS8XA</td>\n",
       "      <td>I really liked this movie. The adventure intrigued me enough to want to see what happened next. The story was rich and I liked watching the transformation in the characters and their developing relationship. Would recommend this movie to anyone who enjoys movies that depict the strength of human nature.</td>\n",
       "      <td>4.0</td>\n",
       "    </tr>\n",
       "    <tr>\n",
       "      <th>57589</th>\n",
       "      <td>57589</td>\n",
       "      <td>A2KRPMQU7P3TX7</td>\n",
       "      <td>Survival in the far north.The film is essentially two people trying to survive the elements -a cocky bush pilot and a lovely young First Nation woman who is ill. Very good development of a relationship when the individuals are from different societies and who do not speak the same language  yet must work together to survive. There were no polar bear or wolf attacks, just the cold,wet, hunger and approaching winter. Make some hot chocolate and snuggle in to celebrate your cozy home!</td>\n",
       "      <td>4.0</td>\n",
       "    </tr>\n",
       "    <tr>\n",
       "      <th>57590</th>\n",
       "      <td>57590</td>\n",
       "      <td>A3HEKGV6TYJORK</td>\n",
       "      <td>if you enjoy the outdoors, you will enjoy this movie.  It has a bit of everything rolled into one enjoyable movie</td>\n",
       "      <td>4.0</td>\n",
       "    </tr>\n",
       "    <tr>\n",
       "      <th>57591</th>\n",
       "      <td>57591</td>\n",
       "      <td>AZ9T06BO0EF1B</td>\n",
       "      <td>We liked the story line and how you can change a person's ways through the thoughtfulness and/or knowledge of others.</td>\n",
       "      <td>4.0</td>\n",
       "    </tr>\n",
       "    <tr>\n",
       "      <th>57592</th>\n",
       "      <td>57592</td>\n",
       "      <td>AH11A77ATJ87N</td>\n",
       "      <td>If you get past the rantings and ravings of the &amp;#34;pilot&amp;#34;, it is a very good movie.  What is the heartwarming part of the movie is the Inuit woman, there is more to it than what meets the eye!!!</td>\n",
       "      <td>4.0</td>\n",
       "    </tr>\n",
       "    <tr>\n",
       "      <th>57593</th>\n",
       "      <td>57593</td>\n",
       "      <td>A1YV407UJCJN2G</td>\n",
       "      <td>It was captivating with great scenery.</td>\n",
       "      <td>4.0</td>\n",
       "    </tr>\n",
       "    <tr>\n",
       "      <th>57594</th>\n",
       "      <td>57594</td>\n",
       "      <td>A141DS8KYZXQJH</td>\n",
       "      <td>Enjoyed the film but would have liked a differentending where his hometown knew he survived.Too strange an ending for my liking.</td>\n",
       "      <td>4.0</td>\n",
       "    </tr>\n",
       "    <tr>\n",
       "      <th>57595</th>\n",
       "      <td>57595</td>\n",
       "      <td>A37GG6XNGBLO7U</td>\n",
       "      <td>it was something different, and I liked the Native American traits it brought out, I just might watch it again</td>\n",
       "      <td>4.0</td>\n",
       "    </tr>\n",
       "    <tr>\n",
       "      <th>57596</th>\n",
       "      <td>57596</td>\n",
       "      <td>A2SPTIC0XMVQXF</td>\n",
       "      <td>Interesting movie...thought provoking, and well done. Well worth the time to watch, and a different approach to an age old theme.</td>\n",
       "      <td>4.0</td>\n",
       "    </tr>\n",
       "    <tr>\n",
       "      <th>57597</th>\n",
       "      <td>57597</td>\n",
       "      <td>A1MKLWZADDY8QU</td>\n",
       "      <td>The only problem I had with this movie and the reason for not giving it five stars was the beginning.  A little too raunchy for my taste and certainly didn't make the group of pilots look very good.  Pretty much all of them were foul-mouthed, money-grubbing and drunk womanizers who live in filthy houses or apartments, but, after the movie got off the ground, it really took off (pun intended).The whole story is beautifully told after that beginning and the photography and directing (Charles Martin Smith) is stunning.  Annabella Piugattuk is wonderful to watch and Barry Pepper did a terrific job too.I have seen this movie before and would recommend it without hesitation to anyone.</td>\n",
       "      <td>4.0</td>\n",
       "    </tr>\n",
       "    <tr>\n",
       "      <th>57598</th>\n",
       "      <td>57598</td>\n",
       "      <td>A3CVEWCVAKE93O</td>\n",
       "      <td>It was a good movie showing the harshness of Alaska, and the human spirit to keep going.  I liked it and would recommend it.</td>\n",
       "      <td>4.0</td>\n",
       "    </tr>\n",
       "    <tr>\n",
       "      <th>57599</th>\n",
       "      <td>57599</td>\n",
       "      <td>A12KWSWHLN5YE1</td>\n",
       "      <td>We really enjoyed this movie..scary survival scenario under any circumstances, gripping right to the end. Just the right mix of fear and feel good for is.</td>\n",
       "      <td>4.0</td>\n",
       "    </tr>\n",
       "  </tbody>\n",
       "</table>\n",
       "<p>57193 rows × 4 columns</p>\n",
       "</div>"
      ],
      "text/plain": [
       "        asin      reviewerID  \\\n",
       "0      0      A32244V7CQUBD6   \n",
       "1      1      A32244V7CQUBD6   \n",
       "2      2      A33KKMGGVLZ29T   \n",
       "3      3      A33P47VEH0YULL   \n",
       "4      4      ADG33WELAQRZJ    \n",
       "5      5      A3YXITJWFW4BW    \n",
       "6      6      A214NHULS3H7OX   \n",
       "7      7      A2IZOU2G1QX0JD   \n",
       "8      8      ARUHLQVP23GQ1    \n",
       "9      9      ARYXA0US2VB5Q    \n",
       "10     10     APNW7X1IJLE1G    \n",
       "11     11     A33IB1T1Z3OA1K   \n",
       "12     12     APIW11UEPKIC2    \n",
       "13     13     A28FO9TRAR77PM   \n",
       "14     14     A352Q02V534GC    \n",
       "15     15     A18TOTARHWUUR2   \n",
       "16     16     A29R3VA96QOXEA   \n",
       "17     17     A1P8D7UI9OMUDR   \n",
       "18     18     A20EEWWSFMZ1PN   \n",
       "19     19     AVAO50W0LTZLB    \n",
       "20     20     A2ZWOO49FH8QYR   \n",
       "21     21     A3NKLBL5XYHRH1   \n",
       "22     22     A3LU79BYMWZEW9   \n",
       "23     23     A2379JMBG73R03   \n",
       "24     24     A3ADFUS74MLPMA   \n",
       "25     25     A1ZC7FKS4OANAE   \n",
       "26     26     A20KFS7XA57SXM   \n",
       "27     27     AGFO6RNCAAT09    \n",
       "28     28     A2VKJOBZEZJ2A0   \n",
       "29     29     A1WLZYEOIL1HLT   \n",
       "...    ..                ...   \n",
       "57570  57570  A13S9X0VL3VPXB   \n",
       "57571  57571  A1MNYXV9BBL6HW   \n",
       "57572  57572  AEVD9NNCRF8ON    \n",
       "57573  57573  A3BY8JFFNB53C4   \n",
       "57574  57574  A197QSTDZCPA5V   \n",
       "57575  57575  AQXLEZMD3BZDL    \n",
       "57576  57576  A2QI322A4T86RL   \n",
       "57577  57577  A2CZEAKLNA96XY   \n",
       "57578  57578  AL99QI52NZLZF    \n",
       "57579  57579  A28TEYEYWYNJMM   \n",
       "57580  57580  AL0YBT0CFODPO    \n",
       "57581  57581  A3O1GK54AG0ZTK   \n",
       "57582  57582  A20TVJRWL4TCQ3   \n",
       "57583  57583  A2IEAVD0CSV3V    \n",
       "57584  57584  A3OTY02A4YTBJ4   \n",
       "57585  57585  A19DRH8UV2LB6G   \n",
       "57586  57586  ARON43DEPHD5N    \n",
       "57587  57587  A1II0SB20DZ8GB   \n",
       "57588  57588  ATBOC1MPSS8XA    \n",
       "57589  57589  A2KRPMQU7P3TX7   \n",
       "57590  57590  A3HEKGV6TYJORK   \n",
       "57591  57591  AZ9T06BO0EF1B    \n",
       "57592  57592  AH11A77ATJ87N    \n",
       "57593  57593  A1YV407UJCJN2G   \n",
       "57594  57594  A141DS8KYZXQJH   \n",
       "57595  57595  A37GG6XNGBLO7U   \n",
       "57596  57596  A2SPTIC0XMVQXF   \n",
       "57597  57597  A1MKLWZADDY8QU   \n",
       "57598  57598  A3CVEWCVAKE93O   \n",
       "57599  57599  A12KWSWHLN5YE1   \n",
       "\n",
       "                                                                                                                                                                                                                                                                                                                                                                                                                                                                                                                                                                                                                                                                                                                                                                                                                                                                                                                                                                                                                                                                                                                                                                                                                                                                                                                                                                                                                                                                                                                                                                                                                                                                                                                                                                                                                                                                                                                                                                                                                                                                                                                                                                                                                                                                                                                                                                                                                                                                                                                                                                                                                                                                                                                                                                                                                                                                                                                                                                                                                                                                                                                                                                                                                                                                                                                                                     reviewText  \\\n",
       "0      This video actually focuses mostly on one of the characters that Emmanuelle (Krista Allen) is trying to teach about sex & love. It's still pretty entertaining but if you are mostly interested in Kirsta Allen then you should know that she's not really in much of this episode.                                                                                                                                                                                                                                                                                                                                                                                                                                                                                                                                                                                                                                                                                                                                                                                                                                                                                                                                                                                                                                                                                                                                                                                                                                                                                                                                                                                                                                                                                                                                                                                                                                                                                                                                                                                                                                                                                                                                                                                                                                                                                                                                                                                                                                                                                                                                                                                                                                                                                                                                                                                                                                                                                                                                                                                                                                                                                                                                                                                                                                                                        \n",
       "1      This episode pretty much has Hafron and Emmanuelle teleporting to different parts of the world and &quot;doing it&quot;. There is the continuing plot from an earlier episode of some group on Earth trying to track them down. That's the main reason for Emmanuelle and Hafron to jump to different parts of the world. Otherwise, this episode is mostly sex scenes.                                                                                                                                                                                                                                                                                                                                                                                                                                                                                                                                                                                                                                                                                                                                                                                                                                                                                                                                                                                                                                                                                                                                                                                                                                                                                                                                                                                                                                                                                                                                                                                                                                                                                                                                                                                                                                                                                                                                                                                                                                                                                                                                                                                                                                                                                                                                                                                                                                                                                                                                                                                                                                                                                                                                                                                                                                                                                                                                                                                    \n",
       "2      This is an intimate concert of Robert Mirabal.  Although I thought that it was, as I said, masterful, the sound, at times sounded a little muffled.The storytelling of the songs gave an insight of native culture and of Mirabal's own family stories and history.The Dance and Ee You Oo are my picks for the best songs, but they are all a joy to watch.  The Rare Tribal Mob and the Mirabal Singers/Dancers are great and provide a mesmerising stage performance.Very enjoyable                                                                                                                                                                                                                                                                                                                                                                                                                                                                                                                                                                                                                                                                                                                                                                                                                                                                                                                                                                                                                                                                                                                                                                                                                                                                                                                                                                                                                                                                                                                                                                                                                                                                                                                                                                                                                                                                                                                                                                                                                                                                                                                                                                                                                                                                                                                                                                                                                                                                                                                                                                                                                                                                                                                                                                                                                                                                     \n",
       "3      A well put together DVD for the \"Stinkiest band\" in the world.  Easy to navigate, and with some pretty interesting side notes...a great collectors item for any fan of Cradle of Filth or Swedish metal.                                                                                                                                                                                                                                                                                                                                                                                                                                                                                                                                                                                                                                                                                                                                                                                                                                                                                                                                                                                                                                                                                                                                                                                                                                                                                                                                                                                                                                                                                                                                                                                                                                                                                                                                                                                                                                                                                                                                                                                                                                                                                                                                                                                                                                                                                                                                                                                                                                                                                                                                                                                                                                                                                                                                                                                                                                                                                                                                                                                                                                                                                                                                                   \n",
       "4      Great show from the inventors of the extreme gothic metal genre !! 75'of pure mayhem with good visuals and a great sound, although the vocals are a little high in the mix for my taste and the guitar on the right channel is 10 times louder than the one on the left so I ended up switching it to mono to even things up. It's hard to give this more stars esp. when you've watched the PTSFirepower DVD first like I did, that one is so much better. The 5 bonus videoclips totally rule and round up the package making the purchase a worthy one.Now the mockumentary may not be suited to everyone's tastes, personally it bored me and know of a lot of people who feels it ruins the band's image. Well don't watch it then.                                                                                                                                                                                                                                                                                                                                                                                                                                                                                                                                                                                                                                                                                                                                                                                                                                                                                                                                                                                                                                                                                                                                                                                                                                                                                                                                                                                                                                                                                                                                                                                                                                                                                                                                                                                                                                                                                                                                                                                                                                                                                                                                                                                                                                                                                                                                                                                                                                                                                                                                                                                                                   \n",
       "5      I rented this dvd, i didnt buy it.  I also rented PanDamonAeon and Mannequin.  This dvd has excellent very long concert footage.  Its practically the same songs as on Livebait for the Dead.  And then we have the rest of the dvd.  Im sorry, i love CoF but that \"schockumentary\" thing was just sad.  I could barely stand to watch it.  It's stupid and boring, maybe if theyd shown more of the band in a more coherent manner...and it just goes on and on forever.  This is a 2 hour plus dvd adn half of it is crap.  The \"blair twit Project\" is slightly amusing, but mostly boring.  The music videos are good though.  I would still recommend buying this dvd just for the music videos and the concert footage.  PanDamonAeon gave me more joy though.                                                                                                                                                                                                                                                                                                                                                                                                                                                                                                                                                                                                                                                                                                                                                                                                                                                                                                                                                                                                                                                                                                                                                                                                                                                                                                                                                                                                                                                                                                                                                                                                                                                                                                                                                                                                                                                                                                                                                                                                                                                                                                                                                                                                                                                                                                                                                                                                                                                                                                                                                                                      \n",
       "6      Excellent Sound, Excellent Picture, Tons and Tons of songs. Love the Scorched Earth Erotic video. The only reason I didn't give this 5 stars is because I don't think they let their female singer sing enough, it adds a nice goth touch. I also did not give it five stars because it would have been nice to have the \"her ghost in the fog\" video on here, and finally I thin Dani could have done better on some parts of the songs. For example: On \"her ghost in the fog\" (live version), he chooses to growl in that typical death metal voice, instead of talking in the deep gothic voice like he does on the album. By using this growly voice, I think he is cheese'n off some of the songs best parts. Anyway, these are minor gripes and this is a must have DVD, so definitely BUY IT!...                                                                                                                                                                                                                                                                                                                                                                                                                                                                                                                                                                                                                                                                                                                                                                                                                                                                                                                                                                                                                                                                                                                                                                                                                                                                                                                                                                                                                                                                                                                                                                                                                                                                                                                                                                                                                                                                                                                                                                                                                                                                                                                                                                                                                                                                                                                                                                                                                                                                                                                                                   \n",
       "7      As most of my friends hate, I'm massively into Cradle of Filth.  In the style of Napoleon Dynamite describing a Liger, I would say \"...they're pretty much my favorite band.\"  Their music is among the worst in the industry, they suck in a way few bands can meaningfully aspire to.  I've seen them live, bought pretty much every t-shirt from every album and tour, and have almost every album that they've released over the last \"decade and a bit\".  I love it, I love it all.  I recently purchased Heavy, Left-Handed, & Candid.  If you don't like Cradle of Filth, then you'll most certainly hate this DVD.  It's absolutely fantastic, full of everything I was hoping for.There is a bunch of documentary type stuff, eleven live performances, a couple of music videos, and a few other \"shorts\" put together by the band.  Another one of the bonus items they threw on the disc is a short movie called \"The Blair Twit Project\".  This is basically footage of the band walking through woodland, filmed entirely using the night-vision mode on a video camera as they follow the trail of \"a pissed northern bastard.\"  Being a \"northerner\" myself, it felt very much like a standard night walking home from the pub on a Friday night being idiots.  It's funny to watch *once*.The DVD is actually really well put together and there is a ton of material included, which is a refreshing change when compared to some other music DVDs I've bought that barely even take the time to put a decent menu together.  As with their music, most people will hate this DVD.  I loved it, but then again, I'm weird.  The live performances are pretty awesome and it has solidified my decision to have to see this band again soon.  I don't know if they come to the US very often if at all, but some guy in Hot Topic assured me that he'd seen them here a few years ago.  I'll have to keep my eyes on the tour dates.  Then the hardest job will be convincing anyone to actually go with me.  My wife say's she's up for it, but I think that will have to be seen to be believed.                                                                                                                                                                                                                                                                                                                                                                                                                                                                                                                                                                                                                                                                                                                                                                                                                                                                                                                                                                                                                                                                                                                                                                                                                                        \n",
       "8      This category 3 classic mixes genres like only Hong Kong use to be able to do before the takeover. It over priced because of it's rarity so unless you collect rare Category 3 films you might want to get something else. As Category 3 films go this is entertaining but not as over the top as Dr. lamb, Red to Kill or the Untold Story.                                                                                                                                                                                                                                                                                                                                                                                                                                                                                                                                                                                                                                                                                                                                                                                                                                                                                                                                                                                                                                                                                                                                                                                                                                                                                                                                                                                                                                                                                                                                                                                                                                                                                                                                                                                                                                                                                                                                                                                                                                                                                                                                                                                                                                                                                                                                                                                                                                                                                                                                                                                                                                                                                                                                                                                                                                                                                                                                                                                                               \n",
       "9      I remember this when i had it on video cd,it was a 2 cd set.I got because i wanted to know more about the asian culture.The story was strange,somewhat brutal & interesting.There is nudity for the guys here.I learned much from the movies.                                                                                                                                                                                                                                                                                                                                                                                                                                                                                                                                                                                                                                                                                                                                                                                                                                                                                                                                                                                                                                                                                                                                                                                                                                                                                                                                                                                                                                                                                                                                                                                                                                                                                                                                                                                                                                                                                                                                                                                                                                                                                                                                                                                                                                                                                                                                                                                                                                                                                                                                                                                                                                                                                                                                                                                                                                                                                                                                                                                                                                                                                                              \n",
       "10     Not bad very unusal                                                                                                                                                                                                                                                                                                                                                                                                                                                                                                                                                                                                                                                                                                                                                                                                                                                                                                                                                                                                                                                                                                                                                                                                                                                                                                                                                                                                                                                                                                                                                                                                                                                                                                                                                                                                                                                                                                                                                                                                                                                                                                                                                                                                                                                                                                                                                                                                                                                                                                                                                                                                                                                                                                                                                                                                                                                                                                                                                                                                                                                                                                                                                                                                                                                                                                                                        \n",
       "11     if you are intrigued by asian culture and history, you will find this interesting. very elaborate sets and historical perspective                                                                                                                                                                                                                                                                                                                                                                                                                                                                                                                                                                                                                                                                                                                                                                                                                                                                                                                                                                                                                                                                                                                                                                                                                                                                                                                                                                                                                                                                                                                                                                                                                                                                                                                                                                                                                                                                                                                                                                                                                                                                                                                                                                                                                                                                                                                                                                                                                                                                                                                                                                                                                                                                                                                                                                                                                                                                                                                                                                                                                                                                                                                                                                                                                          \n",
       "12     Wow, I thought I rambled, but Lau Ching wan takes it to another level!  His character is so complex, and there's so many things that I pick up on in his performance when I rewatch this movie.  I didn't really know how to fit these thoughts into my review, so I thought I would just point it out right away.  That quote above is classic rambling from Lau Ching Wan's character.  I don't know how I didn't get annoyed of his character, but Lau Ching Wan just gives such a great performance.  I kept wanting to hear what he had to say, because the more he rambles on, the more violent he gets with his words.  Great stuff.Lau Ching Wan stars as a gangster who just got out of jail, and right away he gets into a fight.  After his brawl he decides to stay at a really cheap inn run by a poor widow played by Ruby Wong.  They slowly begin a relationship, and I found it well done and touching.  Lau Ching Wan's character is over the top with how rude he is, but he does a great job at it.  I really found myself liking his character, even though his character is supposed to be almost completely unlikeable.  One scene I liked was when Lau Ching Wan literally forces the owner of the inn and her son to go out and have a day of fun with him.  It is quite an odd scene.  So they go out for the day, and do all types of fun things.  For instance Lau Ching Wan shows them what part of a wall he painted while he was in prison. But seriously, there are a lot of good things about this movie.  There's one hilarious scene where Lau throws a big fit screaming at the inn owner that his room has been taken.  He couldn't have been a bigger baby.  She doesn't say a word, politely shows him to his room, and when the door opens, the drunken Lau Ching Wan figures out after a few seconds that he must have been in the wrong room before.  Such a great scene.  There's some more scenes like that, and that's the main reason the movie is worth watching.  Plus you have those great small touches that Johnnie To is known for.  Like when the inn owner is cleaning Lau's room, she sees a big pile of money in his drawer, and she shuts the drawer right away.  Good scene with good character development for both actors.  But then what Johnnie To does is expand on it.  About 4 days pass, and she is cleaning his room, and once again sees his drawer open, but this time that big pile of money is nothing but a few bills.  Like I said, it's just a small touch.While this movie isn't that exciting, and it's anything but original, I loved the directing job, the acting, dialogue,  the short action scenes, and I found myself laughing outloud at least a few times.  Lau Ching Wan + Johnnie To.  How can you go wrong with that?  You can't.  And you also have Lam Suet giving a great performance.  This is back when he actually got good roles.  Nowadays it seems like he just gets really small roles or cameos in Johnnie To movies.  Don't expect a great thriller or something really exciting, just an enjoyable movie.Rating- 4/5The subtitles on the Universe DVD are well written, but they go by a bit too fast most of the time.  Sound is good.  5.1 and 3.0 Cantonese and Mandarin tracks.  And the picture quality isn't exactly HD, but still very good.   \n",
       "13     Killer is an okay HK film with a familiar storyline.  Jordan Chan is a well respected hitman who wants to go into legit businesses with his crooked homies.  However, he's trapped in the game and his world is starting to fall apart.  The performances are good and I really cared about the main characters.  Sexy Yoyo Mung is always a treat for my eyes and I was really surprised and thrilled to see Shaw Brothers veteran, Lo Meng as a rival mob boss.  I just wish there was a little more action.  Director Billy Chung should have asked Johnnie To for a few pointers.  With more action scenes and a better ending, this really could have been a Killer.                                                                                                                                                                                                                                                                                                                                                                                                                                                                                                                                                                                                                                                                                                                                                                                                                                                                                                                                                                                                                                                                                                                                                                                                                                                                                                                                                                                                                                                                                                                                                                                                                                                                                                                                                                                                                                                                                                                                                                                                                                                                                                                                                                                                                                                                                                                                                                                                                                                                                                                                                                                                                                                                                  \n",
       "14     Loved it, terrible movie at it's core, but very appealing visually.  Shot well, funny, and slick.  As a fan of the horror genre (I'm of the Halloween and Friday the 13th generation) I'm used to seeing the girls in bikini/underwear/nothing for eyecandy.  This one finally gives the boys a turn, with the male lead jogging shirtless, bending and stretching in long camera shots, and showing off his nice assets.  The head vampire, who obviously adores him, is a hottie as well, and loves to hang out in his underwear with all his friends.  Recommended for a lonely Friday night.                                                                                                                                                                                                                                                                                                                                                                                                                                                                                                                                                                                                                                                                                                                                                                                                                                                                                                                                                                                                                                                                                                                                                                                                                                                                                                                                                                                                                                                                                                                                                                                                                                                                                                                                                                                                                                                                                                                                                                                                                                                                                                                                                                                                                                                                                                                                                                                                                                                                                                                                                                                                                                                                                                                                                           \n",
       "15     Don't waste any time thinking where is the horror in that flick, fellas.The story of that low, 'low' budget movie is an excuse for delivering underwear homoerotic scenes of some of the most hot young males that the director could find when it shooted the movie.So, if you like any of this like i do, apart from expend a very entertaining corny one and a half hour of your life, there's a great chance that you really enjoy it.Personally, as an horror movies fan, i think that it's time to center the erotic interest of that movies in the males, after passing more than twenty years worshiping the body of women.Apparently, there's a lot of people agreeing with me. As an example, take a look at THE COVENANT, one major studio horror flick that is nothing more that a David Decoteau movie, but with a real 'budget' attached to itAfter all, yes; the movie is cheap. But the dvd's also.If you like it, don't miss from the same director: THE BROTHERHOOD: YOUNG WARLOCKS, SPEED DEMON, LEECHES, VOODOO ACADEMY AND BEASTLY BOYZ.                                                                                                                                                                                                                                                                                                                                                                                                                                                                                                                                                                                                                                                                                                                                                                                                                                                                                                                                                                                                                                                                                                                                                                                                                                                                                                                                                                                                                                                                                                                                                                                                                                                                                                                                                                                                                                                                                                                                                                                                                                                                                                                                                                                                                                                                                              \n",
       "16     A very entertaining movie.  It will appeal to the girls and the gay boys out there.  The movie is very well done.  The acting and directing are good as well.  Great looking guys.                                                                                                                                                                                                                                                                                                                                                                                                                                                                                                                                                                                                                                                                                                                                                                                                                                                                                                                                                                                                                                                                                                                                                                                                                                                                                                                                                                                                                                                                                                                                                                                                                                                                                                                                                                                                                                                                                                                                                                                                                                                                                                                                                                                                                                                                                                                                                                                                                                                                                                                                                                                                                                                                                                                                                                                                                                                                                                                                                                                                                                                                                                                                                                         \n",
       "17     I so enjoyed this movie. A good story, nice spooky atmosphere, great looking guys, nice spin on the vampire genre.                                                                                                                                                                                                                                                                                                                                                                                                                                                                                                                                                                                                                                                                                                                                                                                                                                                                                                                                                                                                                                                                                                                                                                                                                                                                                                                                                                                                                                                                                                                                                                                                                                                                                                                                                                                                                                                                                                                                                                                                                                                                                                                                                                                                                                                                                                                                                                                                                                                                                                                                                                                                                                                                                                                                                                                                                                                                                                                                                                                                                                                                                                                                                                                                                                         \n",
       "18     Based on Hugh Wiley's inscrutable Oriental detective Mr. Wong, Boris Karloff is called upon by his detective friend to solve the murder of undercover detective Dan O'Grady that includes smuggling. James Lee Wong informs Capt. Bill Street (Grant Withers) that he can only help if it has something to do with the Orient. He is assured that it does have something to do with Chinatown in San Francisco and that is as close as you need to get to the Orient. They are both assisted by the feisty beautiful newspaper reporter Roberta 'Bobbie' Logan (Marjorie Reynolds.) So once again, Mr. Wong puts his life on the line.                                                                                                                                                                                                                                                                                                                                                                                                                                                                                                                                                                                                                                                                                                                                                                                                                                                                                                                                                                                                                                                                                                                                                                                                                                                                                                                                                                                                                                                                                                                                                                                                                                                                                                                                                                                                                                                                                                                                                                                                                                                                                                                                                                                                                                                                                                                                                                                                                                                                                                                                                                                                                                                                                                                     \n",
       "19     Good production, good concert, good song selection.  There aren't many DVDs of Bonnie, but this one is great!  It's a good purchase.                                                                                                                                                                                                                                                                                                                                                                                                                                                                                                                                                                                                                                                                                                                                                                                                                                                                                                                                                                                                                                                                                                                                                                                                                                                                                                                                                                                                                                                                                                                                                                                                                                                                                                                                                                                                                                                                                                                                                                                                                                                                                                                                                                                                                                                                                                                                                                                                                                                                                                                                                                                                                                                                                                                                                                                                                                                                                                                                                                                                                                                                                                                                                                                                                       \n",
       "20     If you are a Bonnie Raitt fan this will fill the bill.  Great guest stars and a nice variation of her songs.Sound is good, video is also good.  Wish she would do another one soon.                                                                                                                                                                                                                                                                                                                                                                                                                                                                                                                                                                                                                                                                                                                                                                                                                                                                                                                                                                                                                                                                                                                                                                                                                                                                                                                                                                                                                                                                                                                                                                                                                                                                                                                                                                                                                                                                                                                                                                                                                                                                                                                                                                                                                                                                                                                                                                                                                                                                                                                                                                                                                                                                                                                                                                                                                                                                                                                                                                                                                                                                                                                                                                        \n",
       "21     This concert shows Bonnie's versatility as a performer, from her brand of country-rock to blues to pure vocalist.  Also appearing are Bruce Hornsby and Jackson Browne.                                                                                                                                                                                                                                                                                                                                                                                                                                                                                                                                                                                                                                                                                                                                                                                                                                                                                                                                                                                                                                                                                                                                                                                                                                                                                                                                                                                                                                                                                                                                                                                                                                                                                                                                                                                                                                                                                                                                                                                                                                                                                                                                                                                                                                                                                                                                                                                                                                                                                                                                                                                                                                                                                                                                                                                                                                                                                                                                                                                                                                                                                                                                                                                    \n",
       "22     I always make a point to see Bonnie Raitt live whenever I can. I've caught her in all kinds of venues and she's never disappointed.  She's more of a solid, consistent performer than a blow-you-away performer, but that's hardly a bad thing.  She comes alive onstage and brings a warmth and joy to her performances that her best records can only hint at.  (Not that she doesn't make consistently records--she does.)This 1995 performance tape (and you have to keep in mind that it was originally VHS) captures her and her band at their best.  Yes, the sound could be better, but even in an actual performance setting, you might find yourself complaining about the acoustics a bit.  If the performance is solid, you can begin to overlook a few sound problems. So too with this DVD.Guests like Jackson Browne, Ruth Brown and Charles Brown and even some non-Brown(e)s like Kim Wilson and Bryan Adams add to the special event quality of the performance. And Bruce Hornsby adds his distinctive piano to a couple of numbers.  (\"I Can't Make You Love Me\" is particularly affecting.) But my favorite numbers are those featuring  Bonnie and her great band.  The chemistry between them is palpable.She ain't no amoeba.                                                                                                                                                                                                                                                                                                                                                                                                                                                                                                                                                                                                                                                                                                                                                                                                                                                                                                                                                                                                                                                                                                                                                                                                                                                                                                                                                                                                                                                                                                                                                                                                                                                                                                                                                                                                                                                                                                                                                                                                                                                                                                      \n",
       "23     Bonnie is one of my all time favorite artists. I was blown away by the Road Tested CD a few years ago and expected a lot from the DVD. The music, the sound, the stage, the lighting, the registration, the colors are all great indeed, but the editing is all wrong and annoying. A lot of the time the music and film are out of sync, but what is worse is that more than once shots belonging to an other part of the concert are used to fill up gaps elsewhere. I cannot believe that the editor actually thinks that the viewer is stupid enough to fall for these cheap solutions. The mistakes are often so obvious! It is not enough to show, let's say, a drummer who is drumming. NO! We want to see that that drummer is actually playing that particular part of the music that is coming from our speakers at that particular moment.Still, as I said, the concert is great, and the DVD is worth 4 stars; a must have for all her fans.                                                                                                                                                                                                                                                                                                                                                                                                                                                                                                                                                                                                                                                                                                                                                                                                                                                                                                                                                                                                                                                                                                                                                                                                                                                                                                                                                                                                                                                                                                                                                                                                                                                                                                                                                                                                                                                                                                                                                                                                                                                                                                                                                                                                                                                                                                                                                                                                   \n",
       "24     This re-issue of the 1995 classic VHS concerttape/CD should have been  right up there withthe best sound quality you could possible get, but,for some reason it didn't quite rate the very best.It still is top quality entertainment and I give itfour stars ****, come on, it doesn't sound that bad.                                                                                                                                                                                                                                                                                                                                                                                                                                                                                                                                                                                                                                                                                                                                                                                                                                                                                                                                                                                                                                                                                                                                                                                                                                                                                                                                                                                                                                                                                                                                                                                                                                                                                                                                                                                                                                                                                                                                                                                                                                                                                                                                                                                                                                                                                                                                                                                                                                                                                                                                                                                                                                                                                                                                                                                                                                                                                                                                                                                                                                                    \n",
       "25     The sound was excellent.  The video could have been better, but it was shot before all the attention was given to high def.                                                                                                                                                                                                                                                                                                                                                                                                                                                                                                                                                                                                                                                                                                                                                                                                                                                                                                                                                                                                                                                                                                                                                                                                                                                                                                                                                                                                                                                                                                                                                                                                                                                                                                                                                                                                                                                                                                                                                                                                                                                                                                                                                                                                                                                                                                                                                                                                                                                                                                                                                                                                                                                                                                                                                                                                                                                                                                                                                                                                                                                                                                                                                                                                                                \n",
       "26     Let me start with a few words about Bonnie Raitt.  I first saw her at the Lenox Arts Center in MA in the early '70s, and it is one of those performances that sticks with you.  What a musical performance!  And this woman who commented on the bare-chested guys in the audience (what audacity!).  I have to be honest--haven't followed every recording of her career.  But everytime I hear her I'm floored.  Here's a woman who can belt out a ballad, play the blues, and put the most loving touch on a folk song, to bring you to tears.  Versatility is Raitt.  You want proof!?  Just see her on the Stevie Ray Vaughan tribute belting out &quot;Pride and Joy.&quot;  She takes a guy song and makes it into the quintessential girl's torch song!  All I can say is she made a lot of guys lonely (including me!) when she mentions a husband in the concert.  But hey, we are happy for you Bonnie.But what a minute!  The production on this video just doesn't do Bonnie justice.  I've heard much about the audio problems, and I agree.  But the video doesn't give us fans a chance!  I want something more than 5 seconds of a sustained shot on Bonnie and her guitar.  The music is there, but a bit more of Bonnie, without endless cuts to her band, would be desirable.  (A great band mind you, but nonetheless it couldn't hurt to let us see her a bit more!)I would love to see Bonnie in a proper DVD.  How about it Bonnie!  There're plenty of us out here that would love to hear from you.  You are a legend now, like BB and Buddy.  Put your music on record (in resplendent DVD)!  I'll be waiting.                                                                                                                                                                                                                                                                                                                                                                                                                                                                                                                                                                                                                                                                                                                                                                                                                                                                                                                                                                                                                                                                                                                                                                                                                                                                                                                                                                                                                                                                                                                                                                                                                                                                                                                  \n",
       "27     In intimate conversation with daughter Mary (whose husband directed), Paul McCartney discusses life after the Beatles, and how his next challenge was to form a band, pack up the family, and hit the road.  88 minute film seen on ABC-TV is satisfying for fans but footage shown could have been expanded.  We just get snippets of great songs and rare concert footage, and there isn't any interviews or commentary with the rest of the band (save for Linda's posthumous comments) especially from loyal, talented, long-suffering Denny Laine who was there from start to finish.  DVD extras include an additional 22 minute discussion between Paul and Mary, promotional videos for &quot;Jet&quot; and &quot;Let 'Em In&quot; (which were both taken from the &quot;Rockshow&quot; film) and the superstar jam &quot;Rockestra&quot;.  Just three videos?  Also included is a discography and a photo gallery, with 100 pictures.  A neat package, but they should have alloted themselves more than 88 minutes to cover a nine-year career, especially with all the great music involved.                                                                                                                                                                                                                                                                                                                                                                                                                                                                                                                                                                                                                                                                                                                                                                                                                                                                                                                                                                                                                                                                                                                                                                                                                                                                                                                                                                                                                                                                                                                                                                                                                                                                                                                                                                                                                                                                                                                                                                                                                                                                                                                                                                                                                                                    \n",
       "28     The worst thing I can say about Wingspan is that the title is misleading.  I suspect McCartney and his daughter intended to make a documentary about Wings but ended up with one about Paul and Linda instead.  But that's okay, although they should have changed the name of the DVD.The best feature of Wingspan is that Paul, for once, is remarkably articulate in the interview sections.  The questions are more intimate than you might expect from his own daughter, too.  It can't have been easy for him to talk with her about such issues as the drug bust in Japan - but he does it, apparently quite honestly.  I also loved the early films and stories of the retreat in Scotland immediately before and after the Beatles broke up, and the first Wings tour.  The shots of the 1976 American tour are also terrific - if there's enough footage of those shows for a full-length DVD, everyone who sees this will want to buy it.  Just sayin', guys.  While most fans will already know some of the stories he tells, there are several here that I've never heard before, notably the origin of \"Mrs. Vanderbilt\" and the reggae bridge in \"Live and Let Die.\"  I also came away with a lot more respect for Linda after watching this, even if the fact remains that she couldn't sing.What's not so good is the discussion of the other members of Wings and the band's work as a whole - which, after all, is apparently what the show was supposed to be about in the first place.  With occasional exceptions, the talk about the songs is fairly cursory, and this is even more true when it comes to the musicians.  Denny Laine, the only constant member of Wings besides Paul and Linda (and, on two occasions, the only other member of the band) doesn't get anywhere near the screen time he warrants.  Some of the other members literally only get one mention in passing.  Then again, that is an accurate reflection of how long they were in the group!  Their best-selling album, \"Wings at the Speed of Sound,\" isn't discussed at all and only about a minute's worth of it is even used as background music.  (I can't help wondering if this is Paul and Mary's way of acknowledging that, big as it was, it's not a very good album.)  During the segment on the 1976 tour, he recites a rather obnoxious nursery rhyme he made up in response to questions about a Beatles reunion - without ever mentioning that Ringo turned up at one of the shows and he seemed quite happy about it at the time.  I'd love to know why he left that out.Overall, the good outweighs the bad.  Now, let's see about a full-length Wings concert DVD...                                                                                                                                                                                                                                                                                                                                                                                                                                                                                                                                                                                                                                                                   \n",
       "29     For this \"rockumentary,\" Paul McCartney is interviewed by his daughter. He is very playful and relaxed, given his familiarity with the interviewer. At the beginning of the program we witness the dissolution of the Beatles and the marriage of Paul and Linda. Interestingly, none of the other Beatles were in attendance at the hastily arranged nuptials. Later, Paul wonders if he can make it as a solo artist. After releasing a couple of solo albums, he decides to form a new band. His wife Linda would be a member of the group, even though she had little musical experience. Paul admired Denny Laine's guitar playing and singing with the Moody Blues.  Denny was asked to join his new group Wings. As it turned out, Denny Laine was the ONLY member of Wings to stay with the group from start to finish, other than Linda. However, his musical contributions - what songs he wrote and sang on, or contributed a guitar solo to - are never discussed. Mr. Laine was not interviewed for this DVD, nor are any clips of old interviews with him included. Other band members are only mentioned in passing although, to be fair, most only lasted with Wings a short time.As Paul said near the end of the program, he proved that he could have major hits and successful world tours with another band after the Beatles. After Paul's infamous drug bust in Japan, he felt that it was time to give everything a rest. Thus Wings ended, not with a bang but with a whimper. Surprisingly, there is no booklet or even an insert included with the DVD. The extras include complete live performances of two songs - \"Jet\" and \"Let 'Em In\" - as well as the studio session for the instrumental \"Rockestra.\" The discography contains mistakes; when you click on the song list for \"Wings Over America\" it displays the song list for \"Wings At The Speed Of Sound.\" A little more attention to detail and interviews with other band members could easily have made this a 5 star DVD.                                                                                                                                                                                                                                                                                                                                                                                                                                                                                                                                                                                                                                                                                                                                                                                                                                                                                                                                                                                                                                                                                                                                                                                                                                                                                                                                       \n",
       "...                                                                                                                                                                                                                                                                                                                                                                                                                                                                                                                                                                                                                                                                                                                                                                                                                                                                                                                                                                                                                                                                                                                                                                                                                                                                                                                                                                                                                                                                                                                                                                                                                                                                                                                                                                                                                                                                                                                                                                                                                     ...                                                                                                                                                                                                                                                                                                                                                                                                                                                                                                                                                                                                                                                                                                                                                                                                                                                                                                                                                                                                                                                                                                                                                                                                                                                                                                                                       \n",
       "57570  To be honest, despite the large number of titles available in the Amazon Prime library, there are very few films in this collection that appeal to me. I was pleasantly surprised to find that The Snow Walker is an emotionally charged film about a greedy, homophobic, self-absorbed daredevil pilot whose plane crashes in the Arctic. Although initially he has little respect for the native Inuit tribes who inhabit the land, he learns the skills that he needs to survive from a young Inuit woman who teaches him how to fish and hunt, how to stitch animal skins into clothing and boots, how to stay alive in a frigid and hostile environment. The photography of the vast landscape is amazingly beautiful. I was moved by the physical and emotional journey portrayed in this film.                                                                                                                                                                                                                                                                                                                                                                                                                                                                                                                                                                                                                                                                                                                                                                                                                                                                                                                                                                                                                                                                                                                                                                                                                                                                                                                                                                                                                                                                                                                                                                                                                                                                                                                                                                                                                                                                                                                                                                                                                                                                                                                                                                                                                                                                                                                                                                                                                                                                                                                                                      \n",
       "57571  The movie clearly portrayed the dignity,  adaptability and courage of these native people. We can all learn much from others.                                                                                                                                                                                                                                                                                                                                                                                                                                                                                                                                                                                                                                                                                                                                                                                                                                                                                                                                                                                                                                                                                                                                                                                                                                                                                                                                                                                                                                                                                                                                                                                                                                                                                                                                                                                                                                                                                                                                                                                                                                                                                                                                                                                                                                                                                                                                                                                                                                                                                                                                                                                                                                                                                                                                                                                                                                                                                                                                                                                                                                                                                                                                                                                                                              \n",
       "57572  I wouldn't pay theater admission to see this move .Only because servival movies aren't mt thing . this is a good story and the movie was well made.                                                                                                                                                                                                                                                                                                                                                                                                                                                                                                                                                                                                                                                                                                                                                                                                                                                                                                                                                                                                                                                                                                                                                                                                                                                                                                                                                                                                                                                                                                                                                                                                                                                                                                                                                                                                                                                                                                                                                                                                                                                                                                                                                                                                                                                                                                                                                                                                                                                                                                                                                                                                                                                                                                                                                                                                                                                                                                                                                                                                                                                                                                                                                                                                        \n",
       "57573  Wasn't sure if I would like it , but it was a great movie. Not a love story, but a good friendship between two people.                                                                                                                                                                                                                                                                                                                                                                                                                                                                                                                                                                                                                                                                                                                                                                                                                                                                                                                                                                                                                                                                                                                                                                                                                                                                                                                                                                                                                                                                                                                                                                                                                                                                                                                                                                                                                                                                                                                                                                                                                                                                                                                                                                                                                                                                                                                                                                                                                                                                                                                                                                                                                                                                                                                                                                                                                                                                                                                                                                                                                                                                                                                                                                                                                                     \n",
       "57574  I liked how the movie showed the vastness of Alaska and the reality of the frustration of being in a situation that you have no control over.  Well done.                                                                                                                                                                                                                                                                                                                                                                                                                                                                                                                                                                                                                                                                                                                                                                                                                                                                                                                                                                                                                                                                                                                                                                                                                                                                                                                                                                                                                                                                                                                                                                                                                                                                                                                                                                                                                                                                                                                                                                                                                                                                                                                                                                                                                                                                                                                                                                                                                                                                                                                                                                                                                                                                                                                                                                                                                                                                                                                                                                                                                                                                                                                                                                                                  \n",
       "57575  I enjoyed this movie very much and I think others will as well.  Well written and good actors.  Try it, you'll be happy you did.                                                                                                                                                                                                                                                                                                                                                                                                                                                                                                                                                                                                                                                                                                                                                                                                                                                                                                                                                                                                                                                                                                                                                                                                                                                                                                                                                                                                                                                                                                                                                                                                                                                                                                                                                                                                                                                                                                                                                                                                                                                                                                                                                                                                                                                                                                                                                                                                                                                                                                                                                                                                                                                                                                                                                                                                                                                                                                                                                                                                                                                                                                                                                                                                                           \n",
       "57576  i really liked this movie good story line had a good ending also alaska is awsome and dangerous people are not always prepared                                                                                                                                                                                                                                                                                                                                                                                                                                                                                                                                                                                                                                                                                                                                                                                                                                                                                                                                                                                                                                                                                                                                                                                                                                                                                                                                                                                                                                                                                                                                                                                                                                                                                                                                                                                                                                                                                                                                                                                                                                                                                                                                                                                                                                                                                                                                                                                                                                                                                                                                                                                                                                                                                                                                                                                                                                                                                                                                                                                                                                                                                                                                                                                                                             \n",
       "57577  Makes you think and appreciate many things.  I would have liked a more cheery ending but this ending was probably more in tune to how life is.                                                                                                                                                                                                                                                                                                                                                                                                                                                                                                                                                                                                                                                                                                                                                                                                                                                                                                                                                                                                                                                                                                                                                                                                                                                                                                                                                                                                                                                                                                                                                                                                                                                                                                                                                                                                                                                                                                                                                                                                                                                                                                                                                                                                                                                                                                                                                                                                                                                                                                                                                                                                                                                                                                                                                                                                                                                                                                                                                                                                                                                                                                                                                                                                             \n",
       "57578  This show is worth the time.  Me and my family enjoyed this movie and would recommend it to other families.                                                                                                                                                                                                                                                                                                                                                                                                                                                                                                                                                                                                                                                                                                                                                                                                                                                                                                                                                                                                                                                                                                                                                                                                                                                                                                                                                                                                                                                                                                                                                                                                                                                                                                                                                                                                                                                                                                                                                                                                                                                                                                                                                                                                                                                                                                                                                                                                                                                                                                                                                                                                                                                                                                                                                                                                                                                                                                                                                                                                                                                                                                                                                                                                                                                \n",
       "57579  the scenery is breathtaking and the story flows well. Though I didn't quite understand the animosity between the owner an the one pilot.  Not an action movie and that's ok. It's a very well acted movie.                                                                                                                                                                                                                                                                                                                                                                                                                                                                                                                                                                                                                                                                                                                                                                                                                                                                                                                                                                                                                                                                                                                                                                                                                                                                                                                                                                                                                                                                                                                                                                                                                                                                                                                                                                                                                                                                                                                                                                                                                                                                                                                                                                                                                                                                                                                                                                                                                                                                                                                                                                                                                                                                                                                                                                                                                                                                                                                                                                                                                                                                                                                                                 \n",
       "57580  It was interesting movie, I really enjoyed it, makes you think when you are all cozy in modern things and something goes wrong and you end up in the middle of nowhere.                                                                                                                                                                                                                                                                                                                                                                                                                                                                                                                                                                                                                                                                                                                                                                                                                                                                                                                                                                                                                                                                                                                                                                                                                                                                                                                                                                                                                                                                                                                                                                                                                                                                                                                                                                                                                                                                                                                                                                                                                                                                                                                                                                                                                                                                                                                                                                                                                                                                                                                                                                                                                                                                                                                                                                                                                                                                                                                                                                                                                                                                                                                                                                                    \n",
       "57581  Really liked the movie. Keep your interest. Anyone who likes the outdoor would like this movie.  Family members who watched it liked it also.                                                                                                                                                                                                                                                                                                                                                                                                                                                                                                                                                                                                                                                                                                                                                                                                                                                                                                                                                                                                                                                                                                                                                                                                                                                                                                                                                                                                                                                                                                                                                                                                                                                                                                                                                                                                                                                                                                                                                                                                                                                                                                                                                                                                                                                                                                                                                                                                                                                                                                                                                                                                                                                                                                                                                                                                                                                                                                                                                                                                                                                                                                                                                                                                              \n",
       "57582  I enjoyed the movie. It was a story that actually could have happened. The young man who lived a wild life redeemed himself when he cared for a sick young woman and she saved his life, too. An unlikely pair who ended up helping one another.                                                                                                                                                                                                                                                                                                                                                                                                                                                                                                                                                                                                                                                                                                                                                                                                                                                                                                                                                                                                                                                                                                                                                                                                                                                                                                                                                                                                                                                                                                                                                                                                                                                                                                                                                                                                                                                                                                                                                                                                                                                                                                                                                                                                                                                                                                                                                                                                                                                                                                                                                                                                                                                                                                                                                                                                                                                                                                                                                                                                                                                                                                           \n",
       "57583  Overall a great movie with some great scenes depicting raw nature. Acting is well done. A few scenes were a little slow but overall this was a great movie although it could have ended in a better way.                                                                                                                                                                                                                                                                                                                                                                                                                                                                                                                                                                                                                                                                                                                                                                                                                                                                                                                                                                                                                                                                                                                                                                                                                                                                                                                                                                                                                                                                                                                                                                                                                                                                                                                                                                                                                                                                                                                                                                                                                                                                                                                                                                                                                                                                                                                                                                                                                                                                                                                                                                                                                                                                                                                                                                                                                                                                                                                                                                                                                                                                                                                                                   \n",
       "57584  I have never heard of this movie. Noticed it was on Prime and decided to watch it. It was surprisingly good. It's these small films that are the real gems. A wonderful film about nature/humans/survival/and cultural respect. If you want to watch an uplifting movie, I highly encourage this movie. The actor and actress are wonderful.                                                                                                                                                                                                                                                                                                                                                                                                                                                                                                                                                                                                                                                                                                                                                                                                                                                                                                                                                                                                                                                                                                                                                                                                                                                                                                                                                                                                                                                                                                                                                                                                                                                                                                                                                                                                                                                                                                                                                                                                                                                                                                                                                                                                                                                                                                                                                                                                                                                                                                                                                                                                                                                                                                                                                                                                                                                                                                                                                                                                               \n",
       "57585  This is a Canadian production, which was very well done. The story was set around the two main characters, both of whom were outstanding. An interesting and uplifting story - too bad the US film industry has to rely on violence, sex and ridiculous action themes for most of our productions.                                                                                                                                                                                                                                                                                                                                                                                                                                                                                                                                                                                                                                                                                                                                                                                                                                                                                                                                                                                                                                                                                                                                                                                                                                                                                                                                                                                                                                                                                                                                                                                                                                                                                                                                                                                                                                                                                                                                                                                                                                                                                                                                                                                                                                                                                                                                                                                                                                                                                                                                                                                                                                                                                                                                                                                                                                                                                                                                                                                                                                                         \n",
       "57586  I really enjoyed this movie.  Although uncomplicated, the plot, characters and scenery were all compelling and held my interest. It would never be blockbuster, but some of the best stories never are.                                                                                                                                                                                                                                                                                                                                                                                                                                                                                                                                                                                                                                                                                                                                                                                                                                                                                                                                                                                                                                                                                                                                                                                                                                                                                                                                                                                                                                                                                                                                                                                                                                                                                                                                                                                                                                                                                                                                                                                                                                                                                                                                                                                                                                                                                                                                                                                                                                                                                                                                                                                                                                                                                                                                                                                                                                                                                                                                                                                                                                                                                                                                                    \n",
       "57587  I thoroughly enjoyed the movie.  It kept me entertained through the whole movie.  I would like to see more movies of this quality.                                                                                                                                                                                                                                                                                                                                                                                                                                                                                                                                                                                                                                                                                                                                                                                                                                                                                                                                                                                                                                                                                                                                                                                                                                                                                                                                                                                                                                                                                                                                                                                                                                                                                                                                                                                                                                                                                                                                                                                                                                                                                                                                                                                                                                                                                                                                                                                                                                                                                                                                                                                                                                                                                                                                                                                                                                                                                                                                                                                                                                                                                                                                                                                                                         \n",
       "57588  I really liked this movie. The adventure intrigued me enough to want to see what happened next. The story was rich and I liked watching the transformation in the characters and their developing relationship. Would recommend this movie to anyone who enjoys movies that depict the strength of human nature.                                                                                                                                                                                                                                                                                                                                                                                                                                                                                                                                                                                                                                                                                                                                                                                                                                                                                                                                                                                                                                                                                                                                                                                                                                                                                                                                                                                                                                                                                                                                                                                                                                                                                                                                                                                                                                                                                                                                                                                                                                                                                                                                                                                                                                                                                                                                                                                                                                                                                                                                                                                                                                                                                                                                                                                                                                                                                                                                                                                                                                           \n",
       "57589  Survival in the far north.The film is essentially two people trying to survive the elements -a cocky bush pilot and a lovely young First Nation woman who is ill. Very good development of a relationship when the individuals are from different societies and who do not speak the same language  yet must work together to survive. There were no polar bear or wolf attacks, just the cold,wet, hunger and approaching winter. Make some hot chocolate and snuggle in to celebrate your cozy home!                                                                                                                                                                                                                                                                                                                                                                                                                                                                                                                                                                                                                                                                                                                                                                                                                                                                                                                                                                                                                                                                                                                                                                                                                                                                                                                                                                                                                                                                                                                                                                                                                                                                                                                                                                                                                                                                                                                                                                                                                                                                                                                                                                                                                                                                                                                                                                                                                                                                                                                                                                                                                                                                                                                                                                                                                                                     \n",
       "57590  if you enjoy the outdoors, you will enjoy this movie.  It has a bit of everything rolled into one enjoyable movie                                                                                                                                                                                                                                                                                                                                                                                                                                                                                                                                                                                                                                                                                                                                                                                                                                                                                                                                                                                                                                                                                                                                                                                                                                                                                                                                                                                                                                                                                                                                                                                                                                                                                                                                                                                                                                                                                                                                                                                                                                                                                                                                                                                                                                                                                                                                                                                                                                                                                                                                                                                                                                                                                                                                                                                                                                                                                                                                                                                                                                                                                                                                                                                                                                          \n",
       "57591  We liked the story line and how you can change a person's ways through the thoughtfulness and/or knowledge of others.                                                                                                                                                                                                                                                                                                                                                                                                                                                                                                                                                                                                                                                                                                                                                                                                                                                                                                                                                                                                                                                                                                                                                                                                                                                                                                                                                                                                                                                                                                                                                                                                                                                                                                                                                                                                                                                                                                                                                                                                                                                                                                                                                                                                                                                                                                                                                                                                                                                                                                                                                                                                                                                                                                                                                                                                                                                                                                                                                                                                                                                                                                                                                                                                                                      \n",
       "57592  If you get past the rantings and ravings of the &#34;pilot&#34;, it is a very good movie.  What is the heartwarming part of the movie is the Inuit woman, there is more to it than what meets the eye!!!                                                                                                                                                                                                                                                                                                                                                                                                                                                                                                                                                                                                                                                                                                                                                                                                                                                                                                                                                                                                                                                                                                                                                                                                                                                                                                                                                                                                                                                                                                                                                                                                                                                                                                                                                                                                                                                                                                                                                                                                                                                                                                                                                                                                                                                                                                                                                                                                                                                                                                                                                                                                                                                                                                                                                                                                                                                                                                                                                                                                                                                                                                                                                   \n",
       "57593  It was captivating with great scenery.                                                                                                                                                                                                                                                                                                                                                                                                                                                                                                                                                                                                                                                                                                                                                                                                                                                                                                                                                                                                                                                                                                                                                                                                                                                                                                                                                                                                                                                                                                                                                                                                                                                                                                                                                                                                                                                                                                                                                                                                                                                                                                                                                                                                                                                                                                                                                                                                                                                                                                                                                                                                                                                                                                                                                                                                                                                                                                                                                                                                                                                                                                                                                                                                                                                                                                                     \n",
       "57594  Enjoyed the film but would have liked a differentending where his hometown knew he survived.Too strange an ending for my liking.                                                                                                                                                                                                                                                                                                                                                                                                                                                                                                                                                                                                                                                                                                                                                                                                                                                                                                                                                                                                                                                                                                                                                                                                                                                                                                                                                                                                                                                                                                                                                                                                                                                                                                                                                                                                                                                                                                                                                                                                                                                                                                                                                                                                                                                                                                                                                                                                                                                                                                                                                                                                                                                                                                                                                                                                                                                                                                                                                                                                                                                                                                                                                                                                                           \n",
       "57595  it was something different, and I liked the Native American traits it brought out, I just might watch it again                                                                                                                                                                                                                                                                                                                                                                                                                                                                                                                                                                                                                                                                                                                                                                                                                                                                                                                                                                                                                                                                                                                                                                                                                                                                                                                                                                                                                                                                                                                                                                                                                                                                                                                                                                                                                                                                                                                                                                                                                                                                                                                                                                                                                                                                                                                                                                                                                                                                                                                                                                                                                                                                                                                                                                                                                                                                                                                                                                                                                                                                                                                                                                                                                                             \n",
       "57596  Interesting movie...thought provoking, and well done. Well worth the time to watch, and a different approach to an age old theme.                                                                                                                                                                                                                                                                                                                                                                                                                                                                                                                                                                                                                                                                                                                                                                                                                                                                                                                                                                                                                                                                                                                                                                                                                                                                                                                                                                                                                                                                                                                                                                                                                                                                                                                                                                                                                                                                                                                                                                                                                                                                                                                                                                                                                                                                                                                                                                                                                                                                                                                                                                                                                                                                                                                                                                                                                                                                                                                                                                                                                                                                                                                                                                                                                          \n",
       "57597  The only problem I had with this movie and the reason for not giving it five stars was the beginning.  A little too raunchy for my taste and certainly didn't make the group of pilots look very good.  Pretty much all of them were foul-mouthed, money-grubbing and drunk womanizers who live in filthy houses or apartments, but, after the movie got off the ground, it really took off (pun intended).The whole story is beautifully told after that beginning and the photography and directing (Charles Martin Smith) is stunning.  Annabella Piugattuk is wonderful to watch and Barry Pepper did a terrific job too.I have seen this movie before and would recommend it without hesitation to anyone.                                                                                                                                                                                                                                                                                                                                                                                                                                                                                                                                                                                                                                                                                                                                                                                                                                                                                                                                                                                                                                                                                                                                                                                                                                                                                                                                                                                                                                                                                                                                                                                                                                                                                                                                                                                                                                                                                                                                                                                                                                                                                                                                                                                                                                                                                                                                                                                                                                                                                                                                                                                                                                            \n",
       "57598  It was a good movie showing the harshness of Alaska, and the human spirit to keep going.  I liked it and would recommend it.                                                                                                                                                                                                                                                                                                                                                                                                                                                                                                                                                                                                                                                                                                                                                                                                                                                                                                                                                                                                                                                                                                                                                                                                                                                                                                                                                                                                                                                                                                                                                                                                                                                                                                                                                                                                                                                                                                                                                                                                                                                                                                                                                                                                                                                                                                                                                                                                                                                                                                                                                                                                                                                                                                                                                                                                                                                                                                                                                                                                                                                                                                                                                                                                                               \n",
       "57599  We really enjoyed this movie..scary survival scenario under any circumstances, gripping right to the end. Just the right mix of fear and feel good for is.                                                                                                                                                                                                                                                                                                                                                                                                                                                                                                                                                                                                                                                                                                                                                                                                                                                                                                                                                                                                                                                                                                                                                                                                                                                                                                                                                                                                                                                                                                                                                                                                                                                                                                                                                                                                                                                                                                                                                                                                                                                                                                                                                                                                                                                                                                                                                                                                                                                                                                                                                                                                                                                                                                                                                                                                                                                                                                                                                                                                                                                                                                                                                                                                 \n",
       "\n",
       "       overall  \n",
       "0      4.0      \n",
       "1      4.0      \n",
       "2      4.0      \n",
       "3      4.0      \n",
       "4      4.0      \n",
       "5      4.0      \n",
       "6      4.0      \n",
       "7      4.0      \n",
       "8      4.0      \n",
       "9      4.0      \n",
       "10     4.0      \n",
       "11     4.0      \n",
       "12     4.0      \n",
       "13     4.0      \n",
       "14     4.0      \n",
       "15     4.0      \n",
       "16     4.0      \n",
       "17     4.0      \n",
       "18     4.0      \n",
       "19     4.0      \n",
       "20     4.0      \n",
       "21     4.0      \n",
       "22     4.0      \n",
       "23     4.0      \n",
       "24     4.0      \n",
       "25     4.0      \n",
       "26     4.0      \n",
       "27     4.0      \n",
       "28     4.0      \n",
       "29     4.0      \n",
       "...    ...      \n",
       "57570  4.0      \n",
       "57571  4.0      \n",
       "57572  4.0      \n",
       "57573  4.0      \n",
       "57574  4.0      \n",
       "57575  4.0      \n",
       "57576  4.0      \n",
       "57577  4.0      \n",
       "57578  4.0      \n",
       "57579  4.0      \n",
       "57580  4.0      \n",
       "57581  4.0      \n",
       "57582  4.0      \n",
       "57583  4.0      \n",
       "57584  4.0      \n",
       "57585  4.0      \n",
       "57586  4.0      \n",
       "57587  4.0      \n",
       "57588  4.0      \n",
       "57589  4.0      \n",
       "57590  4.0      \n",
       "57591  4.0      \n",
       "57592  4.0      \n",
       "57593  4.0      \n",
       "57594  4.0      \n",
       "57595  4.0      \n",
       "57596  4.0      \n",
       "57597  4.0      \n",
       "57598  4.0      \n",
       "57599  4.0      \n",
       "\n",
       "[57193 rows x 4 columns]"
      ]
     },
     "execution_count": 8,
     "metadata": {},
     "output_type": "execute_result"
    }
   ],
   "source": [
    "train_test_dic['train']['positive'].head(3)\n",
    "# df1[(df1['reviewerID'] == 'A32244V7CQUBD6') & (df1['asin'] == 'B00005QFEK')]"
   ]
  },
  {
   "cell_type": "code",
   "execution_count": null,
   "metadata": {},
   "outputs": [],
   "source": [
    "# df1 = movie_reviews['train']['positive']\n",
    "# df1[(df1['reviewerID'] == 'A32244V7CQUBD6') & (df1['asin'] == 'B00005QFEK')]"
   ]
  },
  {
   "cell_type": "code",
   "execution_count": null,
   "metadata": {},
   "outputs": [],
   "source": [
    "# movie_reviews = train_test_dic"
   ]
  },
  {
   "cell_type": "markdown",
   "metadata": {},
   "source": [
    "# Choose case"
   ]
  },
  {
   "cell_type": "code",
   "execution_count": 32,
   "metadata": {},
   "outputs": [],
   "source": [
    "# if False:\n",
    "#     pickle_out = open(data_path\n",
    "#                     + 'movie_reviews_' \n",
    "#                     + str(tot_reviews) + 'Pos_Neg_Samples.pkl'\n",
    "#                     , \"wb\")\n",
    "#     pickle.dump(movie_reviews, pickle_out)\n",
    "#     pickle_out.close()\n",
    "CASE = 'A'\n",
    "\n",
    "if CASE == 'A':\n",
    "    pickle_in = open(data_path\n",
    "                    + 'A_forreviews_wout_most_subj_0.15.pkl'\n",
    "                    , \"rb\")\n",
    "    movie_reviews = pickle.load(pickle_in)\n",
    "else:\n",
    "    pickle_in = open(data_path\n",
    "                    + 'reviews_wout_most_subj_0.15.pkl'\n",
    "                    , \"rb\")\n",
    "    movie_reviews = pickle.load(pickle_in)\n",
    "pickle_in.close()"
   ]
  },
  {
   "cell_type": "code",
   "execution_count": 10,
   "metadata": {},
   "outputs": [],
   "source": [
    "# if False:\n",
    "#     for i in ['train','test']:\n",
    "#         for j in ['positive','negative']:\n",
    "#             movie_reviews[i][j]['words'] = \\\n",
    "#                 word_bag.create(movie_reviews[i][j]['reviewText'])"
   ]
  },
  {
   "cell_type": "code",
   "execution_count": 33,
   "metadata": {},
   "outputs": [],
   "source": [
    "# total = 0\n",
    "# for i in ['train','test']:\n",
    "#     for j in ['positive','negative']:\n",
    "#         print(train_test_dic[i][j].shape)\n",
    "#         total += train_test_dic[i][j].shape[0]\n",
    "# total"
   ]
  },
  {
   "cell_type": "code",
   "execution_count": 34,
   "metadata": {},
   "outputs": [
    {
     "name": "stdout",
     "output_type": "stream",
     "text": [
      "(57193, 4)\n",
      "(57219, 4)\n",
      "(14309, 4)\n",
      "(14319, 4)\n"
     ]
    },
    {
     "data": {
      "text/plain": [
       "143040"
      ]
     },
     "execution_count": 34,
     "metadata": {},
     "output_type": "execute_result"
    }
   ],
   "source": [
    "total = 0\n",
    "for i in ['train','test']:\n",
    "    for j in ['positive','negative']:\n",
    "        print(movie_reviews[i][j].shape)\n",
    "        total += movie_reviews[i][j].shape[0]\n",
    "total"
   ]
  },
  {
   "cell_type": "code",
   "execution_count": 35,
   "metadata": {},
   "outputs": [
    {
     "data": {
      "text/html": [
       "<div>\n",
       "<style scoped>\n",
       "    .dataframe tbody tr th:only-of-type {\n",
       "        vertical-align: middle;\n",
       "    }\n",
       "\n",
       "    .dataframe tbody tr th {\n",
       "        vertical-align: top;\n",
       "    }\n",
       "\n",
       "    .dataframe thead th {\n",
       "        text-align: right;\n",
       "    }\n",
       "</style>\n",
       "<table border=\"1\" class=\"dataframe\">\n",
       "  <thead>\n",
       "    <tr style=\"text-align: right;\">\n",
       "      <th></th>\n",
       "      <th>asin</th>\n",
       "      <th>reviewerID</th>\n",
       "      <th>reviewText</th>\n",
       "      <th>overall</th>\n",
       "    </tr>\n",
       "  </thead>\n",
       "  <tbody>\n",
       "    <tr>\n",
       "      <th>0</th>\n",
       "      <td>0</td>\n",
       "      <td>A32244V7CQUBD6</td>\n",
       "      <td>This video actually focuses mostly on one of the characters that Emmanuelle (Krista Allen) is trying to teach about sex &amp; love. It's still pretty entertaining but if you are mostly interested in Kirsta Allen then you should know that she's not really in much of this episode.</td>\n",
       "      <td>4.0</td>\n",
       "    </tr>\n",
       "    <tr>\n",
       "      <th>1</th>\n",
       "      <td>1</td>\n",
       "      <td>A32244V7CQUBD6</td>\n",
       "      <td>This episode pretty much has Hafron and Emmanuelle teleporting to different parts of the world and &amp;quot;doing it&amp;quot;. There is the continuing plot from an earlier episode of some group on Earth trying to track them down. That's the main reason for Emmanuelle and Hafron to jump to different parts of the world. Otherwise, this episode is mostly sex scenes.</td>\n",
       "      <td>4.0</td>\n",
       "    </tr>\n",
       "    <tr>\n",
       "      <th>2</th>\n",
       "      <td>2</td>\n",
       "      <td>A33KKMGGVLZ29T</td>\n",
       "      <td>This is an intimate concert of Robert Mirabal.  Although I thought that it was, as I said, masterful, the sound, at times sounded a little muffled.The storytelling of the songs gave an insight of native culture and of Mirabal's own family stories and history.The Dance and Ee You Oo are my picks for the best songs, but they are all a joy to watch.  The Rare Tribal Mob and the Mirabal Singers/Dancers are great and provide a mesmerising stage performance.Very enjoyable</td>\n",
       "      <td>4.0</td>\n",
       "    </tr>\n",
       "  </tbody>\n",
       "</table>\n",
       "</div>"
      ],
      "text/plain": [
       "   asin      reviewerID  \\\n",
       "0  0     A32244V7CQUBD6   \n",
       "1  1     A32244V7CQUBD6   \n",
       "2  2     A33KKMGGVLZ29T   \n",
       "\n",
       "                                                                                                                                                                                                                                                                                                                                                                                                                                                                               reviewText  \\\n",
       "0  This video actually focuses mostly on one of the characters that Emmanuelle (Krista Allen) is trying to teach about sex & love. It's still pretty entertaining but if you are mostly interested in Kirsta Allen then you should know that she's not really in much of this episode.                                                                                                                                                                                                      \n",
       "1  This episode pretty much has Hafron and Emmanuelle teleporting to different parts of the world and &quot;doing it&quot;. There is the continuing plot from an earlier episode of some group on Earth trying to track them down. That's the main reason for Emmanuelle and Hafron to jump to different parts of the world. Otherwise, this episode is mostly sex scenes.                                                                                                                  \n",
       "2  This is an intimate concert of Robert Mirabal.  Although I thought that it was, as I said, masterful, the sound, at times sounded a little muffled.The storytelling of the songs gave an insight of native culture and of Mirabal's own family stories and history.The Dance and Ee You Oo are my picks for the best songs, but they are all a joy to watch.  The Rare Tribal Mob and the Mirabal Singers/Dancers are great and provide a mesmerising stage performance.Very enjoyable   \n",
       "\n",
       "   overall  \n",
       "0  4.0      \n",
       "1  4.0      \n",
       "2  4.0      "
      ]
     },
     "execution_count": 35,
     "metadata": {},
     "output_type": "execute_result"
    }
   ],
   "source": [
    "movie_reviews['train']['positive'].head(3)"
   ]
  },
  {
   "cell_type": "markdown",
   "metadata": {},
   "source": [
    "### TF-IDF setup"
   ]
  },
  {
   "cell_type": "code",
   "execution_count": 36,
   "metadata": {},
   "outputs": [],
   "source": [
    "MAX_FEATURES = 10000"
   ]
  },
  {
   "cell_type": "code",
   "execution_count": 37,
   "metadata": {},
   "outputs": [],
   "source": [
    "tfidf = TfidfVectorizer(\n",
    "    lowercase=True, \n",
    "    stop_words=None, \n",
    "    max_features=MAX_FEATURES,\n",
    "    norm='l2',            # normalize each review\n",
    "    use_idf=True) "
   ]
  },
  {
   "cell_type": "code",
   "execution_count": 38,
   "metadata": {},
   "outputs": [],
   "source": [
    "train_words = pd.concat([movie_reviews['train']['positive']['reviewText'],\n",
    "                     movie_reviews['train']['negative']['reviewText']])\n",
    "y_train = np.concatenate([np.ones((movie_reviews['train']['positive'].shape[0],)), \n",
    "                          np.zeros((movie_reviews['train']['negative'].shape[0],))])\n",
    "test_words = pd.concat([movie_reviews['test']['positive']['reviewText'],\n",
    "                     movie_reviews['test']['negative']['reviewText']])\n",
    "y_test = np.concatenate([np.ones((movie_reviews['test']['positive'].shape[0],)), \n",
    "                          np.zeros((movie_reviews['test']['negative'].shape[0],))])"
   ]
  },
  {
   "cell_type": "code",
   "execution_count": 39,
   "metadata": {},
   "outputs": [],
   "source": [
    "SPARSE = True\n",
    "\n",
    "if SPARSE:\n",
    "    # Optimization: add the review length while keeping sparse matrix\n",
    "    tf_train = tfidf.fit_transform(train_words)\n",
    "    tf_test = tfidf.transform(test_words)\n",
    "else:\n",
    "    tf_train = tfidf.fit_transform(train_words).todense()\n",
    "    tf_test = tfidf.transform(test_words).todense()"
   ]
  },
  {
   "cell_type": "code",
   "execution_count": 40,
   "metadata": {},
   "outputs": [],
   "source": [
    "# print(len(tfidf.vocabulary_))\n",
    "# tfidf.vocabulary_"
   ]
  },
  {
   "cell_type": "markdown",
   "metadata": {},
   "source": [
    "## Add review length to modeling input"
   ]
  },
  {
   "cell_type": "code",
   "execution_count": 41,
   "metadata": {},
   "outputs": [],
   "source": [
    "ADD_LENGTH = False\n",
    "\n",
    "if ADD_LENGTH:\n",
    "    if SPARSE:\n",
    "        # Hack: pick an existing word to store the count\n",
    "        len_idx = 0\n",
    "        test_lengths = [len(words) for words in test_words]\n",
    "\n",
    "        for idx,words in enumerate(train_words):\n",
    "            tf_train[idx][len_idx] = len(words)\n",
    "        for idx,words in enumerate(test_words):\n",
    "            tf_test[idx][len_idx] = len(words)\n",
    "        X_train = tf_train\n",
    "        X_test = tf_test\n",
    "    else:\n",
    "        train_lengths = np.array([len(words) for words in train_words]).reshape(-1,1)\n",
    "        test_lengths = np.array([len(words) for words in test_words]).reshape(-1,1)\n",
    "        X_train = np.concatenate([tf_train, train_lengths],axis=1)\n",
    "        X_test = np.concatenate([tf_test, test_lengths],axis=1)\n",
    "else:\n",
    "    X_train = tf_train\n",
    "    X_test = tf_test"
   ]
  },
  {
   "cell_type": "markdown",
   "metadata": {},
   "source": [
    "### Test and save"
   ]
  },
  {
   "cell_type": "code",
   "execution_count": 42,
   "metadata": {},
   "outputs": [],
   "source": [
    "if X_train.shape[0] != y_train.shape[0] or X_test.shape[0] != y_test.shape[0]:\n",
    "    print('@@@ Problem! @@@')\n",
    "    print(X_train.shape)\n",
    "    print(y_train.shape)\n",
    "    print(X_test.shape)\n",
    "    print(y_test.shape)"
   ]
  },
  {
   "cell_type": "code",
   "execution_count": 43,
   "metadata": {},
   "outputs": [],
   "source": [
    "if False:\n",
    "    pickle_out = open(data_path \n",
    "                      + 'tfidf_' \n",
    "                      + str(X_train.shape[0]) + 'Pos_Neg_Samples_'\n",
    "                      + str(X_train.shape[1]) + 'Feats.pkl'\n",
    "                      ,\"wb\")\n",
    "    pickle.dump(tfidf, pickle_out)\n",
    "    pickle_out.close()"
   ]
  },
  {
   "cell_type": "markdown",
   "metadata": {},
   "source": [
    "## Gradient Boosting Classifier for Base"
   ]
  },
  {
   "cell_type": "code",
   "execution_count": 44,
   "metadata": {},
   "outputs": [],
   "source": [
    "# Gradient Boosting Classifier parameters\n",
    "# N_TREES = math.floor(np.sqrt(NB_SAMPLES) * 1.2)\n",
    "N_TREES = 500\n",
    "LEARN_RATE = 0.2\n",
    "MAX_DEPTH = 8\n",
    "MIN_IN_LEAF = 5 #7\n",
    "MAX_FEATURES = 'sqrt'"
   ]
  },
  {
   "cell_type": "code",
   "execution_count": 45,
   "metadata": {},
   "outputs": [],
   "source": [
    "gbc = GradientBoostingClassifier(learning_rate=LEARN_RATE, \n",
    "                                n_estimators=N_TREES, \n",
    "                                min_samples_leaf=MIN_IN_LEAF,\n",
    "                                max_depth=MAX_DEPTH,\n",
    "                                max_features=MAX_FEATURES)"
   ]
  },
  {
   "cell_type": "code",
   "execution_count": 46,
   "metadata": {},
   "outputs": [
    {
     "data": {
      "text/plain": [
       "GradientBoostingClassifier(criterion='friedman_mse', init=None,\n",
       "                           learning_rate=0.2, loss='deviance', max_depth=8,\n",
       "                           max_features='sqrt', max_leaf_nodes=None,\n",
       "                           min_impurity_decrease=0.0, min_impurity_split=None,\n",
       "                           min_samples_leaf=5, min_samples_split=2,\n",
       "                           min_weight_fraction_leaf=0.0, n_estimators=500,\n",
       "                           n_iter_no_change=None, presort='auto',\n",
       "                           random_state=None, subsample=1.0, tol=0.0001,\n",
       "                           validation_fraction=0.1, verbose=0,\n",
       "                           warm_start=False)"
      ]
     },
     "execution_count": 46,
     "metadata": {},
     "output_type": "execute_result"
    }
   ],
   "source": [
    "gbc.fit(X_train, y_train)"
   ]
  },
  {
   "cell_type": "code",
   "execution_count": 47,
   "metadata": {},
   "outputs": [],
   "source": [
    "if False:\n",
    "    pickle.dump(gbc, open(data_path + 'GBC_'\n",
    "                       + str(NB_SAMPLES) + '_samples_'\n",
    "                       + str(N_TREES) + '_trees_' \n",
    "                       + str(LEARN_RATE) + '_lr_' \n",
    "                       + str(MAX_DEPTH) + '_maxdpth_'\n",
    "                       + str(MIN_IN_LEAF) + '_minleaf_'\n",
    "                       + str(MAX_FEATURES) + '_feats_'\n",
    "                       + '.pkl', 'wb'))"
   ]
  },
  {
   "cell_type": "code",
   "execution_count": 48,
   "metadata": {},
   "outputs": [
    {
     "name": "stdout",
     "output_type": "stream",
     "text": [
      "sqrt  features 500 trees;  0.2 learn_rate;  8 max_dpth;  5 min_in_leaf\n"
     ]
    },
    {
     "data": {
      "text/markdown": [
       "### Report for Gradient Boosting Classifier on training set:"
      ],
      "text/plain": [
       "<IPython.core.display.Markdown object>"
      ]
     },
     "metadata": {},
     "output_type": "display_data"
    },
    {
     "data": {
      "text/markdown": [
       "##### Off diagonal: 5%"
      ],
      "text/plain": [
       "<IPython.core.display.Markdown object>"
      ]
     },
     "metadata": {},
     "output_type": "display_data"
    },
    {
     "data": {
      "text/markdown": [
       "#### Confusion Matrix:"
      ],
      "text/plain": [
       "<IPython.core.display.Markdown object>"
      ]
     },
     "metadata": {},
     "output_type": "display_data"
    },
    {
     "name": "stdout",
     "output_type": "stream",
     "text": [
      "[[54241  2978]\n",
      " [ 2356 54837]]\n"
     ]
    },
    {
     "data": {
      "text/markdown": [
       "#### Classification Report:"
      ],
      "text/plain": [
       "<IPython.core.display.Markdown object>"
      ]
     },
     "metadata": {},
     "output_type": "display_data"
    },
    {
     "name": "stdout",
     "output_type": "stream",
     "text": [
      "              precision    recall  f1-score   support\n",
      "\n",
      "         0.0       0.96      0.95      0.95     57219\n",
      "         1.0       0.95      0.96      0.95     57193\n",
      "\n",
      "    accuracy                           0.95    114412\n",
      "   macro avg       0.95      0.95      0.95    114412\n",
      "weighted avg       0.95      0.95      0.95    114412\n",
      "\n"
     ]
    },
    {
     "data": {
      "text/markdown": [
       "### Report for Gradient Boosting Classifier on test set:"
      ],
      "text/plain": [
       "<IPython.core.display.Markdown object>"
      ]
     },
     "metadata": {},
     "output_type": "display_data"
    },
    {
     "data": {
      "text/markdown": [
       "##### Off diagonal: 11%"
      ],
      "text/plain": [
       "<IPython.core.display.Markdown object>"
      ]
     },
     "metadata": {},
     "output_type": "display_data"
    },
    {
     "data": {
      "text/markdown": [
       "#### Confusion Matrix:"
      ],
      "text/plain": [
       "<IPython.core.display.Markdown object>"
      ]
     },
     "metadata": {},
     "output_type": "display_data"
    },
    {
     "name": "stdout",
     "output_type": "stream",
     "text": [
      "[[12608  1711]\n",
      " [ 1373 12936]]\n"
     ]
    },
    {
     "data": {
      "text/markdown": [
       "#### Classification Report:"
      ],
      "text/plain": [
       "<IPython.core.display.Markdown object>"
      ]
     },
     "metadata": {},
     "output_type": "display_data"
    },
    {
     "name": "stdout",
     "output_type": "stream",
     "text": [
      "              precision    recall  f1-score   support\n",
      "\n",
      "         0.0       0.90      0.88      0.89     14319\n",
      "         1.0       0.88      0.90      0.89     14309\n",
      "\n",
      "    accuracy                           0.89     28628\n",
      "   macro avg       0.89      0.89      0.89     28628\n",
      "weighted avg       0.89      0.89      0.89     28628\n",
      "\n"
     ]
    }
   ],
   "source": [
    "%reload_ext autoreload\n",
    "\n",
    "print(MAX_FEATURES, ' features', N_TREES,'trees; ',\n",
    "      LEARN_RATE,'learn_rate; ', MAX_DEPTH, 'max_dpth; ',\n",
    "      MIN_IN_LEAF, 'min_in_leaf')\n",
    "classifier_report(gbc, X_train, y_train,\n",
    "                  'Gradient Boosting Classifier on training set')\n",
    "classifier_report(gbc, X_test, y_test, \n",
    "                  'Gradient Boosting Classifier on test set')"
   ]
  },
  {
   "cell_type": "code",
   "execution_count": 49,
   "metadata": {},
   "outputs": [
    {
     "name": "stdout",
     "output_type": "stream",
     "text": [
      "SAMPLE_FRACTION: 0.4 ADD_LENGTH: False  SPARSE: True  MAX_FEATURES: sqrt\n"
     ]
    }
   ],
   "source": [
    "print('SAMPLE_FRACTION:', SAMPLE_FRACTION,'ADD_LENGTH:',ADD_LENGTH,' SPARSE:',SPARSE,' MAX_FEATURES:',MAX_FEATURES)"
   ]
  },
  {
   "cell_type": "markdown",
   "metadata": {},
   "source": [
    "## Grid search"
   ]
  },
  {
   "cell_type": "code",
   "execution_count": null,
   "metadata": {},
   "outputs": [],
   "source": [
    "if False:\n",
    "    gb_pipe = Pipeline([('vect', tfidf), ('gb', gbc)])\n",
    "    gb_pipe.fit(X_train, y_train)\n",
    "    pickle.dump(gb_pipe, open('pickles/GBCpipe_balanced_comments_'\n",
    "                           + str(N_TREES) + '_trees_' \n",
    "                           + str(LEARN_RATE) + '_lr_' \n",
    "                           + str(MAX_DEPTH) + '_maxdpth_'\n",
    "                           + str(MIN_IN_LEAF) + '_minleaf_'\n",
    "                           + str(MAX_FEATURES) + '_feats_'\n",
    "                           + '.pkl', 'wb'))\n",
    "else:\n",
    "#     pickle_in = open(\"pickles/GBC_balanced_comments_300_trees_0.1_lr_15_maxdpth_2_minleaf_20000_feats_.pkl\",\n",
    "#                      \"rb\")\n",
    "#     gb_pipe = pickle.load(pickle_in)"
   ]
  },
  {
   "cell_type": "code",
   "execution_count": null,
   "metadata": {},
   "outputs": [],
   "source": [
    "# if True:\n",
    "#     grid = {\n",
    "#         'learning_rate': [.1,0.2,0.3],\n",
    "#         'max_depth': [8],\n",
    "#         'min_samples_leaf': [5],\n",
    "#         'max_features': ['sqrt'],\n",
    "#         'n_estimators': [300],\n",
    "#         'random_state': [0]\n",
    "#     }\n",
    "# else:  # TEST\n",
    "#     grid = {\n",
    "#     'learning_rate': [1],\n",
    "#     'max_depth': [2], \n",
    "#     'min_samples_leaf': [2],\n",
    "# #     'max_features': ['sqrt', None],\n",
    "#     'n_estimators': [2],\n",
    "#     'random_state': [0]\n",
    "# }\n",
    "    \n",
    "# # confusion_score = make_scorer(confusion_rmse, greater_is_better=False)\n",
    "\n",
    "# gbc_grid_cv = GridSearchCV(\n",
    "#     GradientBoostingClassifier(), \n",
    "#     grid,\n",
    "#     cv=4,  # number of folds\n",
    "#     return_train_score=True,\n",
    "#     verbose=1, \n",
    "#     n_jobs=-1)\n",
    "# gbc_grid_cv.fit(X_train, y_train)"
   ]
  },
  {
   "cell_type": "code",
   "execution_count": null,
   "metadata": {},
   "outputs": [],
   "source": [
    "# y_pred = gbc_grid_cv.predict(X_test)"
   ]
  },
  {
   "cell_type": "code",
   "execution_count": null,
   "metadata": {},
   "outputs": [],
   "source": [
    "# print('SAMPLE_FRACTION:', SAMPLE_FRACTION,'ADD_LENGTH:',ADD_LENGTH,' SPARSE:',SPARSE,' MAX_FEATURES:',MAX_FEATURES)"
   ]
  },
  {
   "cell_type": "code",
   "execution_count": null,
   "metadata": {},
   "outputs": [],
   "source": [
    "# print(gbc_grid_cv.best_params_)\n",
    "# print(gbc_grid_cv.best_score_)\n",
    "# res_df = pd.DataFrame(gbc_grid_cv.cv_results_)\n",
    "# res_df"
   ]
  }
 ],
 "metadata": {
  "kernelspec": {
   "display_name": "Python 3",
   "language": "python",
   "name": "python3"
  },
  "language_info": {
   "codemirror_mode": {
    "name": "ipython",
    "version": 3
   },
   "file_extension": ".py",
   "mimetype": "text/x-python",
   "name": "python",
   "nbconvert_exporter": "python",
   "pygments_lexer": "ipython3",
   "version": "3.7.3"
  }
 },
 "nbformat": 4,
 "nbformat_minor": 2
}
