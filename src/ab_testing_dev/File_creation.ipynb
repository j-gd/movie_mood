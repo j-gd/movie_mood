{
 "cells": [
  {
   "cell_type": "markdown",
   "metadata": {},
   "source": [
    "# Hypothesis to test:\n",
    "### Removing objective sentences from reviews helps predict star rating from reviews"
   ]
  },
  {
   "cell_type": "code",
   "execution_count": 1,
   "metadata": {},
   "outputs": [],
   "source": [
    "import numpy as np\n",
    "import pandas as pd\n",
    "import pickle\n",
    "import math\n",
    "from nltk.tokenize import sent_tokenize\n",
    "import datetime\n",
    "\n",
    "from IPython.display import Markdown, display"
   ]
  },
  {
   "cell_type": "code",
   "execution_count": 2,
   "metadata": {},
   "outputs": [],
   "source": [
    "import sys\n",
    "sys.path.append('..')"
   ]
  },
  {
   "cell_type": "code",
   "execution_count": 3,
   "metadata": {},
   "outputs": [],
   "source": [
    "# Avoid restarting Kernel\n",
    "%load_ext autoreload\n",
    "%autoreload 2\n",
    "\n",
    "pd.set_option('display.max_colwidth', -1)\n",
    "\n",
    "# %autosave 50"
   ]
  },
  {
   "cell_type": "code",
   "execution_count": 4,
   "metadata": {},
   "outputs": [],
   "source": [
    "# From this project\n",
    "# from utils import rmse, rmse_train_cv, classifier_report, confusion_rmse\n",
    "from NLP import WordBag, AboutMovie"
   ]
  },
  {
   "cell_type": "markdown",
   "metadata": {},
   "source": [
    "## Configuration"
   ]
  },
  {
   "cell_type": "code",
   "execution_count": 5,
   "metadata": {},
   "outputs": [],
   "source": [
    "# Subsampling from Amazon reviews\n",
    "NB_SAMPLES = 200000 #4000  # up to 200k, then change the input file\n",
    "\n",
    "data_path = '../../../datasets/'\n"
   ]
  },
  {
   "cell_type": "code",
   "execution_count": 6,
   "metadata": {},
   "outputs": [],
   "source": [
    "# file_name = '360000_balanced_train_test_reviews.pkl'\n",
    "file_name = '_balanced_pos_neg_train_test_reviews_5_sentences.pkl'\n",
    "\n",
    "pickle_in = open(data_path + str(NB_SAMPLES) + file_name,\"rb\")\n",
    "train_test_dic0 = pickle.load(pickle_in)"
   ]
  },
  {
   "cell_type": "code",
   "execution_count": 7,
   "metadata": {},
   "outputs": [
    {
     "data": {
      "text/plain": [
       "(80000, 9)"
      ]
     },
     "execution_count": 7,
     "metadata": {},
     "output_type": "execute_result"
    }
   ],
   "source": [
    "train_test_dic0['train']['positive'].shape"
   ]
  },
  {
   "cell_type": "code",
   "execution_count": 13,
   "metadata": {},
   "outputs": [
    {
     "data": {
      "text/plain": [
       "0.7142857142857143"
      ]
     },
     "execution_count": 13,
     "metadata": {},
     "output_type": "execute_result"
    }
   ],
   "source": [
    "200 * 0.05 / 14"
   ]
  },
  {
   "cell_type": "code",
   "execution_count": 22,
   "metadata": {},
   "outputs": [],
   "source": [
    "SAMPLE_FRACTION = 0.15\n",
    "\n",
    "test_dic = {'train': {}, 'test':{}}\n",
    "\n",
    "for i in ['train','test']:\n",
    "    for j in ['positive','negative']:\n",
    "         test_dic[i][j] = train_test_dic0[i][j] \\\n",
    "            .iloc[:math.floor(len(train_test_dic0[i][j].index) * SAMPLE_FRACTION), :] \\\n",
    "            .reset_index() \\\n",
    "            .reset_index() \\\n",
    "            .drop(['reviewerName', 'helpful', 'asin', 'index',\n",
    "                   'summary', 'unixReviewTime', 'reviewTime'], axis=1) \\\n",
    "            .rename(columns={'level_0': 'asin'})\n"
   ]
  },
  {
   "cell_type": "code",
   "execution_count": 23,
   "metadata": {},
   "outputs": [
    {
     "data": {
      "text/html": [
       "<div>\n",
       "<style scoped>\n",
       "    .dataframe tbody tr th:only-of-type {\n",
       "        vertical-align: middle;\n",
       "    }\n",
       "\n",
       "    .dataframe tbody tr th {\n",
       "        vertical-align: top;\n",
       "    }\n",
       "\n",
       "    .dataframe thead th {\n",
       "        text-align: right;\n",
       "    }\n",
       "</style>\n",
       "<table border=\"1\" class=\"dataframe\">\n",
       "  <thead>\n",
       "    <tr style=\"text-align: right;\">\n",
       "      <th></th>\n",
       "      <th>asin</th>\n",
       "      <th>reviewerID</th>\n",
       "      <th>reviewText</th>\n",
       "      <th>overall</th>\n",
       "    </tr>\n",
       "  </thead>\n",
       "  <tbody>\n",
       "    <tr>\n",
       "      <th>0</th>\n",
       "      <td>0</td>\n",
       "      <td>A3MW5OB6IMNQI7</td>\n",
       "      <td>Hank Greenberg was more than just a baseball superstar. He was an icon -- the pride and joy of the Jewish Americans in the 1930s and 40s amidst rampant anti-Semitism. As the first prominent Jewish player in the Major League Baseball, Greenberg not only established himself as one of the best sluggers in baseball history, but he also gave the Jewish Americans something to cheer about. He also paved a path for other baseball pioneers like Jackie Robinson as he quietly fought discrimination by letting his stats speak for themselves.This movie isn't your typical boring documentary either. It shows a nice balance of Greenberg's baseball achievements and personal life (though I wish they focused a bit more on the baseball part) with a good mixture of old baseball footage, interviews with fans, family, friends and Greenberg himself, as well as clips from classic baseball movies such as The Pride of the Yankees. You don't have to be a baseball fan/historian to enjoy and appreciate this movie. Besides, there is nothing quite like listening to &amp;quot;Take Me out to the Ball Game&amp;quot; sung in Yiddish.</td>\n",
       "      <td>4.0</td>\n",
       "    </tr>\n",
       "    <tr>\n",
       "      <th>1</th>\n",
       "      <td>1</td>\n",
       "      <td>A1BKGGKR8FI97M</td>\n",
       "      <td>Demi Moore plays a naive, sheltered young woman who \"dreams\" the man she will marry will visit the small island she inhabits off the east coast.  He turns out to be a butcher from NY.  They marry quickly and problems arise as people discover that she is psychic, leading to all kinds of comical mix-ups.  Mary Steenberger is terrific as a shy church choir leader who dreams of being a blues singer.  Cute, silly, chick flick.</td>\n",
       "      <td>4.0</td>\n",
       "    </tr>\n",
       "    <tr>\n",
       "      <th>2</th>\n",
       "      <td>2</td>\n",
       "      <td>A2X7QZS1SSPQ8N</td>\n",
       "      <td>This was a cute mix of reality and fantasy, with a moral of no matter what you use to rule your life, fate has a plan for you.  Demi Moore plays Marina, a naive southern girl with a gift, who dreams her new husband (sort of) and ends up in New York married to the neighborhood Butcher (George Dzundza)!  Jeff Daniels is the non-commital psychiatrist across the street and Mary Steenbergen is a mild-mannered church chior director who wants to sing in a Lounge.  Between the four of them, they turn their lives upside-down and all around, affecting the lives of all those around them.  It's a chick flick and very good!</td>\n",
       "      <td>4.0</td>\n",
       "    </tr>\n",
       "  </tbody>\n",
       "</table>\n",
       "</div>"
      ],
      "text/plain": [
       "   asin      reviewerID  \\\n",
       "0  0     A3MW5OB6IMNQI7   \n",
       "1  1     A1BKGGKR8FI97M   \n",
       "2  2     A2X7QZS1SSPQ8N   \n",
       "\n",
       "                                                                                                                                                                                                                                                                                                                                                                                                                                                                                                                                                                                                                                                                                                                                                                                                                                                                                                                                                                                                                                                                                                                                           reviewText  \\\n",
       "0  Hank Greenberg was more than just a baseball superstar. He was an icon -- the pride and joy of the Jewish Americans in the 1930s and 40s amidst rampant anti-Semitism. As the first prominent Jewish player in the Major League Baseball, Greenberg not only established himself as one of the best sluggers in baseball history, but he also gave the Jewish Americans something to cheer about. He also paved a path for other baseball pioneers like Jackie Robinson as he quietly fought discrimination by letting his stats speak for themselves.This movie isn't your typical boring documentary either. It shows a nice balance of Greenberg's baseball achievements and personal life (though I wish they focused a bit more on the baseball part) with a good mixture of old baseball footage, interviews with fans, family, friends and Greenberg himself, as well as clips from classic baseball movies such as The Pride of the Yankees. You don't have to be a baseball fan/historian to enjoy and appreciate this movie. Besides, there is nothing quite like listening to &quot;Take Me out to the Ball Game&quot; sung in Yiddish.   \n",
       "1  Demi Moore plays a naive, sheltered young woman who \"dreams\" the man she will marry will visit the small island she inhabits off the east coast.  He turns out to be a butcher from NY.  They marry quickly and problems arise as people discover that she is psychic, leading to all kinds of comical mix-ups.  Mary Steenberger is terrific as a shy church choir leader who dreams of being a blues singer.  Cute, silly, chick flick.                                                                                                                                                                                                                                                                                                                                                                                                                                                                                                                                                                                                                                                                                                            \n",
       "2  This was a cute mix of reality and fantasy, with a moral of no matter what you use to rule your life, fate has a plan for you.  Demi Moore plays Marina, a naive southern girl with a gift, who dreams her new husband (sort of) and ends up in New York married to the neighborhood Butcher (George Dzundza)!  Jeff Daniels is the non-commital psychiatrist across the street and Mary Steenbergen is a mild-mannered church chior director who wants to sing in a Lounge.  Between the four of them, they turn their lives upside-down and all around, affecting the lives of all those around them.  It's a chick flick and very good!                                                                                                                                                                                                                                                                                                                                                                                                                                                                                                           \n",
       "\n",
       "   overall  \n",
       "0  4.0      \n",
       "1  4.0      \n",
       "2  4.0      "
      ]
     },
     "execution_count": 23,
     "metadata": {},
     "output_type": "execute_result"
    }
   ],
   "source": [
    "test_dic['train']['positive'].head(3)"
   ]
  },
  {
   "cell_type": "code",
   "execution_count": 24,
   "metadata": {},
   "outputs": [
    {
     "name": "stdout",
     "output_type": "stream",
     "text": [
      "(12000, 4)\n",
      "(12000, 4)\n",
      "(3000, 4)\n",
      "(3000, 4)\n"
     ]
    },
    {
     "data": {
      "text/plain": [
       "30000"
      ]
     },
     "execution_count": 24,
     "metadata": {},
     "output_type": "execute_result"
    }
   ],
   "source": [
    "total = 0\n",
    "for i in ['train','test']:\n",
    "    for j in ['positive','negative']:\n",
    "        print(test_dic[i][j].shape)\n",
    "        total += test_dic[i][j].shape[0]\n",
    "total"
   ]
  },
  {
   "cell_type": "markdown",
   "metadata": {},
   "source": [
    "## Remove objective sentences for case B"
   ]
  },
  {
   "cell_type": "code",
   "execution_count": 25,
   "metadata": {},
   "outputs": [],
   "source": [
    "%reload_ext autoreload\n",
    "from subjective_filter import SubjectiveFilter"
   ]
  },
  {
   "cell_type": "code",
   "execution_count": 26,
   "metadata": {},
   "outputs": [],
   "source": [
    "%reload_ext autoreload\n",
    "obj_path = '../obj_subj_dev/'\n",
    "fit_obj_tf = obj_path + 'fit_tfidf_vectorizer_for_obj_subj_sentences_classification.pkl'\n",
    "fit_obj_model = obj_path + 'GBC_300_0.5_5_0.88cv.pkl'\n",
    "subj_filter = SubjectiveFilter(fit_obj_tf, fit_obj_model)"
   ]
  },
  {
   "cell_type": "code",
   "execution_count": 27,
   "metadata": {},
   "outputs": [
    {
     "data": {
      "text/plain": [
       "(12000, 4)"
      ]
     },
     "metadata": {},
     "output_type": "display_data"
    },
    {
     "data": {
      "text/plain": [
       "(12000, 4)"
      ]
     },
     "metadata": {},
     "output_type": "display_data"
    },
    {
     "data": {
      "text/plain": [
       "(3000, 4)"
      ]
     },
     "metadata": {},
     "output_type": "display_data"
    },
    {
     "data": {
      "text/plain": [
       "(3000, 4)"
      ]
     },
     "metadata": {},
     "output_type": "display_data"
    },
    {
     "name": "stdout",
     "output_type": "stream",
     "text": [
      "30000\n"
     ]
    }
   ],
   "source": [
    "# for tt in ['train','test']:\n",
    "#     for pn in ['positive','negative']:\n",
    "#         print(tt,pn,test_dic[tt][np].shape)\n",
    "total = 0\n",
    "for tt in test_dic.values():\n",
    "    for df in tt.values():\n",
    "#         display(df.head(1))\n",
    "        total += df.shape[0]\n",
    "        display(df.shape)\n",
    "print(total)"
   ]
  },
  {
   "cell_type": "code",
   "execution_count": 28,
   "metadata": {
    "scrolled": true
   },
   "outputs": [
    {
     "name": "stdout",
     "output_type": "stream",
     "text": [
      "Starting computations for subj 0.8\n",
      "2019-07-24 23:03:36.975795\n",
      "Saving B for subj 0.8\n",
      "2019-07-24 23:54:16.024403\n",
      "Saving A for subj 0.8\n",
      "2019-07-24 23:54:16.068284\n",
      "Starting computations for subj 0.6\n",
      "2019-07-24 23:54:16.173581\n",
      "Saving B for subj 0.6\n",
      "2019-07-25 00:44:48.795600\n",
      "Saving A for subj 0.6\n",
      "2019-07-25 00:44:48.865019\n",
      "Starting computations for subj 0.4\n",
      "2019-07-25 00:44:49.003034\n",
      "Saving B for subj 0.4\n",
      "2019-07-25 01:35:30.221232\n",
      "Saving A for subj 0.4\n",
      "2019-07-25 01:35:30.305414\n",
      "Starting computations for subj 0.2\n",
      "2019-07-25 01:35:30.437522\n",
      "Saving B for subj 0.2\n",
      "2019-07-25 02:26:07.558121\n",
      "Saving A for subj 0.2\n",
      "2019-07-25 02:26:07.664769\n",
      "Starting computations for obj 0.8\n",
      "2019-07-25 02:26:07.758983\n",
      "Saving B for obj 0.8\n",
      "2019-07-25 03:16:41.300029\n",
      "Saving A for obj 0.8\n",
      "2019-07-25 03:16:41.341071\n",
      "Starting computations for obj 0.6\n",
      "2019-07-25 03:16:41.466941\n",
      "Saving B for obj 0.6\n",
      "2019-07-25 04:07:10.156751\n",
      "Saving A for obj 0.6\n",
      "2019-07-25 04:07:10.224793\n",
      "Starting computations for obj 0.4\n",
      "2019-07-25 04:07:10.411203\n",
      "Saving B for obj 0.4\n",
      "2019-07-25 04:57:50.124533\n",
      "Saving A for obj 0.4\n",
      "2019-07-25 04:57:50.269469\n",
      "Starting computations for obj 0.2\n",
      "2019-07-25 04:57:50.462222\n",
      "Saving B for obj 0.2\n",
      "2019-07-25 05:48:38.286529\n",
      "Saving A for obj 0.2\n",
      "2019-07-25 05:48:38.391014\n"
     ]
    }
   ],
   "source": [
    "CHUNK_SZ = 1\n",
    "\n",
    "for REMOVE in ['subj', 'obj']:\n",
    "    for REMOVE_FRACTION in [0.8, 0.6, 0.4, 0.2]:\n",
    "        print('Starting computations for {} {}'.format(REMOVE, REMOVE_FRACTION))\n",
    "        print (str(datetime.datetime.now()))\n",
    "        sent_dfs = {'train':{},'test':{}}\n",
    "        nb_sentences_removed = 0\n",
    "\n",
    "        for ttname, tt in test_dic.items():\n",
    "            for pn, df in tt.items():\n",
    "                df_list = []\n",
    "                start = 0\n",
    "                while start < df.shape[0]:\n",
    "                    end = start + CHUNK_SZ\n",
    "                    df1 = df.iloc[start:end,:]\n",
    "                    df2 = subj_filter.to_one_sent_per_row(df1)\n",
    "                    df3, removed = subj_filter.transform(\n",
    "                            df2,\n",
    "                            'sentence', \n",
    "                            remove_fraction = REMOVE_FRACTION,\n",
    "                            debug_level=0,\n",
    "                            remove=REMOVE)\n",
    "                    if removed == -1:\n",
    "                        start = end\n",
    "                        continue\n",
    "                    df_list.append(df3)\n",
    "                    nb_sentences_removed += removed\n",
    "                    start = end\n",
    "\n",
    "                if len(df_list) == 0:\n",
    "                    sent_dfs[ttname][pn] = None\n",
    "                    print('No reviews for {} {}'.format(ttname, pn))\n",
    "                    continue\n",
    "                sent_dfs[ttname][pn] = df_list.pop()\n",
    "                while len(df_list) > 0:\n",
    "                    sent_dfs[ttname][pn] = pd.merge(df_list.pop(), \n",
    "                                                    sent_dfs[ttname][pn], how='outer')\n",
    "        # Save B\n",
    "        print('Saving B for {} {}'.format(REMOVE, REMOVE_FRACTION))\n",
    "        print (str(datetime.datetime.now()))\n",
    "        pickle_out = open(data_path\n",
    "                            + 'reviews_wout_top_' + str(int(round(REMOVE_FRACTION * 100))) + 'pct_' + REMOVE + '_B.pkl'\n",
    "                            , \"wb\")\n",
    "        pickle.dump(sent_dfs, pickle_out)\n",
    "        pickle_out.close()\n",
    "\n",
    "        # Create A with same number of reviews\n",
    "        A_dic = {'train': {}, 'test':{}}\n",
    "\n",
    "        for tt in ['train', 'test']:\n",
    "            for pn in ['positive', 'negative']:\n",
    "                df = test_dic[tt][pn]\n",
    "                A_dic[tt][pn] = df[df['asin'].isin(sent_dfs[tt][pn]['asin'])]\n",
    "\n",
    "        # Save A\n",
    "        print('Saving A for {} {}'.format(REMOVE, REMOVE_FRACTION))\n",
    "        print (str(datetime.datetime.now()))\n",
    "        pickle_out = open(data_path\n",
    "                        + 'reviews_wout_top_' + str(int(round(REMOVE_FRACTION * 100))) + 'pct_' + REMOVE + '_A.pkl'\n",
    "                            , \"wb\")\n",
    "        pickle.dump(A_dic, pickle_out)\n",
    "        pickle_out.close()"
   ]
  },
  {
   "cell_type": "code",
   "execution_count": null,
   "metadata": {},
   "outputs": [],
   "source": []
  }
 ],
 "metadata": {
  "kernelspec": {
   "display_name": "Python 3",
   "language": "python",
   "name": "python3"
  },
  "language_info": {
   "codemirror_mode": {
    "name": "ipython",
    "version": 3
   },
   "file_extension": ".py",
   "mimetype": "text/x-python",
   "name": "python",
   "nbconvert_exporter": "python",
   "pygments_lexer": "ipython3",
   "version": "3.7.3"
  }
 },
 "nbformat": 4,
 "nbformat_minor": 2
}
