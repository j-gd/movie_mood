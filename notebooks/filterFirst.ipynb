{
 "cells": [
  {
   "cell_type": "code",
   "execution_count": 3,
   "metadata": {},
   "outputs": [
    {
     "data": {
      "text/plain": [
       "['disgust', 'surprise', 'neutral', 'anger', 'sad', 'happy', 'fear']"
      ]
     },
     "execution_count": 3,
     "metadata": {},
     "output_type": "execute_result"
    }
   ],
   "source": [
    "import csv\n",
    "# emotions = list(emotions_keywords_df)[1:]\n",
    "# emotion_keywords_csv = 'Andbrain_DataSet.csv'\n",
    "data_path = '../../datasets/'\n",
    "emotion_keywords_csv = 'andbrainDataSet108.csv'\n",
    "emotions_keywords = {}\n",
    "emotions2 = []\n",
    "with open(data_path + emotion_keywords_csv, mode='r', errors='replace') as csvfile:\n",
    "    reader = csv.reader(csvfile, dialect='excel')\n",
    "    emotions2 = reader.__next__()  # skip headers\n",
    "#     print (emotions2)\n",
    "    for row in reader:\n",
    "#         print(row)\n",
    "        dico = {}\n",
    "        for i in range(1,8):\n",
    "            dico[emotions2[i].strip()] = float(row[i])\n",
    "        emotions_keywords[row[0].strip()] = dico\n",
    "\n",
    "global emotions\n",
    "emotions = emotions2[1:]\n",
    "emotions"
   ]
  },
  {
   "cell_type": "code",
   "execution_count": 17,
   "metadata": {},
   "outputs": [],
   "source": [
    "support_keywords = {'dvd': 1, 'vhs': 1,'edition': 1, 'blue-ray': 1, 'blueray': 1, 'blu-ray': 1, 'bluray': 1, 'price': 1}"
   ]
  },
  {
   "cell_type": "code",
   "execution_count": 43,
   "metadata": {},
   "outputs": [],
   "source": [
    "def fill_emotions(comment):\n",
    "    comment_text = comment['reviewText']\n",
    "    comment_words = comment_text.split(' ')\n",
    "    emotions_found = False\n",
    "    \n",
    "    emotion_keywords_hits = 0\n",
    "    scores = {key: 0.0 for key in emotions}    # {'disgust': 0.0, ...}\n",
    "    \n",
    "    for word in comment_words:\n",
    "        low_word = word.lower()\n",
    "        \n",
    "        # detect and skip potentially support-related commments\n",
    "        if support_keywords.get(low_word, 0) > 0:\n",
    "            return None\n",
    "        \n",
    "        if emotions_keywords.get(low_word, 0.0) != 0.0:\n",
    "            for key in scores.keys():\n",
    "                scores[key] += emotions_keywords[low_word][key]\n",
    "                emotions_found = True\n",
    "\n",
    "    ## ignore the record if no emotions are found\n",
    "    if emotions_found == False:\n",
    "        return None\n",
    "    \n",
    "    for emotion in emotions:\n",
    "        comment[emotion] = scores[emotion]\n",
    "   \n",
    "    return comment"
   ]
  },
  {
   "cell_type": "code",
   "execution_count": 47,
   "metadata": {},
   "outputs": [
    {
     "name": "stdout",
     "output_type": "stream",
     "text": [
      "{'somekey': 'abc', 'reviewText': 'This is scary movie I  ending', 'disgust': 0.036880419748299996, 'surprise': 0.1221477536738, 'neutral': 0.0425040389, 'anger': 0.039184567248299995, 'sad': 0.041502618503, 'happy': 0.0530233893315, 'fear': 0.14058789831500001}\n"
     ]
    }
   ],
   "source": [
    "test_comment = {'somekey': 'abc'}\n",
    "test_comment['reviewText'] = 'This is scary movie I  ending'\n",
    "res = fill_emotions(test_comment)\n",
    "if res == None:\n",
    "    print('Found support')\n",
    "else:\n",
    "    print(res)"
   ]
  },
  {
   "cell_type": "code",
   "execution_count": 50,
   "metadata": {},
   "outputs": [],
   "source": [
    "import pandas as pd\n",
    "import gzip\n",
    "\n",
    "def parse(path):\n",
    "  g = gzip.open(path, 'rb')\n",
    "  for l in g:\n",
    "    yield eval(l)\n",
    "\n",
    "def getDF(path, trunc=0):\n",
    "  i = 0\n",
    "  df = {}\n",
    "  for d in parse(path):    \n",
    "    res = fill_emotions(d)\n",
    "    if res != None:\n",
    "        df[i] = res\n",
    "        i += 1\n",
    "    if trunc > 0 and i > trunc: \n",
    "        break\n",
    "  return pd.DataFrame.from_dict(df, orient='index')\n",
    "\n",
    "data_path = '../../datasets/'\n",
    "file_name = 'reviews_Movies_and_TV.json.gz'"
   ]
  },
  {
   "cell_type": "code",
   "execution_count": 59,
   "metadata": {},
   "outputs": [],
   "source": [
    "# 1 million records in about 6 minutes\n",
    "df = getDF(data_path + file_name, 1000)"
   ]
  },
  {
   "cell_type": "code",
   "execution_count": 60,
   "metadata": {},
   "outputs": [
    {
     "data": {
      "text/plain": [
       "1001"
      ]
     },
     "execution_count": 60,
     "metadata": {},
     "output_type": "execute_result"
    }
   ],
   "source": [
    "len(df.index)"
   ]
  },
  {
   "cell_type": "code",
   "execution_count": 58,
   "metadata": {},
   "outputs": [],
   "source": [
    "## Saved one million records\n",
    "# import pickle\n",
    "# pickle_out = open(data_path + \"amzn_1million_emotions.pickle\",\"wb\")\n",
    "# pickle.dump(df, pickle_out)\n",
    "# pickle_out.close()"
   ]
  },
  {
   "cell_type": "code",
   "execution_count": 61,
   "metadata": {},
   "outputs": [],
   "source": [
    "# Reads one million in 5 seconds\n",
    "pickle_in = open(data_path + \"amzn_1million_emotions.pickle\",\"rb\")\n",
    "df = pickle.load(pickle_in)"
   ]
  },
  {
   "cell_type": "code",
   "execution_count": 62,
   "metadata": {},
   "outputs": [
    {
     "data": {
      "text/plain": [
       "1000001"
      ]
     },
     "execution_count": 62,
     "metadata": {},
     "output_type": "execute_result"
    }
   ],
   "source": [
    "len(df.index)"
   ]
  },
  {
   "cell_type": "code",
   "execution_count": 63,
   "metadata": {},
   "outputs": [
    {
     "data": {
      "text/plain": [
       "936935"
      ]
     },
     "execution_count": 63,
     "metadata": {},
     "output_type": "execute_result"
    }
   ],
   "source": [
    "# filter out if fewer than 10 reviews\n",
    "movie_groups = df.groupby('asin')\n",
    "movies_lots_comments = movie_groups.filter(lambda x: x['asin'].count() >= 10)\n",
    "len(movies_lots_comments.index)"
   ]
  },
  {
   "cell_type": "code",
   "execution_count": 64,
   "metadata": {},
   "outputs": [
    {
     "data": {
      "text/html": [
       "<div>\n",
       "<style scoped>\n",
       "    .dataframe tbody tr th:only-of-type {\n",
       "        vertical-align: middle;\n",
       "    }\n",
       "\n",
       "    .dataframe tbody tr th {\n",
       "        vertical-align: top;\n",
       "    }\n",
       "\n",
       "    .dataframe thead th {\n",
       "        text-align: right;\n",
       "    }\n",
       "</style>\n",
       "<table border=\"1\" class=\"dataframe\">\n",
       "  <thead>\n",
       "    <tr style=\"text-align: right;\">\n",
       "      <th></th>\n",
       "      <th>reviewerID</th>\n",
       "      <th>asin</th>\n",
       "      <th>reviewerName</th>\n",
       "      <th>helpful</th>\n",
       "      <th>reviewText</th>\n",
       "      <th>overall</th>\n",
       "      <th>summary</th>\n",
       "      <th>unixReviewTime</th>\n",
       "      <th>reviewTime</th>\n",
       "      <th>disgust</th>\n",
       "      <th>surprise</th>\n",
       "      <th>neutral</th>\n",
       "      <th>anger</th>\n",
       "      <th>sad</th>\n",
       "      <th>happy</th>\n",
       "      <th>fear</th>\n",
       "    </tr>\n",
       "  </thead>\n",
       "  <tbody>\n",
       "    <tr>\n",
       "      <th>2</th>\n",
       "      <td>AP57WZ2X4G0AA</td>\n",
       "      <td>0000589012</td>\n",
       "      <td>Amy Arnett-German</td>\n",
       "      <td>[0, 1]</td>\n",
       "      <td>The information is good, but the presentation ...</td>\n",
       "      <td>2.0</td>\n",
       "      <td>Boring</td>\n",
       "      <td>1366675200</td>\n",
       "      <td>04 23, 2013</td>\n",
       "      <td>0.009882</td>\n",
       "      <td>0.101026</td>\n",
       "      <td>0.035483</td>\n",
       "      <td>0.004104</td>\n",
       "      <td>0.010058</td>\n",
       "      <td>0.023105</td>\n",
       "      <td>0.010120</td>\n",
       "    </tr>\n",
       "    <tr>\n",
       "      <th>3</th>\n",
       "      <td>A5Y15SAOMX6XA</td>\n",
       "      <td>0000589012</td>\n",
       "      <td>Catherine E. Wetzler</td>\n",
       "      <td>[12, 16]</td>\n",
       "      <td>I, too, purchased this to use with my patients...</td>\n",
       "      <td>2.0</td>\n",
       "      <td>C+ At Best</td>\n",
       "      <td>1307404800</td>\n",
       "      <td>06 7, 2011</td>\n",
       "      <td>0.303542</td>\n",
       "      <td>0.976544</td>\n",
       "      <td>0.387673</td>\n",
       "      <td>0.935520</td>\n",
       "      <td>0.734685</td>\n",
       "      <td>1.016630</td>\n",
       "      <td>0.901591</td>\n",
       "    </tr>\n",
       "    <tr>\n",
       "      <th>4</th>\n",
       "      <td>ANF0AGIV0JCH2</td>\n",
       "      <td>0000589012</td>\n",
       "      <td>GrammaCarole</td>\n",
       "      <td>[13, 13]</td>\n",
       "      <td>My 18 year old grandson has been addicted to d...</td>\n",
       "      <td>5.0</td>\n",
       "      <td>Most Helpful Input I've received for my family</td>\n",
       "      <td>1308182400</td>\n",
       "      <td>06 16, 2011</td>\n",
       "      <td>0.216804</td>\n",
       "      <td>0.590973</td>\n",
       "      <td>0.241898</td>\n",
       "      <td>0.592566</td>\n",
       "      <td>0.596843</td>\n",
       "      <td>0.894059</td>\n",
       "      <td>0.625119</td>\n",
       "    </tr>\n",
       "    <tr>\n",
       "      <th>5</th>\n",
       "      <td>A3LDEBLV6MVUBE</td>\n",
       "      <td>0000589012</td>\n",
       "      <td>Jami Hyde \"Jami\"</td>\n",
       "      <td>[10, 11]</td>\n",
       "      <td>The best book ever to help addicts and their f...</td>\n",
       "      <td>5.0</td>\n",
       "      <td>Why don't They Just Quit</td>\n",
       "      <td>1208995200</td>\n",
       "      <td>04 24, 2008</td>\n",
       "      <td>0.168070</td>\n",
       "      <td>0.335279</td>\n",
       "      <td>0.093219</td>\n",
       "      <td>0.259617</td>\n",
       "      <td>0.326836</td>\n",
       "      <td>0.497257</td>\n",
       "      <td>0.348703</td>\n",
       "    </tr>\n",
       "    <tr>\n",
       "      <th>6</th>\n",
       "      <td>A2HWI21H23GDS4</td>\n",
       "      <td>0000589012</td>\n",
       "      <td>Jude R. Montarsi</td>\n",
       "      <td>[1, 1]</td>\n",
       "      <td>The film contains a set of roundtable discussi...</td>\n",
       "      <td>4.0</td>\n",
       "      <td>Very good set of discussions</td>\n",
       "      <td>1338681600</td>\n",
       "      <td>06 3, 2012</td>\n",
       "      <td>0.137722</td>\n",
       "      <td>0.114337</td>\n",
       "      <td>0.062523</td>\n",
       "      <td>0.122181</td>\n",
       "      <td>0.105733</td>\n",
       "      <td>0.331313</td>\n",
       "      <td>0.164324</td>\n",
       "    </tr>\n",
       "  </tbody>\n",
       "</table>\n",
       "</div>"
      ],
      "text/plain": [
       "       reviewerID        asin          reviewerName   helpful  \\\n",
       "2   AP57WZ2X4G0AA  0000589012     Amy Arnett-German    [0, 1]   \n",
       "3   A5Y15SAOMX6XA  0000589012  Catherine E. Wetzler  [12, 16]   \n",
       "4   ANF0AGIV0JCH2  0000589012          GrammaCarole  [13, 13]   \n",
       "5  A3LDEBLV6MVUBE  0000589012      Jami Hyde \"Jami\"  [10, 11]   \n",
       "6  A2HWI21H23GDS4  0000589012      Jude R. Montarsi    [1, 1]   \n",
       "\n",
       "                                          reviewText  overall  \\\n",
       "2  The information is good, but the presentation ...      2.0   \n",
       "3  I, too, purchased this to use with my patients...      2.0   \n",
       "4  My 18 year old grandson has been addicted to d...      5.0   \n",
       "5  The best book ever to help addicts and their f...      5.0   \n",
       "6  The film contains a set of roundtable discussi...      4.0   \n",
       "\n",
       "                                          summary  unixReviewTime  \\\n",
       "2                                          Boring      1366675200   \n",
       "3                                      C+ At Best      1307404800   \n",
       "4  Most Helpful Input I've received for my family      1308182400   \n",
       "5                        Why don't They Just Quit      1208995200   \n",
       "6                    Very good set of discussions      1338681600   \n",
       "\n",
       "    reviewTime   disgust  surprise   neutral     anger       sad     happy  \\\n",
       "2  04 23, 2013  0.009882  0.101026  0.035483  0.004104  0.010058  0.023105   \n",
       "3   06 7, 2011  0.303542  0.976544  0.387673  0.935520  0.734685  1.016630   \n",
       "4  06 16, 2011  0.216804  0.590973  0.241898  0.592566  0.596843  0.894059   \n",
       "5  04 24, 2008  0.168070  0.335279  0.093219  0.259617  0.326836  0.497257   \n",
       "6   06 3, 2012  0.137722  0.114337  0.062523  0.122181  0.105733  0.331313   \n",
       "\n",
       "       fear  \n",
       "2  0.010120  \n",
       "3  0.901591  \n",
       "4  0.625119  \n",
       "5  0.348703  \n",
       "6  0.164324  "
      ]
     },
     "execution_count": 64,
     "metadata": {},
     "output_type": "execute_result"
    }
   ],
   "source": [
    "movies_lots_comments.head()"
   ]
  },
  {
   "cell_type": "code",
   "execution_count": 71,
   "metadata": {},
   "outputs": [],
   "source": [
    "vectors = movies_lots_comments.drop(['reviewerID','reviewerName','helpful','reviewText', 'summary', 'unixReviewTime', 'reviewTime'],axis=1)"
   ]
  },
  {
   "cell_type": "code",
   "execution_count": 72,
   "metadata": {},
   "outputs": [
    {
     "data": {
      "text/html": [
       "<div>\n",
       "<style scoped>\n",
       "    .dataframe tbody tr th:only-of-type {\n",
       "        vertical-align: middle;\n",
       "    }\n",
       "\n",
       "    .dataframe tbody tr th {\n",
       "        vertical-align: top;\n",
       "    }\n",
       "\n",
       "    .dataframe thead th {\n",
       "        text-align: right;\n",
       "    }\n",
       "</style>\n",
       "<table border=\"1\" class=\"dataframe\">\n",
       "  <thead>\n",
       "    <tr style=\"text-align: right;\">\n",
       "      <th></th>\n",
       "      <th>asin</th>\n",
       "      <th>overall</th>\n",
       "      <th>disgust</th>\n",
       "      <th>surprise</th>\n",
       "      <th>neutral</th>\n",
       "      <th>anger</th>\n",
       "      <th>sad</th>\n",
       "      <th>happy</th>\n",
       "      <th>fear</th>\n",
       "    </tr>\n",
       "  </thead>\n",
       "  <tbody>\n",
       "    <tr>\n",
       "      <th>2</th>\n",
       "      <td>0000589012</td>\n",
       "      <td>2.0</td>\n",
       "      <td>0.009882</td>\n",
       "      <td>0.101026</td>\n",
       "      <td>0.035483</td>\n",
       "      <td>0.004104</td>\n",
       "      <td>0.010058</td>\n",
       "      <td>0.023105</td>\n",
       "      <td>0.010120</td>\n",
       "    </tr>\n",
       "    <tr>\n",
       "      <th>3</th>\n",
       "      <td>0000589012</td>\n",
       "      <td>2.0</td>\n",
       "      <td>0.303542</td>\n",
       "      <td>0.976544</td>\n",
       "      <td>0.387673</td>\n",
       "      <td>0.935520</td>\n",
       "      <td>0.734685</td>\n",
       "      <td>1.016630</td>\n",
       "      <td>0.901591</td>\n",
       "    </tr>\n",
       "    <tr>\n",
       "      <th>4</th>\n",
       "      <td>0000589012</td>\n",
       "      <td>5.0</td>\n",
       "      <td>0.216804</td>\n",
       "      <td>0.590973</td>\n",
       "      <td>0.241898</td>\n",
       "      <td>0.592566</td>\n",
       "      <td>0.596843</td>\n",
       "      <td>0.894059</td>\n",
       "      <td>0.625119</td>\n",
       "    </tr>\n",
       "    <tr>\n",
       "      <th>5</th>\n",
       "      <td>0000589012</td>\n",
       "      <td>5.0</td>\n",
       "      <td>0.168070</td>\n",
       "      <td>0.335279</td>\n",
       "      <td>0.093219</td>\n",
       "      <td>0.259617</td>\n",
       "      <td>0.326836</td>\n",
       "      <td>0.497257</td>\n",
       "      <td>0.348703</td>\n",
       "    </tr>\n",
       "    <tr>\n",
       "      <th>6</th>\n",
       "      <td>0000589012</td>\n",
       "      <td>4.0</td>\n",
       "      <td>0.137722</td>\n",
       "      <td>0.114337</td>\n",
       "      <td>0.062523</td>\n",
       "      <td>0.122181</td>\n",
       "      <td>0.105733</td>\n",
       "      <td>0.331313</td>\n",
       "      <td>0.164324</td>\n",
       "    </tr>\n",
       "  </tbody>\n",
       "</table>\n",
       "</div>"
      ],
      "text/plain": [
       "         asin  overall   disgust  surprise   neutral     anger       sad  \\\n",
       "2  0000589012      2.0  0.009882  0.101026  0.035483  0.004104  0.010058   \n",
       "3  0000589012      2.0  0.303542  0.976544  0.387673  0.935520  0.734685   \n",
       "4  0000589012      5.0  0.216804  0.590973  0.241898  0.592566  0.596843   \n",
       "5  0000589012      5.0  0.168070  0.335279  0.093219  0.259617  0.326836   \n",
       "6  0000589012      4.0  0.137722  0.114337  0.062523  0.122181  0.105733   \n",
       "\n",
       "      happy      fear  \n",
       "2  0.023105  0.010120  \n",
       "3  1.016630  0.901591  \n",
       "4  0.894059  0.625119  \n",
       "5  0.497257  0.348703  \n",
       "6  0.331313  0.164324  "
      ]
     },
     "execution_count": 72,
     "metadata": {},
     "output_type": "execute_result"
    }
   ],
   "source": [
    "vectors.head()"
   ]
  },
  {
   "cell_type": "code",
   "execution_count": 73,
   "metadata": {},
   "outputs": [
    {
     "data": {
      "text/plain": [
       "936935"
      ]
     },
     "execution_count": 73,
     "metadata": {},
     "output_type": "execute_result"
    }
   ],
   "source": [
    "len(vectors.index)"
   ]
  },
  {
   "cell_type": "code",
   "execution_count": 77,
   "metadata": {},
   "outputs": [],
   "source": [
    "def compute(group):\n",
    "    return group.sum(axis=0) / group.count().iloc[1]\n",
    "    \n",
    "groups = vectors.groupby('asin')\n",
    "avg_movies_emotions = groups.apply(compute)"
   ]
  },
  {
   "cell_type": "code",
   "execution_count": 78,
   "metadata": {},
   "outputs": [
    {
     "data": {
      "text/html": [
       "<div>\n",
       "<style scoped>\n",
       "    .dataframe tbody tr th:only-of-type {\n",
       "        vertical-align: middle;\n",
       "    }\n",
       "\n",
       "    .dataframe tbody tr th {\n",
       "        vertical-align: top;\n",
       "    }\n",
       "\n",
       "    .dataframe thead th {\n",
       "        text-align: right;\n",
       "    }\n",
       "</style>\n",
       "<table border=\"1\" class=\"dataframe\">\n",
       "  <thead>\n",
       "    <tr style=\"text-align: right;\">\n",
       "      <th></th>\n",
       "      <th>anger</th>\n",
       "      <th>disgust</th>\n",
       "      <th>fear</th>\n",
       "      <th>happy</th>\n",
       "      <th>neutral</th>\n",
       "      <th>overall</th>\n",
       "      <th>sad</th>\n",
       "      <th>surprise</th>\n",
       "    </tr>\n",
       "    <tr>\n",
       "      <th>asin</th>\n",
       "      <th></th>\n",
       "      <th></th>\n",
       "      <th></th>\n",
       "      <th></th>\n",
       "      <th></th>\n",
       "      <th></th>\n",
       "      <th></th>\n",
       "      <th></th>\n",
       "    </tr>\n",
       "  </thead>\n",
       "  <tbody>\n",
       "    <tr>\n",
       "      <th>0000589012</th>\n",
       "      <td>0.719303</td>\n",
       "      <td>0.314861</td>\n",
       "      <td>0.736618</td>\n",
       "      <td>0.873825</td>\n",
       "      <td>0.278869</td>\n",
       "      <td>4.083333</td>\n",
       "      <td>0.703079</td>\n",
       "      <td>0.737976</td>\n",
       "    </tr>\n",
       "    <tr>\n",
       "      <th>0005019281</th>\n",
       "      <td>0.270152</td>\n",
       "      <td>0.122634</td>\n",
       "      <td>0.269623</td>\n",
       "      <td>0.334098</td>\n",
       "      <td>0.138510</td>\n",
       "      <td>4.490909</td>\n",
       "      <td>0.246217</td>\n",
       "      <td>0.269665</td>\n",
       "    </tr>\n",
       "    <tr>\n",
       "      <th>0005119367</th>\n",
       "      <td>0.417027</td>\n",
       "      <td>0.203362</td>\n",
       "      <td>0.457906</td>\n",
       "      <td>0.599245</td>\n",
       "      <td>0.217509</td>\n",
       "      <td>4.804651</td>\n",
       "      <td>0.419634</td>\n",
       "      <td>0.493294</td>\n",
       "    </tr>\n",
       "    <tr>\n",
       "      <th>0073378208</th>\n",
       "      <td>0.200098</td>\n",
       "      <td>0.096303</td>\n",
       "      <td>0.227331</td>\n",
       "      <td>0.264090</td>\n",
       "      <td>0.131718</td>\n",
       "      <td>3.692308</td>\n",
       "      <td>0.200640</td>\n",
       "      <td>0.234587</td>\n",
       "    </tr>\n",
       "    <tr>\n",
       "      <th>0307141225</th>\n",
       "      <td>0.464897</td>\n",
       "      <td>0.207345</td>\n",
       "      <td>0.467378</td>\n",
       "      <td>0.659548</td>\n",
       "      <td>0.200352</td>\n",
       "      <td>4.727273</td>\n",
       "      <td>0.404058</td>\n",
       "      <td>0.565426</td>\n",
       "    </tr>\n",
       "  </tbody>\n",
       "</table>\n",
       "</div>"
      ],
      "text/plain": [
       "               anger   disgust      fear     happy   neutral   overall  \\\n",
       "asin                                                                     \n",
       "0000589012  0.719303  0.314861  0.736618  0.873825  0.278869  4.083333   \n",
       "0005019281  0.270152  0.122634  0.269623  0.334098  0.138510  4.490909   \n",
       "0005119367  0.417027  0.203362  0.457906  0.599245  0.217509  4.804651   \n",
       "0073378208  0.200098  0.096303  0.227331  0.264090  0.131718  3.692308   \n",
       "0307141225  0.464897  0.207345  0.467378  0.659548  0.200352  4.727273   \n",
       "\n",
       "                 sad  surprise  \n",
       "asin                            \n",
       "0000589012  0.703079  0.737976  \n",
       "0005019281  0.246217  0.269665  \n",
       "0005119367  0.419634  0.493294  \n",
       "0073378208  0.200640  0.234587  \n",
       "0307141225  0.404058  0.565426  "
      ]
     },
     "execution_count": 78,
     "metadata": {},
     "output_type": "execute_result"
    }
   ],
   "source": [
    "avg_movies_emotions.head()"
   ]
  },
  {
   "cell_type": "code",
   "execution_count": null,
   "metadata": {},
   "outputs": [],
   "source": []
  }
 ],
 "metadata": {
  "kernelspec": {
   "display_name": "Python 3",
   "language": "python",
   "name": "python3"
  },
  "language_info": {
   "codemirror_mode": {
    "name": "ipython",
    "version": 3
   },
   "file_extension": ".py",
   "mimetype": "text/x-python",
   "name": "python",
   "nbconvert_exporter": "python",
   "pygments_lexer": "ipython3",
   "version": "3.7.1"
  }
 },
 "nbformat": 4,
 "nbformat_minor": 2
}
