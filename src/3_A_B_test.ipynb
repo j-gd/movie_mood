{
 "cells": [
  {
   "cell_type": "markdown",
   "metadata": {},
   "source": [
    "# Hypothesis to test: \n",
    "### Removing objective sentences from reviews helps predict star rating from reviews"
   ]
  },
  {
   "cell_type": "code",
   "execution_count": 1,
   "metadata": {},
   "outputs": [],
   "source": [
    "import numpy as np\n",
    "import pandas as pd\n",
    "import pickle\n",
    "import math\n",
    "import datetime\n",
    "from IPython.display import Markdown, display\n",
    "from sklearn.feature_extraction.text import TfidfVectorizer\n",
    "from sklearn.ensemble import GradientBoostingClassifier\n",
    "from sklearn.metrics import precision_recall_fscore_support, confusion_matrix, accuracy_score\n",
    "\n",
    "# From this project\n",
    "from NLPv0 import WordBag, AboutMovie\n",
    "from star_rater import StarRater\n",
    "\n",
    "# Avoid restarting Kernel\n",
    "%load_ext autoreload\n",
    "%autoreload 2\n",
    "\n",
    "pd.set_option('display.max_colwidth', -1)\n",
    "\n",
    "# %autosave 50"
   ]
  },
  {
   "cell_type": "code",
   "execution_count": 6,
   "metadata": {},
   "outputs": [],
   "source": [
    "%reload_ext autoreload\n",
    "star_rater = StarRater()"
   ]
  },
  {
   "cell_type": "code",
   "execution_count": null,
   "metadata": {},
   "outputs": [
    {
     "name": "stdout",
     "output_type": "stream",
     "text": [
      "Starting case A None 0\n",
      "2019-07-26 20:31:17.405365\n"
     ]
    }
   ],
   "source": [
    "star_rater.predict_and_report('A', 'gbc_500_trees_02_rate_8_depth_5_leaf_sqrt_10k_tfidf_A.xlsx')\n",
    "\n",
    "# for CASE in ['B']: #, 'B']:\n",
    "#     for REMOVE in ['obj', 'subj']:\n",
    "#         for PCT in ['20', '40', '60', '80']:\n",
    "            "
   ]
  },
  {
   "cell_type": "markdown",
   "metadata": {},
   "source": [
    "## Configuration"
   ]
  },
  {
   "cell_type": "code",
   "execution_count": null,
   "metadata": {},
   "outputs": [],
   "source": [
    "# Subsampling from Amazon reviews\n",
    "NB_SAMPLES = 360000 #4000  # up to 200k, then change the input file\n",
    "\n",
    "data_path = '../../datasets/'\n",
    "xl_report = 'gbc_500_trees_02_rate_8_depth_5_leaf_sqrt_10k_tfidf.xlsx'"
   ]
  },
  {
   "cell_type": "code",
   "execution_count": null,
   "metadata": {},
   "outputs": [],
   "source": [
    "# TIDF setup\n",
    "MAX_FEATURES = 10000\n",
    "\n",
    "tfidf = TfidfVectorizer(\n",
    "    lowercase=True, \n",
    "    stop_words=None, \n",
    "    max_features=MAX_FEATURES,\n",
    "    norm='l2',            # normalize each review\n",
    "    use_idf=True) "
   ]
  },
  {
   "cell_type": "code",
   "execution_count": null,
   "metadata": {},
   "outputs": [],
   "source": [
    "N_TREES = 500\n",
    "LEARN_RATE = 0.2\n",
    "MAX_DEPTH = 8\n",
    "MIN_IN_LEAF = 5 #7\n",
    "MAX_FEATURES = 'sqrt'\n",
    "\n",
    "gbc = GradientBoostingClassifier(learning_rate=LEARN_RATE, \n",
    "                                n_estimators=N_TREES, \n",
    "                                min_samples_leaf=MIN_IN_LEAF,\n",
    "                                max_depth=MAX_DEPTH,\n",
    "                                max_features=MAX_FEATURES)"
   ]
  },
  {
   "cell_type": "code",
   "execution_count": null,
   "metadata": {},
   "outputs": [],
   "source": [
    "report = {'case':[], 'remove':[], 'percent': [], \n",
    "          'in_train_p': [], 'in_train_n': [], 'in_test_p': [],'in_test_n': [], 'in_total': [],\n",
    "          'xy_check': [],\n",
    "          'precision': [], 'recall': [], 'f1': [], 'accuracy': [],\n",
    "         }\n",
    "    \n",
    "for CASE in ['B']: #, 'B']:\n",
    "    for REMOVE in ['obj', 'subj']:\n",
    "        for PCT in ['20', '40', '60', '80']:\n",
    "            print('Starting case {} {} {}'.format(CASE, REMOVE, PCT))\n",
    "            print (str(datetime.datetime.now()))\n",
    "            report['case'].append(CASE)\n",
    "            report['remove'].append(REMOVE)\n",
    "            report['percent'].append(PCT)\n",
    "            root = 'reviews_wout_top_' + PCT + 'pct_' + REMOVE\n",
    "            if CASE == 'A':\n",
    "                pickle_in = open(data_path + root + '_A.pkl', \"rb\")\n",
    "                movie_reviews = pickle.load(pickle_in)\n",
    "            else:\n",
    "                pickle_in = open(data_path + root + '_B.pkl', \"rb\")\n",
    "                movie_reviews = pickle.load(pickle_in)\n",
    "            pickle_in.close()\n",
    "\n",
    "            for i in ['train','test']:\n",
    "                for j in ['positive','negative']:\n",
    "                    movie_reviews[i][j] = movie_reviews[i][j].rename(columns={'sentence':'reviewText'})\n",
    "\n",
    "            total = 0\n",
    "            for i in ['train','test']:\n",
    "                for j in ['positive','negative']:\n",
    "                    total += movie_reviews[i][j].shape[0]\n",
    "            report['in_train_p'].append(movie_reviews['train']['positive'].shape[0])\n",
    "            report['in_train_n'].append(movie_reviews['train']['negative'].shape[0])\n",
    "            report['in_test_p'].append(movie_reviews['test']['positive'].shape[0])\n",
    "            report['in_test_n'].append(movie_reviews['test']['negative'].shape[0])\n",
    "            report['in_total'].append(total)\n",
    "\n",
    "            train_words = pd.concat([movie_reviews['train']['positive']['reviewText'],\n",
    "                                 movie_reviews['train']['negative']['reviewText']])\n",
    "            y_train = np.concatenate([np.ones((movie_reviews['train']['positive'].shape[0],)), \n",
    "                                      np.zeros((movie_reviews['train']['negative'].shape[0],))])\n",
    "            test_words = pd.concat([movie_reviews['test']['positive']['reviewText'],\n",
    "                                 movie_reviews['test']['negative']['reviewText']])\n",
    "            y_test = np.concatenate([np.ones((movie_reviews['test']['positive'].shape[0],)), \n",
    "                                      np.zeros((movie_reviews['test']['negative'].shape[0],))])\n",
    "\n",
    "            SPARSE = True\n",
    "\n",
    "            if SPARSE:\n",
    "                # Optimization: add the review length while keeping sparse matrix\n",
    "                tf_train = tfidf.fit_transform(train_words)\n",
    "                tf_test = tfidf.transform(test_words)\n",
    "            else:\n",
    "                tf_train = tfidf.fit_transform(train_words).todense()\n",
    "                tf_test = tfidf.transform(test_words).todense()\n",
    "\n",
    "            # option: add length to input\n",
    "            ADD_LENGTH = False\n",
    "\n",
    "            if ADD_LENGTH:\n",
    "                if SPARSE:\n",
    "                    # Hack: pick an existing word to store the count\n",
    "                    len_idx = 0\n",
    "                    test_lengths = [len(words) for words in test_words]\n",
    "\n",
    "                    for idx,words in enumerate(train_words):\n",
    "                        tf_train[idx][len_idx] = len(words)\n",
    "                    for idx,words in enumerate(test_words):\n",
    "                        tf_test[idx][len_idx] = len(words)\n",
    "                    X_train = tf_train\n",
    "                    X_test = tf_test\n",
    "                else:\n",
    "                    train_lengths = np.array([len(words) for words in train_words]).reshape(-1,1)\n",
    "                    test_lengths = np.array([len(words) for words in test_words]).reshape(-1,1)\n",
    "                    X_train = np.concatenate([tf_train, train_lengths],axis=1)\n",
    "                    X_test = np.concatenate([tf_test, test_lengths],axis=1)\n",
    "            else:\n",
    "                X_train = tf_train\n",
    "                X_test = tf_test\n",
    "\n",
    "            if X_train.shape[0] != y_train.shape[0] or X_test.shape[0] != y_test.shape[0]:\n",
    "                report['xy_check'].append('problem!!!')\n",
    "            else:\n",
    "                report['xy_check'].append('OK')\n",
    "\n",
    "            gbc.fit(X_train, y_train)\n",
    "\n",
    "            y_pred = gbc.predict(X_test)\n",
    "            prec, rec, f1, _ = precision_recall_fscore_support(y_test, y_pred, average='binary')\n",
    "            report['precision'].append(prec)\n",
    "            report['recall'].append(rec)\n",
    "            report['f1'].append(f1)\n",
    "            report['accuracy'].append(accuracy_score(y_test, y_pred, normalize=True))\n",
    "\n",
    "#             for key, val in report.items():\n",
    "#                 print(' ')\n",
    "#                 print(key)\n",
    "#                 print(val)\n",
    "            \n",
    "            pd.DataFrame(report).to_excel(xl_report)\n"
   ]
  },
  {
   "cell_type": "markdown",
   "metadata": {},
   "source": [
    "## Grid search"
   ]
  },
  {
   "cell_type": "code",
   "execution_count": null,
   "metadata": {},
   "outputs": [],
   "source": [
    "# if False:\n",
    "#     gb_pipe = Pipeline([('vect', tfidf), ('gb', gbc)])\n",
    "#     gb_pipe.fit(X_train, y_train)\n",
    "#     pickle.dump(gb_pipe, open('pickles/GBCpipe_balanced_comments_'\n",
    "#                            + str(N_TREES) + '_trees_' \n",
    "#                            + str(LEARN_RATE) + '_lr_' \n",
    "#                            + str(MAX_DEPTH) + '_maxdpth_'\n",
    "#                            + str(MIN_IN_LEAF) + '_minleaf_'\n",
    "#                            + str(MAX_FEATURES) + '_feats_'\n",
    "#                            + '.pkl', 'wb'))\n",
    "# else:\n",
    "# #     pickle_in = open(\"pickles/GBC_balanced_comments_300_trees_0.1_lr_15_maxdpth_2_minleaf_20000_feats_.pkl\",\n",
    "# #                      \"rb\")\n",
    "# #     gb_pipe = pickle.load(pickle_in)"
   ]
  },
  {
   "cell_type": "code",
   "execution_count": null,
   "metadata": {},
   "outputs": [],
   "source": [
    "# if True:\n",
    "#     grid = {\n",
    "#         'learning_rate': [0.2,0.3],\n",
    "#         'max_depth': [8],\n",
    "#         'min_samples_leaf': [5],\n",
    "#         'max_features': [None],\n",
    "#         'n_estimators': [300],\n",
    "#         'random_state': [0]\n",
    "#     }\n",
    "# else:  # TEST\n",
    "#     grid = {\n",
    "#     'learning_rate': [1],\n",
    "#     'max_depth': [2], \n",
    "#     'min_samples_leaf': [2],\n",
    "# #     'max_features': ['sqrt', None],\n",
    "#     'n_estimators': [2],\n",
    "#     'random_state': [0]\n",
    "# }\n",
    "    \n",
    "# # confusion_score = make_scorer(confusion_rmse, greater_is_better=False)\n",
    "\n",
    "# gbc_grid_cv = GridSearchCV(\n",
    "#     GradientBoostingClassifier(), \n",
    "#     grid,\n",
    "#     cv=4,  # number of folds\n",
    "#     return_train_score=True,\n",
    "#     verbose=1, \n",
    "#     n_jobs=-1)\n",
    "# gbc_grid_cv.fit(X_train, y_train)"
   ]
  },
  {
   "cell_type": "code",
   "execution_count": null,
   "metadata": {},
   "outputs": [],
   "source": [
    "y_pred = gbc_grid_cv.predict(X_test)"
   ]
  },
  {
   "cell_type": "code",
   "execution_count": null,
   "metadata": {},
   "outputs": [],
   "source": [
    "print('SAMPLE_FRACTION:', SAMPLE_FRACTION,'ADD_LENGTH:',ADD_LENGTH,' SPARSE:',SPARSE,' MAX_FEATURES:',MAX_FEATURES)"
   ]
  },
  {
   "cell_type": "code",
   "execution_count": null,
   "metadata": {},
   "outputs": [],
   "source": [
    "print(gbc_grid_cv.best_params_)\n",
    "print(gbc_grid_cv.best_score_)\n",
    "res_df = pd.DataFrame(gbc_grid_cv.cv_results_)\n",
    "res_df"
   ]
  },
  {
   "cell_type": "code",
   "execution_count": null,
   "metadata": {},
   "outputs": [],
   "source": []
  }
 ],
 "metadata": {
  "kernelspec": {
   "display_name": "Python 3",
   "language": "python",
   "name": "python3"
  },
  "language_info": {
   "codemirror_mode": {
    "name": "ipython",
    "version": 3
   },
   "file_extension": ".py",
   "mimetype": "text/x-python",
   "name": "python",
   "nbconvert_exporter": "python",
   "pygments_lexer": "ipython3",
   "version": "3.7.3"
  }
 },
 "nbformat": 4,
 "nbformat_minor": 2
}
