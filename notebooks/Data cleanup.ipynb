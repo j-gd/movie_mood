{
 "cells": [
  {
   "cell_type": "markdown",
   "metadata": {},
   "source": [
    "## Amazon movie reviews data cleanup\n",
    "Using spark for pre-processing"
   ]
  },
  {
   "cell_type": "code",
   "execution_count": 1,
   "metadata": {},
   "outputs": [],
   "source": [
    "import pyspark as ps    # for the pyspark suite\n",
    "spark = (ps.sql.SparkSession\n",
    "         .builder\n",
    "         .master('local[4]')\n",
    "         .appName('moviemood')\n",
    "         .getOrCreate()\n",
    "        )"
   ]
  },
  {
   "cell_type": "code",
   "execution_count": 2,
   "metadata": {},
   "outputs": [],
   "source": [
    "data_path = '../../datasets/'\n",
    "file_name = 'reviews_Movies_and_TV.json.gz'"
   ]
  },
  {
   "cell_type": "code",
   "execution_count": 3,
   "metadata": {},
   "outputs": [],
   "source": [
    "amazon_reviews_df = spark.read.json(data_path + file_name)"
   ]
  },
  {
   "cell_type": "code",
   "execution_count": 4,
   "metadata": {},
   "outputs": [
    {
     "name": "stdout",
     "output_type": "stream",
     "text": [
      "root\n",
      " |-- asin: string (nullable = true)\n",
      " |-- helpful: array (nullable = true)\n",
      " |    |-- element: long (containsNull = true)\n",
      " |-- overall: double (nullable = true)\n",
      " |-- reviewText: string (nullable = true)\n",
      " |-- reviewTime: string (nullable = true)\n",
      " |-- reviewerID: string (nullable = true)\n",
      " |-- reviewerName: string (nullable = true)\n",
      " |-- summary: string (nullable = true)\n",
      " |-- unixReviewTime: long (nullable = true)\n",
      "\n"
     ]
    }
   ],
   "source": [
    "amazon_reviews_df.cache()\n",
    "amazon_reviews_df.printSchema()"
   ]
  },
  {
   "cell_type": "code",
   "execution_count": 5,
   "metadata": {},
   "outputs": [],
   "source": [
    "total_comment_count = amazon_reviews_df.count()"
   ]
  },
  {
   "cell_type": "code",
   "execution_count": 6,
   "metadata": {},
   "outputs": [
    {
     "data": {
      "text/plain": [
       "4607047"
      ]
     },
     "execution_count": 6,
     "metadata": {},
     "output_type": "execute_result"
    }
   ],
   "source": [
    "total_comment_count"
   ]
  },
  {
   "cell_type": "markdown",
   "metadata": {},
   "source": [
    "### Data sampling for development"
   ]
  },
  {
   "cell_type": "code",
   "execution_count": 7,
   "metadata": {},
   "outputs": [],
   "source": [
    "dev_sample_fraction = 0.02"
   ]
  },
  {
   "cell_type": "code",
   "execution_count": 8,
   "metadata": {},
   "outputs": [],
   "source": [
    "reviews_spark_df = amazon_reviews_df.sample(withReplacement=False, fraction=0.02)"
   ]
  },
  {
   "cell_type": "code",
   "execution_count": 9,
   "metadata": {},
   "outputs": [],
   "source": [
    "reviews_df = reviews_spark_df.toPandas()"
   ]
  },
  {
   "cell_type": "code",
   "execution_count": 10,
   "metadata": {},
   "outputs": [
    {
     "name": "stdout",
     "output_type": "stream",
     "text": [
      "<class 'pandas.core.frame.DataFrame'>\n",
      "RangeIndex: 91869 entries, 0 to 91868\n",
      "Data columns (total 9 columns):\n",
      "asin              91869 non-null object\n",
      "helpful           91869 non-null object\n",
      "overall           91869 non-null float64\n",
      "reviewText        91869 non-null object\n",
      "reviewTime        91869 non-null object\n",
      "reviewerID        91869 non-null object\n",
      "reviewerName      91524 non-null object\n",
      "summary           91869 non-null object\n",
      "unixReviewTime    91869 non-null int64\n",
      "dtypes: float64(1), int64(1), object(7)\n",
      "memory usage: 6.3+ MB\n"
     ]
    }
   ],
   "source": [
    "reviews_df.info()"
   ]
  },
  {
   "cell_type": "code",
   "execution_count": 11,
   "metadata": {},
   "outputs": [
    {
     "data": {
      "text/html": [
       "<div>\n",
       "<style scoped>\n",
       "    .dataframe tbody tr th:only-of-type {\n",
       "        vertical-align: middle;\n",
       "    }\n",
       "\n",
       "    .dataframe tbody tr th {\n",
       "        vertical-align: top;\n",
       "    }\n",
       "\n",
       "    .dataframe thead th {\n",
       "        text-align: right;\n",
       "    }\n",
       "</style>\n",
       "<table border=\"1\" class=\"dataframe\">\n",
       "  <thead>\n",
       "    <tr style=\"text-align: right;\">\n",
       "      <th></th>\n",
       "      <th>asin</th>\n",
       "      <th>helpful</th>\n",
       "      <th>overall</th>\n",
       "      <th>reviewText</th>\n",
       "      <th>reviewTime</th>\n",
       "      <th>reviewerID</th>\n",
       "      <th>reviewerName</th>\n",
       "      <th>summary</th>\n",
       "      <th>unixReviewTime</th>\n",
       "    </tr>\n",
       "  </thead>\n",
       "  <tbody>\n",
       "    <tr>\n",
       "      <th>0</th>\n",
       "      <td>0001526863</td>\n",
       "      <td>[0, 0]</td>\n",
       "      <td>5.0</td>\n",
       "      <td>Attractive, memorable video featuring songs th...</td>\n",
       "      <td>09 27, 2009</td>\n",
       "      <td>A1TN0V94A3ECSH</td>\n",
       "      <td>Karilyn S. Eastvold</td>\n",
       "      <td>Hide 'Em in Your Heart</td>\n",
       "      <td>1254009600</td>\n",
       "    </tr>\n",
       "    <tr>\n",
       "      <th>1</th>\n",
       "      <td>0005004101</td>\n",
       "      <td>[2, 3]</td>\n",
       "      <td>4.0</td>\n",
       "      <td>See also: Jehovah's Witnesses: A Non-'Prophet'...</td>\n",
       "      <td>07 2, 2006</td>\n",
       "      <td>A3KROYMQ61M7A</td>\n",
       "      <td>Rich The Reviewer</td>\n",
       "      <td>Very Fine Jeremiah Films production of this pe...</td>\n",
       "      <td>1151798400</td>\n",
       "    </tr>\n",
       "    <tr>\n",
       "      <th>2</th>\n",
       "      <td>0005019281</td>\n",
       "      <td>[0, 0]</td>\n",
       "      <td>5.0</td>\n",
       "      <td>This has not been on TV, that I know of in man...</td>\n",
       "      <td>12 14, 2012</td>\n",
       "      <td>A1ZAQHMCCT297C</td>\n",
       "      <td>Holly Anne Romanoli</td>\n",
       "      <td>So happy I was able to get this</td>\n",
       "      <td>1355443200</td>\n",
       "    </tr>\n",
       "    <tr>\n",
       "      <th>3</th>\n",
       "      <td>0005019281</td>\n",
       "      <td>[0, 0]</td>\n",
       "      <td>5.0</td>\n",
       "      <td>I love An American Christmas Carol with Henry ...</td>\n",
       "      <td>01 4, 2014</td>\n",
       "      <td>A38JFF6SGZEO37</td>\n",
       "      <td>Lauren</td>\n",
       "      <td>The Best Film about Scrooge!</td>\n",
       "      <td>1388793600</td>\n",
       "    </tr>\n",
       "    <tr>\n",
       "      <th>4</th>\n",
       "      <td>0005019281</td>\n",
       "      <td>[4, 4]</td>\n",
       "      <td>5.0</td>\n",
       "      <td>One of the best \"Scrooge\" movies, a very creat...</td>\n",
       "      <td>01 17, 2007</td>\n",
       "      <td>A22J3OCEN0J191</td>\n",
       "      <td>Steve Gick</td>\n",
       "      <td>An American Chrismas Carol- Henry Winkler</td>\n",
       "      <td>1168992000</td>\n",
       "    </tr>\n",
       "  </tbody>\n",
       "</table>\n",
       "</div>"
      ],
      "text/plain": [
       "         asin helpful  overall  \\\n",
       "0  0001526863  [0, 0]      5.0   \n",
       "1  0005004101  [2, 3]      4.0   \n",
       "2  0005019281  [0, 0]      5.0   \n",
       "3  0005019281  [0, 0]      5.0   \n",
       "4  0005019281  [4, 4]      5.0   \n",
       "\n",
       "                                          reviewText   reviewTime  \\\n",
       "0  Attractive, memorable video featuring songs th...  09 27, 2009   \n",
       "1  See also: Jehovah's Witnesses: A Non-'Prophet'...   07 2, 2006   \n",
       "2  This has not been on TV, that I know of in man...  12 14, 2012   \n",
       "3  I love An American Christmas Carol with Henry ...   01 4, 2014   \n",
       "4  One of the best \"Scrooge\" movies, a very creat...  01 17, 2007   \n",
       "\n",
       "       reviewerID         reviewerName  \\\n",
       "0  A1TN0V94A3ECSH  Karilyn S. Eastvold   \n",
       "1   A3KROYMQ61M7A    Rich The Reviewer   \n",
       "2  A1ZAQHMCCT297C  Holly Anne Romanoli   \n",
       "3  A38JFF6SGZEO37               Lauren   \n",
       "4  A22J3OCEN0J191           Steve Gick   \n",
       "\n",
       "                                             summary  unixReviewTime  \n",
       "0                             Hide 'Em in Your Heart      1254009600  \n",
       "1  Very Fine Jeremiah Films production of this pe...      1151798400  \n",
       "2                    So happy I was able to get this      1355443200  \n",
       "3                       The Best Film about Scrooge!      1388793600  \n",
       "4          An American Chrismas Carol- Henry Winkler      1168992000  "
      ]
     },
     "execution_count": 11,
     "metadata": {},
     "output_type": "execute_result"
    }
   ],
   "source": [
    "reviews_df.head()"
   ]
  },
  {
   "cell_type": "markdown",
   "metadata": {},
   "source": [
    "### Filter out comments that may be relative to the support (DVD, edition...)"
   ]
  },
  {
   "cell_type": "code",
   "execution_count": 33,
   "metadata": {},
   "outputs": [],
   "source": [
    "import pandas as pd\n",
    "pd.set_option('display.max_colwidth', -1)\n",
    "\n",
    "words_to_remove = ['dvd', 'vhs','edition', 'blue-ray', 'blueray', 'blu-ray', 'bluray', 'price']"
   ]
  },
  {
   "cell_type": "code",
   "execution_count": 34,
   "metadata": {},
   "outputs": [],
   "source": [
    "words_to_remove_re = '(' + '|'.join(words_to_remove) + ')'"
   ]
  },
  {
   "cell_type": "code",
   "execution_count": 35,
   "metadata": {},
   "outputs": [],
   "source": [
    "import warnings\n",
    "warnings.simplefilter('ignore')\n",
    "text_removed = reviews_df[reviews_df['reviewText'].str.contains(words_to_remove_re, case=False)]\n",
    "warnings.simplefilter('default')"
   ]
  },
  {
   "cell_type": "code",
   "execution_count": 36,
   "metadata": {},
   "outputs": [
    {
     "data": {
      "text/html": [
       "<div>\n",
       "<style scoped>\n",
       "    .dataframe tbody tr th:only-of-type {\n",
       "        vertical-align: middle;\n",
       "    }\n",
       "\n",
       "    .dataframe tbody tr th {\n",
       "        vertical-align: top;\n",
       "    }\n",
       "\n",
       "    .dataframe thead th {\n",
       "        text-align: right;\n",
       "    }\n",
       "</style>\n",
       "<table border=\"1\" class=\"dataframe\">\n",
       "  <thead>\n",
       "    <tr style=\"text-align: right;\">\n",
       "      <th></th>\n",
       "      <th>overall</th>\n",
       "      <th>unixReviewTime</th>\n",
       "    </tr>\n",
       "  </thead>\n",
       "  <tbody>\n",
       "    <tr>\n",
       "      <th>count</th>\n",
       "      <td>21672.000000</td>\n",
       "      <td>2.167200e+04</td>\n",
       "    </tr>\n",
       "    <tr>\n",
       "      <th>mean</th>\n",
       "      <td>4.183924</td>\n",
       "      <td>1.252101e+09</td>\n",
       "    </tr>\n",
       "    <tr>\n",
       "      <th>std</th>\n",
       "      <td>1.262963</td>\n",
       "      <td>1.184108e+08</td>\n",
       "    </tr>\n",
       "    <tr>\n",
       "      <th>min</th>\n",
       "      <td>1.000000</td>\n",
       "      <td>8.949312e+08</td>\n",
       "    </tr>\n",
       "    <tr>\n",
       "      <th>25%</th>\n",
       "      <td>4.000000</td>\n",
       "      <td>1.167782e+09</td>\n",
       "    </tr>\n",
       "    <tr>\n",
       "      <th>50%</th>\n",
       "      <td>5.000000</td>\n",
       "      <td>1.272413e+09</td>\n",
       "    </tr>\n",
       "    <tr>\n",
       "      <th>75%</th>\n",
       "      <td>5.000000</td>\n",
       "      <td>1.358575e+09</td>\n",
       "    </tr>\n",
       "    <tr>\n",
       "      <th>max</th>\n",
       "      <td>5.000000</td>\n",
       "      <td>1.405987e+09</td>\n",
       "    </tr>\n",
       "  </tbody>\n",
       "</table>\n",
       "</div>"
      ],
      "text/plain": [
       "            overall  unixReviewTime\n",
       "count  21672.000000  2.167200e+04  \n",
       "mean   4.183924      1.252101e+09  \n",
       "std    1.262963      1.184108e+08  \n",
       "min    1.000000      8.949312e+08  \n",
       "25%    4.000000      1.167782e+09  \n",
       "50%    5.000000      1.272413e+09  \n",
       "75%    5.000000      1.358575e+09  \n",
       "max    5.000000      1.405987e+09  "
      ]
     },
     "execution_count": 36,
     "metadata": {},
     "output_type": "execute_result"
    }
   ],
   "source": [
    "text_removed.describe()"
   ]
  },
  {
   "cell_type": "markdown",
   "metadata": {},
   "source": [
    "#### Result: fraction of content removed:"
   ]
  },
  {
   "cell_type": "code",
   "execution_count": 37,
   "metadata": {},
   "outputs": [
    {
     "data": {
      "text/plain": [
       "0.23520489372042439"
      ]
     },
     "execution_count": 37,
     "metadata": {},
     "output_type": "execute_result"
    }
   ],
   "source": [
    "text_removed['reviewText'].count() / (total_comment_count * dev_sample_fraction)"
   ]
  },
  {
   "cell_type": "markdown",
   "metadata": {},
   "source": [
    "## Quality check on filtered data"
   ]
  },
  {
   "cell_type": "code",
   "execution_count": 43,
   "metadata": {},
   "outputs": [],
   "source": [
    "warnings.simplefilter('ignore')\n",
    "relevant_comments = reviews_df[~reviews_df['reviewText'].str.contains(words_to_remove_re, case=False)]\n",
    "warnings.simplefilter('default')"
   ]
  },
  {
   "cell_type": "code",
   "execution_count": 46,
   "metadata": {},
   "outputs": [
    {
     "name": "stdout",
     "output_type": "stream",
     "text": [
      "<class 'pandas.core.frame.DataFrame'>\n",
      "Int64Index: 70197 entries, 0 to 91868\n",
      "Data columns (total 9 columns):\n",
      "asin              70197 non-null object\n",
      "helpful           70197 non-null object\n",
      "overall           70197 non-null float64\n",
      "reviewText        70197 non-null object\n",
      "reviewTime        70197 non-null object\n",
      "reviewerID        70197 non-null object\n",
      "reviewerName      69930 non-null object\n",
      "summary           70197 non-null object\n",
      "unixReviewTime    70197 non-null int64\n",
      "dtypes: float64(1), int64(1), object(7)\n",
      "memory usage: 5.4+ MB\n"
     ]
    }
   ],
   "source": [
    "relevant_comments.info()"
   ]
  },
  {
   "cell_type": "code",
   "execution_count": 43,
   "metadata": {},
   "outputs": [
    {
     "data": {
      "text/plain": [
       "0    Attractive, memorable video featuring songs that are catchy and easy to learn.  Great way to write the Word of God on young hearts.  Works for parents too--they like the songs and learn the verses with little effort.  Children love these videos.                                                         \n",
       "1    See also: Jehovah's Witnesses: A Non-'Prophet' Organization. Started by 33rd degree Masonic Pyramidologist Chas.Taze Russell, in 1874 as the 'Russel-ites'. These poor people are badly bam-boozled. They need our prayers and th-is video / book (if you can still findit) are a step in the right direction!\n",
       "Name: reviewText, dtype: object"
      ]
     },
     "execution_count": 43,
     "metadata": {},
     "output_type": "execute_result"
    }
   ],
   "source": [
    "relevant_comments['reviewText'].head(2) # try head(50) or more"
   ]
  },
  {
   "cell_type": "markdown",
   "metadata": {},
   "source": [
    "#### Result: reviews look good\n",
    "Based on quick review of head(50)"
   ]
  },
  {
   "cell_type": "markdown",
   "metadata": {},
   "source": [
    "## Keyword-based sentiment analysis"
   ]
  },
  {
   "cell_type": "code",
   "execution_count": 54,
   "metadata": {},
   "outputs": [],
   "source": [
    "emotion_keywords_path = '../../datasets/'\n",
    "emotion_keywords = 'emotions-sensor-data-set.zip'\n",
    "emotions_keywords_df = pd.read_csv(emotion_keywords_path + emotion_keywords)"
   ]
  },
  {
   "cell_type": "code",
   "execution_count": 57,
   "metadata": {},
   "outputs": [
    {
     "name": "stdout",
     "output_type": "stream",
     "text": [
      "<class 'pandas.core.frame.DataFrame'>\n",
      "RangeIndex: 1104 entries, 0 to 1103\n",
      "Data columns (total 8 columns):\n",
      "word        1104 non-null object\n",
      "disgust     1104 non-null float64\n",
      "surprise    1104 non-null float64\n",
      "neutral     1104 non-null float64\n",
      "anger       1104 non-null float64\n",
      "sad         1104 non-null float64\n",
      "happy       1104 non-null float64\n",
      "fear        1104 non-null float64\n",
      "dtypes: float64(7), object(1)\n",
      "memory usage: 69.1+ KB\n"
     ]
    }
   ],
   "source": [
    "emotions_keywords_df.info()"
   ]
  },
  {
   "cell_type": "code",
   "execution_count": 132,
   "metadata": {},
   "outputs": [],
   "source": [
    "emotions = list(emotions_keywords_df)[1:]\n",
    "rel_comments_w_sentiments = relevant_comments.reindex(columns= relevant_comments.columns.tolist() + emotions)"
   ]
  },
  {
   "cell_type": "code",
   "execution_count": 133,
   "metadata": {},
   "outputs": [
    {
     "data": {
      "text/html": [
       "<div>\n",
       "<style scoped>\n",
       "    .dataframe tbody tr th:only-of-type {\n",
       "        vertical-align: middle;\n",
       "    }\n",
       "\n",
       "    .dataframe tbody tr th {\n",
       "        vertical-align: top;\n",
       "    }\n",
       "\n",
       "    .dataframe thead th {\n",
       "        text-align: right;\n",
       "    }\n",
       "</style>\n",
       "<table border=\"1\" class=\"dataframe\">\n",
       "  <thead>\n",
       "    <tr style=\"text-align: right;\">\n",
       "      <th></th>\n",
       "      <th>asin</th>\n",
       "      <th>helpful</th>\n",
       "      <th>overall</th>\n",
       "      <th>reviewText</th>\n",
       "      <th>reviewTime</th>\n",
       "      <th>reviewerID</th>\n",
       "      <th>reviewerName</th>\n",
       "      <th>summary</th>\n",
       "      <th>unixReviewTime</th>\n",
       "      <th>disgust</th>\n",
       "      <th>surprise</th>\n",
       "      <th>neutral</th>\n",
       "      <th>anger</th>\n",
       "      <th>sad</th>\n",
       "      <th>happy</th>\n",
       "      <th>fear</th>\n",
       "    </tr>\n",
       "  </thead>\n",
       "  <tbody>\n",
       "    <tr>\n",
       "      <th>0</th>\n",
       "      <td>0001526863</td>\n",
       "      <td>[0, 0]</td>\n",
       "      <td>5.0</td>\n",
       "      <td>Attractive, memorable video featuring songs that are catchy and easy to learn.  Great way to write the Word of God on young hearts.  Works for parents too--they like the songs and learn the verses with little effort.  Children love these videos.</td>\n",
       "      <td>09 27, 2009</td>\n",
       "      <td>A1TN0V94A3ECSH</td>\n",
       "      <td>Karilyn S. Eastvold</td>\n",
       "      <td>Hide 'Em in Your Heart</td>\n",
       "      <td>1254009600</td>\n",
       "      <td>NaN</td>\n",
       "      <td>NaN</td>\n",
       "      <td>NaN</td>\n",
       "      <td>NaN</td>\n",
       "      <td>NaN</td>\n",
       "      <td>NaN</td>\n",
       "      <td>NaN</td>\n",
       "    </tr>\n",
       "    <tr>\n",
       "      <th>1</th>\n",
       "      <td>0005004101</td>\n",
       "      <td>[2, 3]</td>\n",
       "      <td>4.0</td>\n",
       "      <td>See also: Jehovah's Witnesses: A Non-'Prophet' Organization. Started by 33rd degree Masonic Pyramidologist Chas.Taze Russell, in 1874 as the 'Russel-ites'. These poor people are badly bam-boozled. They need our prayers and th-is video / book (if you can still findit) are a step in the right direction!</td>\n",
       "      <td>07 2, 2006</td>\n",
       "      <td>A3KROYMQ61M7A</td>\n",
       "      <td>Rich The Reviewer</td>\n",
       "      <td>Very Fine Jeremiah Films production of this pernicious cult...</td>\n",
       "      <td>1151798400</td>\n",
       "      <td>NaN</td>\n",
       "      <td>NaN</td>\n",
       "      <td>NaN</td>\n",
       "      <td>NaN</td>\n",
       "      <td>NaN</td>\n",
       "      <td>NaN</td>\n",
       "      <td>NaN</td>\n",
       "    </tr>\n",
       "    <tr>\n",
       "      <th>2</th>\n",
       "      <td>0005019281</td>\n",
       "      <td>[0, 0]</td>\n",
       "      <td>5.0</td>\n",
       "      <td>This has not been on TV, that I know of in many years but really great performance by Henry Winkler. Thank you.</td>\n",
       "      <td>12 14, 2012</td>\n",
       "      <td>A1ZAQHMCCT297C</td>\n",
       "      <td>Holly Anne Romanoli</td>\n",
       "      <td>So happy I was able to get this</td>\n",
       "      <td>1355443200</td>\n",
       "      <td>NaN</td>\n",
       "      <td>NaN</td>\n",
       "      <td>NaN</td>\n",
       "      <td>NaN</td>\n",
       "      <td>NaN</td>\n",
       "      <td>NaN</td>\n",
       "      <td>NaN</td>\n",
       "    </tr>\n",
       "  </tbody>\n",
       "</table>\n",
       "</div>"
      ],
      "text/plain": [
       "         asin helpful  overall  \\\n",
       "0  0001526863  [0, 0]  5.0       \n",
       "1  0005004101  [2, 3]  4.0       \n",
       "2  0005019281  [0, 0]  5.0       \n",
       "\n",
       "                                                                                                                                                                                                                                                                                                       reviewText  \\\n",
       "0  Attractive, memorable video featuring songs that are catchy and easy to learn.  Great way to write the Word of God on young hearts.  Works for parents too--they like the songs and learn the verses with little effort.  Children love these videos.                                                            \n",
       "1  See also: Jehovah's Witnesses: A Non-'Prophet' Organization. Started by 33rd degree Masonic Pyramidologist Chas.Taze Russell, in 1874 as the 'Russel-ites'. These poor people are badly bam-boozled. They need our prayers and th-is video / book (if you can still findit) are a step in the right direction!   \n",
       "2  This has not been on TV, that I know of in many years but really great performance by Henry Winkler. Thank you.                                                                                                                                                                                                  \n",
       "\n",
       "    reviewTime      reviewerID         reviewerName  \\\n",
       "0  09 27, 2009  A1TN0V94A3ECSH  Karilyn S. Eastvold   \n",
       "1  07 2, 2006   A3KROYMQ61M7A   Rich The Reviewer     \n",
       "2  12 14, 2012  A1ZAQHMCCT297C  Holly Anne Romanoli   \n",
       "\n",
       "                                                          summary  \\\n",
       "0  Hide 'Em in Your Heart                                           \n",
       "1  Very Fine Jeremiah Films production of this pernicious cult...   \n",
       "2  So happy I was able to get this                                  \n",
       "\n",
       "   unixReviewTime  disgust  surprise  neutral  anger  sad  happy  fear  \n",
       "0  1254009600     NaN      NaN       NaN      NaN    NaN  NaN    NaN    \n",
       "1  1151798400     NaN      NaN       NaN      NaN    NaN  NaN    NaN    \n",
       "2  1355443200     NaN      NaN       NaN      NaN    NaN  NaN    NaN    "
      ]
     },
     "execution_count": 133,
     "metadata": {},
     "output_type": "execute_result"
    }
   ],
   "source": [
    "rel_comments_w_sentiments.head(3)"
   ]
  },
  {
   "cell_type": "code",
   "execution_count": 83,
   "metadata": {},
   "outputs": [
    {
     "data": {
      "text/plain": [
       "\"This is a brilliant epic movie, a tour de force, the best Biblical movie I have seen with the exception ofOne Night with the KingStarring Paul Mercurio in the title role, he gives an intelligent and passionate performance of a man who was prepared to die, to keep to the word of his G-D.Ben Kingsley is his usual magnificent self in his role of Potiphar which he plays with panache. Warren Clark played a sterling role as Potiphar's thuggish overseer Domo Ednan, later to be Joseph's aid de camp. A deliciously evil Potiphar's Wife is captured in brilliant detail by Lesley Ann Warren and the actors playing the ten brothers also acquit themselves well staying true to the form of Israelite tribesmanThe movie begins with the purchase of Joseph by Potiphar, and his rise from that of a lowly slave to Potiphar's major domo where he captures the attention of Potiphar's evil wife, when he resists her attention and she accuses him of assaulting her, Potiphar soon knows he is innocent, and he embarks on the telling of his story of his boyhood, including the narrative of the rape of his half-sister  Dinah (played with shyness and prettiness by Mexican actress Paloma Baeza), and the destruction of the Canaanite town of Schechem  in revenge by her brothers Simeon (Vincenzo Nicoli) and Levi (Colin Bruce) Then we move to the central story whose tale baring and father's favour lead to his brother's brutal attack of him, where he is thrown into a pit and sold to Ishmaelite traders.His rise in prison, his interpretation of the dreams of Pharaoh (Stefano Dionisi) at the same time as we are taken back to Canaan and see the story of Tamar( a pert and beautiful Kelly Miller ) and Judah (Michael Attwell). The final sequence where Joseph's brothers go down to Egypt until the moving scene where he reveals himself to his brothers is the finest.The sex scenes are tasteful and not at all gratuitous in any way , and yes this is an adult movie, but they simply cover what is told in the Bible without going further and it is extremely narrow minded to find them offensive\""
      ]
     },
     "execution_count": 83,
     "metadata": {},
     "output_type": "execute_result"
    }
   ],
   "source": [
    "import re\n",
    "comment = rel_comments_w_sentiments['reviewText'][8]\n",
    "comment"
   ]
  },
  {
   "cell_type": "code",
   "execution_count": 134,
   "metadata": {},
   "outputs": [
    {
     "name": "stdout",
     "output_type": "stream",
     "text": [
      "{'disgust': 0.0, 'surprise': 0.0, 'neutral': 0.0, 'anger': 0.0, 'sad': 0.0, 'happy': 0.0, 'fear': 0.0}\n"
     ]
    }
   ],
   "source": [
    "# TODO: remove stomp words\n",
    "test_input = 'ability. Ability,abilities'\n",
    "scores = {key: 0.0 for key in emotions}\n",
    "print(scores)"
   ]
  },
  {
   "cell_type": "code",
   "execution_count": 148,
   "metadata": {},
   "outputs": [
    {
     "name": "stdout",
     "output_type": "stream",
     "text": [
      "{'disgust': 0.298169173366, 'surprise': 0.7785688146200002, 'neutral': 0.15035548793999998, 'anger': 0.593098854015, 'sad': 0.449492349956, 'happy': 0.8607997053100002, 'fear': 0.89701848154}\n",
      "26\n",
      "asin              0005119367                                                                                                                                                                                                                                                                                                                                                                                                                                                                                                                                                                                                                                                                                                                                                                                                                                                                                                                                                                                                                                                                                                                                                                                                                                                                                                                                                                                                                                                                                                                                                                                                                                                                                                                                                                                                                                                                                                                                                                                                                                                                                                                                           \n",
      "helpful           [1, 1]                                                                                                                                                                                                                                                                                                                                                                                                                                                                                                                                                                                                                                                                                                                                                                                                                                                                                                                                                                                                                                                                                                                                                                                                                                                                                                                                                                                                                                                                                                                                                                                                                                                                                                                                                                                                                                                                                                                                                                                                                                                                                                                                               \n",
      "overall           5                                                                                                                                                                                                                                                                                                                                                                                                                                                                                                                                                                                                                                                                                                                                                                                                                                                                                                                                                                                                                                                                                                                                                                                                                                                                                                                                                                                                                                                                                                                                                                                                                                                                                                                                                                                                                                                                                                                                                                                                                                                                                                                                                    \n",
      "reviewText        This is a brilliant epic movie, a tour de force, the best Biblical movie I have seen with the exception ofOne Night with the KingStarring Paul Mercurio in the title role, he gives an intelligent and passionate performance of a man who was prepared to die, to keep to the word of his G-D.Ben Kingsley is his usual magnificent self in his role of Potiphar which he plays with panache. Warren Clark played a sterling role as Potiphar's thuggish overseer Domo Ednan, later to be Joseph's aid de camp. A deliciously evil Potiphar's Wife is captured in brilliant detail by Lesley Ann Warren and the actors playing the ten brothers also acquit themselves well staying true to the form of Israelite tribesmanThe movie begins with the purchase of Joseph by Potiphar, and his rise from that of a lowly slave to Potiphar's major domo where he captures the attention of Potiphar's evil wife, when he resists her attention and she accuses him of assaulting her, Potiphar soon knows he is innocent, and he embarks on the telling of his story of his boyhood, including the narrative of the rape of his half-sister  Dinah (played with shyness and prettiness by Mexican actress Paloma Baeza), and the destruction of the Canaanite town of Schechem  in revenge by her brothers Simeon (Vincenzo Nicoli) and Levi (Colin Bruce) Then we move to the central story whose tale baring and father's favour lead to his brother's brutal attack of him, where he is thrown into a pit and sold to Ishmaelite traders.His rise in prison, his interpretation of the dreams of Pharaoh (Stefano Dionisi) at the same time as we are taken back to Canaan and see the story of Tamar( a pert and beautiful Kelly Miller ) and Judah (Michael Attwell). The final sequence where Joseph's brothers go down to Egypt until the moving scene where he reveals himself to his brothers is the finest.The sex scenes are tasteful and not at all gratuitous in any way , and yes this is an adult movie, but they simply cover what is told in the Bible without going further and it is extremely narrow minded to find them offensive\n",
      "reviewTime        09 9, 2012                                                                                                                                                                                                                                                                                                                                                                                                                                                                                                                                                                                                                                                                                                                                                                                                                                                                                                                                                                                                                                                                                                                                                                                                                                                                                                                                                                                                                                                                                                                                                                                                                                                                                                                                                                                                                                                                                                                                                                                                                                                                                                                                           \n",
      "reviewerID        A1G9FX1KV45N41                                                                                                                                                                                                                                                                                                                                                                                                                                                                                                                                                                                                                                                                                                                                                                                                                                                                                                                                                                                                                                                                                                                                                                                                                                                                                                                                                                                                                                                                                                                                                                                                                                                                                                                                                                                                                                                                                                                                                                                                                                                                                                                                       \n",
      "reviewerName      Gary Selikow                                                                                                                                                                                                                                                                                                                                                                                                                                                                                                                                                                                                                                                                                                                                                                                                                                                                                                                                                                                                                                                                                                                                                                                                                                                                                                                                                                                                                                                                                                                                                                                                                                                                                                                                                                                                                                                                                                                                                                                                                                                                                                                                         \n",
      "summary           Tour de force                                                                                                                                                                                                                                                                                                                                                                                                                                                                                                                                                                                                                                                                                                                                                                                                                                                                                                                                                                                                                                                                                                                                                                                                                                                                                                                                                                                                                                                                                                                                                                                                                                                                                                                                                                                                                                                                                                                                                                                                                                                                                                                                        \n",
      "unixReviewTime    1347148800                                                                                                                                                                                                                                                                                                                                                                                                                                                                                                                                                                                                                                                                                                                                                                                                                                                                                                                                                                                                                                                                                                                                                                                                                                                                                                                                                                                                                                                                                                                                                                                                                                                                                                                                                                                                                                                                                                                                                                                                                                                                                                                                           \n",
      "disgust           0.298169                                                                                                                                                                                                                                                                                                                                                                                                                                                                                                                                                                                                                                                                                                                                                                                                                                                                                                                                                                                                                                                                                                                                                                                                                                                                                                                                                                                                                                                                                                                                                                                                                                                                                                                                                                                                                                                                                                                                                                                                                                                                                                                                             \n",
      "surprise          0.778569                                                                                                                                                                                                                                                                                                                                                                                                                                                                                                                                                                                                                                                                                                                                                                                                                                                                                                                                                                                                                                                                                                                                                                                                                                                                                                                                                                                                                                                                                                                                                                                                                                                                                                                                                                                                                                                                                                                                                                                                                                                                                                                                             \n",
      "neutral           0.150355                                                                                                                                                                                                                                                                                                                                                                                                                                                                                                                                                                                                                                                                                                                                                                                                                                                                                                                                                                                                                                                                                                                                                                                                                                                                                                                                                                                                                                                                                                                                                                                                                                                                                                                                                                                                                                                                                                                                                                                                                                                                                                                                             \n",
      "anger             0.593099                                                                                                                                                                                                                                                                                                                                                                                                                                                                                                                                                                                                                                                                                                                                                                                                                                                                                                                                                                                                                                                                                                                                                                                                                                                                                                                                                                                                                                                                                                                                                                                                                                                                                                                                                                                                                                                                                                                                                                                                                                                                                                                                             \n",
      "sad               0.449492                                                                                                                                                                                                                                                                                                                                                                                                                                                                                                                                                                                                                                                                                                                                                                                                                                                                                                                                                                                                                                                                                                                                                                                                                                                                                                                                                                                                                                                                                                                                                                                                                                                                                                                                                                                                                                                                                                                                                                                                                                                                                                                                             \n",
      "happy             0.8608                                                                                                                                                                                                                                                                                                                                                                                                                                                                                                                                                                                                                                                                                                                                                                                                                                                                                                                                                                                                                                                                                                                                                                                                                                                                                                                                                                                                                                                                                                                                                                                                                                                                                                                                                                                                                                                                                                                                                                                                                                                                                                                                               \n",
      "fear              0.897018                                                                                                                                                                                                                                                                                                                                                                                                                                                                                                                                                                                                                                                                                                                                                                                                                                                                                                                                                                                                                                                                                                                                                                                                                                                                                                                                                                                                                                                                                                                                                                                                                                                                                                                                                                                                                                                                                                                                                                                                                                                                                                                                             \n",
      "Name: 8, dtype: object\n"
     ]
    }
   ],
   "source": [
    "emotion_keywords_hits = 0\n",
    "scores = {key: 0.0 for key in emotions}    # {'disgust': 0.0, ...}\n",
    "for row in emotions_keywords_df.itertuples():\n",
    "#     print(row)\n",
    "    word = row.word.strip()  # there are spaces at end\n",
    "    word_re = r'\\b' + re.escape(word) + r'\\b'\n",
    "    match = re.findall(word_re, comment,re.IGNORECASE)\n",
    "    count = len(match)\n",
    "    if count > 0:\n",
    "#         print(match)\n",
    "        scores['disgust'] += row.disgust\n",
    "        scores['surprise'] += row.surprise\n",
    "        scores['neutral'] += row.neutral\n",
    "        scores['anger'] += row.anger\n",
    "        scores['sad'] += row.sad\n",
    "        scores['happy'] += row.happy\n",
    "        scores['fear'] += row.fear\n",
    "        emotion_keywords_hits += 1\n",
    "\n",
    "print(scores)\n",
    "print(emotion_keywords_hits) \n",
    "\n",
    "for emotion in emotions:\n",
    "    rel_comments_w_sentiments.loc[8, emotion] = scores[emotion]\n",
    "print(rel_comments_w_sentiments.loc[8])"
   ]
  },
  {
   "cell_type": "code",
   "execution_count": null,
   "metadata": {},
   "outputs": [],
   "source": []
  },
  {
   "cell_type": "code",
   "execution_count": null,
   "metadata": {},
   "outputs": [],
   "source": []
  },
  {
   "cell_type": "code",
   "execution_count": 93,
   "metadata": {},
   "outputs": [],
   "source": [
    "from compute_emotions import *\n",
    "#computeEmotions(4)"
   ]
  },
  {
   "cell_type": "code",
   "execution_count": 95,
   "metadata": {},
   "outputs": [
    {
     "data": {
      "text/plain": [
       "word        ability    \n",
       "disgust     0.00446429 \n",
       "surprise    0.0478316  \n",
       "neutral     0.000637755\n",
       "anger       0.0235969  \n",
       "sad         0.0133929  \n",
       "happy       0.0159439  \n",
       "fear        0.0401786  \n",
       "Name: 0, dtype: object"
      ]
     },
     "execution_count": 95,
     "metadata": {},
     "output_type": "execute_result"
    }
   ],
   "source": [
    "emotions_keywords_df.iloc[0]"
   ]
  },
  {
   "cell_type": "code",
   "execution_count": null,
   "metadata": {},
   "outputs": [],
   "source": []
  },
  {
   "cell_type": "code",
   "execution_count": null,
   "metadata": {},
   "outputs": [],
   "source": []
  },
  {
   "cell_type": "code",
   "execution_count": null,
   "metadata": {},
   "outputs": [],
   "source": []
  },
  {
   "cell_type": "code",
   "execution_count": 94,
   "metadata": {},
   "outputs": [],
   "source": [
    "# rel_comments_w_sentiments.transform(computeEmotions, axis=1)"
   ]
  },
  {
   "cell_type": "code",
   "execution_count": null,
   "metadata": {},
   "outputs": [],
   "source": []
  },
  {
   "cell_type": "code",
   "execution_count": null,
   "metadata": {},
   "outputs": [],
   "source": []
  },
  {
   "cell_type": "code",
   "execution_count": null,
   "metadata": {},
   "outputs": [],
   "source": []
  },
  {
   "cell_type": "code",
   "execution_count": null,
   "metadata": {},
   "outputs": [],
   "source": []
  },
  {
   "cell_type": "code",
   "execution_count": null,
   "metadata": {},
   "outputs": [],
   "source": []
  },
  {
   "cell_type": "markdown",
   "metadata": {},
   "source": [
    "## Isolating Comment helpfulness"
   ]
  },
  {
   "cell_type": "code",
   "execution_count": 24,
   "metadata": {},
   "outputs": [
    {
     "data": {
      "text/plain": [
       "count    91869.000000\n",
       "mean     2.638866    \n",
       "std      11.521295   \n",
       "min      0.000000    \n",
       "25%      0.000000    \n",
       "50%      0.000000    \n",
       "75%      2.000000    \n",
       "max      1031.000000 \n",
       "Name: helpful, dtype: float64"
      ]
     },
     "execution_count": 24,
     "metadata": {},
     "output_type": "execute_result"
    }
   ],
   "source": [
    "helpful = reviews_df['helpful'].map(lambda x: x[0], na_action='ignore')\n",
    "helpful.describe()"
   ]
  },
  {
   "cell_type": "code",
   "execution_count": 25,
   "metadata": {},
   "outputs": [
    {
     "data": {
      "text/plain": [
       "count    91869.000000\n",
       "mean     4.093655    \n",
       "std      14.126499   \n",
       "min      0.000000    \n",
       "25%      0.000000    \n",
       "50%      1.000000    \n",
       "75%      4.000000    \n",
       "max      1160.000000 \n",
       "Name: helpful, dtype: float64"
      ]
     },
     "execution_count": 25,
     "metadata": {},
     "output_type": "execute_result"
    }
   ],
   "source": [
    "not_helpful = reviews_df['helpful'].map(lambda x: x[1], na_action='ignore')\n",
    "not_helpful.describe()"
   ]
  },
  {
   "cell_type": "markdown",
   "metadata": {},
   "source": [
    "### Note: current filtering is probably too aggressive:'DVD' mostly used to describe the movie\n",
    "Removing DVD would remove a lot of good comments, as all of the following are appropriate:"
   ]
  },
  {
   "cell_type": "code",
   "execution_count": 26,
   "metadata": {},
   "outputs": [
    {
     "data": {
      "text/plain": [
       "11    I have watched this version of &#34;Joseph&#34; numerous times also on TV and am once again glad to add this one to my collection of Bible DVD's. It's entertainment but for me it's much than that I'm able to receive a better understanding of my Bible it's like a learning process to test me on my Bible knowledge and see how well I know the scriptures, for instance when I'm able to pick something out of the movie that may not be quite true to scripture I go check my Bible and I'm able to learn my scriptures better and my Bible. I believe by watching the DVD over and over and even having different versions you absorb more into your memory and it can be your own individual Bible study. I was really amazed and excited when I saw that you offered many of these DVD's of (The Bible Collection) which are some of my favorites. Hoping to collect them all and other versions plus other Christian DVD's to learn from them for a better understanding of God's true Word.\n",
       "13    I use the Hemispheres textbooks for teaching one on one students and I love it! This is a good text to supplement my teaching. It goes with the DVD and my students can work on it individually.                                                                                                                                                                                                                                                                                                                                                                                                                                                                                                                                                                                                                                                                                                                                                                                                       \n",
       "18    I purchased this in an effort to collect all classic Christmas movies. This is the original Frosty movie, the quality is definitely dated. This was the cheapest price I could find this movie for, so the value was good.                                                                                                                                                                                                                                                                                                                                                                                                                                                                                                                                                                                                                                                                                                                                                                             \n",
       "20    Don't be fooled, this is the original unremastered version. My daughter loves that version so it's great, but I could have bought it from Wal-Mart for half this price.                                                                                                                                                                                                                                                                                                                                                                                                                                                                                                                                                                                                                                                                                                                                                                                                                                \n",
       "24    I bought this VHS when my daughter was 4 years old.  It is one that she wanted to watch over and over again.Simple story, simply animated, yet with a touching message and cute songs.  I would find myself singing \"Me & My Doll\" while cleaning the house! Great story to demonstrate true friendship.                                                                                                                                                                                                                                                                                                                                                                                                                                                                                                                                                                                                                                                                                               \n",
       "Name: reviewText, dtype: object"
      ]
     },
     "execution_count": 26,
     "metadata": {},
     "output_type": "execute_result"
    }
   ],
   "source": [
    "import pandas as pd\n",
    "pd.set_option('display.max_colwidth', -1)\n",
    "text_removed['reviewText'].head(5)"
   ]
  },
  {
   "cell_type": "code",
   "execution_count": null,
   "metadata": {},
   "outputs": [],
   "source": []
  },
  {
   "cell_type": "code",
   "execution_count": 28,
   "metadata": {},
   "outputs": [
    {
     "name": "stderr",
     "output_type": "stream",
     "text": [
      "/anaconda3/lib/python3.7/site-packages/ipykernel_launcher.py:1: UserWarning: This pattern has match groups. To actually get the groups, use str.extract.\n",
      "  \"\"\"Entry point for launching an IPython kernel.\n"
     ]
    }
   ],
   "source": [
    "text_removed = reviews_df[(reviews_df['reviewText'].str.contains('(dvd|vhs)', case=False)) & (helpful > 1)]"
   ]
  },
  {
   "cell_type": "code",
   "execution_count": 29,
   "metadata": {},
   "outputs": [
    {
     "data": {
      "text/html": [
       "<div>\n",
       "<style scoped>\n",
       "    .dataframe tbody tr th:only-of-type {\n",
       "        vertical-align: middle;\n",
       "    }\n",
       "\n",
       "    .dataframe tbody tr th {\n",
       "        vertical-align: top;\n",
       "    }\n",
       "\n",
       "    .dataframe thead th {\n",
       "        text-align: right;\n",
       "    }\n",
       "</style>\n",
       "<table border=\"1\" class=\"dataframe\">\n",
       "  <thead>\n",
       "    <tr style=\"text-align: right;\">\n",
       "      <th></th>\n",
       "      <th>reviewText</th>\n",
       "      <th>helpful</th>\n",
       "    </tr>\n",
       "  </thead>\n",
       "  <tbody>\n",
       "    <tr>\n",
       "      <th>30</th>\n",
       "      <td>What with Meryl Streep portraying her in a movie and all, Julia's books and series are getting a monster tidal wave of fresh attention.  I wonder how many youngsters (Food Network viewers) will purchase or have purchased for them the classic \"Mastering the Art of French Cooking\" and find it completely overwhelming and not necessarily useful for everyday cooking?I had few cooking skills in the mid 1980s when this book and DVD came out, and I relied on recipes from Fannie Farmer, supermarket recipe cards, and women's magazines.  This series elevated my cooking for good.  It is French influenced, but simplified in some cases, and there are variations on most recipes which is really useful if you don't have time to run to the supermarket.  I have had many variation cookbooks and this is the best.  I have not used the dessert section too much (I prefer Pierre Franey for this--fruit salad with Grand Marnier!), but the bread, meat, and veg sections are the best.  I recommend ham steaks with peas and mashed potatoes and cornish game hen broiled w/cheese.I am so pleased this is out on DVD.  I gathered up the video tapes one-by-one on ebay and this is definitely more affordable!</td>\n",
       "      <td>[31, 34]</td>\n",
       "    </tr>\n",
       "    <tr>\n",
       "      <th>37</th>\n",
       "      <td>To start off with, I actually have an early release of the dvd, so my stars are based on that, not the cinema.I made it through about six or seven pages on reviews before I decided to write this and from what I see, three subjects usually appear as the reason for bad reviews.The first reason is it is too violent.  We all knew this, before we even went to see it.  It was all over news, media, etc.  We were warned not to take our kids, be prepared for violence, not for the weak of heart.  So, if you went expecting scenes of the beach, then that is your own fault.  I didn't watch it hoping to see a blood bath, but I knew it was coming.I am a very faithful Protestant, and I do see some Catholic overtones in the story, but that is Mel's interpretation and overall I felt it was pretty accurate.  It is interesting to me that all of these people that may or may not have a personal relationship with Jesus, seem to know that if he were here today, he would not support this film.The second reason people complain is because it doesn't tell the full story of Jesus.  It isn't supposed to.  It is the Passion of the Christ, and passion means suffering.  It isn't the story of the Christ or the Gospel of the Christ.  It is basically a Passion play put to cinema.  He isn't trying to show us the teachings of Jesus, he is showing us the suffering of Jesus.  He is showing us what He went through for us.  If you see this movie and aren't moved by the sacrifice that He made for all of us to be free, then you don't get it.  And if you don't understand and you don't get it, then that is ok, I pray someday that you will.The third thing I pick up on in these reviews is that Mel is using it just for profit.  He has made money at ever other movie he has made I am sure, and yet no one ever questions his motives then.  Yet, when he comes out with something of a religious nature when we are in a world that requires us to be politically correct, then he was just doing it for money.  He put up his own money and I personally hope he makes all the money he can off of it, not that he needs it.  So what if there is a director's cut later on?  How may different directors editions or box sets of Lord of the Rings are out there?  I get tired of having to apologize for what I believe.  If someone stands up for an important issue, whatever the hot topic of the week is, then that is their right to voice their opinion and they expect everyone to recieve it and agree.  But if I as a Christian stand up for what I believe, then I am a \"Jesus Freak\" or a \"Fanatic\".  So if you don't agree with me, that is your right, but if I don't believe what you do, then I am narrow minded??  What happened to my right to my own beliefs?While I am still on my soap box, it is amazing to me that people still think this film is anti-semitic.  If you have any knowledge of the history prior to this then you should know that Jews were a large part of this area, so who else would send Jesus to the cross?  He was Jewish, it was just the circumstances.  And if you don't know the history, then read the bible, don't blame Gibson.Back to the movie, I liked the dvd, thought it was a great movie.  I tip my hat to Mel Gibson for having the courage to put his money where his mouth is and put his beliefs to film.God Bless</td>\n",
       "      <td>[9, 12]</td>\n",
       "    </tr>\n",
       "    <tr>\n",
       "      <th>40</th>\n",
       "      <td>I have never seen a movie as intensley astounding in performance as that of \"The Passion Of The Christ\".  I am 39 years old and I cannot find the words to express to anyone the expanse, magnitude and brilliance that this movie of The Final hours of Jesus Christ has left within me other than an imprint  as deep within as the mystery of the universe itself.As a young catholic growing up, I remember seeing the movie on TV called, \"Francis of Assisi\", starring Bradford Dillman, Dolores Hart (who became an actual nun in 1971) and Stuart Whitman.  It was and is one of the greatest movies in the history of Religious Film Making with The Passion of The Christ as Number One and Francis as Number two.  No film of St. Francis or any kind then, made such an impression on me, that I actually took His name as mine for my Confirmation Name because I became so \"hypnotized\", if you will, that I became more aware that anyone can desire such holiness and attain such (Holy) Valor as Francis did, for me, when I was only 11.Buy this film!!  See \"The Passion of The Christ\" Come Alive for you as you have never seen anything like it ever before!!!So that to see for yourselves what Jesus went through in His Final Hours for our redemption and to accomplish for us something so beautiful through such anguish and pain never before witnessed, that to this day, as I hold the DVD in my hands still unwrapped since I saw it on The Big Screen, it remains in me, as if imprinted on my very soul.Maybe a person may see this film as an atheist and leave it as an atheist, but I know one thing.  They will never die as one, as it is said, likewise, that \"there are no atheists in fox holes\".Peace of \"The Christ\" be with you!RJ</td>\n",
       "      <td>[6, 8]</td>\n",
       "    </tr>\n",
       "    <tr>\n",
       "      <th>42</th>\n",
       "      <td>I frankly don't know how anybody could dislike this film.  I cannot think of many superior cinemagraphic experiences than viewing \"The Passion of the Chirst.\"  With the soldiers and the Pharisees, it is nearly unfathomable that such hate could be conjured up for one's fellow human beings but there are endless reminders around us today which document that such hate still exists.  Christ in particular remains despised in numerous hearts and locales.The artistic merits of \"The Passion...\" are weighty.  Merely hearing Aramaic and Latin for two hours straight is valuable in itself.  All of the acting is strong and this is even true of the minor roles as one's outrage at the individual soldiers is palpable.The choice for Satan was fascinating as I don't recall ever seeing a more perfectly androgynous human being captured on the big screen.  The way that Mel Gibson \"fleshed out\" Pilate was stupendous, and quite surprising.  In the context of the times, it is possible to feel sympathy for him.  The very small things are what makes the film uniquely memorable, such as the use of flashbacks, the motif of the dove, and the death scene of Judas.  I loved this movie and the DVD was worth the 20 bucks I paid.  Never in my life have I wanted more to more change an ending and never in my life have I been as powerless to do so.</td>\n",
       "      <td>[3, 6]</td>\n",
       "    </tr>\n",
       "    <tr>\n",
       "      <th>44</th>\n",
       "      <td>I've noticed that many reviewers are complaining because there are no extras on this DVD.  So what!?!  The point of this movie isn't what Mel Gibson or any of the actors think.  The point is what's happening on the screen.  If you don't get that, you don't get the message.  Why cloud the true message with a bunch of talking heads who are only going to say what's been said in countless magazine/newspaper interviews?  This is a powerful movie that needs no explanation.  It captures a part of Jesus' life that has been overly sanitized.  We (Christians) know that Jesus died for us, but how many of us have actually considered \"how\" he died for us?  Watching this movie should make a lot of people sit up and take notice.  It's not an easy movie to watch, but once again, that's the point.  You're supposed to feel uncomfortable.  You're supposed to be horrified by the brutality and callousness of what happened to the Son of God.  Mel Gibson did a magnificent job of capturing the last hours of Jesus' life.  He didn't sugarcoat anything; he didn't downplay any of the \"ugly\" aspects.  I respect him and this movie for that.  This is definitely a movie that stays with you after you watch it.  Hopefully, if you watched it in the right frame of mind, the true message should stay with you for the rest of your life.</td>\n",
       "      <td>[8, 14]</td>\n",
       "    </tr>\n",
       "  </tbody>\n",
       "</table>\n",
       "</div>"
      ],
      "text/plain": [
       "                                                                                                                                                                                                                                                                                                                                                                                                                                                                                                                                                                                                                                                                                                                                                                                                                                                                                                                                                                                                                                                                                                                                                                                                                                                                                                                                                                                                                                                                                                                                                                                                                                                                                                                                                                                                                                                                                                                                                                                                                                                                                                                                                                                                                                                                                                                                                                                                                                                                                                                                                                                                                                                                                                                                                                                                                                                                                                                                                                                                                                                                                                                                                                                                                                                                                                                                                                                                                              reviewText  \\\n",
       "30  What with Meryl Streep portraying her in a movie and all, Julia's books and series are getting a monster tidal wave of fresh attention.  I wonder how many youngsters (Food Network viewers) will purchase or have purchased for them the classic \"Mastering the Art of French Cooking\" and find it completely overwhelming and not necessarily useful for everyday cooking?I had few cooking skills in the mid 1980s when this book and DVD came out, and I relied on recipes from Fannie Farmer, supermarket recipe cards, and women's magazines.  This series elevated my cooking for good.  It is French influenced, but simplified in some cases, and there are variations on most recipes which is really useful if you don't have time to run to the supermarket.  I have had many variation cookbooks and this is the best.  I have not used the dessert section too much (I prefer Pierre Franey for this--fruit salad with Grand Marnier!), but the bread, meat, and veg sections are the best.  I recommend ham steaks with peas and mashed potatoes and cornish game hen broiled w/cheese.I am so pleased this is out on DVD.  I gathered up the video tapes one-by-one on ebay and this is definitely more affordable!                                                                                                                                                                                                                                                                                                                                                                                                                                                                                                                                                                                                                                                                                                                                                                                                                                                                                                                                                                                                                                                                                                                                                                                                                                                                                                                                                                                                                                                                                                                                                                                                                                                                                                                                                                                                                                                                                                                                                                                                                                                                                                                                                                                                    \n",
       "37  To start off with, I actually have an early release of the dvd, so my stars are based on that, not the cinema.I made it through about six or seven pages on reviews before I decided to write this and from what I see, three subjects usually appear as the reason for bad reviews.The first reason is it is too violent.  We all knew this, before we even went to see it.  It was all over news, media, etc.  We were warned not to take our kids, be prepared for violence, not for the weak of heart.  So, if you went expecting scenes of the beach, then that is your own fault.  I didn't watch it hoping to see a blood bath, but I knew it was coming.I am a very faithful Protestant, and I do see some Catholic overtones in the story, but that is Mel's interpretation and overall I felt it was pretty accurate.  It is interesting to me that all of these people that may or may not have a personal relationship with Jesus, seem to know that if he were here today, he would not support this film.The second reason people complain is because it doesn't tell the full story of Jesus.  It isn't supposed to.  It is the Passion of the Christ, and passion means suffering.  It isn't the story of the Christ or the Gospel of the Christ.  It is basically a Passion play put to cinema.  He isn't trying to show us the teachings of Jesus, he is showing us the suffering of Jesus.  He is showing us what He went through for us.  If you see this movie and aren't moved by the sacrifice that He made for all of us to be free, then you don't get it.  And if you don't understand and you don't get it, then that is ok, I pray someday that you will.The third thing I pick up on in these reviews is that Mel is using it just for profit.  He has made money at ever other movie he has made I am sure, and yet no one ever questions his motives then.  Yet, when he comes out with something of a religious nature when we are in a world that requires us to be politically correct, then he was just doing it for money.  He put up his own money and I personally hope he makes all the money he can off of it, not that he needs it.  So what if there is a director's cut later on?  How may different directors editions or box sets of Lord of the Rings are out there?  I get tired of having to apologize for what I believe.  If someone stands up for an important issue, whatever the hot topic of the week is, then that is their right to voice their opinion and they expect everyone to recieve it and agree.  But if I as a Christian stand up for what I believe, then I am a \"Jesus Freak\" or a \"Fanatic\".  So if you don't agree with me, that is your right, but if I don't believe what you do, then I am narrow minded??  What happened to my right to my own beliefs?While I am still on my soap box, it is amazing to me that people still think this film is anti-semitic.  If you have any knowledge of the history prior to this then you should know that Jews were a large part of this area, so who else would send Jesus to the cross?  He was Jewish, it was just the circumstances.  And if you don't know the history, then read the bible, don't blame Gibson.Back to the movie, I liked the dvd, thought it was a great movie.  I tip my hat to Mel Gibson for having the courage to put his money where his mouth is and put his beliefs to film.God Bless   \n",
       "40  I have never seen a movie as intensley astounding in performance as that of \"The Passion Of The Christ\".  I am 39 years old and I cannot find the words to express to anyone the expanse, magnitude and brilliance that this movie of The Final hours of Jesus Christ has left within me other than an imprint  as deep within as the mystery of the universe itself.As a young catholic growing up, I remember seeing the movie on TV called, \"Francis of Assisi\", starring Bradford Dillman, Dolores Hart (who became an actual nun in 1971) and Stuart Whitman.  It was and is one of the greatest movies in the history of Religious Film Making with The Passion of The Christ as Number One and Francis as Number two.  No film of St. Francis or any kind then, made such an impression on me, that I actually took His name as mine for my Confirmation Name because I became so \"hypnotized\", if you will, that I became more aware that anyone can desire such holiness and attain such (Holy) Valor as Francis did, for me, when I was only 11.Buy this film!!  See \"The Passion of The Christ\" Come Alive for you as you have never seen anything like it ever before!!!So that to see for yourselves what Jesus went through in His Final Hours for our redemption and to accomplish for us something so beautiful through such anguish and pain never before witnessed, that to this day, as I hold the DVD in my hands still unwrapped since I saw it on The Big Screen, it remains in me, as if imprinted on my very soul.Maybe a person may see this film as an atheist and leave it as an atheist, but I know one thing.  They will never die as one, as it is said, likewise, that \"there are no atheists in fox holes\".Peace of \"The Christ\" be with you!RJ                                                                                                                                                                                                                                                                                                                                                                                                                                                                                                                                                                                                                                                                                                                                                                                                                                                                                                                                                                                                                                                                                                                                                                                                                                                                                                                                                                                                                                                                                                                                                                                                                                                        \n",
       "42  I frankly don't know how anybody could dislike this film.  I cannot think of many superior cinemagraphic experiences than viewing \"The Passion of the Chirst.\"  With the soldiers and the Pharisees, it is nearly unfathomable that such hate could be conjured up for one's fellow human beings but there are endless reminders around us today which document that such hate still exists.  Christ in particular remains despised in numerous hearts and locales.The artistic merits of \"The Passion...\" are weighty.  Merely hearing Aramaic and Latin for two hours straight is valuable in itself.  All of the acting is strong and this is even true of the minor roles as one's outrage at the individual soldiers is palpable.The choice for Satan was fascinating as I don't recall ever seeing a more perfectly androgynous human being captured on the big screen.  The way that Mel Gibson \"fleshed out\" Pilate was stupendous, and quite surprising.  In the context of the times, it is possible to feel sympathy for him.  The very small things are what makes the film uniquely memorable, such as the use of flashbacks, the motif of the dove, and the death scene of Judas.  I loved this movie and the DVD was worth the 20 bucks I paid.  Never in my life have I wanted more to more change an ending and never in my life have I been as powerless to do so.                                                                                                                                                                                                                                                                                                                                                                                                                                                                                                                                                                                                                                                                                                                                                                                                                                                                                                                                                                                                                                                                                                                                                                                                                                                                                                                                                                                                                                                                                                                                                                                                                                                                                                                                                                                                                                                                                                                                                                                                                                                   \n",
       "44  I've noticed that many reviewers are complaining because there are no extras on this DVD.  So what!?!  The point of this movie isn't what Mel Gibson or any of the actors think.  The point is what's happening on the screen.  If you don't get that, you don't get the message.  Why cloud the true message with a bunch of talking heads who are only going to say what's been said in countless magazine/newspaper interviews?  This is a powerful movie that needs no explanation.  It captures a part of Jesus' life that has been overly sanitized.  We (Christians) know that Jesus died for us, but how many of us have actually considered \"how\" he died for us?  Watching this movie should make a lot of people sit up and take notice.  It's not an easy movie to watch, but once again, that's the point.  You're supposed to feel uncomfortable.  You're supposed to be horrified by the brutality and callousness of what happened to the Son of God.  Mel Gibson did a magnificent job of capturing the last hours of Jesus' life.  He didn't sugarcoat anything; he didn't downplay any of the \"ugly\" aspects.  I respect him and this movie for that.  This is definitely a movie that stays with you after you watch it.  Hopefully, if you watched it in the right frame of mind, the true message should stay with you for the rest of your life.                                                                                                                                                                                                                                                                                                                                                                                                                                                                                                                                                                                                                                                                                                                                                                                                                                                                                                                                                                                                                                                                                                                                                                                                                                                                                                                                                                                                                                                                                                                                                                                                                                                                                                                                                                                                                                                                                                                                                                                                                                                                \n",
       "\n",
       "     helpful  \n",
       "30  [31, 34]  \n",
       "37  [9, 12]   \n",
       "40  [6, 8]    \n",
       "42  [3, 6]    \n",
       "44  [8, 14]   "
      ]
     },
     "execution_count": 29,
     "metadata": {},
     "output_type": "execute_result"
    }
   ],
   "source": [
    "text_removed[['reviewText','helpful']].head(5)"
   ]
  },
  {
   "cell_type": "code",
   "execution_count": null,
   "metadata": {},
   "outputs": [],
   "source": []
  }
 ],
 "metadata": {
  "kernelspec": {
   "display_name": "Python 3",
   "language": "python",
   "name": "python3"
  },
  "language_info": {
   "codemirror_mode": {
    "name": "ipython",
    "version": 3
   },
   "file_extension": ".py",
   "mimetype": "text/x-python",
   "name": "python",
   "nbconvert_exporter": "python",
   "pygments_lexer": "ipython3",
   "version": "3.7.1"
  }
 },
 "nbformat": 4,
 "nbformat_minor": 2
}
