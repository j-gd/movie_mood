{
 "cells": [
  {
   "cell_type": "markdown",
   "metadata": {},
   "source": [
    "# Hypothesis to test:\n",
    "### Removing objective sentences from reviews helps predict star rating from reviews"
   ]
  },
  {
   "cell_type": "code",
   "execution_count": 1,
   "metadata": {},
   "outputs": [],
   "source": [
    "import numpy as np\n",
    "import pandas as pd\n",
    "import pickle\n",
    "import math\n",
    "from nltk.tokenize import sent_tokenize\n",
    "\n",
    "\n",
    "from IPython.display import Markdown, display"
   ]
  },
  {
   "cell_type": "code",
   "execution_count": 2,
   "metadata": {},
   "outputs": [],
   "source": [
    "import sys\n",
    "sys.path.append('..')"
   ]
  },
  {
   "cell_type": "code",
   "execution_count": 3,
   "metadata": {},
   "outputs": [],
   "source": [
    "# Avoid restarting Kernel\n",
    "%load_ext autoreload\n",
    "%autoreload 2\n",
    "\n",
    "pd.set_option('display.max_colwidth', -1)\n",
    "\n",
    "# %autosave 50"
   ]
  },
  {
   "cell_type": "code",
   "execution_count": 4,
   "metadata": {},
   "outputs": [],
   "source": [
    "# import gzip\n",
    "# import math\n",
    "# import random\n",
    "# from sklearn.feature_extraction.text import TfidfVectorizer\n",
    "# from sklearn.model_selection import train_test_split, GridSearchCV\n",
    "# from sklearn.ensemble import GradientBoostingRegressor, \\\n",
    "# GradientBoostingClassifier, RandomForestClassifier\n",
    "# from sklearn.linear_model import LogisticRegression\n",
    "# from sklearn.pipeline import Pipeline\n",
    "# from sklearn.linear_model import SGDClassifier\n",
    "# from sklearn.metrics import accuracy_score, confusion_matrix, \\\n",
    "# classification_report, make_scorer\n",
    "# import statsmodels.api as sm"
   ]
  },
  {
   "cell_type": "code",
   "execution_count": 5,
   "metadata": {},
   "outputs": [],
   "source": [
    "# From this project\n",
    "# from utils import rmse, rmse_train_cv, classifier_report, confusion_rmse\n",
    "from NLP import WordBag, AboutMovie"
   ]
  },
  {
   "cell_type": "code",
   "execution_count": 6,
   "metadata": {},
   "outputs": [],
   "source": [
    "%reload_ext autoreload\n",
    "from subjective_filter import SubjectiveFilter"
   ]
  },
  {
   "cell_type": "markdown",
   "metadata": {},
   "source": [
    "## Configuration"
   ]
  },
  {
   "cell_type": "code",
   "execution_count": 7,
   "metadata": {},
   "outputs": [],
   "source": [
    "# Subsampling from Amazon reviews\n",
    "NB_SAMPLES = 360000 #4000  # up to 200k, then change the input file\n",
    "\n",
    "data_path = '../../../datasets/'\n"
   ]
  },
  {
   "cell_type": "code",
   "execution_count": 8,
   "metadata": {},
   "outputs": [],
   "source": [
    "# file_name = '360000_balanced_train_test_reviews.pkl'\n",
    "file_name = '_balanced_pos_neg_train_test_reviews.pkl'\n",
    "\n",
    "pickle_in = open(data_path + str(NB_SAMPLES) + file_name,\"rb\")\n",
    "train_test_dic0 = pickle.load(pickle_in)"
   ]
  },
  {
   "cell_type": "code",
   "execution_count": 24,
   "metadata": {},
   "outputs": [],
   "source": [
    "SAMPLE_FRACTION = 0.00004\n",
    "\n",
    "test_dic = {'train': {}, 'test':{}}\n",
    "\n",
    "for i in ['train','test']:\n",
    "    for j in ['positive','negative']:\n",
    "         test_dic[i][j] = train_test_dic0[i][j] \\\n",
    "            .iloc[:math.floor(len(train_test_dic0[i][j].index) * SAMPLE_FRACTION), :] \\\n",
    "            .drop(['reviewerName', 'helpful',\n",
    "                   'summary', 'unixReviewTime', 'reviewTime'], axis=1)\n"
   ]
  },
  {
   "cell_type": "code",
   "execution_count": 25,
   "metadata": {},
   "outputs": [
    {
     "data": {
      "text/html": [
       "<div>\n",
       "<style scoped>\n",
       "    .dataframe tbody tr th:only-of-type {\n",
       "        vertical-align: middle;\n",
       "    }\n",
       "\n",
       "    .dataframe tbody tr th {\n",
       "        vertical-align: top;\n",
       "    }\n",
       "\n",
       "    .dataframe thead th {\n",
       "        text-align: right;\n",
       "    }\n",
       "</style>\n",
       "<table border=\"1\" class=\"dataframe\">\n",
       "  <thead>\n",
       "    <tr style=\"text-align: right;\">\n",
       "      <th></th>\n",
       "      <th>reviewerID</th>\n",
       "      <th>asin</th>\n",
       "      <th>reviewText</th>\n",
       "      <th>overall</th>\n",
       "    </tr>\n",
       "  </thead>\n",
       "  <tbody>\n",
       "    <tr>\n",
       "      <th>1515619</th>\n",
       "      <td>A32244V7CQUBD6</td>\n",
       "      <td>B00005QFEK</td>\n",
       "      <td>This video actually focuses mostly on one of the characters that Emmanuelle (Krista Allen) is trying to teach about sex &amp; love. It's still pretty entertaining but if you are mostly interested in Kirsta Allen then you should know that she's not really in much of this episode.</td>\n",
       "      <td>4.0</td>\n",
       "    </tr>\n",
       "    <tr>\n",
       "      <th>1515627</th>\n",
       "      <td>A32244V7CQUBD6</td>\n",
       "      <td>B00005QFEN</td>\n",
       "      <td>This episode pretty much has Hafron and Emmanuelle teleporting to different parts of the world and &amp;quot;doing it&amp;quot;. There is the continuing plot from an earlier episode of some group on Earth trying to track them down. That's the main reason for Emmanuelle and Hafron to jump to different parts of the world. Otherwise, this episode is mostly sex scenes.</td>\n",
       "      <td>4.0</td>\n",
       "    </tr>\n",
       "    <tr>\n",
       "      <th>1515636</th>\n",
       "      <td>A33KKMGGVLZ29T</td>\n",
       "      <td>B00005QFER</td>\n",
       "      <td>This is an intimate concert of Robert Mirabal.  Although I thought that it was, as I said, masterful, the sound, at times sounded a little muffled.The storytelling of the songs gave an insight of native culture and of Mirabal's own family stories and history.The Dance and Ee You Oo are my picks for the best songs, but they are all a joy to watch.  The Rare Tribal Mob and the Mirabal Singers/Dancers are great and provide a mesmerising stage performance.Very enjoyable</td>\n",
       "      <td>4.0</td>\n",
       "    </tr>\n",
       "    <tr>\n",
       "      <th>1515678</th>\n",
       "      <td>A33P47VEH0YULL</td>\n",
       "      <td>B00005QG2N</td>\n",
       "      <td>A well put together DVD for the \"Stinkiest band\" in the world.  Easy to navigate, and with some pretty interesting side notes...a great collectors item for any fan of Cradle of Filth or Swedish metal.</td>\n",
       "      <td>4.0</td>\n",
       "    </tr>\n",
       "    <tr>\n",
       "      <th>1515690</th>\n",
       "      <td>ADG33WELAQRZJ</td>\n",
       "      <td>B00005QG2N</td>\n",
       "      <td>Great show from the inventors of the extreme gothic metal genre !! 75'of pure mayhem with good visuals and a great sound, although the vocals are a little high in the mix for my taste and the guitar on the right channel is 10 times louder than the one on the left so I ended up switching it to mono to even things up. It's hard to give this more stars esp. when you've watched the PTSFirepower DVD first like I did, that one is so much better. The 5 bonus videoclips totally rule and round up the package making the purchase a worthy one.Now the mockumentary may not be suited to everyone's tastes, personally it bored me and know of a lot of people who feels it ruins the band's image. Well don't watch it then.</td>\n",
       "      <td>4.0</td>\n",
       "    </tr>\n",
       "  </tbody>\n",
       "</table>\n",
       "</div>"
      ],
      "text/plain": [
       "             reviewerID        asin  \\\n",
       "1515619  A32244V7CQUBD6  B00005QFEK   \n",
       "1515627  A32244V7CQUBD6  B00005QFEN   \n",
       "1515636  A33KKMGGVLZ29T  B00005QFER   \n",
       "1515678  A33P47VEH0YULL  B00005QG2N   \n",
       "1515690  ADG33WELAQRZJ   B00005QG2N   \n",
       "\n",
       "                                                                                                                                                                                                                                                                                                                                                                                                                                                                                                                                                                                                                                                                                                                                       reviewText  \\\n",
       "1515619  This video actually focuses mostly on one of the characters that Emmanuelle (Krista Allen) is trying to teach about sex & love. It's still pretty entertaining but if you are mostly interested in Kirsta Allen then you should know that she's not really in much of this episode.                                                                                                                                                                                                                                                                                                                                                                                                                                                        \n",
       "1515627  This episode pretty much has Hafron and Emmanuelle teleporting to different parts of the world and &quot;doing it&quot;. There is the continuing plot from an earlier episode of some group on Earth trying to track them down. That's the main reason for Emmanuelle and Hafron to jump to different parts of the world. Otherwise, this episode is mostly sex scenes.                                                                                                                                                                                                                                                                                                                                                                    \n",
       "1515636  This is an intimate concert of Robert Mirabal.  Although I thought that it was, as I said, masterful, the sound, at times sounded a little muffled.The storytelling of the songs gave an insight of native culture and of Mirabal's own family stories and history.The Dance and Ee You Oo are my picks for the best songs, but they are all a joy to watch.  The Rare Tribal Mob and the Mirabal Singers/Dancers are great and provide a mesmerising stage performance.Very enjoyable                                                                                                                                                                                                                                                     \n",
       "1515678  A well put together DVD for the \"Stinkiest band\" in the world.  Easy to navigate, and with some pretty interesting side notes...a great collectors item for any fan of Cradle of Filth or Swedish metal.                                                                                                                                                                                                                                                                                                                                                                                                                                                                                                                                   \n",
       "1515690  Great show from the inventors of the extreme gothic metal genre !! 75'of pure mayhem with good visuals and a great sound, although the vocals are a little high in the mix for my taste and the guitar on the right channel is 10 times louder than the one on the left so I ended up switching it to mono to even things up. It's hard to give this more stars esp. when you've watched the PTSFirepower DVD first like I did, that one is so much better. The 5 bonus videoclips totally rule and round up the package making the purchase a worthy one.Now the mockumentary may not be suited to everyone's tastes, personally it bored me and know of a lot of people who feels it ruins the band's image. Well don't watch it then.   \n",
       "\n",
       "         overall  \n",
       "1515619  4.0      \n",
       "1515627  4.0      \n",
       "1515636  4.0      \n",
       "1515678  4.0      \n",
       "1515690  4.0      "
      ]
     },
     "execution_count": 25,
     "metadata": {},
     "output_type": "execute_result"
    }
   ],
   "source": [
    "test_dic['train']['positive']"
   ]
  },
  {
   "cell_type": "code",
   "execution_count": 26,
   "metadata": {},
   "outputs": [
    {
     "name": "stdout",
     "output_type": "stream",
     "text": [
      "(5, 4)\n",
      "(5, 4)\n",
      "(1, 4)\n",
      "(1, 4)\n"
     ]
    },
    {
     "data": {
      "text/plain": [
       "12"
      ]
     },
     "execution_count": 26,
     "metadata": {},
     "output_type": "execute_result"
    }
   ],
   "source": [
    "total = 0\n",
    "for i in ['train','test']:\n",
    "    for j in ['positive','negative']:\n",
    "        print(test_dic[i][j].shape)\n",
    "        total += test_dic[i][j].shape[0]\n",
    "total"
   ]
  },
  {
   "cell_type": "code",
   "execution_count": 27,
   "metadata": {},
   "outputs": [],
   "source": [
    "# pickle_in = open(data_path\n",
    "#                 + 'movie_reviews_144000Pos_Neg_Samples.pkl'\n",
    "#                 , \"rb\")\n",
    "# test_dic = pickle.load(pickle_in)"
   ]
  },
  {
   "cell_type": "markdown",
   "metadata": {},
   "source": [
    "## Remove objective sentences for case B"
   ]
  },
  {
   "cell_type": "code",
   "execution_count": 28,
   "metadata": {},
   "outputs": [],
   "source": [
    "%reload_ext autoreload\n",
    "obj_path = '../obj_subj_dev/'\n",
    "fit_obj_tf = obj_path + 'fit_tfidf_vectorizer_for_obj_subj_sentences_classification.pkl'\n",
    "fit_obj_model = obj_path + 'GBC_300_0.5_5_0.88cv.pkl'\n",
    "subj_filter = SubjectiveFilter(fit_obj_tf, fit_obj_model)"
   ]
  },
  {
   "cell_type": "code",
   "execution_count": 29,
   "metadata": {},
   "outputs": [
    {
     "data": {
      "text/html": [
       "<div>\n",
       "<style scoped>\n",
       "    .dataframe tbody tr th:only-of-type {\n",
       "        vertical-align: middle;\n",
       "    }\n",
       "\n",
       "    .dataframe tbody tr th {\n",
       "        vertical-align: top;\n",
       "    }\n",
       "\n",
       "    .dataframe thead th {\n",
       "        text-align: right;\n",
       "    }\n",
       "</style>\n",
       "<table border=\"1\" class=\"dataframe\">\n",
       "  <thead>\n",
       "    <tr style=\"text-align: right;\">\n",
       "      <th></th>\n",
       "      <th>reviewerID</th>\n",
       "      <th>asin</th>\n",
       "      <th>reviewText</th>\n",
       "      <th>overall</th>\n",
       "    </tr>\n",
       "  </thead>\n",
       "  <tbody>\n",
       "    <tr>\n",
       "      <th>1515619</th>\n",
       "      <td>A32244V7CQUBD6</td>\n",
       "      <td>B00005QFEK</td>\n",
       "      <td>This video actually focuses mostly on one of the characters that Emmanuelle (Krista Allen) is trying to teach about sex &amp; love. It's still pretty entertaining but if you are mostly interested in Kirsta Allen then you should know that she's not really in much of this episode.</td>\n",
       "      <td>4.0</td>\n",
       "    </tr>\n",
       "  </tbody>\n",
       "</table>\n",
       "</div>"
      ],
      "text/plain": [
       "             reviewerID        asin  \\\n",
       "1515619  A32244V7CQUBD6  B00005QFEK   \n",
       "\n",
       "                                                                                                                                                                                                                                                                                  reviewText  \\\n",
       "1515619  This video actually focuses mostly on one of the characters that Emmanuelle (Krista Allen) is trying to teach about sex & love. It's still pretty entertaining but if you are mostly interested in Kirsta Allen then you should know that she's not really in much of this episode.   \n",
       "\n",
       "         overall  \n",
       "1515619  4.0      "
      ]
     },
     "metadata": {},
     "output_type": "display_data"
    },
    {
     "data": {
      "text/plain": [
       "(5, 4)"
      ]
     },
     "metadata": {},
     "output_type": "display_data"
    },
    {
     "data": {
      "text/html": [
       "<div>\n",
       "<style scoped>\n",
       "    .dataframe tbody tr th:only-of-type {\n",
       "        vertical-align: middle;\n",
       "    }\n",
       "\n",
       "    .dataframe tbody tr th {\n",
       "        vertical-align: top;\n",
       "    }\n",
       "\n",
       "    .dataframe thead th {\n",
       "        text-align: right;\n",
       "    }\n",
       "</style>\n",
       "<table border=\"1\" class=\"dataframe\">\n",
       "  <thead>\n",
       "    <tr style=\"text-align: right;\">\n",
       "      <th></th>\n",
       "      <th>reviewerID</th>\n",
       "      <th>asin</th>\n",
       "      <th>reviewText</th>\n",
       "      <th>overall</th>\n",
       "    </tr>\n",
       "  </thead>\n",
       "  <tbody>\n",
       "    <tr>\n",
       "      <th>861729</th>\n",
       "      <td>A3CFT5LHFCB46K</td>\n",
       "      <td>630362572X</td>\n",
       "      <td>In the book The Official Godzilla Compendium, King Kong Vs Godzilla is described as \"The Jaws of the Japanese film Industry\" or \"One of the great monster battles of cinema history\". It is referred to as the film that \"...Lifted Godzilla from the swelling ranks of interchangeable atomic monsters of the fifties and placed him among the pantheon of cinema creatures\". Thus, I had high expectations when I watched this on the Sci-Fi channel.All I have to say is: Wow! The special effects are incredible! The acting is top notch. The screenplay is well written. This film is truly a classic of cinema that will leave you thinking long after you leave the theater.Wait. That's my review for 2001: A Space Odyssey.Here's what I really think of King Kong vs. Godzilla.A thousand words cannot describe my dislike of the film. I know it's a Godzilla film, but did it need to be this bad? It starts off good, with an excellent piece of music at the beginning credits. But soon goes downhill as we are introduced to U.N Reporter Eric Carter. All he was put in for was to make the film longer and annoy us. He \"communicates\" with people in Japan via a satellite that looks more like a first grade science project than visual effects. He constantly tells us that \"Godzilla is heading for Japan\" or \"King Kong and Godzilla will battle.\" Duh! What do you think King Kong and Godzilla will do? Have tea and crumpets?Speaking of Kong, I have seen costumes that look better than this Kong suit. I would also rather listen to Celine Dion and Elton John do a music number together than listen to Kong roar. He doesn't even open his mouth! Godzilla appears just fine, except for the fact he's afraid of thermal energy (Didn't he tear down an electrical fence in 1954 with ease?). Kong however gets power from the thermal energy. Gee, I would assume that all his fur would make him the perfect conductor of elctricity. Also, doesn't anyone else notice that the islands of the first Godzilla movies (The '50s to the '70s) always look the same? The main battles themselves are also letdowns.It was a grand idea that Toho had: Pitting two titans of cinema against each other. Too bad the Japanese did not use stop motion animation. Or make a Kong/Godzilla rematch. Or make better costumes or etc, etc. For a true classic of monster cinema, King Kong, the original Godzilla or Godzilla 1985 are better choices than this pile of ... If this was the film that made Godzilla famous, he should have been assassinated.Indeed this film will leave you thinking after you leave the theater: Why did I waste my time on this?(Note: Perhaps my criticism was a bit harsh. After all, this is the American version of the movie and we always [mess] with perfection. Maybe the Japanese version is better. Get that one if you can).</td>\n",
       "      <td>1.0</td>\n",
       "    </tr>\n",
       "  </tbody>\n",
       "</table>\n",
       "</div>"
      ],
      "text/plain": [
       "            reviewerID        asin  \\\n",
       "861729  A3CFT5LHFCB46K  630362572X   \n",
       "\n",
       "                                                                                                                                                                                                                                                                                                                                                                                                                                                                                                                                                                                                                                                                                                                                                                                                                                                                                                                                                                                                                                                                                                                                                                                                                                                                                                                                                                                                                                                                                                                                                                                                                                                                                                                                                                                                                                                                                                                                                                                                                                                                                                                                                                                                                                                                                                                                                                                                                                                                                                                                                                                                                                                                                                                                                                                                                                                                                                   reviewText  \\\n",
       "861729  In the book The Official Godzilla Compendium, King Kong Vs Godzilla is described as \"The Jaws of the Japanese film Industry\" or \"One of the great monster battles of cinema history\". It is referred to as the film that \"...Lifted Godzilla from the swelling ranks of interchangeable atomic monsters of the fifties and placed him among the pantheon of cinema creatures\". Thus, I had high expectations when I watched this on the Sci-Fi channel.All I have to say is: Wow! The special effects are incredible! The acting is top notch. The screenplay is well written. This film is truly a classic of cinema that will leave you thinking long after you leave the theater.Wait. That's my review for 2001: A Space Odyssey.Here's what I really think of King Kong vs. Godzilla.A thousand words cannot describe my dislike of the film. I know it's a Godzilla film, but did it need to be this bad? It starts off good, with an excellent piece of music at the beginning credits. But soon goes downhill as we are introduced to U.N Reporter Eric Carter. All he was put in for was to make the film longer and annoy us. He \"communicates\" with people in Japan via a satellite that looks more like a first grade science project than visual effects. He constantly tells us that \"Godzilla is heading for Japan\" or \"King Kong and Godzilla will battle.\" Duh! What do you think King Kong and Godzilla will do? Have tea and crumpets?Speaking of Kong, I have seen costumes that look better than this Kong suit. I would also rather listen to Celine Dion and Elton John do a music number together than listen to Kong roar. He doesn't even open his mouth! Godzilla appears just fine, except for the fact he's afraid of thermal energy (Didn't he tear down an electrical fence in 1954 with ease?). Kong however gets power from the thermal energy. Gee, I would assume that all his fur would make him the perfect conductor of elctricity. Also, doesn't anyone else notice that the islands of the first Godzilla movies (The '50s to the '70s) always look the same? The main battles themselves are also letdowns.It was a grand idea that Toho had: Pitting two titans of cinema against each other. Too bad the Japanese did not use stop motion animation. Or make a Kong/Godzilla rematch. Or make better costumes or etc, etc. For a true classic of monster cinema, King Kong, the original Godzilla or Godzilla 1985 are better choices than this pile of ... If this was the film that made Godzilla famous, he should have been assassinated.Indeed this film will leave you thinking after you leave the theater: Why did I waste my time on this?(Note: Perhaps my criticism was a bit harsh. After all, this is the American version of the movie and we always [mess] with perfection. Maybe the Japanese version is better. Get that one if you can).   \n",
       "\n",
       "        overall  \n",
       "861729  1.0      "
      ]
     },
     "metadata": {},
     "output_type": "display_data"
    },
    {
     "data": {
      "text/plain": [
       "(5, 4)"
      ]
     },
     "metadata": {},
     "output_type": "display_data"
    },
    {
     "data": {
      "text/html": [
       "<div>\n",
       "<style scoped>\n",
       "    .dataframe tbody tr th:only-of-type {\n",
       "        vertical-align: middle;\n",
       "    }\n",
       "\n",
       "    .dataframe tbody tr th {\n",
       "        vertical-align: top;\n",
       "    }\n",
       "\n",
       "    .dataframe thead th {\n",
       "        text-align: right;\n",
       "    }\n",
       "</style>\n",
       "<table border=\"1\" class=\"dataframe\">\n",
       "  <thead>\n",
       "    <tr style=\"text-align: right;\">\n",
       "      <th></th>\n",
       "      <th>reviewerID</th>\n",
       "      <th>asin</th>\n",
       "      <th>reviewText</th>\n",
       "      <th>overall</th>\n",
       "    </tr>\n",
       "  </thead>\n",
       "  <tbody>\n",
       "    <tr>\n",
       "      <th>1515665</th>\n",
       "      <td>A2D832OA6Q5ZAS</td>\n",
       "      <td>B00005QFFP</td>\n",
       "      <td>What a pleasure to see this peerless diva perform -- she is the purest example of her art that I have ever known. Like a great actress, she dissolves into her role, and yet her voice and style are easily recognizable for the effortless simplicity with which she nails every note and figure. I wish they could have taped in color in those days, and I would have liked to see her perform more examples of the coloratura repertoire and less of the popular romantic themes.  Overall, I am delighted with this video.</td>\n",
       "      <td>4.0</td>\n",
       "    </tr>\n",
       "  </tbody>\n",
       "</table>\n",
       "</div>"
      ],
      "text/plain": [
       "             reviewerID        asin  \\\n",
       "1515665  A2D832OA6Q5ZAS  B00005QFFP   \n",
       "\n",
       "                                                                                                                                                                                                                                                                                                                                                                                                                                                                                                                              reviewText  \\\n",
       "1515665  What a pleasure to see this peerless diva perform -- she is the purest example of her art that I have ever known. Like a great actress, she dissolves into her role, and yet her voice and style are easily recognizable for the effortless simplicity with which she nails every note and figure. I wish they could have taped in color in those days, and I would have liked to see her perform more examples of the coloratura repertoire and less of the popular romantic themes.  Overall, I am delighted with this video.   \n",
       "\n",
       "         overall  \n",
       "1515665  4.0      "
      ]
     },
     "metadata": {},
     "output_type": "display_data"
    },
    {
     "data": {
      "text/plain": [
       "(1, 4)"
      ]
     },
     "metadata": {},
     "output_type": "display_data"
    },
    {
     "data": {
      "text/html": [
       "<div>\n",
       "<style scoped>\n",
       "    .dataframe tbody tr th:only-of-type {\n",
       "        vertical-align: middle;\n",
       "    }\n",
       "\n",
       "    .dataframe tbody tr th {\n",
       "        vertical-align: top;\n",
       "    }\n",
       "\n",
       "    .dataframe thead th {\n",
       "        text-align: right;\n",
       "    }\n",
       "</style>\n",
       "<table border=\"1\" class=\"dataframe\">\n",
       "  <thead>\n",
       "    <tr style=\"text-align: right;\">\n",
       "      <th></th>\n",
       "      <th>reviewerID</th>\n",
       "      <th>asin</th>\n",
       "      <th>reviewText</th>\n",
       "      <th>overall</th>\n",
       "    </tr>\n",
       "  </thead>\n",
       "  <tbody>\n",
       "    <tr>\n",
       "      <th>861752</th>\n",
       "      <td>A175U4QHQUXC69</td>\n",
       "      <td>6303625800</td>\n",
       "      <td>The DVD would not play anything but the selection page for color or black and white version. Only the introduction music plays</td>\n",
       "      <td>1.0</td>\n",
       "    </tr>\n",
       "  </tbody>\n",
       "</table>\n",
       "</div>"
      ],
      "text/plain": [
       "            reviewerID        asin  \\\n",
       "861752  A175U4QHQUXC69  6303625800   \n",
       "\n",
       "                                                                                                                            reviewText  \\\n",
       "861752  The DVD would not play anything but the selection page for color or black and white version. Only the introduction music plays   \n",
       "\n",
       "        overall  \n",
       "861752  1.0      "
      ]
     },
     "metadata": {},
     "output_type": "display_data"
    },
    {
     "data": {
      "text/plain": [
       "(1, 4)"
      ]
     },
     "metadata": {},
     "output_type": "display_data"
    },
    {
     "name": "stdout",
     "output_type": "stream",
     "text": [
      "12\n"
     ]
    }
   ],
   "source": [
    "# for tt in ['train','test']:\n",
    "#     for pn in ['positive','negative']:\n",
    "#         print(tt,pn,test_dic[tt][np].shape)\n",
    "total = 0\n",
    "for tt in test_dic.values():\n",
    "    for df in tt.values():\n",
    "        display(df.head(1))\n",
    "        total += df.shape[0]\n",
    "        display(df.shape)\n",
    "print(total)"
   ]
  },
  {
   "cell_type": "code",
   "execution_count": 41,
   "metadata": {
    "scrolled": false
   },
   "outputs": [
    {
     "name": "stdout",
     "output_type": "stream",
     "text": [
      "length 2\n",
      "2\n",
      "skipping this review, not enough sentences\n",
      "length 4\n",
      "3\n",
      "[0 3 2]\n"
     ]
    },
    {
     "name": "stderr",
     "output_type": "stream",
     "text": [
      "../subjective_filter.py:19: SettingWithCopyWarning: \n",
      "A value is trying to be set on a copy of a slice from a DataFrame.\n",
      "Try using .loc[row_indexer,col_indexer] = value instead\n",
      "\n",
      "See the caveats in the documentation: http://pandas.pydata.org/pandas-docs/stable/indexing.html#indexing-view-versus-copy\n",
      "  df['sentence'] = df['reviewText'].map(sent_tokenize)\n",
      "../subjective_filter.py:19: SettingWithCopyWarning: \n",
      "A value is trying to be set on a copy of a slice from a DataFrame.\n",
      "Try using .loc[row_indexer,col_indexer] = value instead\n",
      "\n",
      "See the caveats in the documentation: http://pandas.pydata.org/pandas-docs/stable/indexing.html#indexing-view-versus-copy\n",
      "  df['sentence'] = df['reviewText'].map(sent_tokenize)\n"
     ]
    },
    {
     "data": {
      "text/markdown": [
       "### Kept:"
      ],
      "text/plain": [
       "<IPython.core.display.Markdown object>"
      ]
     },
     "metadata": {},
     "output_type": "display_data"
    },
    {
     "data": {
      "text/html": [
       "<div>\n",
       "<style scoped>\n",
       "    .dataframe tbody tr th:only-of-type {\n",
       "        vertical-align: middle;\n",
       "    }\n",
       "\n",
       "    .dataframe tbody tr th {\n",
       "        vertical-align: top;\n",
       "    }\n",
       "\n",
       "    .dataframe thead th {\n",
       "        text-align: right;\n",
       "    }\n",
       "</style>\n",
       "<table border=\"1\" class=\"dataframe\">\n",
       "  <thead>\n",
       "    <tr style=\"text-align: right;\">\n",
       "      <th></th>\n",
       "      <th>reviewerID</th>\n",
       "      <th>asin</th>\n",
       "      <th>overall</th>\n",
       "      <th>sentence</th>\n",
       "    </tr>\n",
       "  </thead>\n",
       "  <tbody>\n",
       "    <tr>\n",
       "      <th>0</th>\n",
       "      <td>A32244V7CQUBD6</td>\n",
       "      <td>B00005QFEN</td>\n",
       "      <td>4.0</td>\n",
       "      <td>This episode pretty much has Hafron and Emmanuelle teleporting to different parts of the world and &amp;quot;doing it&amp;quot;.</td>\n",
       "    </tr>\n",
       "    <tr>\n",
       "      <th>3</th>\n",
       "      <td>A32244V7CQUBD6</td>\n",
       "      <td>B00005QFEN</td>\n",
       "      <td>4.0</td>\n",
       "      <td>Otherwise, this episode is mostly sex scenes.</td>\n",
       "    </tr>\n",
       "    <tr>\n",
       "      <th>2</th>\n",
       "      <td>A32244V7CQUBD6</td>\n",
       "      <td>B00005QFEN</td>\n",
       "      <td>4.0</td>\n",
       "      <td>That's the main reason for Emmanuelle and Hafron to jump to different parts of the world.</td>\n",
       "    </tr>\n",
       "  </tbody>\n",
       "</table>\n",
       "</div>"
      ],
      "text/plain": [
       "       reviewerID        asin  overall  \\\n",
       "0  A32244V7CQUBD6  B00005QFEN  4.0       \n",
       "3  A32244V7CQUBD6  B00005QFEN  4.0       \n",
       "2  A32244V7CQUBD6  B00005QFEN  4.0       \n",
       "\n",
       "                                                                                                                   sentence  \n",
       "0  This episode pretty much has Hafron and Emmanuelle teleporting to different parts of the world and &quot;doing it&quot;.  \n",
       "3  Otherwise, this episode is mostly sex scenes.                                                                             \n",
       "2  That's the main reason for Emmanuelle and Hafron to jump to different parts of the world.                                 "
      ]
     },
     "metadata": {},
     "output_type": "display_data"
    },
    {
     "data": {
      "text/markdown": [
       "### Dropped:"
      ],
      "text/plain": [
       "<IPython.core.display.Markdown object>"
      ]
     },
     "metadata": {},
     "output_type": "display_data"
    },
    {
     "data": {
      "text/html": [
       "<div>\n",
       "<style scoped>\n",
       "    .dataframe tbody tr th:only-of-type {\n",
       "        vertical-align: middle;\n",
       "    }\n",
       "\n",
       "    .dataframe tbody tr th {\n",
       "        vertical-align: top;\n",
       "    }\n",
       "\n",
       "    .dataframe thead th {\n",
       "        text-align: right;\n",
       "    }\n",
       "</style>\n",
       "<table border=\"1\" class=\"dataframe\">\n",
       "  <thead>\n",
       "    <tr style=\"text-align: right;\">\n",
       "      <th></th>\n",
       "      <th>reviewerID</th>\n",
       "      <th>asin</th>\n",
       "      <th>overall</th>\n",
       "      <th>sentence</th>\n",
       "    </tr>\n",
       "  </thead>\n",
       "  <tbody>\n",
       "    <tr>\n",
       "      <th>1</th>\n",
       "      <td>A32244V7CQUBD6</td>\n",
       "      <td>B00005QFEN</td>\n",
       "      <td>4.0</td>\n",
       "      <td>There is the continuing plot from an earlier episode of some group on Earth trying to track them down.</td>\n",
       "    </tr>\n",
       "  </tbody>\n",
       "</table>\n",
       "</div>"
      ],
      "text/plain": [
       "       reviewerID        asin  overall  \\\n",
       "1  A32244V7CQUBD6  B00005QFEN  4.0       \n",
       "\n",
       "                                                                                                 sentence  \n",
       "1  There is the continuing plot from an earlier episode of some group on Earth trying to track them down.  "
      ]
     },
     "metadata": {},
     "output_type": "display_data"
    },
    {
     "data": {
      "text/markdown": [
       "#### => Removed 1 (25%) obj sentences"
      ],
      "text/plain": [
       "<IPython.core.display.Markdown object>"
      ]
     },
     "metadata": {},
     "output_type": "display_data"
    },
    {
     "name": "stdout",
     "output_type": "stream",
     "text": [
      "length 3\n",
      "2\n",
      "[2 0]\n"
     ]
    },
    {
     "name": "stderr",
     "output_type": "stream",
     "text": [
      "../subjective_filter.py:19: SettingWithCopyWarning: \n",
      "A value is trying to be set on a copy of a slice from a DataFrame.\n",
      "Try using .loc[row_indexer,col_indexer] = value instead\n",
      "\n",
      "See the caveats in the documentation: http://pandas.pydata.org/pandas-docs/stable/indexing.html#indexing-view-versus-copy\n",
      "  df['sentence'] = df['reviewText'].map(sent_tokenize)\n"
     ]
    },
    {
     "data": {
      "text/markdown": [
       "### Kept:"
      ],
      "text/plain": [
       "<IPython.core.display.Markdown object>"
      ]
     },
     "metadata": {},
     "output_type": "display_data"
    },
    {
     "data": {
      "text/html": [
       "<div>\n",
       "<style scoped>\n",
       "    .dataframe tbody tr th:only-of-type {\n",
       "        vertical-align: middle;\n",
       "    }\n",
       "\n",
       "    .dataframe tbody tr th {\n",
       "        vertical-align: top;\n",
       "    }\n",
       "\n",
       "    .dataframe thead th {\n",
       "        text-align: right;\n",
       "    }\n",
       "</style>\n",
       "<table border=\"1\" class=\"dataframe\">\n",
       "  <thead>\n",
       "    <tr style=\"text-align: right;\">\n",
       "      <th></th>\n",
       "      <th>reviewerID</th>\n",
       "      <th>asin</th>\n",
       "      <th>overall</th>\n",
       "      <th>sentence</th>\n",
       "    </tr>\n",
       "  </thead>\n",
       "  <tbody>\n",
       "    <tr>\n",
       "      <th>2</th>\n",
       "      <td>A33KKMGGVLZ29T</td>\n",
       "      <td>B00005QFER</td>\n",
       "      <td>4.0</td>\n",
       "      <td>The Rare Tribal Mob and the Mirabal Singers/Dancers are great and provide a mesmerising stage performance.Very enjoyable</td>\n",
       "    </tr>\n",
       "    <tr>\n",
       "      <th>0</th>\n",
       "      <td>A33KKMGGVLZ29T</td>\n",
       "      <td>B00005QFER</td>\n",
       "      <td>4.0</td>\n",
       "      <td>This is an intimate concert of Robert Mirabal.</td>\n",
       "    </tr>\n",
       "  </tbody>\n",
       "</table>\n",
       "</div>"
      ],
      "text/plain": [
       "       reviewerID        asin  overall  \\\n",
       "2  A33KKMGGVLZ29T  B00005QFER  4.0       \n",
       "0  A33KKMGGVLZ29T  B00005QFER  4.0       \n",
       "\n",
       "                                                                                                                   sentence  \n",
       "2  The Rare Tribal Mob and the Mirabal Singers/Dancers are great and provide a mesmerising stage performance.Very enjoyable  \n",
       "0  This is an intimate concert of Robert Mirabal.                                                                            "
      ]
     },
     "metadata": {},
     "output_type": "display_data"
    },
    {
     "data": {
      "text/markdown": [
       "### Dropped:"
      ],
      "text/plain": [
       "<IPython.core.display.Markdown object>"
      ]
     },
     "metadata": {},
     "output_type": "display_data"
    },
    {
     "data": {
      "text/html": [
       "<div>\n",
       "<style scoped>\n",
       "    .dataframe tbody tr th:only-of-type {\n",
       "        vertical-align: middle;\n",
       "    }\n",
       "\n",
       "    .dataframe tbody tr th {\n",
       "        vertical-align: top;\n",
       "    }\n",
       "\n",
       "    .dataframe thead th {\n",
       "        text-align: right;\n",
       "    }\n",
       "</style>\n",
       "<table border=\"1\" class=\"dataframe\">\n",
       "  <thead>\n",
       "    <tr style=\"text-align: right;\">\n",
       "      <th></th>\n",
       "      <th>reviewerID</th>\n",
       "      <th>asin</th>\n",
       "      <th>overall</th>\n",
       "      <th>sentence</th>\n",
       "    </tr>\n",
       "  </thead>\n",
       "  <tbody>\n",
       "    <tr>\n",
       "      <th>1</th>\n",
       "      <td>A33KKMGGVLZ29T</td>\n",
       "      <td>B00005QFER</td>\n",
       "      <td>4.0</td>\n",
       "      <td>Although I thought that it was, as I said, masterful, the sound, at times sounded a little muffled.The storytelling of the songs gave an insight of native culture and of Mirabal's own family stories and history.The Dance and Ee You Oo are my picks for the best songs, but they are all a joy to watch.</td>\n",
       "    </tr>\n",
       "  </tbody>\n",
       "</table>\n",
       "</div>"
      ],
      "text/plain": [
       "       reviewerID        asin  overall  \\\n",
       "1  A33KKMGGVLZ29T  B00005QFER  4.0       \n",
       "\n",
       "                                                                                                                                                                                                                                                                                                       sentence  \n",
       "1  Although I thought that it was, as I said, masterful, the sound, at times sounded a little muffled.The storytelling of the songs gave an insight of native culture and of Mirabal's own family stories and history.The Dance and Ee You Oo are my picks for the best songs, but they are all a joy to watch.  "
      ]
     },
     "metadata": {},
     "output_type": "display_data"
    },
    {
     "data": {
      "text/markdown": [
       "#### => Removed 1 (33%) obj sentences"
      ],
      "text/plain": [
       "<IPython.core.display.Markdown object>"
      ]
     },
     "metadata": {},
     "output_type": "display_data"
    },
    {
     "name": "stderr",
     "output_type": "stream",
     "text": [
      "../subjective_filter.py:19: SettingWithCopyWarning: \n",
      "A value is trying to be set on a copy of a slice from a DataFrame.\n",
      "Try using .loc[row_indexer,col_indexer] = value instead\n",
      "\n",
      "See the caveats in the documentation: http://pandas.pydata.org/pandas-docs/stable/indexing.html#indexing-view-versus-copy\n",
      "  df['sentence'] = df['reviewText'].map(sent_tokenize)\n"
     ]
    },
    {
     "name": "stdout",
     "output_type": "stream",
     "text": [
      "length 2\n",
      "2\n",
      "skipping this review, not enough sentences\n",
      "length 6\n",
      "4\n",
      "[3 0 5 4]\n"
     ]
    },
    {
     "name": "stderr",
     "output_type": "stream",
     "text": [
      "../subjective_filter.py:19: SettingWithCopyWarning: \n",
      "A value is trying to be set on a copy of a slice from a DataFrame.\n",
      "Try using .loc[row_indexer,col_indexer] = value instead\n",
      "\n",
      "See the caveats in the documentation: http://pandas.pydata.org/pandas-docs/stable/indexing.html#indexing-view-versus-copy\n",
      "  df['sentence'] = df['reviewText'].map(sent_tokenize)\n"
     ]
    },
    {
     "data": {
      "text/markdown": [
       "### Kept:"
      ],
      "text/plain": [
       "<IPython.core.display.Markdown object>"
      ]
     },
     "metadata": {},
     "output_type": "display_data"
    },
    {
     "data": {
      "text/html": [
       "<div>\n",
       "<style scoped>\n",
       "    .dataframe tbody tr th:only-of-type {\n",
       "        vertical-align: middle;\n",
       "    }\n",
       "\n",
       "    .dataframe tbody tr th {\n",
       "        vertical-align: top;\n",
       "    }\n",
       "\n",
       "    .dataframe thead th {\n",
       "        text-align: right;\n",
       "    }\n",
       "</style>\n",
       "<table border=\"1\" class=\"dataframe\">\n",
       "  <thead>\n",
       "    <tr style=\"text-align: right;\">\n",
       "      <th></th>\n",
       "      <th>reviewerID</th>\n",
       "      <th>asin</th>\n",
       "      <th>overall</th>\n",
       "      <th>sentence</th>\n",
       "    </tr>\n",
       "  </thead>\n",
       "  <tbody>\n",
       "    <tr>\n",
       "      <th>3</th>\n",
       "      <td>ADG33WELAQRZJ</td>\n",
       "      <td>B00005QG2N</td>\n",
       "      <td>4.0</td>\n",
       "      <td>when you've watched the PTSFirepower DVD first like I did, that one is so much better.</td>\n",
       "    </tr>\n",
       "    <tr>\n",
       "      <th>0</th>\n",
       "      <td>ADG33WELAQRZJ</td>\n",
       "      <td>B00005QG2N</td>\n",
       "      <td>4.0</td>\n",
       "      <td>Great show from the inventors of the extreme gothic metal genre !!</td>\n",
       "    </tr>\n",
       "    <tr>\n",
       "      <th>5</th>\n",
       "      <td>ADG33WELAQRZJ</td>\n",
       "      <td>B00005QG2N</td>\n",
       "      <td>4.0</td>\n",
       "      <td>Well don't watch it then.</td>\n",
       "    </tr>\n",
       "    <tr>\n",
       "      <th>4</th>\n",
       "      <td>ADG33WELAQRZJ</td>\n",
       "      <td>B00005QG2N</td>\n",
       "      <td>4.0</td>\n",
       "      <td>The 5 bonus videoclips totally rule and round up the package making the purchase a worthy one.Now the mockumentary may not be suited to everyone's tastes, personally it bored me and know of a lot of people who feels it ruins the band's image.</td>\n",
       "    </tr>\n",
       "  </tbody>\n",
       "</table>\n",
       "</div>"
      ],
      "text/plain": [
       "      reviewerID        asin  overall  \\\n",
       "3  ADG33WELAQRZJ  B00005QG2N  4.0       \n",
       "0  ADG33WELAQRZJ  B00005QG2N  4.0       \n",
       "5  ADG33WELAQRZJ  B00005QG2N  4.0       \n",
       "4  ADG33WELAQRZJ  B00005QG2N  4.0       \n",
       "\n",
       "                                                                                                                                                                                                                                             sentence  \n",
       "3  when you've watched the PTSFirepower DVD first like I did, that one is so much better.                                                                                                                                                              \n",
       "0  Great show from the inventors of the extreme gothic metal genre !!                                                                                                                                                                                  \n",
       "5  Well don't watch it then.                                                                                                                                                                                                                           \n",
       "4  The 5 bonus videoclips totally rule and round up the package making the purchase a worthy one.Now the mockumentary may not be suited to everyone's tastes, personally it bored me and know of a lot of people who feels it ruins the band's image.  "
      ]
     },
     "metadata": {},
     "output_type": "display_data"
    },
    {
     "data": {
      "text/markdown": [
       "### Dropped:"
      ],
      "text/plain": [
       "<IPython.core.display.Markdown object>"
      ]
     },
     "metadata": {},
     "output_type": "display_data"
    },
    {
     "data": {
      "text/html": [
       "<div>\n",
       "<style scoped>\n",
       "    .dataframe tbody tr th:only-of-type {\n",
       "        vertical-align: middle;\n",
       "    }\n",
       "\n",
       "    .dataframe tbody tr th {\n",
       "        vertical-align: top;\n",
       "    }\n",
       "\n",
       "    .dataframe thead th {\n",
       "        text-align: right;\n",
       "    }\n",
       "</style>\n",
       "<table border=\"1\" class=\"dataframe\">\n",
       "  <thead>\n",
       "    <tr style=\"text-align: right;\">\n",
       "      <th></th>\n",
       "      <th>reviewerID</th>\n",
       "      <th>asin</th>\n",
       "      <th>overall</th>\n",
       "      <th>sentence</th>\n",
       "    </tr>\n",
       "  </thead>\n",
       "  <tbody>\n",
       "    <tr>\n",
       "      <th>2</th>\n",
       "      <td>ADG33WELAQRZJ</td>\n",
       "      <td>B00005QG2N</td>\n",
       "      <td>4.0</td>\n",
       "      <td>It's hard to give this more stars esp.</td>\n",
       "    </tr>\n",
       "    <tr>\n",
       "      <th>1</th>\n",
       "      <td>ADG33WELAQRZJ</td>\n",
       "      <td>B00005QG2N</td>\n",
       "      <td>4.0</td>\n",
       "      <td>75'of pure mayhem with good visuals and a great sound, although the vocals are a little high in the mix for my taste and the guitar on the right channel is 10 times louder than the one on the left so I ended up switching it to mono to even things up.</td>\n",
       "    </tr>\n",
       "  </tbody>\n",
       "</table>\n",
       "</div>"
      ],
      "text/plain": [
       "      reviewerID        asin  overall  \\\n",
       "2  ADG33WELAQRZJ  B00005QG2N  4.0       \n",
       "1  ADG33WELAQRZJ  B00005QG2N  4.0       \n",
       "\n",
       "                                                                                                                                                                                                                                                     sentence  \n",
       "2  It's hard to give this more stars esp.                                                                                                                                                                                                                      \n",
       "1  75'of pure mayhem with good visuals and a great sound, although the vocals are a little high in the mix for my taste and the guitar on the right channel is 10 times louder than the one on the left so I ended up switching it to mono to even things up.  "
      ]
     },
     "metadata": {},
     "output_type": "display_data"
    },
    {
     "data": {
      "text/markdown": [
       "#### => Removed 2 (33%) obj sentences"
      ],
      "text/plain": [
       "<IPython.core.display.Markdown object>"
      ]
     },
     "metadata": {},
     "output_type": "display_data"
    },
    {
     "name": "stdout",
     "output_type": "stream",
     "text": [
      "length 33\n",
      "25\n",
      "[ 8 28 16  6 27 32  7  9 12 13 30  1 26 24  0 29 23 22  4  3 17 25 15 14\n",
      " 11]\n"
     ]
    },
    {
     "name": "stderr",
     "output_type": "stream",
     "text": [
      "../subjective_filter.py:19: SettingWithCopyWarning: \n",
      "A value is trying to be set on a copy of a slice from a DataFrame.\n",
      "Try using .loc[row_indexer,col_indexer] = value instead\n",
      "\n",
      "See the caveats in the documentation: http://pandas.pydata.org/pandas-docs/stable/indexing.html#indexing-view-versus-copy\n",
      "  df['sentence'] = df['reviewText'].map(sent_tokenize)\n"
     ]
    },
    {
     "data": {
      "text/markdown": [
       "### Kept:"
      ],
      "text/plain": [
       "<IPython.core.display.Markdown object>"
      ]
     },
     "metadata": {},
     "output_type": "display_data"
    },
    {
     "data": {
      "text/html": [
       "<div>\n",
       "<style scoped>\n",
       "    .dataframe tbody tr th:only-of-type {\n",
       "        vertical-align: middle;\n",
       "    }\n",
       "\n",
       "    .dataframe tbody tr th {\n",
       "        vertical-align: top;\n",
       "    }\n",
       "\n",
       "    .dataframe thead th {\n",
       "        text-align: right;\n",
       "    }\n",
       "</style>\n",
       "<table border=\"1\" class=\"dataframe\">\n",
       "  <thead>\n",
       "    <tr style=\"text-align: right;\">\n",
       "      <th></th>\n",
       "      <th>reviewerID</th>\n",
       "      <th>asin</th>\n",
       "      <th>overall</th>\n",
       "      <th>sentence</th>\n",
       "    </tr>\n",
       "  </thead>\n",
       "  <tbody>\n",
       "    <tr>\n",
       "      <th>8</th>\n",
       "      <td>A3CFT5LHFCB46K</td>\n",
       "      <td>630362572X</td>\n",
       "      <td>1.0</td>\n",
       "      <td>I know it's a Godzilla film, but did it need to be this bad?</td>\n",
       "    </tr>\n",
       "    <tr>\n",
       "      <th>28</th>\n",
       "      <td>A3CFT5LHFCB46K</td>\n",
       "      <td>630362572X</td>\n",
       "      <td>1.0</td>\n",
       "      <td>If this was the film that made Godzilla famous, he should have been assassinated.Indeed this film will leave you thinking after you leave the theater: Why did I waste my time on this?</td>\n",
       "    </tr>\n",
       "    <tr>\n",
       "      <th>16</th>\n",
       "      <td>A3CFT5LHFCB46K</td>\n",
       "      <td>630362572X</td>\n",
       "      <td>1.0</td>\n",
       "      <td>Have tea and crumpets?Speaking of Kong, I have seen costumes that look better than this Kong suit.</td>\n",
       "    </tr>\n",
       "    <tr>\n",
       "      <th>6</th>\n",
       "      <td>A3CFT5LHFCB46K</td>\n",
       "      <td>630362572X</td>\n",
       "      <td>1.0</td>\n",
       "      <td>This film is truly a classic of cinema that will leave you thinking long after you leave the theater.Wait.</td>\n",
       "    </tr>\n",
       "    <tr>\n",
       "      <th>27</th>\n",
       "      <td>A3CFT5LHFCB46K</td>\n",
       "      <td>630362572X</td>\n",
       "      <td>1.0</td>\n",
       "      <td>For a true classic of monster cinema, King Kong, the original Godzilla or Godzilla 1985 are better choices than this pile of ...</td>\n",
       "    </tr>\n",
       "    <tr>\n",
       "      <th>32</th>\n",
       "      <td>A3CFT5LHFCB46K</td>\n",
       "      <td>630362572X</td>\n",
       "      <td>1.0</td>\n",
       "      <td>Get that one if you can).</td>\n",
       "    </tr>\n",
       "    <tr>\n",
       "      <th>7</th>\n",
       "      <td>A3CFT5LHFCB46K</td>\n",
       "      <td>630362572X</td>\n",
       "      <td>1.0</td>\n",
       "      <td>That's my review for 2001: A Space Odyssey.Here's what I really think of King Kong vs. Godzilla.A thousand words cannot describe my dislike of the film.</td>\n",
       "    </tr>\n",
       "    <tr>\n",
       "      <th>9</th>\n",
       "      <td>A3CFT5LHFCB46K</td>\n",
       "      <td>630362572X</td>\n",
       "      <td>1.0</td>\n",
       "      <td>It starts off good, with an excellent piece of music at the beginning credits.</td>\n",
       "    </tr>\n",
       "    <tr>\n",
       "      <th>12</th>\n",
       "      <td>A3CFT5LHFCB46K</td>\n",
       "      <td>630362572X</td>\n",
       "      <td>1.0</td>\n",
       "      <td>He \"communicates\" with people in Japan via a satellite that looks more like a first grade science project than visual effects.</td>\n",
       "    </tr>\n",
       "    <tr>\n",
       "      <th>13</th>\n",
       "      <td>A3CFT5LHFCB46K</td>\n",
       "      <td>630362572X</td>\n",
       "      <td>1.0</td>\n",
       "      <td>He constantly tells us that \"Godzilla is heading for Japan\" or \"King Kong and Godzilla will battle.\"</td>\n",
       "    </tr>\n",
       "    <tr>\n",
       "      <th>30</th>\n",
       "      <td>A3CFT5LHFCB46K</td>\n",
       "      <td>630362572X</td>\n",
       "      <td>1.0</td>\n",
       "      <td>After all, this is the American version of the movie and we always [mess] with perfection.</td>\n",
       "    </tr>\n",
       "    <tr>\n",
       "      <th>1</th>\n",
       "      <td>A3CFT5LHFCB46K</td>\n",
       "      <td>630362572X</td>\n",
       "      <td>1.0</td>\n",
       "      <td>It is referred to as the film that \"...Lifted Godzilla from the swelling ranks of interchangeable atomic monsters of the fifties and placed him among the pantheon of cinema creatures\".</td>\n",
       "    </tr>\n",
       "    <tr>\n",
       "      <th>26</th>\n",
       "      <td>A3CFT5LHFCB46K</td>\n",
       "      <td>630362572X</td>\n",
       "      <td>1.0</td>\n",
       "      <td>Or make better costumes or etc, etc.</td>\n",
       "    </tr>\n",
       "    <tr>\n",
       "      <th>24</th>\n",
       "      <td>A3CFT5LHFCB46K</td>\n",
       "      <td>630362572X</td>\n",
       "      <td>1.0</td>\n",
       "      <td>Too bad the Japanese did not use stop motion animation.</td>\n",
       "    </tr>\n",
       "    <tr>\n",
       "      <th>0</th>\n",
       "      <td>A3CFT5LHFCB46K</td>\n",
       "      <td>630362572X</td>\n",
       "      <td>1.0</td>\n",
       "      <td>In the book The Official Godzilla Compendium, King Kong Vs Godzilla is described as \"The Jaws of the Japanese film Industry\" or \"One of the great monster battles of cinema history\".</td>\n",
       "    </tr>\n",
       "    <tr>\n",
       "      <th>29</th>\n",
       "      <td>A3CFT5LHFCB46K</td>\n",
       "      <td>630362572X</td>\n",
       "      <td>1.0</td>\n",
       "      <td>(Note: Perhaps my criticism was a bit harsh.</td>\n",
       "    </tr>\n",
       "    <tr>\n",
       "      <th>23</th>\n",
       "      <td>A3CFT5LHFCB46K</td>\n",
       "      <td>630362572X</td>\n",
       "      <td>1.0</td>\n",
       "      <td>The main battles themselves are also letdowns.It was a grand idea that Toho had: Pitting two titans of cinema against each other.</td>\n",
       "    </tr>\n",
       "    <tr>\n",
       "      <th>22</th>\n",
       "      <td>A3CFT5LHFCB46K</td>\n",
       "      <td>630362572X</td>\n",
       "      <td>1.0</td>\n",
       "      <td>Also, doesn't anyone else notice that the islands of the first Godzilla movies (The '50s to the '70s) always look the same?</td>\n",
       "    </tr>\n",
       "    <tr>\n",
       "      <th>4</th>\n",
       "      <td>A3CFT5LHFCB46K</td>\n",
       "      <td>630362572X</td>\n",
       "      <td>1.0</td>\n",
       "      <td>The acting is top notch.</td>\n",
       "    </tr>\n",
       "    <tr>\n",
       "      <th>3</th>\n",
       "      <td>A3CFT5LHFCB46K</td>\n",
       "      <td>630362572X</td>\n",
       "      <td>1.0</td>\n",
       "      <td>The special effects are incredible!</td>\n",
       "    </tr>\n",
       "    <tr>\n",
       "      <th>17</th>\n",
       "      <td>A3CFT5LHFCB46K</td>\n",
       "      <td>630362572X</td>\n",
       "      <td>1.0</td>\n",
       "      <td>I would also rather listen to Celine Dion and Elton John do a music number together than listen to Kong roar.</td>\n",
       "    </tr>\n",
       "    <tr>\n",
       "      <th>25</th>\n",
       "      <td>A3CFT5LHFCB46K</td>\n",
       "      <td>630362572X</td>\n",
       "      <td>1.0</td>\n",
       "      <td>Or make a Kong/Godzilla rematch.</td>\n",
       "    </tr>\n",
       "    <tr>\n",
       "      <th>15</th>\n",
       "      <td>A3CFT5LHFCB46K</td>\n",
       "      <td>630362572X</td>\n",
       "      <td>1.0</td>\n",
       "      <td>What do you think King Kong and Godzilla will do?</td>\n",
       "    </tr>\n",
       "    <tr>\n",
       "      <th>14</th>\n",
       "      <td>A3CFT5LHFCB46K</td>\n",
       "      <td>630362572X</td>\n",
       "      <td>1.0</td>\n",
       "      <td>Duh!</td>\n",
       "    </tr>\n",
       "    <tr>\n",
       "      <th>11</th>\n",
       "      <td>A3CFT5LHFCB46K</td>\n",
       "      <td>630362572X</td>\n",
       "      <td>1.0</td>\n",
       "      <td>All he was put in for was to make the film longer and annoy us.</td>\n",
       "    </tr>\n",
       "  </tbody>\n",
       "</table>\n",
       "</div>"
      ],
      "text/plain": [
       "        reviewerID        asin  overall  \\\n",
       "8   A3CFT5LHFCB46K  630362572X  1.0       \n",
       "28  A3CFT5LHFCB46K  630362572X  1.0       \n",
       "16  A3CFT5LHFCB46K  630362572X  1.0       \n",
       "6   A3CFT5LHFCB46K  630362572X  1.0       \n",
       "27  A3CFT5LHFCB46K  630362572X  1.0       \n",
       "32  A3CFT5LHFCB46K  630362572X  1.0       \n",
       "7   A3CFT5LHFCB46K  630362572X  1.0       \n",
       "9   A3CFT5LHFCB46K  630362572X  1.0       \n",
       "12  A3CFT5LHFCB46K  630362572X  1.0       \n",
       "13  A3CFT5LHFCB46K  630362572X  1.0       \n",
       "30  A3CFT5LHFCB46K  630362572X  1.0       \n",
       "1   A3CFT5LHFCB46K  630362572X  1.0       \n",
       "26  A3CFT5LHFCB46K  630362572X  1.0       \n",
       "24  A3CFT5LHFCB46K  630362572X  1.0       \n",
       "0   A3CFT5LHFCB46K  630362572X  1.0       \n",
       "29  A3CFT5LHFCB46K  630362572X  1.0       \n",
       "23  A3CFT5LHFCB46K  630362572X  1.0       \n",
       "22  A3CFT5LHFCB46K  630362572X  1.0       \n",
       "4   A3CFT5LHFCB46K  630362572X  1.0       \n",
       "3   A3CFT5LHFCB46K  630362572X  1.0       \n",
       "17  A3CFT5LHFCB46K  630362572X  1.0       \n",
       "25  A3CFT5LHFCB46K  630362572X  1.0       \n",
       "15  A3CFT5LHFCB46K  630362572X  1.0       \n",
       "14  A3CFT5LHFCB46K  630362572X  1.0       \n",
       "11  A3CFT5LHFCB46K  630362572X  1.0       \n",
       "\n",
       "                                                                                                                                                                                    sentence  \n",
       "8   I know it's a Godzilla film, but did it need to be this bad?                                                                                                                              \n",
       "28  If this was the film that made Godzilla famous, he should have been assassinated.Indeed this film will leave you thinking after you leave the theater: Why did I waste my time on this?   \n",
       "16  Have tea and crumpets?Speaking of Kong, I have seen costumes that look better than this Kong suit.                                                                                        \n",
       "6   This film is truly a classic of cinema that will leave you thinking long after you leave the theater.Wait.                                                                                \n",
       "27  For a true classic of monster cinema, King Kong, the original Godzilla or Godzilla 1985 are better choices than this pile of ...                                                          \n",
       "32  Get that one if you can).                                                                                                                                                                 \n",
       "7   That's my review for 2001: A Space Odyssey.Here's what I really think of King Kong vs. Godzilla.A thousand words cannot describe my dislike of the film.                                  \n",
       "9   It starts off good, with an excellent piece of music at the beginning credits.                                                                                                            \n",
       "12  He \"communicates\" with people in Japan via a satellite that looks more like a first grade science project than visual effects.                                                            \n",
       "13  He constantly tells us that \"Godzilla is heading for Japan\" or \"King Kong and Godzilla will battle.\"                                                                                      \n",
       "30  After all, this is the American version of the movie and we always [mess] with perfection.                                                                                                \n",
       "1   It is referred to as the film that \"...Lifted Godzilla from the swelling ranks of interchangeable atomic monsters of the fifties and placed him among the pantheon of cinema creatures\".  \n",
       "26  Or make better costumes or etc, etc.                                                                                                                                                      \n",
       "24  Too bad the Japanese did not use stop motion animation.                                                                                                                                   \n",
       "0   In the book The Official Godzilla Compendium, King Kong Vs Godzilla is described as \"The Jaws of the Japanese film Industry\" or \"One of the great monster battles of cinema history\".     \n",
       "29  (Note: Perhaps my criticism was a bit harsh.                                                                                                                                              \n",
       "23  The main battles themselves are also letdowns.It was a grand idea that Toho had: Pitting two titans of cinema against each other.                                                         \n",
       "22  Also, doesn't anyone else notice that the islands of the first Godzilla movies (The '50s to the '70s) always look the same?                                                               \n",
       "4   The acting is top notch.                                                                                                                                                                  \n",
       "3   The special effects are incredible!                                                                                                                                                       \n",
       "17  I would also rather listen to Celine Dion and Elton John do a music number together than listen to Kong roar.                                                                             \n",
       "25  Or make a Kong/Godzilla rematch.                                                                                                                                                          \n",
       "15  What do you think King Kong and Godzilla will do?                                                                                                                                         \n",
       "14  Duh!                                                                                                                                                                                      \n",
       "11  All he was put in for was to make the film longer and annoy us.                                                                                                                           "
      ]
     },
     "metadata": {},
     "output_type": "display_data"
    },
    {
     "data": {
      "text/markdown": [
       "### Dropped:"
      ],
      "text/plain": [
       "<IPython.core.display.Markdown object>"
      ]
     },
     "metadata": {},
     "output_type": "display_data"
    },
    {
     "data": {
      "text/html": [
       "<div>\n",
       "<style scoped>\n",
       "    .dataframe tbody tr th:only-of-type {\n",
       "        vertical-align: middle;\n",
       "    }\n",
       "\n",
       "    .dataframe tbody tr th {\n",
       "        vertical-align: top;\n",
       "    }\n",
       "\n",
       "    .dataframe thead th {\n",
       "        text-align: right;\n",
       "    }\n",
       "</style>\n",
       "<table border=\"1\" class=\"dataframe\">\n",
       "  <thead>\n",
       "    <tr style=\"text-align: right;\">\n",
       "      <th></th>\n",
       "      <th>reviewerID</th>\n",
       "      <th>asin</th>\n",
       "      <th>overall</th>\n",
       "      <th>sentence</th>\n",
       "    </tr>\n",
       "  </thead>\n",
       "  <tbody>\n",
       "    <tr>\n",
       "      <th>19</th>\n",
       "      <td>A3CFT5LHFCB46K</td>\n",
       "      <td>630362572X</td>\n",
       "      <td>1.0</td>\n",
       "      <td>Godzilla appears just fine, except for the fact he's afraid of thermal energy (Didn't he tear down an electrical fence in 1954 with ease?).</td>\n",
       "    </tr>\n",
       "    <tr>\n",
       "      <th>5</th>\n",
       "      <td>A3CFT5LHFCB46K</td>\n",
       "      <td>630362572X</td>\n",
       "      <td>1.0</td>\n",
       "      <td>The screenplay is well written.</td>\n",
       "    </tr>\n",
       "    <tr>\n",
       "      <th>31</th>\n",
       "      <td>A3CFT5LHFCB46K</td>\n",
       "      <td>630362572X</td>\n",
       "      <td>1.0</td>\n",
       "      <td>Maybe the Japanese version is better.</td>\n",
       "    </tr>\n",
       "    <tr>\n",
       "      <th>2</th>\n",
       "      <td>A3CFT5LHFCB46K</td>\n",
       "      <td>630362572X</td>\n",
       "      <td>1.0</td>\n",
       "      <td>Thus, I had high expectations when I watched this on the Sci-Fi channel.All I have to say is: Wow!</td>\n",
       "    </tr>\n",
       "    <tr>\n",
       "      <th>10</th>\n",
       "      <td>A3CFT5LHFCB46K</td>\n",
       "      <td>630362572X</td>\n",
       "      <td>1.0</td>\n",
       "      <td>But soon goes downhill as we are introduced to U.N Reporter Eric Carter.</td>\n",
       "    </tr>\n",
       "    <tr>\n",
       "      <th>21</th>\n",
       "      <td>A3CFT5LHFCB46K</td>\n",
       "      <td>630362572X</td>\n",
       "      <td>1.0</td>\n",
       "      <td>Gee, I would assume that all his fur would make him the perfect conductor of elctricity.</td>\n",
       "    </tr>\n",
       "    <tr>\n",
       "      <th>20</th>\n",
       "      <td>A3CFT5LHFCB46K</td>\n",
       "      <td>630362572X</td>\n",
       "      <td>1.0</td>\n",
       "      <td>Kong however gets power from the thermal energy.</td>\n",
       "    </tr>\n",
       "    <tr>\n",
       "      <th>18</th>\n",
       "      <td>A3CFT5LHFCB46K</td>\n",
       "      <td>630362572X</td>\n",
       "      <td>1.0</td>\n",
       "      <td>He doesn't even open his mouth!</td>\n",
       "    </tr>\n",
       "  </tbody>\n",
       "</table>\n",
       "</div>"
      ],
      "text/plain": [
       "        reviewerID        asin  overall  \\\n",
       "19  A3CFT5LHFCB46K  630362572X  1.0       \n",
       "5   A3CFT5LHFCB46K  630362572X  1.0       \n",
       "31  A3CFT5LHFCB46K  630362572X  1.0       \n",
       "2   A3CFT5LHFCB46K  630362572X  1.0       \n",
       "10  A3CFT5LHFCB46K  630362572X  1.0       \n",
       "21  A3CFT5LHFCB46K  630362572X  1.0       \n",
       "20  A3CFT5LHFCB46K  630362572X  1.0       \n",
       "18  A3CFT5LHFCB46K  630362572X  1.0       \n",
       "\n",
       "                                                                                                                                       sentence  \n",
       "19  Godzilla appears just fine, except for the fact he's afraid of thermal energy (Didn't he tear down an electrical fence in 1954 with ease?).  \n",
       "5   The screenplay is well written.                                                                                                              \n",
       "31  Maybe the Japanese version is better.                                                                                                        \n",
       "2   Thus, I had high expectations when I watched this on the Sci-Fi channel.All I have to say is: Wow!                                           \n",
       "10  But soon goes downhill as we are introduced to U.N Reporter Eric Carter.                                                                     \n",
       "21  Gee, I would assume that all his fur would make him the perfect conductor of elctricity.                                                     \n",
       "20  Kong however gets power from the thermal energy.                                                                                             \n",
       "18  He doesn't even open his mouth!                                                                                                              "
      ]
     },
     "metadata": {},
     "output_type": "display_data"
    },
    {
     "data": {
      "text/markdown": [
       "#### => Removed 8 (24%) obj sentences"
      ],
      "text/plain": [
       "<IPython.core.display.Markdown object>"
      ]
     },
     "metadata": {},
     "output_type": "display_data"
    },
    {
     "name": "stdout",
     "output_type": "stream",
     "text": [
      "length 5\n",
      "4\n",
      "[3 4 0 1]\n"
     ]
    },
    {
     "name": "stderr",
     "output_type": "stream",
     "text": [
      "../subjective_filter.py:19: SettingWithCopyWarning: \n",
      "A value is trying to be set on a copy of a slice from a DataFrame.\n",
      "Try using .loc[row_indexer,col_indexer] = value instead\n",
      "\n",
      "See the caveats in the documentation: http://pandas.pydata.org/pandas-docs/stable/indexing.html#indexing-view-versus-copy\n",
      "  df['sentence'] = df['reviewText'].map(sent_tokenize)\n"
     ]
    },
    {
     "data": {
      "text/markdown": [
       "### Kept:"
      ],
      "text/plain": [
       "<IPython.core.display.Markdown object>"
      ]
     },
     "metadata": {},
     "output_type": "display_data"
    },
    {
     "data": {
      "text/html": [
       "<div>\n",
       "<style scoped>\n",
       "    .dataframe tbody tr th:only-of-type {\n",
       "        vertical-align: middle;\n",
       "    }\n",
       "\n",
       "    .dataframe tbody tr th {\n",
       "        vertical-align: top;\n",
       "    }\n",
       "\n",
       "    .dataframe thead th {\n",
       "        text-align: right;\n",
       "    }\n",
       "</style>\n",
       "<table border=\"1\" class=\"dataframe\">\n",
       "  <thead>\n",
       "    <tr style=\"text-align: right;\">\n",
       "      <th></th>\n",
       "      <th>reviewerID</th>\n",
       "      <th>asin</th>\n",
       "      <th>overall</th>\n",
       "      <th>sentence</th>\n",
       "    </tr>\n",
       "  </thead>\n",
       "  <tbody>\n",
       "    <tr>\n",
       "      <th>3</th>\n",
       "      <td>A1O2XS7W1TUI13</td>\n",
       "      <td>630362572X</td>\n",
       "      <td>1.0</td>\n",
       "      <td>This isn't the '80's any more, is it?</td>\n",
       "    </tr>\n",
       "    <tr>\n",
       "      <th>4</th>\n",
       "      <td>A1O2XS7W1TUI13</td>\n",
       "      <td>630362572X</td>\n",
       "      <td>1.0</td>\n",
       "      <td>Boycott rip-offs like this!</td>\n",
       "    </tr>\n",
       "    <tr>\n",
       "      <th>0</th>\n",
       "      <td>A1O2XS7W1TUI13</td>\n",
       "      <td>630362572X</td>\n",
       "      <td>1.0</td>\n",
       "      <td>Why would someone buy this pan &amp; scan trash?</td>\n",
       "    </tr>\n",
       "    <tr>\n",
       "      <th>1</th>\n",
       "      <td>A1O2XS7W1TUI13</td>\n",
       "      <td>630362572X</td>\n",
       "      <td>1.0</td>\n",
       "      <td>do yourself a favor and recycle it!!</td>\n",
       "    </tr>\n",
       "  </tbody>\n",
       "</table>\n",
       "</div>"
      ],
      "text/plain": [
       "       reviewerID        asin  overall  \\\n",
       "3  A1O2XS7W1TUI13  630362572X  1.0       \n",
       "4  A1O2XS7W1TUI13  630362572X  1.0       \n",
       "0  A1O2XS7W1TUI13  630362572X  1.0       \n",
       "1  A1O2XS7W1TUI13  630362572X  1.0       \n",
       "\n",
       "                                       sentence  \n",
       "3  This isn't the '80's any more, is it?         \n",
       "4  Boycott rip-offs like this!                   \n",
       "0  Why would someone buy this pan & scan trash?  \n",
       "1  do yourself a favor and recycle it!!          "
      ]
     },
     "metadata": {},
     "output_type": "display_data"
    },
    {
     "data": {
      "text/markdown": [
       "### Dropped:"
      ],
      "text/plain": [
       "<IPython.core.display.Markdown object>"
      ]
     },
     "metadata": {},
     "output_type": "display_data"
    },
    {
     "data": {
      "text/html": [
       "<div>\n",
       "<style scoped>\n",
       "    .dataframe tbody tr th:only-of-type {\n",
       "        vertical-align: middle;\n",
       "    }\n",
       "\n",
       "    .dataframe tbody tr th {\n",
       "        vertical-align: top;\n",
       "    }\n",
       "\n",
       "    .dataframe thead th {\n",
       "        text-align: right;\n",
       "    }\n",
       "</style>\n",
       "<table border=\"1\" class=\"dataframe\">\n",
       "  <thead>\n",
       "    <tr style=\"text-align: right;\">\n",
       "      <th></th>\n",
       "      <th>reviewerID</th>\n",
       "      <th>asin</th>\n",
       "      <th>overall</th>\n",
       "      <th>sentence</th>\n",
       "    </tr>\n",
       "  </thead>\n",
       "  <tbody>\n",
       "    <tr>\n",
       "      <th>2</th>\n",
       "      <td>A1O2XS7W1TUI13</td>\n",
       "      <td>630362572X</td>\n",
       "      <td>1.0</td>\n",
       "      <td>The igonorance of some of these companies is overwhelming.</td>\n",
       "    </tr>\n",
       "  </tbody>\n",
       "</table>\n",
       "</div>"
      ],
      "text/plain": [
       "       reviewerID        asin  overall  \\\n",
       "2  A1O2XS7W1TUI13  630362572X  1.0       \n",
       "\n",
       "                                                     sentence  \n",
       "2  The igonorance of some of these companies is overwhelming.  "
      ]
     },
     "metadata": {},
     "output_type": "display_data"
    },
    {
     "data": {
      "text/markdown": [
       "#### => Removed 1 (20%) obj sentences"
      ],
      "text/plain": [
       "<IPython.core.display.Markdown object>"
      ]
     },
     "metadata": {},
     "output_type": "display_data"
    },
    {
     "name": "stderr",
     "output_type": "stream",
     "text": [
      "../subjective_filter.py:19: SettingWithCopyWarning: \n",
      "A value is trying to be set on a copy of a slice from a DataFrame.\n",
      "Try using .loc[row_indexer,col_indexer] = value instead\n",
      "\n",
      "See the caveats in the documentation: http://pandas.pydata.org/pandas-docs/stable/indexing.html#indexing-view-versus-copy\n",
      "  df['sentence'] = df['reviewText'].map(sent_tokenize)\n"
     ]
    },
    {
     "name": "stdout",
     "output_type": "stream",
     "text": [
      "length 2\n",
      "2\n",
      "skipping this review, not enough sentences\n"
     ]
    },
    {
     "name": "stderr",
     "output_type": "stream",
     "text": [
      "../subjective_filter.py:19: SettingWithCopyWarning: \n",
      "A value is trying to be set on a copy of a slice from a DataFrame.\n",
      "Try using .loc[row_indexer,col_indexer] = value instead\n",
      "\n",
      "See the caveats in the documentation: http://pandas.pydata.org/pandas-docs/stable/indexing.html#indexing-view-versus-copy\n",
      "  df['sentence'] = df['reviewText'].map(sent_tokenize)\n",
      "../subjective_filter.py:19: SettingWithCopyWarning: \n",
      "A value is trying to be set on a copy of a slice from a DataFrame.\n",
      "Try using .loc[row_indexer,col_indexer] = value instead\n",
      "\n",
      "See the caveats in the documentation: http://pandas.pydata.org/pandas-docs/stable/indexing.html#indexing-view-versus-copy\n",
      "  df['sentence'] = df['reviewText'].map(sent_tokenize)\n"
     ]
    },
    {
     "name": "stdout",
     "output_type": "stream",
     "text": [
      "length 2\n",
      "2\n",
      "skipping this review, not enough sentences\n",
      "length 3\n",
      "2\n",
      "[0 1]\n"
     ]
    },
    {
     "data": {
      "text/markdown": [
       "### Kept:"
      ],
      "text/plain": [
       "<IPython.core.display.Markdown object>"
      ]
     },
     "metadata": {},
     "output_type": "display_data"
    },
    {
     "data": {
      "text/html": [
       "<div>\n",
       "<style scoped>\n",
       "    .dataframe tbody tr th:only-of-type {\n",
       "        vertical-align: middle;\n",
       "    }\n",
       "\n",
       "    .dataframe tbody tr th {\n",
       "        vertical-align: top;\n",
       "    }\n",
       "\n",
       "    .dataframe thead th {\n",
       "        text-align: right;\n",
       "    }\n",
       "</style>\n",
       "<table border=\"1\" class=\"dataframe\">\n",
       "  <thead>\n",
       "    <tr style=\"text-align: right;\">\n",
       "      <th></th>\n",
       "      <th>reviewerID</th>\n",
       "      <th>asin</th>\n",
       "      <th>overall</th>\n",
       "      <th>sentence</th>\n",
       "    </tr>\n",
       "  </thead>\n",
       "  <tbody>\n",
       "    <tr>\n",
       "      <th>0</th>\n",
       "      <td>A7QI46JO51R4C</td>\n",
       "      <td>6303625800</td>\n",
       "      <td>1.0</td>\n",
       "      <td>Don't buy the 2008 MGM black and white version.</td>\n",
       "    </tr>\n",
       "    <tr>\n",
       "      <th>1</th>\n",
       "      <td>A7QI46JO51R4C</td>\n",
       "      <td>6303625800</td>\n",
       "      <td>1.0</td>\n",
       "      <td>It is terrible, and it doesn't even deserve one star.The contrast is all off, especially throughout the later part of the film during the boogeyland sequences and the battle between the boogeymen and the soldiers.</td>\n",
       "    </tr>\n",
       "  </tbody>\n",
       "</table>\n",
       "</div>"
      ],
      "text/plain": [
       "      reviewerID        asin  overall  \\\n",
       "0  A7QI46JO51R4C  6303625800  1.0       \n",
       "1  A7QI46JO51R4C  6303625800  1.0       \n",
       "\n",
       "                                                                                                                                                                                                                sentence  \n",
       "0  Don't buy the 2008 MGM black and white version.                                                                                                                                                                        \n",
       "1  It is terrible, and it doesn't even deserve one star.The contrast is all off, especially throughout the later part of the film during the boogeyland sequences and the battle between the boogeymen and the soldiers.  "
      ]
     },
     "metadata": {},
     "output_type": "display_data"
    },
    {
     "data": {
      "text/markdown": [
       "### Dropped:"
      ],
      "text/plain": [
       "<IPython.core.display.Markdown object>"
      ]
     },
     "metadata": {},
     "output_type": "display_data"
    },
    {
     "data": {
      "text/html": [
       "<div>\n",
       "<style scoped>\n",
       "    .dataframe tbody tr th:only-of-type {\n",
       "        vertical-align: middle;\n",
       "    }\n",
       "\n",
       "    .dataframe tbody tr th {\n",
       "        vertical-align: top;\n",
       "    }\n",
       "\n",
       "    .dataframe thead th {\n",
       "        text-align: right;\n",
       "    }\n",
       "</style>\n",
       "<table border=\"1\" class=\"dataframe\">\n",
       "  <thead>\n",
       "    <tr style=\"text-align: right;\">\n",
       "      <th></th>\n",
       "      <th>reviewerID</th>\n",
       "      <th>asin</th>\n",
       "      <th>overall</th>\n",
       "      <th>sentence</th>\n",
       "    </tr>\n",
       "  </thead>\n",
       "  <tbody>\n",
       "    <tr>\n",
       "      <th>2</th>\n",
       "      <td>A7QI46JO51R4C</td>\n",
       "      <td>6303625800</td>\n",
       "      <td>1.0</td>\n",
       "      <td>Whoever edited this needs to get their head examined.</td>\n",
       "    </tr>\n",
       "  </tbody>\n",
       "</table>\n",
       "</div>"
      ],
      "text/plain": [
       "      reviewerID        asin  overall  \\\n",
       "2  A7QI46JO51R4C  6303625800  1.0       \n",
       "\n",
       "                                                sentence  \n",
       "2  Whoever edited this needs to get their head examined.  "
      ]
     },
     "metadata": {},
     "output_type": "display_data"
    },
    {
     "data": {
      "text/markdown": [
       "#### => Removed 1 (33%) obj sentences"
      ],
      "text/plain": [
       "<IPython.core.display.Markdown object>"
      ]
     },
     "metadata": {},
     "output_type": "display_data"
    },
    {
     "name": "stdout",
     "output_type": "stream",
     "text": [
      "length 4\n",
      "3\n",
      "[3 1 2]\n"
     ]
    },
    {
     "name": "stderr",
     "output_type": "stream",
     "text": [
      "../subjective_filter.py:19: SettingWithCopyWarning: \n",
      "A value is trying to be set on a copy of a slice from a DataFrame.\n",
      "Try using .loc[row_indexer,col_indexer] = value instead\n",
      "\n",
      "See the caveats in the documentation: http://pandas.pydata.org/pandas-docs/stable/indexing.html#indexing-view-versus-copy\n",
      "  df['sentence'] = df['reviewText'].map(sent_tokenize)\n"
     ]
    },
    {
     "data": {
      "text/markdown": [
       "### Kept:"
      ],
      "text/plain": [
       "<IPython.core.display.Markdown object>"
      ]
     },
     "metadata": {},
     "output_type": "display_data"
    },
    {
     "data": {
      "text/html": [
       "<div>\n",
       "<style scoped>\n",
       "    .dataframe tbody tr th:only-of-type {\n",
       "        vertical-align: middle;\n",
       "    }\n",
       "\n",
       "    .dataframe tbody tr th {\n",
       "        vertical-align: top;\n",
       "    }\n",
       "\n",
       "    .dataframe thead th {\n",
       "        text-align: right;\n",
       "    }\n",
       "</style>\n",
       "<table border=\"1\" class=\"dataframe\">\n",
       "  <thead>\n",
       "    <tr style=\"text-align: right;\">\n",
       "      <th></th>\n",
       "      <th>reviewerID</th>\n",
       "      <th>asin</th>\n",
       "      <th>overall</th>\n",
       "      <th>sentence</th>\n",
       "    </tr>\n",
       "  </thead>\n",
       "  <tbody>\n",
       "    <tr>\n",
       "      <th>3</th>\n",
       "      <td>A2D832OA6Q5ZAS</td>\n",
       "      <td>B00005QFFP</td>\n",
       "      <td>4.0</td>\n",
       "      <td>Overall, I am delighted with this video.</td>\n",
       "    </tr>\n",
       "    <tr>\n",
       "      <th>1</th>\n",
       "      <td>A2D832OA6Q5ZAS</td>\n",
       "      <td>B00005QFFP</td>\n",
       "      <td>4.0</td>\n",
       "      <td>Like a great actress, she dissolves into her role, and yet her voice and style are easily recognizable for the effortless simplicity with which she nails every note and figure.</td>\n",
       "    </tr>\n",
       "    <tr>\n",
       "      <th>2</th>\n",
       "      <td>A2D832OA6Q5ZAS</td>\n",
       "      <td>B00005QFFP</td>\n",
       "      <td>4.0</td>\n",
       "      <td>I wish they could have taped in color in those days, and I would have liked to see her perform more examples of the coloratura repertoire and less of the popular romantic themes.</td>\n",
       "    </tr>\n",
       "  </tbody>\n",
       "</table>\n",
       "</div>"
      ],
      "text/plain": [
       "       reviewerID        asin  overall  \\\n",
       "3  A2D832OA6Q5ZAS  B00005QFFP  4.0       \n",
       "1  A2D832OA6Q5ZAS  B00005QFFP  4.0       \n",
       "2  A2D832OA6Q5ZAS  B00005QFFP  4.0       \n",
       "\n",
       "                                                                                                                                                                             sentence  \n",
       "3  Overall, I am delighted with this video.                                                                                                                                            \n",
       "1  Like a great actress, she dissolves into her role, and yet her voice and style are easily recognizable for the effortless simplicity with which she nails every note and figure.    \n",
       "2  I wish they could have taped in color in those days, and I would have liked to see her perform more examples of the coloratura repertoire and less of the popular romantic themes.  "
      ]
     },
     "metadata": {},
     "output_type": "display_data"
    },
    {
     "data": {
      "text/markdown": [
       "### Dropped:"
      ],
      "text/plain": [
       "<IPython.core.display.Markdown object>"
      ]
     },
     "metadata": {},
     "output_type": "display_data"
    },
    {
     "data": {
      "text/html": [
       "<div>\n",
       "<style scoped>\n",
       "    .dataframe tbody tr th:only-of-type {\n",
       "        vertical-align: middle;\n",
       "    }\n",
       "\n",
       "    .dataframe tbody tr th {\n",
       "        vertical-align: top;\n",
       "    }\n",
       "\n",
       "    .dataframe thead th {\n",
       "        text-align: right;\n",
       "    }\n",
       "</style>\n",
       "<table border=\"1\" class=\"dataframe\">\n",
       "  <thead>\n",
       "    <tr style=\"text-align: right;\">\n",
       "      <th></th>\n",
       "      <th>reviewerID</th>\n",
       "      <th>asin</th>\n",
       "      <th>overall</th>\n",
       "      <th>sentence</th>\n",
       "    </tr>\n",
       "  </thead>\n",
       "  <tbody>\n",
       "    <tr>\n",
       "      <th>0</th>\n",
       "      <td>A2D832OA6Q5ZAS</td>\n",
       "      <td>B00005QFFP</td>\n",
       "      <td>4.0</td>\n",
       "      <td>What a pleasure to see this peerless diva perform -- she is the purest example of her art that I have ever known.</td>\n",
       "    </tr>\n",
       "  </tbody>\n",
       "</table>\n",
       "</div>"
      ],
      "text/plain": [
       "       reviewerID        asin  overall  \\\n",
       "0  A2D832OA6Q5ZAS  B00005QFFP  4.0       \n",
       "\n",
       "                                                                                                            sentence  \n",
       "0  What a pleasure to see this peerless diva perform -- she is the purest example of her art that I have ever known.  "
      ]
     },
     "metadata": {},
     "output_type": "display_data"
    },
    {
     "data": {
      "text/markdown": [
       "#### => Removed 1 (25%) obj sentences"
      ],
      "text/plain": [
       "<IPython.core.display.Markdown object>"
      ]
     },
     "metadata": {},
     "output_type": "display_data"
    },
    {
     "name": "stderr",
     "output_type": "stream",
     "text": [
      "../subjective_filter.py:19: SettingWithCopyWarning: \n",
      "A value is trying to be set on a copy of a slice from a DataFrame.\n",
      "Try using .loc[row_indexer,col_indexer] = value instead\n",
      "\n",
      "See the caveats in the documentation: http://pandas.pydata.org/pandas-docs/stable/indexing.html#indexing-view-versus-copy\n",
      "  df['sentence'] = df['reviewText'].map(sent_tokenize)\n"
     ]
    },
    {
     "name": "stdout",
     "output_type": "stream",
     "text": [
      "length 2\n",
      "2\n",
      "skipping this review, not enough sentences\n",
      "No data for test negative\n"
     ]
    }
   ],
   "source": [
    "%reload_ext autoreload\n",
    "from subjective_filter import SubjectiveFilter\n",
    "\n",
    "REMOVE = 'obj'\n",
    "REMOVE_FRACTION = 1/4\n",
    "CHUNK_SZ = 1\n",
    "\n",
    "sent_dfs = {'train':{},'test':{}}\n",
    "nb_sentences_removed = 0\n",
    "\n",
    "for ttname, tt in test_dic.items():\n",
    "    for pn, df in tt.items():\n",
    "        df_list = []\n",
    "        start = 0\n",
    "        while start < df.shape[0]:\n",
    "            end = start + CHUNK_SZ\n",
    "            df1 = df.iloc[start:end,:]\n",
    "            df2 = subj_filter.to_one_sent_per_row(df1)\n",
    "            df3, removed = subj_filter.transform(\n",
    "                    df2,\n",
    "                    'sentence', \n",
    "                    remove_fraction = REMOVE_FRACTION,\n",
    "                    debug_level=0,\n",
    "                    remove=REMOVE)\n",
    "            if removed == -1:\n",
    "                start = end\n",
    "                continue\n",
    "            df_list.append(df3)\n",
    "            nb_sentences_removed += removed\n",
    "            start = end\n",
    "\n",
    "        if len(df_list) == 0:\n",
    "            sent_dfs[ttname][pn] = None\n",
    "            print('No reviews for {} {}'.format(ttname, pn))\n",
    "            continue\n",
    "        sent_dfs[ttname][pn] = df_list.pop()\n",
    "        while len(df_list) > 0:\n",
    "            sent_dfs[ttname][pn] = pd.merge(df_list.pop(), \n",
    "                                            sent_dfs[ttname][pn], how='outer')\n",
    "#         res[ttname][pn] = reduce(lambda x, y: pd.merge(x, y, on = ['reviewerID','asin']), dfList)\n"
   ]
  },
  {
   "cell_type": "code",
   "execution_count": 35,
   "metadata": {},
   "outputs": [
    {
     "data": {
      "text/markdown": [
       "### 8 sentences removed"
      ],
      "text/plain": [
       "<IPython.core.display.Markdown object>"
      ]
     },
     "metadata": {},
     "output_type": "display_data"
    }
   ],
   "source": [
    "display(Markdown('### {} sentences removed'.format(nb_sentences_removed)))"
   ]
  },
  {
   "cell_type": "code",
   "execution_count": 32,
   "metadata": {},
   "outputs": [
    {
     "data": {
      "text/html": [
       "<div>\n",
       "<style scoped>\n",
       "    .dataframe tbody tr th:only-of-type {\n",
       "        vertical-align: middle;\n",
       "    }\n",
       "\n",
       "    .dataframe tbody tr th {\n",
       "        vertical-align: top;\n",
       "    }\n",
       "\n",
       "    .dataframe thead th {\n",
       "        text-align: right;\n",
       "    }\n",
       "</style>\n",
       "<table border=\"1\" class=\"dataframe\">\n",
       "  <thead>\n",
       "    <tr style=\"text-align: right;\">\n",
       "      <th></th>\n",
       "      <th>reviewerID</th>\n",
       "      <th>asin</th>\n",
       "      <th>sentence</th>\n",
       "      <th>overall</th>\n",
       "    </tr>\n",
       "  </thead>\n",
       "  <tbody>\n",
       "    <tr>\n",
       "      <th>0</th>\n",
       "      <td>A32244V7CQUBD6</td>\n",
       "      <td>B00005QFEK</td>\n",
       "      <td>It's still pretty entertaining but if you are mostly interested in Kirsta Allen then you should know that she's not really in much of this episode. This video actually focuses mostly on one of the characters that Emmanuelle (Krista Allen) is trying to teach about sex &amp; love.</td>\n",
       "      <td>4.0</td>\n",
       "    </tr>\n",
       "  </tbody>\n",
       "</table>\n",
       "</div>"
      ],
      "text/plain": [
       "       reviewerID        asin  \\\n",
       "0  A32244V7CQUBD6  B00005QFEK   \n",
       "\n",
       "                                                                                                                                                                                                                                                                               sentence  \\\n",
       "0   It's still pretty entertaining but if you are mostly interested in Kirsta Allen then you should know that she's not really in much of this episode. This video actually focuses mostly on one of the characters that Emmanuelle (Krista Allen) is trying to teach about sex & love.   \n",
       "\n",
       "   overall  \n",
       "0  4.0      "
      ]
     },
     "execution_count": 32,
     "metadata": {},
     "output_type": "execute_result"
    }
   ],
   "source": [
    "df1 = sent_dfs['train']['positive']\n",
    "df1[(df1['reviewerID'] == 'A32244V7CQUBD6') & (df1['asin'] == 'B00005QFEK')]"
   ]
  },
  {
   "cell_type": "code",
   "execution_count": 33,
   "metadata": {},
   "outputs": [
    {
     "data": {
      "text/html": [
       "<div>\n",
       "<style scoped>\n",
       "    .dataframe tbody tr th:only-of-type {\n",
       "        vertical-align: middle;\n",
       "    }\n",
       "\n",
       "    .dataframe tbody tr th {\n",
       "        vertical-align: top;\n",
       "    }\n",
       "\n",
       "    .dataframe thead th {\n",
       "        text-align: right;\n",
       "    }\n",
       "</style>\n",
       "<table border=\"1\" class=\"dataframe\">\n",
       "  <thead>\n",
       "    <tr style=\"text-align: right;\">\n",
       "      <th></th>\n",
       "      <th>reviewerID</th>\n",
       "      <th>asin</th>\n",
       "      <th>sentence</th>\n",
       "      <th>overall</th>\n",
       "    </tr>\n",
       "  </thead>\n",
       "  <tbody>\n",
       "    <tr>\n",
       "      <th>0</th>\n",
       "      <td>A32244V7CQUBD6</td>\n",
       "      <td>B00005QFEK</td>\n",
       "      <td>It's still pretty entertaining but if you are mostly interested in Kirsta Allen then you should know that she's not really in much of this episode. This video actually focuses mostly on one of the characters that Emmanuelle (Krista Allen) is trying to teach about sex &amp; love.</td>\n",
       "      <td>4.0</td>\n",
       "    </tr>\n",
       "    <tr>\n",
       "      <th>1</th>\n",
       "      <td>A32244V7CQUBD6</td>\n",
       "      <td>B00005QFEN</td>\n",
       "      <td>This episode pretty much has Hafron and Emmanuelle teleporting to different parts of the world and &amp;quot;doing it&amp;quot;. Otherwise, this episode is mostly sex scenes. That's the main reason for Emmanuelle and Hafron to jump to different parts of the world. There is the continuing plot from an earlier episode of some group on Earth trying to track them down.</td>\n",
       "      <td>4.0</td>\n",
       "    </tr>\n",
       "    <tr>\n",
       "      <th>2</th>\n",
       "      <td>A33KKMGGVLZ29T</td>\n",
       "      <td>B00005QFER</td>\n",
       "      <td>The Rare Tribal Mob and the Mirabal Singers/Dancers are great and provide a mesmerising stage performance.Very enjoyable This is an intimate concert of Robert Mirabal. Although I thought that it was, as I said, masterful, the sound, at times sounded a little muffled.The storytelling of the songs gave an insight of native culture and of Mirabal's own family stories and history.The Dance and Ee You Oo are my picks for the best songs, but they are all a joy to watch.</td>\n",
       "      <td>4.0</td>\n",
       "    </tr>\n",
       "  </tbody>\n",
       "</table>\n",
       "</div>"
      ],
      "text/plain": [
       "       reviewerID        asin  \\\n",
       "0  A32244V7CQUBD6  B00005QFEK   \n",
       "1  A32244V7CQUBD6  B00005QFEN   \n",
       "2  A33KKMGGVLZ29T  B00005QFER   \n",
       "\n",
       "                                                                                                                                                                                                                                                                                                                                                                                                                                                                                sentence  \\\n",
       "0   It's still pretty entertaining but if you are mostly interested in Kirsta Allen then you should know that she's not really in much of this episode. This video actually focuses mostly on one of the characters that Emmanuelle (Krista Allen) is trying to teach about sex & love.                                                                                                                                                                                                    \n",
       "1   This episode pretty much has Hafron and Emmanuelle teleporting to different parts of the world and &quot;doing it&quot;. Otherwise, this episode is mostly sex scenes. That's the main reason for Emmanuelle and Hafron to jump to different parts of the world. There is the continuing plot from an earlier episode of some group on Earth trying to track them down.                                                                                                                \n",
       "2   The Rare Tribal Mob and the Mirabal Singers/Dancers are great and provide a mesmerising stage performance.Very enjoyable This is an intimate concert of Robert Mirabal. Although I thought that it was, as I said, masterful, the sound, at times sounded a little muffled.The storytelling of the songs gave an insight of native culture and of Mirabal's own family stories and history.The Dance and Ee You Oo are my picks for the best songs, but they are all a joy to watch.   \n",
       "\n",
       "   overall  \n",
       "0  4.0      \n",
       "1  4.0      \n",
       "2  4.0      "
      ]
     },
     "metadata": {},
     "output_type": "display_data"
    },
    {
     "data": {
      "text/html": [
       "<div>\n",
       "<style scoped>\n",
       "    .dataframe tbody tr th:only-of-type {\n",
       "        vertical-align: middle;\n",
       "    }\n",
       "\n",
       "    .dataframe tbody tr th {\n",
       "        vertical-align: top;\n",
       "    }\n",
       "\n",
       "    .dataframe thead th {\n",
       "        text-align: right;\n",
       "    }\n",
       "</style>\n",
       "<table border=\"1\" class=\"dataframe\">\n",
       "  <thead>\n",
       "    <tr style=\"text-align: right;\">\n",
       "      <th></th>\n",
       "      <th>reviewerID</th>\n",
       "      <th>asin</th>\n",
       "      <th>sentence</th>\n",
       "      <th>overall</th>\n",
       "    </tr>\n",
       "  </thead>\n",
       "  <tbody>\n",
       "    <tr>\n",
       "      <th>0</th>\n",
       "      <td>A3CFT5LHFCB46K</td>\n",
       "      <td>630362572X</td>\n",
       "      <td>I know it's a Godzilla film, but did it need to be this bad? If this was the film that made Godzilla famous, he should have been assassinated.Indeed this film will leave you thinking after you leave the theater: Why did I waste my time on this? Have tea and crumpets?Speaking of Kong, I have seen costumes that look better than this Kong suit. This film is truly a classic of cinema that will leave you thinking long after you leave the theater.Wait. For a true classic of monster cinema, King Kong, the original Godzilla or Godzilla 1985 are better choices than this pile of ... Get that one if you can). That's my review for 2001: A Space Odyssey.Here's what I really think of King Kong vs. Godzilla.A thousand words cannot describe my dislike of the film. It starts off good, with an excellent piece of music at the beginning credits. He \"communicates\" with people in Japan via a satellite that looks more like a first grade science project than visual effects. He constantly tells us that \"Godzilla is heading for Japan\" or \"King Kong and Godzilla will battle.\" After all, this is the American version of the movie and we always [mess] with perfection. It is referred to as the film that \"...Lifted Godzilla from the swelling ranks of interchangeable atomic monsters of the fifties and placed him among the pantheon of cinema creatures\". Or make better costumes or etc, etc. Too bad the Japanese did not use stop motion animation. In the book The Official Godzilla Compendium, King Kong Vs Godzilla is described as \"The Jaws of the Japanese film Industry\" or \"One of the great monster battles of cinema history\". (Note: Perhaps my criticism was a bit harsh. The main battles themselves are also letdowns.It was a grand idea that Toho had: Pitting two titans of cinema against each other. Also, doesn't anyone else notice that the islands of the first Godzilla movies (The '50s to the '70s) always look the same? The acting is top notch. The special effects are incredible! I would also rather listen to Celine Dion and Elton John do a music number together than listen to Kong roar. Or make a Kong/Godzilla rematch. What do you think King Kong and Godzilla will do? Duh! All he was put in for was to make the film longer and annoy us. Godzilla appears just fine, except for the fact he's afraid of thermal energy (Didn't he tear down an electrical fence in 1954 with ease?).</td>\n",
       "      <td>1.0</td>\n",
       "    </tr>\n",
       "    <tr>\n",
       "      <th>1</th>\n",
       "      <td>A1O2XS7W1TUI13</td>\n",
       "      <td>630362572X</td>\n",
       "      <td>This isn't the '80's any more, is it? Boycott rip-offs like this! Why would someone buy this pan &amp; scan trash? do yourself a favor and recycle it!! The igonorance of some of these companies is overwhelming.</td>\n",
       "      <td>1.0</td>\n",
       "    </tr>\n",
       "    <tr>\n",
       "      <th>2</th>\n",
       "      <td>A2UMZUR8VFEOYB</td>\n",
       "      <td>6303625800</td>\n",
       "      <td>I wanted to watch with my grandson, but was so disappointed.Story line and content at times was terrible. Could never compare to theWizard of Oz.</td>\n",
       "      <td>1.0</td>\n",
       "    </tr>\n",
       "  </tbody>\n",
       "</table>\n",
       "</div>"
      ],
      "text/plain": [
       "       reviewerID        asin  \\\n",
       "0  A3CFT5LHFCB46K  630362572X   \n",
       "1  A1O2XS7W1TUI13  630362572X   \n",
       "2  A2UMZUR8VFEOYB  6303625800   \n",
       "\n",
       "                                                                                                                                                                                                                                                                                                                                                                                                                                                                                                                                                                                                                                                                                                                                                                                                                                                                                                                                                                                                                                                                                                                                                                                                                                                                                                                                                                                                                                                                                                                                                                                                                                                                                                                                                                                                                                                                                                                                                                                                                                                                                                                                                                                                                                                                                                                                                                                                                                                                      sentence  \\\n",
       "0   I know it's a Godzilla film, but did it need to be this bad? If this was the film that made Godzilla famous, he should have been assassinated.Indeed this film will leave you thinking after you leave the theater: Why did I waste my time on this? Have tea and crumpets?Speaking of Kong, I have seen costumes that look better than this Kong suit. This film is truly a classic of cinema that will leave you thinking long after you leave the theater.Wait. For a true classic of monster cinema, King Kong, the original Godzilla or Godzilla 1985 are better choices than this pile of ... Get that one if you can). That's my review for 2001: A Space Odyssey.Here's what I really think of King Kong vs. Godzilla.A thousand words cannot describe my dislike of the film. It starts off good, with an excellent piece of music at the beginning credits. He \"communicates\" with people in Japan via a satellite that looks more like a first grade science project than visual effects. He constantly tells us that \"Godzilla is heading for Japan\" or \"King Kong and Godzilla will battle.\" After all, this is the American version of the movie and we always [mess] with perfection. It is referred to as the film that \"...Lifted Godzilla from the swelling ranks of interchangeable atomic monsters of the fifties and placed him among the pantheon of cinema creatures\". Or make better costumes or etc, etc. Too bad the Japanese did not use stop motion animation. In the book The Official Godzilla Compendium, King Kong Vs Godzilla is described as \"The Jaws of the Japanese film Industry\" or \"One of the great monster battles of cinema history\". (Note: Perhaps my criticism was a bit harsh. The main battles themselves are also letdowns.It was a grand idea that Toho had: Pitting two titans of cinema against each other. Also, doesn't anyone else notice that the islands of the first Godzilla movies (The '50s to the '70s) always look the same? The acting is top notch. The special effects are incredible! I would also rather listen to Celine Dion and Elton John do a music number together than listen to Kong roar. Or make a Kong/Godzilla rematch. What do you think King Kong and Godzilla will do? Duh! All he was put in for was to make the film longer and annoy us. Godzilla appears just fine, except for the fact he's afraid of thermal energy (Didn't he tear down an electrical fence in 1954 with ease?).   \n",
       "1   This isn't the '80's any more, is it? Boycott rip-offs like this! Why would someone buy this pan & scan trash? do yourself a favor and recycle it!! The igonorance of some of these companies is overwhelming.                                                                                                                                                                                                                                                                                                                                                                                                                                                                                                                                                                                                                                                                                                                                                                                                                                                                                                                                                                                                                                                                                                                                                                                                                                                                                                                                                                                                                                                                                                                                                                                                                                                                                                                                                                                                                                                                                                                                                                                                                                                                                                                                                                                                                                                               \n",
       "2   I wanted to watch with my grandson, but was so disappointed.Story line and content at times was terrible. Could never compare to theWizard of Oz.                                                                                                                                                                                                                                                                                                                                                                                                                                                                                                                                                                                                                                                                                                                                                                                                                                                                                                                                                                                                                                                                                                                                                                                                                                                                                                                                                                                                                                                                                                                                                                                                                                                                                                                                                                                                                                                                                                                                                                                                                                                                                                                                                                                                                                                                                                                            \n",
       "\n",
       "   overall  \n",
       "0  1.0      \n",
       "1  1.0      \n",
       "2  1.0      "
      ]
     },
     "metadata": {},
     "output_type": "display_data"
    },
    {
     "data": {
      "text/html": [
       "<div>\n",
       "<style scoped>\n",
       "    .dataframe tbody tr th:only-of-type {\n",
       "        vertical-align: middle;\n",
       "    }\n",
       "\n",
       "    .dataframe tbody tr th {\n",
       "        vertical-align: top;\n",
       "    }\n",
       "\n",
       "    .dataframe thead th {\n",
       "        text-align: right;\n",
       "    }\n",
       "</style>\n",
       "<table border=\"1\" class=\"dataframe\">\n",
       "  <thead>\n",
       "    <tr style=\"text-align: right;\">\n",
       "      <th></th>\n",
       "      <th>reviewerID</th>\n",
       "      <th>asin</th>\n",
       "      <th>sentence</th>\n",
       "      <th>overall</th>\n",
       "    </tr>\n",
       "  </thead>\n",
       "  <tbody>\n",
       "    <tr>\n",
       "      <th>0</th>\n",
       "      <td>A2D832OA6Q5ZAS</td>\n",
       "      <td>B00005QFFP</td>\n",
       "      <td>Overall, I am delighted with this video. Like a great actress, she dissolves into her role, and yet her voice and style are easily recognizable for the effortless simplicity with which she nails every note and figure. I wish they could have taped in color in those days, and I would have liked to see her perform more examples of the coloratura repertoire and less of the popular romantic themes. What a pleasure to see this peerless diva perform -- she is the purest example of her art that I have ever known.</td>\n",
       "      <td>4.0</td>\n",
       "    </tr>\n",
       "  </tbody>\n",
       "</table>\n",
       "</div>"
      ],
      "text/plain": [
       "       reviewerID        asin  \\\n",
       "0  A2D832OA6Q5ZAS  B00005QFFP   \n",
       "\n",
       "                                                                                                                                                                                                                                                                                                                                                                                                                                                                                                                          sentence  \\\n",
       "0   Overall, I am delighted with this video. Like a great actress, she dissolves into her role, and yet her voice and style are easily recognizable for the effortless simplicity with which she nails every note and figure. I wish they could have taped in color in those days, and I would have liked to see her perform more examples of the coloratura repertoire and less of the popular romantic themes. What a pleasure to see this peerless diva perform -- she is the purest example of her art that I have ever known.   \n",
       "\n",
       "   overall  \n",
       "0  4.0      "
      ]
     },
     "metadata": {},
     "output_type": "display_data"
    },
    {
     "data": {
      "text/html": [
       "<div>\n",
       "<style scoped>\n",
       "    .dataframe tbody tr th:only-of-type {\n",
       "        vertical-align: middle;\n",
       "    }\n",
       "\n",
       "    .dataframe tbody tr th {\n",
       "        vertical-align: top;\n",
       "    }\n",
       "\n",
       "    .dataframe thead th {\n",
       "        text-align: right;\n",
       "    }\n",
       "</style>\n",
       "<table border=\"1\" class=\"dataframe\">\n",
       "  <thead>\n",
       "    <tr style=\"text-align: right;\">\n",
       "      <th></th>\n",
       "      <th>reviewerID</th>\n",
       "      <th>asin</th>\n",
       "      <th>sentence</th>\n",
       "      <th>overall</th>\n",
       "    </tr>\n",
       "  </thead>\n",
       "  <tbody>\n",
       "    <tr>\n",
       "      <th>0</th>\n",
       "      <td>A175U4QHQUXC69</td>\n",
       "      <td>6303625800</td>\n",
       "      <td>The DVD would not play anything but the selection page for color or black and white version. Only the introduction music plays</td>\n",
       "      <td>1.0</td>\n",
       "    </tr>\n",
       "  </tbody>\n",
       "</table>\n",
       "</div>"
      ],
      "text/plain": [
       "       reviewerID        asin  \\\n",
       "0  A175U4QHQUXC69  6303625800   \n",
       "\n",
       "                                                                                                                          sentence  \\\n",
       "0   The DVD would not play anything but the selection page for color or black and white version. Only the introduction music plays   \n",
       "\n",
       "   overall  \n",
       "0  1.0      "
      ]
     },
     "metadata": {},
     "output_type": "display_data"
    }
   ],
   "source": [
    "for ttname, tt in sent_dfs.items():\n",
    "    for pn, df in tt.items():\n",
    "        display(df.head(3))"
   ]
  },
  {
   "cell_type": "code",
   "execution_count": null,
   "metadata": {},
   "outputs": [],
   "source": [
    "# df1 = sent_dfs['train']['positive']\n",
    "# df1[(df1['reviewerID'] == 'A32244V7CQUBD6') & (df1['asin'] == 'B00005QFEK')]\n",
    "# df1"
   ]
  },
  {
   "cell_type": "code",
   "execution_count": null,
   "metadata": {},
   "outputs": [],
   "source": [
    "subj_dfs = sent_dfs"
   ]
  },
  {
   "cell_type": "code",
   "execution_count": null,
   "metadata": {},
   "outputs": [],
   "source": [
    "total = 0\n",
    "old_total = 0\n",
    "for tt in ['train', 'test']:\n",
    "    for pn in ['positive', 'negative']:\n",
    "        print('\\n {} {}'.format(tt,pn))\n",
    "        tot = test_dic[tt][pn].shape[0]\n",
    "        new = subj_dfs[tt][pn].shape[0]\n",
    "        dropped = tot - new\n",
    "        print('Dropped: {0} ({1:.1%})'.format(dropped, dropped/tot))\n",
    "        total += new\n",
    "        old_total += tot\n",
    "print('\\nOld total:', old_total)\n",
    "print('New total:', total)\n",
    "print('Removed a total of:', old_total - total, 'reviews')"
   ]
  },
  {
   "cell_type": "code",
   "execution_count": null,
   "metadata": {},
   "outputs": [],
   "source": [
    "pickle_out = open(data_path\n",
    "                    + 'reviews_wout_most_subj_' + str(int(round(DROP_RATIO * 100))) + '_B.pkl'\n",
    "                    , \"wb\")\n",
    "pickle.dump(subj_dfs, pickle_out)\n",
    "pickle_out.close()"
   ]
  },
  {
   "cell_type": "markdown",
   "metadata": {},
   "source": [
    "## Prep A_dic"
   ]
  },
  {
   "cell_type": "code",
   "execution_count": null,
   "metadata": {},
   "outputs": [],
   "source": [
    "A_dic = {'train': {}, 'test':{}}\n",
    "\n",
    "for tt in ['train', 'test']:\n",
    "    for pn in ['positive', 'negative']:\n",
    "        df = test_dic[tt][pn]\n",
    "        A_dic[tt][pn] = df[df['asin'].isin(subj_dfs[tt][pn]['asin'])]"
   ]
  },
  {
   "cell_type": "code",
   "execution_count": null,
   "metadata": {},
   "outputs": [],
   "source": [
    "total = 0\n",
    "old_total = 0\n",
    "for tt in ['train', 'test']:\n",
    "    for pn in ['positive', 'negative']:\n",
    "        print('\\n {} {}'.format(tt,pn))\n",
    "        tot = A_dic[tt][pn].shape[0]\n",
    "        new = subj_dfs[tt][pn].shape[0]\n",
    "        dropped = tot - new\n",
    "        print('Dropped: {0} ({1:.1%})'.format(dropped, dropped/tot))\n",
    "        total += new\n",
    "        old_total += tot\n",
    "print('\\nOld total:', old_total)\n",
    "print('New total:', total)\n",
    "print('Removed a total of:', old_total - total, 'reviews')"
   ]
  },
  {
   "cell_type": "code",
   "execution_count": null,
   "metadata": {},
   "outputs": [],
   "source": [
    "pickle_out = open(data_path\n",
    "                    + 'reviews_wout_most_subj_' + str(int(round(DROP_RATIO * 100))) + '_A.pkl'\n",
    "                    , \"wb\")\n",
    "pickle.dump(A_dic, pickle_out)\n",
    "pickle_out.close()"
   ]
  }
 ],
 "metadata": {
  "kernelspec": {
   "display_name": "Python 3",
   "language": "python",
   "name": "python3"
  },
  "language_info": {
   "codemirror_mode": {
    "name": "ipython",
    "version": 3
   },
   "file_extension": ".py",
   "mimetype": "text/x-python",
   "name": "python",
   "nbconvert_exporter": "python",
   "pygments_lexer": "ipython3",
   "version": "3.7.3"
  }
 },
 "nbformat": 4,
 "nbformat_minor": 2
}
