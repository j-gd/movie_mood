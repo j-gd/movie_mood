{
 "cells": [
  {
   "cell_type": "code",
   "execution_count": 20,
   "metadata": {},
   "outputs": [],
   "source": [
    "import numpy as np\n",
    "import pandas as pd\n",
    "import pickle\n",
    "import gzip\n",
    "import math\n",
    "import random\n",
    "\n",
    "data_path = '../../datasets/'"
   ]
  },
  {
   "cell_type": "code",
   "execution_count": 9,
   "metadata": {},
   "outputs": [],
   "source": [
    "pickle_in = open(data_path + \"amzn_200k.pickle\",\"rb\")\n",
    "comments_df = pickle.load(pickle_in)"
   ]
  },
  {
   "cell_type": "code",
   "execution_count": 10,
   "metadata": {},
   "outputs": [
    {
     "data": {
      "text/html": [
       "<div>\n",
       "<style scoped>\n",
       "    .dataframe tbody tr th:only-of-type {\n",
       "        vertical-align: middle;\n",
       "    }\n",
       "\n",
       "    .dataframe tbody tr th {\n",
       "        vertical-align: top;\n",
       "    }\n",
       "\n",
       "    .dataframe thead th {\n",
       "        text-align: right;\n",
       "    }\n",
       "</style>\n",
       "<table border=\"1\" class=\"dataframe\">\n",
       "  <thead>\n",
       "    <tr style=\"text-align: right;\">\n",
       "      <th></th>\n",
       "      <th>reviewerID</th>\n",
       "      <th>asin</th>\n",
       "      <th>reviewerName</th>\n",
       "      <th>helpful</th>\n",
       "      <th>reviewText</th>\n",
       "      <th>overall</th>\n",
       "      <th>summary</th>\n",
       "      <th>unixReviewTime</th>\n",
       "      <th>reviewTime</th>\n",
       "    </tr>\n",
       "  </thead>\n",
       "  <tbody>\n",
       "    <tr>\n",
       "      <th>0</th>\n",
       "      <td>A3R5OBKS7OM2IR</td>\n",
       "      <td>0000143502</td>\n",
       "      <td>Rebecca L. Johnson</td>\n",
       "      <td>[0, 0]</td>\n",
       "      <td>This has some great tips as always and is help...</td>\n",
       "      <td>5.0</td>\n",
       "      <td>Alton... nough said</td>\n",
       "      <td>1358380800</td>\n",
       "      <td>01 17, 2013</td>\n",
       "    </tr>\n",
       "    <tr>\n",
       "      <th>1</th>\n",
       "      <td>A3R5OBKS7OM2IR</td>\n",
       "      <td>0000143529</td>\n",
       "      <td>Rebecca L. Johnson</td>\n",
       "      <td>[0, 0]</td>\n",
       "      <td>This is a great pastry guide.  I love how Alto...</td>\n",
       "      <td>5.0</td>\n",
       "      <td>Ah Alton...</td>\n",
       "      <td>1380672000</td>\n",
       "      <td>10 2, 2013</td>\n",
       "    </tr>\n",
       "    <tr>\n",
       "      <th>2</th>\n",
       "      <td>AH3QC2PC1VTGP</td>\n",
       "      <td>0000143561</td>\n",
       "      <td>Great Home Cook</td>\n",
       "      <td>[2, 4]</td>\n",
       "      <td>I have to admit that I am a fan of Giada's coo...</td>\n",
       "      <td>2.0</td>\n",
       "      <td>Don't waste your money</td>\n",
       "      <td>1216252800</td>\n",
       "      <td>07 17, 2008</td>\n",
       "    </tr>\n",
       "    <tr>\n",
       "      <th>3</th>\n",
       "      <td>A3LKP6WPMP9UKX</td>\n",
       "      <td>0000143588</td>\n",
       "      <td>Anna V. Carroll</td>\n",
       "      <td>[9, 9]</td>\n",
       "      <td>I bought these two volumes new and spent over ...</td>\n",
       "      <td>5.0</td>\n",
       "      <td>VOLUME 1 &amp; VOLUME 2-BETTER THAN THERAPY</td>\n",
       "      <td>1236902400</td>\n",
       "      <td>03 13, 2009</td>\n",
       "    </tr>\n",
       "    <tr>\n",
       "      <th>4</th>\n",
       "      <td>AVIY68KEPQ5ZD</td>\n",
       "      <td>0000143588</td>\n",
       "      <td>Rebecca Millington</td>\n",
       "      <td>[1, 4]</td>\n",
       "      <td>I am very pleased with the dvd only wish i cou...</td>\n",
       "      <td>5.0</td>\n",
       "      <td>Barefoot Contesst Vol 2</td>\n",
       "      <td>1232236800</td>\n",
       "      <td>01 18, 2009</td>\n",
       "    </tr>\n",
       "  </tbody>\n",
       "</table>\n",
       "</div>"
      ],
      "text/plain": [
       "       reviewerID        asin        reviewerName helpful  \\\n",
       "0  A3R5OBKS7OM2IR  0000143502  Rebecca L. Johnson  [0, 0]   \n",
       "1  A3R5OBKS7OM2IR  0000143529  Rebecca L. Johnson  [0, 0]   \n",
       "2   AH3QC2PC1VTGP  0000143561     Great Home Cook  [2, 4]   \n",
       "3  A3LKP6WPMP9UKX  0000143588     Anna V. Carroll  [9, 9]   \n",
       "4   AVIY68KEPQ5ZD  0000143588  Rebecca Millington  [1, 4]   \n",
       "\n",
       "                                          reviewText  overall  \\\n",
       "0  This has some great tips as always and is help...      5.0   \n",
       "1  This is a great pastry guide.  I love how Alto...      5.0   \n",
       "2  I have to admit that I am a fan of Giada's coo...      2.0   \n",
       "3  I bought these two volumes new and spent over ...      5.0   \n",
       "4  I am very pleased with the dvd only wish i cou...      5.0   \n",
       "\n",
       "                                   summary  unixReviewTime   reviewTime  \n",
       "0                      Alton... nough said      1358380800  01 17, 2013  \n",
       "1                              Ah Alton...      1380672000   10 2, 2013  \n",
       "2                   Don't waste your money      1216252800  07 17, 2008  \n",
       "3  VOLUME 1 & VOLUME 2-BETTER THAN THERAPY      1236902400  03 13, 2009  \n",
       "4                  Barefoot Contesst Vol 2      1232236800  01 18, 2009  "
      ]
     },
     "execution_count": 10,
     "metadata": {},
     "output_type": "execute_result"
    }
   ],
   "source": [
    "comments_df.head()"
   ]
  },
  {
   "cell_type": "code",
   "execution_count": 14,
   "metadata": {},
   "outputs": [
    {
     "data": {
      "text/plain": [
       "(12071, 9)"
      ]
     },
     "execution_count": 14,
     "metadata": {},
     "output_type": "execute_result"
    }
   ],
   "source": [
    "one_star = comments_df[comments_df['overall'] == 1]\n",
    "one_star.shape"
   ]
  },
  {
   "cell_type": "code",
   "execution_count": 15,
   "metadata": {},
   "outputs": [
    {
     "data": {
      "text/plain": [
       "(7853, 9)"
      ]
     },
     "execution_count": 15,
     "metadata": {},
     "output_type": "execute_result"
    }
   ],
   "source": [
    "two_star = comments_df[comments_df['overall'] == 2]\n",
    "two_star.shape"
   ]
  },
  {
   "cell_type": "code",
   "execution_count": 16,
   "metadata": {},
   "outputs": [
    {
     "data": {
      "text/plain": [
       "(14545, 9)"
      ]
     },
     "execution_count": 16,
     "metadata": {},
     "output_type": "execute_result"
    }
   ],
   "source": [
    "three_star = comments_df[comments_df['overall'] == 3]\n",
    "three_star.shape"
   ]
  },
  {
   "cell_type": "code",
   "execution_count": 17,
   "metadata": {},
   "outputs": [
    {
     "data": {
      "text/plain": [
       "(35433, 9)"
      ]
     },
     "execution_count": 17,
     "metadata": {},
     "output_type": "execute_result"
    }
   ],
   "source": [
    "four_star = comments_df[comments_df['overall'] == 4]\n",
    "four_star.shape"
   ]
  },
  {
   "cell_type": "code",
   "execution_count": 18,
   "metadata": {},
   "outputs": [
    {
     "data": {
      "text/plain": [
       "(130099, 9)"
      ]
     },
     "execution_count": 18,
     "metadata": {},
     "output_type": "execute_result"
    }
   ],
   "source": [
    "five_star = comments_df[comments_df['overall'] == 5]\n",
    "five_star.shape"
   ]
  },
  {
   "cell_type": "code",
   "execution_count": 28,
   "metadata": {},
   "outputs": [
    {
     "data": {
      "text/plain": [
       "(5000, 9)"
      ]
     },
     "execution_count": 28,
     "metadata": {},
     "output_type": "execute_result"
    }
   ],
   "source": [
    "one_star_5k = one_star.iloc[random.sample(range(one_star.shape[0]), 5000), :]\n",
    "one_star_5k.shape"
   ]
  },
  {
   "cell_type": "code",
   "execution_count": 31,
   "metadata": {},
   "outputs": [
    {
     "data": {
      "text/plain": [
       "(5000, 9)"
      ]
     },
     "execution_count": 31,
     "metadata": {},
     "output_type": "execute_result"
    }
   ],
   "source": [
    "two_star_5k = two_star.iloc[random.sample(range(two_star.shape[0]), 5000), :]\n",
    "two_star_5k.shape"
   ]
  },
  {
   "cell_type": "code",
   "execution_count": 32,
   "metadata": {},
   "outputs": [
    {
     "data": {
      "text/plain": [
       "(5000, 9)"
      ]
     },
     "execution_count": 32,
     "metadata": {},
     "output_type": "execute_result"
    }
   ],
   "source": [
    "three_star_5k = three_star.iloc[random.sample(range(three_star.shape[0]), 5000), :]\n",
    "three_star_5k.shape"
   ]
  },
  {
   "cell_type": "code",
   "execution_count": 35,
   "metadata": {},
   "outputs": [
    {
     "data": {
      "text/plain": [
       "(5000, 9)"
      ]
     },
     "execution_count": 35,
     "metadata": {},
     "output_type": "execute_result"
    }
   ],
   "source": [
    "four_star_5k = four_star.iloc[random.sample(range(four_star.shape[0]), 5000), :]\n",
    "four_star_5k.shape"
   ]
  },
  {
   "cell_type": "code",
   "execution_count": 36,
   "metadata": {},
   "outputs": [
    {
     "data": {
      "text/plain": [
       "(5000, 9)"
      ]
     },
     "execution_count": 36,
     "metadata": {},
     "output_type": "execute_result"
    }
   ],
   "source": [
    "five_star_5k = five_star.iloc[random.sample(range(five_star.shape[0]), 5000), :]\n",
    "five_star_5k.shape"
   ]
  },
  {
   "cell_type": "code",
   "execution_count": 38,
   "metadata": {},
   "outputs": [
    {
     "data": {
      "text/plain": [
       "(25000, 9)"
      ]
     },
     "execution_count": 38,
     "metadata": {},
     "output_type": "execute_result"
    }
   ],
   "source": [
    "balanced_5k = pd.concat([one_star_5k, two_star_5k, \n",
    "                         three_star_5k, four_star_5k, five_star_5k])\n",
    "balanced_5k.shape"
   ]
  },
  {
   "cell_type": "markdown",
   "metadata": {},
   "source": [
    "## Save the balanced training set"
   ]
  },
  {
   "cell_type": "code",
   "execution_count": 42,
   "metadata": {},
   "outputs": [],
   "source": [
    "pickle_out = open(\"pickles/five_k_balanced_reviews.pkl\",\"wb\")\n",
    "pickle.dump(balanced_5k, pickle_out)\n",
    "pickle_out.close()"
   ]
  },
  {
   "cell_type": "code",
   "execution_count": 41,
   "metadata": {},
   "outputs": [
    {
     "data": {
      "text/html": [
       "<div>\n",
       "<style scoped>\n",
       "    .dataframe tbody tr th:only-of-type {\n",
       "        vertical-align: middle;\n",
       "    }\n",
       "\n",
       "    .dataframe tbody tr th {\n",
       "        vertical-align: top;\n",
       "    }\n",
       "\n",
       "    .dataframe thead th {\n",
       "        text-align: right;\n",
       "    }\n",
       "</style>\n",
       "<table border=\"1\" class=\"dataframe\">\n",
       "  <thead>\n",
       "    <tr style=\"text-align: right;\">\n",
       "      <th></th>\n",
       "      <th>reviewerID</th>\n",
       "      <th>asin</th>\n",
       "      <th>reviewerName</th>\n",
       "      <th>helpful</th>\n",
       "      <th>reviewText</th>\n",
       "      <th>overall</th>\n",
       "      <th>summary</th>\n",
       "      <th>unixReviewTime</th>\n",
       "      <th>reviewTime</th>\n",
       "    </tr>\n",
       "  </thead>\n",
       "  <tbody>\n",
       "    <tr>\n",
       "      <th>138383</th>\n",
       "      <td>AE9NP2WIYTMI9</td>\n",
       "      <td>078323418X</td>\n",
       "      <td>Joan M. Mckeown \"jmmckeown\"</td>\n",
       "      <td>[1, 10]</td>\n",
       "      <td>ANOTHER MOVIE ABOUT A WOULD BE WRITER THAT TRI...</td>\n",
       "      <td>2.0</td>\n",
       "      <td>IT'S ONLY ME, BUT:</td>\n",
       "      <td>1212278400</td>\n",
       "      <td>06 1, 2008</td>\n",
       "    </tr>\n",
       "    <tr>\n",
       "      <th>155800</th>\n",
       "      <td>A3OYASZGCY895L</td>\n",
       "      <td>0784010218</td>\n",
       "      <td>Renee Marez-Korn</td>\n",
       "      <td>[0, 2]</td>\n",
       "      <td>This is my favorite movie.  After ordering it ...</td>\n",
       "      <td>1.0</td>\n",
       "      <td>Not Happy</td>\n",
       "      <td>1396915200</td>\n",
       "      <td>04 8, 2014</td>\n",
       "    </tr>\n",
       "    <tr>\n",
       "      <th>145391</th>\n",
       "      <td>A9Q28YTLYREO7</td>\n",
       "      <td>0783240295</td>\n",
       "      <td>mistermaxxx08 \"mistermaxxx08\"</td>\n",
       "      <td>[0, 1]</td>\n",
       "      <td>this film has-been done already countless time...</td>\n",
       "      <td>1.0</td>\n",
       "      <td>Very Boring</td>\n",
       "      <td>960768000</td>\n",
       "      <td>06 12, 2000</td>\n",
       "    </tr>\n",
       "    <tr>\n",
       "      <th>154741</th>\n",
       "      <td>ATU6AN7OFVO0M</td>\n",
       "      <td>0784010188</td>\n",
       "      <td>Wolf \"Armin Haghighi\"</td>\n",
       "      <td>[3, 7]</td>\n",
       "      <td>There are several complains about this DVD rel...</td>\n",
       "      <td>3.0</td>\n",
       "      <td>Watching a H.D. movie in a 17\" monitor is not ...</td>\n",
       "      <td>1118188800</td>\n",
       "      <td>06 8, 2005</td>\n",
       "    </tr>\n",
       "    <tr>\n",
       "      <th>185070</th>\n",
       "      <td>A18ZRQ48M7YOW3</td>\n",
       "      <td>0790705141</td>\n",
       "      <td>Klodi</td>\n",
       "      <td>[0, 0]</td>\n",
       "      <td>Not a really scary movie. But for the time it ...</td>\n",
       "      <td>3.0</td>\n",
       "      <td>Old, not scary but good.</td>\n",
       "      <td>1386028800</td>\n",
       "      <td>12 3, 2013</td>\n",
       "    </tr>\n",
       "    <tr>\n",
       "      <th>185353</th>\n",
       "      <td>AF2HPRA25HQTV</td>\n",
       "      <td>0790705141</td>\n",
       "      <td>Richard DeMayo</td>\n",
       "      <td>[0, 0]</td>\n",
       "      <td>This is a Horror Classic if there ever was one...</td>\n",
       "      <td>5.0</td>\n",
       "      <td>Jack Nicholson</td>\n",
       "      <td>1390521600</td>\n",
       "      <td>01 24, 2014</td>\n",
       "    </tr>\n",
       "    <tr>\n",
       "      <th>18715</th>\n",
       "      <td>AL7IF01KP3MYI</td>\n",
       "      <td>0767802535</td>\n",
       "      <td>Tara P. Konen</td>\n",
       "      <td>[0, 0]</td>\n",
       "      <td>A friend recommended I watch this movie after ...</td>\n",
       "      <td>4.0</td>\n",
       "      <td>Pleasantly surprised!</td>\n",
       "      <td>1383091200</td>\n",
       "      <td>10 30, 2013</td>\n",
       "    </tr>\n",
       "    <tr>\n",
       "      <th>84061</th>\n",
       "      <td>A1488EGXSWK08Y</td>\n",
       "      <td>0780651359</td>\n",
       "      <td>joyce</td>\n",
       "      <td>[0, 0]</td>\n",
       "      <td>This movie remains enjoyable as a look back at...</td>\n",
       "      <td>2.0</td>\n",
       "      <td>Nostalgic giggles</td>\n",
       "      <td>1394409600</td>\n",
       "      <td>03 10, 2014</td>\n",
       "    </tr>\n",
       "    <tr>\n",
       "      <th>119876</th>\n",
       "      <td>AKD644GTM1ZKG</td>\n",
       "      <td>0783226705</td>\n",
       "      <td>R.L. Roland</td>\n",
       "      <td>[2, 4]</td>\n",
       "      <td>\"The Great Gatsby\" with Alan Ladd DVD that I r...</td>\n",
       "      <td>1.0</td>\n",
       "      <td>Caveat Emptor</td>\n",
       "      <td>1383004800</td>\n",
       "      <td>10 29, 2013</td>\n",
       "    </tr>\n",
       "    <tr>\n",
       "      <th>175715</th>\n",
       "      <td>A2FKW3RD0ITF93</td>\n",
       "      <td>0788828126</td>\n",
       "      <td>Elizabeth Parks</td>\n",
       "      <td>[0, 0]</td>\n",
       "      <td>Movie seems kind of boot leg and when i reciev...</td>\n",
       "      <td>2.0</td>\n",
       "      <td>was not sasified with the product</td>\n",
       "      <td>1374105600</td>\n",
       "      <td>07 18, 2013</td>\n",
       "    </tr>\n",
       "    <tr>\n",
       "      <th>127038</th>\n",
       "      <td>A2U7BJ7B165QN3</td>\n",
       "      <td>0783227884</td>\n",
       "      <td>Robert A. Olds \"robert o.\"</td>\n",
       "      <td>[0, 1]</td>\n",
       "      <td>This movie was ok.It was a little funny.It was...</td>\n",
       "      <td>3.0</td>\n",
       "      <td>The great outdoors</td>\n",
       "      <td>1358035200</td>\n",
       "      <td>01 13, 2013</td>\n",
       "    </tr>\n",
       "    <tr>\n",
       "      <th>95530</th>\n",
       "      <td>A1BD0IDVL32T2B</td>\n",
       "      <td>0783116926</td>\n",
       "      <td>yorgos dalman \"yorgos dalman\"</td>\n",
       "      <td>[7, 23]</td>\n",
       "      <td>I had finaly seen \"The Changeling\" after readi...</td>\n",
       "      <td>2.0</td>\n",
       "      <td>The spirits disappoint us ths time</td>\n",
       "      <td>1151107200</td>\n",
       "      <td>06 24, 2006</td>\n",
       "    </tr>\n",
       "    <tr>\n",
       "      <th>97137</th>\n",
       "      <td>A1BMQA5PIZKU1P</td>\n",
       "      <td>0783211856</td>\n",
       "      <td>Bryan \"Dragonboots\"</td>\n",
       "      <td>[2, 3]</td>\n",
       "      <td>The movie itself gets 5 stars, but this review...</td>\n",
       "      <td>5.0</td>\n",
       "      <td>Boycott Universal DVD-18s double sided discs</td>\n",
       "      <td>1078963200</td>\n",
       "      <td>03 11, 2004</td>\n",
       "    </tr>\n",
       "    <tr>\n",
       "      <th>143036</th>\n",
       "      <td>A3EE8QR877HEIM</td>\n",
       "      <td>0783239408</td>\n",
       "      <td>michael d. chlanda</td>\n",
       "      <td>[1, 2]</td>\n",
       "      <td>This first time effort from Director Sam Mende...</td>\n",
       "      <td>5.0</td>\n",
       "      <td>Twisted, funny, poignant, excellent; Spacey ru...</td>\n",
       "      <td>1058140800</td>\n",
       "      <td>07 14, 2003</td>\n",
       "    </tr>\n",
       "    <tr>\n",
       "      <th>103823</th>\n",
       "      <td>A3H5G5C22IJ47H</td>\n",
       "      <td>0783219806</td>\n",
       "      <td>Laureen W. Grubb</td>\n",
       "      <td>[0, 0]</td>\n",
       "      <td>This is really great.  However, it seemed ther...</td>\n",
       "      <td>4.0</td>\n",
       "      <td>THE LITTLE RASCALS:</td>\n",
       "      <td>1360281600</td>\n",
       "      <td>02 8, 2013</td>\n",
       "    </tr>\n",
       "  </tbody>\n",
       "</table>\n",
       "</div>"
      ],
      "text/plain": [
       "            reviewerID        asin                   reviewerName  helpful  \\\n",
       "138383   AE9NP2WIYTMI9  078323418X    Joan M. Mckeown \"jmmckeown\"  [1, 10]   \n",
       "155800  A3OYASZGCY895L  0784010218               Renee Marez-Korn   [0, 2]   \n",
       "145391   A9Q28YTLYREO7  0783240295  mistermaxxx08 \"mistermaxxx08\"   [0, 1]   \n",
       "154741   ATU6AN7OFVO0M  0784010188          Wolf \"Armin Haghighi\"   [3, 7]   \n",
       "185070  A18ZRQ48M7YOW3  0790705141                          Klodi   [0, 0]   \n",
       "185353   AF2HPRA25HQTV  0790705141                 Richard DeMayo   [0, 0]   \n",
       "18715    AL7IF01KP3MYI  0767802535                  Tara P. Konen   [0, 0]   \n",
       "84061   A1488EGXSWK08Y  0780651359                          joyce   [0, 0]   \n",
       "119876   AKD644GTM1ZKG  0783226705                    R.L. Roland   [2, 4]   \n",
       "175715  A2FKW3RD0ITF93  0788828126                Elizabeth Parks   [0, 0]   \n",
       "127038  A2U7BJ7B165QN3  0783227884     Robert A. Olds \"robert o.\"   [0, 1]   \n",
       "95530   A1BD0IDVL32T2B  0783116926  yorgos dalman \"yorgos dalman\"  [7, 23]   \n",
       "97137   A1BMQA5PIZKU1P  0783211856            Bryan \"Dragonboots\"   [2, 3]   \n",
       "143036  A3EE8QR877HEIM  0783239408             michael d. chlanda   [1, 2]   \n",
       "103823  A3H5G5C22IJ47H  0783219806               Laureen W. Grubb   [0, 0]   \n",
       "\n",
       "                                               reviewText  overall  \\\n",
       "138383  ANOTHER MOVIE ABOUT A WOULD BE WRITER THAT TRI...      2.0   \n",
       "155800  This is my favorite movie.  After ordering it ...      1.0   \n",
       "145391  this film has-been done already countless time...      1.0   \n",
       "154741  There are several complains about this DVD rel...      3.0   \n",
       "185070  Not a really scary movie. But for the time it ...      3.0   \n",
       "185353  This is a Horror Classic if there ever was one...      5.0   \n",
       "18715   A friend recommended I watch this movie after ...      4.0   \n",
       "84061   This movie remains enjoyable as a look back at...      2.0   \n",
       "119876  \"The Great Gatsby\" with Alan Ladd DVD that I r...      1.0   \n",
       "175715  Movie seems kind of boot leg and when i reciev...      2.0   \n",
       "127038  This movie was ok.It was a little funny.It was...      3.0   \n",
       "95530   I had finaly seen \"The Changeling\" after readi...      2.0   \n",
       "97137   The movie itself gets 5 stars, but this review...      5.0   \n",
       "143036  This first time effort from Director Sam Mende...      5.0   \n",
       "103823  This is really great.  However, it seemed ther...      4.0   \n",
       "\n",
       "                                                  summary  unixReviewTime  \\\n",
       "138383                                 IT'S ONLY ME, BUT:      1212278400   \n",
       "155800                                          Not Happy      1396915200   \n",
       "145391                                        Very Boring       960768000   \n",
       "154741  Watching a H.D. movie in a 17\" monitor is not ...      1118188800   \n",
       "185070                           Old, not scary but good.      1386028800   \n",
       "185353                                     Jack Nicholson      1390521600   \n",
       "18715                               Pleasantly surprised!      1383091200   \n",
       "84061                                   Nostalgic giggles      1394409600   \n",
       "119876                                      Caveat Emptor      1383004800   \n",
       "175715                  was not sasified with the product      1374105600   \n",
       "127038                                 The great outdoors      1358035200   \n",
       "95530                  The spirits disappoint us ths time      1151107200   \n",
       "97137        Boycott Universal DVD-18s double sided discs      1078963200   \n",
       "143036  Twisted, funny, poignant, excellent; Spacey ru...      1058140800   \n",
       "103823                                THE LITTLE RASCALS:      1360281600   \n",
       "\n",
       "         reviewTime  \n",
       "138383   06 1, 2008  \n",
       "155800   04 8, 2014  \n",
       "145391  06 12, 2000  \n",
       "154741   06 8, 2005  \n",
       "185070   12 3, 2013  \n",
       "185353  01 24, 2014  \n",
       "18715   10 30, 2013  \n",
       "84061   03 10, 2014  \n",
       "119876  10 29, 2013  \n",
       "175715  07 18, 2013  \n",
       "127038  01 13, 2013  \n",
       "95530   06 24, 2006  \n",
       "97137   03 11, 2004  \n",
       "143036  07 14, 2003  \n",
       "103823   02 8, 2013  "
      ]
     },
     "execution_count": 41,
     "metadata": {},
     "output_type": "execute_result"
    }
   ],
   "source": [
    "balanced_5k.iloc[random.sample(range(25000), 15), :]"
   ]
  },
  {
   "cell_type": "code",
   "execution_count": null,
   "metadata": {},
   "outputs": [],
   "source": []
  }
 ],
 "metadata": {
  "kernelspec": {
   "display_name": "Python 3",
   "language": "python",
   "name": "python3"
  },
  "language_info": {
   "codemirror_mode": {
    "name": "ipython",
    "version": 3
   },
   "file_extension": ".py",
   "mimetype": "text/x-python",
   "name": "python",
   "nbconvert_exporter": "python",
   "pygments_lexer": "ipython3",
   "version": "3.7.1"
  }
 },
 "nbformat": 4,
 "nbformat_minor": 2
}
